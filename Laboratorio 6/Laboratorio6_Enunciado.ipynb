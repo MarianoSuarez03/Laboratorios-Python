{
 "cells": [
  {
   "cell_type": "markdown",
   "source": "<h1><center>Laboratorio 6: La desperación de Mr. Lepin 🐼</center></h1>\n\n<center><strong>MDS7202: Laboratorio de Programación Científica para Ciencia de Datos</strong></center>",
   "metadata": {
    "id": "XUZ1dFPHzAHl",
    "cell_id": "00000-d883b314-09da-429e-a3a3-57745182fbf1",
    "deepnote_cell_type": "markdown"
   }
  },
  {
   "cell_type": "markdown",
   "source": "### Cuerpo Docente:\n\n- Profesor: Pablo Badilla\n- Auxiliar: Ignacio Meza D.\n- Ayudante: Constanza Peña",
   "metadata": {
    "id": "UD8X1uhGzAHq",
    "cell_id": "00001-311235ca-1e52-4b99-a8ed-ecc0efb3fddd",
    "deepnote_cell_type": "markdown"
   }
  },
  {
   "cell_type": "markdown",
   "source": "### Equipo: SUPER IMPORTANTE - notebooks sin nombre no serán revisados\n\n- Nombre de alumno 1: Rodrigo Guerra\n- Nombre de alumno 2: Mariano Suárez\n",
   "metadata": {
    "id": "tXflExjqzAHr",
    "cell_id": "00002-6c6c932b-c2ca-4e5c-8f35-4bcf76e99ae9",
    "deepnote_cell_type": "markdown"
   }
  },
  {
   "cell_type": "markdown",
   "source": "### **Link de repositorio de GitHub:** `https://github.com/MarianoSuarez03/Laboratorios-Python`",
   "metadata": {
    "id": "AD-V0bbZzAHr",
    "cell_id": "00003-78f31a0b-b9ea-415b-b6b1-c31406be9140",
    "deepnote_cell_type": "markdown"
   }
  },
  {
   "cell_type": "markdown",
   "source": "### Indice \n\n1. [Temas a tratar](#Temas-a-tratar:)\n3. [Descripcción del laboratorio](#Descripción-del-laboratorio.)\n4. [Desarrollo](#Desarrollo)",
   "metadata": {
    "id": "EcnsiQMkzAHr",
    "cell_id": "00004-813a4b9f-ec89-4439-9b6e-4d6558759415",
    "deepnote_cell_type": "markdown"
   }
  },
  {
   "cell_type": "markdown",
   "source": "# Temas a tratar\n\n- Aplicar Pandas para obtener características de un DataFrame.\n- Aplicar Pipelines.\n- Aplicar Clusters sobre un conjunto de datos.\n\n## Reglas:\n\n- Fecha de entrega: 12/11/2021\n- **Grupos de 2 personas**\n- **Ausentes** deberán realizar la actividad solos. \n- Cualquier duda fuera del horario de clases al foro. Mensajes al equipo docente serán respondidos por este medio.\n- Prohibidas las copias. \n- Pueden usar cualquer matrial del curso que estimen conveniente.\n\n### Objetivos principales del laboratorio\n\n- Comprender y aprovechar las ventajas que nos ofrece la librería `pandas` con respecto a trabajar en Python 'puro'.\n- Crear nuevas características para entrenar un modelo de clustering.\n- Comprender como aplicar pipelines de Scikit-Learn para generar procesos más limpios.\n\nEl laboratorio deberá ser desarrollado sin el uso indiscriminado de iteradores nativos de python (aka \"for\", \"while\"). La idea es que aprendan a exprimir al máximo las funciones optimizadas que nos entrega `numpy`, las cuales vale mencionar, son bastante más eficientes que los iteradores nativos sobre arreglos (*o tensores*).",
   "metadata": {
    "id": "6uBLPj1PzAHs",
    "cell_id": "00005-30720d0a-a8ea-4112-8a56-7830fced4c1e",
    "deepnote_cell_type": "markdown"
   }
  },
  {
   "cell_type": "markdown",
   "source": "## Descripción del laboratorio.",
   "metadata": {
    "id": "wrG4gYabzAHs",
    "cell_id": "00006-0d097eb1-85d1-4f26-8119-593d58e99a79",
    "deepnote_cell_type": "markdown"
   }
  },
  {
   "cell_type": "markdown",
   "source": "### Importamos librerias utiles 😸",
   "metadata": {
    "id": "MhISwri4zAHy",
    "cell_id": "00007-b3b99a7c-5696-433b-a20c-3c6acdd9eb76",
    "deepnote_cell_type": "markdown"
   }
  },
  {
   "cell_type": "code",
   "metadata": {
    "ExecuteTime": {
     "end_time": "2021-03-29T00:08:16.884674Z",
     "start_time": "2021-03-29T00:08:16.349846Z"
    },
    "id": "uyc33dKdzAHy",
    "colab": {
     "base_uri": "https://localhost:8080/"
    },
    "executionInfo": {
     "status": "ok",
     "timestamp": 1619926444128,
     "user_tz": 240,
     "elapsed": 7340,
     "user": {
      "displayName": "IGNACIO ALEJANDRO MEZA",
      "photoUrl": "",
      "userId": "17011121633069169364"
     }
    },
    "outputId": "275fee3c-4ef0-4bfb-acb7-e318d613bdce",
    "deepnote_to_be_reexecuted": false,
    "source_hash": "a3741fd5",
    "execution_start": 1636686071142,
    "execution_millis": 7448,
    "cell_id": "00008-147c370f-05a3-40e6-88ce-931f568c02ba",
    "deepnote_cell_type": "code"
   },
   "source": "# Libreria Core del lab.\nimport numpy as np\nimport pandas as pd\nimport datetime\nfrom IPython.display import HTML\n\n# Libreria para plotear (En colab esta desactualizado plotly)\n!pip install --upgrade plotly\nimport plotly.express as px\nimport plotly.graph_objects as go\n\n# Librerias utiles\nfrom sklearn.manifold import TSNE\nfrom sklearn.cluster import KMeans\nfrom sklearn.base import BaseEstimator, TransformerMixin\nfrom sklearn.model_selection import train_test_split \nfrom sklearn.pipeline import Pipeline\nfrom sklearn.compose import ColumnTransformer\nfrom sklearn.preprocessing import FunctionTransformer",
   "execution_count": null,
   "outputs": [
    {
     "name": "stdout",
     "text": "Requirement already satisfied: plotly in /shared-libs/python3.7/py/lib/python3.7/site-packages (5.3.1)\nRequirement already satisfied: tenacity>=6.2.0 in /shared-libs/python3.7/py/lib/python3.7/site-packages (from plotly) (8.0.1)\nRequirement already satisfied: six in /shared-libs/python3.7/py-core/lib/python3.7/site-packages (from plotly) (1.16.0)\n",
     "output_type": "stream"
    }
   ]
  },
  {
   "cell_type": "code",
   "metadata": {
    "id": "gQ0-zPV4NNrq",
    "deepnote_to_be_reexecuted": false,
    "source_hash": "c60dc4a7",
    "execution_start": 1636680781943,
    "execution_millis": 88,
    "cell_id": "00009-8a73dd07-b0c0-471a-8db1-e539107fe785",
    "deepnote_cell_type": "code"
   },
   "source": "# Si usted está utilizando Colabolatory le puede ser útil este código para cargar los archivos.\ntry:\n    from google.colab import drive\n    drive.mount(\"/content/drive\")\n    path = 'Dirección donde tiene los archivos en el Drive'\nexcept: \n    print('Ignorando conexión drive-colab')",
   "execution_count": null,
   "outputs": [
    {
     "name": "stdout",
     "text": "Ignorando conexión drive-colab\n",
     "output_type": "stream"
    }
   ]
  },
  {
   "cell_type": "markdown",
   "source": "<p align=\"center\"><iframe width=\"560\" height=\"315\" src=\"https://www.youtube.com/embed/MW4d8_LLYp8?rel=0&amp;controls=0&amp;showinfo=0\" frameborder=\"1\" allowfullscreen></iframe></p>",
   "metadata": {
    "tags": [],
    "cell_id": "00010-56ea896a-98bf-4f18-b240-c17333fbccf3",
    "deepnote_cell_type": "markdown"
   }
  },
  {
   "cell_type": "markdown",
   "source": "# Segmentación de Clientes en Tienda de Retail 🛍️",
   "metadata": {
    "id": "QDwIXTh7bK_A",
    "cell_id": "00011-44ff4b7f-0721-4a5a-91cf-0fed38291eb2",
    "deepnote_cell_type": "markdown"
   }
  },
  {
   "cell_type": "markdown",
   "source": "<p align=\"center\">\n  <img width=300 src=\"https://s1.eestatic.com/2018/04/14/social/la_jungla_-_social_299733421_73842361_854x640.jpg\">\n</p>",
   "metadata": {
    "tags": [],
    "cell_id": "00012-3f997299-ad75-4cd4-80b4-839d33c07b2a",
    "deepnote_cell_type": "markdown"
   }
  },
  {
   "cell_type": "markdown",
   "source": "## 1.1 Cargar Dataset",
   "metadata": {
    "tags": [],
    "cell_id": "00013-21aecb33-d28d-4fcb-93db-67307326ab2b",
    "deepnote_cell_type": "markdown"
   }
  },
  {
   "cell_type": "markdown",
   "source": "Mr. Lepin, en una nueva reunión, le cuenta a ud y su equipo que los resultados derivados del análisis exploratorio de dato presentaron una gran utilidad para la empresa y que tiene un gran entusiasmo por continuar trabajando con ustedes.\nEs por esto, que Mr. Lepin les pide que cargue y visualicen algunas de las filas que componen el Dataset.\nA continuación un extracto de lo parlamentado en la reunión:\n\n    - Usted: Es un gran logro para nuestro equipo que usted haya encontrado excelente el EDA. ¿Qué tiene en mente ahora?\n    - Mr. Lepin: Resulta que hace algún tiempo, mientras tomaba un mojito en una reunión de gerentes en Panamá, oí a un *chato* acerca de **LRMFP**, que es un modelo que permite personificar a los clientes a través de la farbicación de distintos atributos que describen a los clientes. Lo encontré es-tu-pendo ñatito. \n    - Usted: Ehh bueno. Investigaremos acerca de este modelo y veremos lo que podemos hacer.\n\nPor ende, su siguiente tarea es calcular **LRMFP** sobre cada cliente y luego hacer un análisis de las características generadas. Para esto, el área de ventas les entrega un nuevo archivo llamado `online_retail_II_cleaned.pickle`, quien posee los datos del DataFrame original limpios y listos para obtener las características solicitadas por Mr. Lepin.",
   "metadata": {
    "tags": [],
    "cell_id": "00014-bfeb4dba-666e-4613-af4b-c609a72df95e",
    "deepnote_cell_type": "markdown"
   }
  },
  {
   "cell_type": "code",
   "metadata": {
    "id": "7FNOu-CvjV5m",
    "colab": {
     "base_uri": "https://localhost:8080/",
     "height": 204
    },
    "executionInfo": {
     "status": "ok",
     "timestamp": 1619717831933,
     "user_tz": 240,
     "elapsed": 77353,
     "user": {
      "displayName": "IGNACIO ALEJANDRO MEZA",
      "photoUrl": "",
      "userId": "17011121633069169364"
     }
    },
    "outputId": "90b4f92c-71df-44d4-8084-4dd06a6179e4",
    "deepnote_to_be_reexecuted": false,
    "source_hash": "d52b246c",
    "execution_start": 1636686078601,
    "execution_millis": 449,
    "cell_id": "00015-9f304f85-cc91-43d5-b9e0-e16decca6cd0",
    "deepnote_cell_type": "code"
   },
   "source": "df_retail = pd.read_pickle(\"online_retail_II_cleaned.pickle\")\ndf_retail = df_retail.astype(\n    {\n        \"Invoice\": \"category\",\n        \"StockCode\": \"category\",\n        \"Description\": \"category\",\n        \"Description\": str,\n        \"Customer ID\": \"category\",\n        \"Country\": \"category\"\n    }\n)\ndf_retail.head()\n",
   "execution_count": null,
   "outputs": [
    {
     "output_type": "execute_result",
     "execution_count": 3,
     "data": {
      "application/vnd.deepnote.dataframe.v2+json": {
       "row_count": 5,
       "column_count": 8,
       "columns": [
        {
         "name": "Invoice",
         "dtype": "category",
         "stats": {
          "unique_count": 1,
          "nan_count": 0,
          "categories": [
           {
            "name": "489434",
            "count": 5
           }
          ]
         }
        },
        {
         "name": "StockCode",
         "dtype": "category",
         "stats": {
          "unique_count": 5,
          "nan_count": 0,
          "categories": [
           {
            "name": "85048",
            "count": 1
           },
           {
            "name": "79323P",
            "count": 1
           },
           {
            "name": "3 others",
            "count": 3
           }
          ]
         }
        },
        {
         "name": "Description",
         "dtype": "object",
         "stats": {
          "unique_count": 5,
          "nan_count": 0,
          "categories": [
           {
            "name": "15CM CHRISTMAS GLASS BALL 20 LIGHTS",
            "count": 1
           },
           {
            "name": "PINK CHERRY LIGHTS",
            "count": 1
           },
           {
            "name": "3 others",
            "count": 3
           }
          ]
         }
        },
        {
         "name": "Quantity",
         "dtype": "int64",
         "stats": {
          "unique_count": 3,
          "nan_count": 0,
          "min": "12",
          "max": "48",
          "histogram": [
           {
            "bin_start": 12,
            "bin_end": 15.6,
            "count": 3
           },
           {
            "bin_start": 15.6,
            "bin_end": 19.2,
            "count": 0
           },
           {
            "bin_start": 19.2,
            "bin_end": 22.8,
            "count": 0
           },
           {
            "bin_start": 22.8,
            "bin_end": 26.4,
            "count": 1
           },
           {
            "bin_start": 26.4,
            "bin_end": 30,
            "count": 0
           },
           {
            "bin_start": 30,
            "bin_end": 33.6,
            "count": 0
           },
           {
            "bin_start": 33.6,
            "bin_end": 37.2,
            "count": 0
           },
           {
            "bin_start": 37.2,
            "bin_end": 40.8,
            "count": 0
           },
           {
            "bin_start": 40.8,
            "bin_end": 44.4,
            "count": 0
           },
           {
            "bin_start": 44.4,
            "bin_end": 48,
            "count": 1
           }
          ]
         }
        },
        {
         "name": "InvoiceDate",
         "dtype": "datetime64[ns]",
         "stats": {
          "unique_count": 1,
          "nan_count": 0,
          "min": "2009-12-01 07:45:00",
          "max": "2009-12-01 07:45:00",
          "histogram": null
         }
        },
        {
         "name": "Price",
         "dtype": "float64",
         "stats": {
          "unique_count": 4,
          "nan_count": 0,
          "min": "1.25",
          "max": "6.95",
          "histogram": [
           {
            "bin_start": 1.25,
            "bin_end": 1.82,
            "count": 1
           },
           {
            "bin_start": 1.82,
            "bin_end": 2.39,
            "count": 1
           },
           {
            "bin_start": 2.39,
            "bin_end": 2.96,
            "count": 0
           },
           {
            "bin_start": 2.96,
            "bin_end": 3.5300000000000002,
            "count": 0
           },
           {
            "bin_start": 3.5300000000000002,
            "bin_end": 4.1000000000000005,
            "count": 0
           },
           {
            "bin_start": 4.1000000000000005,
            "bin_end": 4.67,
            "count": 0
           },
           {
            "bin_start": 4.67,
            "bin_end": 5.24,
            "count": 0
           },
           {
            "bin_start": 5.24,
            "bin_end": 5.8100000000000005,
            "count": 0
           },
           {
            "bin_start": 5.8100000000000005,
            "bin_end": 6.380000000000001,
            "count": 0
           },
           {
            "bin_start": 6.380000000000001,
            "bin_end": 6.95,
            "count": 3
           }
          ]
         }
        },
        {
         "name": "Customer ID",
         "dtype": "category",
         "stats": {
          "unique_count": 1,
          "nan_count": 0,
          "categories": [
           {
            "name": "13085.0",
            "count": 5
           }
          ]
         }
        },
        {
         "name": "Country",
         "dtype": "category",
         "stats": {
          "unique_count": 1,
          "nan_count": 0,
          "categories": [
           {
            "name": "United Kingdom",
            "count": 5
           }
          ]
         }
        },
        {
         "name": "_deepnote_index_column",
         "dtype": "int64"
        }
       ],
       "rows_top": [
        {
         "Invoice": 489434,
         "StockCode": 85048,
         "Description": "15CM CHRISTMAS GLASS BALL 20 LIGHTS",
         "Quantity": 12,
         "InvoiceDate": "2009-12-01T07:45:00.000000",
         "Price": 6.95,
         "Customer ID": 13085,
         "Country": "United Kingdom",
         "_deepnote_index_column": 0
        },
        {
         "Invoice": 489434,
         "StockCode": "79323P",
         "Description": "PINK CHERRY LIGHTS",
         "Quantity": 12,
         "InvoiceDate": "2009-12-01T07:45:00.000000",
         "Price": 6.75,
         "Customer ID": 13085,
         "Country": "United Kingdom",
         "_deepnote_index_column": 1
        },
        {
         "Invoice": 489434,
         "StockCode": "79323W",
         "Description": " WHITE CHERRY LIGHTS",
         "Quantity": 12,
         "InvoiceDate": "2009-12-01T07:45:00.000000",
         "Price": 6.75,
         "Customer ID": 13085,
         "Country": "United Kingdom",
         "_deepnote_index_column": 2
        },
        {
         "Invoice": 489434,
         "StockCode": 22041,
         "Description": "RECORD FRAME 7\" SINGLE SIZE ",
         "Quantity": 48,
         "InvoiceDate": "2009-12-01T07:45:00.000000",
         "Price": 2.1,
         "Customer ID": 13085,
         "Country": "United Kingdom",
         "_deepnote_index_column": 3
        },
        {
         "Invoice": 489434,
         "StockCode": 21232,
         "Description": "STRAWBERRY CERAMIC TRINKET BOX",
         "Quantity": 24,
         "InvoiceDate": "2009-12-01T07:45:00.000000",
         "Price": 1.25,
         "Customer ID": 13085,
         "Country": "United Kingdom",
         "_deepnote_index_column": 4
        }
       ],
       "rows_bottom": null
      },
      "text/plain": "  Invoice StockCode                          Description  Quantity  \\\n0  489434     85048  15CM CHRISTMAS GLASS BALL 20 LIGHTS        12   \n1  489434    79323P                   PINK CHERRY LIGHTS        12   \n2  489434    79323W                  WHITE CHERRY LIGHTS        12   \n3  489434     22041         RECORD FRAME 7\" SINGLE SIZE         48   \n4  489434     21232       STRAWBERRY CERAMIC TRINKET BOX        24   \n\n          InvoiceDate  Price Customer ID         Country  \n0 2009-12-01 07:45:00   6.95     13085.0  United Kingdom  \n1 2009-12-01 07:45:00   6.75     13085.0  United Kingdom  \n2 2009-12-01 07:45:00   6.75     13085.0  United Kingdom  \n3 2009-12-01 07:45:00   2.10     13085.0  United Kingdom  \n4 2009-12-01 07:45:00   1.25     13085.0  United Kingdom  ",
      "text/html": "<div>\n<style scoped>\n    .dataframe tbody tr th:only-of-type {\n        vertical-align: middle;\n    }\n\n    .dataframe tbody tr th {\n        vertical-align: top;\n    }\n\n    .dataframe thead th {\n        text-align: right;\n    }\n</style>\n<table border=\"1\" class=\"dataframe\">\n  <thead>\n    <tr style=\"text-align: right;\">\n      <th></th>\n      <th>Invoice</th>\n      <th>StockCode</th>\n      <th>Description</th>\n      <th>Quantity</th>\n      <th>InvoiceDate</th>\n      <th>Price</th>\n      <th>Customer ID</th>\n      <th>Country</th>\n    </tr>\n  </thead>\n  <tbody>\n    <tr>\n      <th>0</th>\n      <td>489434</td>\n      <td>85048</td>\n      <td>15CM CHRISTMAS GLASS BALL 20 LIGHTS</td>\n      <td>12</td>\n      <td>2009-12-01 07:45:00</td>\n      <td>6.95</td>\n      <td>13085.0</td>\n      <td>United Kingdom</td>\n    </tr>\n    <tr>\n      <th>1</th>\n      <td>489434</td>\n      <td>79323P</td>\n      <td>PINK CHERRY LIGHTS</td>\n      <td>12</td>\n      <td>2009-12-01 07:45:00</td>\n      <td>6.75</td>\n      <td>13085.0</td>\n      <td>United Kingdom</td>\n    </tr>\n    <tr>\n      <th>2</th>\n      <td>489434</td>\n      <td>79323W</td>\n      <td>WHITE CHERRY LIGHTS</td>\n      <td>12</td>\n      <td>2009-12-01 07:45:00</td>\n      <td>6.75</td>\n      <td>13085.0</td>\n      <td>United Kingdom</td>\n    </tr>\n    <tr>\n      <th>3</th>\n      <td>489434</td>\n      <td>22041</td>\n      <td>RECORD FRAME 7\" SINGLE SIZE</td>\n      <td>48</td>\n      <td>2009-12-01 07:45:00</td>\n      <td>2.10</td>\n      <td>13085.0</td>\n      <td>United Kingdom</td>\n    </tr>\n    <tr>\n      <th>4</th>\n      <td>489434</td>\n      <td>21232</td>\n      <td>STRAWBERRY CERAMIC TRINKET BOX</td>\n      <td>24</td>\n      <td>2009-12-01 07:45:00</td>\n      <td>1.25</td>\n      <td>13085.0</td>\n      <td>United Kingdom</td>\n    </tr>\n  </tbody>\n</table>\n</div>"
     },
     "metadata": {}
    }
   ]
  },
  {
   "cell_type": "code",
   "metadata": {
    "tags": [],
    "cell_id": "00016-40d03dab-6cc7-4ef7-ba03-d3225de0fed6",
    "deepnote_to_be_reexecuted": false,
    "source_hash": "16974960",
    "execution_start": 1636680782441,
    "execution_millis": 2,
    "deepnote_cell_type": "code"
   },
   "source": "df_retail['InvoiceDate'].max()",
   "execution_count": null,
   "outputs": [
    {
     "output_type": "execute_result",
     "execution_count": 4,
     "data": {
      "text/plain": "Timestamp('2010-12-09 20:01:00')"
     },
     "metadata": {}
    }
   ]
  },
  {
   "cell_type": "code",
   "metadata": {
    "tags": [],
    "cell_id": "00016-5a441911-87ba-474f-937f-f7a6d0b80791",
    "deepnote_to_be_reexecuted": false,
    "source_hash": "fb8bb2b8",
    "execution_start": 1636680782442,
    "execution_millis": 386,
    "deepnote_cell_type": "code"
   },
   "source": "df_retail['Recency'] = (df_retail['InvoiceDate'].max() - df_retail['InvoiceDate']).dt.days()",
   "execution_count": null,
   "outputs": [
    {
     "output_type": "error",
     "ename": "TypeError",
     "evalue": "'Series' object is not callable",
     "traceback": [
      "\u001b[0;31m---------------------------------------------------------------------------\u001b[0m",
      "\u001b[0;31mTypeError\u001b[0m                                 Traceback (most recent call last)",
      "\u001b[0;32m<ipython-input-5-6513e99fc925>\u001b[0m in \u001b[0;36m<module>\u001b[0;34m\u001b[0m\n\u001b[0;32m----> 1\u001b[0;31m \u001b[0mdf_retail\u001b[0m\u001b[0;34m[\u001b[0m\u001b[0;34m'Recency'\u001b[0m\u001b[0;34m]\u001b[0m \u001b[0;34m=\u001b[0m \u001b[0;34m(\u001b[0m\u001b[0mdf_retail\u001b[0m\u001b[0;34m[\u001b[0m\u001b[0;34m'InvoiceDate'\u001b[0m\u001b[0;34m]\u001b[0m\u001b[0;34m.\u001b[0m\u001b[0mmax\u001b[0m\u001b[0;34m(\u001b[0m\u001b[0;34m)\u001b[0m \u001b[0;34m-\u001b[0m \u001b[0mdf_retail\u001b[0m\u001b[0;34m[\u001b[0m\u001b[0;34m'InvoiceDate'\u001b[0m\u001b[0;34m]\u001b[0m\u001b[0;34m)\u001b[0m\u001b[0;34m.\u001b[0m\u001b[0mdt\u001b[0m\u001b[0;34m.\u001b[0m\u001b[0mdays\u001b[0m\u001b[0;34m(\u001b[0m\u001b[0;34m)\u001b[0m\u001b[0;34m\u001b[0m\u001b[0;34m\u001b[0m\u001b[0m\n\u001b[0m",
      "\u001b[0;31mTypeError\u001b[0m: 'Series' object is not callable"
     ]
    }
   ]
  },
  {
   "cell_type": "markdown",
   "source": "## 1.2 Creación de nuevas Caracteristicas [2 Puntos] ",
   "metadata": {
    "tags": [],
    "cell_id": "00016-245c3eeb-d33d-4da1-b738-a91d4e055fa1",
    "deepnote_cell_type": "markdown"
   }
  },
  {
   "cell_type": "markdown",
   "source": "Como ya se les comento, Mr. Lepin esta interesado en obtener las características **LRMFP**, para esto les señala que estas características se construyen en base a las siguientes definiciones:\n\n- **Length (L)**: Intervalo de tiempo, en días, entre la primera y la última visita del cliente. Mientras mas grande sea el valor, mas fiel es el cliente.\n- **Recency (R)**: Indica la actualidad de la interacción de un cliente con la empresa, y da información sobre la tendencia a repetir la compra. Se define como: \n$$Recency(n)=\\dfrac{1}{n} \\sum^n_{i=1} date\\_diff(t_{fecha final}, t_{m-i+1})$$\n\n Donde $date\\_diff$ representa la diferencia en días entre la fecha de finalización del periodo de observación ($t_{fecha final}$), y la fecha de una visita del cliente cercana a $t_{fecha final}$, $t_{m-i+1}; t_{m}$ es la última visita del cliente; y n es el número de visitas recientes del cliente consideradas.\n\n- **Monetary (M)**: El término \"monetario\" se refiere a la cantidad media de dinero gastada por cada visita del cliente durante el período de observación y refleja la contribución del cliente a los ingresos de la empresa.\n\n- **Frequency (F)**: Se refiere al número total de visitas del cliente durante el periodo de observación. Cuanto mayor sea la frecuencia, mayor será la fidelidad del cliente. \n\n- **Periodicity (P)**: Representa si los clientes visitan las tiendas con regularidad.\n\n$$Periodicity(n)=std(IVT_1, ..., IVT_n)$$\n\n&nbsp;&nbsp; &nbsp;&nbsp;&nbsp;&nbsp;&nbsp;&nbsp;Donde $IVT$ denota el tiempo entre visitas y n representa el número de valores de tiempo entre visitas de un cliente.\n \n\n$$IVT_i=date\\_diff(t_{i+1},t)$$\n\nEn base a las definiciones señaladas, diseñe una función que permita obtener las características **LRMFP** recibiendo un DataFrame como entrada. Para esto, no estará permitido el uso de iteradores, utilice todas las herramientas que les ofrece `pandas` para realizar esto.\n\nUna referencia que le puede ser útil es el [documento original](https://www.researchgate.net/publication/315979555_LRFMP_model_for_customer_segmentation_in_the_grocery_retail_industry_a_case_study) en donde se propone este método.\n\n**Nota:** Para la $fechafinal$ utilice la fecha máxima del dataset más 1 día.",
   "metadata": {
    "tags": [],
    "cell_id": "00017-011b89ed-d830-4f8e-9e4d-2c8d156651c3",
    "deepnote_cell_type": "markdown"
   }
  },
  {
   "cell_type": "markdown",
   "source": "**Ejemplo de Resultado Esperado:**\n\n| Customer ID | Length | Recency | Frequency | Monetary | Periodicity |\n|------------:|-------:|--------:|----------:|---------:|------------:|\n|   12346.0   |    294 |      67 |        46 |   -64.68 |        37.0 |\n|   12347.0   |     37 |       3 |        71 |  1323.32 |         0.0 |\n|   12349.0   |    327 |      43 |       107 |  2646.99 |        78.0 |\n|   12352.0   |     16 |      11 |        18 |   343.80 |         0.0 |\n|   12356.0   |     44 |      16 |        84 |  3562.25 |        12.0 |",
   "metadata": {
    "tags": [],
    "cell_id": "00018-24bac8c8-bd63-41ac-8e0f-de55e02c56f0",
    "deepnote_cell_type": "markdown"
   }
  },
  {
   "cell_type": "markdown",
   "source": "**Respuesta:**",
   "metadata": {
    "tags": [],
    "cell_id": "00019-0bbd888f-87e7-49f7-a5d5-81564c13fe16",
    "deepnote_cell_type": "markdown"
   }
  },
  {
   "cell_type": "code",
   "metadata": {
    "tags": [],
    "cell_id": "00020-1a24ff7c-fd2f-416e-8275-2107b7dc2a78",
    "deepnote_to_be_reexecuted": false,
    "source_hash": "e64873dd",
    "execution_start": 1636692563965,
    "execution_millis": 57942,
    "deepnote_cell_type": "code"
   },
   "source": "# LRMFP = FunctionTransformer(custom_features)\n\ndef custom_features(dataframe_in):\n    # Length\n    df_length = dataframe_in.copy()\n    df_length = (\n        df_length.groupby(\"Customer ID\")[\"InvoiceDate\"]\n        .agg([\"first\", \"last\"])\n        .reset_index()\n    )\n    df_length[\"Length\"] = (df_length[\"last\"] - df_length[\"first\"]).dt.days\n    df_length = df_length.loc[:, [\"Customer ID\", \"Length\"]]\n    df_out = df_length\n\n    # Recency\n    df_aux = (\n        dataframe_in.copy()\n        .groupby(\"Customer ID\")\n        .max()\n        .reset_index()\n        .rename(columns={\"InvoiceDate\": \"Max\"})\n        .loc[:, [\"Customer ID\", \"Max\"]]\n    )\n    df_recency = dataframe_in.merge(df_aux, how='left')\n    df_recency[\"Recency\"] = (df_recency[\"Max\"] + datetime.timedelta(days = 1) - df_recency[\"InvoiceDate\"]).dt.days\n    df_recency = (\n        df_recency.groupby(\"Customer ID\")[\"Recency\"].mean().reset_index().round()\n    )\n    df_out = pd.merge(df_out, df_recency, how='left')\n\n    # Frequency\n    df_frequency = dataframe_in.copy()\n    df_frequency = df_frequency.groupby('Invoice').first().reset_index()\n    df_frequency = df_frequency.groupby('Customer ID').size().reset_index().rename({0: 'Frequency'},axis='columns')\n    df_out = pd.merge(df_out, df_frequency, how='left')\n\n    #Monetary\n    \n    df_monetary = dataframe_in.copy()\n    df_monetary['Monetary'] = df_monetary['Quantity']*df_monetary['Price']\n    df_monetary = df_monetary.groupby('Customer ID').sum().loc[:,'Monetary'].reset_index()\n    df_out = pd.merge(df_out, df_monetary, how='left')\n    df_out['Monetary'] = df_out['Monetary']/df_out['Frequency']\n    \n    # Periodicity\n    df_periodicity = dataframe_in.copy()\n    df_periodicity = df_periodicity.groupby('Invoice').first().reset_index() \n    df_periodicity = df_periodicity.sort_values(['Customer ID', 'InvoiceDate'])\n    df_periodicity['PrevDate'] = df_periodicity.groupby('Customer ID')['InvoiceDate'].shift()\n    df_periodicity['Periodicity'] = (df_periodicity['InvoiceDate'] - df_periodicity['PrevDate']).dt.seconds/(3600*24)\n    df_periodicity = df_periodicity.groupby('Customer ID').std().loc[:,['Periodicity']].reset_index()\n    \n    df_out = pd.merge(df_out, df_periodicity, how='left')\n    df_out['Customer ID'] = df_out['Customer ID'].astype(int)\n\n    df_out = df_out.dropna()\n\n    return df_out.set_index('Customer ID')\n\n    \n\n\ndf_custom = custom_features(df_retail)\ndisplay(df_custom)\n\n\n# df_LRMFP = LRMFP.fit_transform(df_retail)\n",
   "execution_count": null,
   "outputs": [
    {
     "data": {
      "application/vnd.deepnote.dataframe.v2+json": {
       "row_count": 2083,
       "column_count": 5,
       "columns": [
        {
         "name": "Length",
         "dtype": "int64",
         "stats": {
          "unique_count": 362,
          "nan_count": 0,
          "min": "0",
          "max": "373",
          "histogram": [
           {
            "bin_start": 0,
            "bin_end": 37.3,
            "count": 76
           },
           {
            "bin_start": 37.3,
            "bin_end": 74.6,
            "count": 107
           },
           {
            "bin_start": 74.6,
            "bin_end": 111.89999999999999,
            "count": 117
           },
           {
            "bin_start": 111.89999999999999,
            "bin_end": 149.2,
            "count": 163
           },
           {
            "bin_start": 149.2,
            "bin_end": 186.5,
            "count": 189
           },
           {
            "bin_start": 186.5,
            "bin_end": 223.79999999999998,
            "count": 197
           },
           {
            "bin_start": 223.79999999999998,
            "bin_end": 261.09999999999997,
            "count": 281
           },
           {
            "bin_start": 261.09999999999997,
            "bin_end": 298.4,
            "count": 234
           },
           {
            "bin_start": 298.4,
            "bin_end": 335.7,
            "count": 237
           },
           {
            "bin_start": 335.7,
            "bin_end": 373,
            "count": 482
           }
          ]
         }
        },
        {
         "name": "Recency",
         "dtype": "float64",
         "stats": {
          "unique_count": 252,
          "nan_count": 0,
          "min": "1.0",
          "max": "357.0",
          "histogram": [
           {
            "bin_start": 1,
            "bin_end": 36.6,
            "count": 179
           },
           {
            "bin_start": 36.6,
            "bin_end": 72.2,
            "count": 313
           },
           {
            "bin_start": 72.2,
            "bin_end": 107.80000000000001,
            "count": 408
           },
           {
            "bin_start": 107.80000000000001,
            "bin_end": 143.4,
            "count": 458
           },
           {
            "bin_start": 143.4,
            "bin_end": 179,
            "count": 419
           },
           {
            "bin_start": 179,
            "bin_end": 214.60000000000002,
            "count": 235
           },
           {
            "bin_start": 214.60000000000002,
            "bin_end": 250.20000000000002,
            "count": 56
           },
           {
            "bin_start": 250.20000000000002,
            "bin_end": 285.8,
            "count": 12
           },
           {
            "bin_start": 285.8,
            "bin_end": 321.40000000000003,
            "count": 2
           },
           {
            "bin_start": 321.40000000000003,
            "bin_end": 357,
            "count": 1
           }
          ]
         }
        },
        {
         "name": "Frequency",
         "dtype": "int64",
         "stats": {
          "unique_count": 62,
          "nan_count": 0,
          "min": "3",
          "max": "205",
          "histogram": [
           {
            "bin_start": 3,
            "bin_end": 23.2,
            "count": 2014
           },
           {
            "bin_start": 23.2,
            "bin_end": 43.4,
            "count": 44
           },
           {
            "bin_start": 43.4,
            "bin_end": 63.599999999999994,
            "count": 11
           },
           {
            "bin_start": 63.599999999999994,
            "bin_end": 83.8,
            "count": 3
           },
           {
            "bin_start": 83.8,
            "bin_end": 104,
            "count": 6
           },
           {
            "bin_start": 104,
            "bin_end": 124.19999999999999,
            "count": 2
           },
           {
            "bin_start": 124.19999999999999,
            "bin_end": 144.4,
            "count": 1
           },
           {
            "bin_start": 144.4,
            "bin_end": 164.6,
            "count": 1
           },
           {
            "bin_start": 164.6,
            "bin_end": 184.79999999999998,
            "count": 0
           },
           {
            "bin_start": 184.79999999999998,
            "bin_end": 205,
            "count": 1
           }
          ]
         }
        },
        {
         "name": "Monetary",
         "dtype": "float64",
         "stats": {
          "unique_count": 2082,
          "nan_count": 0,
          "min": "10.822222222222223",
          "max": "7488.9000000000015",
          "histogram": [
           {
            "bin_start": 10.822222222222223,
            "bin_end": 758.6300000000001,
            "count": 1911
           },
           {
            "bin_start": 758.6300000000001,
            "bin_end": 1506.4377777777781,
            "count": 138
           },
           {
            "bin_start": 1506.4377777777781,
            "bin_end": 2254.2455555555557,
            "count": 16
           },
           {
            "bin_start": 2254.2455555555557,
            "bin_end": 3002.0533333333337,
            "count": 9
           },
           {
            "bin_start": 3002.0533333333337,
            "bin_end": 3749.8611111111118,
            "count": 4
           },
           {
            "bin_start": 3749.8611111111118,
            "bin_end": 4497.668888888889,
            "count": 2
           },
           {
            "bin_start": 4497.668888888889,
            "bin_end": 5245.476666666667,
            "count": 1
           },
           {
            "bin_start": 5245.476666666667,
            "bin_end": 5993.284444444445,
            "count": 0
           },
           {
            "bin_start": 5993.284444444445,
            "bin_end": 6741.092222222223,
            "count": 0
           },
           {
            "bin_start": 6741.092222222223,
            "bin_end": 7488.9000000000015,
            "count": 2
           }
          ]
         }
        },
        {
         "name": "Periodicity",
         "dtype": "float64",
         "stats": {
          "unique_count": 2025,
          "nan_count": 0,
          "min": "0.00040093768693724014",
          "max": "0.7041605029316036",
          "histogram": [
           {
            "bin_start": 0.00040093768693724014,
            "bin_end": 0.07077689421140386,
            "count": 204
           },
           {
            "bin_start": 0.07077689421140386,
            "bin_end": 0.1411528507358705,
            "count": 48
           },
           {
            "bin_start": 0.1411528507358705,
            "bin_end": 0.21152880726033713,
            "count": 9
           },
           {
            "bin_start": 0.21152880726033713,
            "bin_end": 0.2819047637848037,
            "count": 13
           },
           {
            "bin_start": 0.2819047637848037,
            "bin_end": 0.3522807203092703,
            "count": 123
           },
           {
            "bin_start": 0.3522807203092703,
            "bin_end": 0.422656676833737,
            "count": 527
           },
           {
            "bin_start": 0.422656676833737,
            "bin_end": 0.49303263335820363,
            "count": 734
           },
           {
            "bin_start": 0.49303263335820363,
            "bin_end": 0.5634085898826703,
            "count": 269
           },
           {
            "bin_start": 0.5634085898826703,
            "bin_end": 0.6337845464071369,
            "count": 92
           },
           {
            "bin_start": 0.6337845464071369,
            "bin_end": 0.7041605029316036,
            "count": 64
           }
          ]
         }
        },
        {
         "name": "_deepnote_index_column",
         "dtype": "int64"
        }
       ],
       "rows_top": [
        {
         "Length": 196,
         "Recency": 69,
         "Frequency": 11,
         "Monetary": 33.896363636363645,
         "Periodicity": 0.47791508241850506,
         "_deepnote_index_column": 12346
        },
        {
         "Length": 181,
         "Recency": 84,
         "Frequency": 3,
         "Monetary": 890.3800000000005,
         "Periodicity": 0.053524054964815104,
         "_deepnote_index_column": 12349
        },
        {
         "Length": 44,
         "Recency": 24,
         "Frequency": 3,
         "Monetary": 1186.7666666666662,
         "Periodicity": 0.5106882308569509,
         "_deepnote_index_column": 12356
        },
        {
         "Length": 356,
         "Recency": 159,
         "Frequency": 3,
         "Monetary": 906.3366666666672,
         "Periodicity": 0.5298390395140866,
         "_deepnote_index_column": 12358
        },
        {
         "Length": 308,
         "Recency": 167,
         "Frequency": 6,
         "Monetary": 427.22666666666646,
         "Periodicity": 0.4454771530665978,
         "_deepnote_index_column": 12359
        },
        {
         "Length": 276,
         "Recency": 112,
         "Frequency": 5,
         "Monetary": 318.166,
         "Periodicity": 0.5305261650769694,
         "_deepnote_index_column": 12360
        },
        {
         "Length": 220,
         "Recency": 119,
         "Frequency": 3,
         "Monetary": 107.11666666666667,
         "Periodicity": 0.6727335348788681,
         "_deepnote_index_column": 12361
        },
        {
         "Length": 228,
         "Recency": 51,
         "Frequency": 3,
         "Monetary": 597.0500000000001,
         "Periodicity": 0.47827917005256754,
         "_deepnote_index_column": 12369
        },
        {
         "Length": 44,
         "Recency": 32,
         "Frequency": 3,
         "Monetary": 258.2066666666667,
         "Periodicity": 0.027007550670319524,
         "_deepnote_index_column": 12370
        },
        {
         "Length": 235,
         "Recency": 78,
         "Frequency": 3,
         "Monetary": 726.4733333333332,
         "Periodicity": 0.5647033321975901,
         "_deepnote_index_column": 12371
        },
        {
         "Length": 166,
         "Recency": 121,
         "Frequency": 3,
         "Monetary": 748.7633333333334,
         "Periodicity": 0.5008673033404711,
         "_deepnote_index_column": 12374
        },
        {
         "Length": 197,
         "Recency": 88,
         "Frequency": 7,
         "Monetary": 993.0699999999997,
         "Periodicity": 0.38672174352979466,
         "_deepnote_index_column": 12380
        },
        {
         "Length": 253,
         "Recency": 99,
         "Frequency": 3,
         "Monetary": 477.77666666666664,
         "Periodicity": 0.46305673240202394,
         "_deepnote_index_column": 12389
        },
        {
         "Length": 198,
         "Recency": 94,
         "Frequency": 5,
         "Monetary": 457.0359999999998,
         "Periodicity": 0.03232214312532496,
         "_deepnote_index_column": 12391
        },
        {
         "Length": 231,
         "Recency": 150,
         "Frequency": 4,
         "Monetary": 512.1600000000001,
         "Periodicity": 0.0782763451752301,
         "_deepnote_index_column": 12395
        },
        {
         "Length": 259,
         "Recency": 132,
         "Frequency": 3,
         "Monetary": 284.55,
         "Periodicity": 0.683536555146996,
         "_deepnote_index_column": 12399
        },
        {
         "Length": 277,
         "Recency": 145,
         "Frequency": 5,
         "Monetary": 206.26,
         "Periodicity": 0.5137163045406734,
         "_deepnote_index_column": 12402
        },
        {
         "Length": 297,
         "Recency": 155,
         "Frequency": 3,
         "Monetary": 991.6866666666666,
         "Periodicity": 0.36533850361304954,
         "_deepnote_index_column": 12406
        },
        {
         "Length": 112,
         "Recency": 41,
         "Frequency": 3,
         "Monetary": 484.0733333333333,
         "Periodicity": 0.6992500391733637,
         "_deepnote_index_column": 12408
        },
        {
         "Length": 144,
         "Recency": 84,
         "Frequency": 4,
         "Monetary": 3086.6549999999993,
         "Periodicity": 0.4681127355445613,
         "_deepnote_index_column": 12409
        },
        {
         "Length": 137,
         "Recency": 99,
         "Frequency": 3,
         "Monetary": 456.6833333333332,
         "Periodicity": 0.0451762665758072,
         "_deepnote_index_column": 12412
        },
        {
         "Length": 0,
         "Recency": 1,
         "Frequency": 3,
         "Monetary": 130,
         "Periodicity": 0.036828478186799345,
         "_deepnote_index_column": 12414
        },
        {
         "Length": 152,
         "Recency": 72,
         "Frequency": 7,
         "Monetary": 2791.977142857141,
         "Periodicity": 0.3561148532550246,
         "_deepnote_index_column": 12415
        },
        {
         "Length": 323,
         "Recency": 160,
         "Frequency": 11,
         "Monetary": 286.21,
         "Periodicity": 0.4224516171942385,
         "_deepnote_index_column": 12417
        },
        {
         "Length": 216,
         "Recency": 115,
         "Frequency": 3,
         "Monetary": 450.8733333333334,
         "Periodicity": 0.032409060804383466,
         "_deepnote_index_column": 12418
        },
        {
         "Length": 327,
         "Recency": 122,
         "Frequency": 14,
         "Monetary": 316.302857142857,
         "Periodicity": 0.4279983842006455,
         "_deepnote_index_column": 12422
        },
        {
         "Length": 180,
         "Recency": 91,
         "Frequency": 5,
         "Monetary": 747.1020000000001,
         "Periodicity": 0.4496220316958644,
         "_deepnote_index_column": 12429
        },
        {
         "Length": 320,
         "Recency": 198,
         "Frequency": 13,
         "Monetary": 336.19384615384627,
         "Periodicity": 0.387831858269492,
         "_deepnote_index_column": 12431
        },
        {
         "Length": 110,
         "Recency": 30,
         "Frequency": 5,
         "Monetary": 1441.0779999999982,
         "Periodicity": 0.3863061141600642,
         "_deepnote_index_column": 12433
        },
        {
         "Length": 340,
         "Recency": 87,
         "Frequency": 4,
         "Monetary": 1524.0100000000007,
         "Periodicity": 0.38028744103459683,
         "_deepnote_index_column": 12435
        },
        {
         "Length": 341,
         "Recency": 181,
         "Frequency": 21,
         "Monetary": 368.1900000000001,
         "Periodicity": 0.43560522699263016,
         "_deepnote_index_column": 12437
        },
        {
         "Length": 75,
         "Recency": 38,
         "Frequency": 3,
         "Monetary": 163.44,
         "Periodicity": 0.4429238309932402,
         "_deepnote_index_column": 12450
        },
        {
         "Length": 66,
         "Recency": 48,
         "Frequency": 3,
         "Monetary": 1211.4533333333331,
         "Periodicity": 0.07562114187689467,
         "_deepnote_index_column": 12451
        },
        {
         "Length": 25,
         "Recency": 16,
         "Frequency": 4,
         "Monetary": 3287.86,
         "Periodicity": 0.12721608124431638,
         "_deepnote_index_column": 12454
        },
        {
         "Length": 276,
         "Recency": 213,
         "Frequency": 4,
         "Monetary": 853.2725,
         "Periodicity": 0.43977089205630693,
         "_deepnote_index_column": 12455
        },
        {
         "Length": 156,
         "Recency": 79,
         "Frequency": 3,
         "Monetary": 980.4000000000004,
         "Periodicity": 0.6967948072942437,
         "_deepnote_index_column": 12468
        },
        {
         "Length": 358,
         "Recency": 184,
         "Frequency": 49,
         "Monetary": 410.80693877551045,
         "Periodicity": 0.3428511999188893,
         "_deepnote_index_column": 12471
        },
        {
         "Length": 356,
         "Recency": 171,
         "Frequency": 13,
         "Monetary": 869.883076923079,
         "Periodicity": 0.29474870226818073,
         "_deepnote_index_column": 12472
        },
        {
         "Length": 288,
         "Recency": 104,
         "Frequency": 13,
         "Monetary": 388.35846153846165,
         "Periodicity": 0.42021133582462783,
         "_deepnote_index_column": 12474
        },
        {
         "Length": 105,
         "Recency": 42,
         "Frequency": 12,
         "Monetary": 605.6241666666664,
         "Periodicity": 0.38702633879983356,
         "_deepnote_index_column": 12476
        },
        {
         "Length": 223,
         "Recency": 132,
         "Frequency": 3,
         "Monetary": 2352.21,
         "Periodicity": 0.508724045353655,
         "_deepnote_index_column": 12477
        },
        {
         "Length": 108,
         "Recency": 46,
         "Frequency": 3,
         "Monetary": 727.7400000000002,
         "Periodicity": 0.5809078625997818,
         "_deepnote_index_column": 12480
        },
        {
         "Length": 241,
         "Recency": 111,
         "Frequency": 6,
         "Monetary": 1127.5116666666665,
         "Periodicity": 0.42175641337414443,
         "_deepnote_index_column": 12481
        },
        {
         "Length": 77,
         "Recency": 41,
         "Frequency": 29,
         "Monetary": 816.9448275862063,
         "Periodicity": 0.28877858887262564,
         "_deepnote_index_column": 12482
        },
        {
         "Length": 298,
         "Recency": 158,
         "Frequency": 11,
         "Monetary": 237.47272727272727,
         "Periodicity": 0.40748908193314676,
         "_deepnote_index_column": 12483
        },
        {
         "Length": 197,
         "Recency": 112,
         "Frequency": 6,
         "Monetary": 304.46333333333337,
         "Periodicity": 0.35131559402471485,
         "_deepnote_index_column": 12484
        },
        {
         "Length": 360,
         "Recency": 190,
         "Frequency": 11,
         "Monetary": 400.5190909090915,
         "Periodicity": 0.3980460140319133,
         "_deepnote_index_column": 12490
        },
        {
         "Length": 210,
         "Recency": 139,
         "Frequency": 3,
         "Monetary": 208.92333333333332,
         "Periodicity": 0.051559869461519144,
         "_deepnote_index_column": 12494
        },
        {
         "Length": 238,
         "Recency": 191,
         "Frequency": 8,
         "Monetary": 212.17375,
         "Periodicity": 0.3784377866475913,
         "_deepnote_index_column": 12500
        },
        {
         "Length": 276,
         "Recency": 141,
         "Frequency": 7,
         "Monetary": 599.3499999999997,
         "Periodicity": 0.4321865761745897,
         "_deepnote_index_column": 12510
        },
        {
         "Length": 357,
         "Recency": 186,
         "Frequency": 12,
         "Monetary": 213.54833333333343,
         "Periodicity": 0.40068570224869765,
         "_deepnote_index_column": 12523
        },
        {
         "Length": 280,
         "Recency": 101,
         "Frequency": 9,
         "Monetary": 737.821111111111,
         "Periodicity": 0.3929966473713585,
         "_deepnote_index_column": 12524
        },
        {
         "Length": 149,
         "Recency": 93,
         "Frequency": 3,
         "Monetary": 324.5766666666666,
         "Periodicity": 0.3903818687800731,
         "_deepnote_index_column": 12525
        },
        {
         "Length": 227,
         "Recency": 100,
         "Frequency": 5,
         "Monetary": 419.3960000000001,
         "Periodicity": 0.4438861872976704,
         "_deepnote_index_column": 12530
        },
        {
         "Length": 265,
         "Recency": 238,
         "Frequency": 3,
         "Monetary": 1882.1333333333325,
         "Periodicity": 0.5735421669624219,
         "_deepnote_index_column": 12539
        },
        {
         "Length": 353,
         "Recency": 158,
         "Frequency": 16,
         "Monetary": 553.3906249999998,
         "Periodicity": 0.430622663954247,
         "_deepnote_index_column": 12540
        },
        {
         "Length": 121,
         "Recency": 81,
         "Frequency": 6,
         "Monetary": 262.6133333333333,
         "Periodicity": 0.4605612936916362,
         "_deepnote_index_column": 12549
        },
        {
         "Length": 351,
         "Recency": 98,
         "Frequency": 4,
         "Monetary": 1681.2949999999996,
         "Periodicity": 0.4072585612986286,
         "_deepnote_index_column": 12557
        },
        {
         "Length": 299,
         "Recency": 96,
         "Frequency": 7,
         "Monetary": 615.5114285714287,
         "Periodicity": 0.4309382260018594,
         "_deepnote_index_column": 12567
        },
        {
         "Length": 83,
         "Recency": 18,
         "Frequency": 4,
         "Monetary": 139.21750000000006,
         "Periodicity": 0.07792335087193773,
         "_deepnote_index_column": 12573
        },
        {
         "Length": 133,
         "Recency": 68,
         "Frequency": 3,
         "Monetary": 275.63000000000017,
         "Periodicity": 0.0255344115428475,
         "_deepnote_index_column": 12576
        },
        {
         "Length": 354,
         "Recency": 43,
         "Frequency": 5,
         "Monetary": 198.1000000000001,
         "Periodicity": 0.34013147601301796,
         "_deepnote_index_column": 12577
        },
        {
         "Length": 359,
         "Recency": 154,
         "Frequency": 13,
         "Monetary": 551.2353846153848,
         "Periodicity": 0.4060487393204216,
         "_deepnote_index_column": 12583
        },
        {
         "Length": 348,
         "Recency": 96,
         "Frequency": 3,
         "Monetary": 621.9100000000002,
         "Periodicity": 0.5764884452173658,
         "_deepnote_index_column": 12586
        },
        {
         "Length": 198,
         "Recency": 94,
         "Frequency": 3,
         "Monetary": 247.96,
         "Periodicity": 0.000491046375823992,
         "_deepnote_index_column": 12588
        },
        {
         "Length": 267,
         "Recency": 93,
         "Frequency": 6,
         "Monetary": 674.8299999999999,
         "Periodicity": 0.3757016968903605,
         "_deepnote_index_column": 12589
        },
        {
         "Length": 0,
         "Recency": 1,
         "Frequency": 3,
         "Monetary": 715.02,
         "Periodicity": 0.0019641855032959646,
         "_deepnote_index_column": 12592
        },
        {
         "Length": 267,
         "Recency": 93,
         "Frequency": 5,
         "Monetary": 350.3780000000001,
         "Periodicity": 0.4542666457515749,
         "_deepnote_index_column": 12594
        },
        {
         "Length": 185,
         "Recency": 98,
         "Frequency": 3,
         "Monetary": 503.6699999999999,
         "Periodicity": 0.4782791700525676,
         "_deepnote_index_column": 12598
        },
        {
         "Length": 196,
         "Recency": 107,
         "Frequency": 6,
         "Monetary": 210.69000000000003,
         "Periodicity": 0.430694310079165,
         "_deepnote_index_column": 12599
        },
        {
         "Length": 360,
         "Recency": 197,
         "Frequency": 12,
         "Monetary": 203.7400000000001,
         "Periodicity": 0.4126014440102295,
         "_deepnote_index_column": 12600
        },
        {
         "Length": 81,
         "Recency": 34,
         "Frequency": 4,
         "Monetary": 308.2374999999999,
         "Periodicity": 0.33289250364266465,
         "_deepnote_index_column": 12605
        },
        {
         "Length": 345,
         "Recency": 145,
         "Frequency": 6,
         "Monetary": 384.83499999999975,
         "Periodicity": 0.4028360230874513,
         "_deepnote_index_column": 12609
        },
        {
         "Length": 337,
         "Recency": 202,
         "Frequency": 5,
         "Monetary": 694.5980000000001,
         "Periodicity": 0.4373432166899022,
         "_deepnote_index_column": 12613
        },
        {
         "Length": 217,
         "Recency": 110,
         "Frequency": 4,
         "Monetary": 862.4475000000003,
         "Periodicity": 0.4666961176222743,
         "_deepnote_index_column": 12615
        },
        {
         "Length": 302,
         "Recency": 133,
         "Frequency": 16,
         "Monetary": 692.8837500000001,
         "Periodicity": 0.4478727522461994,
         "_deepnote_index_column": 12621
        },
        {
         "Length": 279,
         "Recency": 177,
         "Frequency": 6,
         "Monetary": 573.7899999999998,
         "Periodicity": 0.4591015762663497,
         "_deepnote_index_column": 12623
        },
        {
         "Length": 237,
         "Recency": 117,
         "Frequency": 5,
         "Monetary": 568.2139999999997,
         "Periodicity": 0.4565415928652575,
         "_deepnote_index_column": 12631
        },
        {
         "Length": 143,
         "Recency": 114,
         "Frequency": 3,
         "Monetary": 1171.3933333333332,
         "Periodicity": 0.5013583497162951,
         "_deepnote_index_column": 12633
        },
        {
         "Length": 165,
         "Recency": 62,
         "Frequency": 4,
         "Monetary": 570.2275000000004,
         "Periodicity": 0.5104617012130781,
         "_deepnote_index_column": 12637
        },
        {
         "Length": 225,
         "Recency": 99,
         "Frequency": 6,
         "Monetary": 826.6966666666666,
         "Periodicity": 0.43947344817546663,
         "_deepnote_index_column": 12643
        },
        {
         "Length": 263,
         "Recency": 153,
         "Frequency": 3,
         "Monetary": 480.19333333333356,
         "Periodicity": 0.5455525235404544,
         "_deepnote_index_column": 12644
        },
        {
         "Length": 259,
         "Recency": 134,
         "Frequency": 4,
         "Monetary": 441.03000000000014,
         "Periodicity": 0.3364899246530334,
         "_deepnote_index_column": 12645
        },
        {
         "Length": 327,
         "Recency": 169,
         "Frequency": 27,
         "Monetary": 525.9825925925929,
         "Periodicity": 0.4356881318866245,
         "_deepnote_index_column": 12647
        },
        {
         "Length": 263,
         "Recency": 99,
         "Frequency": 3,
         "Monetary": 264.65000000000003,
         "Periodicity": 0.43064767159764034,
         "_deepnote_index_column": 12648
        },
        {
         "Length": 313,
         "Recency": 123,
         "Frequency": 5,
         "Monetary": 334.228,
         "Periodicity": 0.33680310947947195,
         "_deepnote_index_column": 12649
        },
        {
         "Length": 86,
         "Recency": 40,
         "Frequency": 3,
         "Monetary": 87.91666666666664,
         "Periodicity": 0.47582393817344765,
         "_deepnote_index_column": 12651
        },
        {
         "Length": 137,
         "Recency": 73,
         "Frequency": 3,
         "Monetary": 785.5533333333334,
         "Periodicity": 0.5170718337426629,
         "_deepnote_index_column": 12656
        },
        {
         "Length": 244,
         "Recency": 124,
         "Frequency": 10,
         "Monetary": 313.824,
         "Periodicity": 0.3981203895900571,
         "_deepnote_index_column": 12662
        },
        {
         "Length": 298,
         "Recency": 183,
         "Frequency": 6,
         "Monetary": 1262.6466666666663,
         "Periodicity": 0.35291704928047823,
         "_deepnote_index_column": 12668
        },
        {
         "Length": 74,
         "Recency": 38,
         "Frequency": 5,
         "Monetary": 302.34,
         "Periodicity": 0.37967946897889365,
         "_deepnote_index_column": 12676
        },
        {
         "Length": 325,
         "Recency": 166,
         "Frequency": 9,
         "Monetary": 1850.3022222222228,
         "Periodicity": 0.4599852891735372,
         "_deepnote_index_column": 12678
        },
        {
         "Length": 358,
         "Recency": 153,
         "Frequency": 24,
         "Monetary": 711.6975000000011,
         "Periodicity": 0.3935254254971794,
         "_deepnote_index_column": 12681
        },
        {
         "Length": 373,
         "Recency": 181,
         "Frequency": 23,
         "Monetary": 510.68217391304387,
         "Periodicity": 0.3946902679606574,
         "_deepnote_index_column": 12682
        },
        {
         "Length": 360,
         "Recency": 184,
         "Frequency": 8,
         "Monetary": 527.5262499999999,
         "Periodicity": 0.40606850510985415,
         "_deepnote_index_column": 12683
        },
        {
         "Length": 126,
         "Recency": 106,
         "Frequency": 3,
         "Monetary": 282.36999999999995,
         "Periodicity": 0.6270662219272369,
         "_deepnote_index_column": 12693
        },
        {
         "Length": 137,
         "Recency": 99,
         "Frequency": 3,
         "Monetary": 275.0066666666667,
         "Periodicity": 0.01178511301977579,
         "_deepnote_index_column": 12695
        },
        {
         "Length": 104,
         "Recency": 52,
         "Frequency": 4,
         "Monetary": 412.1750000000001,
         "Periodicity": 0.47093984373776776,
         "_deepnote_index_column": 12701
        },
        {
         "Length": 51,
         "Recency": 40,
         "Frequency": 3,
         "Monetary": 240.99333333333325,
         "Periodicity": 0.507250906226183,
         "_deepnote_index_column": 12703
        },
        {
         "Length": 150,
         "Recency": 71,
         "Frequency": 5,
         "Monetary": 978.7620000000003,
         "Periodicity": 0.41006145717752046,
         "_deepnote_index_column": 12705
        }
       ],
       "rows_bottom": [
        {
         "Length": 338,
         "Recency": 105,
         "Frequency": 6,
         "Monetary": 157.87666666666672,
         "Periodicity": 0.46448922606078086,
         "_deepnote_index_column": 17950
        },
        {
         "Length": 163,
         "Recency": 109,
         "Frequency": 4,
         "Monetary": 197.11499999999998,
         "Periodicity": 0.040307699613698476,
         "_deepnote_index_column": 17952
        },
        {
         "Length": 362,
         "Recency": 215,
         "Frequency": 9,
         "Monetary": 179.8811111111114,
         "Periodicity": 0.4829197877191419,
         "_deepnote_index_column": 17954
        },
        {
         "Length": 366,
         "Recency": 236,
         "Frequency": 62,
         "Monetary": 27.38467741935489,
         "Periodicity": 0.416471257748047,
         "_deepnote_index_column": 17961
        },
        {
         "Length": 146,
         "Recency": 86,
         "Frequency": 3,
         "Monetary": 188.1833333333333,
         "Periodicity": 0.020623947784607636,
         "_deepnote_index_column": 17962
        },
        {
         "Length": 217,
         "Recency": 90,
         "Frequency": 4,
         "Monetary": 160.78999999999996,
         "Periodicity": 0.3741270704116648,
         "_deepnote_index_column": 17963
        },
        {
         "Length": 360,
         "Recency": 213,
         "Frequency": 17,
         "Monetary": 268.1182352941174,
         "Periodicity": 0.4109178157790052,
         "_deepnote_index_column": 17965
        },
        {
         "Length": 98,
         "Recency": 55,
         "Frequency": 5,
         "Monetary": 173.098,
         "Periodicity": 0.4173923079484909,
         "_deepnote_index_column": 17966
        },
        {
         "Length": 138,
         "Recency": 35,
         "Frequency": 4,
         "Monetary": 147.61000000000004,
         "Periodicity": 0.4756261778536488,
         "_deepnote_index_column": 17968
        },
        {
         "Length": 230,
         "Recency": 145,
         "Frequency": 18,
         "Monetary": 118.11611111111117,
         "Periodicity": 0.43293861707589887,
         "_deepnote_index_column": 17969
        },
        {
         "Length": 25,
         "Recency": 14,
         "Frequency": 3,
         "Monetary": 345.0333333333333,
         "Periodicity": 0.43752232085917625,
         "_deepnote_index_column": 17974
        },
        {
         "Length": 124,
         "Recency": 57,
         "Frequency": 12,
         "Monetary": 210.5975,
         "Periodicity": 0.38173697303574294,
         "_deepnote_index_column": 17975
        },
        {
         "Length": 366,
         "Recency": 233,
         "Frequency": 4,
         "Monetary": 289.9975,
         "Periodicity": 0.5239408837263205,
         "_deepnote_index_column": 17978
        },
        {
         "Length": 346,
         "Recency": 117,
         "Frequency": 4,
         "Monetary": 249.8775,
         "Periodicity": 0.46153152549163284,
         "_deepnote_index_column": 17984
        },
        {
         "Length": 174,
         "Recency": 69,
         "Frequency": 4,
         "Monetary": 191.71750000000014,
         "Periodicity": 0.0555570022959773,
         "_deepnote_index_column": 17987
        },
        {
         "Length": 245,
         "Recency": 159,
         "Frequency": 7,
         "Monetary": 41.202857142857134,
         "Periodicity": 0.4502930608654549,
         "_deepnote_index_column": 17988
        },
        {
         "Length": 351,
         "Recency": 104,
         "Frequency": 3,
         "Monetary": 298.92333333333335,
         "Periodicity": 0.12668996496258975,
         "_deepnote_index_column": 17990
        },
        {
         "Length": 231,
         "Recency": 156,
         "Frequency": 7,
         "Monetary": 227.87714285714316,
         "Periodicity": 0.5215825013208901,
         "_deepnote_index_column": 17994
        },
        {
         "Length": 166,
         "Recency": 95,
         "Frequency": 3,
         "Monetary": 160.77666666666667,
         "Periodicity": 0.679608184140404,
         "_deepnote_index_column": 17996
        },
        {
         "Length": 358,
         "Recency": 309,
         "Frequency": 3,
         "Monetary": 213.07999999999996,
         "Periodicity": 0.45470894401301604,
         "_deepnote_index_column": 17998
        },
        {
         "Length": 287,
         "Recency": 74,
         "Frequency": 4,
         "Monetary": 127.25250000000003,
         "Periodicity": 0.5307779008598156,
         "_deepnote_index_column": 18001
        },
        {
         "Length": 355,
         "Recency": 182,
         "Frequency": 4,
         "Monetary": 61.092499999999994,
         "Periodicity": 0.3918502902239064,
         "_deepnote_index_column": 18002
        },
        {
         "Length": 340,
         "Recency": 120,
         "Frequency": 3,
         "Monetary": 174.9433333333333,
         "Periodicity": 0.25387097630100347,
         "_deepnote_index_column": 18006
        },
        {
         "Length": 287,
         "Recency": 172,
         "Frequency": 14,
         "Monetary": 1260.2064285714284,
         "Periodicity": 0.42531768096147343,
         "_deepnote_index_column": 18008
        },
        {
         "Length": 110,
         "Recency": 71,
         "Frequency": 7,
         "Monetary": 270.97714285714295,
         "Periodicity": 0.4033895617180574,
         "_deepnote_index_column": 18009
        },
        {
         "Length": 160,
         "Recency": 49,
         "Frequency": 4,
         "Monetary": 223.6325000000002,
         "Periodicity": 0.5002648475512478,
         "_deepnote_index_column": 18022
        },
        {
         "Length": 239,
         "Recency": 94,
         "Frequency": 6,
         "Monetary": 196.28666666666675,
         "Periodicity": 0.45942824815265476,
         "_deepnote_index_column": 18025
        },
        {
         "Length": 336,
         "Recency": 139,
         "Frequency": 8,
         "Monetary": 142.79625000000004,
         "Periodicity": 0.4391556080419126,
         "_deepnote_index_column": 18036
        },
        {
         "Length": 316,
         "Recency": 198,
         "Frequency": 9,
         "Monetary": 10.822222222222223,
         "Periodicity": 0.45766647464851057,
         "_deepnote_index_column": 18037
        },
        {
         "Length": 266,
         "Recency": 153,
         "Frequency": 4,
         "Monetary": 137.05499999999992,
         "Periodicity": 0.46270067801795106,
         "_deepnote_index_column": 18039
        },
        {
         "Length": 329,
         "Recency": 160,
         "Frequency": 20,
         "Monetary": 226.81449999999964,
         "Periodicity": 0.43106788331494833,
         "_deepnote_index_column": 18041
        },
        {
         "Length": 172,
         "Recency": 77,
         "Frequency": 8,
         "Monetary": 177.1262499999999,
         "Periodicity": 0.39243523086025417,
         "_deepnote_index_column": 18044
        },
        {
         "Length": 96,
         "Recency": 45,
         "Frequency": 7,
         "Monetary": 326.04,
         "Periodicity": 0.42185711934367837,
         "_deepnote_index_column": 18051
        },
        {
         "Length": 45,
         "Recency": 22,
         "Frequency": 6,
         "Monetary": 730.2966666666666,
         "Periodicity": 0.4206961983199566,
         "_deepnote_index_column": 18055
        },
        {
         "Length": 297,
         "Recency": 203,
         "Frequency": 3,
         "Monetary": 396.15333333333365,
         "Periodicity": 0.0004910463758239945,
         "_deepnote_index_column": 18057
        },
        {
         "Length": 369,
         "Recency": 195,
         "Frequency": 19,
         "Monetary": 229.97684210526313,
         "Periodicity": 0.4097174621690926,
         "_deepnote_index_column": 18061
        },
        {
         "Length": 211,
         "Recency": 123,
         "Frequency": 3,
         "Monetary": 304.05,
         "Periodicity": 0.4468522019998321,
         "_deepnote_index_column": 18062
        },
        {
         "Length": 230,
         "Recency": 116,
         "Frequency": 9,
         "Monetary": 407.53666666666663,
         "Periodicity": 0.4246803770119919,
         "_deepnote_index_column": 18064
        },
        {
         "Length": 341,
         "Recency": 141,
         "Frequency": 15,
         "Monetary": 231.58666666666647,
         "Periodicity": 0.3450814846204381,
         "_deepnote_index_column": 18065
        },
        {
         "Length": 265,
         "Recency": 134,
         "Frequency": 6,
         "Monetary": 409.2799999999999,
         "Periodicity": 0.5367070845431103,
         "_deepnote_index_column": 18069
        },
        {
         "Length": 369,
         "Recency": 192,
         "Frequency": 5,
         "Monetary": 195.12599999999998,
         "Periodicity": 0.3722038673611558,
         "_deepnote_index_column": 18071
        },
        {
         "Length": 124,
         "Recency": 66,
         "Frequency": 10,
         "Monetary": 317.154,
         "Periodicity": 0.44634793541059625,
         "_deepnote_index_column": 18075
        },
        {
         "Length": 365,
         "Recency": 182,
         "Frequency": 8,
         "Monetary": 212.40624999999994,
         "Periodicity": 0.4170086779760688,
         "_deepnote_index_column": 18077
        },
        {
         "Length": 255,
         "Recency": 89,
         "Frequency": 3,
         "Monetary": 318.60000000000014,
         "Periodicity": 0.3746683847537054,
         "_deepnote_index_column": 18085
        },
        {
         "Length": 359,
         "Recency": 198,
         "Frequency": 15,
         "Monetary": 713.7199999999999,
         "Periodicity": 0.4375992344625441,
         "_deepnote_index_column": 18087
        },
        {
         "Length": 369,
         "Recency": 212,
         "Frequency": 8,
         "Monetary": 888.8975000000004,
         "Periodicity": 0.33381004409602266,
         "_deepnote_index_column": 18092
        },
        {
         "Length": 174,
         "Recency": 71,
         "Frequency": 4,
         "Monetary": 586.5474999999999,
         "Periodicity": 0.4100971291655115,
         "_deepnote_index_column": 18093
        },
        {
         "Length": 255,
         "Recency": 123,
         "Frequency": 6,
         "Monetary": 562.3699999999999,
         "Periodicity": 0.4568369406636664,
         "_deepnote_index_column": 18094
        },
        {
         "Length": 172,
         "Recency": 125,
         "Frequency": 3,
         "Monetary": 574.3466666666667,
         "Periodicity": 0.397747564417433,
         "_deepnote_index_column": 18095
        },
        {
         "Length": 70,
         "Recency": 33,
         "Frequency": 3,
         "Monetary": 269.60333333333335,
         "Periodicity": 0.5813989089756058,
         "_deepnote_index_column": 18096
        },
        {
         "Length": 336,
         "Recency": 135,
         "Frequency": 5,
         "Monetary": 393.104,
         "Periodicity": 0.35006859951994546,
         "_deepnote_index_column": 18097
        },
        {
         "Length": 300,
         "Recency": 105,
         "Frequency": 3,
         "Monetary": 133.2033333333333,
         "Periodicity": 0.6388513349470127,
         "_deepnote_index_column": 18101
        },
        {
         "Length": 373,
         "Recency": 218,
         "Frequency": 89,
         "Monetary": 3923.194943820226,
         "Periodicity": 0.37338874599648564,
         "_deepnote_index_column": 18102
        },
        {
         "Length": 217,
         "Recency": 119,
         "Frequency": 5,
         "Monetary": 203.83200000000014,
         "Periodicity": 0.044359365906439636,
         "_deepnote_index_column": 18106
        },
        {
         "Length": 156,
         "Recency": 76,
         "Frequency": 13,
         "Monetary": 140.63384615384618,
         "Periodicity": 0.45669790916577635,
         "_deepnote_index_column": 18109
        },
        {
         "Length": 35,
         "Recency": 22,
         "Frequency": 5,
         "Monetary": 146.27600000000015,
         "Periodicity": 0.5057760190341583,
         "_deepnote_index_column": 18116
        },
        {
         "Length": 11,
         "Recency": 6,
         "Frequency": 4,
         "Monetary": 267.01250000000016,
         "Periodicity": 0.5218713421793401,
         "_deepnote_index_column": 18118
        },
        {
         "Length": 241,
         "Recency": 154,
         "Frequency": 5,
         "Monetary": 113.54199999999999,
         "Periodicity": 0.44683650802596175,
         "_deepnote_index_column": 18135
        },
        {
         "Length": 349,
         "Recency": 180,
         "Frequency": 8,
         "Monetary": 271.15625,
         "Periodicity": 0.4071363787039885,
         "_deepnote_index_column": 18144
        },
        {
         "Length": 349,
         "Recency": 162,
         "Frequency": 7,
         "Monetary": 392.5985714285716,
         "Periodicity": 0.4324022709168315,
         "_deepnote_index_column": 18145
        },
        {
         "Length": 230,
         "Recency": 159,
         "Frequency": 4,
         "Monetary": 235.47,
         "Periodicity": 0.4832087629488263,
         "_deepnote_index_column": 18149
        },
        {
         "Length": 225,
         "Recency": 172,
         "Frequency": 4,
         "Monetary": 306.5224999999999,
         "Periodicity": 0.4348403504750158,
         "_deepnote_index_column": 18151
        },
        {
         "Length": 102,
         "Recency": 67,
         "Frequency": 3,
         "Monetary": 177.8033333333333,
         "Periodicity": 0.43604918173170426,
         "_deepnote_index_column": 18154
        },
        {
         "Length": 364,
         "Recency": 172,
         "Frequency": 11,
         "Monetary": 230.79636363636354,
         "Periodicity": 0.44494371190567833,
         "_deepnote_index_column": 18168
        },
        {
         "Length": 325,
         "Recency": 158,
         "Frequency": 6,
         "Monetary": 316.28166666666675,
         "Periodicity": 0.3900517707605707,
         "_deepnote_index_column": 18170
        },
        {
         "Length": 233,
         "Recency": 111,
         "Frequency": 4,
         "Monetary": 301.50000000000006,
         "Periodicity": 0.4380933659907473,
         "_deepnote_index_column": 18171
        },
        {
         "Length": 341,
         "Recency": 140,
         "Frequency": 32,
         "Monetary": 309.54875000000004,
         "Periodicity": 0.4180289793665859,
         "_deepnote_index_column": 18172
        },
        {
         "Length": 163,
         "Recency": 74,
         "Frequency": 3,
         "Monetary": 291.81666666666666,
         "Periodicity": 0.02209708691207961,
         "_deepnote_index_column": 18177
        },
        {
         "Length": 257,
         "Recency": 129,
         "Frequency": 7,
         "Monetary": 644.7042857142852,
         "Periodicity": 0.4079030746862266,
         "_deepnote_index_column": 18178
        },
        {
         "Length": 335,
         "Recency": 174,
         "Frequency": 4,
         "Monetary": 205.37249999999992,
         "Periodicity": 0.4922288648598684,
         "_deepnote_index_column": 18181
        },
        {
         "Length": 192,
         "Recency": 65,
         "Frequency": 3,
         "Monetary": 426.5166666666666,
         "Periodicity": 0.02602545791867153,
         "_deepnote_index_column": 18188
        },
        {
         "Length": 113,
         "Recency": 79,
         "Frequency": 3,
         "Monetary": 153.72000000000003,
         "Periodicity": 0.4890821903206954,
         "_deepnote_index_column": 18190
        },
        {
         "Length": 241,
         "Recency": 162,
         "Frequency": 5,
         "Monetary": 637.6400000000001,
         "Periodicity": 0.3745876076054905,
         "_deepnote_index_column": 18194
        },
        {
         "Length": 349,
         "Recency": 174,
         "Frequency": 3,
         "Monetary": 110.69999999999999,
         "Periodicity": 0.022588133287903638,
         "_deepnote_index_column": 18203
        },
        {
         "Length": 23,
         "Recency": 15,
         "Frequency": 4,
         "Monetary": 445.0849999999999,
         "Periodicity": 0.06383351062090586,
         "_deepnote_index_column": 18214
        },
        {
         "Length": 186,
         "Recency": 95,
         "Frequency": 4,
         "Monetary": 483.28750000000014,
         "Periodicity": 0.3969289175487467,
         "_deepnote_index_column": 18215
        },
        {
         "Length": 363,
         "Recency": 134,
         "Frequency": 8,
         "Monetary": 186.64,
         "Periodicity": 0.4161050834097649,
         "_deepnote_index_column": 18219
        },
        {
         "Length": 330,
         "Recency": 173,
         "Frequency": 5,
         "Monetary": 323.296,
         "Periodicity": 0.47152044804208726,
         "_deepnote_index_column": 18220
        },
        {
         "Length": 348,
         "Recency": 200,
         "Frequency": 12,
         "Monetary": 626.3591666666663,
         "Periodicity": 0.3697305012960987,
         "_deepnote_index_column": 18223
        },
        {
         "Length": 369,
         "Recency": 131,
         "Frequency": 15,
         "Monetary": 502.6559999999996,
         "Periodicity": 0.3928285747065198,
         "_deepnote_index_column": 18225
        },
        {
         "Length": 266,
         "Recency": 100,
         "Frequency": 15,
         "Monetary": 443.3886666666667,
         "Periodicity": 0.4297460905744158,
         "_deepnote_index_column": 18226
        },
        {
         "Length": 369,
         "Recency": 87,
         "Frequency": 10,
         "Monetary": 352.68100000000004,
         "Periodicity": 0.363009665923667,
         "_deepnote_index_column": 18229
        },
        {
         "Length": 292,
         "Recency": 187,
         "Frequency": 23,
         "Monetary": 207.93043478260878,
         "Periodicity": 0.4417296233275057,
         "_deepnote_index_column": 18231
        },
        {
         "Length": 214,
         "Recency": 90,
         "Frequency": 6,
         "Monetary": 152.185,
         "Periodicity": 0.5060888422805468,
         "_deepnote_index_column": 18236
        },
        {
         "Length": 202,
         "Recency": 71,
         "Frequency": 4,
         "Monetary": 228.47500000000002,
         "Periodicity": 0.3910906175580991,
         "_deepnote_index_column": 18241
        },
        {
         "Length": 252,
         "Recency": 152,
         "Frequency": 4,
         "Monetary": 343.17999999999995,
         "Periodicity": 0.2934685851030513,
         "_deepnote_index_column": 18242
        },
        {
         "Length": 262,
         "Recency": 145,
         "Frequency": 13,
         "Monetary": 289.07076923076903,
         "Periodicity": 0.44745937557914406,
         "_deepnote_index_column": 18245
        },
        {
         "Length": 216,
         "Recency": 105,
         "Frequency": 3,
         "Monetary": 279.91,
         "Periodicity": 0.08986148677579045,
         "_deepnote_index_column": 18247
        },
        {
         "Length": 272,
         "Recency": 136,
         "Frequency": 8,
         "Monetary": 2745.5175,
         "Periodicity": 0.4324820093158029,
         "_deepnote_index_column": 18251
        },
        {
         "Length": 172,
         "Recency": 129,
         "Frequency": 5,
         "Monetary": 203.0840000000001,
         "Periodicity": 0.4654839924446621,
         "_deepnote_index_column": 18252
        },
        {
         "Length": 212,
         "Recency": 72,
         "Frequency": 4,
         "Monetary": 565.6299999999998,
         "Periodicity": 0.45654691843727074,
         "_deepnote_index_column": 18257
        },
        {
         "Length": 108,
         "Recency": 70,
         "Frequency": 6,
         "Monetary": 343.27833333333336,
         "Periodicity": 0.40184008425977275,
         "_deepnote_index_column": 18258
        },
        {
         "Length": 365,
         "Recency": 117,
         "Frequency": 5,
         "Monetary": 395.92000000000013,
         "Periodicity": 0.41876209214160587,
         "_deepnote_index_column": 18259
        },
        {
         "Length": 349,
         "Recency": 74,
         "Frequency": 17,
         "Monetary": 430.52411764705823,
         "Periodicity": 0.4191071828076219,
         "_deepnote_index_column": 18260
        },
        {
         "Length": 137,
         "Recency": 86,
         "Frequency": 5,
         "Monetary": 292.946,
         "Periodicity": 0.45066644465897815,
         "_deepnote_index_column": 18268
        },
        {
         "Length": 97,
         "Recency": 57,
         "Frequency": 3,
         "Monetary": 435.8000000000001,
         "Periodicity": 0.021606040536255616,
         "_deepnote_index_column": 18272
        },
        {
         "Length": 336,
         "Recency": 148,
         "Frequency": 5,
         "Monetary": 264.13200000000006,
         "Periodicity": 0.4140707619138468,
         "_deepnote_index_column": 18276
        },
        {
         "Length": 97,
         "Recency": 39,
         "Frequency": 4,
         "Monetary": 267.4175,
         "Periodicity": 0.07834100796394303,
         "_deepnote_index_column": 18277
        },
        {
         "Length": 275,
         "Recency": 159,
         "Frequency": 6,
         "Monetary": 103.22833333333325,
         "Periodicity": 0.4923132126834664,
         "_deepnote_index_column": 18283
        },
        {
         "Length": 188,
         "Recency": 136,
         "Frequency": 4,
         "Monetary": 586.4274999999998,
         "Periodicity": 0.5613557176777906,
         "_deepnote_index_column": 18287
        }
       ]
      },
      "text/plain": "             Length  Recency  Frequency     Monetary  Periodicity\nCustomer ID                                                      \n12346           196     69.0         11    33.896364     0.477915\n12349           181     84.0          3   890.380000     0.053524\n12356            44     24.0          3  1186.766667     0.510688\n12358           356    159.0          3   906.336667     0.529839\n12359           308    167.0          6   427.226667     0.445477\n...             ...      ...        ...          ...          ...\n18272            97     57.0          3   435.800000     0.021606\n18276           336    148.0          5   264.132000     0.414071\n18277            97     39.0          4   267.417500     0.078341\n18283           275    159.0          6   103.228333     0.492313\n18287           188    136.0          4   586.427500     0.561356\n\n[2083 rows x 5 columns]",
      "text/html": "<div>\n<style scoped>\n    .dataframe tbody tr th:only-of-type {\n        vertical-align: middle;\n    }\n\n    .dataframe tbody tr th {\n        vertical-align: top;\n    }\n\n    .dataframe thead th {\n        text-align: right;\n    }\n</style>\n<table border=\"1\" class=\"dataframe\">\n  <thead>\n    <tr style=\"text-align: right;\">\n      <th></th>\n      <th>Length</th>\n      <th>Recency</th>\n      <th>Frequency</th>\n      <th>Monetary</th>\n      <th>Periodicity</th>\n    </tr>\n    <tr>\n      <th>Customer ID</th>\n      <th></th>\n      <th></th>\n      <th></th>\n      <th></th>\n      <th></th>\n    </tr>\n  </thead>\n  <tbody>\n    <tr>\n      <th>12346</th>\n      <td>196</td>\n      <td>69.0</td>\n      <td>11</td>\n      <td>33.896364</td>\n      <td>0.477915</td>\n    </tr>\n    <tr>\n      <th>12349</th>\n      <td>181</td>\n      <td>84.0</td>\n      <td>3</td>\n      <td>890.380000</td>\n      <td>0.053524</td>\n    </tr>\n    <tr>\n      <th>12356</th>\n      <td>44</td>\n      <td>24.0</td>\n      <td>3</td>\n      <td>1186.766667</td>\n      <td>0.510688</td>\n    </tr>\n    <tr>\n      <th>12358</th>\n      <td>356</td>\n      <td>159.0</td>\n      <td>3</td>\n      <td>906.336667</td>\n      <td>0.529839</td>\n    </tr>\n    <tr>\n      <th>12359</th>\n      <td>308</td>\n      <td>167.0</td>\n      <td>6</td>\n      <td>427.226667</td>\n      <td>0.445477</td>\n    </tr>\n    <tr>\n      <th>...</th>\n      <td>...</td>\n      <td>...</td>\n      <td>...</td>\n      <td>...</td>\n      <td>...</td>\n    </tr>\n    <tr>\n      <th>18272</th>\n      <td>97</td>\n      <td>57.0</td>\n      <td>3</td>\n      <td>435.800000</td>\n      <td>0.021606</td>\n    </tr>\n    <tr>\n      <th>18276</th>\n      <td>336</td>\n      <td>148.0</td>\n      <td>5</td>\n      <td>264.132000</td>\n      <td>0.414071</td>\n    </tr>\n    <tr>\n      <th>18277</th>\n      <td>97</td>\n      <td>39.0</td>\n      <td>4</td>\n      <td>267.417500</td>\n      <td>0.078341</td>\n    </tr>\n    <tr>\n      <th>18283</th>\n      <td>275</td>\n      <td>159.0</td>\n      <td>6</td>\n      <td>103.228333</td>\n      <td>0.492313</td>\n    </tr>\n    <tr>\n      <th>18287</th>\n      <td>188</td>\n      <td>136.0</td>\n      <td>4</td>\n      <td>586.427500</td>\n      <td>0.561356</td>\n    </tr>\n  </tbody>\n</table>\n<p>2083 rows × 5 columns</p>\n</div>"
     },
     "metadata": {},
     "output_type": "display_data"
    }
   ]
  },
  {
   "cell_type": "markdown",
   "source": "**Resúesta de Pauta:**",
   "metadata": {
    "tags": [],
    "cell_id": "00021-7a165a57-848e-4404-870f-cdaba339a9d8",
    "deepnote_cell_type": "markdown"
   }
  },
  {
   "cell_type": "markdown",
   "source": "## 1.3 Pipelines 👷",
   "metadata": {
    "tags": [],
    "cell_id": "00024-d2150b7a-431a-4480-a6b3-801f31c9e464",
    "deepnote_cell_type": "markdown"
   }
  },
  {
   "cell_type": "markdown",
   "source": "Finalmente *Don Mora* le pregunta si seria posible realizar un pipeline para realizar una segmentación de los clientes con los nuevos datos generados, a lo que usted responde que **sí** y propone la utilización de k-means para la segmentación.\n\nA continuación siga los pasos requeridos para obtener la segmentación de clientes.",
   "metadata": {
    "tags": [],
    "cell_id": "00025-34c61ca0-c2da-4708-90a6-d8a6919da07b",
    "deepnote_cell_type": "markdown"
   }
  },
  {
   "cell_type": "markdown",
   "source": "### 1.3.1 Estandarizar Caracteristicas [0.5 puntos]",
   "metadata": {
    "tags": [],
    "cell_id": "00026-f8effaef-07fa-40a9-a9cc-1b2f7f4bc137",
    "deepnote_cell_type": "markdown"
   }
  },
  {
   "cell_type": "markdown",
   "source": "Construya una clase llamada ``MinMax()`` utilizando ``BaseEstimator`` y ``TransformerMixin`` para realizar una transformación de cada una de las columnas de un DataFrame utilizando ``ColumnTransformer()`` más tarde (tome como referencia el siguiente [enlace](https://sklearn-template.readthedocs.io/en/latest/user_guide.html#transformer)).\n\n\n Para esto considere que Min-Max escaler queda dada por la ecuación:\n\n$$MinMax = \\dfrac{x-min(x)}{max(x) - min(x)}$$\n\nCon esto buscamos que los valores que componen a las columnas se muevan en el rango de valores $[0, 1]$.",
   "metadata": {
    "tags": [],
    "cell_id": "00027-278c72d0-3d92-448e-85a2-af5dab7d6d77",
    "deepnote_cell_type": "markdown"
   }
  },
  {
   "cell_type": "markdown",
   "source": "**Respuesta:**",
   "metadata": {
    "tags": [],
    "cell_id": "00028-db77257b-6ecc-4dee-9f70-4f105e6aba42",
    "deepnote_cell_type": "markdown"
   }
  },
  {
   "cell_type": "code",
   "metadata": {
    "tags": [],
    "cell_id": "00029-b78cc7d2-05a8-4f86-a882-02e13ae67762",
    "deepnote_to_be_reexecuted": false,
    "source_hash": "e1e9056a",
    "execution_start": 1636692666025,
    "execution_millis": 17,
    "deepnote_cell_type": "code"
   },
   "source": "class MinMax(BaseEstimator, TransformerMixin):\n    def fit(self, X, y=None):\n        return self\n\n    def transform(self, X):\n        X = (X - X.min(axis=0))/(X.max(axis=0)-X.min(axis=0))\n        return X\n\n# MinMax().transform(ola)",
   "execution_count": null,
   "outputs": []
  },
  {
   "cell_type": "markdown",
   "source": "### 1.3.2 `T-SNA` Pipeline [1.0 puntos]",
   "metadata": {
    "tags": [],
    "cell_id": "00032-0ca1a5f5-1aab-4290-a8d4-b19be46f81ff",
    "deepnote_cell_type": "markdown"
   }
  },
  {
   "cell_type": "markdown",
   "source": "Para comenzar introduciéndose en el uso de pipeline, decide probar realizando un pipeline enfocado en la reducción de dimensionalidad y así hacer no decepcionar a Mr. Lepin con la clusterización del modelo. \n\nConfigure un pipeline utilizando el algoritmo `T-SNE` sobre los datos **LRMFP**, donde, para la realización del pipeline considera los siguientes pasos:\n\n1. Como primer paso obtenga las características **LRMFP** desde el DataFrame ``df_retail_II_cleaned.pickle`` utilizando la función ``custom_features`` creada anteriormente, junto a ``FunctionTransformer()``. Considere esto como el primer paso de su pipeline.\n2. En segundo lugar usando ``ColumnTransformer()`` aplique el MinxMax scaler creado por usted sobre todas las columnas generadas en el paso anterior. \n3. Finalmente, aplique un último paso donde obtiene las 2 componentes más relevantes utilizando el algoritmo T-sne de sckit-learn.\n\nTras aplicar las transformaciones sobre el dataset **LRMFP**, gráfique las componentes obtenidas en la reducción de dimensionalidad.",
   "metadata": {
    "tags": [],
    "cell_id": "00033-5056169a-b068-46d2-ad1b-8b7659ab956c",
    "deepnote_cell_type": "markdown"
   }
  },
  {
   "cell_type": "markdown",
   "source": "**Respuesta:**",
   "metadata": {
    "tags": [],
    "cell_id": "00034-eb18fbe8-72dd-496b-9f30-16cfb3ab5558",
    "deepnote_cell_type": "markdown"
   }
  },
  {
   "cell_type": "code",
   "metadata": {
    "tags": [],
    "cell_id": "00035-8231e7d2-13c6-45ec-9b9d-e9ecc8c27d94",
    "deepnote_to_be_reexecuted": false,
    "source_hash": "aae656cb",
    "execution_start": 1636692672485,
    "execution_millis": 104155,
    "deepnote_cell_type": "code"
   },
   "source": "\nfuncionFeatures = FunctionTransformer(custom_features)\nMinMax1 = ColumnTransformer(MinMax)\nLRMFP = Pipeline([('Preprocessing',funcionFeatures), \n                ('MinMaxTransform', MinMax()),\n                ('T-SNE', TSNE())])\n\n#LRMFP = FunctionTransformer(custom_features)\ndf_LRMFP = LRMFP.fit_transform(df_retail)",
   "execution_count": null,
   "outputs": [
    {
     "name": "stderr",
     "text": "/shared-libs/python3.7/py/lib/python3.7/site-packages/sklearn/manifold/_t_sne.py:783: FutureWarning:\n\nThe default initialization in TSNE will change from 'random' to 'pca' in 1.2.\n\n/shared-libs/python3.7/py/lib/python3.7/site-packages/sklearn/manifold/_t_sne.py:793: FutureWarning:\n\nThe default learning rate in TSNE will change from 200.0 to 'auto' in 1.2.\n\n",
     "output_type": "stream"
    }
   ]
  },
  {
   "cell_type": "code",
   "metadata": {
    "tags": [],
    "cell_id": "00034-7dcac1ec-74ff-4bc1-ac76-4338a44b7212",
    "deepnote_to_be_reexecuted": false,
    "source_hash": "783da012",
    "execution_start": 1636692787956,
    "execution_millis": 7,
    "deepnote_cell_type": "code"
   },
   "source": "df_LRMFP",
   "execution_count": null,
   "outputs": [
    {
     "output_type": "execute_result",
     "execution_count": 96,
     "data": {
      "text/plain": "array([[ 20.565302 ,  20.080679 ],\n       [-42.699104 ,  35.328327 ],\n       [ 34.905228 ,  44.506115 ],\n       ...,\n       [-51.396347 ,  21.276516 ],\n       [  9.055221 , -18.348946 ],\n       [ 25.782877 ,  12.0999975]], dtype=float32)"
     },
     "metadata": {}
    }
   ]
  },
  {
   "cell_type": "markdown",
   "source": "### 1.3.3 Clustering",
   "metadata": {
    "tags": [],
    "cell_id": "00040-719e872a-f25c-422d-ac77-28a5cd88d28c",
    "deepnote_cell_type": "markdown"
   }
  },
  {
   "cell_type": "markdown",
   "source": "#### 1.3.3.1 Método del Codo [1 puntos]",
   "metadata": {
    "tags": [],
    "cell_id": "00041-8ddce401-e8d1-498d-bd79-e6d3f11d9174",
    "deepnote_cell_type": "markdown"
   }
  },
  {
   "cell_type": "markdown",
   "source": "Utilizando la clase creada para escalamiento, aplique el método del codo para visualizar cual es el número de clusters que mejor se ajustan a los datos. Realice esto utilizando el algoritmo K-means dentro de un pipeline para un $k \\in [1,20]$, donde k representa el número de clusters del k-means. Para la realización de esta sección y la próxima (1.3.3.2), considere los mismos pasos utilizados para el t-sne, pero permutando el algoritmo de reducción de dimensionalidad por k-means.\n\nA través del grafico obtenido, comente y justifique que valor de k escogería para realizar el k-means.",
   "metadata": {
    "tags": [],
    "cell_id": "00042-b4254feb-88f4-4a6c-8556-e11b1b5911d0",
    "deepnote_cell_type": "markdown"
   }
  },
  {
   "cell_type": "markdown",
   "source": "**Respuesta:**",
   "metadata": {
    "tags": [],
    "cell_id": "00035-bbbef3bf-d15b-48e5-a4bb-cd9234b57e0f",
    "deepnote_cell_type": "markdown"
   }
  },
  {
   "cell_type": "code",
   "metadata": {
    "tags": [],
    "cell_id": "00035-f3c2ae6a-fc69-41da-b714-076734e1845e",
    "deepnote_to_be_reexecuted": false,
    "source_hash": "2f9b6655",
    "execution_start": 1636692792973,
    "execution_millis": 25544,
    "deepnote_cell_type": "code"
   },
   "source": "intertias = [\n    [i, KMeans(n_clusters=i, random_state=0).fit(df_LRMFP).inertia_]\n    for i in range(2, 20)\n]\nintertias = pd.DataFrame(intertias, columns=[\"n° clusters\", \"inertia\"])\nintertias.head(10)\npx.line(intertias, x=\"n° clusters\", y=\"inertia\", title=\"Método del Codo con K-Means\")",
   "execution_count": null,
   "outputs": [
    {
     "data": {
      "text/html": "<html>\n<head><meta charset=\"utf-8\" /></head>\n<body>\n    <div>            <script src=\"https://cdnjs.cloudflare.com/ajax/libs/mathjax/2.7.5/MathJax.js?config=TeX-AMS-MML_SVG\"></script><script type=\"text/javascript\">if (window.MathJax) {MathJax.Hub.Config({SVG: {font: \"STIX-Web\"}});}</script>                <script type=\"text/javascript\">window.PlotlyConfig = {MathJaxConfig: 'local'};</script>\n        <script src=\"https://cdn.plot.ly/plotly-2.4.2.min.js\"></script>                <div id=\"3b339e9c-1ab8-4e09-873e-9bbf120d5e97\" class=\"plotly-graph-div\" style=\"height:525px; width:100%;\"></div>            <script type=\"text/javascript\">                                    window.PLOTLYENV=window.PLOTLYENV || {};                                    if (document.getElementById(\"3b339e9c-1ab8-4e09-873e-9bbf120d5e97\")) {                    Plotly.newPlot(                        \"3b339e9c-1ab8-4e09-873e-9bbf120d5e97\",                        [{\"hovertemplate\":\"n\\u00b0 clusters=%{x}<br>inertia=%{y}<extra></extra>\",\"legendgroup\":\"\",\"line\":{\"color\":\"#636efa\",\"dash\":\"solid\"},\"marker\":{\"symbol\":\"circle\"},\"mode\":\"lines\",\"name\":\"\",\"orientation\":\"v\",\"showlegend\":false,\"type\":\"scatter\",\"x\":[2,3,4,5,6,7,8,9,10,11,12,13,14,15,16,17,18,19],\"xaxis\":\"x\",\"y\":[1760627.25,899231.8125,566350.375,448220.5,373203.125,299795.6875,262732.78125,228874.4375,195798.71875,173991.046875,155925.71875,142886.875,130055.0625,120322.375,112245.265625,104317.390625,98781.78125,92996.6328125],\"yaxis\":\"y\"}],                        {\"legend\":{\"tracegroupgap\":0},\"template\":{\"data\":{\"bar\":[{\"error_x\":{\"color\":\"#2a3f5f\"},\"error_y\":{\"color\":\"#2a3f5f\"},\"marker\":{\"line\":{\"color\":\"#E5ECF6\",\"width\":0.5},\"pattern\":{\"fillmode\":\"overlay\",\"size\":10,\"solidity\":0.2}},\"type\":\"bar\"}],\"barpolar\":[{\"marker\":{\"line\":{\"color\":\"#E5ECF6\",\"width\":0.5},\"pattern\":{\"fillmode\":\"overlay\",\"size\":10,\"solidity\":0.2}},\"type\":\"barpolar\"}],\"carpet\":[{\"aaxis\":{\"endlinecolor\":\"#2a3f5f\",\"gridcolor\":\"white\",\"linecolor\":\"white\",\"minorgridcolor\":\"white\",\"startlinecolor\":\"#2a3f5f\"},\"baxis\":{\"endlinecolor\":\"#2a3f5f\",\"gridcolor\":\"white\",\"linecolor\":\"white\",\"minorgridcolor\":\"white\",\"startlinecolor\":\"#2a3f5f\"},\"type\":\"carpet\"}],\"choropleth\":[{\"colorbar\":{\"outlinewidth\":0,\"ticks\":\"\"},\"type\":\"choropleth\"}],\"contour\":[{\"colorbar\":{\"outlinewidth\":0,\"ticks\":\"\"},\"colorscale\":[[0.0,\"#0d0887\"],[0.1111111111111111,\"#46039f\"],[0.2222222222222222,\"#7201a8\"],[0.3333333333333333,\"#9c179e\"],[0.4444444444444444,\"#bd3786\"],[0.5555555555555556,\"#d8576b\"],[0.6666666666666666,\"#ed7953\"],[0.7777777777777778,\"#fb9f3a\"],[0.8888888888888888,\"#fdca26\"],[1.0,\"#f0f921\"]],\"type\":\"contour\"}],\"contourcarpet\":[{\"colorbar\":{\"outlinewidth\":0,\"ticks\":\"\"},\"type\":\"contourcarpet\"}],\"heatmap\":[{\"colorbar\":{\"outlinewidth\":0,\"ticks\":\"\"},\"colorscale\":[[0.0,\"#0d0887\"],[0.1111111111111111,\"#46039f\"],[0.2222222222222222,\"#7201a8\"],[0.3333333333333333,\"#9c179e\"],[0.4444444444444444,\"#bd3786\"],[0.5555555555555556,\"#d8576b\"],[0.6666666666666666,\"#ed7953\"],[0.7777777777777778,\"#fb9f3a\"],[0.8888888888888888,\"#fdca26\"],[1.0,\"#f0f921\"]],\"type\":\"heatmap\"}],\"heatmapgl\":[{\"colorbar\":{\"outlinewidth\":0,\"ticks\":\"\"},\"colorscale\":[[0.0,\"#0d0887\"],[0.1111111111111111,\"#46039f\"],[0.2222222222222222,\"#7201a8\"],[0.3333333333333333,\"#9c179e\"],[0.4444444444444444,\"#bd3786\"],[0.5555555555555556,\"#d8576b\"],[0.6666666666666666,\"#ed7953\"],[0.7777777777777778,\"#fb9f3a\"],[0.8888888888888888,\"#fdca26\"],[1.0,\"#f0f921\"]],\"type\":\"heatmapgl\"}],\"histogram\":[{\"marker\":{\"pattern\":{\"fillmode\":\"overlay\",\"size\":10,\"solidity\":0.2}},\"type\":\"histogram\"}],\"histogram2d\":[{\"colorbar\":{\"outlinewidth\":0,\"ticks\":\"\"},\"colorscale\":[[0.0,\"#0d0887\"],[0.1111111111111111,\"#46039f\"],[0.2222222222222222,\"#7201a8\"],[0.3333333333333333,\"#9c179e\"],[0.4444444444444444,\"#bd3786\"],[0.5555555555555556,\"#d8576b\"],[0.6666666666666666,\"#ed7953\"],[0.7777777777777778,\"#fb9f3a\"],[0.8888888888888888,\"#fdca26\"],[1.0,\"#f0f921\"]],\"type\":\"histogram2d\"}],\"histogram2dcontour\":[{\"colorbar\":{\"outlinewidth\":0,\"ticks\":\"\"},\"colorscale\":[[0.0,\"#0d0887\"],[0.1111111111111111,\"#46039f\"],[0.2222222222222222,\"#7201a8\"],[0.3333333333333333,\"#9c179e\"],[0.4444444444444444,\"#bd3786\"],[0.5555555555555556,\"#d8576b\"],[0.6666666666666666,\"#ed7953\"],[0.7777777777777778,\"#fb9f3a\"],[0.8888888888888888,\"#fdca26\"],[1.0,\"#f0f921\"]],\"type\":\"histogram2dcontour\"}],\"mesh3d\":[{\"colorbar\":{\"outlinewidth\":0,\"ticks\":\"\"},\"type\":\"mesh3d\"}],\"parcoords\":[{\"line\":{\"colorbar\":{\"outlinewidth\":0,\"ticks\":\"\"}},\"type\":\"parcoords\"}],\"pie\":[{\"automargin\":true,\"type\":\"pie\"}],\"scatter\":[{\"marker\":{\"colorbar\":{\"outlinewidth\":0,\"ticks\":\"\"}},\"type\":\"scatter\"}],\"scatter3d\":[{\"line\":{\"colorbar\":{\"outlinewidth\":0,\"ticks\":\"\"}},\"marker\":{\"colorbar\":{\"outlinewidth\":0,\"ticks\":\"\"}},\"type\":\"scatter3d\"}],\"scattercarpet\":[{\"marker\":{\"colorbar\":{\"outlinewidth\":0,\"ticks\":\"\"}},\"type\":\"scattercarpet\"}],\"scattergeo\":[{\"marker\":{\"colorbar\":{\"outlinewidth\":0,\"ticks\":\"\"}},\"type\":\"scattergeo\"}],\"scattergl\":[{\"marker\":{\"colorbar\":{\"outlinewidth\":0,\"ticks\":\"\"}},\"type\":\"scattergl\"}],\"scattermapbox\":[{\"marker\":{\"colorbar\":{\"outlinewidth\":0,\"ticks\":\"\"}},\"type\":\"scattermapbox\"}],\"scatterpolar\":[{\"marker\":{\"colorbar\":{\"outlinewidth\":0,\"ticks\":\"\"}},\"type\":\"scatterpolar\"}],\"scatterpolargl\":[{\"marker\":{\"colorbar\":{\"outlinewidth\":0,\"ticks\":\"\"}},\"type\":\"scatterpolargl\"}],\"scatterternary\":[{\"marker\":{\"colorbar\":{\"outlinewidth\":0,\"ticks\":\"\"}},\"type\":\"scatterternary\"}],\"surface\":[{\"colorbar\":{\"outlinewidth\":0,\"ticks\":\"\"},\"colorscale\":[[0.0,\"#0d0887\"],[0.1111111111111111,\"#46039f\"],[0.2222222222222222,\"#7201a8\"],[0.3333333333333333,\"#9c179e\"],[0.4444444444444444,\"#bd3786\"],[0.5555555555555556,\"#d8576b\"],[0.6666666666666666,\"#ed7953\"],[0.7777777777777778,\"#fb9f3a\"],[0.8888888888888888,\"#fdca26\"],[1.0,\"#f0f921\"]],\"type\":\"surface\"}],\"table\":[{\"cells\":{\"fill\":{\"color\":\"#EBF0F8\"},\"line\":{\"color\":\"white\"}},\"header\":{\"fill\":{\"color\":\"#C8D4E3\"},\"line\":{\"color\":\"white\"}},\"type\":\"table\"}]},\"layout\":{\"annotationdefaults\":{\"arrowcolor\":\"#2a3f5f\",\"arrowhead\":0,\"arrowwidth\":1},\"autotypenumbers\":\"strict\",\"coloraxis\":{\"colorbar\":{\"outlinewidth\":0,\"ticks\":\"\"}},\"colorscale\":{\"diverging\":[[0,\"#8e0152\"],[0.1,\"#c51b7d\"],[0.2,\"#de77ae\"],[0.3,\"#f1b6da\"],[0.4,\"#fde0ef\"],[0.5,\"#f7f7f7\"],[0.6,\"#e6f5d0\"],[0.7,\"#b8e186\"],[0.8,\"#7fbc41\"],[0.9,\"#4d9221\"],[1,\"#276419\"]],\"sequential\":[[0.0,\"#0d0887\"],[0.1111111111111111,\"#46039f\"],[0.2222222222222222,\"#7201a8\"],[0.3333333333333333,\"#9c179e\"],[0.4444444444444444,\"#bd3786\"],[0.5555555555555556,\"#d8576b\"],[0.6666666666666666,\"#ed7953\"],[0.7777777777777778,\"#fb9f3a\"],[0.8888888888888888,\"#fdca26\"],[1.0,\"#f0f921\"]],\"sequentialminus\":[[0.0,\"#0d0887\"],[0.1111111111111111,\"#46039f\"],[0.2222222222222222,\"#7201a8\"],[0.3333333333333333,\"#9c179e\"],[0.4444444444444444,\"#bd3786\"],[0.5555555555555556,\"#d8576b\"],[0.6666666666666666,\"#ed7953\"],[0.7777777777777778,\"#fb9f3a\"],[0.8888888888888888,\"#fdca26\"],[1.0,\"#f0f921\"]]},\"colorway\":[\"#636efa\",\"#EF553B\",\"#00cc96\",\"#ab63fa\",\"#FFA15A\",\"#19d3f3\",\"#FF6692\",\"#B6E880\",\"#FF97FF\",\"#FECB52\"],\"font\":{\"color\":\"#2a3f5f\"},\"geo\":{\"bgcolor\":\"white\",\"lakecolor\":\"white\",\"landcolor\":\"#E5ECF6\",\"showlakes\":true,\"showland\":true,\"subunitcolor\":\"white\"},\"hoverlabel\":{\"align\":\"left\"},\"hovermode\":\"closest\",\"mapbox\":{\"style\":\"light\"},\"paper_bgcolor\":\"white\",\"plot_bgcolor\":\"#E5ECF6\",\"polar\":{\"angularaxis\":{\"gridcolor\":\"white\",\"linecolor\":\"white\",\"ticks\":\"\"},\"bgcolor\":\"#E5ECF6\",\"radialaxis\":{\"gridcolor\":\"white\",\"linecolor\":\"white\",\"ticks\":\"\"}},\"scene\":{\"xaxis\":{\"backgroundcolor\":\"#E5ECF6\",\"gridcolor\":\"white\",\"gridwidth\":2,\"linecolor\":\"white\",\"showbackground\":true,\"ticks\":\"\",\"zerolinecolor\":\"white\"},\"yaxis\":{\"backgroundcolor\":\"#E5ECF6\",\"gridcolor\":\"white\",\"gridwidth\":2,\"linecolor\":\"white\",\"showbackground\":true,\"ticks\":\"\",\"zerolinecolor\":\"white\"},\"zaxis\":{\"backgroundcolor\":\"#E5ECF6\",\"gridcolor\":\"white\",\"gridwidth\":2,\"linecolor\":\"white\",\"showbackground\":true,\"ticks\":\"\",\"zerolinecolor\":\"white\"}},\"shapedefaults\":{\"line\":{\"color\":\"#2a3f5f\"}},\"ternary\":{\"aaxis\":{\"gridcolor\":\"white\",\"linecolor\":\"white\",\"ticks\":\"\"},\"baxis\":{\"gridcolor\":\"white\",\"linecolor\":\"white\",\"ticks\":\"\"},\"bgcolor\":\"#E5ECF6\",\"caxis\":{\"gridcolor\":\"white\",\"linecolor\":\"white\",\"ticks\":\"\"}},\"title\":{\"x\":0.05},\"xaxis\":{\"automargin\":true,\"gridcolor\":\"white\",\"linecolor\":\"white\",\"ticks\":\"\",\"title\":{\"standoff\":15},\"zerolinecolor\":\"white\",\"zerolinewidth\":2},\"yaxis\":{\"automargin\":true,\"gridcolor\":\"white\",\"linecolor\":\"white\",\"ticks\":\"\",\"title\":{\"standoff\":15},\"zerolinecolor\":\"white\",\"zerolinewidth\":2}}},\"title\":{\"text\":\"M\\u00e9todo del Codo con K-Means\"},\"xaxis\":{\"anchor\":\"y\",\"domain\":[0.0,1.0],\"title\":{\"text\":\"n\\u00b0 clusters\"}},\"yaxis\":{\"anchor\":\"x\",\"domain\":[0.0,1.0],\"title\":{\"text\":\"inertia\"}}},                        {\"responsive\": true}                    ).then(function(){\n                            \nvar gd = document.getElementById('3b339e9c-1ab8-4e09-873e-9bbf120d5e97');\nvar x = new MutationObserver(function (mutations, observer) {{\n        var display = window.getComputedStyle(gd).display;\n        if (!display || display === 'none') {{\n            console.log([gd, 'removed!']);\n            Plotly.purge(gd);\n            observer.disconnect();\n        }}\n}});\n\n// Listen for the removal of the full notebook cells\nvar notebookContainer = gd.closest('#notebook-container');\nif (notebookContainer) {{\n    x.observe(notebookContainer, {childList: true});\n}}\n\n// Listen for the clearing of the current output cell\nvar outputEl = gd.closest('.output');\nif (outputEl) {{\n    x.observe(outputEl, {childList: true});\n}}\n\n                        })                };                            </script>        </div>\n</body>\n</html>"
     },
     "metadata": {},
     "output_type": "display_data"
    }
   ]
  },
  {
   "cell_type": "markdown",
   "source": "A partir del gráfico, se observa que hay una mayor caída en la disminución del error cuadrático medio a partir de los 4 clusters, pero esta aún mantiene una pendiente considerable, por lo que se decide utilizar 6 clusters, ya que desde ese punto el error comienza a bajar con una pendiente más cercana a 0.",
   "metadata": {
    "tags": [],
    "cell_id": "00040-db82673d-2dfb-464f-8a9b-f2b60cd7961a",
    "deepnote_cell_type": "markdown"
   }
  },
  {
   "cell_type": "markdown",
   "source": "#### 1.3.3.2 Segmentación de Clientes con K-Means 🎁 [1 punto]",
   "metadata": {
    "tags": [],
    "cell_id": "00044-df589bc4-557f-423c-9487-748b15b95e60",
    "deepnote_cell_type": "markdown"
   }
  },
  {
   "cell_type": "markdown",
   "source": "En base a la elección de k realizada en la sección anterior, utilice este valor escogido y entrene un modelo de K-means utilizando el mismo pipeline de scikit-learn utilizado anteriormente.\n\nUna vez ajustado los datos, genere una tabla con los promedios (o medianas) para cada uno de los atributos, agrupando estos por el clúster que pertenecen. ¿Es posible observar agrupaciones coherentes?, ¿Qué tipo de clientes posee el retail?, Justifique su respuesta y no decepcione a Mr. Lepin.\n",
   "metadata": {
    "tags": [],
    "cell_id": "00045-eb892d43-2d7d-49a0-8002-164dcb56e1e1",
    "deepnote_cell_type": "markdown"
   }
  },
  {
   "cell_type": "markdown",
   "source": "**Respuesta:**",
   "metadata": {
    "tags": [],
    "cell_id": "00046-e66d7746-b52e-4c05-b1b4-b89934c4c92c",
    "deepnote_cell_type": "markdown"
   }
  },
  {
   "cell_type": "code",
   "metadata": {
    "tags": [],
    "cell_id": "00047-48846aeb-9c0c-454e-b45c-dac210f5a007",
    "deepnote_to_be_reexecuted": false,
    "source_hash": "770cbd58",
    "execution_start": 1636692947503,
    "execution_millis": 887,
    "deepnote_cell_type": "code"
   },
   "source": "#KMeans(n_clusters=6, random_state=0).fit(df_LRMFP).\nkmeans = KMeans(n_clusters=6, random_state=0)\nkmeans.fit(df_LRMFP)\ndf_custom['Cluster'] = kmeans.labels_\ndf_LRMFP= pd.DataFrame(df_LRMFP)\ndf_LRMFP['Cluster'] = kmeans.labels_\n",
   "execution_count": null,
   "outputs": [
    {
     "name": "stderr",
     "text": "/shared-libs/python3.7/py/lib/python3.7/site-packages/sklearn/utils/validation.py:1679: FutureWarning:\n\nFeature names only support names that are all strings. Got feature names with dtypes: ['int', 'str']. An error will be raised in 1.2.\n\n",
     "output_type": "stream"
    }
   ]
  },
  {
   "cell_type": "code",
   "metadata": {
    "tags": [],
    "cell_id": "00045-da823c13-0fd6-4b07-892d-1390f0daed3e",
    "deepnote_to_be_reexecuted": false,
    "source_hash": "6668b6dd",
    "execution_start": 1636692956910,
    "execution_millis": 90,
    "deepnote_cell_type": "code"
   },
   "source": "df_custom = df_custom.groupby('Cluster').mean()\ndf_custom",
   "execution_count": null,
   "outputs": [
    {
     "output_type": "execute_result",
     "execution_count": 102,
     "data": {
      "application/vnd.deepnote.dataframe.v2+json": {
       "row_count": 6,
       "column_count": 5,
       "columns": [
        {
         "name": "Length",
         "dtype": "float64",
         "stats": {
          "unique_count": 6,
          "nan_count": 0,
          "min": "87.89308176100629",
          "max": "352.69444444444446",
          "histogram": [
           {
            "bin_start": 87.89308176100629,
            "bin_end": 114.37321802935011,
            "count": 1
           },
           {
            "bin_start": 114.37321802935011,
            "bin_end": 140.85335429769393,
            "count": 0
           },
           {
            "bin_start": 140.85335429769393,
            "bin_end": 167.33349056603777,
            "count": 1
           },
           {
            "bin_start": 167.33349056603777,
            "bin_end": 193.81362683438158,
            "count": 0
           },
           {
            "bin_start": 193.81362683438158,
            "bin_end": 220.2937631027254,
            "count": 1
           },
           {
            "bin_start": 220.2937631027254,
            "bin_end": 246.7738993710692,
            "count": 0
           },
           {
            "bin_start": 246.7738993710692,
            "bin_end": 273.254035639413,
            "count": 0
           },
           {
            "bin_start": 273.254035639413,
            "bin_end": 299.73417190775683,
            "count": 2
           },
           {
            "bin_start": 299.73417190775683,
            "bin_end": 326.21430817610064,
            "count": 0
           },
           {
            "bin_start": 326.21430817610064,
            "bin_end": 352.69444444444446,
            "count": 1
           }
          ]
         }
        },
        {
         "name": "Recency",
         "dtype": "float64",
         "stats": {
          "unique_count": 6,
          "nan_count": 0,
          "min": "45.69496855345912",
          "max": "171.12301587301587",
          "histogram": [
           {
            "bin_start": 45.69496855345912,
            "bin_end": 58.2377732854148,
            "count": 1
           },
           {
            "bin_start": 58.2377732854148,
            "bin_end": 70.78057801737047,
            "count": 0
           },
           {
            "bin_start": 70.78057801737047,
            "bin_end": 83.32338274932614,
            "count": 1
           },
           {
            "bin_start": 83.32338274932614,
            "bin_end": 95.86618748128183,
            "count": 0
           },
           {
            "bin_start": 95.86618748128183,
            "bin_end": 108.4089922132375,
            "count": 1
           },
           {
            "bin_start": 108.4089922132375,
            "bin_end": 120.95179694519317,
            "count": 1
           },
           {
            "bin_start": 120.95179694519317,
            "bin_end": 133.49460167714886,
            "count": 0
           },
           {
            "bin_start": 133.49460167714886,
            "bin_end": 146.0374064091045,
            "count": 0
           },
           {
            "bin_start": 146.0374064091045,
            "bin_end": 158.5802111410602,
            "count": 0
           },
           {
            "bin_start": 158.5802111410602,
            "bin_end": 171.12301587301587,
            "count": 2
           }
          ]
         }
        },
        {
         "name": "Frequency",
         "dtype": "float64",
         "stats": {
          "unique_count": 6,
          "nan_count": 0,
          "min": "3.2977099236641223",
          "max": "15.170634920634921",
          "histogram": [
           {
            "bin_start": 3.2977099236641223,
            "bin_end": 4.485002423361202,
            "count": 1
           },
           {
            "bin_start": 4.485002423361202,
            "bin_end": 5.672294923058282,
            "count": 2
           },
           {
            "bin_start": 5.672294923058282,
            "bin_end": 6.859587422755363,
            "count": 1
           },
           {
            "bin_start": 6.859587422755363,
            "bin_end": 8.046879922452442,
            "count": 1
           },
           {
            "bin_start": 8.046879922452442,
            "bin_end": 9.234172422149522,
            "count": 0
           },
           {
            "bin_start": 9.234172422149522,
            "bin_end": 10.421464921846603,
            "count": 0
           },
           {
            "bin_start": 10.421464921846603,
            "bin_end": 11.608757421543682,
            "count": 0
           },
           {
            "bin_start": 11.608757421543682,
            "bin_end": 12.796049921240762,
            "count": 0
           },
           {
            "bin_start": 12.796049921240762,
            "bin_end": 13.983342420937841,
            "count": 0
           },
           {
            "bin_start": 13.983342420937841,
            "bin_end": 15.170634920634921,
            "count": 1
           }
          ]
         }
        },
        {
         "name": "Monetary",
         "dtype": "float64",
         "stats": {
          "unique_count": 6,
          "nan_count": 0,
          "min": "361.27621237731756",
          "max": "441.3227278942528",
          "histogram": [
           {
            "bin_start": 361.27621237731756,
            "bin_end": 369.2808639290111,
            "count": 1
           },
           {
            "bin_start": 369.2808639290111,
            "bin_end": 377.2855154807046,
            "count": 1
           },
           {
            "bin_start": 377.2855154807046,
            "bin_end": 385.29016703239813,
            "count": 0
           },
           {
            "bin_start": 385.29016703239813,
            "bin_end": 393.2948185840917,
            "count": 1
           },
           {
            "bin_start": 393.2948185840917,
            "bin_end": 401.2994701357852,
            "count": 1
           },
           {
            "bin_start": 401.2994701357852,
            "bin_end": 409.3041216874787,
            "count": 0
           },
           {
            "bin_start": 409.3041216874787,
            "bin_end": 417.30877323917224,
            "count": 0
           },
           {
            "bin_start": 417.30877323917224,
            "bin_end": 425.3134247908657,
            "count": 1
           },
           {
            "bin_start": 425.3134247908657,
            "bin_end": 433.31807634255927,
            "count": 0
           },
           {
            "bin_start": 433.31807634255927,
            "bin_end": 441.3227278942528,
            "count": 1
           }
          ]
         }
        },
        {
         "name": "Periodicity",
         "dtype": "float64",
         "stats": {
          "unique_count": 6,
          "nan_count": 0,
          "min": "0.04771616027340105",
          "max": "0.4859007523188783",
          "histogram": [
           {
            "bin_start": 0.04771616027340105,
            "bin_end": 0.09153461947794878,
            "count": 1
           },
           {
            "bin_start": 0.09153461947794878,
            "bin_end": 0.13535307868249652,
            "count": 0
           },
           {
            "bin_start": 0.13535307868249652,
            "bin_end": 0.17917153788704424,
            "count": 0
           },
           {
            "bin_start": 0.17917153788704424,
            "bin_end": 0.22298999709159198,
            "count": 0
           },
           {
            "bin_start": 0.22298999709159198,
            "bin_end": 0.2668084562961397,
            "count": 0
           },
           {
            "bin_start": 0.2668084562961397,
            "bin_end": 0.3106269155006874,
            "count": 0
           },
           {
            "bin_start": 0.3106269155006874,
            "bin_end": 0.35444537470523513,
            "count": 0
           },
           {
            "bin_start": 0.35444537470523513,
            "bin_end": 0.39826383390978287,
            "count": 0
           },
           {
            "bin_start": 0.39826383390978287,
            "bin_end": 0.4420822931143306,
            "count": 2
           },
           {
            "bin_start": 0.4420822931143306,
            "bin_end": 0.4859007523188783,
            "count": 3
           }
          ]
         }
        },
        {
         "name": "_deepnote_index_column",
         "dtype": "int64"
        }
       ],
       "rows_top": [
        {
         "Length": 196.10538641686182,
         "Recency": 97.31850117096019,
         "Frequency": 5.021077283372366,
         "Monetary": 376.59181267143884,
         "Periodicity": 0.4859007523188783,
         "_deepnote_index_column": 0
        },
        {
         "Length": 352.69444444444446,
         "Recency": 171.12301587301587,
         "Frequency": 15.170634920634921,
         "Monetary": 441.3227278942528,
         "Periodicity": 0.41944093933000165,
         "_deepnote_index_column": 1
        },
        {
         "Length": 159.03435114503816,
         "Recency": 82.90458015267176,
         "Frequency": 3.2977099236641223,
         "Monetary": 361.27621237731756,
         "Periodicity": 0.04771616027340105,
         "_deepnote_index_column": 2
        },
        {
         "Length": 278.74460431654677,
         "Recency": 115.03956834532374,
         "Frequency": 7.381294964028777,
         "Monetary": 386.9436795179881,
         "Periodicity": 0.41131728544020363,
         "_deepnote_index_column": 3
        },
        {
         "Length": 87.89308176100629,
         "Recency": 45.69496855345912,
         "Frequency": 4.80188679245283,
         "Monetary": 395.8161140108503,
         "Periodicity": 0.4720316723019145,
         "_deepnote_index_column": 4
        },
        {
         "Length": 284.2857142857143,
         "Recency": 165.96598639455783,
         "Frequency": 6.6020408163265305,
         "Monetary": 422.74116050757755,
         "Periodicity": 0.47941597323782476,
         "_deepnote_index_column": 5
        }
       ],
       "rows_bottom": null
      },
      "text/plain": "             Length     Recency  Frequency    Monetary  Periodicity\nCluster                                                            \n0        196.105386   97.318501   5.021077  376.591813     0.485901\n1        352.694444  171.123016  15.170635  441.322728     0.419441\n2        159.034351   82.904580   3.297710  361.276212     0.047716\n3        278.744604  115.039568   7.381295  386.943680     0.411317\n4         87.893082   45.694969   4.801887  395.816114     0.472032\n5        284.285714  165.965986   6.602041  422.741161     0.479416",
      "text/html": "<div>\n<style scoped>\n    .dataframe tbody tr th:only-of-type {\n        vertical-align: middle;\n    }\n\n    .dataframe tbody tr th {\n        vertical-align: top;\n    }\n\n    .dataframe thead th {\n        text-align: right;\n    }\n</style>\n<table border=\"1\" class=\"dataframe\">\n  <thead>\n    <tr style=\"text-align: right;\">\n      <th></th>\n      <th>Length</th>\n      <th>Recency</th>\n      <th>Frequency</th>\n      <th>Monetary</th>\n      <th>Periodicity</th>\n    </tr>\n    <tr>\n      <th>Cluster</th>\n      <th></th>\n      <th></th>\n      <th></th>\n      <th></th>\n      <th></th>\n    </tr>\n  </thead>\n  <tbody>\n    <tr>\n      <th>0</th>\n      <td>196.105386</td>\n      <td>97.318501</td>\n      <td>5.021077</td>\n      <td>376.591813</td>\n      <td>0.485901</td>\n    </tr>\n    <tr>\n      <th>1</th>\n      <td>352.694444</td>\n      <td>171.123016</td>\n      <td>15.170635</td>\n      <td>441.322728</td>\n      <td>0.419441</td>\n    </tr>\n    <tr>\n      <th>2</th>\n      <td>159.034351</td>\n      <td>82.904580</td>\n      <td>3.297710</td>\n      <td>361.276212</td>\n      <td>0.047716</td>\n    </tr>\n    <tr>\n      <th>3</th>\n      <td>278.744604</td>\n      <td>115.039568</td>\n      <td>7.381295</td>\n      <td>386.943680</td>\n      <td>0.411317</td>\n    </tr>\n    <tr>\n      <th>4</th>\n      <td>87.893082</td>\n      <td>45.694969</td>\n      <td>4.801887</td>\n      <td>395.816114</td>\n      <td>0.472032</td>\n    </tr>\n    <tr>\n      <th>5</th>\n      <td>284.285714</td>\n      <td>165.965986</td>\n      <td>6.602041</td>\n      <td>422.741161</td>\n      <td>0.479416</td>\n    </tr>\n  </tbody>\n</table>\n</div>"
     },
     "metadata": {}
    }
   ]
  },
  {
   "cell_type": "markdown",
   "source": "Dado el clustering realizado, y a través las medias de _LRFMP_ para los grupos, se pueden observar agrupaciones coherentes, a simple vista, el **cluster 2** corresponde a aquellos clientes que tienen una _Periodicity_ promedio significativamente mas baja que los demás grupos, es decir son clientes que visitaron con frecuencia la tienda, sin embargo, se puede apreciar también que este mismo grupo tiene una _Frequency_ relativamente baja, realizando en promedio 3.3 visitas durante el período estudiado. Por otro lado, se puede apreciar a **cluster 1** que posee los clientes mas fieles, es decir con un mayor _Length_, además de ser los que más gastan en promedio por visita (_Monetary_), además de visitar más seguido(_Frequency_) mientras que el **cluster 4** son aquellos clientes que comenzaron a comprar recientemente en el retail de Mr. Lepin, en comparación con otros grupos, además de tener una tendencia a repetir la compra en un periodo más acotado, reflejado en su bajo _Recency_.\n\nLos **grupos 0, 3 y 5** son similares entre ellos, con la diferencia en que este último tiene clientes con una mayor _Recency_ que los grupos 0 y 3, además de gastar mas dinero en promedio y visitar mas frecuentemente. Por otro lado, el **grupo 0** posee los clientes menos fieles de estos tres grupos, con una menor _Recency_ y una mayor _Periodicty_, mientras que el **grupo 3** tiene aquellos clientes que visitan mas frecuentemente.",
   "metadata": {
    "tags": [],
    "cell_id": "00046-91f5ed8d-5939-472b-9143-90da83b5a3c9",
    "deepnote_cell_type": "markdown"
   }
  },
  {
   "cell_type": "markdown",
   "source": "**Respuesta Esperada:**\n\n|         | Length  | Recency   | Frequency | Monetary | Periodicity |       |\n|---------|---------|-----------|----------|-------------|-------|-------|\n| Cluster |         |           |          |             |       |       |\n|    0    |   258.8 |      45.2 |     76.1 |      1107.7 | 107.6 |   449 |\n|    1    |    76.1 |     217.6 |     45.5 |       791.7 |  14.1 |   466 |\n|    2    |   368.5 |       4.8 |   2715.0 |    226621.6 |   4.2 |     4 |\n|    3    |    85.3 |      45.7 |     65.8 |      1047.0 |  10.5 |   987 |\n|    4    |   347.2 |      15.9 |   1658.0 |     35829.3 |   8.0 |    25 |\n|    5    |   298.0 |      29.8 |    183.8 |      3639.9 |  32.0 |  1188 |",
   "metadata": {
    "tags": [],
    "cell_id": "00053-4802e3b0-f4e2-4235-909a-43e607f46997",
    "deepnote_cell_type": "markdown"
   }
  },
  {
   "cell_type": "markdown",
   "source": "#### 1.3.3.3 Plot de K-Means 📈 [0.5 puntos]\n\n",
   "metadata": {
    "tags": [],
    "cell_id": "00042-95fcbe7f-ad2e-4116-92da-49ae755a4311",
    "deepnote_cell_type": "markdown"
   }
  },
  {
   "cell_type": "markdown",
   "source": "Por último, Mr. Lepin, impaciente de no entender lo que usted intenta explicarle, le solicita que por favor muestre algún resultado \"visual\" de los grupos encontrados.\n\nPara esto, grafique nuevamente las características encontradas usando `T-SNE` (no calcule de nuevo, simplemente utilice las proyecciones encontradas) y agregue las labels calculadas con kmeans como el argumento `color`.   \n\nComente: ¿Se separan bien los distintos clusters en la visualización?\n",
   "metadata": {
    "tags": [],
    "cell_id": "00043-33a035f7-7aaf-4aad-98a2-0c4295fa136f",
    "deepnote_cell_type": "markdown"
   }
  },
  {
   "cell_type": "markdown",
   "source": "**Respuesta:**",
   "metadata": {
    "tags": [],
    "cell_id": "00044-d04e1a07-81ac-4440-9cf0-65f9f8dd6a8c",
    "deepnote_cell_type": "markdown"
   }
  },
  {
   "cell_type": "code",
   "metadata": {
    "tags": [],
    "cell_id": "00050-3bc624e4-d6ab-46eb-8612-ccbf9bd77a52",
    "deepnote_to_be_reexecuted": false,
    "source_hash": "2bf397aa",
    "execution_start": 1636693267579,
    "execution_millis": 184,
    "deepnote_cell_type": "code"
   },
   "source": "df_LRMFP",
   "execution_count": null,
   "outputs": [
    {
     "output_type": "execute_result",
     "execution_count": 116,
     "data": {
      "application/vnd.deepnote.dataframe.v2+json": {
       "row_count": 2083,
       "column_count": 3,
       "columns": [
        {
         "name": 0,
         "dtype": "float32",
         "stats": {
          "unique_count": 2083,
          "nan_count": 0,
          "min": "-61.046226501464844",
          "max": "45.065696716308594",
          "histogram": [
           {
            "bin_start": -61.046226501464844,
            "bin_end": -50.435035705566406,
            "count": 80
           },
           {
            "bin_start": -50.435035705566406,
            "bin_end": -39.8238410949707,
            "count": 84
           },
           {
            "bin_start": -39.8238410949707,
            "bin_end": -29.212650299072266,
            "count": 145
           },
           {
            "bin_start": -29.212650299072266,
            "bin_end": -18.601457595825195,
            "count": 178
           },
           {
            "bin_start": -18.601457595825195,
            "bin_end": -7.990264892578125,
            "count": 284
           },
           {
            "bin_start": -7.990264892578125,
            "bin_end": 2.620927333831787,
            "count": 324
           },
           {
            "bin_start": 2.620927333831787,
            "bin_end": 13.2321195602417,
            "count": 287
           },
           {
            "bin_start": 13.2321195602417,
            "bin_end": 23.843311309814453,
            "count": 296
           },
           {
            "bin_start": 23.843311309814453,
            "bin_end": 34.454505920410156,
            "count": 225
           },
           {
            "bin_start": 34.454505920410156,
            "bin_end": 45.065696716308594,
            "count": 180
           }
          ]
         }
        },
        {
         "name": 1,
         "dtype": "float32",
         "stats": {
          "unique_count": 2083,
          "nan_count": 0,
          "min": "-61.2921142578125",
          "max": "55.720157623291016",
          "histogram": [
           {
            "bin_start": -61.2921142578125,
            "bin_end": -49.59088897705078,
            "count": 156
           },
           {
            "bin_start": -49.59088897705078,
            "bin_end": -37.8896598815918,
            "count": 156
           },
           {
            "bin_start": -37.8896598815918,
            "bin_end": -26.188432693481445,
            "count": 234
           },
           {
            "bin_start": -26.188432693481445,
            "bin_end": -14.487205505371094,
            "count": 212
           },
           {
            "bin_start": -14.487205505371094,
            "bin_end": -2.785978317260742,
            "count": 192
           },
           {
            "bin_start": -2.785978317260742,
            "bin_end": 8.91524887084961,
            "count": 230
           },
           {
            "bin_start": 8.91524887084961,
            "bin_end": 20.61647605895996,
            "count": 269
           },
           {
            "bin_start": 20.61647605895996,
            "bin_end": 32.31770324707031,
            "count": 236
           },
           {
            "bin_start": 32.31770324707031,
            "bin_end": 44.01892852783203,
            "count": 225
           },
           {
            "bin_start": 44.01892852783203,
            "bin_end": 55.720157623291016,
            "count": 173
           }
          ]
         }
        },
        {
         "name": "Cluster",
         "dtype": "int32",
         "stats": {
          "unique_count": 6,
          "nan_count": 0,
          "min": "0",
          "max": "5",
          "histogram": [
           {
            "bin_start": 0,
            "bin_end": 0.5,
            "count": 427
           },
           {
            "bin_start": 0.5,
            "bin_end": 1,
            "count": 0
           },
           {
            "bin_start": 1,
            "bin_end": 1.5,
            "count": 504
           },
           {
            "bin_start": 1.5,
            "bin_end": 2,
            "count": 0
           },
           {
            "bin_start": 2,
            "bin_end": 2.5,
            "count": 262
           },
           {
            "bin_start": 2.5,
            "bin_end": 3,
            "count": 0
           },
           {
            "bin_start": 3,
            "bin_end": 3.5,
            "count": 278
           },
           {
            "bin_start": 3.5,
            "bin_end": 4,
            "count": 0
           },
           {
            "bin_start": 4,
            "bin_end": 4.5,
            "count": 318
           },
           {
            "bin_start": 4.5,
            "bin_end": 5,
            "count": 294
           }
          ]
         }
        },
        {
         "name": "_deepnote_index_column",
         "dtype": "int64"
        }
       ],
       "rows_top": [
        {
         "0": 20.5653018951416,
         "1": 20.080678939819336,
         "Cluster": 0,
         "_deepnote_index_column": 0
        },
        {
         "0": -42.69910430908203,
         "1": 35.32832717895508,
         "Cluster": 2,
         "_deepnote_index_column": 1
        },
        {
         "0": 34.90522766113281,
         "1": 44.5061149597168,
         "Cluster": 4,
         "_deepnote_index_column": 2
        },
        {
         "0": 1.6946780681610107,
         "1": -44.36872482299805,
         "Cluster": 1,
         "_deepnote_index_column": 3
        },
        {
         "0": -0.37723666429519653,
         "1": -25.104393005371094,
         "Cluster": 5,
         "_deepnote_index_column": 4
        },
        {
         "0": 21.50738525390625,
         "1": -15.989508628845215,
         "Cluster": 5,
         "_deepnote_index_column": 5
        },
        {
         "0": 37.62797164916992,
         "1": 4.789949417114258,
         "Cluster": 0,
         "_deepnote_index_column": 6
        },
        {
         "0": 21.179397583007812,
         "1": 5.726330757141113,
         "Cluster": 0,
         "_deepnote_index_column": 7
        },
        {
         "0": -56.857120513916016,
         "1": 18.029125213623047,
         "Cluster": 2,
         "_deepnote_index_column": 8
        },
        {
         "0": 28.04755973815918,
         "1": 6.899471282958984,
         "Cluster": 0,
         "_deepnote_index_column": 9
        },
        {
         "0": 25.47169303894043,
         "1": 14.864335060119629,
         "Cluster": 0,
         "_deepnote_index_column": 10
        },
        {
         "0": 6.677799224853516,
         "1": 19.66203498840332,
         "Cluster": 0,
         "_deepnote_index_column": 11
        },
        {
         "0": 5.00610876083374,
         "1": 2.162588357925415,
         "Cluster": 3,
         "_deepnote_index_column": 12
        },
        {
         "0": -39.80451965332031,
         "1": 36.075035095214844,
         "Cluster": 2,
         "_deepnote_index_column": 13
        },
        {
         "0": -31.856840133666992,
         "1": 38.439353942871094,
         "Cluster": 2,
         "_deepnote_index_column": 14
        },
        {
         "0": 36.42692565917969,
         "1": 1.9321436882019043,
         "Cluster": 0,
         "_deepnote_index_column": 15
        },
        {
         "0": 16.269290924072266,
         "1": -17.041418075561523,
         "Cluster": 5,
         "_deepnote_index_column": 16
        },
        {
         "0": -11.156876564025879,
         "1": -21.915006637573242,
         "Cluster": 5,
         "_deepnote_index_column": 17
        },
        {
         "0": 44.87188720703125,
         "1": 40.7314453125,
         "Cluster": 4,
         "_deepnote_index_column": 18
        },
        {
         "0": 24.420307159423828,
         "1": 23.786672592163086,
         "Cluster": 0,
         "_deepnote_index_column": 19
        },
        {
         "0": -44.82897186279297,
         "1": 27.83969497680664,
         "Cluster": 2,
         "_deepnote_index_column": 20
        },
        {
         "0": -59.04325485229492,
         "1": 13.122215270996094,
         "Cluster": 2,
         "_deepnote_index_column": 21
        },
        {
         "0": 24.190921783447266,
         "1": 23.814489364624023,
         "Cluster": 0,
         "_deepnote_index_column": 22
        },
        {
         "0": -6.318271636962891,
         "1": -32.693878173828125,
         "Cluster": 1,
         "_deepnote_index_column": 23
        },
        {
         "0": -36.157752990722656,
         "1": 37.17829132080078,
         "Cluster": 2,
         "_deepnote_index_column": 24
        },
        {
         "0": -18.461612701416016,
         "1": -17.62003517150879,
         "Cluster": 3,
         "_deepnote_index_column": 25
        },
        {
         "0": 17.52943992614746,
         "1": 18.428531646728516,
         "Cluster": 0,
         "_deepnote_index_column": 26
        },
        {
         "0": -0.6876375079154968,
         "1": -37.6456184387207,
         "Cluster": 1,
         "_deepnote_index_column": 27
        },
        {
         "0": 24.363853454589844,
         "1": 44.48273468017578,
         "Cluster": 4,
         "_deepnote_index_column": 28
        },
        {
         "0": -28.858436584472656,
         "1": -22.8834285736084,
         "Cluster": 1,
         "_deepnote_index_column": 29
        },
        {
         "0": -15.29383373260498,
         "1": -44.132877349853516,
         "Cluster": 1,
         "_deepnote_index_column": 30
        },
        {
         "0": 29.055143356323242,
         "1": 46.54566192626953,
         "Cluster": 4,
         "_deepnote_index_column": 31
        },
        {
         "0": -53.156089782714844,
         "1": 18.563169479370117,
         "Cluster": 2,
         "_deepnote_index_column": 32
        },
        {
         "0": -57.94301986694336,
         "1": 10.021337509155273,
         "Cluster": 2,
         "_deepnote_index_column": 33
        },
        {
         "0": 10.642277717590332,
         "1": -28.87261390686035,
         "Cluster": 5,
         "_deepnote_index_column": 34
        },
        {
         "0": 41.636051177978516,
         "1": 9.64948844909668,
         "Cluster": 0,
         "_deepnote_index_column": 35
        },
        {
         "0": -24.626863479614258,
         "1": -49.91489028930664,
         "Cluster": 1,
         "_deepnote_index_column": 36
        },
        {
         "0": -35.674434661865234,
         "1": -36.77144241333008,
         "Cluster": 1,
         "_deepnote_index_column": 37
        },
        {
         "0": -11.251561164855957,
         "1": -6.148684024810791,
         "Cluster": 3,
         "_deepnote_index_column": 38
        },
        {
         "0": 21.913352966308594,
         "1": 43.72462844848633,
         "Cluster": 4,
         "_deepnote_index_column": 39
        },
        {
         "0": 6.150113105773926,
         "1": -4.793888092041016,
         "Cluster": 3,
         "_deepnote_index_column": 40
        },
        {
         "0": 41.76190185546875,
         "1": 39.01652526855469,
         "Cluster": 4,
         "_deepnote_index_column": 41
        },
        {
         "0": 7.549332141876221,
         "1": 7.91435432434082,
         "Cluster": 0,
         "_deepnote_index_column": 42
        },
        {
         "0": 19.0812931060791,
         "1": 48.174476623535156,
         "Cluster": 4,
         "_deepnote_index_column": 43
        },
        {
         "0": 0.0325731560587883,
         "1": -21.647634506225586,
         "Cluster": 5,
         "_deepnote_index_column": 44
        },
        {
         "0": 3.0266335010528564,
         "1": 21.14042091369629,
         "Cluster": 0,
         "_deepnote_index_column": 45
        },
        {
         "0": -11.998103141784668,
         "1": -52.7262077331543,
         "Cluster": 1,
         "_deepnote_index_column": 46
        },
        {
         "0": -34.143096923828125,
         "1": 36.718719482421875,
         "Cluster": 2,
         "_deepnote_index_column": 47
        },
        {
         "0": 13.102498054504395,
         "1": -12.103486061096191,
         "Cluster": 5,
         "_deepnote_index_column": 48
        },
        {
         "0": 4.45915412902832,
         "1": -14.92397689819336,
         "Cluster": 5,
         "_deepnote_index_column": 49
        },
        {
         "0": -12.44815731048584,
         "1": -51.99895477294922,
         "Cluster": 1,
         "_deepnote_index_column": 50
        },
        {
         "0": -11.831626892089844,
         "1": -3.1138076782226562,
         "Cluster": 3,
         "_deepnote_index_column": 51
        },
        {
         "0": 16.286142349243164,
         "1": 30.908700942993164,
         "Cluster": 0,
         "_deepnote_index_column": 52
        },
        {
         "0": 11.348993301391602,
         "1": 10.694914817810059,
         "Cluster": 0,
         "_deepnote_index_column": 53
        },
        {
         "0": 13.52557373046875,
         "1": -30.34030532836914,
         "Cluster": 5,
         "_deepnote_index_column": 54
        },
        {
         "0": -19.852018356323242,
         "1": -39.96760940551758,
         "Cluster": 1,
         "_deepnote_index_column": 55
        },
        {
         "0": 24.343793869018555,
         "1": 33.997711181640625,
         "Cluster": 4,
         "_deepnote_index_column": 56
        },
        {
         "0": -28.926494598388672,
         "1": -23.007591247558594,
         "Cluster": 1,
         "_deepnote_index_column": 57
        },
        {
         "0": -11.12833309173584,
         "1": -5.277960777282715,
         "Cluster": 3,
         "_deepnote_index_column": 58
        },
        {
         "0": -52.19981384277344,
         "1": 19.858896255493164,
         "Cluster": 2,
         "_deepnote_index_column": 59
        },
        {
         "0": -47.13416290283203,
         "1": 29.678876876831055,
         "Cluster": 2,
         "_deepnote_index_column": 60
        },
        {
         "0": -27.563209533691406,
         "1": -17.242877960205078,
         "Cluster": 3,
         "_deepnote_index_column": 61
        },
        {
         "0": -21.69737434387207,
         "1": -39.045780181884766,
         "Cluster": 1,
         "_deepnote_index_column": 62
        },
        {
         "0": -6.703750133514404,
         "1": -14.82906723022461,
         "Cluster": 3,
         "_deepnote_index_column": 63
        },
        {
         "0": -40.22148895263672,
         "1": 36.4832878112793,
         "Cluster": 2,
         "_deepnote_index_column": 64
        },
        {
         "0": -2.250295400619507,
         "1": 12.413355827331543,
         "Cluster": 3,
         "_deepnote_index_column": 65
        },
        {
         "0": -60.04915237426758,
         "1": 11.803792953491211,
         "Cluster": 2,
         "_deepnote_index_column": 66
        },
        {
         "0": -2.875007390975952,
         "1": -3.542372226715088,
         "Cluster": 3,
         "_deepnote_index_column": 67
        },
        {
         "0": 19.399717330932617,
         "1": 16.67792320251465,
         "Cluster": 0,
         "_deepnote_index_column": 68
        },
        {
         "0": 13.530113220214844,
         "1": 16.06199836730957,
         "Cluster": 0,
         "_deepnote_index_column": 69
        },
        {
         "0": -9.847281455993652,
         "1": -53.6803092956543,
         "Cluster": 1,
         "_deepnote_index_column": 70
        },
        {
         "0": 21.564367294311523,
         "1": 47.826507568359375,
         "Cluster": 4,
         "_deepnote_index_column": 71
        },
        {
         "0": -22.17961311340332,
         "1": -32.46525955200195,
         "Cluster": 1,
         "_deepnote_index_column": 72
        },
        {
         "0": 5.731462478637695,
         "1": -42.890262603759766,
         "Cluster": 1,
         "_deepnote_index_column": 73
        },
        {
         "0": 10.806134223937988,
         "1": 8.358612060546875,
         "Cluster": 0,
         "_deepnote_index_column": 74
        },
        {
         "0": -12.019730567932129,
         "1": -15.85000991821289,
         "Cluster": 3,
         "_deepnote_index_column": 75
        },
        {
         "0": 7.316931247711182,
         "1": -24.01539421081543,
         "Cluster": 5,
         "_deepnote_index_column": 76
        },
        {
         "0": 9.453819274902344,
         "1": 6.366610527038574,
         "Cluster": 0,
         "_deepnote_index_column": 77
        },
        {
         "0": 27.1774959564209,
         "1": 23.18343162536621,
         "Cluster": 0,
         "_deepnote_index_column": 78
        },
        {
         "0": 33.471744537353516,
         "1": 19.676883697509766,
         "Cluster": 0,
         "_deepnote_index_column": 79
        },
        {
         "0": 9.51959228515625,
         "1": 8.778820037841797,
         "Cluster": 0,
         "_deepnote_index_column": 80
        },
        {
         "0": 18.636260986328125,
         "1": -16.01861000061035,
         "Cluster": 5,
         "_deepnote_index_column": 81
        },
        {
         "0": -12.248534202575684,
         "1": 9.196995735168457,
         "Cluster": 3,
         "_deepnote_index_column": 82
        },
        {
         "0": -9.621628761291504,
         "1": -37.95145797729492,
         "Cluster": 1,
         "_deepnote_index_column": 83
        },
        {
         "0": -2.710280179977417,
         "1": -1.7214736938476562,
         "Cluster": 3,
         "_deepnote_index_column": 84
        },
        {
         "0": -18.010215759277344,
         "1": -6.979496479034424,
         "Cluster": 3,
         "_deepnote_index_column": 85
        },
        {
         "0": 30.456567764282227,
         "1": 44.04292678833008,
         "Cluster": 4,
         "_deepnote_index_column": 86
        },
        {
         "0": 29.11977195739746,
         "1": 24.640579223632812,
         "Cluster": 0,
         "_deepnote_index_column": 87
        },
        {
         "0": -2.975372552871704,
         "1": 7.33588171005249,
         "Cluster": 3,
         "_deepnote_index_column": 88
        },
        {
         "0": -10.654121398925781,
         "1": -22.65354347229004,
         "Cluster": 5,
         "_deepnote_index_column": 89
        },
        {
         "0": 23.660879135131836,
         "1": 47.89653396606445,
         "Cluster": 4,
         "_deepnote_index_column": 90
        },
        {
         "0": -10.483219146728516,
         "1": -24.976646423339844,
         "Cluster": 1,
         "_deepnote_index_column": 91
        },
        {
         "0": -23.74856948852539,
         "1": -41.01219940185547,
         "Cluster": 1,
         "_deepnote_index_column": 92
        },
        {
         "0": -19.01860809326172,
         "1": -50.45997619628906,
         "Cluster": 1,
         "_deepnote_index_column": 93
        },
        {
         "0": -11.704733848571777,
         "1": -50.303104400634766,
         "Cluster": 1,
         "_deepnote_index_column": 94
        },
        {
         "0": 39.95817565917969,
         "1": 11.779582023620605,
         "Cluster": 0,
         "_deepnote_index_column": 95
        },
        {
         "0": -45.44997787475586,
         "1": 28.093568801879883,
         "Cluster": 2,
         "_deepnote_index_column": 96
        },
        {
         "0": 28.669456481933594,
         "1": 37.439029693603516,
         "Cluster": 4,
         "_deepnote_index_column": 97
        },
        {
         "0": 35.71208572387695,
         "1": 47.4935302734375,
         "Cluster": 4,
         "_deepnote_index_column": 98
        },
        {
         "0": 20.16474151611328,
         "1": 28.557188034057617,
         "Cluster": 0,
         "_deepnote_index_column": 99
        },
        {
         "0": -10.342516899108887,
         "1": -51.187625885009766,
         "Cluster": 1,
         "_deepnote_index_column": 100
        },
        {
         "0": -8.691147804260254,
         "1": -59.42063522338867,
         "Cluster": 1,
         "_deepnote_index_column": 101
        },
        {
         "0": -15.590476989746094,
         "1": -50.78425598144531,
         "Cluster": 1,
         "_deepnote_index_column": 102
        },
        {
         "0": -28.783702850341797,
         "1": -42.691402435302734,
         "Cluster": 1,
         "_deepnote_index_column": 103
        },
        {
         "0": 24.44639778137207,
         "1": 31.878019332885742,
         "Cluster": 4,
         "_deepnote_index_column": 104
        },
        {
         "0": 40.53693389892578,
         "1": 10.050553321838379,
         "Cluster": 0,
         "_deepnote_index_column": 105
        },
        {
         "0": 10.589599609375,
         "1": 14.77342414855957,
         "Cluster": 0,
         "_deepnote_index_column": 106
        },
        {
         "0": 22.820398330688477,
         "1": 7.477538108825684,
         "Cluster": 0,
         "_deepnote_index_column": 107
        },
        {
         "0": 38.122528076171875,
         "1": 4.418520927429199,
         "Cluster": 0,
         "_deepnote_index_column": 108
        },
        {
         "0": 6.454473495483398,
         "1": 19.724729537963867,
         "Cluster": 0,
         "_deepnote_index_column": 109
        },
        {
         "0": 15.163223266601562,
         "1": -24.630990982055664,
         "Cluster": 5,
         "_deepnote_index_column": 110
        },
        {
         "0": 20.38627815246582,
         "1": 37.81229019165039,
         "Cluster": 4,
         "_deepnote_index_column": 111
        },
        {
         "0": 35.82366943359375,
         "1": 17.951860427856445,
         "Cluster": 0,
         "_deepnote_index_column": 112
        },
        {
         "0": -12.673043251037598,
         "1": -53.07415008544922,
         "Cluster": 1,
         "_deepnote_index_column": 113
        },
        {
         "0": -29.390104293823242,
         "1": -53.82622528076172,
         "Cluster": 1,
         "_deepnote_index_column": 114
        },
        {
         "0": 40.92336654663086,
         "1": 37.23849868774414,
         "Cluster": 4,
         "_deepnote_index_column": 115
        },
        {
         "0": 5.435577869415283,
         "1": -35.75464630126953,
         "Cluster": 5,
         "_deepnote_index_column": 116
        },
        {
         "0": -9.173763275146484,
         "1": -22.229028701782227,
         "Cluster": 5,
         "_deepnote_index_column": 117
        },
        {
         "0": -18.146739959716797,
         "1": -26.07568359375,
         "Cluster": 1,
         "_deepnote_index_column": 118
        },
        {
         "0": 19.163450241088867,
         "1": 25.798688888549805,
         "Cluster": 0,
         "_deepnote_index_column": 119
        },
        {
         "0": -53.725677490234375,
         "1": 17.302276611328125,
         "Cluster": 2,
         "_deepnote_index_column": 120
        },
        {
         "0": 30.305927276611328,
         "1": 8.535005569458008,
         "Cluster": 0,
         "_deepnote_index_column": 121
        },
        {
         "0": -20.647796630859375,
         "1": -38.285255432128906,
         "Cluster": 1,
         "_deepnote_index_column": 122
        },
        {
         "0": 14.86861801147461,
         "1": 41.256290435791016,
         "Cluster": 4,
         "_deepnote_index_column": 123
        },
        {
         "0": 36.58971405029297,
         "1": 46.27164077758789,
         "Cluster": 4,
         "_deepnote_index_column": 124
        },
        {
         "0": 11.450530052185059,
         "1": -26.44862937927246,
         "Cluster": 5,
         "_deepnote_index_column": 125
        },
        {
         "0": -34.00254821777344,
         "1": 36.288726806640625,
         "Cluster": 2,
         "_deepnote_index_column": 126
        },
        {
         "0": 16.7365665435791,
         "1": 42.75410079956055,
         "Cluster": 4,
         "_deepnote_index_column": 127
        },
        {
         "0": -2.0914154052734375,
         "1": -11.506728172302246,
         "Cluster": 3,
         "_deepnote_index_column": 128
        },
        {
         "0": 25.156707763671875,
         "1": 15.39561653137207,
         "Cluster": 0,
         "_deepnote_index_column": 129
        },
        {
         "0": 18.023710250854492,
         "1": 46.10184097290039,
         "Cluster": 4,
         "_deepnote_index_column": 130
        },
        {
         "0": -42.70653533935547,
         "1": 37.39910888671875,
         "Cluster": 2,
         "_deepnote_index_column": 131
        },
        {
         "0": -6.394655704498291,
         "1": -35.96150588989258,
         "Cluster": 1,
         "_deepnote_index_column": 132
        },
        {
         "0": -8.228283882141113,
         "1": 0.7445054054260254,
         "Cluster": 3,
         "_deepnote_index_column": 133
        },
        {
         "0": -33.341068267822266,
         "1": -28.84140968322754,
         "Cluster": 1,
         "_deepnote_index_column": 134
        },
        {
         "0": 1.0634992122650146,
         "1": -32.28921127319336,
         "Cluster": 5,
         "_deepnote_index_column": 135
        },
        {
         "0": -15.538098335266113,
         "1": -39.57979202270508,
         "Cluster": 1,
         "_deepnote_index_column": 136
        },
        {
         "0": 9.380659103393555,
         "1": 17.70864486694336,
         "Cluster": 0,
         "_deepnote_index_column": 137
        },
        {
         "0": -16.019371032714844,
         "1": -50.07943344116211,
         "Cluster": 1,
         "_deepnote_index_column": 138
        },
        {
         "0": 25.01740074157715,
         "1": 7.053483963012695,
         "Cluster": 0,
         "_deepnote_index_column": 139
        },
        {
         "0": 22.995075225830078,
         "1": 29.530622482299805,
         "Cluster": 4,
         "_deepnote_index_column": 140
        },
        {
         "0": -17.464500427246094,
         "1": -53.82554626464844,
         "Cluster": 1,
         "_deepnote_index_column": 141
        },
        {
         "0": 29.23976707458496,
         "1": 9.567599296569824,
         "Cluster": 0,
         "_deepnote_index_column": 142
        },
        {
         "0": 23.564950942993164,
         "1": -4.919942855834961,
         "Cluster": 0,
         "_deepnote_index_column": 143
        },
        {
         "0": 17.182666778564453,
         "1": 26.333574295043945,
         "Cluster": 0,
         "_deepnote_index_column": 144
        },
        {
         "0": 34.49479293823242,
         "1": 51.72875213623047,
         "Cluster": 4,
         "_deepnote_index_column": 145
        },
        {
         "0": 6.084006309509277,
         "1": 9.6514310836792,
         "Cluster": 0,
         "_deepnote_index_column": 146
        },
        {
         "0": 15.910839080810547,
         "1": -5.552197456359863,
         "Cluster": 5,
         "_deepnote_index_column": 147
        },
        {
         "0": -16.865169525146484,
         "1": -23.10245704650879,
         "Cluster": 1,
         "_deepnote_index_column": 148
        },
        {
         "0": -57.35499954223633,
         "1": 14.394938468933105,
         "Cluster": 2,
         "_deepnote_index_column": 149
        },
        {
         "0": 33.49665069580078,
         "1": 3.564532995223999,
         "Cluster": 0,
         "_deepnote_index_column": 150
        },
        {
         "0": -6.471109390258789,
         "1": -47.1694221496582,
         "Cluster": 1,
         "_deepnote_index_column": 151
        },
        {
         "0": -35.25507354736328,
         "1": 38.2609748840332,
         "Cluster": 2,
         "_deepnote_index_column": 152
        },
        {
         "0": -10.475363731384277,
         "1": -6.954291820526123,
         "Cluster": 3,
         "_deepnote_index_column": 153
        },
        {
         "0": 24.465267181396484,
         "1": 34.85144805908203,
         "Cluster": 4,
         "_deepnote_index_column": 154
        },
        {
         "0": 15.05232048034668,
         "1": 12.816805839538574,
         "Cluster": 0,
         "_deepnote_index_column": 155
        },
        {
         "0": -33.169307708740234,
         "1": 39.122962951660156,
         "Cluster": 2,
         "_deepnote_index_column": 156
        },
        {
         "0": 26.850725173950195,
         "1": -1.2533420324325562,
         "Cluster": 0,
         "_deepnote_index_column": 157
        },
        {
         "0": 21.031295776367188,
         "1": -4.707983016967773,
         "Cluster": 0,
         "_deepnote_index_column": 158
        },
        {
         "0": -16.677745819091797,
         "1": -58.803524017333984,
         "Cluster": 1,
         "_deepnote_index_column": 159
        },
        {
         "0": 4.038631439208984,
         "1": 16.527463912963867,
         "Cluster": 0,
         "_deepnote_index_column": 160
        },
        {
         "0": 37.57954025268555,
         "1": 2.020247220993042,
         "Cluster": 0,
         "_deepnote_index_column": 161
        },
        {
         "0": 18.037738800048828,
         "1": -24.081825256347656,
         "Cluster": 5,
         "_deepnote_index_column": 162
        },
        {
         "0": 38.8624267578125,
         "1": 21.53937339782715,
         "Cluster": 0,
         "_deepnote_index_column": 163
        },
        {
         "0": -24.653884887695312,
         "1": -48.59852981567383,
         "Cluster": 1,
         "_deepnote_index_column": 164
        },
        {
         "0": -4.401813507080078,
         "1": -38.715023040771484,
         "Cluster": 1,
         "_deepnote_index_column": 165
        }
       ],
       "rows_bottom": [
        {
         "0": 44.23390579223633,
         "1": 49.69992446899414,
         "Cluster": 4,
         "_deepnote_index_column": 1916
        },
        {
         "0": -30.228837966918945,
         "1": 46.11650848388672,
         "Cluster": 2,
         "_deepnote_index_column": 1917
        },
        {
         "0": -2.0675597190856934,
         "1": -46.470611572265625,
         "Cluster": 1,
         "_deepnote_index_column": 1918
        },
        {
         "0": 2.867995262145996,
         "1": -21.38076400756836,
         "Cluster": 5,
         "_deepnote_index_column": 1919
        },
        {
         "0": 6.576803207397461,
         "1": -16.86622428894043,
         "Cluster": 5,
         "_deepnote_index_column": 1920
        },
        {
         "0": -57.31261444091797,
         "1": 13.7351713180542,
         "Cluster": 2,
         "_deepnote_index_column": 1921
        },
        {
         "0": 23.287281036376953,
         "1": 16.257165908813477,
         "Cluster": 0,
         "_deepnote_index_column": 1922
        },
        {
         "0": 34.89121627807617,
         "1": 49.24481201171875,
         "Cluster": 4,
         "_deepnote_index_column": 1923
        },
        {
         "0": -0.3507537841796875,
         "1": -29.339563369750977,
         "Cluster": 5,
         "_deepnote_index_column": 1924
        },
        {
         "0": 4.728111267089844,
         "1": -36.1271858215332,
         "Cluster": 5,
         "_deepnote_index_column": 1925
        },
        {
         "0": -31.927148818969727,
         "1": 39.298828125,
         "Cluster": 2,
         "_deepnote_index_column": 1926
        },
        {
         "0": -19.24751853942871,
         "1": -30.458951950073242,
         "Cluster": 1,
         "_deepnote_index_column": 1927
        },
        {
         "0": -30.475709915161133,
         "1": 47.073360443115234,
         "Cluster": 2,
         "_deepnote_index_column": 1928
        },
        {
         "0": -29.461517333984375,
         "1": 45.21560287475586,
         "Cluster": 2,
         "_deepnote_index_column": 1929
        },
        {
         "0": -58.4632682800293,
         "1": 16.844219207763672,
         "Cluster": 2,
         "_deepnote_index_column": 1930
        },
        {
         "0": -25.552961349487305,
         "1": -27.446640014648438,
         "Cluster": 1,
         "_deepnote_index_column": 1931
        },
        {
         "0": 30.96834945678711,
         "1": 47.6244010925293,
         "Cluster": 4,
         "_deepnote_index_column": 1932
        },
        {
         "0": 33.080997467041016,
         "1": 21.152095794677734,
         "Cluster": 0,
         "_deepnote_index_column": 1933
        },
        {
         "0": 17.09773063659668,
         "1": -31.77589225769043,
         "Cluster": 5,
         "_deepnote_index_column": 1934
        },
        {
         "0": 39.534400939941406,
         "1": 48.38047790527344,
         "Cluster": 4,
         "_deepnote_index_column": 1935
        },
        {
         "0": -24.337080001831055,
         "1": -24.82407569885254,
         "Cluster": 1,
         "_deepnote_index_column": 1936
        },
        {
         "0": -45.027408599853516,
         "1": 27.72191619873047,
         "Cluster": 2,
         "_deepnote_index_column": 1937
        },
        {
         "0": 32.30793380737305,
         "1": 24.432655334472656,
         "Cluster": 0,
         "_deepnote_index_column": 1938
        },
        {
         "0": 5.234021186828613,
         "1": -2.6686789989471436,
         "Cluster": 3,
         "_deepnote_index_column": 1939
        },
        {
         "0": 10.62331485748291,
         "1": -19.581457138061523,
         "Cluster": 5,
         "_deepnote_index_column": 1940
        },
        {
         "0": -27.858516693115234,
         "1": -53.35383605957031,
         "Cluster": 1,
         "_deepnote_index_column": 1941
        },
        {
         "0": -57.80414962768555,
         "1": 15.15397834777832,
         "Cluster": 2,
         "_deepnote_index_column": 1942
        },
        {
         "0": -14.465082168579102,
         "1": -15.65441608428955,
         "Cluster": 3,
         "_deepnote_index_column": 1943
        },
        {
         "0": 25.69057273864746,
         "1": 26.654508590698242,
         "Cluster": 0,
         "_deepnote_index_column": 1944
        },
        {
         "0": -29.544212341308594,
         "1": -54.21230697631836,
         "Cluster": 1,
         "_deepnote_index_column": 1945
        },
        {
         "0": 6.145434856414795,
         "1": -39.53870391845703,
         "Cluster": 5,
         "_deepnote_index_column": 1946
        },
        {
         "0": 18.67706871032715,
         "1": -30.819530487060547,
         "Cluster": 5,
         "_deepnote_index_column": 1947
        },
        {
         "0": -17.24970817565918,
         "1": -23.067527770996094,
         "Cluster": 1,
         "_deepnote_index_column": 1948
        },
        {
         "0": 24.743507385253906,
         "1": 3.988720655441284,
         "Cluster": 0,
         "_deepnote_index_column": 1949
        },
        {
         "0": -17.780269622802734,
         "1": -48.19156265258789,
         "Cluster": 1,
         "_deepnote_index_column": 1950
        },
        {
         "0": 0.49213409423828125,
         "1": -43.88909912109375,
         "Cluster": 1,
         "_deepnote_index_column": 1951
        },
        {
         "0": -1.670202612876892,
         "1": -58.05286407470703,
         "Cluster": 1,
         "_deepnote_index_column": 1952
        },
        {
         "0": 35.73866653442383,
         "1": 18.887046813964844,
         "Cluster": 0,
         "_deepnote_index_column": 1953
        },
        {
         "0": -10.200043678283691,
         "1": -1.4659264087677002,
         "Cluster": 3,
         "_deepnote_index_column": 1954
        },
        {
         "0": -19.76849937438965,
         "1": -50.6170539855957,
         "Cluster": 1,
         "_deepnote_index_column": 1955
        },
        {
         "0": -6.16385555267334,
         "1": -33.77701187133789,
         "Cluster": 1,
         "_deepnote_index_column": 1956
        },
        {
         "0": 27.762693405151367,
         "1": 17.38243865966797,
         "Cluster": 0,
         "_deepnote_index_column": 1957
        },
        {
         "0": -10.217366218566895,
         "1": -7.611140727996826,
         "Cluster": 3,
         "_deepnote_index_column": 1958
        },
        {
         "0": -13.90988826751709,
         "1": -42.31079864501953,
         "Cluster": 1,
         "_deepnote_index_column": 1959
        },
        {
         "0": 22.480995178222656,
         "1": -14.795050621032715,
         "Cluster": 5,
         "_deepnote_index_column": 1960
        },
        {
         "0": 42.261905670166016,
         "1": 38.017333984375,
         "Cluster": 4,
         "_deepnote_index_column": 1961
        },
        {
         "0": -7.842830181121826,
         "1": -46.12063217163086,
         "Cluster": 1,
         "_deepnote_index_column": 1962
        },
        {
         "0": 37.30355453491211,
         "1": 22.008913040161133,
         "Cluster": 0,
         "_deepnote_index_column": 1963
        },
        {
         "0": -7.1695146560668945,
         "1": -54.978580474853516,
         "Cluster": 1,
         "_deepnote_index_column": 1964
        },
        {
         "0": 8.911840438842773,
         "1": 18.98943328857422,
         "Cluster": 0,
         "_deepnote_index_column": 1965
        },
        {
         "0": 22.619394302368164,
         "1": 44.15224075317383,
         "Cluster": 4,
         "_deepnote_index_column": 1966
        },
        {
         "0": 14.38206672668457,
         "1": 11.560131072998047,
         "Cluster": 0,
         "_deepnote_index_column": 1967
        },
        {
         "0": 4.697339057922363,
         "1": -31.731294631958008,
         "Cluster": 5,
         "_deepnote_index_column": 1968
        },
        {
         "0": 0.24623697996139526,
         "1": -45.359798431396484,
         "Cluster": 1,
         "_deepnote_index_column": 1969
        },
        {
         "0": -8.757145881652832,
         "1": -33.35102081298828,
         "Cluster": 1,
         "_deepnote_index_column": 1970
        },
        {
         "0": 40.715118408203125,
         "1": 52.27214431762695,
         "Cluster": 4,
         "_deepnote_index_column": 1971
        },
        {
         "0": -24.25775718688965,
         "1": -52.14013671875,
         "Cluster": 1,
         "_deepnote_index_column": 1972
        },
        {
         "0": 16.385604858398438,
         "1": 41.79814529418945,
         "Cluster": 4,
         "_deepnote_index_column": 1973
        },
        {
         "0": 34.91403579711914,
         "1": 29.14112663269043,
         "Cluster": 4,
         "_deepnote_index_column": 1974
        },
        {
         "0": -28.747398376464844,
         "1": -29.569580078125,
         "Cluster": 1,
         "_deepnote_index_column": 1975
        },
        {
         "0": -8.843246459960938,
         "1": 6.785489559173584,
         "Cluster": 3,
         "_deepnote_index_column": 1976
        },
        {
         "0": 6.703777313232422,
         "1": -12.70206069946289,
         "Cluster": 5,
         "_deepnote_index_column": 1977
        },
        {
         "0": -24.302772521972656,
         "1": -19.43937873840332,
         "Cluster": 3,
         "_deepnote_index_column": 1978
        },
        {
         "0": -8.39665412902832,
         "1": -19.60672378540039,
         "Cluster": 5,
         "_deepnote_index_column": 1979
        },
        {
         "0": 18.278186798095703,
         "1": 44.92629623413086,
         "Cluster": 4,
         "_deepnote_index_column": 1980
        },
        {
         "0": -61.046226501464844,
         "1": 13.446781158447266,
         "Cluster": 2,
         "_deepnote_index_column": 1981
        },
        {
         "0": -26.98604965209961,
         "1": -52.889320373535156,
         "Cluster": 1,
         "_deepnote_index_column": 1982
        },
        {
         "0": -21.779027938842773,
         "1": -21.420316696166992,
         "Cluster": 1,
         "_deepnote_index_column": 1983
        },
        {
         "0": -40.543819427490234,
         "1": 32.3327751159668,
         "Cluster": 2,
         "_deepnote_index_column": 1984
        },
        {
         "0": 1.1351889371871948,
         "1": -51.98637008666992,
         "Cluster": 1,
         "_deepnote_index_column": 1985
        },
        {
         "0": -25.983854293823242,
         "1": -53.6497688293457,
         "Cluster": 1,
         "_deepnote_index_column": 1986
        },
        {
         "0": -45.34502410888672,
         "1": 29.56153678894043,
         "Cluster": 2,
         "_deepnote_index_column": 1987
        },
        {
         "0": 5.260225296020508,
         "1": 15.96841812133789,
         "Cluster": 0,
         "_deepnote_index_column": 1988
        },
        {
         "0": -5.8104023933410645,
         "1": -57.41267395019531,
         "Cluster": 1,
         "_deepnote_index_column": 1989
        },
        {
         "0": 25.05153465270996,
         "1": 41.29417037963867,
         "Cluster": 4,
         "_deepnote_index_column": 1990
        },
        {
         "0": 31.014883041381836,
         "1": 36.81019592285156,
         "Cluster": 4,
         "_deepnote_index_column": 1991
        },
        {
         "0": 9.67967700958252,
         "1": -4.002824783325195,
         "Cluster": 5,
         "_deepnote_index_column": 1992
        },
        {
         "0": 32.34237289428711,
         "1": 52.52240753173828,
         "Cluster": 4,
         "_deepnote_index_column": 1993
        },
        {
         "0": 19.516746520996094,
         "1": 40.38146209716797,
         "Cluster": 4,
         "_deepnote_index_column": 1994
        },
        {
         "0": 3.157327175140381,
         "1": -53.03891372680664,
         "Cluster": 1,
         "_deepnote_index_column": 1995
        },
        {
         "0": -21.424816131591797,
         "1": -22.972753524780273,
         "Cluster": 1,
         "_deepnote_index_column": 1996
        },
        {
         "0": -43.06243896484375,
         "1": 31.023040771484375,
         "Cluster": 2,
         "_deepnote_index_column": 1997
        },
        {
         "0": 11.927754402160645,
         "1": -7.536418437957764,
         "Cluster": 5,
         "_deepnote_index_column": 1998
        },
        {
         "0": -34.29048156738281,
         "1": 46.04613494873047,
         "Cluster": 2,
         "_deepnote_index_column": 1999
        },
        {
         "0": 19.746816635131836,
         "1": -7.992773532867432,
         "Cluster": 5,
         "_deepnote_index_column": 2000
        },
        {
         "0": 39.92626953125,
         "1": 9.393402099609375,
         "Cluster": 0,
         "_deepnote_index_column": 2001
        },
        {
         "0": 2.4004223346710205,
         "1": -57.850807189941406,
         "Cluster": 1,
         "_deepnote_index_column": 2002
        },
        {
         "0": -3.4095406532287598,
         "1": -6.548806667327881,
         "Cluster": 3,
         "_deepnote_index_column": 2003
        },
        {
         "0": -14.19365406036377,
         "1": -51.5368537902832,
         "Cluster": 1,
         "_deepnote_index_column": 2004
        },
        {
         "0": -34.4555549621582,
         "1": -28.894575119018555,
         "Cluster": 1,
         "_deepnote_index_column": 2005
        },
        {
         "0": -8.650117874145508,
         "1": -22.84186553955078,
         "Cluster": 5,
         "_deepnote_index_column": 2006
        },
        {
         "0": 22.444141387939453,
         "1": 39.86819839477539,
         "Cluster": 4,
         "_deepnote_index_column": 2007
        },
        {
         "0": 34.636783599853516,
         "1": 20.185503005981445,
         "Cluster": 0,
         "_deepnote_index_column": 2008
        },
        {
         "0": 5.933730125427246,
         "1": 3.8547372817993164,
         "Cluster": 3,
         "_deepnote_index_column": 2009
        },
        {
         "0": -16.750455856323242,
         "1": -28.350786209106445,
         "Cluster": 1,
         "_deepnote_index_column": 2010
        },
        {
         "0": 5.063293933868408,
         "1": -33.163612365722656,
         "Cluster": 5,
         "_deepnote_index_column": 2011
        },
        {
         "0": 7.424558162689209,
         "1": -16.386524200439453,
         "Cluster": 5,
         "_deepnote_index_column": 2012
        },
        {
         "0": -9.134262084960938,
         "1": -36.444278717041016,
         "Cluster": 1,
         "_deepnote_index_column": 2013
        },
        {
         "0": 13.807459831237793,
         "1": 29.602449417114258,
         "Cluster": 0,
         "_deepnote_index_column": 2014
        },
        {
         "0": 25.645477294921875,
         "1": 42.70170211791992,
         "Cluster": 4,
         "_deepnote_index_column": 2015
        },
        {
         "0": 28.70307159423828,
         "1": 50.672157287597656,
         "Cluster": 4,
         "_deepnote_index_column": 2016
        },
        {
         "0": -29.349090576171875,
         "1": 44.3572998046875,
         "Cluster": 2,
         "_deepnote_index_column": 2017
        },
        {
         "0": -10.729233741760254,
         "1": -55.810638427734375,
         "Cluster": 1,
         "_deepnote_index_column": 2018
        },
        {
         "0": 12.619216918945312,
         "1": 3.573678970336914,
         "Cluster": 0,
         "_deepnote_index_column": 2019
        },
        {
         "0": 3.4785118103027344,
         "1": 7.275885105133057,
         "Cluster": 3,
         "_deepnote_index_column": 2020
        },
        {
         "0": -32.913551330566406,
         "1": -31.596965789794922,
         "Cluster": 1,
         "_deepnote_index_column": 2021
        },
        {
         "0": 20.154098510742188,
         "1": -14.068097114562988,
         "Cluster": 5,
         "_deepnote_index_column": 2022
        },
        {
         "0": -14.688483238220215,
         "1": -53.798095703125,
         "Cluster": 1,
         "_deepnote_index_column": 2023
        },
        {
         "0": 23.6750545501709,
         "1": 35.72325897216797,
         "Cluster": 4,
         "_deepnote_index_column": 2024
        },
        {
         "0": -11.009035110473633,
         "1": -51.028568267822266,
         "Cluster": 1,
         "_deepnote_index_column": 2025
        },
        {
         "0": -0.8823279738426208,
         "1": 13.010204315185547,
         "Cluster": 3,
         "_deepnote_index_column": 2026
        },
        {
         "0": -9.385272026062012,
         "1": -58.22406768798828,
         "Cluster": 1,
         "_deepnote_index_column": 2027
        },
        {
         "0": -14.705641746520996,
         "1": -59.36054611206055,
         "Cluster": 1,
         "_deepnote_index_column": 2028
        },
        {
         "0": 19.555143356323242,
         "1": 27.11739730834961,
         "Cluster": 0,
         "_deepnote_index_column": 2029
        },
        {
         "0": 2.3140830993652344,
         "1": 0.9543348550796509,
         "Cluster": 3,
         "_deepnote_index_column": 2030
        },
        {
         "0": 13.153830528259277,
         "1": 21.90245246887207,
         "Cluster": 0,
         "_deepnote_index_column": 2031
        },
        {
         "0": 40.76961135864258,
         "1": 44.95228958129883,
         "Cluster": 4,
         "_deepnote_index_column": 2032
        },
        {
         "0": -32.0239372253418,
         "1": -30.276935577392578,
         "Cluster": 1,
         "_deepnote_index_column": 2033
        },
        {
         "0": 34.32666778564453,
         "1": 0.3470310568809509,
         "Cluster": 0,
         "_deepnote_index_column": 2034
        },
        {
         "0": -29.478538513183594,
         "1": -50.79258346557617,
         "Cluster": 1,
         "_deepnote_index_column": 2035
        },
        {
         "0": -35.53850555419922,
         "1": 37.4245491027832,
         "Cluster": 2,
         "_deepnote_index_column": 2036
        },
        {
         "0": 22.40873146057129,
         "1": 28.17095375061035,
         "Cluster": 0,
         "_deepnote_index_column": 2037
        },
        {
         "0": 36.35637283325195,
         "1": 50.85415267944336,
         "Cluster": 4,
         "_deepnote_index_column": 2038
        },
        {
         "0": 39.20096206665039,
         "1": 52.358707427978516,
         "Cluster": 4,
         "_deepnote_index_column": 2039
        },
        {
         "0": 11.945289611816406,
         "1": -7.052875518798828,
         "Cluster": 5,
         "_deepnote_index_column": 2040
        },
        {
         "0": -12.567564010620117,
         "1": -49.6080207824707,
         "Cluster": 1,
         "_deepnote_index_column": 2041
        },
        {
         "0": -15.650498390197754,
         "1": -38.22565841674805,
         "Cluster": 1,
         "_deepnote_index_column": 2042
        },
        {
         "0": 14.590289115905762,
         "1": -7.028964996337891,
         "Cluster": 5,
         "_deepnote_index_column": 2043
        },
        {
         "0": 12.995414733886719,
         "1": -9.121582984924316,
         "Cluster": 5,
         "_deepnote_index_column": 2044
        },
        {
         "0": 25.480140686035156,
         "1": 39.63031005859375,
         "Cluster": 4,
         "_deepnote_index_column": 2045
        },
        {
         "0": -6.677234172821045,
         "1": -45.9509391784668,
         "Cluster": 1,
         "_deepnote_index_column": 2046
        },
        {
         "0": -6.26330041885376,
         "1": -31.6186466217041,
         "Cluster": 1,
         "_deepnote_index_column": 2047
        },
        {
         "0": 4.1240434646606445,
         "1": 6.430708408355713,
         "Cluster": 3,
         "_deepnote_index_column": 2048
        },
        {
         "0": -24.48394012451172,
         "1": -35.57957077026367,
         "Cluster": 1,
         "_deepnote_index_column": 2049
        },
        {
         "0": -44.599037170410156,
         "1": 31.918376922607422,
         "Cluster": 2,
         "_deepnote_index_column": 2050
        },
        {
         "0": -4.821347713470459,
         "1": 5.3506317138671875,
         "Cluster": 3,
         "_deepnote_index_column": 2051
        },
        {
         "0": 0.1492864489555359,
         "1": -29.588048934936523,
         "Cluster": 5,
         "_deepnote_index_column": 2052
        },
        {
         "0": -42.254730224609375,
         "1": 36.82101058959961,
         "Cluster": 2,
         "_deepnote_index_column": 2053
        },
        {
         "0": 30.37472152709961,
         "1": 32.587928771972656,
         "Cluster": 4,
         "_deepnote_index_column": 2054
        },
        {
         "0": -8.998700141906738,
         "1": 8.35987663269043,
         "Cluster": 3,
         "_deepnote_index_column": 2055
        },
        {
         "0": -30.733901977539062,
         "1": 46.688323974609375,
         "Cluster": 2,
         "_deepnote_index_column": 2056
        },
        {
         "0": -56.72914123535156,
         "1": 14.7997407913208,
         "Cluster": 2,
         "_deepnote_index_column": 2057
        },
        {
         "0": 10.447293281555176,
         "1": 23.606136322021484,
         "Cluster": 0,
         "_deepnote_index_column": 2058
        },
        {
         "0": -22.08576011657715,
         "1": -29.15016746520996,
         "Cluster": 1,
         "_deepnote_index_column": 2059
        },
        {
         "0": -0.3345898985862732,
         "1": -29.316444396972656,
         "Cluster": 5,
         "_deepnote_index_column": 2060
        },
        {
         "0": -14.73646354675293,
         "1": -56.66806411743164,
         "Cluster": 1,
         "_deepnote_index_column": 2061
        },
        {
         "0": -26.40620994567871,
         "1": -29.837080001831055,
         "Cluster": 1,
         "_deepnote_index_column": 2062
        },
        {
         "0": -4.8406195640563965,
         "1": -2.349682569503784,
         "Cluster": 3,
         "_deepnote_index_column": 2063
        },
        {
         "0": -27.928281784057617,
         "1": -20.104459762573242,
         "Cluster": 1,
         "_deepnote_index_column": 2064
        },
        {
         "0": 2.2783989906311035,
         "1": -31.730287551879883,
         "Cluster": 5,
         "_deepnote_index_column": 2065
        },
        {
         "0": 20.404190063476562,
         "1": 9.22102165222168,
         "Cluster": 0,
         "_deepnote_index_column": 2066
        },
        {
         "0": 9.617433547973633,
         "1": 20.9549617767334,
         "Cluster": 0,
         "_deepnote_index_column": 2067
        },
        {
         "0": -13.835481643676758,
         "1": 7.631241798400879,
         "Cluster": 3,
         "_deepnote_index_column": 2068
        },
        {
         "0": 6.150482654571533,
         "1": -12.007315635681152,
         "Cluster": 5,
         "_deepnote_index_column": 2069
        },
        {
         "0": -36.97235870361328,
         "1": 38.02113723754883,
         "Cluster": 2,
         "_deepnote_index_column": 2070
        },
        {
         "0": -8.9314546585083,
         "1": -20.177125930786133,
         "Cluster": 5,
         "_deepnote_index_column": 2071
        },
        {
         "0": 23.13395881652832,
         "1": 15.247994422912598,
         "Cluster": 0,
         "_deepnote_index_column": 2072
        },
        {
         "0": 16.806884765625,
         "1": 12.898347854614258,
         "Cluster": 0,
         "_deepnote_index_column": 2073
        },
        {
         "0": 22.453516006469727,
         "1": 40.05769729614258,
         "Cluster": 4,
         "_deepnote_index_column": 2074
        },
        {
         "0": -24.5136775970459,
         "1": -25.54023551940918,
         "Cluster": 1,
         "_deepnote_index_column": 2075
        },
        {
         "0": -26.01479721069336,
         "1": -18.603290557861328,
         "Cluster": 3,
         "_deepnote_index_column": 2076
        },
        {
         "0": 23.2812557220459,
         "1": 32.26609802246094,
         "Cluster": 4,
         "_deepnote_index_column": 2077
        },
        {
         "0": -52.3369255065918,
         "1": 23.623056411743164,
         "Cluster": 2,
         "_deepnote_index_column": 2078
        },
        {
         "0": -21.654216766357422,
         "1": -32.34280014038086,
         "Cluster": 1,
         "_deepnote_index_column": 2079
        },
        {
         "0": -51.39634704589844,
         "1": 21.27651596069336,
         "Cluster": 2,
         "_deepnote_index_column": 2080
        },
        {
         "0": 9.055220603942871,
         "1": -18.34894561767578,
         "Cluster": 5,
         "_deepnote_index_column": 2081
        },
        {
         "0": 25.78287696838379,
         "1": 12.099997520446777,
         "Cluster": 0,
         "_deepnote_index_column": 2082
        }
       ]
      },
      "text/plain": "              0          1  Cluster\n0     20.565302  20.080679        0\n1    -42.699104  35.328327        2\n2     34.905228  44.506115        4\n3      1.694678 -44.368725        1\n4     -0.377237 -25.104393        5\n...         ...        ...      ...\n2078 -52.336926  23.623056        2\n2079 -21.654217 -32.342800        1\n2080 -51.396347  21.276516        2\n2081   9.055221 -18.348946        5\n2082  25.782877  12.099998        0\n\n[2083 rows x 3 columns]",
      "text/html": "<div>\n<style scoped>\n    .dataframe tbody tr th:only-of-type {\n        vertical-align: middle;\n    }\n\n    .dataframe tbody tr th {\n        vertical-align: top;\n    }\n\n    .dataframe thead th {\n        text-align: right;\n    }\n</style>\n<table border=\"1\" class=\"dataframe\">\n  <thead>\n    <tr style=\"text-align: right;\">\n      <th></th>\n      <th>0</th>\n      <th>1</th>\n      <th>Cluster</th>\n    </tr>\n  </thead>\n  <tbody>\n    <tr>\n      <th>0</th>\n      <td>20.565302</td>\n      <td>20.080679</td>\n      <td>0</td>\n    </tr>\n    <tr>\n      <th>1</th>\n      <td>-42.699104</td>\n      <td>35.328327</td>\n      <td>2</td>\n    </tr>\n    <tr>\n      <th>2</th>\n      <td>34.905228</td>\n      <td>44.506115</td>\n      <td>4</td>\n    </tr>\n    <tr>\n      <th>3</th>\n      <td>1.694678</td>\n      <td>-44.368725</td>\n      <td>1</td>\n    </tr>\n    <tr>\n      <th>4</th>\n      <td>-0.377237</td>\n      <td>-25.104393</td>\n      <td>5</td>\n    </tr>\n    <tr>\n      <th>...</th>\n      <td>...</td>\n      <td>...</td>\n      <td>...</td>\n    </tr>\n    <tr>\n      <th>2078</th>\n      <td>-52.336926</td>\n      <td>23.623056</td>\n      <td>2</td>\n    </tr>\n    <tr>\n      <th>2079</th>\n      <td>-21.654217</td>\n      <td>-32.342800</td>\n      <td>1</td>\n    </tr>\n    <tr>\n      <th>2080</th>\n      <td>-51.396347</td>\n      <td>21.276516</td>\n      <td>2</td>\n    </tr>\n    <tr>\n      <th>2081</th>\n      <td>9.055221</td>\n      <td>-18.348946</td>\n      <td>5</td>\n    </tr>\n    <tr>\n      <th>2082</th>\n      <td>25.782877</td>\n      <td>12.099998</td>\n      <td>0</td>\n    </tr>\n  </tbody>\n</table>\n<p>2083 rows × 3 columns</p>\n</div>"
     },
     "metadata": {}
    }
   ]
  },
  {
   "cell_type": "code",
   "metadata": {
    "tags": [],
    "cell_id": "00051-420c4c8c-f13a-4799-8dec-bad96717f9e1",
    "deepnote_to_be_reexecuted": false,
    "source_hash": "66882668",
    "execution_start": 1636693309053,
    "execution_millis": 447,
    "deepnote_cell_type": "code"
   },
   "source": "fig = px.scatter(df_LRMFP, x=0, y=1, color= 'Cluster' )\nfig.show()",
   "execution_count": null,
   "outputs": [
    {
     "data": {
      "text/html": "<html>\n<head><meta charset=\"utf-8\" /></head>\n<body>\n    <div>            <script src=\"https://cdnjs.cloudflare.com/ajax/libs/mathjax/2.7.5/MathJax.js?config=TeX-AMS-MML_SVG\"></script><script type=\"text/javascript\">if (window.MathJax) {MathJax.Hub.Config({SVG: {font: \"STIX-Web\"}});}</script>                <script type=\"text/javascript\">window.PlotlyConfig = {MathJaxConfig: 'local'};</script>\n        <script src=\"https://cdn.plot.ly/plotly-2.4.2.min.js\"></script>                <div id=\"6a1190f4-c15f-42a6-9d09-a536b62ec678\" class=\"plotly-graph-div\" style=\"height:525px; width:100%;\"></div>            <script type=\"text/javascript\">                                    window.PLOTLYENV=window.PLOTLYENV || {};                                    if (document.getElementById(\"6a1190f4-c15f-42a6-9d09-a536b62ec678\")) {                    Plotly.newPlot(                        \"6a1190f4-c15f-42a6-9d09-a536b62ec678\",                        [{\"hovertemplate\":\"1=%{x}<br>0=%{y}<br>Cluster=%{marker.color}<extra></extra>\",\"legendgroup\":\"\",\"marker\":{\"color\":[0,2,4,1,5,5,0,0,2,0,0,0,3,2,2,0,5,5,4,0,2,2,0,1,2,3,0,1,4,1,1,4,2,2,5,0,1,1,3,4,3,4,0,4,5,0,1,2,5,5,1,3,0,0,5,1,4,1,3,2,2,3,1,3,2,3,2,3,0,0,1,4,1,1,0,3,5,0,0,0,0,5,3,1,3,3,4,0,3,5,4,1,1,1,1,0,2,4,4,0,1,1,1,1,4,0,0,0,0,0,5,4,0,1,1,4,5,5,1,0,2,0,1,4,4,5,2,4,3,0,4,2,1,3,1,5,1,0,1,0,4,1,0,0,0,4,0,5,1,2,0,1,2,3,4,0,2,0,0,1,0,0,5,0,1,1,5,0,1,4,3,5,3,3,1,3,4,0,2,0,1,1,2,3,3,4,1,1,0,3,3,5,0,0,0,0,1,1,2,1,0,0,1,1,5,5,0,4,1,4,4,0,0,1,3,1,5,2,0,0,0,5,5,1,1,0,1,3,4,1,4,3,1,1,0,0,0,5,5,5,0,3,4,5,5,1,4,2,1,2,1,2,3,2,4,5,0,1,1,1,1,3,2,0,0,2,1,4,1,1,1,2,0,1,0,3,5,5,3,4,3,0,0,4,5,5,4,3,1,1,0,2,0,3,2,0,3,2,5,2,0,0,0,5,5,0,1,1,4,1,1,2,0,2,3,4,0,3,4,3,1,5,4,4,1,5,4,0,0,4,1,1,4,4,5,4,1,2,1,0,3,0,2,4,4,3,5,1,3,5,1,0,5,0,0,1,4,0,3,0,1,1,3,1,1,5,0,4,1,0,5,1,5,1,4,3,0,2,1,0,0,4,3,1,3,5,1,0,4,2,1,0,1,1,3,0,2,5,1,3,5,0,2,1,2,5,1,0,3,4,1,3,0,5,5,4,2,1,4,1,0,5,2,3,0,5,5,3,3,4,1,0,5,2,1,1,2,3,3,4,3,5,0,5,0,0,0,4,1,2,4,1,5,5,1,5,2,1,1,2,0,4,2,1,1,3,4,0,1,4,5,2,2,4,1,0,3,0,1,0,5,2,0,5,4,0,5,1,3,1,0,0,3,1,0,3,1,2,0,0,0,5,3,5,2,3,0,1,2,0,5,3,4,0,5,1,0,2,1,4,5,0,4,3,3,1,4,0,1,1,2,1,5,3,1,4,0,5,3,3,5,0,1,0,5,1,1,3,2,1,1,2,4,1,1,4,2,4,5,0,4,2,1,1,1,2,5,1,3,1,3,0,1,1,3,2,1,5,3,2,4,2,5,5,1,3,1,4,1,1,0,2,3,3,3,0,1,0,3,4,0,1,1,1,1,2,0,3,0,3,3,1,2,1,4,1,0,2,2,0,3,0,4,0,3,0,3,4,0,2,5,3,3,1,5,1,0,0,0,3,3,2,4,4,0,4,4,5,4,0,5,0,5,1,2,2,0,3,1,3,2,0,2,5,1,0,1,3,1,1,2,5,5,1,4,0,2,2,5,1,4,5,5,5,2,0,5,3,2,4,3,1,5,1,1,3,0,0,1,5,0,1,5,0,4,5,0,5,1,1,3,4,0,5,1,4,1,5,3,1,1,3,3,1,5,5,5,4,5,2,0,3,5,2,4,5,0,1,2,4,1,2,3,4,4,4,3,1,5,5,0,0,3,2,1,1,1,1,3,2,0,4,5,4,4,1,5,2,0,2,1,2,0,5,4,5,1,4,1,1,5,1,5,0,0,0,0,0,1,1,3,2,4,3,5,4,5,1,5,5,3,0,0,2,3,1,4,2,3,1,1,2,3,0,0,4,0,4,2,2,0,1,2,1,1,1,2,5,1,2,0,1,4,4,1,1,3,0,4,2,3,3,1,0,0,1,0,4,1,2,1,5,4,2,4,0,0,0,3,3,5,3,1,4,2,3,5,1,0,1,4,0,2,5,2,0,1,3,4,1,4,1,2,0,0,5,0,1,1,3,1,4,1,0,0,1,3,4,1,0,0,0,4,4,0,5,3,5,3,1,2,0,1,4,4,1,5,5,0,5,1,0,0,5,0,1,0,0,2,4,5,4,5,2,5,1,1,0,2,1,4,1,5,1,2,5,3,1,1,2,3,1,3,1,1,0,1,3,1,4,4,0,2,0,2,4,0,0,2,1,2,2,4,4,5,5,3,1,0,3,4,2,4,2,2,1,3,5,0,2,1,4,0,5,3,3,4,2,0,4,1,2,0,2,0,5,2,0,3,0,1,2,3,0,3,4,0,2,4,5,4,0,1,5,3,1,3,1,2,4,0,4,1,1,5,4,3,4,1,4,0,3,4,4,1,2,4,1,4,4,3,0,5,0,0,0,4,1,0,1,5,4,2,3,0,0,4,0,5,1,5,5,0,2,3,0,3,0,5,4,0,5,1,5,4,0,1,5,1,4,3,5,0,1,1,0,0,4,1,1,1,3,1,1,0,4,2,1,1,5,1,4,1,5,2,0,3,3,2,4,4,4,3,1,2,4,0,4,2,0,1,1,5,3,0,5,0,1,4,3,1,0,1,2,0,1,0,1,1,2,4,4,1,3,0,0,0,0,5,1,0,0,5,1,3,4,1,2,4,4,1,0,1,0,0,5,5,1,3,1,5,4,0,1,0,0,5,1,2,3,0,1,2,2,1,3,3,0,2,3,1,1,5,5,2,0,5,1,1,4,1,1,4,2,3,1,1,1,1,0,1,2,1,4,2,5,2,1,5,0,0,1,0,1,2,4,3,4,5,4,1,1,0,5,0,2,5,1,2,3,1,3,0,2,4,1,1,1,0,4,4,4,0,1,1,4,0,1,1,0,4,2,3,4,1,1,4,5,1,3,1,4,4,4,0,2,4,4,0,0,0,0,0,0,4,0,4,2,4,4,3,1,1,5,4,0,5,1,0,4,3,5,0,0,0,1,2,4,2,1,1,4,4,0,1,0,4,2,2,0,5,1,4,0,1,0,5,3,1,1,1,3,2,4,4,0,0,4,0,2,1,1,1,3,3,1,1,2,0,3,3,2,1,0,4,5,4,0,0,4,1,2,4,4,2,3,5,2,5,3,0,2,3,0,0,2,5,4,3,1,4,4,2,0,0,5,4,2,0,3,5,1,5,0,0,4,0,0,2,0,3,4,1,1,0,2,3,1,2,0,0,0,5,0,3,2,0,1,3,1,0,4,1,4,3,2,3,4,1,2,3,3,4,4,0,0,4,3,3,0,5,5,1,2,4,5,0,4,1,0,2,4,1,2,0,5,5,0,3,1,4,4,2,0,4,4,0,1,5,3,1,2,1,1,5,1,0,4,3,0,2,0,1,3,5,5,1,0,0,1,2,1,2,4,0,3,0,4,4,0,5,5,3,5,3,0,5,1,0,1,1,0,1,1,3,5,1,5,1,1,1,1,1,1,1,1,1,2,3,1,5,3,4,1,1,5,3,3,2,1,2,4,2,2,5,4,2,1,1,3,5,5,1,5,5,5,1,0,0,2,0,4,5,4,1,4,0,5,0,3,3,3,2,1,3,0,4,0,0,4,3,3,1,5,0,2,1,2,0,0,4,1,2,0,3,0,4,1,4,3,0,3,2,1,5,2,5,2,5,1,5,5,0,3,2,5,5,5,4,5,4,4,5,1,5,1,3,2,3,0,0,3,3,1,1,4,3,2,2,4,3,5,0,0,1,1,0,3,3,3,5,0,5,4,1,4,3,1,5,5,5,0,2,5,3,1,4,1,3,3,0,2,0,5,4,0,2,4,3,0,2,5,5,3,2,5,4,3,3,1,0,3,1,1,2,0,5,4,5,2,3,1,5,2,2,0,2,1,1,3,3,4,0,5,5,0,1,0,0,1,2,5,0,1,2,0,5,1,3,5,1,4,5,1,1,2,3,5,1,4,5,0,3,5,1,2,4,3,3,0,1,1,1,0,0,0,3,5,2,4,3,4,5,4,1,3,1,2,1,0,1,4,0,4,3,1,4,2,1,5,1,3,1,5,3,3,4,3,4,0,1,4,1,5,0,5,4,1,4,3,1,1,5,1,4,0,4,3,4,1,1,3,0,1,1,2,0,4,0,2,2,4,5,3,2,2,3,2,1,1,4,1,0,0,4,3,5,1,1,2,4,4,2,0,0,5,1,2,3,4,5,5,1,4,0,4,3,3,5,1,4,4,2,0,4,0,2,5,5,1,5,1,0,4,3,2,3,3,0,4,2,1,1,3,1,4,2,4,1,0,3,0,4,2,4,3,1,5,5,2,0,1,2,3,4,5,4,2,1,5,5,2,0,4,5,5,2,1,2,2,2,1,4,0,5,4,1,2,0,3,5,1,2,3,0,1,5,5,1,0,1,1,1,0,3,1,1,0,3,1,5,4,1,0,1,0,4,0,5,1,1,4,1,4,4,1,3,5,3,5,4,2,1,1,2,1,1,2,0,1,4,4,5,4,4,1,1,2,5,2,5,0,1,3,1,1,5,4,0,3,1,5,5,1,0,4,4,2,1,0,3,1,5,1,4,1,3,1,1,0,3,0,4,1,0,1,2,0,4,4,5,1,1,5,5,4,1,1,3,1,2,3,5,2,4,3,2,2,0,1,5,1,1,3,1,5,0,0,3,5,2,5,0,0,4,1,3,4,2,1,2,5,0],\"coloraxis\":\"coloraxis\",\"symbol\":\"circle\"},\"mode\":\"markers\",\"name\":\"\",\"showlegend\":false,\"type\":\"scattergl\",\"x\":[20.080678939819336,35.32832717895508,44.5061149597168,-44.36872482299805,-25.104393005371094,-15.989508628845215,4.789949417114258,5.726330757141113,18.029125213623047,6.899471282958984,14.864335060119629,19.66203498840332,2.162588357925415,36.075035095214844,38.439353942871094,1.9321436882019043,-17.041418075561523,-21.915006637573242,40.7314453125,23.786672592163086,27.83969497680664,13.122215270996094,23.814489364624023,-32.693878173828125,37.17829132080078,-17.62003517150879,18.428531646728516,-37.6456184387207,44.48273468017578,-22.8834285736084,-44.132877349853516,46.54566192626953,18.563169479370117,10.021337509155273,-28.87261390686035,9.64948844909668,-49.91489028930664,-36.77144241333008,-6.148684024810791,43.72462844848633,-4.793888092041016,39.01652526855469,7.91435432434082,48.174476623535156,-21.647634506225586,21.14042091369629,-52.7262077331543,36.718719482421875,-12.103486061096191,-14.92397689819336,-51.99895477294922,-3.1138076782226562,30.908700942993164,10.694914817810059,-30.34030532836914,-39.96760940551758,33.997711181640625,-23.007591247558594,-5.277960777282715,19.858896255493164,29.678876876831055,-17.242877960205078,-39.045780181884766,-14.82906723022461,36.4832878112793,12.413355827331543,11.803792953491211,-3.542372226715088,16.67792320251465,16.06199836730957,-53.6803092956543,47.826507568359375,-32.46525955200195,-42.890262603759766,8.358612060546875,-15.85000991821289,-24.01539421081543,6.366610527038574,23.18343162536621,19.676883697509766,8.778820037841797,-16.01861000061035,9.196995735168457,-37.95145797729492,-1.7214736938476562,-6.979496479034424,44.04292678833008,24.640579223632812,7.33588171005249,-22.65354347229004,47.89653396606445,-24.976646423339844,-41.01219940185547,-50.45997619628906,-50.303104400634766,11.779582023620605,28.093568801879883,37.439029693603516,47.4935302734375,28.557188034057617,-51.187625885009766,-59.42063522338867,-50.78425598144531,-42.691402435302734,31.878019332885742,10.050553321838379,14.77342414855957,7.477538108825684,4.418520927429199,19.724729537963867,-24.630990982055664,37.81229019165039,17.951860427856445,-53.07415008544922,-53.82622528076172,37.23849868774414,-35.75464630126953,-22.229028701782227,-26.07568359375,25.798688888549805,17.302276611328125,8.535005569458008,-38.285255432128906,41.256290435791016,46.27164077758789,-26.44862937927246,36.288726806640625,42.75410079956055,-11.506728172302246,15.39561653137207,46.10184097290039,37.39910888671875,-35.96150588989258,0.7445054054260254,-28.84140968322754,-32.28921127319336,-39.57979202270508,17.70864486694336,-50.07943344116211,7.053483963012695,29.530622482299805,-53.82554626464844,9.567599296569824,-4.919942855834961,26.333574295043945,51.72875213623047,9.6514310836792,-5.552197456359863,-23.10245704650879,14.394938468933105,3.564532995223999,-47.1694221496582,38.2609748840332,-6.954291820526123,34.85144805908203,12.816805839538574,39.122962951660156,-1.2533420324325562,-4.707983016967773,-58.803524017333984,16.527463912963867,2.020247220993042,-24.081825256347656,21.53937339782715,-48.59852981567383,-38.715023040771484,-22.132728576660156,18.88876724243164,-48.86893844604492,35.925716400146484,-19.2486572265625,-2.868825912475586,-8.728679656982422,-14.668967247009277,-36.962074279785156,-7.293423652648926,51.6888542175293,13.569950103759766,40.77457809448242,27.824838638305664,-30.595870971679688,-34.139705657958984,41.959537506103516,-5.001464366912842,5.305248737335205,51.379920959472656,-55.84294891357422,-37.25227737426758,-0.0001597863156348467,1.538780689239502,5.86313009262085,-32.89145278930664,13.725932121276855,10.986723899841309,15.738710403442383,27.424907684326172,-39.58567810058594,-44.60762405395508,30.151681900024414,-34.602943420410156,27.676870346069336,-5.048478603363037,-51.56417465209961,-34.7467041015625,-11.27328109741211,-24.801528930664062,23.0041561126709,46.94980239868164,-39.80839157104492,36.679046630859375,35.98519515991211,12.50462818145752,13.919251441955566,-41.812225341796875,14.493062019348145,-37.446571350097656,-5.835063934326172,23.218416213989258,0.6049731373786926,30.306522369384766,25.322858810424805,-14.857264518737793,-5.095492839813232,-35.35869598388672,-48.399864196777344,6.074740886688232,-43.615997314453125,-12.168606758117676,49.47023010253906,-53.23472595214844,34.56971740722656,6.110893726348877,-49.23228454589844,-55.870975494384766,6.944976806640625,13.544760704040527,11.41909408569336,-13.406366348266602,-27.370189666748047,-18.14069366455078,20.51296615600586,3.437549352645874,48.16488265991211,-14.056723594665527,-10.2435302734375,-33.72431564331055,36.400264739990234,23.488725662231445,-34.91044998168945,38.18849563598633,-30.606536865234375,27.489166259765625,4.998852252960205,45.669559478759766,37.43038558959961,-29.387527465820312,8.439767837524414,-58.80424118041992,-53.86404037475586,-39.60896682739258,-39.99142837524414,2.5886077880859375,13.034107208251953,8.696752548217773,22.011335372924805,33.274539947509766,-46.143741607666016,41.13482666015625,-35.76681137084961,-29.789600372314453,-56.223846435546875,43.621028900146484,24.228240966796875,-48.66878128051758,29.13111114501953,9.942541122436523,-8.259956359863281,-24.580486297607422,1.7372081279754639,48.708412170410156,-7.482161521911621,9.093682289123535,16.507240295410156,29.915241241455078,-17.086402893066406,-29.977840423583984,51.57575225830078,-13.277384757995605,-42.1991081237793,-49.256446838378906,3.260672092437744,29.6396484375,5.823559284210205,-4.263519287109375,21.007038116455078,11.78786563873291,5.069369316101074,25.33526039123535,-21.551145553588867,36.739688873291016,28.670623779296875,24.812484741210938,8.445026397705078,-13.860649108886719,-9.33860969543457,10.285765647888184,-31.565465927124023,-48.71230697631836,33.5751838684082,-54.2421989440918,-27.247600555419922,35.65467834472656,5.466928482055664,32.537193298339844,-4.866394996643066,32.454345703125,24.152969360351562,11.610489845275879,51.1771354675293,-19.232099533081055,-32.27147674560547,-21.488386154174805,38.260257720947266,30.269624710083008,-53.28525924682617,-9.939821243286133,49.21963119506836,20.92425537109375,3.211334466934204,42.254310607910156,-52.12663650512695,-22.769899368286133,51.45014953613281,30.812597274780273,-27.39900779724121,34.086456298828125,-30.202526092529297,41.60520553588867,-41.76903533935547,6.978466987609863,2.4857375621795654,20.597763061523438,40.05711364746094,51.3088264465332,44.68060302734375,7.730317115783691,-3.621756076812744,-47.986900329589844,9.939517974853516,-9.55350399017334,-46.07039260864258,13.52682113647461,-24.655349731445312,20.91016387939453,3.052906036376953,-48.74946212768555,29.686765670776367,3.61308217048645,10.220985412597656,-1.5799354314804077,-48.180816650390625,-37.52973175048828,-11.29463005065918,-58.35719680786133,-26.92342185974121,-26.581750869750977,0.3927014172077179,46.50691223144531,-38.158077239990234,16.843395233154297,-22.4849853515625,-48.59458541870117,-16.60504150390625,-52.530921936035156,31.2581729888916,-10.552375793457031,26.319063186645508,29.69660758972168,-54.126197814941406,-1.864976167678833,7.093580722808838,47.654869079589844,-13.991747856140137,-37.55691909790039,3.2583024501800537,-25.115398406982422,-48.45599365234375,7.020145893096924,32.130340576171875,19.49846839904785,-36.08476257324219,4.220837593078613,-50.00471878051758,-33.019805908203125,3.7362723350524902,16.707704544067383,37.37392044067383,-24.671354293823242,-34.7542724609375,-11.383994102478027,-13.486273765563965,24.26919174194336,30.90913200378418,-57.999820709228516,34.1547966003418,-27.25225257873535,-35.21400833129883,19.61690330505371,-9.681082725524902,43.8878288269043,-56.39139938354492,13.009758949279785,0.22033759951591492,-30.592296600341797,-18.273048400878906,39.300933837890625,14.051629066467285,-21.510610580444336,38.564273834228516,-34.65769577026367,30.42764663696289,-28.82145118713379,43.26988983154297,-17.866058349609375,18.199317932128906,-25.136945724487305,-9.960240364074707,9.627021789550781,-7.848521709442139,38.5781135559082,-30.34020233154297,-2.4924514293670654,-22.012619018554688,40.32423400878906,-53.048431396484375,-52.51546859741211,41.16633987426758,11.443705558776855,8.681147575378418,40.16971206665039,3.5829834938049316,-39.98383712768555,8.788309097290039,-12.66821575164795,14.701618194580078,15.406895637512207,14.821721076965332,38.196075439453125,-37.329551696777344,38.892181396484375,44.642616271972656,-32.43510818481445,-21.744462966918945,-22.02579116821289,-23.173418045043945,-9.473031044006348,30.46319007873535,-37.43741989135742,-58.54312515258789,35.461151123046875,21.02958869934082,44.29218673706055,20.41029167175293,-47.35942459106445,-38.02088165283203,-14.791295051574707,35.585601806640625,-4.091113090515137,-48.31267547607422,43.017425537109375,-16.491445541381836,34.597312927246094,13.876032829284668,51.36420440673828,-51.86844253540039,-5.936789035797119,4.359360218048096,5.789299011230469,-49.931434631347656,20.680408477783203,-22.50277328491211,47.0992431640625,13.384049415588379,-13.261959075927734,44.568267822265625,1.9790836572647095,-26.430513381958008,-43.6856575012207,2.747058629989624,-56.691959381103516,24.88986587524414,10.003851890563965,-10.055900573730469,-35.71467208862305,7.366552352905273,-14.644170761108398,-34.899452209472656,38.60261917114258,27.22616195678711,21.342981338500977,12.426534652709961,-24.765850067138672,9.11911678314209,-27.26311492919922,35.68870544433594,-2.3201208114624023,30.37793731689453,-56.480804443359375,19.995447158813477,16.0972843170166,-22.432106018066406,-17.357379913330078,44.48338317871094,17.570316314697266,-28.98816680908203,-48.66633224487305,9.57797908782959,39.02448272705078,-57.26279830932617,55.672279357910156,-14.27109146118164,13.323193550109863,30.384273529052734,-7.611325263977051,9.874773025512695,-49.33441925048828,44.06345748901367,20.935226440429688,-40.508975982666016,-53.14385223388672,45.77851867675781,-39.6025276184082,-26.32485008239746,5.194721698760986,-33.1318244934082,40.173160552978516,13.759974479675293,-6.741905689239502,-1.0818759202957153,4.336817741394043,-18.40061378479004,27.331666946411133,-23.048816680908203,-1.5378365516662598,-34.49029541015625,-53.904640197753906,-45.38893127441406,-5.178613662719727,23.466171264648438,-35.97264862060547,-29.824634552001953,16.172975540161133,32.762237548828125,-47.87675857543945,-22.64408302307129,36.08143615722656,16.728853225708008,34.090091705322266,-22.218008041381836,4.909753799438477,41.184844970703125,10.100251197814941,-34.9481086730957,-59.777095794677734,-46.413455963134766,36.29037094116211,-19.45836067199707,-43.92143630981445,-7.6128363609313965,-39.88648223876953,-13.780491828918457,7.619154453277588,-34.030296325683594,-48.2603759765625,-2.537094831466675,42.070945739746094,-42.278045654296875,-31.182971954345703,0.8955751061439514,17.382482528686523,44.13640594482422,31.328285217285156,-11.445055961608887,-32.62907028198242,-57.80946350097656,-13.921685218811035,-55.578311920166016,55.0723762512207,-38.086971282958984,-34.2574348449707,-4.596245765686035,33.47880554199219,-13.919593811035156,-7.494208335876465,-15.62200927734375,21.159086227416992,-51.5860710144043,20.151397705078125,-18.683534622192383,48.920162200927734,26.990732192993164,-33.33633804321289,-37.98552703857422,-38.43003845214844,-39.076576232910156,16.45177459716797,23.735858917236328,-6.790752410888672,-3.711315393447876,-7.993465900421143,-6.799405574798584,-52.04802703857422,42.212913513183594,-38.23811721801758,47.397789001464844,-48.07014083862305,16.761966705322266,15.08029842376709,15.623650550842285,8.965620040893555,10.242049217224121,30.860450744628906,36.70447540283203,-0.4130774736404419,-13.145074844360352,0.1251165270805359,8.919275283813477,40.09477615356445,17.16104507446289,39.63749694824219,-21.461387634277344,2.8405494689941406,-12.120861053466797,-35.556427001953125,-21.55900001525879,-56.87261199951172,29.046878814697266,26.90859603881836,20.709501266479492,10.949027061462402,5.488345146179199,23.357446670532227,46.630889892578125,38.18235778808594,10.081107139587402,32.979454040527344,33.52294158935547,-20.427289962768555,38.49870300292969,22.209041595458984,-12.968232154846191,4.905253887176514,-20.001182556152344,-42.95030975341797,20.215679168701172,38.42424774169922,10.34146785736084,2.957355260848999,-22.69561195373535,-6.115316390991211,23.796560287475586,19.025243759155273,45.47638702392578,-30.33133888244629,-36.72185516357422,6.949840545654297,-36.5172004699707,-10.985122680664062,-48.85980987548828,-57.93693542480469,41.21127700805664,-29.337020874023438,-39.03336715698242,-35.792144775390625,34.51104736328125,2.391789674758911,29.854948043823242,39.63945388793945,-29.40304183959961,-39.675865173339844,30.694271087646484,-30.771076202392578,-21.724323272705078,-14.375791549682617,20.938411712646484,0.8093916773796082,-6.623434066772461,-12.622490882873535,30.329729080200195,48.19348907470703,9.284996032714844,-53.57828903198242,-18.023479461669922,-35.75729751586914,-56.653690338134766,7.98589563369751,12.312336921691895,3.7739479541778564,-25.633703231811523,-19.54804801940918,13.887640953063965,-37.16828536987305,-29.476354598999023,7.907174110412598,39.379417419433594,-21.724008560180664,-2.5587639808654785,-21.467620849609375,-33.87285232543945,-29.718765258789062,-2.783843755722046,45.66041564941406,7.977268218994141,-18.827007293701172,-47.095794677734375,48.82573318481445,-38.050750732421875,-17.627466201782227,4.1196699142456055,-52.60565185546875,-25.058622360229492,4.919926643371582,4.056197643280029,-46.8553581237793,-21.905345916748047,-20.178586959838867,-15.107858657836914,46.60734558105469,-30.33745002746582,28.932971954345703,24.57453155517578,7.103881359100342,-10.30649185180664,30.41206932067871,43.546653747558594,-27.632600784301758,5.371636390686035,-20.492918014526367,32.873268127441406,45.9519157409668,-33.55027770996094,27.624370574951172,9.225462913513184,40.94301223754883,45.143959045410156,52.242897033691406,-5.4850754737854,-53.50676727294922,-17.18436050415039,-26.452442169189453,2.060188055038452,11.668810844421387,6.536468029022217,30.038936614990234,-60.528602600097656,-38.41782760620117,-51.658546447753906,-58.175533294677734,6.40840482711792,45.55778884887695,4.026366710662842,39.19173812866211,-17.21897315979004,40.2851676940918,41.43031311035156,-53.64713668823242,-16.93318748474121,27.294506072998047,21.204233169555664,37.780845642089844,-29.61216163635254,46.20499801635742,2.4739105701446533,-7.189064025878906,51.29227066040039,-31.772811889648438,-32.59299850463867,49.60846710205078,-47.79298400878906,-53.45928192138672,-11.501051902770996,-29.830795288085938,-13.23149585723877,27.373329162597656,30.019323348999023,29.909074783325195,-2.0968332290649414,13.007150650024414,-33.82231903076172,-39.1542854309082,7.573484897613525,20.802227020263672,43.631832122802734,5.654475688934326,-15.067049980163574,42.8841667175293,-19.13215446472168,-50.81779098510742,-32.4367790222168,-24.25117301940918,6.2686262130737305,-3.1926064491271973,1.3776541948318481,35.07571029663086,-9.921784400939941,-47.40258026123047,39.0452880859375,17.253511428833008,14.379154205322266,-37.78799819946289,-61.2921142578125,42.93833541870117,13.07033920288086,25.352174758911133,-3.035947561264038,43.1091423034668,-4.921227931976318,40.63412094116211,36.9504280090332,22.60924530029297,6.9788498878479,-51.050045013427734,21.95865249633789,-49.3586311340332,-35.66860580444336,-35.4892578125,39.1905517578125,-8.618910789489746,-25.42033576965332,30.514606475830078,2.322476387023926,-39.26713180541992,52.1927490234375,38.99696350097656,-44.23522186279297,-57.76405334472656,14.352593421936035,-1.291336178779602,31.78421401977539,14.481536865234375,1.849838376045227,5.671913146972656,-39.18598556518555,4.9270453453063965,21.193960189819336,-34.686492919921875,14.16496753692627,46.99665069580078,-50.556209564208984,21.361547470092773,-21.919321060180664,-27.009811401367188,47.397098541259766,37.5064811706543,45.324371337890625,-2.0120205879211426,7.113104343414307,16.951818466186523,-7.64274787902832,-14.926189422607422,-11.026573181152344,7.354835510253906,-46.79924774169922,46.30455780029297,17.064298629760742,3.367328405380249,-23.616607666015625,-58.15339660644531,26.83158302307129,-36.62744903564453,31.717710494995117,13.326482772827148,29.76309585571289,-27.07404327392578,28.601442337036133,16.546342849731445,-54.80289840698242,-18.39215087890625,41.64094543457031,-39.27246856689453,50.107948303222656,-43.109458923339844,42.18037033081055,-3.484767198562622,26.666292190551758,-14.59302806854248,14.242277145385742,-39.79878616333008,-54.181156158447266,-11.980778694152832,-57.205604553222656,29.663570404052734,-47.61107635498047,6.110379695892334,3.6494758129119873,-54.09581756591797,-8.132518768310547,41.82070541381836,-34.846073150634766,19.872726440429688,22.99671745300293,24.55366325378418,53.62387466430664,45.6209716796875,13.143729209899902,-25.129228591918945,5.923920154571533,-7.414310932159424,7.135430335998535,-44.45867919921875,14.770522117614746,22.703861236572266,-58.06089401245117,48.115474700927734,29.541767120361328,-28.11314582824707,-19.704347610473633,-18.97256088256836,27.672645568847656,-21.82283592224121,-50.843727111816406,8.658333778381348,-2.4591829776763916,-41.223365783691406,-2.736266613006592,-48.69609451293945,17.535917282104492,8.352197647094727,29.636991500854492,30.231042861938477,-25.126218795776367,48.67839431762695,-8.435002326965332,15.27746868133545,-14.22558307647705,-40.23153305053711,-23.838035583496094,13.94027042388916,18.70696449279785,-35.629085540771484,47.176544189453125,-45.302433013916016,-20.2302188873291,-36.996028900146484,42.254241943359375,-18.78571891784668,-7.66236686706543,-45.76475143432617,-52.46956253051758,34.61453628540039,-12.598353385925293,-55.758785247802734,-1.976715326309204,-49.622920989990234,-58.648868560791016,26.613296508789062,-57.309837341308594,-8.712950706481934,-34.30036163330078,47.53847885131836,47.614845275878906,7.579925060272217,34.972434997558594,20.863780975341797,38.009281158447266,30.970518112182617,17.145185470581055,27.14595603942871,20.30902099609375,-28.28058433532715,20.39798355102539,18.439258575439453,51.58394241333008,49.34748840332031,-19.62611961364746,-9.819707870483398,8.562796592712402,-47.93547058105469,0.8057891130447388,1.9889236688613892,49.40775680541992,39.39413833618164,38.4161491394043,37.86103057861328,45.34294509887695,-51.87187194824219,-14.357379913330078,-25.70745277404785,0.901447057723999,10.672269821166992,-36.37781524658203,30.041067123413086,11.79705810546875,-24.128246307373047,10.27776050567627,6.349410057067871,31.265892028808594,28.73877716064453,-4.082760334014893,52.34437561035156,-35.38017272949219,37.70282745361328,13.645951271057129,26.956676483154297,20.020915985107422,-21.345561981201172,34.99047088623047,13.95853042602539,-18.566614151000977,26.877290725708008,-41.3856086730957,20.159177780151367,-19.584598541259766,11.106429100036621,-8.291365623474121,34.04646301269531,-2.1148970127105713,16.070528030395508,38.94150924682617,-27.24941062927246,51.169097900390625,11.041259765625,-28.533855438232422,-17.551328659057617,4.023440361022949,-51.52314758300781,-3.3017830848693848,-45.73099136352539,44.914154052734375,46.31473159790039,28.2225341796875,30.883581161499023,-53.672237396240234,-56.4758186340332,-3.1508920192718506,45.5628547668457,-2.0329244136810303,42.105812072753906,-49.32645034790039,38.46342468261719,23.841306686401367,2.9568257331848145,48.068870544433594,48.371551513671875,-33.86259841918945,13.815160751342773,48.815067291259766,-38.07649612426758,51.91149139404297,51.06498718261719,-4.767298221588135,-3.8496384620666504,-25.064903259277344,16.79896354675293,19.898984909057617,-0.9104154109954834,51.30933380126953,-58.044315338134766,20.97754669189453,-42.03208541870117,-24.237749099731445,46.374664306640625,31.80019760131836,-18.16864585876465,26.926002502441406,-1.744282841682434,51.99568176269531,5.890050411224365,-28.991498947143555,-38.534542083740234,-16.621278762817383,-27.848859786987305,3.32934832572937,46.09932327270508,-7.637558460235596,-4.905367374420166,-19.844804763793945,19.29254913330078,-30.932819366455078,40.83292770385742,24.605854034423828,-34.775936126708984,-41.449554443359375,-31.595687866210938,47.14427185058594,12.528665542602539,-37.16140365600586,-18.152530670166016,-45.1850471496582,37.37228775024414,-11.371150016784668,-13.725903511047363,10.0113525390625,-36.0234260559082,-40.3599739074707,13.824944496154785,10.629501342773438,40.9283447265625,-39.45948028564453,-57.90791702270508,-39.95524215698242,-9.595817565917969,-41.59821319580078,-35.13116455078125,17.6629695892334,33.03569412231445,38.004966735839844,-36.56694030761719,-33.36548614501953,-15.213927268981934,-35.02508544921875,29.012256622314453,-37.99907684326172,-27.578310012817383,32.85972213745117,-4.074759006500244,0.9682983160018921,-17.809289932250977,38.40928649902344,38.525657653808594,41.42129135131836,47.2100830078125,-12.523385047912598,-56.71814727783203,25.72946548461914,46.12014389038086,5.526276588439941,42.61166763305664,28.593721389770508,26.639562606811523,-57.637840270996094,-34.753265380859375,-34.22620391845703,2.8144445419311523,26.751340866088867,-31.104019165039062,13.739923477172852,-42.952735900878906,37.46437072753906,9.580459594726562,-38.29084396362305,18.553861618041992,-36.30577850341797,21.634033203125,12.660356521606445,-37.98463821411133,7.5225114822387695,-36.77670669555664,-34.26939010620117,16.51862144470215,52.10763168334961,39.93899917602539,-44.07249450683594,-7.9567975997924805,0.7069364786148071,23.001317977905273,4.639044284820557,21.719707489013672,-23.821950912475586,-51.90683364868164,24.339527130126953,22.445392608642578,-32.09294509887695,-20.565521240234375,2.737812042236328,46.45517349243164,-50.171958923339844,46.709136962890625,43.85857391357422,48.667423248291016,-47.7744140625,25.910451889038086,-44.64567565917969,16.432353973388672,11.552444458007812,-25.94217872619629,-37.9454231262207,-56.465023040771484,-12.866804122924805,-30.31230926513672,-13.84047794342041,40.883174896240234,15.29725456237793,-50.42082977294922,27.701982498168945,7.639157772064209,-15.555194854736328,-43.54753875732422,21.826147079467773,6.222542762756348,19.058486938476562,-43.60521697998047,35.54926681518555,25.28992462158203,-47.99862289428711,6.058971881866455,7.9525017738342285,6.586399078369141,31.237442016601562,15.304372787475586,-30.704225540161133,-58.90134811401367,-16.968061447143555,-37.22492980957031,27.681304931640625,16.38788414001465,-5.327756881713867,-57.702606201171875,-33.118709564208984,46.39664077758789,-23.131000518798828,-32.706573486328125,28.169164657592773,39.21163558959961,-17.546173095703125,-20.521451950073242,-39.52789306640625,-46.41169738769531,-27.146251678466797,16.66276741027832,-56.134334564208984,23.093717575073242,-54.792724609375,47.39739990234375,13.385019302368164,-26.724430084228516,44.92352294921875,-47.62031936645508,-21.26142120361328,9.745691299438477,20.56049346923828,-47.26900100708008,13.236413955688477,-56.27208709716797,31.908281326293945,39.905174255371094,-15.391963958740234,44.99714279174805,-15.464224815368652,34.439571380615234,-38.72854995727539,-51.635623931884766,24.3131103515625,-18.87064552307129,3.538764476776123,22.939123153686523,-17.255943298339844,-58.84257507324219,28.721187591552734,-18.120967864990234,-26.66745948791504,10.062732696533203,21.54046058654785,13.39024543762207,48.8719367980957,-26.46565818786621,-26.38918113708496,-33.184349060058594,22.484773635864258,48.32676696777344,28.589590072631836,43.94980239868164,-0.4861677289009094,-46.188655853271484,-51.27013397216797,32.55489730834961,27.910268783569336,-49.03038787841797,-28.525232315063477,14.75594711303711,44.37128829956055,32.24331283569336,2.776972532272339,52.04485321044922,-42.2949333190918,-48.937767028808594,50.29170608520508,-23.486404418945312,-32.20451354980469,7.659511089324951,-50.98223114013672,48.12161636352539,36.80271530151367,50.22255325317383,18.672151565551758,17.708189010620117,39.5882682800293,46.45563507080078,18.730409622192383,22.44116973876953,10.611492156982422,15.270444869995117,13.700685501098633,20.17900848388672,34.4463996887207,26.43704605102539,39.68552780151367,27.19430160522461,29.2077579498291,38.88716125488281,-7.5057854652404785,-36.2226448059082,-47.502201080322266,-28.34305191040039,43.24275207519531,6.883344650268555,-7.6395697593688965,-39.175662994384766,-1.5971492528915405,29.06398582458496,-15.657504081726074,-34.77116775512695,19.6382999420166,7.777819633483887,16.955171585083008,-30.338130950927734,33.23714065551758,48.212162017822266,45.189693450927734,-58.00689697265625,-36.91043472290039,36.108089447021484,39.92835998535156,20.65204620361328,-59.8519287109375,13.237092018127441,40.18539810180664,37.593605041503906,46.91191101074219,15.92441463470459,-18.587100982666016,-36.24324417114258,31.102705001831055,27.49680519104004,-37.51252746582031,3.864457130432129,-16.605789184570312,-6.138038635253906,-57.913028717041016,-29.482885360717773,-47.161685943603516,2.010554790496826,17.012575149536133,39.68667984008789,41.872276306152344,16.05364418029785,9.63729476928711,44.31989669799805,14.66553020477295,14.251595497131348,-37.4848518371582,-27.517454147338867,-22.516000747680664,13.107297897338867,15.621893882751465,-55.196598052978516,-32.21519088745117,28.928272247314453,13.304739952087402,-8.213019371032715,0.5935181379318237,31.620765686035156,-41.48777770996094,23.541337966918945,34.511146545410156,-14.726083755493164,51.33504104614258,20.016611099243164,9.946478843688965,37.97482681274414,-57.918270111083984,22.33524513244629,43.393558502197266,47.63618850708008,16.77007484436035,1.585854172706604,-24.734046936035156,41.913516998291016,-27.36130142211914,5.9490461349487305,9.095595359802246,14.562562942504883,3.665198802947998,24.90062141418457,9.307360649108887,38.8798942565918,-22.23030662536621,33.48136520385742,9.764451026916504,-24.190237045288086,46.15913391113281,51.163230895996094,41.333499908447266,6.391089916229248,11.583331108093262,-21.93350601196289,42.26106643676758,26.303281784057617,10.432703971862793,-10.529131889343262,-19.873132705688477,-49.4182014465332,-25.642539978027344,5.156102180480957,0.6557682156562805,28.80516815185547,17.477182388305664,-0.5925572514533997,33.4307746887207,21.528301239013672,2.166248083114624,50.1280403137207,-32.97832489013672,-49.20304870605469,8.64462661743164,29.970298767089844,-8.166365623474121,-52.70296096801758,28.85085678100586,18.328632354736328,16.510717391967773,8.435918807983398,-17.57097816467285,2.4095466136932373,12.36198902130127,27.276491165161133,19.995075225830078,-49.37903594970703,-17.83489418029785,-38.635921478271484,25.290597915649414,48.31140899658203,-33.16956329345703,45.45633316040039,-7.160736083984375,42.52029037475586,-5.817526340484619,39.35745620727539,-36.161136627197266,22.95292091369629,-8.938520431518555,4.261916637420654,53.57414627075195,47.31294631958008,13.764598846435547,7.467154502868652,48.759796142578125,15.156023979187012,8.168630599975586,18.094680786132812,-13.968584060668945,-7.0008063316345215,-21.235483169555664,39.98877716064453,34.2691650390625,-22.285146713256836,5.425047874450684,44.06248474121094,-30.868732452392578,27.412961959838867,31.21257209777832,33.02245330810547,-37.686126708984375,41.29829406738281,20.825525283813477,-29.294200897216797,-12.277968406677246,4.258543968200684,2.7724661827087402,-57.720794677734375,46.82378005981445,48.74677276611328,19.51350975036621,28.076377868652344,29.37025260925293,43.856170654296875,14.8047513961792,-50.92361068725586,-30.67364501953125,12.744255065917969,-24.8170223236084,12.742359161376953,-57.053096771240234,-37.2885627746582,-41.12898635864258,-21.81794548034668,11.624202728271484,40.12263107299805,8.162304878234863,11.441924095153809,39.150428771972656,19.368818283081055,-35.33252716064453,-17.717742919921875,-25.054025650024414,-32.778648376464844,-29.426668167114258,24.624338150024414,-4.262615203857422,-30.351764678955078,43.453495025634766,-55.712276458740234,34.9404296875,36.76079177856445,26.30803108215332,-12.568243026733398,19.475698471069336,42.315956115722656,39.21946334838867,8.04358196258545,-8.13747787475586,-10.914472579956055,-16.505321502685547,-6.612842082977295,-5.330795764923096,24.018095016479492,-6.317121505737305,-37.159339904785156,17.845069885253906,-23.417091369628906,-25.34416389465332,2.150723457336426,-53.12519836425781,-54.61126708984375,-11.802154541015625,-33.96686553955078,-38.602848052978516,-6.720729827880859,-32.52141189575195,-46.245582580566406,-56.268310546875,-55.10896682739258,-28.51860809326172,-59.52556228637695,-29.946941375732422,-34.11371994018555,-26.6147518157959,43.81924819946289,-15.538750648498535,-32.27025604248047,-4.009285926818848,7.829286575317383,31.316129684448242,-33.87848663330078,-22.195974349975586,-21.08354949951172,9.371316909790039,9.751709938049316,33.36641311645508,-48.631656646728516,39.05220031738281,41.11040496826172,43.386932373046875,44.195526123046875,-7.725627899169922,46.9134407043457,37.81476593017578,-61.22052764892578,-34.17459487915039,3.9399828910827637,-27.876018524169922,-15.854243278503418,-26.071701049804688,-30.511493682861328,-7.5781660079956055,-21.06868553161621,-29.65087890625,28.31995964050293,12.776812553405762,31.239482879638672,17.408340454101562,53.73231506347656,-9.351449012756348,48.14312744140625,-28.965503692626953,37.704158782958984,19.17868423461914,-17.313444137573242,21.851394653320312,-9.148530960083008,2.289348602294922,-15.293078422546387,18.695600509643555,-52.91246032714844,7.467321872711182,1.601364254951477,38.37087631225586,21.43149757385254,6.608861446380615,51.75704574584961,-2.435202121734619,6.651150226593018,-43.62247085571289,-29.52100944519043,9.034863471984863,23.062101364135742,-52.682491302490234,17.147125244140625,-1.33309006690979,7.595197677612305,50.86052322387695,-37.054359436035156,30.230037689208984,20.0014705657959,-12.892447471618652,24.403076171875,47.41078567504883,-32.08830642700195,34.66057586669922,-14.458111763000488,16.743295669555664,-14.209759712219238,15.758562088012695,-44.360321044921875,-7.844367980957031,16.067502975463867,-11.83198356628418,32.65904235839844,-11.905566215515137,-32.12977600097656,-22.139877319335938,-4.625060558319092,2.020108938217163,-12.67996597290039,43.26884460449219,-34.73680877685547,-27.39173126220703,-11.549825668334961,47.7269287109375,-7.928572654724121,45.14136505126953,46.81608200073242,-9.173235893249512,-57.38996505737305,-26.400177001953125,-49.24431610107422,-3.490787982940674,16.25460433959961,4.658946990966797,23.224258422851562,23.604646682739258,3.23913836479187,-18.11652946472168,-50.66559600830078,-23.76700210571289,41.740970611572266,-5.325058460235596,42.79695129394531,43.17295837402344,38.01287078857422,-6.614961624145508,-5.588003635406494,14.576652526855469,7.493715763092041,-52.70222473144531,-26.606067657470703,17.947254180908203,-12.467619895935059,14.365584373474121,1.2573370933532715,-33.839664459228516,8.235483169555664,-22.695341110229492,44.66130447387695,-33.91453552246094,50.995094299316406,-0.2564331293106079,-35.79841995239258,-17.237470626831055,-16.908859252929688,-21.663644790649414,30.07752227783203,41.997535705566406,-25.280696868896484,2.3681986331939697,-34.08539962768555,33.39594268798828,-31.970428466796875,15.945470809936523,-7.105414390563965,22.614002227783203,31.939645767211914,20.730161666870117,-21.571245193481445,35.22596740722656,17.0899658203125,24.312448501586914,45.2760009765625,-7.392401218414307,23.319774627685547,36.16607666015625,-20.896772384643555,-38.42772674560547,-16.632471084594727,42.123680114746094,-16.52353286743164,39.597312927246094,8.125617980957031,8.8428955078125,-47.92498016357422,3.6427388191223145,2.8586478233337402,-36.023101806640625,-55.918209075927734,20.393693923950195,16.543806076049805,-11.93519401550293,49.92093276977539,-16.94641876220703,28.390533447265625,3.9317147731781006,-32.727386474609375,-28.62275505065918,30.24346160888672,12.384849548339844,27.14180564880371,19.465076446533203,-52.24063491821289,-52.84702682495117,-7.873054027557373,10.29383659362793,51.40329360961914,17.590103149414062,-22.514892578125,-12.743026733398438,23.933977127075195,-41.52881622314453,18.061962127685547,-4.239278316497803,-38.4719123840332,31.044279098510742,-24.179067611694336,6.624598503112793,-52.63484191894531,45.566627502441406,11.063082695007324,-16.997194290161133,-35.9759521484375,5.3706793785095215,-19.53386878967285,-45.05897903442383,52.442501068115234,-8.821818351745605,-22.118328094482422,-29.815446853637695,42.0649299621582,-6.57034969329834,-16.41668128967285,-29.848295211791992,49.900123596191406,-17.690631866455078,17.879413604736328,-19.188642501831055,-19.03659439086914,-43.7193489074707,13.832710266113281,29.04768180847168,-3.0042145252227783,-20.23764419555664,18.719026565551758,-38.52265548706055,-51.54170608520508,-35.11786651611328,7.901815414428711,10.130871772766113,4.422348976135254,-0.9510723352432251,-35.60557556152344,12.25629711151123,31.7791805267334,-4.550061225891113,47.04402160644531,-30.027488708496094,49.333534240722656,-55.085227966308594,-11.279584884643555,-36.944942474365234,24.12134552001953,-43.790740966796875,7.505630016326904,-52.79753875732422,34.00884246826172,23.01247215270996,32.26633071899414,-7.254263401031494,-32.55449676513672,48.045867919921875,28.502220153808594,-22.066129684448242,-20.7034912109375,-52.35184097290039,-10.799497604370117,-56.976932525634766,-22.48870277404785,-15.609127044677734,-19.280872344970703,51.84275436401367,-17.211400985717773,39.84892654418945,21.802959442138672,-40.880104064941406,38.26620101928711,-21.385417938232422,-30.52444076538086,22.836824417114258,-14.363039016723633,34.44935607910156,-29.531009674072266,55.720157623291016,7.7729902267456055,-50.182552337646484,-37.175445556640625,-30.937040328979492,-36.15101623535156,32.596439361572266,-2.767030954360962,33.6556282043457,-3.3167881965637207,46.57973861694336,-53.49644088745117,-44.7537727355957,9.008444786071777,20.955869674682617,-54.46699523925781,-53.50410079956055,47.519046783447266,20.46763801574707,40.340335845947266,-0.6471297144889832,12.955330848693848,27.282108306884766,53.10868453979492,-18.170135498046875,7.218220233917236,30.472436904907227,32.42249298095703,2.6331913471221924,46.425994873046875,-20.3402099609375,-44.729713439941406,48.28463363647461,-47.805809020996094,18.242860794067383,18.923316955566406,49.89884948730469,3.2754392623901367,-11.572271347045898,-41.81129455566406,-52.39405822753906,28.532413482666016,31.808902740478516,44.459529876708984,41.713462829589844,-2.848832845687866,-1.1468409299850464,-27.280567169189453,-31.535463333129883,21.462749481201172,-11.631911277770996,49.14267349243164,-21.518129348754883,-13.634622573852539,-54.21178436279297,51.5601806640625,19.711040496826172,40.64773178100586,6.8279876708984375,-13.038257598876953,-12.208657264709473,-51.27399444580078,52.9388313293457,48.14289474487305,13.940457344055176,15.90021800994873,49.00724792480469,8.925237655639648,29.89928436279297,-8.905940055847168,-9.564142227172852,-48.065895080566406,-9.191826820373535,-51.152488708496094,1.0233659744262695,40.19657897949219,5.049829959869385,33.7308349609375,-9.359894752502441,-7.956046104431152,10.312504768371582,31.018815994262695,43.38677215576172,-34.87159729003906,-52.492977142333984,-18.17205810546875,-36.570072174072266,28.606046676635742,30.470266342163086,46.755802154541016,-39.415279388427734,9.67184829711914,-6.689276695251465,13.595548629760742,42.704349517822266,25.45075798034668,40.9330940246582,9.311205863952637,-57.50223922729492,-37.82511520385742,-20.69405174255371,30.477108001708984,4.394471645355225,-56.692989349365234,14.924844741821289,-17.631919860839844,31.628925323486328,-13.4154052734375,49.69992446899414,46.11650848388672,-46.470611572265625,-21.38076400756836,-16.86622428894043,13.7351713180542,16.257165908813477,49.24481201171875,-29.339563369750977,-36.1271858215332,39.298828125,-30.458951950073242,47.073360443115234,45.21560287475586,16.844219207763672,-27.446640014648438,47.6244010925293,21.152095794677734,-31.77589225769043,48.38047790527344,-24.82407569885254,27.72191619873047,24.432655334472656,-2.6686789989471436,-19.581457138061523,-53.35383605957031,15.15397834777832,-15.65441608428955,26.654508590698242,-54.21230697631836,-39.53870391845703,-30.819530487060547,-23.067527770996094,3.988720655441284,-48.19156265258789,-43.88909912109375,-58.05286407470703,18.887046813964844,-1.4659264087677002,-50.6170539855957,-33.77701187133789,17.38243865966797,-7.611140727996826,-42.31079864501953,-14.795050621032715,38.017333984375,-46.12063217163086,22.008913040161133,-54.978580474853516,18.98943328857422,44.15224075317383,11.560131072998047,-31.731294631958008,-45.359798431396484,-33.35102081298828,52.27214431762695,-52.14013671875,41.79814529418945,29.14112663269043,-29.569580078125,6.785489559173584,-12.70206069946289,-19.43937873840332,-19.60672378540039,44.92629623413086,13.446781158447266,-52.889320373535156,-21.420316696166992,32.3327751159668,-51.98637008666992,-53.6497688293457,29.56153678894043,15.96841812133789,-57.41267395019531,41.29417037963867,36.81019592285156,-4.002824783325195,52.52240753173828,40.38146209716797,-53.03891372680664,-22.972753524780273,31.023040771484375,-7.536418437957764,46.04613494873047,-7.992773532867432,9.393402099609375,-57.850807189941406,-6.548806667327881,-51.5368537902832,-28.894575119018555,-22.84186553955078,39.86819839477539,20.185503005981445,3.8547372817993164,-28.350786209106445,-33.163612365722656,-16.386524200439453,-36.444278717041016,29.602449417114258,42.70170211791992,50.672157287597656,44.3572998046875,-55.810638427734375,3.573678970336914,7.275885105133057,-31.596965789794922,-14.068097114562988,-53.798095703125,35.72325897216797,-51.028568267822266,13.010204315185547,-58.22406768798828,-59.36054611206055,27.11739730834961,0.9543348550796509,21.90245246887207,44.95228958129883,-30.276935577392578,0.3470310568809509,-50.79258346557617,37.4245491027832,28.17095375061035,50.85415267944336,52.358707427978516,-7.052875518798828,-49.6080207824707,-38.22565841674805,-7.028964996337891,-9.121582984924316,39.63031005859375,-45.9509391784668,-31.6186466217041,6.430708408355713,-35.57957077026367,31.918376922607422,5.3506317138671875,-29.588048934936523,36.82101058959961,32.587928771972656,8.35987663269043,46.688323974609375,14.7997407913208,23.606136322021484,-29.15016746520996,-29.316444396972656,-56.66806411743164,-29.837080001831055,-2.349682569503784,-20.104459762573242,-31.730287551879883,9.22102165222168,20.9549617767334,7.631241798400879,-12.007315635681152,38.02113723754883,-20.177125930786133,15.247994422912598,12.898347854614258,40.05769729614258,-25.54023551940918,-18.603290557861328,32.26609802246094,23.623056411743164,-32.34280014038086,21.27651596069336,-18.34894561767578,12.099997520446777],\"xaxis\":\"x\",\"y\":[20.5653018951416,-42.69910430908203,34.90522766113281,1.6946780681610107,-0.37723666429519653,21.50738525390625,37.62797164916992,21.179397583007812,-56.857120513916016,28.04755973815918,25.47169303894043,6.677799224853516,5.00610876083374,-39.80451965332031,-31.856840133666992,36.42692565917969,16.269290924072266,-11.156876564025879,44.87188720703125,24.420307159423828,-44.82897186279297,-59.04325485229492,24.190921783447266,-6.318271636962891,-36.157752990722656,-18.461612701416016,17.52943992614746,-0.6876375079154968,24.363853454589844,-28.858436584472656,-15.29383373260498,29.055143356323242,-53.156089782714844,-57.94301986694336,10.642277717590332,41.636051177978516,-24.626863479614258,-35.674434661865234,-11.251561164855957,21.913352966308594,6.150113105773926,41.76190185546875,7.549332141876221,19.0812931060791,0.0325731560587883,3.0266335010528564,-11.998103141784668,-34.143096923828125,13.102498054504395,4.45915412902832,-12.44815731048584,-11.831626892089844,16.286142349243164,11.348993301391602,13.52557373046875,-19.852018356323242,24.343793869018555,-28.926494598388672,-11.12833309173584,-52.19981384277344,-47.13416290283203,-27.563209533691406,-21.69737434387207,-6.703750133514404,-40.22148895263672,-2.250295400619507,-60.04915237426758,-2.875007390975952,19.399717330932617,13.530113220214844,-9.847281455993652,21.564367294311523,-22.17961311340332,5.731462478637695,10.806134223937988,-12.019730567932129,7.316931247711182,9.453819274902344,27.1774959564209,33.471744537353516,9.51959228515625,18.636260986328125,-12.248534202575684,-9.621628761291504,-2.710280179977417,-18.010215759277344,30.456567764282227,29.11977195739746,-2.975372552871704,-10.654121398925781,23.660879135131836,-10.483219146728516,-23.74856948852539,-19.01860809326172,-11.704733848571777,39.95817565917969,-45.44997787475586,28.669456481933594,35.71208572387695,20.16474151611328,-10.342516899108887,-8.691147804260254,-15.590476989746094,-28.783702850341797,24.44639778137207,40.53693389892578,10.589599609375,22.820398330688477,38.122528076171875,6.454473495483398,15.163223266601562,20.38627815246582,35.82366943359375,-12.673043251037598,-29.390104293823242,40.92336654663086,5.435577869415283,-9.173763275146484,-18.146739959716797,19.163450241088867,-53.725677490234375,30.305927276611328,-20.647796630859375,14.86861801147461,36.58971405029297,11.450530052185059,-34.00254821777344,16.7365665435791,-2.0914154052734375,25.156707763671875,18.023710250854492,-42.70653533935547,-6.394655704498291,-8.228283882141113,-33.341068267822266,1.0634992122650146,-15.538098335266113,9.380659103393555,-16.019371032714844,25.01740074157715,22.995075225830078,-17.464500427246094,29.23976707458496,23.564950942993164,17.182666778564453,34.49479293823242,6.084006309509277,15.910839080810547,-16.865169525146484,-57.35499954223633,33.49665069580078,-6.471109390258789,-35.25507354736328,-10.475363731384277,24.465267181396484,15.05232048034668,-33.169307708740234,26.850725173950195,21.031295776367188,-16.677745819091797,4.038631439208984,37.57954025268555,18.037738800048828,38.8624267578125,-24.653884887695312,-4.401813507080078,3.5470945835113525,26.37767791748047,-26.87847900390625,20.95875358581543,-24.74860382080078,10.34482479095459,-0.41418036818504333,-20.28850746154785,-34.706302642822266,-17.56142234802246,20.677719116210938,29.746238708496094,-32.384159088134766,6.668604373931885,-31.499893188476562,-26.797077178955078,-29.645626068115234,-10.197610855102539,-14.56096363067627,41.85232925415039,2.1314070224761963,-33.671844482421875,12.8474702835083,0.4414917528629303,-11.14790153503418,-0.7530171871185303,15.241658210754395,13.40432357788086,5.37296724319458,6.2144083976745605,-9.875784873962402,-14.029041290283203,-41.950172424316406,-23.188318252563477,18.974685668945312,20.355112075805664,-9.002218246459961,-32.18149185180664,12.540242195129395,-7.637537479400635,29.90706443786621,33.34101486206055,-2.8233978748321533,31.108163833618164,18.550521850585938,40.61099624633789,11.58220386505127,-16.4332218170166,-2.418827533721924,-23.128353118896484,20.30663299560547,-50.08837127685547,12.895317077636719,12.117136001586914,16.806175231933594,19.396411895751953,14.949429512023926,-13.70536994934082,-24.227418899536133,35.33251190185547,-28.625385284423828,-2.101578712463379,22.984375,-28.599063873291016,15.953749656677246,-8.4418306350708,-26.47878074645996,-8.784504890441895,36.09172058105469,6.661842346191406,4.062074184417725,21.038713455200195,5.430581092834473,10.985671043395996,0.9872838258743286,-1.943004846572876,32.885128021240234,5.220178127288818,21.105884552001953,-14.487250328063965,28.51984977722168,-47.068058013916016,-20.635194778442383,-36.45915985107422,-16.97589874267578,-42.194297790527344,-11.669870376586914,-33.2744255065918,30.92931365966797,15.696296691894531,9.39098072052002,-2.5404887199401855,-5.587411880493164,-21.871585845947266,-9.063541412353516,2.5303804874420166,-58.47423553466797,36.19316864013672,30.46031951904297,-47.37311553955078,-24.98849105834961,15.979941368103027,-6.3156046867370605,-29.51683807373047,0.4165154695510864,-36.44901657104492,13.63715934753418,-4.515356063842773,12.191854476928711,-7.958337306976318,20.755220413208008,-7.8033599853515625,-2.869081974029541,21.647945404052734,-3.594074249267578,19.987777709960938,34.0738639831543,34.7801513671875,5.319839000701904,4.149101257324219,39.720420837402344,-12.56373119354248,-19.122102737426758,-16.46072006225586,35.52225112915039,-40.07029724121094,38.237117767333984,-2.4980437755584717,-50.20520782470703,10.979741096496582,-2.1945908069610596,-49.122657775878906,11.960460662841797,-40.699798583984375,18.123075485229492,14.85618782043457,29.924467086791992,7.629930019378662,4.999476432800293,7.086553573608398,-22.944345474243164,-22.158977508544922,20.14325714111328,-10.939366340637207,-25.600967407226562,-38.163490295410156,29.16954803466797,-45.09829330444336,6.14291524887085,25.958965301513672,30.06197738647461,-10.520549774169922,22.80493927001953,-11.503975868225098,-19.188627243041992,3.681251287460327,23.204784393310547,25.19916534423828,-9.349177360534668,6.80821418762207,24.65842628479004,3.823791742324829,34.51540756225586,23.355661392211914,-24.81804084777832,-20.309566497802734,31.474584579467773,25.97577667236328,11.480792999267578,23.610267639160156,-25.236417770385742,-32.14741134643555,-14.19717025756836,23.72222328186035,4.542311668395996,20.837556838989258,-30.5358829498291,21.668033599853516,42.89869689941406,1.7641990184783936,10.49543285369873,-9.964495658874512,-7.328123092651367,19.25640869140625,-3.1486313343048096,26.184141159057617,3.2826199531555176,8.161032676696777,12.053399085998535,-24.192190170288086,24.014328002929688,35.51674270629883,-4.690667629241943,17.33344841003418,-2.159733533859253,-19.003067016601562,-16.05436897277832,-4.124560356140137,-18.77927589416504,15.490653991699219,15.184842109680176,21.125934600830078,-15.128557205200195,13.10132122039795,12.739497184753418,-11.445938110351562,18.630537033081055,-14.861712455749512,22.933870315551758,-0.7623595595359802,8.195348739624023,-37.69417953491211,-16.92181396484375,25.400680541992188,13.916709899902344,28.86614227294922,-12.722848892211914,-0.06322731822729111,-4.349124431610107,5.927608013153076,-22.763103485107422,38.90317916870117,32.888397216796875,-56.1649169921875,-22.031110763549805,24.7578125,-11.865595817565918,-34.02045440673828,-11.278827667236328,36.77336120605469,-38.99665832519531,9.191749572753906,-18.82795524597168,-1.4004952907562256,8.369735717773438,31.788528442382812,-44.26756286621094,-15.772191047668457,-42.18815231323242,15.702192306518555,-31.573457717895508,2.8929998874664307,-1.790777325630188,31.665517807006836,-4.948690891265869,-2.5504519939422607,19.827112197875977,-3.0605287551879883,21.160001754760742,27.57219123840332,-60.95479965209961,-24.228647232055664,39.48701095581055,-7.337081432342529,14.820361137390137,6.261029243469238,-34.4549446105957,-26.791709899902344,2.501267910003662,7.18110990524292,11.808666229248047,-13.595894813537598,-0.20876359939575195,43.27751541137695,-24.573318481445312,25.95536231994629,9.534361839294434,-33.15571975708008,-10.48277759552002,-27.687618255615234,-31.463882446289062,2.385899066925049,-12.797331809997559,44.31706237792969,0.3382476270198822,6.019173622131348,39.822662353515625,8.791955947875977,23.467479705810547,3.9396162033081055,6.412213325500488,30.884212493896484,-31.089618682861328,-32.919979095458984,24.572982788085938,-19.23572540283203,2.967479705810547,-2.80637788772583,-23.302642822265625,12.471671104431152,-47.62025833129883,-17.81021499633789,-4.965582370758057,-41.14364242553711,32.251522064208984,19.3487606048584,-52.819923400878906,-25.17795181274414,-18.315410614013672,-25.70196533203125,28.756980895996094,25.130788803100586,-26.16628646850586,41.45585250854492,16.30084991455078,-36.266990661621094,-56.555503845214844,36.360992431640625,-0.2505031228065491,21.95656967163086,0.141954243183136,36.403968811035156,-26.007177352905273,9.640969276428223,-8.842629432678223,-30.001571655273438,16.511337280273438,21.457324981689453,43.63043975830078,35.45201873779297,15.788890838623047,5.4807257652282715,-4.462981700897217,1.1516743898391724,33.20616149902344,20.3577938079834,-13.200432777404785,-31.453020095825195,27.57262420654297,-25.936729431152344,-5.6556830406188965,-31.202383041381836,15.205780029296875,21.35841178894043,41.919212341308594,-2.4380269050598145,-14.952317237854004,8.306650161743164,-39.36170959472656,-3.096860885620117,13.125518798828125,-18.987817764282227,-55.88576889038086,27.875288009643555,-8.166943550109863,-19.080793380737305,28.059663772583008,33.7369384765625,5.454540252685547,0.5886392593383789,29.881486892700195,-34.784549713134766,-18.62043571472168,24.430387496948242,7.316941261291504,12.141063690185547,31.883056640625,-15.618550300598145,-14.042583465576172,-3.5444445610046387,34.361907958984375,21.532516479492188,-13.9816255569458,3.7804505825042725,-30.624542236328125,-12.446490287780762,-1.259627103805542,2.763789415359497,-14.47043228149414,42.19340515136719,4.678101062774658,16.40290069580078,0.4162256121635437,-2.1399614810943604,5.748145580291748,17.9420223236084,-22.139312744140625,19.492332458496094,6.693718910217285,-13.892911911010742,-1.772801160812378,-11.786892890930176,-51.157188415527344,-31.109731674194336,-24.054161071777344,-59.20980453491211,27.334190368652344,-17.230846405029297,-17.473896026611328,23.369184494018555,-55.65605163574219,22.331762313842773,-10.981257438659668,11.571659088134766,18.57744598388672,-58.05237579345703,-17.858478546142578,-9.108135223388672,-3.9500811100006104,-35.48568344116211,11.843266487121582,-17.108318328857422,-0.3270299434661865,-9.24266529083252,-13.264969825744629,10.239729881286621,-17.97292137145996,-5.5523786544799805,-4.636245250701904,-28.66228485107422,-28.114017486572266,12.659106254577637,-1.7349423170089722,-56.31828308105469,38.910160064697266,-48.88786697387695,12.088469505310059,6.385122776031494,-2.7316319942474365,-7.587337017059326,-9.145278930664062,24.53054428100586,-17.3577823638916,-13.446723937988281,20.406967163085938,-37.52111053466797,-4.309230327606201,-4.150397300720215,-13.6504545211792,1.9003528356552124,-13.272546768188477,2.1812918186187744,-24.044971466064453,38.55615234375,7.316191673278809,-13.422586441040039,-33.37617111206055,-21.68085289001465,-2.1099934577941895,-53.21355056762695,27.230609893798828,-19.57228660583496,23.485450744628906,-0.9933692216873169,-19.78691291809082,-28.835285186767578,-37.80037307739258,-17.923627853393555,18.343276977539062,1.2049963474273682,3.152212381362915,-59.35551452636719,-56.35857009887695,10.913736343383789,-12.959753036499023,12.249923706054688,17.913225173950195,21.12056541442871,-16.94268798828125,14.995735168457031,-16.380355834960938,40.34785079956055,28.01790428161621,-36.4975700378418,17.633214950561523,5.380096912384033,-13.256123542785645,-5.327353477478027,-3.7616147994995117,2.183967113494873,16.262468338012695,22.430681228637695,29.098535537719727,-10.999641418457031,-4.040619373321533,-50.53687286376953,32.83134460449219,40.300010681152344,36.3497428894043,29.08244514465332,17.140600204467773,-0.2884983420372009,22.918291091918945,31.421945571899414,9.044039726257324,38.461116790771484,8.69689655303955,-29.062875747680664,-50.887481689453125,-32.09627914428711,19.64069175720215,0.7752313613891602,-30.11301040649414,-17.529075622558594,-51.742889404296875,9.34493350982666,-30.948448181152344,16.59137725830078,-20.762882232666016,11.254984855651855,-14.667040824890137,-1.9650771617889404,-26.790809631347656,-7.772675514221191,-32.02058410644531,18.255064010620117,6.200129508972168,-32.3292350769043,19.122873306274414,12.543160438537598,-46.043949127197266,-40.56072235107422,6.881202697753906,-14.166549682617188,24.105131149291992,-2.8553550243377686,12.81589126586914,10.701196670532227,-54.59166717529297,36.75583267211914,14.085990905761719,-15.605003356933594,-41.502193450927734,36.1751823425293,-7.239056587219238,1.7828315496444702,8.210227966308594,-0.07536350935697556,-16.943605422973633,-12.811226844787598,24.782459259033203,25.185810089111328,-17.950273513793945,17.262935638427734,25.250316619873047,-20.99848747253418,17.77283477783203,7.221038341522217,40.72066116333008,19.344554901123047,18.02114486694336,-7.157713890075684,-17.369089126586914,-7.2860541343688965,-11.819512367248535,39.27252960205078,21.892168045043945,-0.48315924406051636,1.4969474077224731,31.080455780029297,-2.4427835941314697,-1.6027191877365112,-12.766996383666992,-9.995259284973145,-19.723316192626953,-4.104244232177734,-2.8284318447113037,1.3126482963562012,21.488876342773438,20.713144302368164,5.24179220199585,22.268144607543945,18.095134735107422,-38.80595016479492,9.060074806213379,-4.955412864685059,5.55657958984375,-45.083194732666016,31.582284927368164,-3.3259897232055664,21.083358764648438,-23.59969711303711,-42.466732025146484,44.47967529296875,-12.608470916748047,-45.49040985107422,-15.30688190460205,14.30887222290039,26.77399444580078,40.16620635986328,-12.099499702453613,-26.200531005859375,1.5914194583892822,7.40274715423584,13.039511680603027,4.4566450119018555,-12.427549362182617,-43.975852966308594,-2.9279303550720215,1.93036949634552,-19.301395416259766,-17.648597717285156,-13.895827293395996,-28.5089111328125,22.273284912109375,39.4853401184082,-5.64501428604126,38.69871139526367,37.104644775390625,-17.603334426879883,5.8133864402771,-49.52901077270508,28.46241569519043,-42.160823822021484,-32.16347885131836,-29.62327766418457,37.41550827026367,13.770593643188477,35.607364654541016,2.0517690181732178,-9.08096981048584,35.53281784057617,1.2213186025619507,-28.149612426757812,8.890435218811035,-21.476404190063477,3.4240331649780273,15.753742218017578,12.60847282409668,13.097058296203613,12.214731216430664,24.38880157470703,-13.839871406555176,-2.760576009750366,-14.807388305664062,-50.35164260864258,17.166963577270508,-5.264974117279053,5.859107494354248,20.41888427734375,-3.7455949783325195,-29.428234100341797,4.980129718780518,-1.0067267417907715,2.986581563949585,19.338579177856445,19.2375431060791,-40.70128631591797,-4.344114303588867,-22.309019088745117,38.450897216796875,-56.69065475463867,-1.0309871435165405,-14.888633728027344,-9.842262268066406,-29.231019973754883,0.09055659919977188,26.516366958618164,23.5504150390625,29.861515045166016,19.226343154907227,26.877365112304688,-34.936500549316406,-52.076622009277344,24.434778213500977,-0.22045791149139404,-52.84012985229492,-7.347962856292725,-16.377443313598633,-12.85471248626709,-29.852893829345703,21.072771072387695,-23.537763595581055,-46.645416259765625,35.94660186767578,-3.5450804233551025,23.90300941467285,19.679861068725586,-15.85254192352295,-15.22559642791748,-2.439293384552002,12.466462135314941,26.087242126464844,-58.19574737548828,-7.814306735992432,-10.10958480834961,-18.658119201660156,37.15888595581055,12.850921630859375,-34.534481048583984,22.579877853393555,37.23117446899414,-12.689748764038086,-52.39177703857422,-23.443391799926758,10.7485990524292,31.937618255615234,-35.72275161743164,43.11232376098633,26.587568283081055,9.768528938293457,20.460914611816406,-11.263837814331055,-25.95261573791504,6.982901573181152,-2.44339919090271,-11.13314437866211,38.25748062133789,-52.32112503051758,6.051595211029053,14.547157287597656,-16.988563537597656,7.281988143920898,-9.230880737304688,15.684882164001465,6.769062519073486,-37.611961364746094,6.0316853523254395,-49.559879302978516,17.008159637451172,-16.045785903930664,-23.270647048950195,22.700014114379883,-3.856503486633301,36.527591705322266,5.6698899269104,-31.320619583129883,23.89116859436035,26.2195987701416,1.8913965225219727,5.165243625640869,-12.245390892028809,1.4631761312484741,-15.383872032165527,-4.249760150909424,35.33316421508789,-1.9103987216949463,21.4613094329834,36.89323806762695,-29.83828353881836,-1.872229814529419,22.885576248168945,-31.115459442138672,13.398069381713867,3.6391348838806152,27.977222442626953,32.74490737915039,44.921607971191406,29.543025970458984,2.841151237487793,-11.415060043334961,14.136695861816406,-10.111745834350586,-14.493906021118164,-60.08822250366211,37.652889251708984,-9.476571083068848,39.430606842041016,25.124244689941406,-16.755264282226562,17.055885314941406,11.164515495300293,16.737598419189453,16.88885498046875,-0.3094382584095001,21.199480056762695,24.647127151489258,6.0800604820251465,16.729694366455078,-21.74944496154785,20.525394439697266,13.457979202270508,-43.859832763671875,34.04658508300781,0.16566869616508484,32.168277740478516,13.134533882141113,-57.7236328125,9.569293022155762,-4.1335062980651855,-27.189006805419922,29.50634002685547,-56.94064712524414,-26.48501968383789,28.547740936279297,-14.015911102294922,10.67168140411377,-13.62292766571045,-29.22967529296875,17.132627487182617,-1.6361212730407715,-4.99716854095459,-28.530057907104492,-39.34949493408203,-13.068385124206543,3.496380567550659,-10.4182767868042,-18.643718719482422,-0.3477151095867157,9.036858558654785,-15.101104736328125,0.9523374438285828,-7.576020240783691,29.97735595703125,20.756324768066406,30.167879104614258,-40.343013763427734,2.974795341491699,-41.2684326171875,20.644506454467773,1.529123306274414,16.281143188476562,-50.20734786987305,-32.993751525878906,-53.34342956542969,-50.62751007080078,23.389095306396484,37.02463150024414,0.14127734303474426,3.6376261711120605,-6.299514293670654,-11.414077758789062,10.982295989990234,-6.207143306732178,41.508460998535156,-40.905677795410156,19.640533447265625,-32.95793533325195,-29.997737884521484,-15.824209213256836,-6.9431071281433105,8.313632011413574,13.207524299621582,-58.79789352416992,-6.529855728149414,33.623870849609375,11.854982376098633,0.6601150631904602,-11.549078941345215,-8.250839233398438,32.276981353759766,-39.15162658691406,19.629758834838867,35.08502197265625,-33.0971794128418,-34.68727493286133,23.258859634399414,-46.348297119140625,12.898171424865723,8.343903541564941,-35.93728256225586,24.157194137573242,-25.967971801757812,8.756942749023438,-20.733482360839844,-56.19200897216797,-21.22150421142578,40.86595153808594,-16.78937339782715,19.227109909057617,17.79322624206543,-53.80618667602539,26.831283569335938,6.395615577697754,23.048768997192383,40.96763610839844,-31.451976776123047,0.12640437483787537,-2.215428113937378,-19.190322875976562,4.6411566734313965,-6.218535900115967,-35.4864387512207,27.73325538635254,17.540142059326172,33.05170822143555,-28.462087631225586,-17.446496963500977,10.220542907714844,22.24131202697754,-3.7572596073150635,16.450395584106445,-8.809104919433594,40.43392562866211,29.013492584228516,4.8165459632873535,24.18419075012207,29.751453399658203,-17.167892456054688,-60.722015380859375,35.12151336669922,-24.077993392944336,33.38518524169922,41.212528228759766,-1.4641499519348145,20.71225929260254,-1.0638673305511475,8.711546897888184,1.2172263860702515,20.09916114807129,21.831233978271484,1.101878046989441,29.961992263793945,-27.6188907623291,7.2246856689453125,40.04848861694336,-41.81385040283203,-20.060264587402344,27.102893829345703,16.367244720458984,23.994564056396484,37.33321762084961,4.816844940185547,-14.744304656982422,0.5948614478111267,11.302864074707031,11.254464149475098,-31.472124099731445,-16.443283081054688,21.47060203552246,-23.174283981323242,25.474998474121094,19.070003509521484,25.42512321472168,31.780696868896484,4.434007167816162,-18.45989990234375,18.490612030029297,32.44561004638672,30.212400436401367,-14.21329116821289,0.6851521134376526,-2.9037203788757324,30.787504196166992,-12.624187469482422,20.866308212280273,6.4557204246521,-35.85532760620117,-20.26078224182129,22.065189361572266,40.46434020996094,40.04753112792969,-9.964310646057129,-2.0842244625091553,-3.531888961791992,-13.705124855041504,-27.813905715942383,-4.494710922241211,27.184524536132812,24.535888671875,-34.72726821899414,0.00629447354003787,-15.285018920898438,8.78724479675293,-16.242361068725586,23.955163955688477,-24.21159553527832,10.59721565246582,-44.428462982177734,26.221662521362305,0.7316163182258606,-25.169395446777344,-40.17113494873047,40.68156051635742,40.211891174316406,40.037532806396484,-1.5113301277160645,-7.052092552185059,-49.13656997680664,18.251667022705078,11.481841087341309,43.914154052734375,-46.73270797729492,18.280826568603516,-7.493982791900635,-30.904565811157227,4.430880546569824,-3.314481496810913,15.062234878540039,3.494271993637085,29.978059768676758,-16.576570510864258,28.21564292907715,-8.521888732910156,-4.530431747436523,26.008426666259766,-30.511816024780273,-53.31301498413086,6.8358330726623535,0.5647768974304199,17.754741668701172,-35.39780807495117,-8.717694282531738,-57.845123291015625,37.66746520996094,39.45335388183594,0.570611298084259,-14.01823902130127,13.469515800476074,2.6760942935943604,36.41600036621094,5.726230621337891,-2.405050039291382,-11.449811935424805,10.206896781921387,1.1225191354751587,17.78728675842285,-28.13370704650879,-4.886314868927002,44.9389762878418,-9.241789817810059,-28.680011749267578,27.590023040771484,23.464218139648438,-2.4338390827178955,18.510683059692383,-7.429348945617676,18.295927047729492,36.97412109375,5.424973487854004,3.841116428375244,-8.267998695373535,-13.619726181030273,-26.82614517211914,6.522035598754883,36.1701774597168,24.814247131347656,-13.649123191833496,19.842695236206055,17.219329833984375,11.426607131958008,-28.45944595336914,-52.65425109863281,2.1293509006500244,36.19330978393555,-12.68708610534668,-40.299095153808594,-52.00323486328125,-4.672912120819092,-13.304176330566406,-3.635385036468506,36.57892608642578,-41.335838317871094,-1.5660480260849,-24.089706420898438,-8.981612205505371,4.403274059295654,2.5505170822143555,-49.24435806274414,12.964580535888672,10.851902961730957,3.2786409854888916,-4.693733215332031,43.93515396118164,-30.192293167114258,-33.462432861328125,25.843976974487305,-41.335994720458984,-22.562517166137695,-26.830665588378906,-24.526010513305664,-5.876485347747803,-19.766786575317383,2.310180425643921,-16.664934158325195,-49.199546813964844,-8.048737525939941,38.74871826171875,-59.686668395996094,-0.2695881724357605,-33.373779296875,-3.1649539470672607,-0.08984103053808212,36.35746765136719,27.75877571105957,-3.578799247741699,15.51222038269043,-7.116306304931641,-48.5438232421875,28.682392120361328,-26.15885353088379,38.563777923583984,0.47228020429611206,31.276336669921875,2.2204837799072266,2.134477138519287,32.28236770629883,0.7398157119750977,33.7120475769043,-50.89455032348633,-5.437982559204102,0.7766689658164978,-49.29616165161133,-11.799683570861816,-22.386859893798828,-14.548189163208008,38.996524810791016,-60.381160736083984,24.075855255126953,-22.14606475830078,-20.167699813842773,-33.679569244384766,30.534570693969727,27.835111618041992,34.76177978515625,35.419368743896484,11.132254600524902,-1.1533530950546265,-18.206768035888672,29.024045944213867,16.083251953125,-6.197826862335205,-33.86201858520508,11.07568073272705,38.168701171875,-46.0740852355957,6.239941596984863,31.530031204223633,-20.05339813232422,-24.69976806640625,38.87161636352539,14.64758014678955,-24.147932052612305,-8.778037071228027,-25.561002731323242,25.049419403076172,27.470659255981445,43.140769958496094,21.913516998291016,-51.03306198120117,25.0115966796875,27.253713607788086,32.87565231323242,37.869625091552734,29.47115135192871,12.73069953918457,25.327592849731445,3.1803946495056152,32.4761962890625,23.749774932861328,37.018341064453125,-48.9238166809082,28.086851119995117,44.199520111083984,-16.542449951171875,0.4562869369983673,-1.3453255891799927,5.56118106842041,40.5508918762207,14.311894416809082,20.30988883972168,-17.18421745300293,24.661447525024414,32.69063949584961,-13.254349708557129,6.677730560302734,30.80773162841797,36.217864990234375,25.73223304748535,-32.86229705810547,-47.62553405761719,36.9683837890625,-32.09724426269531,-4.033746242523193,-34.101600646972656,20.251440048217773,42.493831634521484,3.711467742919922,-7.379498481750488,4.249157905578613,21.278656005859375,-40.14040756225586,-31.398706436157227,18.180744171142578,7.998311519622803,-30.001110076904297,24.07932472229004,9.62551498413086,-18.337169647216797,11.006458282470703,18.942176818847656,-13.00062084197998,1.1678942441940308,-34.880828857421875,-24.87721824645996,-3.6847379207611084,-57.77208709716797,23.787668228149414,43.32459259033203,17.94808006286621,19.391292572021484,34.97949981689453,12.212745666503906,-59.4019660949707,-22.278465270996094,-16.362930297851562,-27.17300796508789,-1.1484932899475098,-2.2767724990844727,1.6974917650222778,-5.886328220367432,-47.23171615600586,41.71891403198242,-14.28831958770752,1.5335885286331177,-44.21619415283203,-22.429811477661133,20.25491714477539,24.24388313293457,9.95637035369873,40.98210906982422,17.140207290649414,14.632099151611328,19.735151290893555,-3.423034906387329,-53.89195251464844,19.537769317626953,22.437925338745117,-56.33100891113281,2.0374996662139893,-2.1333303451538086,-37.510128021240234,-0.5216811299324036,-3.342825174331665,35.98533248901367,-58.56917190551758,0.8223532438278198,9.10323715209961,11.078648567199707,-38.433326721191406,3.134068250656128,33.3755989074707,-5.717545509338379,-24.390737533569336,18.77495765686035,30.43804168701172,-31.07735252380371,9.392407417297363,39.64595031738281,19.147371292114258,39.88408279418945,-49.53828811645508,7.493593215942383,-14.636187553405762,0.2474202960729599,-2.2343552112579346,-0.7250402569770813,24.952163696289062,19.706130981445312,23.936546325683594,25.234756469726562,18.175886154174805,-44.152034759521484,36.768917083740234,1.0774550437927246,30.752948760986328,-5.010926246643066,-16.920085906982422,34.34370422363281,-39.65871810913086,-2.8742897510528564,-10.461952209472656,-44.66376876831055,31.378686904907227,37.18677520751953,39.03578567504883,17.73705291748047,34.50456237792969,1.9258763790130615,-42.210533142089844,31.932994842529297,-0.9437029957771301,-25.30791473388672,-4.902235984802246,18.510581970214844,38.752445220947266,-13.865394592285156,43.915653228759766,-3.4589860439300537,-38.197265625,-2.681333065032959,39.602210998535156,-26.703655242919922,-53.59123611450195,-4.112843036651611,3.127873182296753,34.97856521606445,36.97340774536133,14.785798072814941,21.44020652770996,44.21994400024414,-2.8015241622924805,-9.488598823547363,20.360950469970703,10.872106552124023,15.28859806060791,-20.698699951171875,-31.639915466308594,28.984830856323242,16.4626407623291,39.40378952026367,44.518524169921875,-5.770081043243408,8.736709594726562,-41.814029693603516,19.52355194091797,-0.9967254996299744,-35.510704040527344,35.758480072021484,17.216739654541016,0.22493907809257507,32.8486213684082,-7.261797904968262,-7.980079174041748,44.66828918457031,27.533395767211914,-56.584716796875,17.042011260986328,34.207557678222656,35.43813705444336,8.68369197845459,-7.469985485076904,5.750213146209717,-9.540278434753418,-17.927764892578125,-60.81038284301758,-15.741508483886719,-24.540578842163086,6.09128475189209,-26.216856002807617,38.91958236694336,37.19593811035156,-4.098010063171387,4.832144260406494,-36.74221420288086,17.346342086791992,-20.964508056640625,-23.61265754699707,3.25246262550354,17.462064743041992,-30.123470306396484,8.949847221374512,19.75606918334961,-19.273496627807617,-28.918384552001953,2.349240779876709,-38.835182189941406,28.257774353027344,17.52155876159668,-15.850306510925293,0.6806020736694336,19.120506286621094,26.65044593811035,7.963511943817139,21.90439796447754,5.166783809661865,-12.074767112731934,19.369110107421875,-2.36714768409729,19.93731689453125,11.234752655029297,-6.15353536605835,32.34859085083008,-30.373023986816406,-19.432680130004883,37.11507797241211,-5.812180519104004,-5.717148780822754,-14.765860557556152,5.401672840118408,-11.5801362991333,12.580547332763672,-14.454435348510742,-6.967957496643066,-3.337733030319214,-9.688199043273926,-30.46727180480957,-14.514143943786621,-20.033140182495117,-32.333370208740234,-21.270339965820312,-33.12495422363281,-5.130003929138184,-22.13702392578125,11.212824821472168,1.0079988241195679,26.003328323364258,-25.53858757019043,-24.575803756713867,-8.092656135559082,-12.45799732208252,-4.284096717834473,-38.4321403503418,-3.7194266319274902,-32.56038284301758,24.695310592651367,-29.38893699645996,-35.43925476074219,13.156132698059082,29.623788833618164,-39.44537353515625,-9.711922645568848,-26.032428741455078,5.53713846206665,15.798022270202637,19.379528045654297,-19.969158172607422,17.613473892211914,11.792150497436523,20.032365798950195,-30.966398239135742,7.081201076507568,41.5571403503418,-45.671478271484375,26.422874450683594,34.54215621948242,11.600671768188477,30.8316707611084,-28.60157585144043,17.695707321166992,20.287010192871094,15.829605102539062,1.8394662141799927,-15.072945594787598,-5.663084506988525,-13.321820259094238,-55.348819732666016,-7.934210777282715,4.195574760437012,19.122655868530273,31.052505493164062,34.432884216308594,37.64851379394531,31.012365341186523,5.484584808349609,-12.159708976745605,-18.295644760131836,4.32717752456665,40.3203010559082,-47.77776336669922,2.237518310546875,-56.966285705566406,26.594921112060547,38.22015380859375,32.47489547729492,-30.105953216552734,-45.06293487548828,35.14288330078125,-5.713821887969971,10.287464141845703,44.4900016784668,-5.128277778625488,30.4876651763916,-13.141022682189941,23.858726501464844,-25.35002899169922,-58.956787109375,5.261684894561768,20.42437744140625,-53.73967742919922,1.8082046508789062,-41.08695602416992,1.706465721130371,-33.443756103515625,12.790055274963379,16.381977081298828,11.321090698242188,-15.247081756591797,-32.781761169433594,5.485879421234131,4.727193832397461,21.165498733520508,22.23234748840332,21.230058670043945,40.33152389526367,31.178085327148438,17.567386627197266,-1.181748867034912,11.927098274230957,1.8761143684387207,-5.291312217712402,-56.650630950927734,-0.6344116926193237,9.914196968078613,20.470481872558594,4.258417129516602,-27.1637020111084,2.1618943214416504,-23.839231491088867,14.99332046508789,-9.134210586547852,-29.941932678222656,-37.03367614746094,18.817899703979492,-9.677273750305176,16.688343048095703,22.253612518310547,38.1177864074707,2.9712538719177246,-26.290491104125977,32.970462799072266,-10.811137199401855,-2.949845552444458,-4.692514896392822,5.04398775100708,39.44809341430664,-2.1203081607818604,39.9908561706543,-7.470524311065674,42.51512145996094,0.23371244966983795,-32.25965118408203,-0.577938973903656,0.15510638058185577,21.275177001953125,17.47007179260254,-36.906158447265625,17.62904930114746,-0.2888372242450714,-25.556068420410156,17.746185302734375,-32.11561584472656,-2.433530569076538,-11.056612014770508,13.33958911895752,-42.52470779418945,33.19183349609375,-9.098519325256348,28.652130126953125,16.50885772705078,-51.624752044677734,29.262300491333008,-18.238784790039062,25.061054229736328,-34.825286865234375,11.861836433410645,6.652989387512207,-11.772844314575195,-33.75041198730469,20.06109046936035,17.09332275390625,-5.08042573928833,-3.85717511177063,0.18304534256458282,12.756901741027832,-2.4471631050109863,-18.501371383666992,-13.693573951721191,-55.16590118408203,33.37406921386719,4.686210632324219,43.90419006347656,3.831613302230835,-37.49277114868164,6.1130900382995605,-17.377286911010742,14.928182601928711,-46.02659606933594,-60.551673889160156,20.208642959594727,-51.793357849121094,2.2669546604156494,1.4847689867019653,-12.799534797668457,-12.371063232421875,40.33069610595703,2.758744478225708,-4.377378940582275,4.529106616973877,13.712742805480957,-15.970224380493164,21.026554107666016,18.787397384643555,-23.17300033569336,-48.324405670166016,9.553112983703613,27.08347511291504,-24.738269805908203,-34.7077751159668,41.310096740722656,21.379108428955078,-16.87972068786621,-14.878046035766602,0.8245839476585388,-7.4879150390625,40.58427047729492,4.224778652191162,-22.071407318115234,-16.850107192993164,-33.14118576049805,-11.229837417602539,3.95515775680542,-17.06018829345703,27.932655334472656,-4.60371732711792,34.66360092163086,-26.823017120361328,2.337423086166382,-10.032352447509766,-59.99686813354492,28.45456886291504,-4.324556350708008,-11.68143081665039,34.568721771240234,1.7162810564041138,0.6879345774650574,-15.681282043457031,13.584783554077148,29.39780616760254,22.523258209228516,-10.126510620117188,1.249151349067688,-59.90153503417969,27.126787185668945,-1.014345645904541,45.065696716308594,5.424039363861084,44.53448486328125,-9.611403465270996,-1.654050350189209,-16.541872024536133,-51.19906234741211,-17.719667434692383,23.33871841430664,-25.63056182861328,32.33061218261719,24.71359634399414,26.49295425415039,-12.643959045410156,-26.36358070373535,26.015668869018555,-48.551292419433594,-22.580516815185547,-9.320712089538574,-12.92575454711914,-16.464401245117188,-3.8848376274108887,-2.136794090270996,-19.3822078704834,-20.994094848632812,35.538108825683594,-26.79501724243164,15.310718536376953,7.959985256195068,-22.78085708618164,42.74578094482422,-22.48130226135254,17.46245002746582,7.557864665985107,5.775711536407471,15.130354881286621,-17.376962661743164,24.423038482666016,3.952491044998169,-13.024657249450684,-0.1825341433286667,4.657357692718506,-2.1345772743225098,16.939252853393555,18.888835906982422,27.82723617553711,-12.159811019897461,40.48256301879883,-7.5007781982421875,-28.769792556762695,-14.26387882232666,32.653324127197266,-14.517210960388184,-8.54630184173584,-31.136859893798828,3.168303966522217,24.106176376342773,21.994060516357422,-60.169551849365234,-40.95203399658203,31.686128616333008,8.062277793884277,-14.402105331420898,-49.37616729736328,-47.42594528198242,-0.8483815789222717,-31.196523666381836,-27.049779891967773,-8.178807258605957,35.230712890625,-17.9517765045166,32.55766677856445,6.850363254547119,40.681095123291016,2.1771137714385986,8.782815933227539,5.987756729125977,-9.420805931091309,-42.1552848815918,16.6536922454834,18.047182083129883,-35.47262191772461,16.397968292236328,15.18172836303711,-0.10199417173862457,-33.36423110961914,-49.65986633300781,-2.8702447414398193,42.48185729980469,-3.1371192932128906,22.070106506347656,1.9930646419525146,41.70237731933594,25.441789627075195,28.927839279174805,-5.596226692199707,-11.998489379882812,5.853917121887207,-12.635356903076172,30.216508865356445,34.62319564819336,-57.41935348510742,2.573580503463745,37.8746223449707,14.61413860321045,-38.70624542236328,3.122650623321533,5.443437099456787,-24.950735092163086,5.843661785125732,-20.26960563659668,12.258573532104492,25.083227157592773,-11.082819938659668,-36.460289001464844,-3.2979578971862793,-12.173232078552246,36.11612319946289,24.98505401611328,-30.934932708740234,-22.796142578125,-8.1386079788208,-17.905778884887695,-16.808738708496094,27.787784576416016,-40.99263000488281,21.148473739624023,-12.311737060546875,18.825439453125,-10.193845748901367,13.226256370544434,18.784582138061523,-50.75083923339844,17.288057327270508,-6.639718055725098,-16.258934020996094,3.159919500350952,-0.9502431750297546,-47.409027099609375,23.811973571777344,1.9760109186172485,-59.659549713134766,-17.059947967529297,23.521865844726562,3.147867441177368,44.23390579223633,-30.228837966918945,-2.0675597190856934,2.867995262145996,6.576803207397461,-57.31261444091797,23.287281036376953,34.89121627807617,-0.3507537841796875,4.728111267089844,-31.927148818969727,-19.24751853942871,-30.475709915161133,-29.461517333984375,-58.4632682800293,-25.552961349487305,30.96834945678711,33.080997467041016,17.09773063659668,39.534400939941406,-24.337080001831055,-45.027408599853516,32.30793380737305,5.234021186828613,10.62331485748291,-27.858516693115234,-57.80414962768555,-14.465082168579102,25.69057273864746,-29.544212341308594,6.145434856414795,18.67706871032715,-17.24970817565918,24.743507385253906,-17.780269622802734,0.49213409423828125,-1.670202612876892,35.73866653442383,-10.200043678283691,-19.76849937438965,-6.16385555267334,27.762693405151367,-10.217366218566895,-13.90988826751709,22.480995178222656,42.261905670166016,-7.842830181121826,37.30355453491211,-7.1695146560668945,8.911840438842773,22.619394302368164,14.38206672668457,4.697339057922363,0.24623697996139526,-8.757145881652832,40.715118408203125,-24.25775718688965,16.385604858398438,34.91403579711914,-28.747398376464844,-8.843246459960938,6.703777313232422,-24.302772521972656,-8.39665412902832,18.278186798095703,-61.046226501464844,-26.98604965209961,-21.779027938842773,-40.543819427490234,1.1351889371871948,-25.983854293823242,-45.34502410888672,5.260225296020508,-5.8104023933410645,25.05153465270996,31.014883041381836,9.67967700958252,32.34237289428711,19.516746520996094,3.157327175140381,-21.424816131591797,-43.06243896484375,11.927754402160645,-34.29048156738281,19.746816635131836,39.92626953125,2.4004223346710205,-3.4095406532287598,-14.19365406036377,-34.4555549621582,-8.650117874145508,22.444141387939453,34.636783599853516,5.933730125427246,-16.750455856323242,5.063293933868408,7.424558162689209,-9.134262084960938,13.807459831237793,25.645477294921875,28.70307159423828,-29.349090576171875,-10.729233741760254,12.619216918945312,3.4785118103027344,-32.913551330566406,20.154098510742188,-14.688483238220215,23.6750545501709,-11.009035110473633,-0.8823279738426208,-9.385272026062012,-14.705641746520996,19.555143356323242,2.3140830993652344,13.153830528259277,40.76961135864258,-32.0239372253418,34.32666778564453,-29.478538513183594,-35.53850555419922,22.40873146057129,36.35637283325195,39.20096206665039,11.945289611816406,-12.567564010620117,-15.650498390197754,14.590289115905762,12.995414733886719,25.480140686035156,-6.677234172821045,-6.26330041885376,4.1240434646606445,-24.48394012451172,-44.599037170410156,-4.821347713470459,0.1492864489555359,-42.254730224609375,30.37472152709961,-8.998700141906738,-30.733901977539062,-56.72914123535156,10.447293281555176,-22.08576011657715,-0.3345898985862732,-14.73646354675293,-26.40620994567871,-4.8406195640563965,-27.928281784057617,2.2783989906311035,20.404190063476562,9.617433547973633,-13.835481643676758,6.150482654571533,-36.97235870361328,-8.9314546585083,23.13395881652832,16.806884765625,22.453516006469727,-24.5136775970459,-26.01479721069336,23.2812557220459,-52.3369255065918,-21.654216766357422,-51.39634704589844,9.055220603942871,25.78287696838379],\"yaxis\":\"y\"}],                        {\"coloraxis\":{\"colorbar\":{\"title\":{\"text\":\"Cluster\"}},\"colorscale\":[[0.0,\"#0d0887\"],[0.1111111111111111,\"#46039f\"],[0.2222222222222222,\"#7201a8\"],[0.3333333333333333,\"#9c179e\"],[0.4444444444444444,\"#bd3786\"],[0.5555555555555556,\"#d8576b\"],[0.6666666666666666,\"#ed7953\"],[0.7777777777777778,\"#fb9f3a\"],[0.8888888888888888,\"#fdca26\"],[1.0,\"#f0f921\"]]},\"legend\":{\"tracegroupgap\":0},\"margin\":{\"t\":60},\"template\":{\"data\":{\"bar\":[{\"error_x\":{\"color\":\"#2a3f5f\"},\"error_y\":{\"color\":\"#2a3f5f\"},\"marker\":{\"line\":{\"color\":\"#E5ECF6\",\"width\":0.5},\"pattern\":{\"fillmode\":\"overlay\",\"size\":10,\"solidity\":0.2}},\"type\":\"bar\"}],\"barpolar\":[{\"marker\":{\"line\":{\"color\":\"#E5ECF6\",\"width\":0.5},\"pattern\":{\"fillmode\":\"overlay\",\"size\":10,\"solidity\":0.2}},\"type\":\"barpolar\"}],\"carpet\":[{\"aaxis\":{\"endlinecolor\":\"#2a3f5f\",\"gridcolor\":\"white\",\"linecolor\":\"white\",\"minorgridcolor\":\"white\",\"startlinecolor\":\"#2a3f5f\"},\"baxis\":{\"endlinecolor\":\"#2a3f5f\",\"gridcolor\":\"white\",\"linecolor\":\"white\",\"minorgridcolor\":\"white\",\"startlinecolor\":\"#2a3f5f\"},\"type\":\"carpet\"}],\"choropleth\":[{\"colorbar\":{\"outlinewidth\":0,\"ticks\":\"\"},\"type\":\"choropleth\"}],\"contour\":[{\"colorbar\":{\"outlinewidth\":0,\"ticks\":\"\"},\"colorscale\":[[0.0,\"#0d0887\"],[0.1111111111111111,\"#46039f\"],[0.2222222222222222,\"#7201a8\"],[0.3333333333333333,\"#9c179e\"],[0.4444444444444444,\"#bd3786\"],[0.5555555555555556,\"#d8576b\"],[0.6666666666666666,\"#ed7953\"],[0.7777777777777778,\"#fb9f3a\"],[0.8888888888888888,\"#fdca26\"],[1.0,\"#f0f921\"]],\"type\":\"contour\"}],\"contourcarpet\":[{\"colorbar\":{\"outlinewidth\":0,\"ticks\":\"\"},\"type\":\"contourcarpet\"}],\"heatmap\":[{\"colorbar\":{\"outlinewidth\":0,\"ticks\":\"\"},\"colorscale\":[[0.0,\"#0d0887\"],[0.1111111111111111,\"#46039f\"],[0.2222222222222222,\"#7201a8\"],[0.3333333333333333,\"#9c179e\"],[0.4444444444444444,\"#bd3786\"],[0.5555555555555556,\"#d8576b\"],[0.6666666666666666,\"#ed7953\"],[0.7777777777777778,\"#fb9f3a\"],[0.8888888888888888,\"#fdca26\"],[1.0,\"#f0f921\"]],\"type\":\"heatmap\"}],\"heatmapgl\":[{\"colorbar\":{\"outlinewidth\":0,\"ticks\":\"\"},\"colorscale\":[[0.0,\"#0d0887\"],[0.1111111111111111,\"#46039f\"],[0.2222222222222222,\"#7201a8\"],[0.3333333333333333,\"#9c179e\"],[0.4444444444444444,\"#bd3786\"],[0.5555555555555556,\"#d8576b\"],[0.6666666666666666,\"#ed7953\"],[0.7777777777777778,\"#fb9f3a\"],[0.8888888888888888,\"#fdca26\"],[1.0,\"#f0f921\"]],\"type\":\"heatmapgl\"}],\"histogram\":[{\"marker\":{\"pattern\":{\"fillmode\":\"overlay\",\"size\":10,\"solidity\":0.2}},\"type\":\"histogram\"}],\"histogram2d\":[{\"colorbar\":{\"outlinewidth\":0,\"ticks\":\"\"},\"colorscale\":[[0.0,\"#0d0887\"],[0.1111111111111111,\"#46039f\"],[0.2222222222222222,\"#7201a8\"],[0.3333333333333333,\"#9c179e\"],[0.4444444444444444,\"#bd3786\"],[0.5555555555555556,\"#d8576b\"],[0.6666666666666666,\"#ed7953\"],[0.7777777777777778,\"#fb9f3a\"],[0.8888888888888888,\"#fdca26\"],[1.0,\"#f0f921\"]],\"type\":\"histogram2d\"}],\"histogram2dcontour\":[{\"colorbar\":{\"outlinewidth\":0,\"ticks\":\"\"},\"colorscale\":[[0.0,\"#0d0887\"],[0.1111111111111111,\"#46039f\"],[0.2222222222222222,\"#7201a8\"],[0.3333333333333333,\"#9c179e\"],[0.4444444444444444,\"#bd3786\"],[0.5555555555555556,\"#d8576b\"],[0.6666666666666666,\"#ed7953\"],[0.7777777777777778,\"#fb9f3a\"],[0.8888888888888888,\"#fdca26\"],[1.0,\"#f0f921\"]],\"type\":\"histogram2dcontour\"}],\"mesh3d\":[{\"colorbar\":{\"outlinewidth\":0,\"ticks\":\"\"},\"type\":\"mesh3d\"}],\"parcoords\":[{\"line\":{\"colorbar\":{\"outlinewidth\":0,\"ticks\":\"\"}},\"type\":\"parcoords\"}],\"pie\":[{\"automargin\":true,\"type\":\"pie\"}],\"scatter\":[{\"marker\":{\"colorbar\":{\"outlinewidth\":0,\"ticks\":\"\"}},\"type\":\"scatter\"}],\"scatter3d\":[{\"line\":{\"colorbar\":{\"outlinewidth\":0,\"ticks\":\"\"}},\"marker\":{\"colorbar\":{\"outlinewidth\":0,\"ticks\":\"\"}},\"type\":\"scatter3d\"}],\"scattercarpet\":[{\"marker\":{\"colorbar\":{\"outlinewidth\":0,\"ticks\":\"\"}},\"type\":\"scattercarpet\"}],\"scattergeo\":[{\"marker\":{\"colorbar\":{\"outlinewidth\":0,\"ticks\":\"\"}},\"type\":\"scattergeo\"}],\"scattergl\":[{\"marker\":{\"colorbar\":{\"outlinewidth\":0,\"ticks\":\"\"}},\"type\":\"scattergl\"}],\"scattermapbox\":[{\"marker\":{\"colorbar\":{\"outlinewidth\":0,\"ticks\":\"\"}},\"type\":\"scattermapbox\"}],\"scatterpolar\":[{\"marker\":{\"colorbar\":{\"outlinewidth\":0,\"ticks\":\"\"}},\"type\":\"scatterpolar\"}],\"scatterpolargl\":[{\"marker\":{\"colorbar\":{\"outlinewidth\":0,\"ticks\":\"\"}},\"type\":\"scatterpolargl\"}],\"scatterternary\":[{\"marker\":{\"colorbar\":{\"outlinewidth\":0,\"ticks\":\"\"}},\"type\":\"scatterternary\"}],\"surface\":[{\"colorbar\":{\"outlinewidth\":0,\"ticks\":\"\"},\"colorscale\":[[0.0,\"#0d0887\"],[0.1111111111111111,\"#46039f\"],[0.2222222222222222,\"#7201a8\"],[0.3333333333333333,\"#9c179e\"],[0.4444444444444444,\"#bd3786\"],[0.5555555555555556,\"#d8576b\"],[0.6666666666666666,\"#ed7953\"],[0.7777777777777778,\"#fb9f3a\"],[0.8888888888888888,\"#fdca26\"],[1.0,\"#f0f921\"]],\"type\":\"surface\"}],\"table\":[{\"cells\":{\"fill\":{\"color\":\"#EBF0F8\"},\"line\":{\"color\":\"white\"}},\"header\":{\"fill\":{\"color\":\"#C8D4E3\"},\"line\":{\"color\":\"white\"}},\"type\":\"table\"}]},\"layout\":{\"annotationdefaults\":{\"arrowcolor\":\"#2a3f5f\",\"arrowhead\":0,\"arrowwidth\":1},\"autotypenumbers\":\"strict\",\"coloraxis\":{\"colorbar\":{\"outlinewidth\":0,\"ticks\":\"\"}},\"colorscale\":{\"diverging\":[[0,\"#8e0152\"],[0.1,\"#c51b7d\"],[0.2,\"#de77ae\"],[0.3,\"#f1b6da\"],[0.4,\"#fde0ef\"],[0.5,\"#f7f7f7\"],[0.6,\"#e6f5d0\"],[0.7,\"#b8e186\"],[0.8,\"#7fbc41\"],[0.9,\"#4d9221\"],[1,\"#276419\"]],\"sequential\":[[0.0,\"#0d0887\"],[0.1111111111111111,\"#46039f\"],[0.2222222222222222,\"#7201a8\"],[0.3333333333333333,\"#9c179e\"],[0.4444444444444444,\"#bd3786\"],[0.5555555555555556,\"#d8576b\"],[0.6666666666666666,\"#ed7953\"],[0.7777777777777778,\"#fb9f3a\"],[0.8888888888888888,\"#fdca26\"],[1.0,\"#f0f921\"]],\"sequentialminus\":[[0.0,\"#0d0887\"],[0.1111111111111111,\"#46039f\"],[0.2222222222222222,\"#7201a8\"],[0.3333333333333333,\"#9c179e\"],[0.4444444444444444,\"#bd3786\"],[0.5555555555555556,\"#d8576b\"],[0.6666666666666666,\"#ed7953\"],[0.7777777777777778,\"#fb9f3a\"],[0.8888888888888888,\"#fdca26\"],[1.0,\"#f0f921\"]]},\"colorway\":[\"#636efa\",\"#EF553B\",\"#00cc96\",\"#ab63fa\",\"#FFA15A\",\"#19d3f3\",\"#FF6692\",\"#B6E880\",\"#FF97FF\",\"#FECB52\"],\"font\":{\"color\":\"#2a3f5f\"},\"geo\":{\"bgcolor\":\"white\",\"lakecolor\":\"white\",\"landcolor\":\"#E5ECF6\",\"showlakes\":true,\"showland\":true,\"subunitcolor\":\"white\"},\"hoverlabel\":{\"align\":\"left\"},\"hovermode\":\"closest\",\"mapbox\":{\"style\":\"light\"},\"paper_bgcolor\":\"white\",\"plot_bgcolor\":\"#E5ECF6\",\"polar\":{\"angularaxis\":{\"gridcolor\":\"white\",\"linecolor\":\"white\",\"ticks\":\"\"},\"bgcolor\":\"#E5ECF6\",\"radialaxis\":{\"gridcolor\":\"white\",\"linecolor\":\"white\",\"ticks\":\"\"}},\"scene\":{\"xaxis\":{\"backgroundcolor\":\"#E5ECF6\",\"gridcolor\":\"white\",\"gridwidth\":2,\"linecolor\":\"white\",\"showbackground\":true,\"ticks\":\"\",\"zerolinecolor\":\"white\"},\"yaxis\":{\"backgroundcolor\":\"#E5ECF6\",\"gridcolor\":\"white\",\"gridwidth\":2,\"linecolor\":\"white\",\"showbackground\":true,\"ticks\":\"\",\"zerolinecolor\":\"white\"},\"zaxis\":{\"backgroundcolor\":\"#E5ECF6\",\"gridcolor\":\"white\",\"gridwidth\":2,\"linecolor\":\"white\",\"showbackground\":true,\"ticks\":\"\",\"zerolinecolor\":\"white\"}},\"shapedefaults\":{\"line\":{\"color\":\"#2a3f5f\"}},\"ternary\":{\"aaxis\":{\"gridcolor\":\"white\",\"linecolor\":\"white\",\"ticks\":\"\"},\"baxis\":{\"gridcolor\":\"white\",\"linecolor\":\"white\",\"ticks\":\"\"},\"bgcolor\":\"#E5ECF6\",\"caxis\":{\"gridcolor\":\"white\",\"linecolor\":\"white\",\"ticks\":\"\"}},\"title\":{\"x\":0.05},\"xaxis\":{\"automargin\":true,\"gridcolor\":\"white\",\"linecolor\":\"white\",\"ticks\":\"\",\"title\":{\"standoff\":15},\"zerolinecolor\":\"white\",\"zerolinewidth\":2},\"yaxis\":{\"automargin\":true,\"gridcolor\":\"white\",\"linecolor\":\"white\",\"ticks\":\"\",\"title\":{\"standoff\":15},\"zerolinecolor\":\"white\",\"zerolinewidth\":2}}},\"xaxis\":{\"anchor\":\"y\",\"domain\":[0.0,1.0],\"title\":{\"text\":\"1\"}},\"yaxis\":{\"anchor\":\"x\",\"domain\":[0.0,1.0],\"title\":{\"text\":\"0\"}}},                        {\"responsive\": true}                    ).then(function(){\n                            \nvar gd = document.getElementById('6a1190f4-c15f-42a6-9d09-a536b62ec678');\nvar x = new MutationObserver(function (mutations, observer) {{\n        var display = window.getComputedStyle(gd).display;\n        if (!display || display === 'none') {{\n            console.log([gd, 'removed!']);\n            Plotly.purge(gd);\n            observer.disconnect();\n        }}\n}});\n\n// Listen for the removal of the full notebook cells\nvar notebookContainer = gd.closest('#notebook-container');\nif (notebookContainer) {{\n    x.observe(notebookContainer, {childList: true});\n}}\n\n// Listen for the clearing of the current output cell\nvar outputEl = gd.closest('.output');\nif (outputEl) {{\n    x.observe(outputEl, {childList: true});\n}}\n\n                        })                };                            </script>        </div>\n</body>\n</html>"
     },
     "metadata": {},
     "output_type": "display_data"
    }
   ]
  },
  {
   "cell_type": "markdown",
   "source": "Como se puede apreciar, la representación visual de los clusters corrobora el análisis realizado en la sección 1.3.3.2, dado que los clusters 1, 2 y 4 son aquellos que tienen las medias mas extremas de todos los grupos, ubicandose en los extremos de la figura, en particular el cluster 2 son aquellos clientes que visitaron menos veces, pero con un intervalo de tiempo acotado entre visitas.\n\nPor otro lado, y en línea con lo explicado anteriormente, los clusters 0, 3 y 5 son similares entre ellos, diferenciados por leves cambios en las medias de LRFMP al analizar estos 3 grupos.\n\nDicho esto, se puede apreciar una distinción clara de los grupos, al tener en cuenta las conclusiones de la sección anterior.",
   "metadata": {
    "tags": [],
    "cell_id": "00053-158eb60c-86a3-462f-89c3-1cefc5570333",
    "deepnote_cell_type": "markdown"
   }
  },
  {
   "cell_type": "markdown",
   "source": "# Conclusión\nEso ha sido todo para el lab de hoy, recuerden que el laboratorio tiene un plazo de entrega de una semana y que **los días de atraso no se pueden utilizar para entregas de lab** solo para tareas. Cualquier duda del laboratorio, no duden en contactarnos por mail o U-cursos.\n\n![Gracias Totales!](https://i.pinimg.com/originals/65/ae/27/65ae270df87c3c4adcea997e48f60852.gif \"bruno\")\n",
   "metadata": {
    "id": "Rg4ZMq8ezAH6",
    "cell_id": "00054-62f72afd-24c1-45b9-b80c-8b252273717c",
    "deepnote_cell_type": "markdown"
   }
  },
  {
   "cell_type": "markdown",
   "source": "<br>\n<center>\n<img src=\"https://i.kym-cdn.com/photos/images/original/001/194/195/b18.png\" width=100 height=50 />\n</center>\n<br>",
   "metadata": {
    "id": "wCL1lACBzAH7",
    "cell_id": "00055-fea25dcb-f3c3-4a66-9ca6-5d64924d7396",
    "deepnote_cell_type": "markdown"
   }
  },
  {
   "cell_type": "markdown",
   "source": "<a style='text-decoration:none;line-height:16px;display:flex;color:#5B5B62;padding:10px;justify-content:end;' href='https://deepnote.com?utm_source=created-in-deepnote-cell&projectId=1d355b97-bbb9-4f56-823f-44a85d475e0a' target=\"_blank\">\n<img alt='Created in deepnote.com' style='display:inline;max-height:16px;margin:0px;margin-right:7.5px;' src='data:image/svg+xml;base64,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' > </img>\nCreated in <span style='font-weight:600;margin-left:4px;'>Deepnote</span></a>",
   "metadata": {
    "tags": [],
    "created_in_deepnote_cell": true,
    "deepnote_cell_type": "markdown"
   }
  }
 ],
 "nbformat": 4,
 "nbformat_minor": 0,
 "metadata": {
  "kernelspec": {
   "display_name": "Python 3",
   "language": "python",
   "name": "python3"
  },
  "language_info": {
   "codemirror_mode": {
    "name": "ipython",
    "version": 3
   },
   "file_extension": ".py",
   "mimetype": "text/x-python",
   "name": "python",
   "nbconvert_exporter": "python",
   "pygments_lexer": "ipython3",
   "version": "3.8.3"
  },
  "toc": {
   "base_numbering": 1,
   "nav_menu": {},
   "number_sections": true,
   "sideBar": true,
   "skip_h1_title": true,
   "title_cell": "Tabla de Contenidos",
   "title_sidebar": "Contenidos",
   "toc_cell": false,
   "toc_position": {
    "height": "calc(100% - 180px)",
    "left": "10px",
    "top": "150px",
    "width": "241.867px"
   },
   "toc_section_display": true,
   "toc_window_display": true
  },
  "varInspector": {
   "cols": {
    "lenName": 16,
    "lenType": 16,
    "lenVar": 40
   },
   "kernels_config": {
    "python": {
     "delete_cmd_postfix": "",
     "delete_cmd_prefix": "del ",
     "library": "var_list.py",
     "varRefreshCmd": "print(var_dic_list())"
    },
    "r": {
     "delete_cmd_postfix": ") ",
     "delete_cmd_prefix": "rm(",
     "library": "var_list.r",
     "varRefreshCmd": "cat(var_dic_list()) "
    }
   },
   "types_to_exclude": [
    "module",
    "function",
    "builtin_function_or_method",
    "instance",
    "_Feature"
   ],
   "window_display": false
  },
  "colab": {
   "name": "Copia de Tarea1.ipynb",
   "provenance": [],
   "collapsed_sections": [
    "Rcjs-dd1V-1u",
    "dkyp81nkBghF",
    "THmFfYs1AhAW"
   ],
   "toc_visible": true
  },
  "deepnote_notebook_id": "6bca2ca1-e14e-4a2d-8402-3bcc01d1af35",
  "deepnote": {},
  "deepnote_execution_queue": []
 }
}