{
 "cells": [
  {
   "cell_type": "markdown",
   "source": "<h1><center>Laboratorio 7: Aprendizaje Supervisado 🔮</center></h1>\n\n<center><strong>MDS7202: Laboratorio de Programación Científica para Ciencia de Datos</strong></center>",
   "metadata": {
    "id": "XUZ1dFPHzAHl",
    "cell_id": "00000-73f3e32f-2ef2-4c8f-8a16-d0512209e3ca",
    "deepnote_cell_type": "markdown"
   }
  },
  {
   "cell_type": "markdown",
   "source": "### Cuerpo Docente:\n\n- Profesor: Pablo Badilla\n- Auxiliar: Ignacio Meza D.\n- Ayudante: Constanza Peña",
   "metadata": {
    "id": "UD8X1uhGzAHq",
    "cell_id": "00001-f0f6f193-27cb-4e14-8eb4-8192d12f7721",
    "deepnote_cell_type": "markdown"
   }
  },
  {
   "cell_type": "markdown",
   "source": "### Equipo: SUPER IMPORTANTE - notebooks sin nombre no serán revisados\n\n- Nombre de alumno 1: Rodrigo Guerra\n- Nombre de alumno 2: Mariano Suárez\n",
   "metadata": {
    "id": "tXflExjqzAHr",
    "cell_id": "00002-cbc359e4-c6bf-4a18-b935-8b000e48c13d",
    "deepnote_cell_type": "markdown"
   }
  },
  {
   "cell_type": "markdown",
   "source": "### **Link de repositorio de GitHub:** `https://github.com/MarianoSuarez03/Laboratorios-Python`",
   "metadata": {
    "id": "AD-V0bbZzAHr",
    "cell_id": "00003-50e2b812-e515-42a0-b713-6dbfaa83c601",
    "deepnote_cell_type": "markdown"
   }
  },
  {
   "cell_type": "markdown",
   "source": "## Temas a tratar\n\n- Aprendizaje Supervisado\n- Flujos de datos a través de `Pipelines`.\n\n## Reglas\n\n- Fecha de entrega: TBD\n- **Grupos de 2 personas**\n- **Ausentes** deberán realizar la actividad solos. \n- Cualquier duda fuera del horario de clases al foro. Mensajes al equipo docente serán respondidos por este medio.\n- Prohibidas las copias. \n- Pueden usar cualquer matrial del curso que estimen conveniente.\n\n## Objetivos principales del laboratorio\n\n- Comprender el funcionamiento de clasificadores/regresores.\n- Generar múltiples modelos predictivos.\n- Comprender las ventajas de crear modelos en pipeline vs hacer las operaciones a mano.\n\nEl laboratorio deberá ser desarrollado sin el uso indiscriminado de iteradores nativos de python (aka \"for\", \"while\"). La idea es que aprendan a exprimir al máximo las funciones optimizadas que nos entrega `pandas`, las cuales vale mencionar, son bastante más eficientes que los iteradores nativos sobre `DataFrames`.",
   "metadata": {
    "id": "6uBLPj1PzAHs",
    "cell_id": "00005-119cf881-89af-4ccc-8bf7-2763d5eb0785",
    "deepnote_cell_type": "markdown"
   }
  },
  {
   "cell_type": "markdown",
   "source": "#Importamos librerias utiles 😸",
   "metadata": {
    "id": "MhISwri4zAHy",
    "cell_id": "00006-d1bce751-1f1d-4470-8cbb-a77ba271ef39",
    "deepnote_cell_type": "markdown"
   }
  },
  {
   "cell_type": "code",
   "metadata": {
    "ExecuteTime": {
     "end_time": "2021-03-29T00:08:16.884674Z",
     "start_time": "2021-03-29T00:08:16.349846Z"
    },
    "id": "uyc33dKdzAHy",
    "colab": {
     "base_uri": "https://localhost:8080/"
    },
    "outputId": "e8cc251c-aa25-4fdb-db15-3027707cfbdf",
    "deepnote_to_be_reexecuted": false,
    "source_hash": "ce288e57",
    "execution_start": 1637352168267,
    "execution_millis": 31621,
    "cell_id": "00007-e1ebdc56-4008-489c-85bc-b1ffb9cbbced",
    "deepnote_cell_type": "code"
   },
   "source": "# Libreria Core del lab.\nimport numpy as np\nimport pandas as pd\nfrom sklearn.pipeline import Pipeline\nfrom sklearn.compose import ColumnTransformer\nfrom sklearn.model_selection import train_test_split \n\n# Pre-procesamiento\nfrom sklearn.preprocessing import MinMaxScaler\nfrom sklearn.preprocessing import StandardScaler\nfrom sklearn.preprocessing import FunctionTransformer\nfrom sklearn.preprocessing import PowerTransformer\nfrom sklearn.preprocessing import OneHotEncoder\nfrom sklearn.tree import DecisionTreeClassifier\nfrom sklearn.svm import SVC\nfrom sklearn.neighbors import KNeighborsClassifier\nfrom sklearn.linear_model import LinearRegression\n\n\n\n# Metricas de evaluación\nfrom sklearn.metrics import classification_report\nfrom sklearn.metrics import accuracy_score\nfrom sklearn.metrics import f1_score\nfrom sklearn.metrics import cohen_kappa_score\n\n#Libreria para plotear\n!pip install --upgrade plotly\nimport plotly.express as px\nfrom plotly.subplots import make_subplots\nimport plotly.graph_objects as go\n\n# UMAP\n!pip install umap-learn",
   "execution_count": 28,
   "outputs": [
    {
     "name": "stdout",
     "text": "Requirement already up-to-date: plotly in /root/venv/lib/python3.7/site-packages (5.4.0)\nRequirement already satisfied, skipping upgrade: six in /shared-libs/python3.7/py-core/lib/python3.7/site-packages (from plotly) (1.16.0)\nRequirement already satisfied, skipping upgrade: tenacity>=6.2.0 in /shared-libs/python3.7/py/lib/python3.7/site-packages (from plotly) (8.0.1)\n\u001b[33mWARNING: You are using pip version 20.1.1; however, version 21.3.1 is available.\nYou should consider upgrading via the '/root/venv/bin/python -m pip install --upgrade pip' command.\u001b[0m\nRequirement already satisfied: umap-learn in /root/venv/lib/python3.7/site-packages (0.5.2)\nRequirement already satisfied: numba>=0.49 in /root/venv/lib/python3.7/site-packages (from umap-learn) (0.54.1)\nRequirement already satisfied: scipy>=1.0 in /shared-libs/python3.7/py/lib/python3.7/site-packages (from umap-learn) (1.7.2)\nRequirement already satisfied: tqdm in /shared-libs/python3.7/py/lib/python3.7/site-packages (from umap-learn) (4.62.3)\nRequirement already satisfied: pynndescent>=0.5 in /root/venv/lib/python3.7/site-packages (from umap-learn) (0.5.5)\nRequirement already satisfied: numpy>=1.17 in /shared-libs/python3.7/py/lib/python3.7/site-packages (from umap-learn) (1.19.5)\nRequirement already satisfied: scikit-learn>=0.22 in /shared-libs/python3.7/py/lib/python3.7/site-packages (from umap-learn) (1.0.1)\nRequirement already satisfied: setuptools in /root/venv/lib/python3.7/site-packages (from numba>=0.49->umap-learn) (47.1.0)\nRequirement already satisfied: llvmlite<0.38,>=0.37.0rc1 in /root/venv/lib/python3.7/site-packages (from numba>=0.49->umap-learn) (0.37.0)\nRequirement already satisfied: joblib>=0.11 in /shared-libs/python3.7/py/lib/python3.7/site-packages (from pynndescent>=0.5->umap-learn) (1.1.0)\nRequirement already satisfied: threadpoolctl>=2.0.0 in /shared-libs/python3.7/py/lib/python3.7/site-packages (from scikit-learn>=0.22->umap-learn) (3.0.0)\n\u001b[33mWARNING: You are using pip version 20.1.1; however, version 21.3.1 is available.\nYou should consider upgrading via the '/root/venv/bin/python -m pip install --upgrade pip' command.\u001b[0m\n",
     "output_type": "stream"
    }
   ]
  },
  {
   "cell_type": "markdown",
   "source": "https://www.kaggle.com/antoinekrajnc/soccer-players-statistics",
   "metadata": {
    "id": "5FTGE74b3FBU",
    "cell_id": "00008-7877e530-5ed5-483e-af0a-4fd26434d7dc",
    "deepnote_cell_type": "markdown"
   }
  },
  {
   "cell_type": "markdown",
   "source": "# 1. Predicciones Futboleras\n\n<p align=\"center\">\n  <img src=\"https://drive.google.com/uc?export=view&id=1BnO4tyh3vM2P199Ec9s3JjngQ4qQ9seP\"\n\" width=\"300\">\n</p>\n\n\nTras el trágico despido de la mítica mascota de Maipú, Renacín decide adentrarse como consultor en el mercado futbolero, el cuál (para variar...) está cargado en especulaciones. \n\nComo su principal tarea será asesorar a los directivos de los clubes sobre cuál jugador comprar y cuál no, Renacín desea generar modelos predictivos que evaluén distintas características de los jugadores; todo con el fin de tomar decisiones concretas basadas en los datos.\n\nSin embargo, su condición de corporeo le impidió tomar la versión anterior de MDS7202, por lo que este motivo Renacín contrata a su equipo para lograr su objetivo final. Dado que aún tiene fuertes vínculos con la dirección de deportes de la municipalidad, el corporeo le entrega base de datos con las estadísticas de cada jugador para que su equipo empieze a trabajar ya con un dataset listo para ser usado.\n",
   "metadata": {
    "id": "xpOTbQcxbSiy",
    "cell_id": "00009-2d8a21b8-a5ac-41ee-9a17-15c179c9b666",
    "deepnote_cell_type": "markdown"
   }
  },
  {
   "cell_type": "markdown",
   "source": "**Los Datos**\n\nPara este laboratorio deberán trabajar con los csv `statsplayers.csv` y `salarios.pickle`, donde deberán aplicar algoritmos de de aprendizaje supervisado (clasificación y regresión) en base a características que describen de jugadores de futbol.\n\nPara comenzar cargue el dataset señalado y a continuación vea el reporte **`Player_Stats_Report.html`** (adjunto en la carpeta del enunciado) que describe las características principales del `DataFrame`.",
   "metadata": {
    "id": "jnmZfFpxTTYX",
    "cell_id": "00010-6b2847d4-5b92-44b7-9ce0-c6b6779ac157",
    "deepnote_cell_type": "markdown"
   }
  },
  {
   "cell_type": "code",
   "metadata": {
    "colab": {
     "base_uri": "https://localhost:8080/"
    },
    "id": "Jqq-s010Iwl1",
    "outputId": "f4cecd84-95c6-4a80-e472-5b8ea011e843",
    "deepnote_to_be_reexecuted": false,
    "source_hash": "c60dc4a7",
    "execution_start": 1637350901410,
    "execution_millis": 29,
    "cell_id": "00011-41e0cc7d-f280-4fd4-9186-b97a9c9f2245",
    "deepnote_cell_type": "code"
   },
   "source": "# Si usted está utilizando Colabolatory le puede ser útil este código para cargar los archivos.\ntry:\n    from google.colab import drive\n    drive.mount(\"/content/drive\")\n    path = 'Dirección donde tiene los archivos en el Drive'\nexcept: \n    print('Ignorando conexión drive-colab')",
   "execution_count": 2,
   "outputs": [
    {
     "name": "stdout",
     "text": "Ignorando conexión drive-colab\n",
     "output_type": "stream"
    }
   ]
  },
  {
   "cell_type": "code",
   "metadata": {
    "id": "bED3w3tDbSCf",
    "colab": {
     "base_uri": "https://localhost:8080/",
     "height": 309
    },
    "outputId": "8961b413-9ab2-4d57-8d77-648860771520",
    "deepnote_to_be_reexecuted": false,
    "source_hash": "a9a805d5",
    "execution_start": 1637352256167,
    "execution_millis": 1029,
    "cell_id": "00012-64bcb839-4478-423e-9bd1-cdb81eefc97e",
    "deepnote_cell_type": "code"
   },
   "source": "df_players = pd.read_csv('/work/Laboratorio7_enunciado/stats_players.csv')\ndf_players",
   "execution_count": 36,
   "outputs": [
    {
     "output_type": "execute_result",
     "execution_count": 36,
     "data": {
      "application/vnd.deepnote.dataframe.v2+json": {
       "row_count": 17588,
       "column_count": 39,
       "columns": [
        {
         "name": "Name",
         "dtype": "object",
         "stats": {
          "unique_count": 17341,
          "nan_count": 0,
          "categories": [
           {
            "name": "Felipe",
            "count": 6
           },
           {
            "name": "Gabriel",
            "count": 5
           },
           {
            "name": "17339 others",
            "count": 17577
           }
          ]
         }
        },
        {
         "name": "Nationality",
         "dtype": "object",
         "stats": {
          "unique_count": 160,
          "nan_count": 0,
          "categories": [
           {
            "name": "England",
            "count": 1618
           },
           {
            "name": "Argentina",
            "count": 1097
           },
           {
            "name": "158 others",
            "count": 14873
           }
          ]
         }
        },
        {
         "name": "National_Position",
         "dtype": "object",
         "stats": {
          "unique_count": 27,
          "nan_count": 16513,
          "categories": [
           {
            "name": "Sub",
            "count": 556
           },
           {
            "name": "26 others",
            "count": 519
           },
           {
            "name": "Missing",
            "count": 16513
           }
          ]
         }
        },
        {
         "name": "Club_Position",
         "dtype": "object",
         "stats": {
          "unique_count": 29,
          "nan_count": 1,
          "categories": [
           {
            "name": "Sub",
            "count": 7492
           },
           {
            "name": "28 others",
            "count": 10095
           },
           {
            "name": "Missing",
            "count": 1
           }
          ]
         }
        },
        {
         "name": "Height",
         "dtype": "int64",
         "stats": {
          "unique_count": 50,
          "nan_count": 0,
          "min": "155",
          "max": "207",
          "histogram": [
           {
            "bin_start": 155,
            "bin_end": 160.2,
            "count": 13
           },
           {
            "bin_start": 160.2,
            "bin_end": 165.4,
            "count": 124
           },
           {
            "bin_start": 165.4,
            "bin_end": 170.6,
            "count": 1009
           },
           {
            "bin_start": 170.6,
            "bin_end": 175.8,
            "count": 2710
           },
           {
            "bin_start": 175.8,
            "bin_end": 181,
            "count": 4635
           },
           {
            "bin_start": 181,
            "bin_end": 186.2,
            "count": 5291
           },
           {
            "bin_start": 186.2,
            "bin_end": 191.4,
            "count": 2812
           },
           {
            "bin_start": 191.4,
            "bin_end": 196.6,
            "count": 882
           },
           {
            "bin_start": 196.6,
            "bin_end": 201.8,
            "count": 102
           },
           {
            "bin_start": 201.8,
            "bin_end": 207,
            "count": 10
           }
          ]
         }
        },
        {
         "name": "Weight",
         "dtype": "int64"
        },
        {
         "name": "Preffered_Foot",
         "dtype": "object"
        },
        {
         "name": "Age",
         "dtype": "int64"
        },
        {
         "name": "Work_Rate",
         "dtype": "object"
        },
        {
         "name": "Weak_foot",
         "dtype": "int64"
        },
        {
         "name": "Skill_Moves",
         "dtype": "int64"
        },
        {
         "name": "Ball_Control",
         "dtype": "int64"
        },
        {
         "name": "Dribbling",
         "dtype": "int64"
        },
        {
         "name": "Marking",
         "dtype": "int64"
        },
        {
         "name": "Sliding_Tackle",
         "dtype": "int64"
        },
        {
         "name": "Standing_Tackle",
         "dtype": "int64"
        },
        {
         "name": "Aggression",
         "dtype": "int64"
        },
        {
         "name": "Reactions",
         "dtype": "int64"
        },
        {
         "name": "Interceptions",
         "dtype": "int64"
        },
        {
         "name": "Vision",
         "dtype": "int64"
        },
        {
         "name": "Composure",
         "dtype": "int64"
        },
        {
         "name": "Crossing",
         "dtype": "int64"
        },
        {
         "name": "Short_Pass",
         "dtype": "int64"
        },
        {
         "name": "Long_Pass",
         "dtype": "int64"
        },
        {
         "name": "Acceleration",
         "dtype": "int64"
        },
        {
         "name": "Speed",
         "dtype": "int64"
        },
        {
         "name": "Stamina",
         "dtype": "int64"
        },
        {
         "name": "Strength",
         "dtype": "int64"
        },
        {
         "name": "Balance",
         "dtype": "int64"
        },
        {
         "name": "Agility",
         "dtype": "int64"
        },
        {
         "name": "Jumping",
         "dtype": "int64"
        },
        {
         "name": "Heading",
         "dtype": "int64"
        },
        {
         "name": "Shot_Power",
         "dtype": "int64"
        },
        {
         "name": "Finishing",
         "dtype": "int64"
        },
        {
         "name": "Long_Shots",
         "dtype": "int64"
        },
        {
         "name": "Curve",
         "dtype": "int64"
        },
        {
         "name": "Freekick_Accuracy",
         "dtype": "int64"
        },
        {
         "name": "Penalties",
         "dtype": "int64"
        },
        {
         "name": "Volleys",
         "dtype": "int64"
        },
        {
         "name": "_deepnote_index_column",
         "dtype": "int64"
        }
       ],
       "rows_top": [
        {
         "Name": "Cristiano Ronaldo",
         "Nationality": "Portugal",
         "National_Position": "LS",
         "Club_Position": "LW",
         "Height": 185,
         "Weight": 80,
         "Preffered_Foot": "Right",
         "Age": 32,
         "Work_Rate": "High / Low",
         "Weak_foot": 4,
         "Skill_Moves": 5,
         "Ball_Control": 93,
         "Dribbling": 92,
         "Marking": 22,
         "Sliding_Tackle": 23,
         "Standing_Tackle": 31,
         "Aggression": 63,
         "Reactions": 96,
         "Interceptions": 29,
         "Vision": 85,
         "Composure": 86,
         "Crossing": 84,
         "Short_Pass": 83,
         "Long_Pass": 77,
         "Acceleration": 91,
         "Speed": 92,
         "Stamina": 92,
         "Strength": 80,
         "Balance": 63,
         "Agility": 90,
         "Jumping": 95,
         "Heading": 85,
         "Shot_Power": 92,
         "Finishing": 93,
         "Long_Shots": 90,
         "Curve": 81,
         "Freekick_Accuracy": 76,
         "Penalties": 85,
         "Volleys": 88,
         "_deepnote_index_column": 0
        },
        {
         "Name": "Lionel Messi",
         "Nationality": "Argentina",
         "National_Position": "RW",
         "Club_Position": "RW",
         "Height": 170,
         "Weight": 72,
         "Preffered_Foot": "Left",
         "Age": 29,
         "Work_Rate": "Medium / Medium",
         "Weak_foot": 4,
         "Skill_Moves": 4,
         "Ball_Control": 95,
         "Dribbling": 97,
         "Marking": 13,
         "Sliding_Tackle": 26,
         "Standing_Tackle": 28,
         "Aggression": 48,
         "Reactions": 95,
         "Interceptions": 22,
         "Vision": 90,
         "Composure": 94,
         "Crossing": 77,
         "Short_Pass": 88,
         "Long_Pass": 87,
         "Acceleration": 92,
         "Speed": 87,
         "Stamina": 74,
         "Strength": 59,
         "Balance": 95,
         "Agility": 90,
         "Jumping": 68,
         "Heading": 71,
         "Shot_Power": 85,
         "Finishing": 95,
         "Long_Shots": 88,
         "Curve": 89,
         "Freekick_Accuracy": 90,
         "Penalties": 74,
         "Volleys": 85,
         "_deepnote_index_column": 1
        },
        {
         "Name": "Neymar",
         "Nationality": "Brazil",
         "National_Position": "LW",
         "Club_Position": "LW",
         "Height": 174,
         "Weight": 68,
         "Preffered_Foot": "Right",
         "Age": 25,
         "Work_Rate": "High / Medium",
         "Weak_foot": 5,
         "Skill_Moves": 5,
         "Ball_Control": 95,
         "Dribbling": 96,
         "Marking": 21,
         "Sliding_Tackle": 33,
         "Standing_Tackle": 24,
         "Aggression": 56,
         "Reactions": 88,
         "Interceptions": 36,
         "Vision": 80,
         "Composure": 80,
         "Crossing": 75,
         "Short_Pass": 81,
         "Long_Pass": 75,
         "Acceleration": 93,
         "Speed": 90,
         "Stamina": 79,
         "Strength": 49,
         "Balance": 82,
         "Agility": 96,
         "Jumping": 61,
         "Heading": 62,
         "Shot_Power": 78,
         "Finishing": 89,
         "Long_Shots": 77,
         "Curve": 79,
         "Freekick_Accuracy": 84,
         "Penalties": 81,
         "Volleys": 83,
         "_deepnote_index_column": 2
        },
        {
         "Name": "Luis Suárez",
         "Nationality": "Uruguay",
         "National_Position": "LS",
         "Club_Position": "ST",
         "Height": 182,
         "Weight": 85,
         "Preffered_Foot": "Right",
         "Age": 30,
         "Work_Rate": "High / Medium",
         "Weak_foot": 4,
         "Skill_Moves": 4,
         "Ball_Control": 91,
         "Dribbling": 86,
         "Marking": 30,
         "Sliding_Tackle": 38,
         "Standing_Tackle": 45,
         "Aggression": 78,
         "Reactions": 93,
         "Interceptions": 41,
         "Vision": 84,
         "Composure": 83,
         "Crossing": 77,
         "Short_Pass": 83,
         "Long_Pass": 64,
         "Acceleration": 88,
         "Speed": 77,
         "Stamina": 89,
         "Strength": 76,
         "Balance": 60,
         "Agility": 86,
         "Jumping": 69,
         "Heading": 77,
         "Shot_Power": 87,
         "Finishing": 94,
         "Long_Shots": 86,
         "Curve": 86,
         "Freekick_Accuracy": 84,
         "Penalties": 85,
         "Volleys": 88,
         "_deepnote_index_column": 3
        },
        {
         "Name": "Manuel Neuer",
         "Nationality": "Germany",
         "National_Position": "GK",
         "Club_Position": "GK",
         "Height": 193,
         "Weight": 92,
         "Preffered_Foot": "Right",
         "Age": 31,
         "Work_Rate": "Medium / Medium",
         "Weak_foot": 4,
         "Skill_Moves": 1,
         "Ball_Control": 48,
         "Dribbling": 30,
         "Marking": 10,
         "Sliding_Tackle": 11,
         "Standing_Tackle": 10,
         "Aggression": 29,
         "Reactions": 85,
         "Interceptions": 30,
         "Vision": 70,
         "Composure": 70,
         "Crossing": 15,
         "Short_Pass": 55,
         "Long_Pass": 59,
         "Acceleration": 58,
         "Speed": 61,
         "Stamina": 44,
         "Strength": 83,
         "Balance": 35,
         "Agility": 52,
         "Jumping": 78,
         "Heading": 25,
         "Shot_Power": 25,
         "Finishing": 13,
         "Long_Shots": 16,
         "Curve": 14,
         "Freekick_Accuracy": 11,
         "Penalties": 47,
         "Volleys": 11,
         "_deepnote_index_column": 4
        },
        {
         "Name": "De Gea",
         "Nationality": "Spain",
         "National_Position": "GK",
         "Club_Position": "GK",
         "Height": 193,
         "Weight": 82,
         "Preffered_Foot": "Right",
         "Age": 26,
         "Work_Rate": "Medium / Medium",
         "Weak_foot": 3,
         "Skill_Moves": 1,
         "Ball_Control": 31,
         "Dribbling": 13,
         "Marking": 13,
         "Sliding_Tackle": 13,
         "Standing_Tackle": 21,
         "Aggression": 38,
         "Reactions": 88,
         "Interceptions": 30,
         "Vision": 68,
         "Composure": 60,
         "Crossing": 17,
         "Short_Pass": 31,
         "Long_Pass": 32,
         "Acceleration": 56,
         "Speed": 56,
         "Stamina": 25,
         "Strength": 64,
         "Balance": 43,
         "Agility": 57,
         "Jumping": 67,
         "Heading": 21,
         "Shot_Power": 31,
         "Finishing": 13,
         "Long_Shots": 12,
         "Curve": 21,
         "Freekick_Accuracy": 19,
         "Penalties": 40,
         "Volleys": 13,
         "_deepnote_index_column": 5
        },
        {
         "Name": "Robert Lewandowski",
         "Nationality": "Poland",
         "National_Position": "LS",
         "Club_Position": "ST",
         "Height": 185,
         "Weight": 79,
         "Preffered_Foot": "Right",
         "Age": 28,
         "Work_Rate": "High / Medium",
         "Weak_foot": 4,
         "Skill_Moves": 3,
         "Ball_Control": 87,
         "Dribbling": 85,
         "Marking": 25,
         "Sliding_Tackle": 19,
         "Standing_Tackle": 42,
         "Aggression": 80,
         "Reactions": 88,
         "Interceptions": 39,
         "Vision": 78,
         "Composure": 87,
         "Crossing": 62,
         "Short_Pass": 83,
         "Long_Pass": 65,
         "Acceleration": 79,
         "Speed": 82,
         "Stamina": 79,
         "Strength": 84,
         "Balance": 79,
         "Agility": 78,
         "Jumping": 84,
         "Heading": 85,
         "Shot_Power": 86,
         "Finishing": 91,
         "Long_Shots": 82,
         "Curve": 77,
         "Freekick_Accuracy": 76,
         "Penalties": 81,
         "Volleys": 86,
         "_deepnote_index_column": 6
        },
        {
         "Name": "Gareth Bale",
         "Nationality": "Wales",
         "National_Position": "RS",
         "Club_Position": "RW",
         "Height": 183,
         "Weight": 74,
         "Preffered_Foot": "Left",
         "Age": 27,
         "Work_Rate": "High / Medium",
         "Weak_foot": 3,
         "Skill_Moves": 4,
         "Ball_Control": 88,
         "Dribbling": 89,
         "Marking": 51,
         "Sliding_Tackle": 52,
         "Standing_Tackle": 55,
         "Aggression": 65,
         "Reactions": 87,
         "Interceptions": 59,
         "Vision": 79,
         "Composure": 85,
         "Crossing": 87,
         "Short_Pass": 86,
         "Long_Pass": 80,
         "Acceleration": 93,
         "Speed": 95,
         "Stamina": 78,
         "Strength": 80,
         "Balance": 65,
         "Agility": 77,
         "Jumping": 85,
         "Heading": 86,
         "Shot_Power": 91,
         "Finishing": 87,
         "Long_Shots": 90,
         "Curve": 86,
         "Freekick_Accuracy": 85,
         "Penalties": 76,
         "Volleys": 76,
         "_deepnote_index_column": 7
        },
        {
         "Name": "Zlatan Ibrahimović",
         "Nationality": "Sweden",
         "National_Position": "nan",
         "Club_Position": "ST",
         "Height": 195,
         "Weight": 95,
         "Preffered_Foot": "Right",
         "Age": 35,
         "Work_Rate": "Medium / Low",
         "Weak_foot": 4,
         "Skill_Moves": 4,
         "Ball_Control": 90,
         "Dribbling": 87,
         "Marking": 15,
         "Sliding_Tackle": 27,
         "Standing_Tackle": 41,
         "Aggression": 84,
         "Reactions": 85,
         "Interceptions": 20,
         "Vision": 83,
         "Composure": 91,
         "Crossing": 76,
         "Short_Pass": 84,
         "Long_Pass": 76,
         "Acceleration": 69,
         "Speed": 74,
         "Stamina": 75,
         "Strength": 93,
         "Balance": 41,
         "Agility": 86,
         "Jumping": 72,
         "Heading": 80,
         "Shot_Power": 93,
         "Finishing": 90,
         "Long_Shots": 88,
         "Curve": 82,
         "Freekick_Accuracy": 82,
         "Penalties": 91,
         "Volleys": 93,
         "_deepnote_index_column": 8
        },
        {
         "Name": "Thibaut Courtois",
         "Nationality": "Belgium",
         "National_Position": "GK",
         "Club_Position": "GK",
         "Height": 199,
         "Weight": 91,
         "Preffered_Foot": "Left",
         "Age": 24,
         "Work_Rate": "Medium / Medium",
         "Weak_foot": 3,
         "Skill_Moves": 1,
         "Ball_Control": 23,
         "Dribbling": 13,
         "Marking": 11,
         "Sliding_Tackle": 16,
         "Standing_Tackle": 18,
         "Aggression": 23,
         "Reactions": 81,
         "Interceptions": 15,
         "Vision": 44,
         "Composure": 52,
         "Crossing": 14,
         "Short_Pass": 32,
         "Long_Pass": 31,
         "Acceleration": 46,
         "Speed": 52,
         "Stamina": 38,
         "Strength": 70,
         "Balance": 45,
         "Agility": 61,
         "Jumping": 68,
         "Heading": 13,
         "Shot_Power": 36,
         "Finishing": 14,
         "Long_Shots": 17,
         "Curve": 19,
         "Freekick_Accuracy": 11,
         "Penalties": 27,
         "Volleys": 12,
         "_deepnote_index_column": 9
        },
        {
         "Name": "Jérôme Boateng",
         "Nationality": "Germany",
         "National_Position": "RCB",
         "Club_Position": "Sub",
         "Height": 192,
         "Weight": 90,
         "Preffered_Foot": "Right",
         "Age": 28,
         "Work_Rate": "Medium / Medium",
         "Weak_foot": 4,
         "Skill_Moves": 2,
         "Ball_Control": 72,
         "Dribbling": 67,
         "Marking": 90,
         "Sliding_Tackle": 91,
         "Standing_Tackle": 92,
         "Aggression": 82,
         "Reactions": 84,
         "Interceptions": 84,
         "Vision": 76,
         "Composure": 86,
         "Crossing": 69,
         "Short_Pass": 75,
         "Long_Pass": 80,
         "Acceleration": 74,
         "Speed": 81,
         "Stamina": 75,
         "Strength": 91,
         "Balance": 54,
         "Agility": 58,
         "Jumping": 75,
         "Heading": 86,
         "Shot_Power": 79,
         "Finishing": 34,
         "Long_Shots": 58,
         "Curve": 56,
         "Freekick_Accuracy": 31,
         "Penalties": 46,
         "Volleys": 53,
         "_deepnote_index_column": 10
        },
        {
         "Name": "Eden Hazard",
         "Nationality": "Belgium",
         "National_Position": "LF",
         "Club_Position": "LW",
         "Height": 173,
         "Weight": 74,
         "Preffered_Foot": "Right",
         "Age": 26,
         "Work_Rate": "High / Medium",
         "Weak_foot": 4,
         "Skill_Moves": 4,
         "Ball_Control": 91,
         "Dribbling": 93,
         "Marking": 25,
         "Sliding_Tackle": 22,
         "Standing_Tackle": 27,
         "Aggression": 54,
         "Reactions": 85,
         "Interceptions": 41,
         "Vision": 86,
         "Composure": 86,
         "Crossing": 80,
         "Short_Pass": 84,
         "Long_Pass": 80,
         "Acceleration": 93,
         "Speed": 87,
         "Stamina": 77,
         "Strength": 65,
         "Balance": 90,
         "Agility": 92,
         "Jumping": 59,
         "Heading": 57,
         "Shot_Power": 79,
         "Finishing": 81,
         "Long_Shots": 82,
         "Curve": 82,
         "Freekick_Accuracy": 79,
         "Penalties": 86,
         "Volleys": 79,
         "_deepnote_index_column": 11
        }
       ],
       "rows_bottom": [
        {
         "Name": "Myles Judd",
         "Nationality": "England",
         "National_Position": "nan",
         "Club_Position": "Sub",
         "Height": 178,
         "Weight": 67,
         "Preffered_Foot": "Right",
         "Age": 18,
         "Work_Rate": "Medium / Medium",
         "Weak_foot": 3,
         "Skill_Moves": 2,
         "Ball_Control": 30,
         "Dribbling": 53,
         "Marking": 39,
         "Sliding_Tackle": 49,
         "Standing_Tackle": 47,
         "Aggression": 50,
         "Reactions": 44,
         "Interceptions": 50,
         "Vision": 32,
         "Composure": 31,
         "Crossing": 44,
         "Short_Pass": 30,
         "Long_Pass": 28,
         "Acceleration": 67,
         "Speed": 59,
         "Stamina": 33,
         "Strength": 40,
         "Balance": 70,
         "Agility": 58,
         "Jumping": 62,
         "Heading": 41,
         "Shot_Power": 21,
         "Finishing": 21,
         "Long_Shots": 22,
         "Curve": 27,
         "Freekick_Accuracy": 29,
         "Penalties": 33,
         "Volleys": 21,
         "_deepnote_index_column": 17575
        },
        {
         "Name": "Sam Hornby",
         "Nationality": "England",
         "National_Position": "nan",
         "Club_Position": "Res",
         "Height": 188,
         "Weight": 80,
         "Preffered_Foot": "Right",
         "Age": 22,
         "Work_Rate": "Medium / Medium",
         "Weak_foot": 3,
         "Skill_Moves": 1,
         "Ball_Control": 16,
         "Dribbling": 13,
         "Marking": 18,
         "Sliding_Tackle": 20,
         "Standing_Tackle": 13,
         "Aggression": 17,
         "Reactions": 45,
         "Interceptions": 12,
         "Vision": 24,
         "Composure": 30,
         "Crossing": 11,
         "Short_Pass": 25,
         "Long_Pass": 22,
         "Acceleration": 46,
         "Speed": 46,
         "Stamina": 24,
         "Strength": 58,
         "Balance": 51,
         "Agility": 38,
         "Jumping": 58,
         "Heading": 12,
         "Shot_Power": 24,
         "Finishing": 11,
         "Long_Shots": 18,
         "Curve": 19,
         "Freekick_Accuracy": 13,
         "Penalties": 14,
         "Volleys": 12,
         "_deepnote_index_column": 17576
        },
        {
         "Name": "Sam Sargeant",
         "Nationality": "England",
         "National_Position": "nan",
         "Club_Position": "Sub",
         "Height": 183,
         "Weight": 67,
         "Preffered_Foot": "Right",
         "Age": 19,
         "Work_Rate": "Medium / Medium",
         "Weak_foot": 3,
         "Skill_Moves": 1,
         "Ball_Control": 17,
         "Dribbling": 17,
         "Marking": 16,
         "Sliding_Tackle": 19,
         "Standing_Tackle": 15,
         "Aggression": 18,
         "Reactions": 34,
         "Interceptions": 18,
         "Vision": 18,
         "Composure": 27,
         "Crossing": 13,
         "Short_Pass": 24,
         "Long_Pass": 24,
         "Acceleration": 49,
         "Speed": 40,
         "Stamina": 26,
         "Strength": 33,
         "Balance": 60,
         "Agility": 32,
         "Jumping": 51,
         "Heading": 14,
         "Shot_Power": 24,
         "Finishing": 11,
         "Long_Shots": 13,
         "Curve": 16,
         "Freekick_Accuracy": 13,
         "Penalties": 24,
         "Volleys": 16,
         "_deepnote_index_column": 17577
        },
        {
         "Name": "Steven Alzate",
         "Nationality": "England",
         "National_Position": "nan",
         "Club_Position": "Res",
         "Height": 177,
         "Weight": 65,
         "Preffered_Foot": "Right",
         "Age": 18,
         "Work_Rate": "Medium / Medium",
         "Weak_foot": 3,
         "Skill_Moves": 3,
         "Ball_Control": 46,
         "Dribbling": 47,
         "Marking": 23,
         "Sliding_Tackle": 31,
         "Standing_Tackle": 34,
         "Aggression": 27,
         "Reactions": 44,
         "Interceptions": 21,
         "Vision": 42,
         "Composure": 34,
         "Crossing": 38,
         "Short_Pass": 45,
         "Long_Pass": 43,
         "Acceleration": 58,
         "Speed": 66,
         "Stamina": 50,
         "Strength": 44,
         "Balance": 64,
         "Agility": 55,
         "Jumping": 56,
         "Heading": 26,
         "Shot_Power": 36,
         "Finishing": 34,
         "Long_Shots": 29,
         "Curve": 40,
         "Freekick_Accuracy": 22,
         "Penalties": 35,
         "Volleys": 30,
         "_deepnote_index_column": 17578
        },
        {
         "Name": "Sam Dalby",
         "Nationality": "England",
         "National_Position": "nan",
         "Club_Position": "Sub",
         "Height": 191,
         "Weight": 78,
         "Preffered_Foot": "Right",
         "Age": 17,
         "Work_Rate": "Medium / Medium",
         "Weak_foot": 3,
         "Skill_Moves": 2,
         "Ball_Control": 35,
         "Dribbling": 37,
         "Marking": 13,
         "Sliding_Tackle": 15,
         "Standing_Tackle": 16,
         "Aggression": 30,
         "Reactions": 50,
         "Interceptions": 10,
         "Vision": 43,
         "Composure": 43,
         "Crossing": 29,
         "Short_Pass": 30,
         "Long_Pass": 28,
         "Acceleration": 60,
         "Speed": 63,
         "Stamina": 55,
         "Strength": 36,
         "Balance": 61,
         "Agility": 58,
         "Jumping": 64,
         "Heading": 37,
         "Shot_Power": 42,
         "Finishing": 48,
         "Long_Shots": 44,
         "Curve": 34,
         "Freekick_Accuracy": 23,
         "Penalties": 40,
         "Volleys": 35,
         "_deepnote_index_column": 17579
        },
        {
         "Name": "Henry Ochieng",
         "Nationality": "England",
         "National_Position": "nan",
         "Club_Position": "Sub",
         "Height": 179,
         "Weight": 67,
         "Preffered_Foot": "Right",
         "Age": 18,
         "Work_Rate": "Medium / Medium",
         "Weak_foot": 3,
         "Skill_Moves": 2,
         "Ball_Control": 39,
         "Dribbling": 45,
         "Marking": 42,
         "Sliding_Tackle": 50,
         "Standing_Tackle": 47,
         "Aggression": 52,
         "Reactions": 47,
         "Interceptions": 43,
         "Vision": 41,
         "Composure": 39,
         "Crossing": 33,
         "Short_Pass": 47,
         "Long_Pass": 45,
         "Acceleration": 64,
         "Speed": 62,
         "Stamina": 55,
         "Strength": 53,
         "Balance": 57,
         "Agility": 56,
         "Jumping": 58,
         "Heading": 41,
         "Shot_Power": 47,
         "Finishing": 35,
         "Long_Shots": 36,
         "Curve": 32,
         "Freekick_Accuracy": 31,
         "Penalties": 36,
         "Volleys": 25,
         "_deepnote_index_column": 17580
        },
        {
         "Name": "Harry Clifton",
         "Nationality": "England",
         "National_Position": "nan",
         "Club_Position": "Res",
         "Height": 180,
         "Weight": 88,
         "Preffered_Foot": "Right",
         "Age": 18,
         "Work_Rate": "Medium / Medium",
         "Weak_foot": 3,
         "Skill_Moves": 2,
         "Ball_Control": 43,
         "Dribbling": 43,
         "Marking": 36,
         "Sliding_Tackle": 40,
         "Standing_Tackle": 44,
         "Aggression": 32,
         "Reactions": 35,
         "Interceptions": 36,
         "Vision": 46,
         "Composure": 50,
         "Crossing": 34,
         "Short_Pass": 45,
         "Long_Pass": 47,
         "Acceleration": 65,
         "Speed": 67,
         "Stamina": 51,
         "Strength": 56,
         "Balance": 67,
         "Agility": 57,
         "Jumping": 51,
         "Heading": 34,
         "Shot_Power": 28,
         "Finishing": 37,
         "Long_Shots": 35,
         "Curve": 32,
         "Freekick_Accuracy": 27,
         "Penalties": 24,
         "Volleys": 27,
         "_deepnote_index_column": 17581
        },
        {
         "Name": "Mark McElhinney",
         "Nationality": "Republic of Ireland",
         "National_Position": "nan",
         "Club_Position": "Res",
         "Height": 182,
         "Weight": 76,
         "Preffered_Foot": "Right",
         "Age": 19,
         "Work_Rate": "Medium / Medium",
         "Weak_foot": 2,
         "Skill_Moves": 1,
         "Ball_Control": 15,
         "Dribbling": 14,
         "Marking": 12,
         "Sliding_Tackle": 15,
         "Standing_Tackle": 12,
         "Aggression": 18,
         "Reactions": 45,
         "Interceptions": 12,
         "Vision": 25,
         "Composure": 38,
         "Crossing": 14,
         "Short_Pass": 26,
         "Long_Pass": 22,
         "Acceleration": 28,
         "Speed": 26,
         "Stamina": 28,
         "Strength": 45,
         "Balance": 43,
         "Agility": 33,
         "Jumping": 50,
         "Heading": 13,
         "Shot_Power": 18,
         "Finishing": 11,
         "Long_Shots": 12,
         "Curve": 11,
         "Freekick_Accuracy": 11,
         "Penalties": 16,
         "Volleys": 12,
         "_deepnote_index_column": 17582
        },
        {
         "Name": "Adam Dunbar",
         "Nationality": "Republic of Ireland",
         "National_Position": "nan",
         "Club_Position": "Sub",
         "Height": 183,
         "Weight": 82,
         "Preffered_Foot": "Right",
         "Age": 19,
         "Work_Rate": "Medium / Medium",
         "Weak_foot": 1,
         "Skill_Moves": 1,
         "Ball_Control": 12,
         "Dribbling": 11,
         "Marking": 12,
         "Sliding_Tackle": 12,
         "Standing_Tackle": 13,
         "Aggression": 25,
         "Reactions": 48,
         "Interceptions": 12,
         "Vision": 37,
         "Composure": 35,
         "Crossing": 12,
         "Short_Pass": 22,
         "Long_Pass": 19,
         "Acceleration": 25,
         "Speed": 21,
         "Stamina": 17,
         "Strength": 52,
         "Balance": 52,
         "Agility": 27,
         "Jumping": 56,
         "Heading": 14,
         "Shot_Power": 16,
         "Finishing": 13,
         "Long_Shots": 13,
         "Curve": 11,
         "Freekick_Accuracy": 13,
         "Penalties": 15,
         "Volleys": 12,
         "_deepnote_index_column": 17583
        },
        {
         "Name": "Dylan McGoey",
         "Nationality": "Republic of Ireland",
         "National_Position": "nan",
         "Club_Position": "Sub",
         "Height": 185,
         "Weight": 80,
         "Preffered_Foot": "Right",
         "Age": 19,
         "Work_Rate": "Medium / Medium",
         "Weak_foot": 2,
         "Skill_Moves": 1,
         "Ball_Control": 13,
         "Dribbling": 11,
         "Marking": 11,
         "Sliding_Tackle": 12,
         "Standing_Tackle": 11,
         "Aggression": 15,
         "Reactions": 43,
         "Interceptions": 12,
         "Vision": 27,
         "Composure": 22,
         "Crossing": 14,
         "Short_Pass": 27,
         "Long_Pass": 26,
         "Acceleration": 16,
         "Speed": 19,
         "Stamina": 21,
         "Strength": 42,
         "Balance": 45,
         "Agility": 28,
         "Jumping": 53,
         "Heading": 12,
         "Shot_Power": 17,
         "Finishing": 12,
         "Long_Shots": 11,
         "Curve": 12,
         "Freekick_Accuracy": 13,
         "Penalties": 16,
         "Volleys": 12,
         "_deepnote_index_column": 17584
        },
        {
         "Name": "Tommy Ouldridge",
         "Nationality": "England",
         "National_Position": "nan",
         "Club_Position": "Res",
         "Height": 173,
         "Weight": 61,
         "Preffered_Foot": "Right",
         "Age": 18,
         "Work_Rate": "High / Medium",
         "Weak_foot": 2,
         "Skill_Moves": 2,
         "Ball_Control": 44,
         "Dribbling": 39,
         "Marking": 40,
         "Sliding_Tackle": 29,
         "Standing_Tackle": 35,
         "Aggression": 44,
         "Reactions": 42,
         "Interceptions": 38,
         "Vision": 41,
         "Composure": 35,
         "Crossing": 35,
         "Short_Pass": 48,
         "Long_Pass": 42,
         "Acceleration": 62,
         "Speed": 60,
         "Stamina": 64,
         "Strength": 34,
         "Balance": 83,
         "Agility": 54,
         "Jumping": 61,
         "Heading": 41,
         "Shot_Power": 44,
         "Finishing": 28,
         "Long_Shots": 42,
         "Curve": 35,
         "Freekick_Accuracy": 36,
         "Penalties": 42,
         "Volleys": 37,
         "_deepnote_index_column": 17585
        },
        {
         "Name": "Mark Foden",
         "Nationality": "Scotland",
         "National_Position": "nan",
         "Club_Position": "Sub",
         "Height": 180,
         "Weight": 80,
         "Preffered_Foot": "Right",
         "Age": 21,
         "Work_Rate": "Medium / Medium",
         "Weak_foot": 3,
         "Skill_Moves": 1,
         "Ball_Control": 17,
         "Dribbling": 13,
         "Marking": 11,
         "Sliding_Tackle": 11,
         "Standing_Tackle": 14,
         "Aggression": 23,
         "Reactions": 46,
         "Interceptions": 12,
         "Vision": 13,
         "Composure": 28,
         "Crossing": 15,
         "Short_Pass": 20,
         "Long_Pass": 15,
         "Acceleration": 42,
         "Speed": 40,
         "Stamina": 40,
         "Strength": 61,
         "Balance": 60,
         "Agility": 34,
         "Jumping": 48,
         "Heading": 15,
         "Shot_Power": 23,
         "Finishing": 14,
         "Long_Shots": 12,
         "Curve": 13,
         "Freekick_Accuracy": 12,
         "Penalties": 24,
         "Volleys": 12,
         "_deepnote_index_column": 17586
        },
        {
         "Name": "Barry Richardson",
         "Nationality": "England",
         "National_Position": "nan",
         "Club_Position": "Sub",
         "Height": 185,
         "Weight": 77,
         "Preffered_Foot": "Right",
         "Age": 47,
         "Work_Rate": "Medium / Medium",
         "Weak_foot": 2,
         "Skill_Moves": 1,
         "Ball_Control": 22,
         "Dribbling": 11,
         "Marking": 14,
         "Sliding_Tackle": 13,
         "Standing_Tackle": 12,
         "Aggression": 44,
         "Reactions": 38,
         "Interceptions": 16,
         "Vision": 17,
         "Composure": 44,
         "Crossing": 11,
         "Short_Pass": 12,
         "Long_Pass": 13,
         "Acceleration": 25,
         "Speed": 25,
         "Stamina": 32,
         "Strength": 47,
         "Balance": 44,
         "Agility": 38,
         "Jumping": 51,
         "Heading": 12,
         "Shot_Power": 13,
         "Finishing": 11,
         "Long_Shots": 16,
         "Curve": 12,
         "Freekick_Accuracy": 11,
         "Penalties": 22,
         "Volleys": 12,
         "_deepnote_index_column": 17587
        }
       ]
      },
      "text/plain": "                    Name          Nationality National_Position Club_Position  \\\n0      Cristiano Ronaldo             Portugal                LS            LW   \n1           Lionel Messi            Argentina                RW            RW   \n2                 Neymar               Brazil                LW            LW   \n3            Luis Suárez              Uruguay                LS            ST   \n4           Manuel Neuer              Germany                GK            GK   \n...                  ...                  ...               ...           ...   \n17583        Adam Dunbar  Republic of Ireland               NaN           Sub   \n17584       Dylan McGoey  Republic of Ireland               NaN           Sub   \n17585    Tommy Ouldridge              England               NaN           Res   \n17586         Mark Foden             Scotland               NaN           Sub   \n17587   Barry Richardson              England               NaN           Sub   \n\n       Height  Weight Preffered_Foot  Age        Work_Rate  Weak_foot  ...  \\\n0         185      80          Right   32       High / Low          4  ...   \n1         170      72           Left   29  Medium / Medium          4  ...   \n2         174      68          Right   25    High / Medium          5  ...   \n3         182      85          Right   30    High / Medium          4  ...   \n4         193      92          Right   31  Medium / Medium          4  ...   \n...       ...     ...            ...  ...              ...        ...  ...   \n17583     183      82          Right   19  Medium / Medium          1  ...   \n17584     185      80          Right   19  Medium / Medium          2  ...   \n17585     173      61          Right   18    High / Medium          2  ...   \n17586     180      80          Right   21  Medium / Medium          3  ...   \n17587     185      77          Right   47  Medium / Medium          2  ...   \n\n       Agility  Jumping  Heading  Shot_Power  Finishing  Long_Shots  Curve  \\\n0           90       95       85          92         93          90     81   \n1           90       68       71          85         95          88     89   \n2           96       61       62          78         89          77     79   \n3           86       69       77          87         94          86     86   \n4           52       78       25          25         13          16     14   \n...        ...      ...      ...         ...        ...         ...    ...   \n17583       27       56       14          16         13          13     11   \n17584       28       53       12          17         12          11     12   \n17585       54       61       41          44         28          42     35   \n17586       34       48       15          23         14          12     13   \n17587       38       51       12          13         11          16     12   \n\n       Freekick_Accuracy  Penalties  Volleys  \n0                     76         85       88  \n1                     90         74       85  \n2                     84         81       83  \n3                     84         85       88  \n4                     11         47       11  \n...                  ...        ...      ...  \n17583                 13         15       12  \n17584                 13         16       12  \n17585                 36         42       37  \n17586                 12         24       12  \n17587                 11         22       12  \n\n[17588 rows x 39 columns]",
      "text/html": "<div>\n<style scoped>\n    .dataframe tbody tr th:only-of-type {\n        vertical-align: middle;\n    }\n\n    .dataframe tbody tr th {\n        vertical-align: top;\n    }\n\n    .dataframe thead th {\n        text-align: right;\n    }\n</style>\n<table border=\"1\" class=\"dataframe\">\n  <thead>\n    <tr style=\"text-align: right;\">\n      <th></th>\n      <th>Name</th>\n      <th>Nationality</th>\n      <th>National_Position</th>\n      <th>Club_Position</th>\n      <th>Height</th>\n      <th>Weight</th>\n      <th>Preffered_Foot</th>\n      <th>Age</th>\n      <th>Work_Rate</th>\n      <th>Weak_foot</th>\n      <th>...</th>\n      <th>Agility</th>\n      <th>Jumping</th>\n      <th>Heading</th>\n      <th>Shot_Power</th>\n      <th>Finishing</th>\n      <th>Long_Shots</th>\n      <th>Curve</th>\n      <th>Freekick_Accuracy</th>\n      <th>Penalties</th>\n      <th>Volleys</th>\n    </tr>\n  </thead>\n  <tbody>\n    <tr>\n      <th>0</th>\n      <td>Cristiano Ronaldo</td>\n      <td>Portugal</td>\n      <td>LS</td>\n      <td>LW</td>\n      <td>185</td>\n      <td>80</td>\n      <td>Right</td>\n      <td>32</td>\n      <td>High / Low</td>\n      <td>4</td>\n      <td>...</td>\n      <td>90</td>\n      <td>95</td>\n      <td>85</td>\n      <td>92</td>\n      <td>93</td>\n      <td>90</td>\n      <td>81</td>\n      <td>76</td>\n      <td>85</td>\n      <td>88</td>\n    </tr>\n    <tr>\n      <th>1</th>\n      <td>Lionel Messi</td>\n      <td>Argentina</td>\n      <td>RW</td>\n      <td>RW</td>\n      <td>170</td>\n      <td>72</td>\n      <td>Left</td>\n      <td>29</td>\n      <td>Medium / Medium</td>\n      <td>4</td>\n      <td>...</td>\n      <td>90</td>\n      <td>68</td>\n      <td>71</td>\n      <td>85</td>\n      <td>95</td>\n      <td>88</td>\n      <td>89</td>\n      <td>90</td>\n      <td>74</td>\n      <td>85</td>\n    </tr>\n    <tr>\n      <th>2</th>\n      <td>Neymar</td>\n      <td>Brazil</td>\n      <td>LW</td>\n      <td>LW</td>\n      <td>174</td>\n      <td>68</td>\n      <td>Right</td>\n      <td>25</td>\n      <td>High / Medium</td>\n      <td>5</td>\n      <td>...</td>\n      <td>96</td>\n      <td>61</td>\n      <td>62</td>\n      <td>78</td>\n      <td>89</td>\n      <td>77</td>\n      <td>79</td>\n      <td>84</td>\n      <td>81</td>\n      <td>83</td>\n    </tr>\n    <tr>\n      <th>3</th>\n      <td>Luis Suárez</td>\n      <td>Uruguay</td>\n      <td>LS</td>\n      <td>ST</td>\n      <td>182</td>\n      <td>85</td>\n      <td>Right</td>\n      <td>30</td>\n      <td>High / Medium</td>\n      <td>4</td>\n      <td>...</td>\n      <td>86</td>\n      <td>69</td>\n      <td>77</td>\n      <td>87</td>\n      <td>94</td>\n      <td>86</td>\n      <td>86</td>\n      <td>84</td>\n      <td>85</td>\n      <td>88</td>\n    </tr>\n    <tr>\n      <th>4</th>\n      <td>Manuel Neuer</td>\n      <td>Germany</td>\n      <td>GK</td>\n      <td>GK</td>\n      <td>193</td>\n      <td>92</td>\n      <td>Right</td>\n      <td>31</td>\n      <td>Medium / Medium</td>\n      <td>4</td>\n      <td>...</td>\n      <td>52</td>\n      <td>78</td>\n      <td>25</td>\n      <td>25</td>\n      <td>13</td>\n      <td>16</td>\n      <td>14</td>\n      <td>11</td>\n      <td>47</td>\n      <td>11</td>\n    </tr>\n    <tr>\n      <th>...</th>\n      <td>...</td>\n      <td>...</td>\n      <td>...</td>\n      <td>...</td>\n      <td>...</td>\n      <td>...</td>\n      <td>...</td>\n      <td>...</td>\n      <td>...</td>\n      <td>...</td>\n      <td>...</td>\n      <td>...</td>\n      <td>...</td>\n      <td>...</td>\n      <td>...</td>\n      <td>...</td>\n      <td>...</td>\n      <td>...</td>\n      <td>...</td>\n      <td>...</td>\n      <td>...</td>\n    </tr>\n    <tr>\n      <th>17583</th>\n      <td>Adam Dunbar</td>\n      <td>Republic of Ireland</td>\n      <td>NaN</td>\n      <td>Sub</td>\n      <td>183</td>\n      <td>82</td>\n      <td>Right</td>\n      <td>19</td>\n      <td>Medium / Medium</td>\n      <td>1</td>\n      <td>...</td>\n      <td>27</td>\n      <td>56</td>\n      <td>14</td>\n      <td>16</td>\n      <td>13</td>\n      <td>13</td>\n      <td>11</td>\n      <td>13</td>\n      <td>15</td>\n      <td>12</td>\n    </tr>\n    <tr>\n      <th>17584</th>\n      <td>Dylan McGoey</td>\n      <td>Republic of Ireland</td>\n      <td>NaN</td>\n      <td>Sub</td>\n      <td>185</td>\n      <td>80</td>\n      <td>Right</td>\n      <td>19</td>\n      <td>Medium / Medium</td>\n      <td>2</td>\n      <td>...</td>\n      <td>28</td>\n      <td>53</td>\n      <td>12</td>\n      <td>17</td>\n      <td>12</td>\n      <td>11</td>\n      <td>12</td>\n      <td>13</td>\n      <td>16</td>\n      <td>12</td>\n    </tr>\n    <tr>\n      <th>17585</th>\n      <td>Tommy Ouldridge</td>\n      <td>England</td>\n      <td>NaN</td>\n      <td>Res</td>\n      <td>173</td>\n      <td>61</td>\n      <td>Right</td>\n      <td>18</td>\n      <td>High / Medium</td>\n      <td>2</td>\n      <td>...</td>\n      <td>54</td>\n      <td>61</td>\n      <td>41</td>\n      <td>44</td>\n      <td>28</td>\n      <td>42</td>\n      <td>35</td>\n      <td>36</td>\n      <td>42</td>\n      <td>37</td>\n    </tr>\n    <tr>\n      <th>17586</th>\n      <td>Mark Foden</td>\n      <td>Scotland</td>\n      <td>NaN</td>\n      <td>Sub</td>\n      <td>180</td>\n      <td>80</td>\n      <td>Right</td>\n      <td>21</td>\n      <td>Medium / Medium</td>\n      <td>3</td>\n      <td>...</td>\n      <td>34</td>\n      <td>48</td>\n      <td>15</td>\n      <td>23</td>\n      <td>14</td>\n      <td>12</td>\n      <td>13</td>\n      <td>12</td>\n      <td>24</td>\n      <td>12</td>\n    </tr>\n    <tr>\n      <th>17587</th>\n      <td>Barry Richardson</td>\n      <td>England</td>\n      <td>NaN</td>\n      <td>Sub</td>\n      <td>185</td>\n      <td>77</td>\n      <td>Right</td>\n      <td>47</td>\n      <td>Medium / Medium</td>\n      <td>2</td>\n      <td>...</td>\n      <td>38</td>\n      <td>51</td>\n      <td>12</td>\n      <td>13</td>\n      <td>11</td>\n      <td>16</td>\n      <td>12</td>\n      <td>11</td>\n      <td>22</td>\n      <td>12</td>\n    </tr>\n  </tbody>\n</table>\n<p>17588 rows × 39 columns</p>\n</div>"
     },
     "metadata": {}
    }
   ]
  },
  {
   "cell_type": "markdown",
   "source": "## 1.1 Predicción de Seleccionados Nacionales \n\nComo primera tarea, Renacín, intrigado por la posibilidad de saber qué tan reconocido es un jugador, le consulta a su equipo si es posible predecir si un jugador será o no seleccionado nacional a partir de sus estadísticas en el juego. \n\n<p align=\"center\">\n  <img src=\"https://thumbs.gfycat.com/ThornyFrankFoxhound-size_restricted.gif\" width=\"500\">\n</p>",
   "metadata": {
    "id": "2R3b7Qe501t5",
    "cell_id": "00013-1b1d1556-4dbe-499e-8a34-90748e76565e",
    "deepnote_cell_type": "markdown"
   }
  },
  {
   "cell_type": "markdown",
   "source": "### 1.1.1 Generación de Labels para la Clasificación [Sin Puntaje]\n\n\nPrimero comience generando las labels para la clasificación. Para esto, trabaje sobre el atributo ```National_Position``` suponiendo que los valores nulos son jugadores no seleccionados para representar a su país. \n\nHecho esto, ¿Cuantos ejemplos por cada clase se tienen? Comente lo que observa.\n\n",
   "metadata": {
    "id": "PIe_Ha58pQRC",
    "cell_id": "00014-33fe54d0-08a3-457a-932d-d07eb29b7ee3",
    "deepnote_cell_type": "markdown"
   }
  },
  {
   "cell_type": "markdown",
   "source": "**Respuesta:**",
   "metadata": {
    "tags": [],
    "cell_id": "00015-f7029512-357f-4f07-9897-aaf5d65430a6",
    "deepnote_cell_type": "markdown"
   }
  },
  {
   "cell_type": "code",
   "metadata": {
    "tags": [],
    "cell_id": "00016-70d56b3d-cc4a-45d9-9fe9-763e59904143",
    "deepnote_to_be_reexecuted": false,
    "source_hash": "7fe72993",
    "execution_start": 1637352273861,
    "execution_millis": 127,
    "deepnote_cell_type": "code"
   },
   "source": "df_players.loc[(df_players['National_Position'].isna()),'target'] = 0\ndf_players.loc[~(df_players['National_Position'].isna()),'target'] = 1\n\nl = df_players.count()[0]\n\ndf_class = df_players.groupby('target').size().reset_index().rename({0:'Count'},axis=1)\ndf_class['Porcentaje'] = (df_class['Count']/l)*100\n\ndisplay(df_class)",
   "execution_count": 39,
   "outputs": [
    {
     "data": {
      "application/vnd.deepnote.dataframe.v2+json": {
       "row_count": 2,
       "column_count": 3,
       "columns": [
        {
         "name": "target",
         "dtype": "float64",
         "stats": {
          "unique_count": 2,
          "nan_count": 0,
          "min": "0.0",
          "max": "1.0",
          "histogram": [
           {
            "bin_start": 0,
            "bin_end": 0.1,
            "count": 1
           },
           {
            "bin_start": 0.1,
            "bin_end": 0.2,
            "count": 0
           },
           {
            "bin_start": 0.2,
            "bin_end": 0.30000000000000004,
            "count": 0
           },
           {
            "bin_start": 0.30000000000000004,
            "bin_end": 0.4,
            "count": 0
           },
           {
            "bin_start": 0.4,
            "bin_end": 0.5,
            "count": 0
           },
           {
            "bin_start": 0.5,
            "bin_end": 0.6000000000000001,
            "count": 0
           },
           {
            "bin_start": 0.6000000000000001,
            "bin_end": 0.7000000000000001,
            "count": 0
           },
           {
            "bin_start": 0.7000000000000001,
            "bin_end": 0.8,
            "count": 0
           },
           {
            "bin_start": 0.8,
            "bin_end": 0.9,
            "count": 0
           },
           {
            "bin_start": 0.9,
            "bin_end": 1,
            "count": 1
           }
          ]
         }
        },
        {
         "name": "Count",
         "dtype": "int64",
         "stats": {
          "unique_count": 2,
          "nan_count": 0,
          "min": "1075",
          "max": "16513",
          "histogram": [
           {
            "bin_start": 1075,
            "bin_end": 2618.8,
            "count": 1
           },
           {
            "bin_start": 2618.8,
            "bin_end": 4162.6,
            "count": 0
           },
           {
            "bin_start": 4162.6,
            "bin_end": 5706.4,
            "count": 0
           },
           {
            "bin_start": 5706.4,
            "bin_end": 7250.2,
            "count": 0
           },
           {
            "bin_start": 7250.2,
            "bin_end": 8794,
            "count": 0
           },
           {
            "bin_start": 8794,
            "bin_end": 10337.8,
            "count": 0
           },
           {
            "bin_start": 10337.8,
            "bin_end": 11881.6,
            "count": 0
           },
           {
            "bin_start": 11881.6,
            "bin_end": 13425.4,
            "count": 0
           },
           {
            "bin_start": 13425.4,
            "bin_end": 14969.199999999999,
            "count": 0
           },
           {
            "bin_start": 14969.199999999999,
            "bin_end": 16513,
            "count": 1
           }
          ]
         }
        },
        {
         "name": "Porcentaje",
         "dtype": "float64",
         "stats": {
          "unique_count": 2,
          "nan_count": 0,
          "min": "6.112121901296338",
          "max": "93.88787809870365",
          "histogram": [
           {
            "bin_start": 6.112121901296338,
            "bin_end": 14.889697521037071,
            "count": 1
           },
           {
            "bin_start": 14.889697521037071,
            "bin_end": 23.6672731407778,
            "count": 0
           },
           {
            "bin_start": 23.6672731407778,
            "bin_end": 32.44484876051854,
            "count": 0
           },
           {
            "bin_start": 32.44484876051854,
            "bin_end": 41.22242438025927,
            "count": 0
           },
           {
            "bin_start": 41.22242438025927,
            "bin_end": 50,
            "count": 0
           },
           {
            "bin_start": 50,
            "bin_end": 58.77757561974074,
            "count": 0
           },
           {
            "bin_start": 58.77757561974074,
            "bin_end": 67.55515123948146,
            "count": 0
           },
           {
            "bin_start": 67.55515123948146,
            "bin_end": 76.33272685922219,
            "count": 0
           },
           {
            "bin_start": 76.33272685922219,
            "bin_end": 85.11030247896292,
            "count": 0
           },
           {
            "bin_start": 85.11030247896292,
            "bin_end": 93.88787809870365,
            "count": 1
           }
          ]
         }
        },
        {
         "name": "_deepnote_index_column",
         "dtype": "int64"
        }
       ],
       "rows_top": [
        {
         "target": 0,
         "Count": 16513,
         "Porcentaje": 93.88787809870365,
         "_deepnote_index_column": 0
        },
        {
         "target": 1,
         "Count": 1075,
         "Porcentaje": 6.112121901296338,
         "_deepnote_index_column": 1
        }
       ],
       "rows_bottom": null
      },
      "text/plain": "   target  Count  Porcentaje\n0     0.0  16513   93.887878\n1     1.0   1075    6.112122",
      "text/html": "<div>\n<style scoped>\n    .dataframe tbody tr th:only-of-type {\n        vertical-align: middle;\n    }\n\n    .dataframe tbody tr th {\n        vertical-align: top;\n    }\n\n    .dataframe thead th {\n        text-align: right;\n    }\n</style>\n<table border=\"1\" class=\"dataframe\">\n  <thead>\n    <tr style=\"text-align: right;\">\n      <th></th>\n      <th>target</th>\n      <th>Count</th>\n      <th>Porcentaje</th>\n    </tr>\n  </thead>\n  <tbody>\n    <tr>\n      <th>0</th>\n      <td>0.0</td>\n      <td>16513</td>\n      <td>93.887878</td>\n    </tr>\n    <tr>\n      <th>1</th>\n      <td>1.0</td>\n      <td>1075</td>\n      <td>6.112122</td>\n    </tr>\n  </tbody>\n</table>\n</div>"
     },
     "metadata": {},
     "output_type": "display_data"
    }
   ]
  },
  {
   "cell_type": "markdown",
   "source": "Se observa que gran parte de los jugadores corresponde a no seleccionados, representando un 93.9% del total de la muestra, solamente un 6.1% son convocados a la selección de su país.",
   "metadata": {
    "tags": [],
    "cell_id": "00016-52450a2f-8076-4b27-ba6c-a53c04a9b31c",
    "deepnote_cell_type": "markdown"
   }
  },
  {
   "cell_type": "markdown",
   "source": "### 1.1.2 Camino a la clasificación [1 punto]\n\n<p align=\"center\">\n  <img src=\"http://vignette3.wikia.nocookie.net/inciclopedia/images/c/cd/Patada_Medel_Messi.gif/revision/latest?cb=20150705215005\" width=\"500\">\n</p>\n\nPara preprocesar el dataset, genere un `ColumnTransformer` en donde especifique las transformaciones que hay que realizar para cada columna (por ejemplo StandarScaler, MinMaxScaler, OneHotEncoder, etc...) para que puedan ser utilizadas correctamente por el modelo predictivo y guardelo en algúna variable.\n\nLuego, comente y justifique las transformaciones elegidas sobre cada una de las variables (para esto utilice el material ```Player_Stats_Report.html``` que viene en el zip del lab), al igual que las transformaciones aplicadas.\n\nHecho lo anterior, **defina al menos 3 pipelines para la clasificación**, en donde utilice el mismo ColumnTransformer definido anteriormente, pero que varie entre cada pipeline los clasificadores. \n\nPara seleccionar los clasificadores más adecuados, utilice la siguiente guía:\n\n<p align=\"center\">\n  <img src=\"https://scikit-learn.org/stable/_static/ml_map.png\" width=\"500\">\n</p>\n\n<br/>\n\nCon ella, comente y justifique cada una de las decisiones tomadas al momento de desarrollar su pipeline.\n\n**To-Do:**\n\n- [ ] Genere un ```ColumnTransformer``` enfocado en preprocesar los datos.\n- [ ] Indicar y Justificar que preprocesamiento utiliza sobre cada columna.\n- [ ] Crear 3 ``pipelines`` con diferentes clasificadores.\n- [ ] Para seleccionar los clasificadores base sus decisiones en la siguiente [guía](https://scikit-learn.org/stable/tutorial/machine_learning_map/index.html)\n- [ ] No entrenar los ``pipelines`` aún.\n\n**Nota:** No es necesario entrenar los clasificadores aún.",
   "metadata": {
    "id": "0F70XPRFpWH9",
    "cell_id": "00019-645127af-999a-40ce-b7a1-aa62bb742b4a",
    "deepnote_cell_type": "markdown"
   }
  },
  {
   "cell_type": "markdown",
   "source": "**Respuesta:**",
   "metadata": {
    "tags": [],
    "cell_id": "00020-4620fe7d-8e00-4c8b-976f-4212347359e6",
    "deepnote_cell_type": "markdown"
   }
  },
  {
   "cell_type": "code",
   "metadata": {
    "tags": [],
    "cell_id": "00019-8d766ed7-eaaa-4ca3-985b-330dc69e0345",
    "deepnote_to_be_reexecuted": false,
    "source_hash": "f4c7ea22",
    "execution_start": 1637352297496,
    "execution_millis": 1,
    "deepnote_cell_type": "code"
   },
   "source": "### Código aquí ###\n\npreprocessing_transformer = ColumnTransformer(\n    transformers=[\n        (\n            \"OneHotEncoder\",\n            OneHotEncoder(drop='first', handle_unknown='ignore'),\n            [\n                \"Club_Position\",\n                'Nationality',\n                \"Preffered_Foot\",\n                \"Skill_Moves\",\n                \"Work_Rate\",\n                \"Weak_foot\"\n            ],\n        ),\n        (\n            \"StandardScaler\",\n            StandardScaler(),\n            [\n                \"Weight\",\n                \"Height\",\n                \"Aggression\",\n                \"Reactions\",\n                \"Vision\",\n                \"Composure\",\n                \"Acceleration\",\n                \"Speed\",\n                \"Balance\",\n                \"Strength\",\n                \"Agility\",\n                \"Jumping\",\n                \"Finishing\",\n                \"Volleys\",\n                \"Penalties\"\n            ],\n        ),\n        (\n            \"MinMaxScaler\",\n            MinMaxScaler(),\n            [\n                \"Ball_Control\",\n                \"Dribbling\",\n                \"Marking\",\n                \"Sliding_Tackle\",\n                \"Standing_Tackle\",\n                \"Interceptions\",\n                \"Crossing\",\n                \"Short_Pass\",\n                \"Long_Pass\",\n                \"Stamina\",\n                \"Heading\",\n                \"Shot_Power\",\n                \"Curve\",\n                \"Freekick_Accuracy\",\n                \"Long_Shots\"\n            ],\n        ),\n    ]\n)\n\n\nlinear_svc_pipe = Pipeline(\n    [\n        (\"preprocesamiento\", preprocessing_transformer),\n        (\"linear_SVM\", SVC(kernel=\"linear\")),\n    ]\n)\n\nsvc_pipe = Pipeline(\n    [(\"preprocesamiento\", preprocessing_transformer), (\"SVM\", SVC(kernel=\"rbf\"))]\n)\n\nknn_pipe = Pipeline(\n    [(\"preprocesamiento\", preprocessing_transformer), (\"KNN\", KNeighborsClassifier())]\n)\n",
   "execution_count": 41,
   "outputs": []
  },
  {
   "cell_type": "markdown",
   "source": " Para la construcción del Pipeline se procede a utilizar *ColumnTransformer* para realizar el preprocesamiento, así como los modelos de Support Vector Machine (con kernel lineal y rbf) y Vecinos Más Cercanos (KNN).\n\n El preprocesamiento utiliza 3 transformaciones distintas, dependiendo de la características de los atributos, para las variables categóricas se realiza la transformación con *OneHotEncoder*, mientras que para las variables numéricas se utiliza *StandardScaler* o *MinMaxScalar* dependiendo si el atributo tiene posee o no una distribución normal, respectivamente.\n\n Los clasificadores son escogidos a través de la guía, siguiendo el flujo para predecir una categoría (clasificación binaria) con data etiquetada y un número de muestras menor a 100 mil.",
   "metadata": {
    "tags": [],
    "cell_id": "00020-18ca8506-6cb3-4278-bb5f-ed74d95b0d9a",
    "deepnote_cell_type": "markdown"
   }
  },
  {
   "cell_type": "markdown",
   "source": "### 1.1.3 Entrenemos los pipelines [1 punto]\n\n<p align=\"center\">\n  <img src=\"https://i.gifer.com/7Cc8.gif\" width=\"350\">\n</p>\n",
   "metadata": {
    "id": "MpKq6oO3vCNL",
    "cell_id": "00022-c2604b33-63e0-4f34-88cf-019afa3b2225",
    "deepnote_cell_type": "markdown"
   }
  },
  {
   "cell_type": "markdown",
   "source": "Ahora, entrene los `pipeline` generados en los pasos anteriores. Para esto, primero separe los datos de entrenamiento en un conjunto de entrenamiento y de prueba  (la proporción queda a su juicio).\n\nEn este paso, seleccione los ejemplos de forma aleatoria e intente mantener la distribución original de labels de cada clase en los conjuntos de prueba/entrenamiento. (vea la documentación de `train_test_split`).\n\n\nLuego, entrene los pipelines\n\nUna vez entrenado su modelo, evalue su rendimiento a través de diferentes métricas, comentando que significa cada uno de los valores obtenidos. Puede usar la función `classification_report` para corroborar sus resultados.\n\n- ¿Qué implican los valores de accuracy, precisión y recall de la clase positiva (la que indica que un jugador es seleccionado nacional)?\n- ¿Podrían mejorarse los resultados?, ¿Cómo?\n- ¿Influye la cantidad de ejemplos por clase?\n\n**To-Do**:\n\n- [ ] Separar el conjunto de datos en entrenamiento y de prueba.\n- [ ] Entrenar los `pipelines`.\n- [ ] Utilizar las métricas para evaluar los modelos generados.\n",
   "metadata": {
    "id": "wE_1aZaIvOeN",
    "cell_id": "00023-664600ec-8c7d-4e9a-8673-edd18d5145a3",
    "deepnote_cell_type": "markdown"
   }
  },
  {
   "cell_type": "markdown",
   "source": "**Respuesta:**",
   "metadata": {
    "tags": [],
    "cell_id": "00024-b842d4aa-fb47-4513-8649-e942f6094140",
    "deepnote_cell_type": "markdown"
   }
  },
  {
   "cell_type": "code",
   "metadata": {
    "tags": [],
    "cell_id": "00023-f6cdd4bf-3786-444f-a249-62e47133e558",
    "deepnote_to_be_reexecuted": false,
    "source_hash": "e4596f1",
    "execution_start": 1637352332963,
    "execution_millis": 59629,
    "deepnote_output_heights": [
     611,
     192
    ],
    "deepnote_cell_type": "code"
   },
   "source": "### Código aquí ###\n\ndf_y = df_players[\"target\"]\ndf_X = df_players.drop([\"Name\", \"National_Position\", \"target\"], axis=1)\n\nX_train, X_test, y_train, y_test = train_test_split(\n    df_X, df_y, test_size=0.33, random_state=42, stratify=df_y\n)\n\nlinear_svc = linear_svc_pipe.fit(X_train, y_train)\ny_pred = linear_svc.predict(X_test)\nprint('Resultados Linear SVC:')\nprint(classification_report(y_pred, y_test))\n\nrbf_svc = svc_pipe.fit(X_train, y_train)\ny_pred = rbf_svc.predict(X_test)\nprint('Resultados RBF SVC')\nprint(classification_report(y_pred, y_test))\n\n\nknn = knn_pipe.fit(X_train, y_train)\ny_pred = knn.predict(X_test)\nprint('Resultados KNN')\nprint(classification_report(y_pred, y_test))\n\n",
   "execution_count": 43,
   "outputs": [
    {
     "name": "stderr",
     "text": "/shared-libs/python3.7/py/lib/python3.7/site-packages/sklearn/preprocessing/_encoders.py:174: UserWarning:\n\nFound unknown categories in columns [1] during transform. These unknown categories will be encoded as all zeros\n\nResultados Linear SVC:\n              precision    recall  f1-score   support\n\n           0       0.99      0.95      0.97      5681\n           1       0.24      0.69      0.36       124\n\n    accuracy                           0.95      5805\n   macro avg       0.62      0.82      0.67      5805\nweighted avg       0.98      0.95      0.96      5805\n\n/shared-libs/python3.7/py/lib/python3.7/site-packages/sklearn/preprocessing/_encoders.py:174: UserWarning:\n\nFound unknown categories in columns [1] during transform. These unknown categories will be encoded as all zeros\n\nResultados RBF SVC\n              precision    recall  f1-score   support\n\n           0       1.00      0.94      0.97      5804\n           1       0.00      1.00      0.01         1\n\n    accuracy                           0.94      5805\n   macro avg       0.50      0.97      0.49      5805\nweighted avg       1.00      0.94      0.97      5805\n\n/shared-libs/python3.7/py/lib/python3.7/site-packages/sklearn/preprocessing/_encoders.py:174: UserWarning:\n\nFound unknown categories in columns [1] during transform. These unknown categories will be encoded as all zeros\n\nResultados KNN\n              precision    recall  f1-score   support\n\n           0       0.99      0.94      0.97      5750\n           1       0.08      0.49      0.13        55\n\n    accuracy                           0.94      5805\n   macro avg       0.54      0.72      0.55      5805\nweighted avg       0.99      0.94      0.96      5805\n\n",
     "output_type": "stream"
    }
   ]
  },
  {
   "cell_type": "markdown",
   "source": "**Respuesta**:\n\n```\nSe observa que los resultado para los clasificadores son malos, si bien la precision en la clase 0 es muy buena, se debe a que las clases están muy desbalanceadas, entonces los modelos predicen casi en un 100% o en un 100% clase 0, y entonces los resultados en esa clase son muy buenos, y en la clase 1 son muy malos. \nEs posible mejorar los resultados realizando un entrenamiento con pesos, donde los pesos estén en una proporcion similar a la proporcion de clases, o también se pueden hacer subsamples y oversamples de las clases 0 y 1 respectivamente, para asi tener un mejor balance de clases.\n```",
   "metadata": {
    "id": "QgSeo0aIx9ow",
    "cell_id": "00028-42eb3af5-2635-48e6-9049-736e2d4b3306",
    "deepnote_cell_type": "markdown"
   }
  },
  {
   "cell_type": "markdown",
   "source": "## 1.2 Predicción de posiciones de jugadores [2 puntos]\n\n<p align=\"center\">\n  <img src=\"https://pbs.twimg.com/media/E1rfA1aWEAYU6Ny.jpg\" width=\"500\">\n</p>",
   "metadata": {
    "id": "ix97Ho4uOARH",
    "cell_id": "00029-25d6c3d3-9c25-49f0-a27b-beface2dd794",
    "deepnote_cell_type": "markdown"
   }
  },
  {
   "cell_type": "markdown",
   "source": "En una nueva jornada de desmesuradas transacciones deportivas, Renacín escuchó a sus colegas discutir acerca de que el precio de cada jugador depende en gran medida de la posición en la cancha en la que juega. Y además, que hay bastantes jugadores nuevos que no tienen muy claro en que posición verdaderamente brillarían, por lo que actualmente puede que actualmente estén jugando en posiciones sub-optimas. \n\nViendo que los resultados del primer análisis no son tan esperanzadores, el corporeo los comanda a cambiar su tarea: ahora, les solicita que construyan un clasificador enfocado en predecir la mejor posición de los jugadores en la cancha según sus características. \n\nPara lograr esto, primero, les pide que etiqueten de la siguiente manera los valores que aparecen en el atributo ```Club_Position```, pidiendo que agrupen los valores en los siguientes grupos:\n\n**Nota**:  Renacín les recalca que **no deben utilizar los valores ```Sub``` y ```Res``` de esta columna**.\n\n```python\nataque = ['ST', 'CF'] \ncentral_ataque = ['RW', 'CAM', 'LW'] \ncentral = ['RM', 'CM', 'LM'] \ncentral_defensa = ['RWB', 'CDM', 'LWB']\ndefensa = ['RB', 'CB', 'LB']\narquero = ['GK']\n```\n\nCabe señalar que al igual como lo realizado con la clasificación binaria, deberá justificar en base a la [guía](https://scikit-learn.org/stable/tutorial/machine_learning_map/index.html) la elección del clasificador y se deben comentar los resultados obtenidos en la clasificación.\n\n**To-Do**:\n\n- [ ] Aplique las etiquetas descritas anteriormente en cada uno de los valores señalados en esta sección.\n- [ ] Cuente cuantos por clase quedan.\n- [ ] Entrene el nuevo pipeline y ejecute una evaluación de este.  \n- [ ] Comente los resultados obtenidos.",
   "metadata": {
    "id": "oHAwZfV8hMsk",
    "cell_id": "00030-38a30ede-8d53-4a7c-930b-bfeaa4d499ff",
    "deepnote_cell_type": "markdown"
   }
  },
  {
   "cell_type": "markdown",
   "source": "**Respuesta:**",
   "metadata": {
    "tags": [],
    "cell_id": "00031-e53db99a-2bcc-474a-92b1-1f55458afc1d",
    "deepnote_cell_type": "markdown"
   }
  },
  {
   "cell_type": "code",
   "metadata": {
    "tags": [],
    "cell_id": "00028-f8dd9230-e314-42be-a0f8-2c295dd45e54",
    "deepnote_to_be_reexecuted": false,
    "source_hash": "8661e437",
    "execution_start": 1637354790737,
    "execution_millis": 619,
    "deepnote_output_heights": [
     null,
     527
    ],
    "deepnote_cell_type": "code"
   },
   "source": "### Código aquí ###\n\ncp = {\n    \"ST\": \"ataque\",\n    \"CF\": \"ataque\",\n    \"RW\": \"central_ataque\",\n    \"CAM\": \"central_ataque\",\n    \"LW\": \"central_ataque\",\n    \"RM\": \"central\",\n    \"CM\": \"central\",\n    \"LM\": \"central\",\n    \"RWB\": \"central_defensa\",\n    \"CDM\": \"central_defensa\",\n    \"LWB\": \"central_defensa\",\n    \"RB\": \"defensa\",\n    \"CB\": \"defensa\",\n    \"LB\": \"defensa\",\n    \"GK\": \"arquero\",\n}\n\ndf_positions = df_players.copy()\ndf_positions[\"Position\"] = df_positions[\"Club_Position\"].map(cp).astype('category')\ndf_plot = (\n    df_positions.groupby(\"Position\").size().reset_index().rename({0: \"Count\"}, axis=1)\n)\n\ndisplay(df_plot)\n\n# fig = px.bar(df_plot, x=\"Position\", y=\"Count\")\n# fig.show()\n\n\ndf_positions = df_positions.dropna(subset = ['Position']).drop(['National_Position', 'Club_Position', 'target'], axis = 1)\ndf_positions",
   "execution_count": 48,
   "outputs": [
    {
     "data": {
      "application/vnd.deepnote.dataframe.v2+json": {
       "row_count": 6,
       "column_count": 2,
       "columns": [
        {
         "name": "Position",
         "dtype": "category",
         "stats": {
          "unique_count": 6,
          "nan_count": 0,
          "categories": [
           {
            "name": "arquero",
            "count": 1
           },
           {
            "name": "ataque",
            "count": 1
           },
           {
            "name": "4 others",
            "count": 4
           }
          ]
         }
        },
        {
         "name": "Count",
         "dtype": "int64",
         "stats": {
          "unique_count": 6,
          "nan_count": 0,
          "min": "209",
          "max": "1180",
          "histogram": [
           {
            "bin_start": 209,
            "bin_end": 306.1,
            "count": 1
           },
           {
            "bin_start": 306.1,
            "bin_end": 403.2,
            "count": 0
           },
           {
            "bin_start": 403.2,
            "bin_end": 500.29999999999995,
            "count": 1
           },
           {
            "bin_start": 500.29999999999995,
            "bin_end": 597.4,
            "count": 1
           },
           {
            "bin_start": 597.4,
            "bin_end": 694.5,
            "count": 1
           },
           {
            "bin_start": 694.5,
            "bin_end": 791.5999999999999,
            "count": 0
           },
           {
            "bin_start": 791.5999999999999,
            "bin_end": 888.6999999999999,
            "count": 0
           },
           {
            "bin_start": 888.6999999999999,
            "bin_end": 985.8,
            "count": 1
           },
           {
            "bin_start": 985.8,
            "bin_end": 1082.9,
            "count": 0
           },
           {
            "bin_start": 1082.9,
            "bin_end": 1180,
            "count": 1
           }
          ]
         }
        },
        {
         "name": "_deepnote_index_column",
         "dtype": "int64"
        }
       ],
       "rows_top": [
        {
         "Position": "arquero",
         "Count": 632,
         "_deepnote_index_column": 0
        },
        {
         "Position": "ataque",
         "Count": 430,
         "_deepnote_index_column": 1
        },
        {
         "Position": "central",
         "Count": 907,
         "_deepnote_index_column": 2
        },
        {
         "Position": "central_ataque",
         "Count": 581,
         "_deepnote_index_column": 3
        },
        {
         "Position": "central_defensa",
         "Count": 209,
         "_deepnote_index_column": 4
        },
        {
         "Position": "defensa",
         "Count": 1180,
         "_deepnote_index_column": 5
        }
       ],
       "rows_bottom": null
      },
      "text/plain": "          Position  Count\n0          arquero    632\n1           ataque    430\n2          central    907\n3   central_ataque    581\n4  central_defensa    209\n5          defensa   1180",
      "text/html": "<div>\n<style scoped>\n    .dataframe tbody tr th:only-of-type {\n        vertical-align: middle;\n    }\n\n    .dataframe tbody tr th {\n        vertical-align: top;\n    }\n\n    .dataframe thead th {\n        text-align: right;\n    }\n</style>\n<table border=\"1\" class=\"dataframe\">\n  <thead>\n    <tr style=\"text-align: right;\">\n      <th></th>\n      <th>Position</th>\n      <th>Count</th>\n    </tr>\n  </thead>\n  <tbody>\n    <tr>\n      <th>0</th>\n      <td>arquero</td>\n      <td>632</td>\n    </tr>\n    <tr>\n      <th>1</th>\n      <td>ataque</td>\n      <td>430</td>\n    </tr>\n    <tr>\n      <th>2</th>\n      <td>central</td>\n      <td>907</td>\n    </tr>\n    <tr>\n      <th>3</th>\n      <td>central_ataque</td>\n      <td>581</td>\n    </tr>\n    <tr>\n      <th>4</th>\n      <td>central_defensa</td>\n      <td>209</td>\n    </tr>\n    <tr>\n      <th>5</th>\n      <td>defensa</td>\n      <td>1180</td>\n    </tr>\n  </tbody>\n</table>\n</div>"
     },
     "metadata": {},
     "output_type": "display_data"
    },
    {
     "output_type": "execute_result",
     "execution_count": 48,
     "data": {
      "application/vnd.deepnote.dataframe.v2+json": {
       "row_count": 3939,
       "column_count": 38,
       "columns": [
        {
         "name": "Name",
         "dtype": "object",
         "stats": {
          "unique_count": 3923,
          "nan_count": 0,
          "categories": [
           {
            "name": "Juanfran",
            "count": 2
           },
           {
            "name": "Rafinha",
            "count": 2
           },
           {
            "name": "3921 others",
            "count": 3935
           }
          ]
         }
        },
        {
         "name": "Nationality",
         "dtype": "object",
         "stats": {
          "unique_count": 122,
          "nan_count": 0,
          "categories": [
           {
            "name": "England",
            "count": 310
           },
           {
            "name": "Argentina",
            "count": 251
           },
           {
            "name": "120 others",
            "count": 3378
           }
          ]
         }
        },
        {
         "name": "Height",
         "dtype": "int64",
         "stats": {
          "unique_count": 46,
          "nan_count": 0,
          "min": "158",
          "max": "203",
          "histogram": [
           {
            "bin_start": 158,
            "bin_end": 162.5,
            "count": 12
           },
           {
            "bin_start": 162.5,
            "bin_end": 167,
            "count": 48
           },
           {
            "bin_start": 167,
            "bin_end": 171.5,
            "count": 295
           },
           {
            "bin_start": 171.5,
            "bin_end": 176,
            "count": 655
           },
           {
            "bin_start": 176,
            "bin_end": 180.5,
            "count": 1100
           },
           {
            "bin_start": 180.5,
            "bin_end": 185,
            "count": 740
           },
           {
            "bin_start": 185,
            "bin_end": 189.5,
            "count": 704
           },
           {
            "bin_start": 189.5,
            "bin_end": 194,
            "count": 263
           },
           {
            "bin_start": 194,
            "bin_end": 198.5,
            "count": 108
           },
           {
            "bin_start": 198.5,
            "bin_end": 203,
            "count": 14
           }
          ]
         }
        },
        {
         "name": "Weight",
         "dtype": "int64",
         "stats": {
          "unique_count": 49,
          "nan_count": 0,
          "min": "50",
          "max": "110",
          "histogram": [
           {
            "bin_start": 50,
            "bin_end": 56,
            "count": 2
           },
           {
            "bin_start": 56,
            "bin_end": 62,
            "count": 61
           },
           {
            "bin_start": 62,
            "bin_end": 68,
            "count": 453
           },
           {
            "bin_start": 68,
            "bin_end": 74,
            "count": 1205
           },
           {
            "bin_start": 74,
            "bin_end": 80,
            "count": 1209
           },
           {
            "bin_start": 80,
            "bin_end": 86,
            "count": 697
           },
           {
            "bin_start": 86,
            "bin_end": 92,
            "count": 240
           },
           {
            "bin_start": 92,
            "bin_end": 98,
            "count": 65
           },
           {
            "bin_start": 98,
            "bin_end": 104,
            "count": 5
           },
           {
            "bin_start": 104,
            "bin_end": 110,
            "count": 2
           }
          ]
         }
        },
        {
         "name": "Preffered_Foot",
         "dtype": "object",
         "stats": {
          "unique_count": 2,
          "nan_count": 0,
          "categories": [
           {
            "name": "Right",
            "count": 2814
           },
           {
            "name": "Left",
            "count": 1125
           }
          ]
         }
        },
        {
         "name": "Age",
         "dtype": "int64",
         "stats": {
          "unique_count": 26,
          "nan_count": 0,
          "min": "17",
          "max": "44",
          "histogram": [
           {
            "bin_start": 17,
            "bin_end": 19.7,
            "count": 80
           },
           {
            "bin_start": 19.7,
            "bin_end": 22.4,
            "count": 517
           },
           {
            "bin_start": 22.4,
            "bin_end": 25.1,
            "count": 989
           },
           {
            "bin_start": 25.1,
            "bin_end": 27.8,
            "count": 675
           },
           {
            "bin_start": 27.8,
            "bin_end": 30.5,
            "count": 900
           },
           {
            "bin_start": 30.5,
            "bin_end": 33.2,
            "count": 517
           },
           {
            "bin_start": 33.2,
            "bin_end": 35.900000000000006,
            "count": 162
           },
           {
            "bin_start": 35.900000000000006,
            "bin_end": 38.6,
            "count": 86
           },
           {
            "bin_start": 38.6,
            "bin_end": 41.3,
            "count": 12
           },
           {
            "bin_start": 41.3,
            "bin_end": 44,
            "count": 1
           }
          ]
         }
        },
        {
         "name": "Work_Rate",
         "dtype": "object",
         "stats": {
          "unique_count": 9,
          "nan_count": 0,
          "categories": [
           {
            "name": "Medium / Medium",
            "count": 1991
           },
           {
            "name": "High / Medium",
            "count": 971
           },
           {
            "name": "7 others",
            "count": 977
           }
          ]
         }
        },
        {
         "name": "Weak_foot",
         "dtype": "int64",
         "stats": {
          "unique_count": 5,
          "nan_count": 0,
          "min": "1",
          "max": "5",
          "histogram": [
           {
            "bin_start": 1,
            "bin_end": 1.4,
            "count": 35
           },
           {
            "bin_start": 1.4,
            "bin_end": 1.8,
            "count": 0
           },
           {
            "bin_start": 1.8,
            "bin_end": 2.2,
            "count": 803
           },
           {
            "bin_start": 2.2,
            "bin_end": 2.6,
            "count": 0
           },
           {
            "bin_start": 2.6,
            "bin_end": 3,
            "count": 0
           },
           {
            "bin_start": 3,
            "bin_end": 3.4000000000000004,
            "count": 2271
           },
           {
            "bin_start": 3.4000000000000004,
            "bin_end": 3.8000000000000003,
            "count": 0
           },
           {
            "bin_start": 3.8000000000000003,
            "bin_end": 4.2,
            "count": 766
           },
           {
            "bin_start": 4.2,
            "bin_end": 4.6,
            "count": 0
           },
           {
            "bin_start": 4.6,
            "bin_end": 5,
            "count": 64
           }
          ]
         }
        },
        {
         "name": "Skill_Moves",
         "dtype": "int64",
         "stats": {
          "unique_count": 5,
          "nan_count": 0,
          "min": "1",
          "max": "5",
          "histogram": [
           {
            "bin_start": 1,
            "bin_end": 1.4,
            "count": 632
           },
           {
            "bin_start": 1.4,
            "bin_end": 1.8,
            "count": 0
           },
           {
            "bin_start": 1.8,
            "bin_end": 2.2,
            "count": 1545
           },
           {
            "bin_start": 2.2,
            "bin_end": 2.6,
            "count": 0
           },
           {
            "bin_start": 2.6,
            "bin_end": 3,
            "count": 0
           },
           {
            "bin_start": 3,
            "bin_end": 3.4000000000000004,
            "count": 1393
           },
           {
            "bin_start": 3.4000000000000004,
            "bin_end": 3.8000000000000003,
            "count": 0
           },
           {
            "bin_start": 3.8000000000000003,
            "bin_end": 4.2,
            "count": 352
           },
           {
            "bin_start": 4.2,
            "bin_end": 4.6,
            "count": 0
           },
           {
            "bin_start": 4.6,
            "bin_end": 5,
            "count": 17
           }
          ]
         }
        },
        {
         "name": "Ball_Control",
         "dtype": "int64",
         "stats": {
          "unique_count": 87,
          "nan_count": 0,
          "min": "5",
          "max": "95",
          "histogram": [
           {
            "bin_start": 5,
            "bin_end": 14,
            "count": 52
           },
           {
            "bin_start": 14,
            "bin_end": 23,
            "count": 356
           },
           {
            "bin_start": 23,
            "bin_end": 32,
            "count": 189
           },
           {
            "bin_start": 32,
            "bin_end": 41,
            "count": 47
           },
           {
            "bin_start": 41,
            "bin_end": 50,
            "count": 64
           },
           {
            "bin_start": 50,
            "bin_end": 59,
            "count": 346
           },
           {
            "bin_start": 59,
            "bin_end": 68,
            "count": 1224
           },
           {
            "bin_start": 68,
            "bin_end": 77,
            "count": 1235
           },
           {
            "bin_start": 77,
            "bin_end": 86,
            "count": 380
           },
           {
            "bin_start": 86,
            "bin_end": 95,
            "count": 46
           }
          ]
         }
        },
        {
         "name": "Dribbling",
         "dtype": "int64",
         "stats": {
          "unique_count": 90,
          "nan_count": 0,
          "min": "5",
          "max": "97",
          "histogram": [
           {
            "bin_start": 5,
            "bin_end": 14.2,
            "count": 347
           },
           {
            "bin_start": 14.2,
            "bin_end": 23.4,
            "count": 264
           },
           {
            "bin_start": 23.4,
            "bin_end": 32.599999999999994,
            "count": 39
           },
           {
            "bin_start": 32.599999999999994,
            "bin_end": 41.8,
            "count": 43
           },
           {
            "bin_start": 41.8,
            "bin_end": 51,
            "count": 128
           },
           {
            "bin_start": 51,
            "bin_end": 60.199999999999996,
            "count": 582
           },
           {
            "bin_start": 60.199999999999996,
            "bin_end": 69.39999999999999,
            "count": 1264
           },
           {
            "bin_start": 69.39999999999999,
            "bin_end": 78.6,
            "count": 980
           },
           {
            "bin_start": 78.6,
            "bin_end": 87.8,
            "count": 268
           },
           {
            "bin_start": 87.8,
            "bin_end": 97,
            "count": 24
           }
          ]
         }
        },
        {
         "name": "Marking",
         "dtype": "int64",
         "stats": {
          "unique_count": 84,
          "nan_count": 0,
          "min": "4",
          "max": "87",
          "histogram": [
           {
            "bin_start": 4,
            "bin_end": 12.3,
            "count": 317
           },
           {
            "bin_start": 12.3,
            "bin_end": 20.6,
            "count": 700
           },
           {
            "bin_start": 20.6,
            "bin_end": 28.900000000000002,
            "count": 454
           },
           {
            "bin_start": 28.900000000000002,
            "bin_end": 37.2,
            "count": 398
           },
           {
            "bin_start": 37.2,
            "bin_end": 45.5,
            "count": 248
           },
           {
            "bin_start": 45.5,
            "bin_end": 53.800000000000004,
            "count": 247
           },
           {
            "bin_start": 53.800000000000004,
            "bin_end": 62.10000000000001,
            "count": 548
           },
           {
            "bin_start": 62.10000000000001,
            "bin_end": 70.4,
            "count": 677
           },
           {
            "bin_start": 70.4,
            "bin_end": 78.7,
            "count": 307
           },
           {
            "bin_start": 78.7,
            "bin_end": 87,
            "count": 43
           }
          ]
         }
        },
        {
         "name": "Sliding_Tackle",
         "dtype": "int64",
         "stats": {
          "unique_count": 83,
          "nan_count": 0,
          "min": "6",
          "max": "95",
          "histogram": [
           {
            "bin_start": 6,
            "bin_end": 14.9,
            "count": 461
           },
           {
            "bin_start": 14.9,
            "bin_end": 23.8,
            "count": 666
           },
           {
            "bin_start": 23.8,
            "bin_end": 32.7,
            "count": 464
           },
           {
            "bin_start": 32.7,
            "bin_end": 41.6,
            "count": 349
           },
           {
            "bin_start": 41.6,
            "bin_end": 50.5,
            "count": 253
           },
           {
            "bin_start": 50.5,
            "bin_end": 59.400000000000006,
            "count": 374
           },
           {
            "bin_start": 59.400000000000006,
            "bin_end": 68.30000000000001,
            "count": 754
           },
           {
            "bin_start": 68.30000000000001,
            "bin_end": 77.2,
            "count": 512
           },
           {
            "bin_start": 77.2,
            "bin_end": 86.10000000000001,
            "count": 104
           },
           {
            "bin_start": 86.10000000000001,
            "bin_end": 95,
            "count": 2
           }
          ]
         }
        },
        {
         "name": "Standing_Tackle",
         "dtype": "int64",
         "stats": {
          "unique_count": 83,
          "nan_count": 0,
          "min": "7",
          "max": "89",
          "histogram": [
           {
            "bin_start": 7,
            "bin_end": 15.2,
            "count": 527
           },
           {
            "bin_start": 15.2,
            "bin_end": 23.4,
            "count": 473
           },
           {
            "bin_start": 23.4,
            "bin_end": 31.599999999999998,
            "count": 376
           },
           {
            "bin_start": 31.599999999999998,
            "bin_end": 39.8,
            "count": 374
           },
           {
            "bin_start": 39.8,
            "bin_end": 48,
            "count": 265
           },
           {
            "bin_start": 48,
            "bin_end": 56.199999999999996,
            "count": 295
           },
           {
            "bin_start": 56.199999999999996,
            "bin_end": 64.39999999999999,
            "count": 536
           },
           {
            "bin_start": 64.39999999999999,
            "bin_end": 72.6,
            "count": 739
           },
           {
            "bin_start": 72.6,
            "bin_end": 80.8,
            "count": 309
           },
           {
            "bin_start": 80.8,
            "bin_end": 89,
            "count": 45
           }
          ]
         }
        },
        {
         "name": "Aggression",
         "dtype": "int64",
         "stats": {
          "unique_count": 85,
          "nan_count": 0,
          "min": "2",
          "max": "96",
          "histogram": [
           {
            "bin_start": 2,
            "bin_end": 11.4,
            "count": 3
           },
           {
            "bin_start": 11.4,
            "bin_end": 20.8,
            "count": 99
           },
           {
            "bin_start": 20.8,
            "bin_end": 30.200000000000003,
            "count": 314
           },
           {
            "bin_start": 30.200000000000003,
            "bin_end": 39.6,
            "count": 393
           },
           {
            "bin_start": 39.6,
            "bin_end": 49,
            "count": 467
           },
           {
            "bin_start": 49,
            "bin_end": 58.400000000000006,
            "count": 679
           },
           {
            "bin_start": 58.400000000000006,
            "bin_end": 67.8,
            "count": 837
           },
           {
            "bin_start": 67.8,
            "bin_end": 77.2,
            "count": 846
           },
           {
            "bin_start": 77.2,
            "bin_end": 86.60000000000001,
            "count": 259
           },
           {
            "bin_start": 86.60000000000001,
            "bin_end": 96,
            "count": 42
           }
          ]
         }
        },
        {
         "name": "Reactions",
         "dtype": "int64",
         "stats": {
          "unique_count": 60,
          "nan_count": 0,
          "min": "33",
          "max": "96",
          "histogram": [
           {
            "bin_start": 33,
            "bin_end": 39.3,
            "count": 9
           },
           {
            "bin_start": 39.3,
            "bin_end": 45.6,
            "count": 42
           },
           {
            "bin_start": 45.6,
            "bin_end": 51.9,
            "count": 163
           },
           {
            "bin_start": 51.9,
            "bin_end": 58.2,
            "count": 603
           },
           {
            "bin_start": 58.2,
            "bin_end": 64.5,
            "count": 930
           },
           {
            "bin_start": 64.5,
            "bin_end": 70.8,
            "count": 1091
           },
           {
            "bin_start": 70.8,
            "bin_end": 77.1,
            "count": 827
           },
           {
            "bin_start": 77.1,
            "bin_end": 83.4,
            "count": 222
           },
           {
            "bin_start": 83.4,
            "bin_end": 89.69999999999999,
            "count": 47
           },
           {
            "bin_start": 89.69999999999999,
            "bin_end": 96,
            "count": 5
           }
          ]
         }
        },
        {
         "name": "Interceptions",
         "dtype": "int64",
         "stats": {
          "unique_count": 84,
          "nan_count": 0,
          "min": "5",
          "max": "93",
          "histogram": [
           {
            "bin_start": 5,
            "bin_end": 13.8,
            "count": 119
           },
           {
            "bin_start": 13.8,
            "bin_end": 22.6,
            "count": 633
           },
           {
            "bin_start": 22.6,
            "bin_end": 31.400000000000002,
            "count": 587
           },
           {
            "bin_start": 31.400000000000002,
            "bin_end": 40.2,
            "count": 378
           },
           {
            "bin_start": 40.2,
            "bin_end": 49,
            "count": 312
           },
           {
            "bin_start": 49,
            "bin_end": 57.800000000000004,
            "count": 449
           },
           {
            "bin_start": 57.800000000000004,
            "bin_end": 66.60000000000001,
            "count": 757
           },
           {
            "bin_start": 66.60000000000001,
            "bin_end": 75.4,
            "count": 552
           },
           {
            "bin_start": 75.4,
            "bin_end": 84.2,
            "count": 137
           },
           {
            "bin_start": 84.2,
            "bin_end": 93,
            "count": 15
           }
          ]
         }
        },
        {
         "name": "Vision",
         "dtype": "int64",
         "stats": {
          "unique_count": 83,
          "nan_count": 0,
          "min": "10",
          "max": "94",
          "histogram": [
           {
            "bin_start": 10,
            "bin_end": 18.4,
            "count": 48
           },
           {
            "bin_start": 18.4,
            "bin_end": 26.8,
            "count": 68
           },
           {
            "bin_start": 26.8,
            "bin_end": 35.2,
            "count": 249
           },
           {
            "bin_start": 35.2,
            "bin_end": 43.6,
            "count": 351
           },
           {
            "bin_start": 43.6,
            "bin_end": 52,
            "count": 554
           },
           {
            "bin_start": 52,
            "bin_end": 60.400000000000006,
            "count": 993
           },
           {
            "bin_start": 60.400000000000006,
            "bin_end": 68.80000000000001,
            "count": 915
           },
           {
            "bin_start": 68.80000000000001,
            "bin_end": 77.2,
            "count": 607
           },
           {
            "bin_start": 77.2,
            "bin_end": 85.60000000000001,
            "count": 140
           },
           {
            "bin_start": 85.60000000000001,
            "bin_end": 94,
            "count": 14
           }
          ]
         }
        },
        {
         "name": "Composure",
         "dtype": "int64",
         "stats": {
          "unique_count": 81,
          "nan_count": 0,
          "min": "12",
          "max": "94",
          "histogram": [
           {
            "bin_start": 12,
            "bin_end": 20.2,
            "count": 25
           },
           {
            "bin_start": 20.2,
            "bin_end": 28.4,
            "count": 137
           },
           {
            "bin_start": 28.4,
            "bin_end": 36.599999999999994,
            "count": 168
           },
           {
            "bin_start": 36.599999999999994,
            "bin_end": 44.8,
            "count": 299
           },
           {
            "bin_start": 44.8,
            "bin_end": 53,
            "count": 527
           },
           {
            "bin_start": 53,
            "bin_end": 61.199999999999996,
            "count": 963
           },
           {
            "bin_start": 61.199999999999996,
            "bin_end": 69.39999999999999,
            "count": 1018
           },
           {
            "bin_start": 69.39999999999999,
            "bin_end": 77.6,
            "count": 602
           },
           {
            "bin_start": 77.6,
            "bin_end": 85.8,
            "count": 180
           },
           {
            "bin_start": 85.8,
            "bin_end": 94,
            "count": 20
           }
          ]
         }
        },
        {
         "name": "Crossing",
         "dtype": "int64",
         "stats": {
          "unique_count": 85,
          "nan_count": 0,
          "min": "6",
          "max": "91",
          "histogram": [
           {
            "bin_start": 6,
            "bin_end": 14.5,
            "count": 358
           },
           {
            "bin_start": 14.5,
            "bin_end": 23,
            "count": 257
           },
           {
            "bin_start": 23,
            "bin_end": 31.5,
            "count": 71
           },
           {
            "bin_start": 31.5,
            "bin_end": 40,
            "count": 113
           },
           {
            "bin_start": 40,
            "bin_end": 48.5,
            "count": 209
           },
           {
            "bin_start": 48.5,
            "bin_end": 57,
            "count": 440
           },
           {
            "bin_start": 57,
            "bin_end": 65.5,
            "count": 1053
           },
           {
            "bin_start": 65.5,
            "bin_end": 74,
            "count": 948
           },
           {
            "bin_start": 74,
            "bin_end": 82.5,
            "count": 447
           },
           {
            "bin_start": 82.5,
            "bin_end": 91,
            "count": 43
           }
          ]
         }
        },
        {
         "name": "Short_Pass",
         "dtype": "int64",
         "stats": {
          "unique_count": 80,
          "nan_count": 0,
          "min": "11",
          "max": "92",
          "histogram": [
           {
            "bin_start": 11,
            "bin_end": 19.1,
            "count": 75
           },
           {
            "bin_start": 19.1,
            "bin_end": 27.2,
            "count": 240
           },
           {
            "bin_start": 27.2,
            "bin_end": 35.3,
            "count": 230
           },
           {
            "bin_start": 35.3,
            "bin_end": 43.4,
            "count": 118
           },
           {
            "bin_start": 43.4,
            "bin_end": 51.5,
            "count": 139
           },
           {
            "bin_start": 51.5,
            "bin_end": 59.599999999999994,
            "count": 564
           },
           {
            "bin_start": 59.599999999999994,
            "bin_end": 67.69999999999999,
            "count": 1254
           },
           {
            "bin_start": 67.69999999999999,
            "bin_end": 75.8,
            "count": 981
           },
           {
            "bin_start": 75.8,
            "bin_end": 83.89999999999999,
            "count": 302
           },
           {
            "bin_start": 83.89999999999999,
            "bin_end": 92,
            "count": 36
           }
          ]
         }
        },
        {
         "name": "Long_Pass",
         "dtype": "int64",
         "stats": {
          "unique_count": 81,
          "nan_count": 0,
          "min": "9",
          "max": "92",
          "histogram": [
           {
            "bin_start": 9,
            "bin_end": 17.3,
            "count": 73
           },
           {
            "bin_start": 17.3,
            "bin_end": 25.6,
            "count": 280
           },
           {
            "bin_start": 25.6,
            "bin_end": 33.900000000000006,
            "count": 233
           },
           {
            "bin_start": 33.900000000000006,
            "bin_end": 42.2,
            "count": 300
           },
           {
            "bin_start": 42.2,
            "bin_end": 50.5,
            "count": 395
           },
           {
            "bin_start": 50.5,
            "bin_end": 58.800000000000004,
            "count": 816
           },
           {
            "bin_start": 58.800000000000004,
            "bin_end": 67.10000000000001,
            "count": 1150
           },
           {
            "bin_start": 67.10000000000001,
            "bin_end": 75.4,
            "count": 551
           },
           {
            "bin_start": 75.4,
            "bin_end": 83.7,
            "count": 125
           },
           {
            "bin_start": 83.7,
            "bin_end": 92,
            "count": 16
           }
          ]
         }
        },
        {
         "name": "Acceleration",
         "dtype": "int64",
         "stats": {
          "unique_count": 83,
          "nan_count": 0,
          "min": "11",
          "max": "96",
          "histogram": [
           {
            "bin_start": 11,
            "bin_end": 19.5,
            "count": 7
           },
           {
            "bin_start": 19.5,
            "bin_end": 28,
            "count": 39
           },
           {
            "bin_start": 28,
            "bin_end": 36.5,
            "count": 134
           },
           {
            "bin_start": 36.5,
            "bin_end": 45,
            "count": 198
           },
           {
            "bin_start": 45,
            "bin_end": 53.5,
            "count": 314
           },
           {
            "bin_start": 53.5,
            "bin_end": 62,
            "count": 261
           },
           {
            "bin_start": 62,
            "bin_end": 70.5,
            "count": 812
           },
           {
            "bin_start": 70.5,
            "bin_end": 79,
            "count": 1149
           },
           {
            "bin_start": 79,
            "bin_end": 87.5,
            "count": 792
           },
           {
            "bin_start": 87.5,
            "bin_end": 96,
            "count": 233
           }
          ]
         }
        },
        {
         "name": "Speed",
         "dtype": "int64",
         "stats": {
          "unique_count": 83,
          "nan_count": 0,
          "min": "12",
          "max": "96",
          "histogram": [
           {
            "bin_start": 12,
            "bin_end": 20.4,
            "count": 10
           },
           {
            "bin_start": 20.4,
            "bin_end": 28.8,
            "count": 34
           },
           {
            "bin_start": 28.8,
            "bin_end": 37.2,
            "count": 138
           },
           {
            "bin_start": 37.2,
            "bin_end": 45.6,
            "count": 222
           },
           {
            "bin_start": 45.6,
            "bin_end": 54,
            "count": 265
           },
           {
            "bin_start": 54,
            "bin_end": 62.400000000000006,
            "count": 329
           },
           {
            "bin_start": 62.400000000000006,
            "bin_end": 70.80000000000001,
            "count": 775
           },
           {
            "bin_start": 70.80000000000001,
            "bin_end": 79.2,
            "count": 1299
           },
           {
            "bin_start": 79.2,
            "bin_end": 87.60000000000001,
            "count": 650
           },
           {
            "bin_start": 87.60000000000001,
            "bin_end": 96,
            "count": 217
           }
          ]
         }
        },
        {
         "name": "Stamina",
         "dtype": "int64",
         "stats": {
          "unique_count": 84,
          "nan_count": 0,
          "min": "10",
          "max": "95",
          "histogram": [
           {
            "bin_start": 10,
            "bin_end": 18.5,
            "count": 20
           },
           {
            "bin_start": 18.5,
            "bin_end": 27,
            "count": 109
           },
           {
            "bin_start": 27,
            "bin_end": 35.5,
            "count": 297
           },
           {
            "bin_start": 35.5,
            "bin_end": 44,
            "count": 191
           },
           {
            "bin_start": 44,
            "bin_end": 52.5,
            "count": 91
           },
           {
            "bin_start": 52.5,
            "bin_end": 61,
            "count": 322
           },
           {
            "bin_start": 61,
            "bin_end": 69.5,
            "count": 845
           },
           {
            "bin_start": 69.5,
            "bin_end": 78,
            "count": 1157
           },
           {
            "bin_start": 78,
            "bin_end": 86.5,
            "count": 742
           },
           {
            "bin_start": 86.5,
            "bin_end": 95,
            "count": 165
           }
          ]
         }
        },
        {
         "name": "Strength",
         "dtype": "int64"
        },
        {
         "name": "Balance",
         "dtype": "int64"
        },
        {
         "name": "Agility",
         "dtype": "int64"
        },
        {
         "name": "Jumping",
         "dtype": "int64"
        },
        {
         "name": "Heading",
         "dtype": "int64"
        },
        {
         "name": "Shot_Power",
         "dtype": "int64"
        },
        {
         "name": "Finishing",
         "dtype": "int64"
        },
        {
         "name": "Long_Shots",
         "dtype": "int64"
        },
        {
         "name": "Curve",
         "dtype": "int64"
        },
        {
         "name": "Freekick_Accuracy",
         "dtype": "int64"
        },
        {
         "name": "Penalties",
         "dtype": "int64"
        },
        {
         "name": "Volleys",
         "dtype": "int64"
        },
        {
         "name": "Position",
         "dtype": "category"
        },
        {
         "name": "_deepnote_index_column",
         "dtype": "int64"
        }
       ],
       "rows_top": [
        {
         "Name": "Cristiano Ronaldo",
         "Nationality": "Portugal",
         "Height": 185,
         "Weight": 80,
         "Preffered_Foot": "Right",
         "Age": 32,
         "Work_Rate": "High / Low",
         "Weak_foot": 4,
         "Skill_Moves": 5,
         "Ball_Control": 93,
         "Dribbling": 92,
         "Marking": 22,
         "Sliding_Tackle": 23,
         "Standing_Tackle": 31,
         "Aggression": 63,
         "Reactions": 96,
         "Interceptions": 29,
         "Vision": 85,
         "Composure": 86,
         "Crossing": 84,
         "Short_Pass": 83,
         "Long_Pass": 77,
         "Acceleration": 91,
         "Speed": 92,
         "Stamina": 92,
         "Strength": 80,
         "Balance": 63,
         "Agility": 90,
         "Jumping": 95,
         "Heading": 85,
         "Shot_Power": 92,
         "Finishing": 93,
         "Long_Shots": 90,
         "Curve": 81,
         "Freekick_Accuracy": 76,
         "Penalties": 85,
         "Volleys": 88,
         "Position": "central_ataque",
         "_deepnote_index_column": 0
        },
        {
         "Name": "Lionel Messi",
         "Nationality": "Argentina",
         "Height": 170,
         "Weight": 72,
         "Preffered_Foot": "Left",
         "Age": 29,
         "Work_Rate": "Medium / Medium",
         "Weak_foot": 4,
         "Skill_Moves": 4,
         "Ball_Control": 95,
         "Dribbling": 97,
         "Marking": 13,
         "Sliding_Tackle": 26,
         "Standing_Tackle": 28,
         "Aggression": 48,
         "Reactions": 95,
         "Interceptions": 22,
         "Vision": 90,
         "Composure": 94,
         "Crossing": 77,
         "Short_Pass": 88,
         "Long_Pass": 87,
         "Acceleration": 92,
         "Speed": 87,
         "Stamina": 74,
         "Strength": 59,
         "Balance": 95,
         "Agility": 90,
         "Jumping": 68,
         "Heading": 71,
         "Shot_Power": 85,
         "Finishing": 95,
         "Long_Shots": 88,
         "Curve": 89,
         "Freekick_Accuracy": 90,
         "Penalties": 74,
         "Volleys": 85,
         "Position": "central_ataque",
         "_deepnote_index_column": 1
        },
        {
         "Name": "Neymar",
         "Nationality": "Brazil",
         "Height": 174,
         "Weight": 68,
         "Preffered_Foot": "Right",
         "Age": 25,
         "Work_Rate": "High / Medium",
         "Weak_foot": 5,
         "Skill_Moves": 5,
         "Ball_Control": 95,
         "Dribbling": 96,
         "Marking": 21,
         "Sliding_Tackle": 33,
         "Standing_Tackle": 24,
         "Aggression": 56,
         "Reactions": 88,
         "Interceptions": 36,
         "Vision": 80,
         "Composure": 80,
         "Crossing": 75,
         "Short_Pass": 81,
         "Long_Pass": 75,
         "Acceleration": 93,
         "Speed": 90,
         "Stamina": 79,
         "Strength": 49,
         "Balance": 82,
         "Agility": 96,
         "Jumping": 61,
         "Heading": 62,
         "Shot_Power": 78,
         "Finishing": 89,
         "Long_Shots": 77,
         "Curve": 79,
         "Freekick_Accuracy": 84,
         "Penalties": 81,
         "Volleys": 83,
         "Position": "central_ataque",
         "_deepnote_index_column": 2
        },
        {
         "Name": "Luis Suárez",
         "Nationality": "Uruguay",
         "Height": 182,
         "Weight": 85,
         "Preffered_Foot": "Right",
         "Age": 30,
         "Work_Rate": "High / Medium",
         "Weak_foot": 4,
         "Skill_Moves": 4,
         "Ball_Control": 91,
         "Dribbling": 86,
         "Marking": 30,
         "Sliding_Tackle": 38,
         "Standing_Tackle": 45,
         "Aggression": 78,
         "Reactions": 93,
         "Interceptions": 41,
         "Vision": 84,
         "Composure": 83,
         "Crossing": 77,
         "Short_Pass": 83,
         "Long_Pass": 64,
         "Acceleration": 88,
         "Speed": 77,
         "Stamina": 89,
         "Strength": 76,
         "Balance": 60,
         "Agility": 86,
         "Jumping": 69,
         "Heading": 77,
         "Shot_Power": 87,
         "Finishing": 94,
         "Long_Shots": 86,
         "Curve": 86,
         "Freekick_Accuracy": 84,
         "Penalties": 85,
         "Volleys": 88,
         "Position": "ataque",
         "_deepnote_index_column": 3
        },
        {
         "Name": "Manuel Neuer",
         "Nationality": "Germany",
         "Height": 193,
         "Weight": 92,
         "Preffered_Foot": "Right",
         "Age": 31,
         "Work_Rate": "Medium / Medium",
         "Weak_foot": 4,
         "Skill_Moves": 1,
         "Ball_Control": 48,
         "Dribbling": 30,
         "Marking": 10,
         "Sliding_Tackle": 11,
         "Standing_Tackle": 10,
         "Aggression": 29,
         "Reactions": 85,
         "Interceptions": 30,
         "Vision": 70,
         "Composure": 70,
         "Crossing": 15,
         "Short_Pass": 55,
         "Long_Pass": 59,
         "Acceleration": 58,
         "Speed": 61,
         "Stamina": 44,
         "Strength": 83,
         "Balance": 35,
         "Agility": 52,
         "Jumping": 78,
         "Heading": 25,
         "Shot_Power": 25,
         "Finishing": 13,
         "Long_Shots": 16,
         "Curve": 14,
         "Freekick_Accuracy": 11,
         "Penalties": 47,
         "Volleys": 11,
         "Position": "arquero",
         "_deepnote_index_column": 4
        },
        {
         "Name": "De Gea",
         "Nationality": "Spain",
         "Height": 193,
         "Weight": 82,
         "Preffered_Foot": "Right",
         "Age": 26,
         "Work_Rate": "Medium / Medium",
         "Weak_foot": 3,
         "Skill_Moves": 1,
         "Ball_Control": 31,
         "Dribbling": 13,
         "Marking": 13,
         "Sliding_Tackle": 13,
         "Standing_Tackle": 21,
         "Aggression": 38,
         "Reactions": 88,
         "Interceptions": 30,
         "Vision": 68,
         "Composure": 60,
         "Crossing": 17,
         "Short_Pass": 31,
         "Long_Pass": 32,
         "Acceleration": 56,
         "Speed": 56,
         "Stamina": 25,
         "Strength": 64,
         "Balance": 43,
         "Agility": 57,
         "Jumping": 67,
         "Heading": 21,
         "Shot_Power": 31,
         "Finishing": 13,
         "Long_Shots": 12,
         "Curve": 21,
         "Freekick_Accuracy": 19,
         "Penalties": 40,
         "Volleys": 13,
         "Position": "arquero",
         "_deepnote_index_column": 5
        },
        {
         "Name": "Robert Lewandowski",
         "Nationality": "Poland",
         "Height": 185,
         "Weight": 79,
         "Preffered_Foot": "Right",
         "Age": 28,
         "Work_Rate": "High / Medium",
         "Weak_foot": 4,
         "Skill_Moves": 3,
         "Ball_Control": 87,
         "Dribbling": 85,
         "Marking": 25,
         "Sliding_Tackle": 19,
         "Standing_Tackle": 42,
         "Aggression": 80,
         "Reactions": 88,
         "Interceptions": 39,
         "Vision": 78,
         "Composure": 87,
         "Crossing": 62,
         "Short_Pass": 83,
         "Long_Pass": 65,
         "Acceleration": 79,
         "Speed": 82,
         "Stamina": 79,
         "Strength": 84,
         "Balance": 79,
         "Agility": 78,
         "Jumping": 84,
         "Heading": 85,
         "Shot_Power": 86,
         "Finishing": 91,
         "Long_Shots": 82,
         "Curve": 77,
         "Freekick_Accuracy": 76,
         "Penalties": 81,
         "Volleys": 86,
         "Position": "ataque",
         "_deepnote_index_column": 6
        },
        {
         "Name": "Gareth Bale",
         "Nationality": "Wales",
         "Height": 183,
         "Weight": 74,
         "Preffered_Foot": "Left",
         "Age": 27,
         "Work_Rate": "High / Medium",
         "Weak_foot": 3,
         "Skill_Moves": 4,
         "Ball_Control": 88,
         "Dribbling": 89,
         "Marking": 51,
         "Sliding_Tackle": 52,
         "Standing_Tackle": 55,
         "Aggression": 65,
         "Reactions": 87,
         "Interceptions": 59,
         "Vision": 79,
         "Composure": 85,
         "Crossing": 87,
         "Short_Pass": 86,
         "Long_Pass": 80,
         "Acceleration": 93,
         "Speed": 95,
         "Stamina": 78,
         "Strength": 80,
         "Balance": 65,
         "Agility": 77,
         "Jumping": 85,
         "Heading": 86,
         "Shot_Power": 91,
         "Finishing": 87,
         "Long_Shots": 90,
         "Curve": 86,
         "Freekick_Accuracy": 85,
         "Penalties": 76,
         "Volleys": 76,
         "Position": "central_ataque",
         "_deepnote_index_column": 7
        },
        {
         "Name": "Zlatan Ibrahimović",
         "Nationality": "Sweden",
         "Height": 195,
         "Weight": 95,
         "Preffered_Foot": "Right",
         "Age": 35,
         "Work_Rate": "Medium / Low",
         "Weak_foot": 4,
         "Skill_Moves": 4,
         "Ball_Control": 90,
         "Dribbling": 87,
         "Marking": 15,
         "Sliding_Tackle": 27,
         "Standing_Tackle": 41,
         "Aggression": 84,
         "Reactions": 85,
         "Interceptions": 20,
         "Vision": 83,
         "Composure": 91,
         "Crossing": 76,
         "Short_Pass": 84,
         "Long_Pass": 76,
         "Acceleration": 69,
         "Speed": 74,
         "Stamina": 75,
         "Strength": 93,
         "Balance": 41,
         "Agility": 86,
         "Jumping": 72,
         "Heading": 80,
         "Shot_Power": 93,
         "Finishing": 90,
         "Long_Shots": 88,
         "Curve": 82,
         "Freekick_Accuracy": 82,
         "Penalties": 91,
         "Volleys": 93,
         "Position": "ataque",
         "_deepnote_index_column": 8
        },
        {
         "Name": "Thibaut Courtois",
         "Nationality": "Belgium",
         "Height": 199,
         "Weight": 91,
         "Preffered_Foot": "Left",
         "Age": 24,
         "Work_Rate": "Medium / Medium",
         "Weak_foot": 3,
         "Skill_Moves": 1,
         "Ball_Control": 23,
         "Dribbling": 13,
         "Marking": 11,
         "Sliding_Tackle": 16,
         "Standing_Tackle": 18,
         "Aggression": 23,
         "Reactions": 81,
         "Interceptions": 15,
         "Vision": 44,
         "Composure": 52,
         "Crossing": 14,
         "Short_Pass": 32,
         "Long_Pass": 31,
         "Acceleration": 46,
         "Speed": 52,
         "Stamina": 38,
         "Strength": 70,
         "Balance": 45,
         "Agility": 61,
         "Jumping": 68,
         "Heading": 13,
         "Shot_Power": 36,
         "Finishing": 14,
         "Long_Shots": 17,
         "Curve": 19,
         "Freekick_Accuracy": 11,
         "Penalties": 27,
         "Volleys": 12,
         "Position": "arquero",
         "_deepnote_index_column": 9
        },
        {
         "Name": "Eden Hazard",
         "Nationality": "Belgium",
         "Height": 173,
         "Weight": 74,
         "Preffered_Foot": "Right",
         "Age": 26,
         "Work_Rate": "High / Medium",
         "Weak_foot": 4,
         "Skill_Moves": 4,
         "Ball_Control": 91,
         "Dribbling": 93,
         "Marking": 25,
         "Sliding_Tackle": 22,
         "Standing_Tackle": 27,
         "Aggression": 54,
         "Reactions": 85,
         "Interceptions": 41,
         "Vision": 86,
         "Composure": 86,
         "Crossing": 80,
         "Short_Pass": 84,
         "Long_Pass": 80,
         "Acceleration": 93,
         "Speed": 87,
         "Stamina": 77,
         "Strength": 65,
         "Balance": 90,
         "Agility": 92,
         "Jumping": 59,
         "Heading": 57,
         "Shot_Power": 79,
         "Finishing": 81,
         "Long_Shots": 82,
         "Curve": 82,
         "Freekick_Accuracy": 79,
         "Penalties": 86,
         "Volleys": 79,
         "Position": "central_ataque",
         "_deepnote_index_column": 11
        },
        {
         "Name": "Mesut Özil",
         "Nationality": "Germany",
         "Height": 180,
         "Weight": 76,
         "Preffered_Foot": "Left",
         "Age": 28,
         "Work_Rate": "Medium / Low",
         "Weak_foot": 2,
         "Skill_Moves": 4,
         "Ball_Control": 90,
         "Dribbling": 86,
         "Marking": 22,
         "Sliding_Tackle": 19,
         "Standing_Tackle": 16,
         "Aggression": 48,
         "Reactions": 87,
         "Interceptions": 24,
         "Vision": 93,
         "Composure": 73,
         "Crossing": 82,
         "Short_Pass": 89,
         "Long_Pass": 84,
         "Acceleration": 77,
         "Speed": 68,
         "Stamina": 68,
         "Strength": 56,
         "Balance": 70,
         "Agility": 84,
         "Jumping": 52,
         "Heading": 54,
         "Shot_Power": 70,
         "Finishing": 75,
         "Long_Shots": 76,
         "Curve": 84,
         "Freekick_Accuracy": 79,
         "Penalties": 67,
         "Volleys": 77,
         "Position": "central_ataque",
         "_deepnote_index_column": 13
        },
        {
         "Name": "Gonzalo Higuaín",
         "Nationality": "Argentina",
         "Height": 184,
         "Weight": 92,
         "Preffered_Foot": "Right",
         "Age": 29,
         "Work_Rate": "High / Medium",
         "Weak_foot": 4,
         "Skill_Moves": 3,
         "Ball_Control": 85,
         "Dribbling": 84,
         "Marking": 12,
         "Sliding_Tackle": 18,
         "Standing_Tackle": 22,
         "Aggression": 50,
         "Reactions": 86,
         "Interceptions": 20,
         "Vision": 70,
         "Composure": 84,
         "Crossing": 68,
         "Short_Pass": 73,
         "Long_Pass": 59,
         "Acceleration": 79,
         "Speed": 81,
         "Stamina": 73,
         "Strength": 85,
         "Balance": 69,
         "Agility": 75,
         "Jumping": 77,
         "Heading": 80,
         "Shot_Power": 86,
         "Finishing": 92,
         "Long_Shots": 80,
         "Curve": 74,
         "Freekick_Accuracy": 62,
         "Penalties": 70,
         "Volleys": 88,
         "Position": "ataque",
         "_deepnote_index_column": 14
        }
       ],
       "rows_bottom": [
        {
         "Name": "Mustafa Al Mousawi",
         "Nationality": "Saudi Arabia",
         "Height": 176,
         "Weight": 70,
         "Preffered_Foot": "Right",
         "Age": 22,
         "Work_Rate": "High / Low",
         "Weak_foot": 3,
         "Skill_Moves": 3,
         "Ball_Control": 53,
         "Dribbling": 50,
         "Marking": 26,
         "Sliding_Tackle": 24,
         "Standing_Tackle": 28,
         "Aggression": 32,
         "Reactions": 47,
         "Interceptions": 31,
         "Vision": 43,
         "Composure": 48,
         "Crossing": 33,
         "Short_Pass": 45,
         "Long_Pass": 40,
         "Acceleration": 53,
         "Speed": 50,
         "Stamina": 52,
         "Strength": 61,
         "Balance": 49,
         "Agility": 48,
         "Jumping": 45,
         "Heading": 51,
         "Shot_Power": 50,
         "Finishing": 56,
         "Long_Shots": 48,
         "Curve": 37,
         "Freekick_Accuracy": 40,
         "Penalties": 52,
         "Volleys": 43,
         "Position": "central",
         "_deepnote_index_column": 17082
        },
        {
         "Name": "Takanori Maeno",
         "Nationality": "Japan",
         "Height": 172,
         "Weight": 64,
         "Preffered_Foot": "Left",
         "Age": 28,
         "Work_Rate": "Medium / Medium",
         "Weak_foot": 3,
         "Skill_Moves": 3,
         "Ball_Control": 35,
         "Dribbling": 46,
         "Marking": 47,
         "Sliding_Tackle": 60,
         "Standing_Tackle": 53,
         "Aggression": 48,
         "Reactions": 53,
         "Interceptions": 45,
         "Vision": 36,
         "Composure": 42,
         "Crossing": 67,
         "Short_Pass": 31,
         "Long_Pass": 24,
         "Acceleration": 60,
         "Speed": 58,
         "Stamina": 56,
         "Strength": 49,
         "Balance": 78,
         "Agility": 62,
         "Jumping": 69,
         "Heading": 39,
         "Shot_Power": 27,
         "Finishing": 24,
         "Long_Shots": 26,
         "Curve": 32,
         "Freekick_Accuracy": 32,
         "Penalties": 38,
         "Volleys": 20,
         "Position": "defensa",
         "_deepnote_index_column": 17144
        },
        {
         "Name": "Dylan McGlade",
         "Nationality": "Republic of Ireland",
         "Height": 172,
         "Weight": 67,
         "Preffered_Foot": "Right",
         "Age": 21,
         "Work_Rate": "Medium / Medium",
         "Weak_foot": 3,
         "Skill_Moves": 2,
         "Ball_Control": 54,
         "Dribbling": 54,
         "Marking": 29,
         "Sliding_Tackle": 33,
         "Standing_Tackle": 34,
         "Aggression": 36,
         "Reactions": 43,
         "Interceptions": 18,
         "Vision": 48,
         "Composure": 44,
         "Crossing": 50,
         "Short_Pass": 51,
         "Long_Pass": 41,
         "Acceleration": 68,
         "Speed": 63,
         "Stamina": 54,
         "Strength": 43,
         "Balance": 80,
         "Agility": 60,
         "Jumping": 44,
         "Heading": 30,
         "Shot_Power": 49,
         "Finishing": 30,
         "Long_Shots": 31,
         "Curve": 43,
         "Freekick_Accuracy": 35,
         "Penalties": 51,
         "Volleys": 44,
         "Position": "central",
         "_deepnote_index_column": 17153
        },
        {
         "Name": "Sandro Semedo",
         "Nationality": "Portugal",
         "Height": 177,
         "Weight": 65,
         "Preffered_Foot": "Left",
         "Age": 20,
         "Work_Rate": "Medium / Medium",
         "Weak_foot": 3,
         "Skill_Moves": 2,
         "Ball_Control": 55,
         "Dribbling": 55,
         "Marking": 33,
         "Sliding_Tackle": 23,
         "Standing_Tackle": 27,
         "Aggression": 39,
         "Reactions": 44,
         "Interceptions": 26,
         "Vision": 40,
         "Composure": 48,
         "Crossing": 45,
         "Short_Pass": 52,
         "Long_Pass": 41,
         "Acceleration": 72,
         "Speed": 70,
         "Stamina": 52,
         "Strength": 53,
         "Balance": 81,
         "Agility": 56,
         "Jumping": 43,
         "Heading": 32,
         "Shot_Power": 54,
         "Finishing": 45,
         "Long_Shots": 54,
         "Curve": 39,
         "Freekick_Accuracy": 32,
         "Penalties": 49,
         "Volleys": 40,
         "Position": "central",
         "_deepnote_index_column": 17176
        },
        {
         "Name": "Scott McMann",
         "Nationality": "Scotland",
         "Height": 180,
         "Weight": 70,
         "Preffered_Foot": "Right",
         "Age": 20,
         "Work_Rate": "Medium / Medium",
         "Weak_foot": 2,
         "Skill_Moves": 2,
         "Ball_Control": 32,
         "Dribbling": 55,
         "Marking": 51,
         "Sliding_Tackle": 64,
         "Standing_Tackle": 58,
         "Aggression": 52,
         "Reactions": 49,
         "Interceptions": 52,
         "Vision": 32,
         "Composure": 35,
         "Crossing": 37,
         "Short_Pass": 25,
         "Long_Pass": 28,
         "Acceleration": 63,
         "Speed": 55,
         "Stamina": 70,
         "Strength": 57,
         "Balance": 54,
         "Agility": 60,
         "Jumping": 57,
         "Heading": 47,
         "Shot_Power": 31,
         "Finishing": 32,
         "Long_Shots": 27,
         "Curve": 31,
         "Freekick_Accuracy": 33,
         "Penalties": 36,
         "Volleys": 28,
         "Position": "central_defensa",
         "_deepnote_index_column": 17195
        },
        {
         "Name": "Matt Macey",
         "Nationality": "England",
         "Height": 198,
         "Weight": 81,
         "Preffered_Foot": "Right",
         "Age": 22,
         "Work_Rate": "Medium / Medium",
         "Weak_foot": 2,
         "Skill_Moves": 1,
         "Ball_Control": 19,
         "Dribbling": 16,
         "Marking": 11,
         "Sliding_Tackle": 14,
         "Standing_Tackle": 11,
         "Aggression": 25,
         "Reactions": 53,
         "Interceptions": 20,
         "Vision": 12,
         "Composure": 24,
         "Crossing": 18,
         "Short_Pass": 27,
         "Long_Pass": 24,
         "Acceleration": 38,
         "Speed": 41,
         "Stamina": 33,
         "Strength": 61,
         "Balance": 33,
         "Agility": 32,
         "Jumping": 51,
         "Heading": 16,
         "Shot_Power": 20,
         "Finishing": 16,
         "Long_Shots": 16,
         "Curve": 16,
         "Freekick_Accuracy": 17,
         "Penalties": 28,
         "Volleys": 16,
         "Position": "arquero",
         "_deepnote_index_column": 17225
        },
        {
         "Name": "Charlie Clough",
         "Nationality": "England",
         "Height": 191,
         "Weight": 85,
         "Preffered_Foot": "Right",
         "Age": 26,
         "Work_Rate": "Medium / Medium",
         "Weak_foot": 2,
         "Skill_Moves": 2,
         "Ball_Control": 53,
         "Dribbling": 45,
         "Marking": 48,
         "Sliding_Tackle": 54,
         "Standing_Tackle": 49,
         "Aggression": 61,
         "Reactions": 53,
         "Interceptions": 35,
         "Vision": 63,
         "Composure": 25,
         "Crossing": 37,
         "Short_Pass": 55,
         "Long_Pass": 52,
         "Acceleration": 65,
         "Speed": 60,
         "Stamina": 61,
         "Strength": 71,
         "Balance": 60,
         "Agility": 62,
         "Jumping": 42,
         "Heading": 46,
         "Shot_Power": 41,
         "Finishing": 31,
         "Long_Shots": 37,
         "Curve": 22,
         "Freekick_Accuracy": 38,
         "Penalties": 42,
         "Volleys": 37,
         "Position": "defensa",
         "_deepnote_index_column": 17232
        },
        {
         "Name": "Jamie Doyle",
         "Nationality": "Republic of Ireland",
         "Height": 190,
         "Weight": 73,
         "Preffered_Foot": "Left",
         "Age": 23,
         "Work_Rate": "Medium / Medium",
         "Weak_foot": 3,
         "Skill_Moves": 3,
         "Ball_Control": 50,
         "Dribbling": 54,
         "Marking": 37,
         "Sliding_Tackle": 31,
         "Standing_Tackle": 38,
         "Aggression": 31,
         "Reactions": 44,
         "Interceptions": 32,
         "Vision": 45,
         "Composure": 44,
         "Crossing": 47,
         "Short_Pass": 44,
         "Long_Pass": 40,
         "Acceleration": 58,
         "Speed": 62,
         "Stamina": 53,
         "Strength": 65,
         "Balance": 52,
         "Agility": 63,
         "Jumping": 48,
         "Heading": 52,
         "Shot_Power": 58,
         "Finishing": 51,
         "Long_Shots": 46,
         "Curve": 43,
         "Freekick_Accuracy": 37,
         "Penalties": 46,
         "Volleys": 47,
         "Position": "central",
         "_deepnote_index_column": 17268
        },
        {
         "Name": "Raymond Skjelde",
         "Nationality": "Norway",
         "Height": 185,
         "Weight": 75,
         "Preffered_Foot": "Right",
         "Age": 18,
         "Work_Rate": "Medium / Medium",
         "Weak_foot": 2,
         "Skill_Moves": 2,
         "Ball_Control": 29,
         "Dribbling": 28,
         "Marking": 47,
         "Sliding_Tackle": 52,
         "Standing_Tackle": 60,
         "Aggression": 46,
         "Reactions": 50,
         "Interceptions": 54,
         "Vision": 35,
         "Composure": 43,
         "Crossing": 30,
         "Short_Pass": 28,
         "Long_Pass": 23,
         "Acceleration": 64,
         "Speed": 58,
         "Stamina": 59,
         "Strength": 57,
         "Balance": 58,
         "Agility": 40,
         "Jumping": 65,
         "Heading": 44,
         "Shot_Power": 35,
         "Finishing": 22,
         "Long_Shots": 25,
         "Curve": 24,
         "Freekick_Accuracy": 22,
         "Penalties": 41,
         "Volleys": 31,
         "Position": "defensa",
         "_deepnote_index_column": 17298
        },
        {
         "Name": "Andrew O'Connor",
         "Nationality": "Republic of Ireland",
         "Height": 175,
         "Weight": 73,
         "Preffered_Foot": "Left",
         "Age": 21,
         "Work_Rate": "Medium / Medium",
         "Weak_foot": 3,
         "Skill_Moves": 2,
         "Ball_Control": 37,
         "Dribbling": 50,
         "Marking": 46,
         "Sliding_Tackle": 57,
         "Standing_Tackle": 57,
         "Aggression": 53,
         "Reactions": 46,
         "Interceptions": 50,
         "Vision": 36,
         "Composure": 37,
         "Crossing": 44,
         "Short_Pass": 31,
         "Long_Pass": 25,
         "Acceleration": 62,
         "Speed": 61,
         "Stamina": 57,
         "Strength": 51,
         "Balance": 73,
         "Agility": 57,
         "Jumping": 55,
         "Heading": 43,
         "Shot_Power": 26,
         "Finishing": 28,
         "Long_Shots": 29,
         "Curve": 30,
         "Freekick_Accuracy": 30,
         "Penalties": 31,
         "Volleys": 20,
         "Position": "defensa",
         "_deepnote_index_column": 17301
        },
        {
         "Name": "Tom Bolarinwa",
         "Nationality": "England",
         "Height": 180,
         "Weight": 80,
         "Preffered_Foot": "Right",
         "Age": 26,
         "Work_Rate": "Medium / Medium",
         "Weak_foot": 3,
         "Skill_Moves": 3,
         "Ball_Control": 42,
         "Dribbling": 53,
         "Marking": 22,
         "Sliding_Tackle": 32,
         "Standing_Tackle": 22,
         "Aggression": 39,
         "Reactions": 35,
         "Interceptions": 21,
         "Vision": 47,
         "Composure": 50,
         "Crossing": 44,
         "Short_Pass": 44,
         "Long_Pass": 42,
         "Acceleration": 82,
         "Speed": 85,
         "Stamina": 50,
         "Strength": 54,
         "Balance": 66,
         "Agility": 54,
         "Jumping": 54,
         "Heading": 22,
         "Shot_Power": 38,
         "Finishing": 37,
         "Long_Shots": 37,
         "Curve": 37,
         "Freekick_Accuracy": 32,
         "Penalties": 29,
         "Volleys": 29,
         "Position": "central",
         "_deepnote_index_column": 17310
        },
        {
         "Name": "Zak Mills",
         "Nationality": "England",
         "Height": 182,
         "Weight": 83,
         "Preffered_Foot": "Right",
         "Age": 24,
         "Work_Rate": "Medium / Medium",
         "Weak_foot": 4,
         "Skill_Moves": 2,
         "Ball_Control": 49,
         "Dribbling": 49,
         "Marking": 49,
         "Sliding_Tackle": 43,
         "Standing_Tackle": 43,
         "Aggression": 48,
         "Reactions": 44,
         "Interceptions": 59,
         "Vision": 34,
         "Composure": 39,
         "Crossing": 40,
         "Short_Pass": 38,
         "Long_Pass": 42,
         "Acceleration": 69,
         "Speed": 69,
         "Stamina": 64,
         "Strength": 46,
         "Balance": 42,
         "Agility": 58,
         "Jumping": 61,
         "Heading": 43,
         "Shot_Power": 22,
         "Finishing": 24,
         "Long_Shots": 28,
         "Curve": 30,
         "Freekick_Accuracy": 32,
         "Penalties": 39,
         "Volleys": 31,
         "Position": "defensa",
         "_deepnote_index_column": 17312
        },
        {
         "Name": "Wataru Hashimoto",
         "Nationality": "Japan",
         "Height": 181,
         "Weight": 72,
         "Preffered_Foot": "Left",
         "Age": 30,
         "Work_Rate": "Medium / High",
         "Weak_foot": 2,
         "Skill_Moves": 2,
         "Ball_Control": 29,
         "Dribbling": 48,
         "Marking": 55,
         "Sliding_Tackle": 57,
         "Standing_Tackle": 59,
         "Aggression": 45,
         "Reactions": 48,
         "Interceptions": 54,
         "Vision": 36,
         "Composure": 47,
         "Crossing": 31,
         "Short_Pass": 27,
         "Long_Pass": 23,
         "Acceleration": 60,
         "Speed": 58,
         "Stamina": 56,
         "Strength": 71,
         "Balance": 62,
         "Agility": 64,
         "Jumping": 71,
         "Heading": 41,
         "Shot_Power": 29,
         "Finishing": 26,
         "Long_Shots": 26,
         "Curve": 25,
         "Freekick_Accuracy": 25,
         "Penalties": 31,
         "Volleys": 29,
         "Position": "defensa",
         "_deepnote_index_column": 17442
        }
       ]
      },
      "text/plain": "                    Name          Nationality  Height  Weight Preffered_Foot  \\\n0      Cristiano Ronaldo             Portugal     185      80          Right   \n1           Lionel Messi            Argentina     170      72           Left   \n2                 Neymar               Brazil     174      68          Right   \n3            Luis Suárez              Uruguay     182      85          Right   \n4           Manuel Neuer              Germany     193      92          Right   \n...                  ...                  ...     ...     ...            ...   \n17298    Raymond Skjelde               Norway     185      75          Right   \n17301    Andrew O'Connor  Republic of Ireland     175      73           Left   \n17310      Tom Bolarinwa              England     180      80          Right   \n17312          Zak Mills              England     182      83          Right   \n17442   Wataru Hashimoto                Japan     181      72           Left   \n\n       Age        Work_Rate  Weak_foot  Skill_Moves  Ball_Control  ...  \\\n0       32       High / Low          4            5            93  ...   \n1       29  Medium / Medium          4            4            95  ...   \n2       25    High / Medium          5            5            95  ...   \n3       30    High / Medium          4            4            91  ...   \n4       31  Medium / Medium          4            1            48  ...   \n...    ...              ...        ...          ...           ...  ...   \n17298   18  Medium / Medium          2            2            29  ...   \n17301   21  Medium / Medium          3            2            37  ...   \n17310   26  Medium / Medium          3            3            42  ...   \n17312   24  Medium / Medium          4            2            49  ...   \n17442   30    Medium / High          2            2            29  ...   \n\n       Jumping  Heading  Shot_Power  Finishing  Long_Shots  Curve  \\\n0           95       85          92         93          90     81   \n1           68       71          85         95          88     89   \n2           61       62          78         89          77     79   \n3           69       77          87         94          86     86   \n4           78       25          25         13          16     14   \n...        ...      ...         ...        ...         ...    ...   \n17298       65       44          35         22          25     24   \n17301       55       43          26         28          29     30   \n17310       54       22          38         37          37     37   \n17312       61       43          22         24          28     30   \n17442       71       41          29         26          26     25   \n\n       Freekick_Accuracy  Penalties  Volleys        Position  \n0                     76         85       88  central_ataque  \n1                     90         74       85  central_ataque  \n2                     84         81       83  central_ataque  \n3                     84         85       88          ataque  \n4                     11         47       11         arquero  \n...                  ...        ...      ...             ...  \n17298                 22         41       31         defensa  \n17301                 30         31       20         defensa  \n17310                 32         29       29         central  \n17312                 32         39       31         defensa  \n17442                 25         31       29         defensa  \n\n[3939 rows x 38 columns]",
      "text/html": "<div>\n<style scoped>\n    .dataframe tbody tr th:only-of-type {\n        vertical-align: middle;\n    }\n\n    .dataframe tbody tr th {\n        vertical-align: top;\n    }\n\n    .dataframe thead th {\n        text-align: right;\n    }\n</style>\n<table border=\"1\" class=\"dataframe\">\n  <thead>\n    <tr style=\"text-align: right;\">\n      <th></th>\n      <th>Name</th>\n      <th>Nationality</th>\n      <th>Height</th>\n      <th>Weight</th>\n      <th>Preffered_Foot</th>\n      <th>Age</th>\n      <th>Work_Rate</th>\n      <th>Weak_foot</th>\n      <th>Skill_Moves</th>\n      <th>Ball_Control</th>\n      <th>...</th>\n      <th>Jumping</th>\n      <th>Heading</th>\n      <th>Shot_Power</th>\n      <th>Finishing</th>\n      <th>Long_Shots</th>\n      <th>Curve</th>\n      <th>Freekick_Accuracy</th>\n      <th>Penalties</th>\n      <th>Volleys</th>\n      <th>Position</th>\n    </tr>\n  </thead>\n  <tbody>\n    <tr>\n      <th>0</th>\n      <td>Cristiano Ronaldo</td>\n      <td>Portugal</td>\n      <td>185</td>\n      <td>80</td>\n      <td>Right</td>\n      <td>32</td>\n      <td>High / Low</td>\n      <td>4</td>\n      <td>5</td>\n      <td>93</td>\n      <td>...</td>\n      <td>95</td>\n      <td>85</td>\n      <td>92</td>\n      <td>93</td>\n      <td>90</td>\n      <td>81</td>\n      <td>76</td>\n      <td>85</td>\n      <td>88</td>\n      <td>central_ataque</td>\n    </tr>\n    <tr>\n      <th>1</th>\n      <td>Lionel Messi</td>\n      <td>Argentina</td>\n      <td>170</td>\n      <td>72</td>\n      <td>Left</td>\n      <td>29</td>\n      <td>Medium / Medium</td>\n      <td>4</td>\n      <td>4</td>\n      <td>95</td>\n      <td>...</td>\n      <td>68</td>\n      <td>71</td>\n      <td>85</td>\n      <td>95</td>\n      <td>88</td>\n      <td>89</td>\n      <td>90</td>\n      <td>74</td>\n      <td>85</td>\n      <td>central_ataque</td>\n    </tr>\n    <tr>\n      <th>2</th>\n      <td>Neymar</td>\n      <td>Brazil</td>\n      <td>174</td>\n      <td>68</td>\n      <td>Right</td>\n      <td>25</td>\n      <td>High / Medium</td>\n      <td>5</td>\n      <td>5</td>\n      <td>95</td>\n      <td>...</td>\n      <td>61</td>\n      <td>62</td>\n      <td>78</td>\n      <td>89</td>\n      <td>77</td>\n      <td>79</td>\n      <td>84</td>\n      <td>81</td>\n      <td>83</td>\n      <td>central_ataque</td>\n    </tr>\n    <tr>\n      <th>3</th>\n      <td>Luis Suárez</td>\n      <td>Uruguay</td>\n      <td>182</td>\n      <td>85</td>\n      <td>Right</td>\n      <td>30</td>\n      <td>High / Medium</td>\n      <td>4</td>\n      <td>4</td>\n      <td>91</td>\n      <td>...</td>\n      <td>69</td>\n      <td>77</td>\n      <td>87</td>\n      <td>94</td>\n      <td>86</td>\n      <td>86</td>\n      <td>84</td>\n      <td>85</td>\n      <td>88</td>\n      <td>ataque</td>\n    </tr>\n    <tr>\n      <th>4</th>\n      <td>Manuel Neuer</td>\n      <td>Germany</td>\n      <td>193</td>\n      <td>92</td>\n      <td>Right</td>\n      <td>31</td>\n      <td>Medium / Medium</td>\n      <td>4</td>\n      <td>1</td>\n      <td>48</td>\n      <td>...</td>\n      <td>78</td>\n      <td>25</td>\n      <td>25</td>\n      <td>13</td>\n      <td>16</td>\n      <td>14</td>\n      <td>11</td>\n      <td>47</td>\n      <td>11</td>\n      <td>arquero</td>\n    </tr>\n    <tr>\n      <th>...</th>\n      <td>...</td>\n      <td>...</td>\n      <td>...</td>\n      <td>...</td>\n      <td>...</td>\n      <td>...</td>\n      <td>...</td>\n      <td>...</td>\n      <td>...</td>\n      <td>...</td>\n      <td>...</td>\n      <td>...</td>\n      <td>...</td>\n      <td>...</td>\n      <td>...</td>\n      <td>...</td>\n      <td>...</td>\n      <td>...</td>\n      <td>...</td>\n      <td>...</td>\n      <td>...</td>\n    </tr>\n    <tr>\n      <th>17298</th>\n      <td>Raymond Skjelde</td>\n      <td>Norway</td>\n      <td>185</td>\n      <td>75</td>\n      <td>Right</td>\n      <td>18</td>\n      <td>Medium / Medium</td>\n      <td>2</td>\n      <td>2</td>\n      <td>29</td>\n      <td>...</td>\n      <td>65</td>\n      <td>44</td>\n      <td>35</td>\n      <td>22</td>\n      <td>25</td>\n      <td>24</td>\n      <td>22</td>\n      <td>41</td>\n      <td>31</td>\n      <td>defensa</td>\n    </tr>\n    <tr>\n      <th>17301</th>\n      <td>Andrew O'Connor</td>\n      <td>Republic of Ireland</td>\n      <td>175</td>\n      <td>73</td>\n      <td>Left</td>\n      <td>21</td>\n      <td>Medium / Medium</td>\n      <td>3</td>\n      <td>2</td>\n      <td>37</td>\n      <td>...</td>\n      <td>55</td>\n      <td>43</td>\n      <td>26</td>\n      <td>28</td>\n      <td>29</td>\n      <td>30</td>\n      <td>30</td>\n      <td>31</td>\n      <td>20</td>\n      <td>defensa</td>\n    </tr>\n    <tr>\n      <th>17310</th>\n      <td>Tom Bolarinwa</td>\n      <td>England</td>\n      <td>180</td>\n      <td>80</td>\n      <td>Right</td>\n      <td>26</td>\n      <td>Medium / Medium</td>\n      <td>3</td>\n      <td>3</td>\n      <td>42</td>\n      <td>...</td>\n      <td>54</td>\n      <td>22</td>\n      <td>38</td>\n      <td>37</td>\n      <td>37</td>\n      <td>37</td>\n      <td>32</td>\n      <td>29</td>\n      <td>29</td>\n      <td>central</td>\n    </tr>\n    <tr>\n      <th>17312</th>\n      <td>Zak Mills</td>\n      <td>England</td>\n      <td>182</td>\n      <td>83</td>\n      <td>Right</td>\n      <td>24</td>\n      <td>Medium / Medium</td>\n      <td>4</td>\n      <td>2</td>\n      <td>49</td>\n      <td>...</td>\n      <td>61</td>\n      <td>43</td>\n      <td>22</td>\n      <td>24</td>\n      <td>28</td>\n      <td>30</td>\n      <td>32</td>\n      <td>39</td>\n      <td>31</td>\n      <td>defensa</td>\n    </tr>\n    <tr>\n      <th>17442</th>\n      <td>Wataru Hashimoto</td>\n      <td>Japan</td>\n      <td>181</td>\n      <td>72</td>\n      <td>Left</td>\n      <td>30</td>\n      <td>Medium / High</td>\n      <td>2</td>\n      <td>2</td>\n      <td>29</td>\n      <td>...</td>\n      <td>71</td>\n      <td>41</td>\n      <td>29</td>\n      <td>26</td>\n      <td>26</td>\n      <td>25</td>\n      <td>25</td>\n      <td>31</td>\n      <td>29</td>\n      <td>defensa</td>\n    </tr>\n  </tbody>\n</table>\n<p>3939 rows × 38 columns</p>\n</div>"
     },
     "metadata": {}
    }
   ]
  },
  {
   "cell_type": "code",
   "metadata": {
    "tags": [],
    "cell_id": "00033-d7922f10-52d8-4722-8386-142d6d56179a",
    "deepnote_to_be_reexecuted": false,
    "source_hash": "13f49861",
    "execution_start": 1637353238311,
    "execution_millis": 0,
    "deepnote_cell_type": "code"
   },
   "source": "ct = ColumnTransformer(\n    transformers=[\n        (\n            \"OneHotEncoder\",\n            OneHotEncoder(drop='first', handle_unknown='ignore'),\n            [\n                'Nationality',\n                \"Preffered_Foot\",\n                \"Skill_Moves\",\n                \"Work_Rate\",\n                \"Weak_foot\"\n            ],\n        ),\n        (\n            \"StandardScaler\",\n            StandardScaler(),\n            [\n                \"Weight\",\n                \"Height\",\n                \"Aggression\",\n                \"Reactions\",\n                \"Vision\",\n                \"Composure\",\n                \"Acceleration\",\n                \"Speed\",\n                \"Balance\",\n                \"Strength\",\n                \"Agility\",\n                \"Jumping\",\n                \"Finishing\",\n                \"Volleys\",\n                \"Penalties\"\n            ],\n        ),\n        (\n            \"MinMaxScaler\",\n            MinMaxScaler(),\n            [\n                \"Ball_Control\",\n                \"Dribbling\",\n                \"Marking\",\n                \"Sliding_Tackle\",\n                \"Standing_Tackle\",\n                \"Interceptions\",\n                \"Crossing\",\n                \"Short_Pass\",\n                \"Long_Pass\",\n                \"Stamina\",\n                \"Heading\",\n                \"Shot_Power\",\n                \"Curve\",\n                \"Freekick_Accuracy\",\n                \"Long_Shots\"\n            ],\n        ),\n    ]\n)\n\n\nlinear_svc_pipe = Pipeline(\n    [\n        (\"preprocesamiento\", ct),\n        (\"linear_SVM\", SVC(kernel=\"linear\")),\n    ]\n)\n\nsvc_pipe = Pipeline(\n    [(\"preprocesamiento\", ct), (\"SVM\", SVC(kernel=\"rbf\"))]\n)\n\nknn_pipe = Pipeline(\n    [(\"preprocesamiento\", ct), (\"KNN\", KNeighborsClassifier())]\n)\n\n",
   "execution_count": 45,
   "outputs": []
  },
  {
   "cell_type": "code",
   "metadata": {
    "tags": [],
    "cell_id": "00034-df1c3e6a-741b-4e4a-a52a-ecf47760f7b7",
    "deepnote_to_be_reexecuted": false,
    "source_hash": "385de67a",
    "execution_start": 1637353243521,
    "execution_millis": 6594,
    "deepnote_cell_type": "code"
   },
   "source": "df_y = df_positions.loc[:,\"Position\"]\ndf_X = df_positions.drop([\"Name\", \"Position\"], axis=1)\n\nX_train, X_test, y_train, y_test = train_test_split(\n    df_X, df_y, test_size=0.33, random_state=42, stratify=df_y\n)\n\nlinear_svc = linear_svc_pipe.fit(X_train, y_train)\ny_pred = linear_svc.predict(X_test)\nprint('Resultados Linear SVC:')\nprint(classification_report(y_pred, y_test))\n\nrbf_svc = svc_pipe.fit(X_train, y_train)\ny_pred = rbf_svc.predict(X_test)\nprint('Resultados RBF SVC')\nprint(classification_report(y_pred, y_test))\n\n\nknn = knn_pipe.fit(X_train, y_train)\ny_pred = knn.predict(X_test)\nprint('Resultados KNN')\nprint(classification_report(y_pred, y_test))\n",
   "execution_count": 46,
   "outputs": [
    {
     "name": "stderr",
     "text": "/shared-libs/python3.7/py/lib/python3.7/site-packages/sklearn/preprocessing/_encoders.py:174: UserWarning:\n\nFound unknown categories in columns [0] during transform. These unknown categories will be encoded as all zeros\n\nResultados Linear SVC:\n                 precision    recall  f1-score   support\n\n        arquero       1.00      1.00      1.00       209\n         ataque       0.75      0.74      0.75       144\n        central       0.61      0.55      0.57       332\n central_ataque       0.31      0.43      0.36       138\ncentral_defensa       0.13      0.31      0.18        29\n        defensa       0.95      0.83      0.88       448\n\n       accuracy                           0.72      1300\n      macro avg       0.63      0.64      0.63      1300\n   weighted avg       0.76      0.72      0.74      1300\n\n/shared-libs/python3.7/py/lib/python3.7/site-packages/sklearn/preprocessing/_encoders.py:174: UserWarning:\n\nFound unknown categories in columns [0] during transform. These unknown categories will be encoded as all zeros\n\nResultados RBF SVC\n                 precision    recall  f1-score   support\n\n        arquero       1.00      1.00      1.00       209\n         ataque       0.82      0.75      0.79       155\n        central       0.64      0.53      0.58       362\n central_ataque       0.22      0.46      0.30        94\ncentral_defensa       0.06      0.50      0.10         8\n        defensa       0.96      0.79      0.86       472\n\n       accuracy                           0.72      1300\n      macro avg       0.62      0.67      0.61      1300\n   weighted avg       0.80      0.72      0.75      1300\n\n/shared-libs/python3.7/py/lib/python3.7/site-packages/sklearn/preprocessing/_encoders.py:174: UserWarning:\n\nFound unknown categories in columns [0] during transform. These unknown categories will be encoded as all zeros\n\nResultados KNN\n                 precision    recall  f1-score   support\n\n        arquero       1.00      1.00      1.00       208\n         ataque       0.73      0.63      0.67       164\n        central       0.54      0.46      0.50       347\n central_ataque       0.26      0.41      0.32       119\ncentral_defensa       0.13      0.28      0.18        32\n        defensa       0.87      0.79      0.83       430\n\n       accuracy                           0.67      1300\n      macro avg       0.59      0.59      0.58      1300\n   weighted avg       0.71      0.67      0.68      1300\n\n",
     "output_type": "stream"
    }
   ]
  },
  {
   "cell_type": "markdown",
   "source": "**Respuesta**:\n\n```\nComente de resultados observados y si es posible mejorar los resultados.\nSe observa que los mismos modelos para un problema distinto al anterior, muestran mejores resultados, donde en las clases con mayor frecuencia, se alcanzan mejores métricas, mientras que en las clases más chicas que son 'central_ataque' y 'central_defensa' presentan las peores métricas en cada clasificador. \nEl clasificador con mejores resultados si es que se utiliza como parámetro macro avg, es decir, las clases son igual de importantes, entonces es el promedio de la métrica en cada una de las clases, sería un SVC, dependiendo del objetivo del modelo se elegería la mejor métrica según el caso.\nLos resultados se pueden mejorar utilizando Grid Search, para buscar los hiperparámetro que mejor se ajustan al problema. Además, se puede intentar balancear las clases y realizar un entrenamiento acorde a los pesos de cada clase.\n```",
   "metadata": {
    "tags": [],
    "cell_id": "00037-49e50b09-156f-4996-8fec-1e3e6cf51802",
    "deepnote_cell_type": "markdown"
   }
  },
  {
   "cell_type": "markdown",
   "source": "## 1.3 Predicción de Sueldos [2 puntos]\n\n<p align=\"center\">\n  <img src=\"https://media.giphy.com/media/3oEjHWtHAFcOKS4iA0/giphy.gif\" width=\"460\">\n</p>",
   "metadata": {
    "id": "C-vkB4xoOGtM",
    "cell_id": "00038-b8c6c19d-0688-4899-9abb-c89f94c2b89a",
    "deepnote_cell_type": "markdown"
   }
  },
  {
   "cell_type": "markdown",
   "source": "Queriendo ahondar aún más en el mercado del balompíe, Renacin, logra obtener (de una manera no muy formal) los sueldos de múltiples futbolistas y los guarda en el archivo ```sueldos.csv```. Con ellos les solicita que generen un regresor que les permita predecir el sueldo de los futbolistas en base a las características de los pichichis, esto, debido a su motivación por invertir y/o realizar especulación sobre los sueldos de jugadores.\n\nRenacin es claro señalando que deben seguir utilizando la [guía](https://scikit-learn.org/stable/tutorial/machine_learning_map/index.html) y comenten cada uno de los pasos realizados, para obtener su regresión lineal. Señalándoles que no aceptara un $R^2$ inferior a 0.35 para el modelo solicitado.\n\nPara esta parte usted tiene total libertad en la generación del regresor, la unica exigencia es que utilice un pipeline para generar la regresión y utilice la metrica $R^2$ para medir el rendimiento de esta.\n\n**To-Do**:\n\n- [ ] Explique en que consiste la métrica $R^2$\n- [ ] Generar un pipeline para la regresión.\n- [ ] Obtener un regresor con un $R^2$ superior a  $0.35$.\n- [ ] Comente sus resultados y si es posible mejorar los resultados obtenidos. ¿Se necesitarían más datos o otros tipos de características o una combinación de ambos?",
   "metadata": {
    "tags": [],
    "cell_id": "00039-e50ff971-8882-46be-832a-deaff22bdf89",
    "deepnote_cell_type": "markdown"
   }
  },
  {
   "cell_type": "markdown",
   "source": "**Respuesta**",
   "metadata": {
    "tags": [],
    "cell_id": "00040-487b67d5-7731-400d-8fa5-a8fb3b59c7f5",
    "deepnote_cell_type": "markdown"
   }
  },
  {
   "cell_type": "code",
   "metadata": {
    "tags": [],
    "cell_id": "00041-012da19b-8f64-4971-84d6-e95502b74afb",
    "deepnote_to_be_reexecuted": false,
    "source_hash": "6645b984",
    "execution_start": 1637350970295,
    "execution_millis": 1,
    "deepnote_cell_type": "code"
   },
   "source": "### Código aquí ###\ndf_salary = pd.read_csv('/work/Laboratorio7_enunciado/salarios.csv')\ndf_salary = df_salary.loc[:,['Player', 'Weekly Salary']].rename({'Player': 'Name'}, axis = 1)\ndf_wage = df_salary.merge(df_players, on='Name')\ndf_wage['Weekly Salary'] = df_wage['Weekly Salary'].astype(int)\n",
   "execution_count": 8,
   "outputs": []
  },
  {
   "cell_type": "code",
   "metadata": {
    "tags": [],
    "cell_id": "00040-03d780bd-2eba-4424-b877-e7b319e9cd21",
    "deepnote_to_be_reexecuted": false,
    "source_hash": "58bcf28d",
    "execution_start": 1637350972786,
    "execution_millis": 270,
    "deepnote_cell_type": "code"
   },
   "source": "df_wage",
   "execution_count": 9,
   "outputs": [
    {
     "output_type": "execute_result",
     "execution_count": 9,
     "data": {
      "application/vnd.deepnote.dataframe.v2+json": {
       "row_count": 1866,
       "column_count": 41,
       "columns": [
        {
         "name": "Name",
         "dtype": "object",
         "stats": {
          "unique_count": 1801,
          "nan_count": 0,
          "categories": [
           {
            "name": "Danilo",
            "count": 5
           },
           {
            "name": "Danny Ward",
            "count": 4
           },
           {
            "name": "1799 others",
            "count": 1857
           }
          ]
         }
        },
        {
         "name": "Weekly Salary",
         "dtype": "int64",
         "stats": {
          "unique_count": 685,
          "nan_count": 0,
          "min": "620",
          "max": "1538905",
          "histogram": [
           {
            "bin_start": 620,
            "bin_end": 154448.5,
            "count": 1747
           },
           {
            "bin_start": 154448.5,
            "bin_end": 308277,
            "count": 94
           },
           {
            "bin_start": 308277,
            "bin_end": 462105.5,
            "count": 19
           },
           {
            "bin_start": 462105.5,
            "bin_end": 615934,
            "count": 2
           },
           {
            "bin_start": 615934,
            "bin_end": 769762.5,
            "count": 0
           },
           {
            "bin_start": 769762.5,
            "bin_end": 923591,
            "count": 1
           },
           {
            "bin_start": 923591,
            "bin_end": 1077419.5,
            "count": 1
           },
           {
            "bin_start": 1077419.5,
            "bin_end": 1231248,
            "count": 0
           },
           {
            "bin_start": 1231248,
            "bin_end": 1385076.5,
            "count": 1
           },
           {
            "bin_start": 1385076.5,
            "bin_end": 1538905,
            "count": 1
           }
          ]
         }
        },
        {
         "name": "Nationality",
         "dtype": "object",
         "stats": {
          "unique_count": 89,
          "nan_count": 0,
          "categories": [
           {
            "name": "France",
            "count": 295
           },
           {
            "name": "Italy",
            "count": 220
           },
           {
            "name": "87 others",
            "count": 1351
           }
          ]
         }
        },
        {
         "name": "National_Position",
         "dtype": "object",
         "stats": {
          "unique_count": 27,
          "nan_count": 1527,
          "categories": [
           {
            "name": "Sub",
            "count": 141
           },
           {
            "name": "26 others",
            "count": 198
           },
           {
            "name": "Missing",
            "count": 1527
           }
          ]
         }
        },
        {
         "name": "Club_Position",
         "dtype": "object",
         "stats": {
          "unique_count": 28,
          "nan_count": 0,
          "categories": [
           {
            "name": "Sub",
            "count": 684
           },
           {
            "name": "Res",
            "count": 195
           },
           {
            "name": "26 others",
            "count": 987
           }
          ]
         }
        },
        {
         "name": "Height",
         "dtype": "int64",
         "stats": {
          "unique_count": 39,
          "nan_count": 0,
          "min": "162",
          "max": "201",
          "histogram": [
           {
            "bin_start": 162,
            "bin_end": 165.9,
            "count": 8
           },
           {
            "bin_start": 165.9,
            "bin_end": 169.8,
            "count": 30
           },
           {
            "bin_start": 169.8,
            "bin_end": 173.7,
            "count": 151
           },
           {
            "bin_start": 173.7,
            "bin_end": 177.6,
            "count": 231
           },
           {
            "bin_start": 177.6,
            "bin_end": 181.5,
            "count": 387
           },
           {
            "bin_start": 181.5,
            "bin_end": 185.4,
            "count": 447
           },
           {
            "bin_start": 185.4,
            "bin_end": 189.3,
            "count": 342
           },
           {
            "bin_start": 189.3,
            "bin_end": 193.2,
            "count": 202
           },
           {
            "bin_start": 193.2,
            "bin_end": 197.1,
            "count": 58
           },
           {
            "bin_start": 197.1,
            "bin_end": 201,
            "count": 10
           }
          ]
         }
        },
        {
         "name": "Weight",
         "dtype": "int64",
         "stats": {
          "unique_count": 45,
          "nan_count": 0,
          "min": "48",
          "max": "99",
          "histogram": [
           {
            "bin_start": 48,
            "bin_end": 53.1,
            "count": 1
           },
           {
            "bin_start": 53.1,
            "bin_end": 58.2,
            "count": 5
           },
           {
            "bin_start": 58.2,
            "bin_end": 63.3,
            "count": 52
           },
           {
            "bin_start": 63.3,
            "bin_end": 68.4,
            "count": 192
           },
           {
            "bin_start": 68.4,
            "bin_end": 73.5,
            "count": 392
           },
           {
            "bin_start": 73.5,
            "bin_end": 78.6,
            "count": 560
           },
           {
            "bin_start": 78.6,
            "bin_end": 83.69999999999999,
            "count": 382
           },
           {
            "bin_start": 83.69999999999999,
            "bin_end": 88.8,
            "count": 193
           },
           {
            "bin_start": 88.8,
            "bin_end": 93.9,
            "count": 77
           },
           {
            "bin_start": 93.9,
            "bin_end": 99,
            "count": 12
           }
          ]
         }
        },
        {
         "name": "Preffered_Foot",
         "dtype": "object",
         "stats": {
          "unique_count": 2,
          "nan_count": 0,
          "categories": [
           {
            "name": "Right",
            "count": 1398
           },
           {
            "name": "Left",
            "count": 468
           }
          ]
         }
        },
        {
         "name": "Age",
         "dtype": "int64",
         "stats": {
          "unique_count": 23,
          "nan_count": 0,
          "min": "17",
          "max": "39",
          "histogram": [
           {
            "bin_start": 17,
            "bin_end": 19.2,
            "count": 166
           },
           {
            "bin_start": 19.2,
            "bin_end": 21.4,
            "count": 262
           },
           {
            "bin_start": 21.4,
            "bin_end": 23.6,
            "count": 317
           },
           {
            "bin_start": 23.6,
            "bin_end": 25.8,
            "count": 343
           },
           {
            "bin_start": 25.8,
            "bin_end": 28,
            "count": 273
           },
           {
            "bin_start": 28,
            "bin_end": 30.200000000000003,
            "count": 319
           },
           {
            "bin_start": 30.200000000000003,
            "bin_end": 32.400000000000006,
            "count": 101
           },
           {
            "bin_start": 32.400000000000006,
            "bin_end": 34.6,
            "count": 57
           },
           {
            "bin_start": 34.6,
            "bin_end": 36.8,
            "count": 18
           },
           {
            "bin_start": 36.8,
            "bin_end": 39,
            "count": 10
           }
          ]
         }
        },
        {
         "name": "Work_Rate",
         "dtype": "object",
         "stats": {
          "unique_count": 9,
          "nan_count": 0,
          "categories": [
           {
            "name": "Medium / Medium",
            "count": 896
           },
           {
            "name": "High / Medium",
            "count": 443
           },
           {
            "name": "7 others",
            "count": 527
           }
          ]
         }
        },
        {
         "name": "Weak_foot",
         "dtype": "int64",
         "stats": {
          "unique_count": 5,
          "nan_count": 0,
          "min": "1",
          "max": "5",
          "histogram": [
           {
            "bin_start": 1,
            "bin_end": 1.4,
            "count": 12
           },
           {
            "bin_start": 1.4,
            "bin_end": 1.8,
            "count": 0
           },
           {
            "bin_start": 1.8,
            "bin_end": 2.2,
            "count": 316
           },
           {
            "bin_start": 2.2,
            "bin_end": 2.6,
            "count": 0
           },
           {
            "bin_start": 2.6,
            "bin_end": 3,
            "count": 0
           },
           {
            "bin_start": 3,
            "bin_end": 3.4000000000000004,
            "count": 1134
           },
           {
            "bin_start": 3.4000000000000004,
            "bin_end": 3.8000000000000003,
            "count": 0
           },
           {
            "bin_start": 3.8000000000000003,
            "bin_end": 4.2,
            "count": 370
           },
           {
            "bin_start": 4.2,
            "bin_end": 4.6,
            "count": 0
           },
           {
            "bin_start": 4.6,
            "bin_end": 5,
            "count": 34
           }
          ]
         }
        },
        {
         "name": "Skill_Moves",
         "dtype": "int64",
         "stats": {
          "unique_count": 5,
          "nan_count": 0,
          "min": "1",
          "max": "5",
          "histogram": [
           {
            "bin_start": 1,
            "bin_end": 1.4,
            "count": 214
           },
           {
            "bin_start": 1.4,
            "bin_end": 1.8,
            "count": 0
           },
           {
            "bin_start": 1.8,
            "bin_end": 2.2,
            "count": 806
           },
           {
            "bin_start": 2.2,
            "bin_end": 2.6,
            "count": 0
           },
           {
            "bin_start": 2.6,
            "bin_end": 3,
            "count": 0
           },
           {
            "bin_start": 3,
            "bin_end": 3.4000000000000004,
            "count": 641
           },
           {
            "bin_start": 3.4000000000000004,
            "bin_end": 3.8000000000000003,
            "count": 0
           },
           {
            "bin_start": 3.8000000000000003,
            "bin_end": 4.2,
            "count": 188
           },
           {
            "bin_start": 4.2,
            "bin_end": 4.6,
            "count": 0
           },
           {
            "bin_start": 4.6,
            "bin_end": 5,
            "count": 17
           }
          ]
         }
        },
        {
         "name": "Ball_Control",
         "dtype": "int64",
         "stats": {
          "unique_count": 81,
          "nan_count": 0,
          "min": "10",
          "max": "95",
          "histogram": [
           {
            "bin_start": 10,
            "bin_end": 18.5,
            "count": 61
           },
           {
            "bin_start": 18.5,
            "bin_end": 27,
            "count": 129
           },
           {
            "bin_start": 27,
            "bin_end": 35.5,
            "count": 26
           },
           {
            "bin_start": 35.5,
            "bin_end": 44,
            "count": 10
           },
           {
            "bin_start": 44,
            "bin_end": 52.5,
            "count": 55
           },
           {
            "bin_start": 52.5,
            "bin_end": 61,
            "count": 145
           },
           {
            "bin_start": 61,
            "bin_end": 69.5,
            "count": 427
           },
           {
            "bin_start": 69.5,
            "bin_end": 78,
            "count": 609
           },
           {
            "bin_start": 78,
            "bin_end": 86.5,
            "count": 367
           },
           {
            "bin_start": 86.5,
            "bin_end": 95,
            "count": 37
           }
          ]
         }
        },
        {
         "name": "Dribbling",
         "dtype": "int64",
         "stats": {
          "unique_count": 90,
          "nan_count": 0,
          "min": "5",
          "max": "97",
          "histogram": [
           {
            "bin_start": 5,
            "bin_end": 14.2,
            "count": 112
           },
           {
            "bin_start": 14.2,
            "bin_end": 23.4,
            "count": 104
           },
           {
            "bin_start": 23.4,
            "bin_end": 32.599999999999994,
            "count": 22
           },
           {
            "bin_start": 32.599999999999994,
            "bin_end": 41.8,
            "count": 47
           },
           {
            "bin_start": 41.8,
            "bin_end": 51,
            "count": 100
           },
           {
            "bin_start": 51,
            "bin_end": 60.199999999999996,
            "count": 222
           },
           {
            "bin_start": 60.199999999999996,
            "bin_end": 69.39999999999999,
            "count": 413
           },
           {
            "bin_start": 69.39999999999999,
            "bin_end": 78.6,
            "count": 566
           },
           {
            "bin_start": 78.6,
            "bin_end": 87.8,
            "count": 253
           },
           {
            "bin_start": 87.8,
            "bin_end": 97,
            "count": 27
           }
          ]
         }
        },
        {
         "name": "Marking",
         "dtype": "int64",
         "stats": {
          "unique_count": 85,
          "nan_count": 0,
          "min": "5",
          "max": "92",
          "histogram": [
           {
            "bin_start": 5,
            "bin_end": 13.7,
            "count": 155
           },
           {
            "bin_start": 13.7,
            "bin_end": 22.4,
            "count": 293
           },
           {
            "bin_start": 22.4,
            "bin_end": 31.099999999999998,
            "count": 193
           },
           {
            "bin_start": 31.099999999999998,
            "bin_end": 39.8,
            "count": 95
           },
           {
            "bin_start": 39.8,
            "bin_end": 48.5,
            "count": 91
           },
           {
            "bin_start": 48.5,
            "bin_end": 57.199999999999996,
            "count": 119
           },
           {
            "bin_start": 57.199999999999996,
            "bin_end": 65.89999999999999,
            "count": 239
           },
           {
            "bin_start": 65.89999999999999,
            "bin_end": 74.6,
            "count": 384
           },
           {
            "bin_start": 74.6,
            "bin_end": 83.3,
            "count": 266
           },
           {
            "bin_start": 83.3,
            "bin_end": 92,
            "count": 31
           }
          ]
         }
        },
        {
         "name": "Sliding_Tackle",
         "dtype": "int64",
         "stats": {
          "unique_count": 84,
          "nan_count": 0,
          "min": "8",
          "max": "91",
          "histogram": [
           {
            "bin_start": 8,
            "bin_end": 16.3,
            "count": 247
           },
           {
            "bin_start": 16.3,
            "bin_end": 24.6,
            "count": 222
           },
           {
            "bin_start": 24.6,
            "bin_end": 32.900000000000006,
            "count": 141
           },
           {
            "bin_start": 32.900000000000006,
            "bin_end": 41.2,
            "count": 110
           },
           {
            "bin_start": 41.2,
            "bin_end": 49.5,
            "count": 79
           },
           {
            "bin_start": 49.5,
            "bin_end": 57.800000000000004,
            "count": 91
           },
           {
            "bin_start": 57.800000000000004,
            "bin_end": 66.10000000000001,
            "count": 238
           },
           {
            "bin_start": 66.10000000000001,
            "bin_end": 74.4,
            "count": 387
           },
           {
            "bin_start": 74.4,
            "bin_end": 82.7,
            "count": 290
           },
           {
            "bin_start": 82.7,
            "bin_end": 91,
            "count": 61
           }
          ]
         }
        },
        {
         "name": "Standing_Tackle",
         "dtype": "int64",
         "stats": {
          "unique_count": 84,
          "nan_count": 0,
          "min": "9",
          "max": "92",
          "histogram": [
           {
            "bin_start": 9,
            "bin_end": 17.3,
            "count": 229
           },
           {
            "bin_start": 17.3,
            "bin_end": 25.6,
            "count": 185
           },
           {
            "bin_start": 25.6,
            "bin_end": 33.900000000000006,
            "count": 156
           },
           {
            "bin_start": 33.900000000000006,
            "bin_end": 42.2,
            "count": 125
           },
           {
            "bin_start": 42.2,
            "bin_end": 50.5,
            "count": 70
           },
           {
            "bin_start": 50.5,
            "bin_end": 58.800000000000004,
            "count": 81
           },
           {
            "bin_start": 58.800000000000004,
            "bin_end": 67.10000000000001,
            "count": 218
           },
           {
            "bin_start": 67.10000000000001,
            "bin_end": 75.4,
            "count": 395
           },
           {
            "bin_start": 75.4,
            "bin_end": 83.7,
            "count": 334
           },
           {
            "bin_start": 83.7,
            "bin_end": 92,
            "count": 73
           }
          ]
         }
        },
        {
         "name": "Aggression",
         "dtype": "int64",
         "stats": {
          "unique_count": 83,
          "nan_count": 0,
          "min": "11",
          "max": "93",
          "histogram": [
           {
            "bin_start": 11,
            "bin_end": 19.2,
            "count": 39
           },
           {
            "bin_start": 19.2,
            "bin_end": 27.4,
            "count": 87
           },
           {
            "bin_start": 27.4,
            "bin_end": 35.599999999999994,
            "count": 113
           },
           {
            "bin_start": 35.599999999999994,
            "bin_end": 43.8,
            "count": 119
           },
           {
            "bin_start": 43.8,
            "bin_end": 52,
            "count": 126
           },
           {
            "bin_start": 52,
            "bin_end": 60.199999999999996,
            "count": 252
           },
           {
            "bin_start": 60.199999999999996,
            "bin_end": 68.39999999999999,
            "count": 313
           },
           {
            "bin_start": 68.39999999999999,
            "bin_end": 76.6,
            "count": 445
           },
           {
            "bin_start": 76.6,
            "bin_end": 84.8,
            "count": 286
           },
           {
            "bin_start": 84.8,
            "bin_end": 93,
            "count": 86
           }
          ]
         }
        },
        {
         "name": "Reactions",
         "dtype": "int64",
         "stats": {
          "unique_count": 58,
          "nan_count": 0,
          "min": "31",
          "max": "96",
          "histogram": [
           {
            "bin_start": 31,
            "bin_end": 37.5,
            "count": 5
           },
           {
            "bin_start": 37.5,
            "bin_end": 44,
            "count": 8
           },
           {
            "bin_start": 44,
            "bin_end": 50.5,
            "count": 50
           },
           {
            "bin_start": 50.5,
            "bin_end": 57,
            "count": 128
           },
           {
            "bin_start": 57,
            "bin_end": 63.5,
            "count": 249
           },
           {
            "bin_start": 63.5,
            "bin_end": 70,
            "count": 396
           },
           {
            "bin_start": 70,
            "bin_end": 76.5,
            "count": 615
           },
           {
            "bin_start": 76.5,
            "bin_end": 83,
            "count": 322
           },
           {
            "bin_start": 83,
            "bin_end": 89.5,
            "count": 88
           },
           {
            "bin_start": 89.5,
            "bin_end": 96,
            "count": 5
           }
          ]
         }
        },
        {
         "name": "Interceptions",
         "dtype": "int64",
         "stats": {
          "unique_count": 87,
          "nan_count": 0,
          "min": "6",
          "max": "92",
          "histogram": [
           {
            "bin_start": 6,
            "bin_end": 14.6,
            "count": 59
           },
           {
            "bin_start": 14.6,
            "bin_end": 23.2,
            "count": 268
           },
           {
            "bin_start": 23.2,
            "bin_end": 31.799999999999997,
            "count": 181
           },
           {
            "bin_start": 31.799999999999997,
            "bin_end": 40.4,
            "count": 146
           },
           {
            "bin_start": 40.4,
            "bin_end": 49,
            "count": 104
           },
           {
            "bin_start": 49,
            "bin_end": 57.599999999999994,
            "count": 107
           },
           {
            "bin_start": 57.599999999999994,
            "bin_end": 66.19999999999999,
            "count": 249
           },
           {
            "bin_start": 66.19999999999999,
            "bin_end": 74.8,
            "count": 379
           },
           {
            "bin_start": 74.8,
            "bin_end": 83.39999999999999,
            "count": 315
           },
           {
            "bin_start": 83.39999999999999,
            "bin_end": 92,
            "count": 58
           }
          ]
         }
        },
        {
         "name": "Vision",
         "dtype": "int64",
         "stats": {
          "unique_count": 83,
          "nan_count": 0,
          "min": "11",
          "max": "93",
          "histogram": [
           {
            "bin_start": 11,
            "bin_end": 19.2,
            "count": 26
           },
           {
            "bin_start": 19.2,
            "bin_end": 27.4,
            "count": 48
           },
           {
            "bin_start": 27.4,
            "bin_end": 35.599999999999994,
            "count": 121
           },
           {
            "bin_start": 35.599999999999994,
            "bin_end": 43.8,
            "count": 147
           },
           {
            "bin_start": 43.8,
            "bin_end": 52,
            "count": 220
           },
           {
            "bin_start": 52,
            "bin_end": 60.199999999999996,
            "count": 343
           },
           {
            "bin_start": 60.199999999999996,
            "bin_end": 68.39999999999999,
            "count": 367
           },
           {
            "bin_start": 68.39999999999999,
            "bin_end": 76.6,
            "count": 381
           },
           {
            "bin_start": 76.6,
            "bin_end": 84.8,
            "count": 182
           },
           {
            "bin_start": 84.8,
            "bin_end": 93,
            "count": 31
           }
          ]
         }
        },
        {
         "name": "Composure",
         "dtype": "int64",
         "stats": {
          "unique_count": 76,
          "nan_count": 0,
          "min": "13",
          "max": "94",
          "histogram": [
           {
            "bin_start": 13,
            "bin_end": 21.1,
            "count": 8
           },
           {
            "bin_start": 21.1,
            "bin_end": 29.2,
            "count": 45
           },
           {
            "bin_start": 29.2,
            "bin_end": 37.3,
            "count": 56
           },
           {
            "bin_start": 37.3,
            "bin_end": 45.4,
            "count": 119
           },
           {
            "bin_start": 45.4,
            "bin_end": 53.5,
            "count": 185
           },
           {
            "bin_start": 53.5,
            "bin_end": 61.599999999999994,
            "count": 299
           },
           {
            "bin_start": 61.599999999999994,
            "bin_end": 69.69999999999999,
            "count": 443
           },
           {
            "bin_start": 69.69999999999999,
            "bin_end": 77.8,
            "count": 482
           },
           {
            "bin_start": 77.8,
            "bin_end": 85.89999999999999,
            "count": 203
           },
           {
            "bin_start": 85.89999999999999,
            "bin_end": 94,
            "count": 26
           }
          ]
         }
        },
        {
         "name": "Crossing",
         "dtype": "int64",
         "stats": {
          "unique_count": 82,
          "nan_count": 0,
          "min": "8",
          "max": "90",
          "histogram": [
           {
            "bin_start": 8,
            "bin_end": 16.2,
            "count": 181
           },
           {
            "bin_start": 16.2,
            "bin_end": 24.4,
            "count": 55
           },
           {
            "bin_start": 24.4,
            "bin_end": 32.599999999999994,
            "count": 65
           },
           {
            "bin_start": 32.599999999999994,
            "bin_end": 40.8,
            "count": 102
           },
           {
            "bin_start": 40.8,
            "bin_end": 49,
            "count": 137
           },
           {
            "bin_start": 49,
            "bin_end": 57.199999999999996,
            "count": 218
           },
           {
            "bin_start": 57.199999999999996,
            "bin_end": 65.39999999999999,
            "count": 346
           },
           {
            "bin_start": 65.39999999999999,
            "bin_end": 73.6,
            "count": 420
           },
           {
            "bin_start": 73.6,
            "bin_end": 81.8,
            "count": 287
           },
           {
            "bin_start": 81.8,
            "bin_end": 90,
            "count": 55
           }
          ]
         }
        },
        {
         "name": "Short_Pass",
         "dtype": "int64",
         "stats": {
          "unique_count": 79,
          "nan_count": 0,
          "min": "12",
          "max": "91",
          "histogram": [
           {
            "bin_start": 12,
            "bin_end": 19.9,
            "count": 16
           },
           {
            "bin_start": 19.9,
            "bin_end": 27.8,
            "count": 69
           },
           {
            "bin_start": 27.8,
            "bin_end": 35.7,
            "count": 102
           },
           {
            "bin_start": 35.7,
            "bin_end": 43.6,
            "count": 34
           },
           {
            "bin_start": 43.6,
            "bin_end": 51.5,
            "count": 48
           },
           {
            "bin_start": 51.5,
            "bin_end": 59.400000000000006,
            "count": 142
           },
           {
            "bin_start": 59.400000000000006,
            "bin_end": 67.30000000000001,
            "count": 383
           },
           {
            "bin_start": 67.30000000000001,
            "bin_end": 75.2,
            "count": 618
           },
           {
            "bin_start": 75.2,
            "bin_end": 83.10000000000001,
            "count": 382
           },
           {
            "bin_start": 83.10000000000001,
            "bin_end": 91,
            "count": 72
           }
          ]
         }
        },
        {
         "name": "Long_Pass",
         "dtype": "int64",
         "stats": {
          "unique_count": 80,
          "nan_count": 0,
          "min": "10",
          "max": "93",
          "histogram": [
           {
            "bin_start": 10,
            "bin_end": 18.3,
            "count": 20
           },
           {
            "bin_start": 18.3,
            "bin_end": 26.6,
            "count": 93
           },
           {
            "bin_start": 26.6,
            "bin_end": 34.900000000000006,
            "count": 102
           },
           {
            "bin_start": 34.900000000000006,
            "bin_end": 43.2,
            "count": 107
           },
           {
            "bin_start": 43.2,
            "bin_end": 51.5,
            "count": 168
           },
           {
            "bin_start": 51.5,
            "bin_end": 59.800000000000004,
            "count": 283
           },
           {
            "bin_start": 59.800000000000004,
            "bin_end": 68.10000000000001,
            "count": 513
           },
           {
            "bin_start": 68.10000000000001,
            "bin_end": 76.4,
            "count": 405
           },
           {
            "bin_start": 76.4,
            "bin_end": 84.7,
            "count": 158
           },
           {
            "bin_start": 84.7,
            "bin_end": 93,
            "count": 17
           }
          ]
         }
        },
        {
         "name": "Acceleration",
         "dtype": "int64",
         "stats": {
          "unique_count": 78,
          "nan_count": 0,
          "min": "16",
          "max": "96",
          "histogram": [
           {
            "bin_start": 16,
            "bin_end": 24,
            "count": 7
           },
           {
            "bin_start": 24,
            "bin_end": 32,
            "count": 19
           },
           {
            "bin_start": 32,
            "bin_end": 40,
            "count": 34
           },
           {
            "bin_start": 40,
            "bin_end": 48,
            "count": 102
           },
           {
            "bin_start": 48,
            "bin_end": 56,
            "count": 186
           },
           {
            "bin_start": 56,
            "bin_end": 64,
            "count": 169
           },
           {
            "bin_start": 64,
            "bin_end": 72,
            "count": 415
           },
           {
            "bin_start": 72,
            "bin_end": 80,
            "count": 548
           },
           {
            "bin_start": 80,
            "bin_end": 88,
            "count": 270
           },
           {
            "bin_start": 88,
            "bin_end": 96,
            "count": 116
           }
          ]
         }
        },
        {
         "name": "Speed",
         "dtype": "int64",
         "stats": {
          "unique_count": 74,
          "nan_count": 0,
          "min": "16",
          "max": "96",
          "histogram": [
           {
            "bin_start": 16,
            "bin_end": 24,
            "count": 6
           },
           {
            "bin_start": 24,
            "bin_end": 32,
            "count": 16
           },
           {
            "bin_start": 32,
            "bin_end": 40,
            "count": 36
           },
           {
            "bin_start": 40,
            "bin_end": 48,
            "count": 89
           },
           {
            "bin_start": 48,
            "bin_end": 56,
            "count": 177
           },
           {
            "bin_start": 56,
            "bin_end": 64,
            "count": 126
           },
           {
            "bin_start": 64,
            "bin_end": 72,
            "count": 460
           },
           {
            "bin_start": 72,
            "bin_end": 80,
            "count": 579
           },
           {
            "bin_start": 80,
            "bin_end": 88,
            "count": 281
           },
           {
            "bin_start": 88,
            "bin_end": 96,
            "count": 96
           }
          ]
         }
        },
        {
         "name": "Stamina",
         "dtype": "int64",
         "stats": {
          "unique_count": 80,
          "nan_count": 0,
          "min": "14",
          "max": "95",
          "histogram": [
           {
            "bin_start": 14,
            "bin_end": 22.1,
            "count": 15
           },
           {
            "bin_start": 22.1,
            "bin_end": 30.2,
            "count": 61
           },
           {
            "bin_start": 30.2,
            "bin_end": 38.3,
            "count": 92
           },
           {
            "bin_start": 38.3,
            "bin_end": 46.4,
            "count": 70
           },
           {
            "bin_start": 46.4,
            "bin_end": 54.5,
            "count": 45
           },
           {
            "bin_start": 54.5,
            "bin_end": 62.599999999999994,
            "count": 189
           },
           {
            "bin_start": 62.599999999999994,
            "bin_end": 70.69999999999999,
            "count": 384
           },
           {
            "bin_start": 70.69999999999999,
            "bin_end": 78.8,
            "count": 548
           },
           {
            "bin_start": 78.8,
            "bin_end": 86.89999999999999,
            "count": 324
           },
           {
            "bin_start": 86.89999999999999,
            "bin_end": 95,
            "count": 138
           }
          ]
         }
        },
        {
         "name": "Strength",
         "dtype": "int64",
         "stats": {
          "unique_count": 68,
          "nan_count": 0,
          "min": "25",
          "max": "94",
          "histogram": [
           {
            "bin_start": 25,
            "bin_end": 31.9,
            "count": 8
           },
           {
            "bin_start": 31.9,
            "bin_end": 38.8,
            "count": 25
           },
           {
            "bin_start": 38.8,
            "bin_end": 45.7,
            "count": 43
           },
           {
            "bin_start": 45.7,
            "bin_end": 52.6,
            "count": 72
           },
           {
            "bin_start": 52.6,
            "bin_end": 59.5,
            "count": 236
           },
           {
            "bin_start": 59.5,
            "bin_end": 66.4,
            "count": 344
           },
           {
            "bin_start": 66.4,
            "bin_end": 73.30000000000001,
            "count": 413
           },
           {
            "bin_start": 73.30000000000001,
            "bin_end": 80.2,
            "count": 480
           },
           {
            "bin_start": 80.2,
            "bin_end": 87.1,
            "count": 184
           },
           {
            "bin_start": 87.1,
            "bin_end": 94,
            "count": 61
           }
          ]
         }
        },
        {
         "name": "Balance",
         "dtype": "int64",
         "stats": {
          "unique_count": 75,
          "nan_count": 0,
          "min": "21",
          "max": "96",
          "histogram": [
           {
            "bin_start": 21,
            "bin_end": 28.5,
            "count": 18
           },
           {
            "bin_start": 28.5,
            "bin_end": 36,
            "count": 62
           },
           {
            "bin_start": 36,
            "bin_end": 43.5,
            "count": 81
           },
           {
            "bin_start": 43.5,
            "bin_end": 51,
            "count": 125
           },
           {
            "bin_start": 51,
            "bin_end": 58.5,
            "count": 267
           },
           {
            "bin_start": 58.5,
            "bin_end": 66,
            "count": 351
           },
           {
            "bin_start": 66,
            "bin_end": 73.5,
            "count": 375
           },
           {
            "bin_start": 73.5,
            "bin_end": 81,
            "count": 347
           },
           {
            "bin_start": 81,
            "bin_end": 88.5,
            "count": 183
           },
           {
            "bin_start": 88.5,
            "bin_end": 96,
            "count": 57
           }
          ]
         }
        },
        {
         "name": "Agility",
         "dtype": "int64",
         "stats": {
          "unique_count": 74,
          "nan_count": 0,
          "min": "21",
          "max": "96",
          "histogram": [
           {
            "bin_start": 21,
            "bin_end": 28.5,
            "count": 12
           },
           {
            "bin_start": 28.5,
            "bin_end": 36,
            "count": 71
           },
           {
            "bin_start": 36,
            "bin_end": 43.5,
            "count": 75
           },
           {
            "bin_start": 43.5,
            "bin_end": 51,
            "count": 96
           },
           {
            "bin_start": 51,
            "bin_end": 58.5,
            "count": 216
           },
           {
            "bin_start": 58.5,
            "bin_end": 66,
            "count": 289
           },
           {
            "bin_start": 66,
            "bin_end": 73.5,
            "count": 395
           },
           {
            "bin_start": 73.5,
            "bin_end": 81,
            "count": 399
           },
           {
            "bin_start": 81,
            "bin_end": 88.5,
            "count": 243
           },
           {
            "bin_start": 88.5,
            "bin_end": 96,
            "count": 70
           }
          ]
         }
        },
        {
         "name": "Jumping",
         "dtype": "int64",
         "stats": {
          "unique_count": 65,
          "nan_count": 0,
          "min": "30",
          "max": "95",
          "histogram": [
           {
            "bin_start": 30,
            "bin_end": 36.5,
            "count": 27
           },
           {
            "bin_start": 36.5,
            "bin_end": 43,
            "count": 25
           },
           {
            "bin_start": 43,
            "bin_end": 49.5,
            "count": 50
           },
           {
            "bin_start": 49.5,
            "bin_end": 56,
            "count": 148
           },
           {
            "bin_start": 56,
            "bin_end": 62.5,
            "count": 282
           },
           {
            "bin_start": 62.5,
            "bin_end": 69,
            "count": 353
           },
           {
            "bin_start": 69,
            "bin_end": 75.5,
            "count": 530
           },
           {
            "bin_start": 75.5,
            "bin_end": 82,
            "count": 251
           },
           {
            "bin_start": 82,
            "bin_end": 88.5,
            "count": 160
           },
           {
            "bin_start": 88.5,
            "bin_end": 95,
            "count": 40
           }
          ]
         }
        },
        {
         "name": "Heading",
         "dtype": "int64",
         "stats": {
          "unique_count": 83,
          "nan_count": 0,
          "min": "8",
          "max": "93",
          "histogram": [
           {
            "bin_start": 8,
            "bin_end": 16.5,
            "count": 166
           },
           {
            "bin_start": 16.5,
            "bin_end": 25,
            "count": 48
           },
           {
            "bin_start": 25,
            "bin_end": 33.5,
            "count": 31
           },
           {
            "bin_start": 33.5,
            "bin_end": 42,
            "count": 65
           },
           {
            "bin_start": 42,
            "bin_end": 50.5,
            "count": 185
           },
           {
            "bin_start": 50.5,
            "bin_end": 59,
            "count": 320
           },
           {
            "bin_start": 59,
            "bin_end": 67.5,
            "count": 452
           },
           {
            "bin_start": 67.5,
            "bin_end": 76,
            "count": 359
           },
           {
            "bin_start": 76,
            "bin_end": 84.5,
            "count": 208
           },
           {
            "bin_start": 84.5,
            "bin_end": 93,
            "count": 32
           }
          ]
         }
        },
        {
         "name": "Shot_Power",
         "dtype": "int64",
         "stats": {
          "unique_count": 81,
          "nan_count": 0,
          "min": "11",
          "max": "92",
          "histogram": [
           {
            "bin_start": 11,
            "bin_end": 19.1,
            "count": 50
           },
           {
            "bin_start": 19.1,
            "bin_end": 27.2,
            "count": 149
           },
           {
            "bin_start": 27.2,
            "bin_end": 35.3,
            "count": 42
           },
           {
            "bin_start": 35.3,
            "bin_end": 43.4,
            "count": 91
           },
           {
            "bin_start": 43.4,
            "bin_end": 51.5,
            "count": 125
           },
           {
            "bin_start": 51.5,
            "bin_end": 59.599999999999994,
            "count": 187
           },
           {
            "bin_start": 59.599999999999994,
            "bin_end": 67.69999999999999,
            "count": 286
           },
           {
            "bin_start": 67.69999999999999,
            "bin_end": 75.8,
            "count": 469
           },
           {
            "bin_start": 75.8,
            "bin_end": 83.89999999999999,
            "count": 366
           },
           {
            "bin_start": 83.89999999999999,
            "bin_end": 92,
            "count": 101
           }
          ]
         }
        },
        {
         "name": "Finishing",
         "dtype": "int64",
         "stats": {
          "unique_count": 91,
          "nan_count": 0,
          "min": "5",
          "max": "95",
          "histogram": [
           {
            "bin_start": 5,
            "bin_end": 14,
            "count": 129
           },
           {
            "bin_start": 14,
            "bin_end": 23,
            "count": 158
           },
           {
            "bin_start": 23,
            "bin_end": 32,
            "count": 167
           },
           {
            "bin_start": 32,
            "bin_end": 41,
            "count": 185
           },
           {
            "bin_start": 41,
            "bin_end": 50,
            "count": 182
           },
           {
            "bin_start": 50,
            "bin_end": 59,
            "count": 246
           },
           {
            "bin_start": 59,
            "bin_end": 68,
            "count": 308
           },
           {
            "bin_start": 68,
            "bin_end": 77,
            "count": 339
           },
           {
            "bin_start": 77,
            "bin_end": 86,
            "count": 130
           },
           {
            "bin_start": 86,
            "bin_end": 95,
            "count": 22
           }
          ]
         }
        },
        {
         "name": "Long_Shots",
         "dtype": "int64",
         "stats": {
          "unique_count": 87,
          "nan_count": 0,
          "min": "5",
          "max": "91",
          "histogram": [
           {
            "bin_start": 5,
            "bin_end": 13.6,
            "count": 91
           },
           {
            "bin_start": 13.6,
            "bin_end": 22.2,
            "count": 157
           },
           {
            "bin_start": 22.2,
            "bin_end": 30.799999999999997,
            "count": 115
           },
           {
            "bin_start": 30.799999999999997,
            "bin_end": 39.4,
            "count": 129
           },
           {
            "bin_start": 39.4,
            "bin_end": 48,
            "count": 130
           },
           {
            "bin_start": 48,
            "bin_end": 56.599999999999994,
            "count": 216
           },
           {
            "bin_start": 56.599999999999994,
            "bin_end": 65.19999999999999,
            "count": 344
           },
           {
            "bin_start": 65.19999999999999,
            "bin_end": 73.8,
            "count": 406
           },
           {
            "bin_start": 73.8,
            "bin_end": 82.39999999999999,
            "count": 242
           },
           {
            "bin_start": 82.39999999999999,
            "bin_end": 91,
            "count": 36
           }
          ]
         }
        },
        {
         "name": "Curve",
         "dtype": "int64",
         "stats": {
          "unique_count": 83,
          "nan_count": 0,
          "min": "6",
          "max": "90",
          "histogram": [
           {
            "bin_start": 6,
            "bin_end": 14.4,
            "count": 127
           },
           {
            "bin_start": 14.4,
            "bin_end": 22.8,
            "count": 98
           },
           {
            "bin_start": 22.8,
            "bin_end": 31.200000000000003,
            "count": 106
           },
           {
            "bin_start": 31.200000000000003,
            "bin_end": 39.6,
            "count": 130
           },
           {
            "bin_start": 39.6,
            "bin_end": 48,
            "count": 179
           },
           {
            "bin_start": 48,
            "bin_end": 56.400000000000006,
            "count": 259
           },
           {
            "bin_start": 56.400000000000006,
            "bin_end": 64.80000000000001,
            "count": 293
           },
           {
            "bin_start": 64.80000000000001,
            "bin_end": 73.2,
            "count": 365
           },
           {
            "bin_start": 73.2,
            "bin_end": 81.60000000000001,
            "count": 239
           },
           {
            "bin_start": 81.60000000000001,
            "bin_end": 90,
            "count": 70
           }
          ]
         }
        },
        {
         "name": "Freekick_Accuracy",
         "dtype": "int64",
         "stats": {
          "unique_count": 83,
          "nan_count": 0,
          "min": "7",
          "max": "91",
          "histogram": [
           {
            "bin_start": 7,
            "bin_end": 15.4,
            "count": 151
           },
           {
            "bin_start": 15.4,
            "bin_end": 23.8,
            "count": 97
           },
           {
            "bin_start": 23.8,
            "bin_end": 32.2,
            "count": 197
           },
           {
            "bin_start": 32.2,
            "bin_end": 40.6,
            "count": 248
           },
           {
            "bin_start": 40.6,
            "bin_end": 49,
            "count": 246
           },
           {
            "bin_start": 49,
            "bin_end": 57.400000000000006,
            "count": 267
           },
           {
            "bin_start": 57.400000000000006,
            "bin_end": 65.80000000000001,
            "count": 234
           },
           {
            "bin_start": 65.80000000000001,
            "bin_end": 74.2,
            "count": 280
           },
           {
            "bin_start": 74.2,
            "bin_end": 82.60000000000001,
            "count": 123
           },
           {
            "bin_start": 82.60000000000001,
            "bin_end": 91,
            "count": 23
           }
          ]
         }
        },
        {
         "name": "Penalties",
         "dtype": "int64",
         "stats": {
          "unique_count": 80,
          "nan_count": 0,
          "min": "11",
          "max": "92",
          "histogram": [
           {
            "bin_start": 11,
            "bin_end": 19.1,
            "count": 72
           },
           {
            "bin_start": 19.1,
            "bin_end": 27.2,
            "count": 145
           },
           {
            "bin_start": 27.2,
            "bin_end": 35.3,
            "count": 82
           },
           {
            "bin_start": 35.3,
            "bin_end": 43.4,
            "count": 221
           },
           {
            "bin_start": 43.4,
            "bin_end": 51.5,
            "count": 319
           },
           {
            "bin_start": 51.5,
            "bin_end": 59.599999999999994,
            "count": 319
           },
           {
            "bin_start": 59.599999999999994,
            "bin_end": 67.69999999999999,
            "count": 319
           },
           {
            "bin_start": 67.69999999999999,
            "bin_end": 75.8,
            "count": 270
           },
           {
            "bin_start": 75.8,
            "bin_end": 83.89999999999999,
            "count": 94
           },
           {
            "bin_start": 83.89999999999999,
            "bin_end": 92,
            "count": 25
           }
          ]
         }
        },
        {
         "name": "Volleys",
         "dtype": "int64",
         "stats": {
          "unique_count": 86,
          "nan_count": 0,
          "min": "5",
          "max": "91",
          "histogram": [
           {
            "bin_start": 5,
            "bin_end": 13.6,
            "count": 117
           },
           {
            "bin_start": 13.6,
            "bin_end": 22.2,
            "count": 150
           },
           {
            "bin_start": 22.2,
            "bin_end": 30.799999999999997,
            "count": 150
           },
           {
            "bin_start": 30.799999999999997,
            "bin_end": 39.4,
            "count": 214
           },
           {
            "bin_start": 39.4,
            "bin_end": 48,
            "count": 200
           },
           {
            "bin_start": 48,
            "bin_end": 56.599999999999994,
            "count": 278
           },
           {
            "bin_start": 56.599999999999994,
            "bin_end": 65.19999999999999,
            "count": 305
           },
           {
            "bin_start": 65.19999999999999,
            "bin_end": 73.8,
            "count": 260
           },
           {
            "bin_start": 73.8,
            "bin_end": 82.39999999999999,
            "count": 162
           },
           {
            "bin_start": 82.39999999999999,
            "bin_end": 91,
            "count": 30
           }
          ]
         }
        },
        {
         "name": "target",
         "dtype": "int64",
         "stats": {
          "unique_count": 2,
          "nan_count": 0,
          "min": "0",
          "max": "1",
          "histogram": [
           {
            "bin_start": 0,
            "bin_end": 0.1,
            "count": 1527
           },
           {
            "bin_start": 0.1,
            "bin_end": 0.2,
            "count": 0
           },
           {
            "bin_start": 0.2,
            "bin_end": 0.30000000000000004,
            "count": 0
           },
           {
            "bin_start": 0.30000000000000004,
            "bin_end": 0.4,
            "count": 0
           },
           {
            "bin_start": 0.4,
            "bin_end": 0.5,
            "count": 0
           },
           {
            "bin_start": 0.5,
            "bin_end": 0.6000000000000001,
            "count": 0
           },
           {
            "bin_start": 0.6000000000000001,
            "bin_end": 0.7000000000000001,
            "count": 0
           },
           {
            "bin_start": 0.7000000000000001,
            "bin_end": 0.8,
            "count": 0
           },
           {
            "bin_start": 0.8,
            "bin_end": 0.9,
            "count": 0
           },
           {
            "bin_start": 0.9,
            "bin_end": 1,
            "count": 339
           }
          ]
         }
        },
        {
         "name": "_deepnote_index_column",
         "dtype": "int64"
        }
       ],
       "rows_top": [
        {
         "Name": "Lionel Messi",
         "Weekly Salary": 1538905,
         "Nationality": "Argentina",
         "National_Position": "RW",
         "Club_Position": "RW",
         "Height": 170,
         "Weight": 72,
         "Preffered_Foot": "Left",
         "Age": 29,
         "Work_Rate": "Medium / Medium",
         "Weak_foot": 4,
         "Skill_Moves": 4,
         "Ball_Control": 95,
         "Dribbling": 97,
         "Marking": 13,
         "Sliding_Tackle": 26,
         "Standing_Tackle": 28,
         "Aggression": 48,
         "Reactions": 95,
         "Interceptions": 22,
         "Vision": 90,
         "Composure": 94,
         "Crossing": 77,
         "Short_Pass": 88,
         "Long_Pass": 87,
         "Acceleration": 92,
         "Speed": 87,
         "Stamina": 74,
         "Strength": 59,
         "Balance": 95,
         "Agility": 90,
         "Jumping": 68,
         "Heading": 71,
         "Shot_Power": 85,
         "Finishing": 95,
         "Long_Shots": 88,
         "Curve": 89,
         "Freekick_Accuracy": 90,
         "Penalties": 74,
         "Volleys": 85,
         "target": 1,
         "_deepnote_index_column": 0
        },
        {
         "Name": "Cristiano Ronaldo",
         "Weekly Salary": 1248536,
         "Nationality": "Portugal",
         "National_Position": "LS",
         "Club_Position": "LW",
         "Height": 185,
         "Weight": 80,
         "Preffered_Foot": "Right",
         "Age": 32,
         "Work_Rate": "High / Low",
         "Weak_foot": 4,
         "Skill_Moves": 5,
         "Ball_Control": 93,
         "Dribbling": 92,
         "Marking": 22,
         "Sliding_Tackle": 23,
         "Standing_Tackle": 31,
         "Aggression": 63,
         "Reactions": 96,
         "Interceptions": 29,
         "Vision": 85,
         "Composure": 86,
         "Crossing": 84,
         "Short_Pass": 83,
         "Long_Pass": 77,
         "Acceleration": 91,
         "Speed": 92,
         "Stamina": 92,
         "Strength": 80,
         "Balance": 63,
         "Agility": 90,
         "Jumping": 95,
         "Heading": 85,
         "Shot_Power": 92,
         "Finishing": 93,
         "Long_Shots": 90,
         "Curve": 81,
         "Freekick_Accuracy": 76,
         "Penalties": 85,
         "Volleys": 88,
         "target": 1,
         "_deepnote_index_column": 1
        },
        {
         "Name": "Antoine Griezmann",
         "Weekly Salary": 997032,
         "Nationality": "France",
         "National_Position": "CAM",
         "Club_Position": "RS",
         "Height": 176,
         "Weight": 67,
         "Preffered_Foot": "Left",
         "Age": 26,
         "Work_Rate": "High / Medium",
         "Weak_foot": 3,
         "Skill_Moves": 4,
         "Ball_Control": 86,
         "Dribbling": 87,
         "Marking": 23,
         "Sliding_Tackle": 11,
         "Standing_Tackle": 22,
         "Aggression": 69,
         "Reactions": 90,
         "Interceptions": 35,
         "Vision": 76,
         "Composure": 81,
         "Crossing": 82,
         "Short_Pass": 79,
         "Long_Pass": 75,
         "Acceleration": 87,
         "Speed": 86,
         "Stamina": 75,
         "Strength": 61,
         "Balance": 80,
         "Agility": 90,
         "Jumping": 87,
         "Heading": 80,
         "Shot_Power": 81,
         "Finishing": 88,
         "Long_Shots": 82,
         "Curve": 84,
         "Freekick_Accuracy": 75,
         "Penalties": 71,
         "Volleys": 87,
         "target": 1,
         "_deepnote_index_column": 2
        },
        {
         "Name": "Neymar",
         "Weekly Salary": 797726,
         "Nationality": "Brazil",
         "National_Position": "LW",
         "Club_Position": "LW",
         "Height": 174,
         "Weight": 68,
         "Preffered_Foot": "Right",
         "Age": 25,
         "Work_Rate": "High / Medium",
         "Weak_foot": 5,
         "Skill_Moves": 5,
         "Ball_Control": 95,
         "Dribbling": 96,
         "Marking": 21,
         "Sliding_Tackle": 33,
         "Standing_Tackle": 24,
         "Aggression": 56,
         "Reactions": 88,
         "Interceptions": 36,
         "Vision": 80,
         "Composure": 80,
         "Crossing": 75,
         "Short_Pass": 81,
         "Long_Pass": 75,
         "Acceleration": 93,
         "Speed": 90,
         "Stamina": 79,
         "Strength": 49,
         "Balance": 82,
         "Agility": 96,
         "Jumping": 61,
         "Heading": 62,
         "Shot_Power": 78,
         "Finishing": 89,
         "Long_Shots": 77,
         "Curve": 79,
         "Freekick_Accuracy": 84,
         "Penalties": 81,
         "Volleys": 83,
         "target": 1,
         "_deepnote_index_column": 3
        },
        {
         "Name": "Gareth Bale",
         "Weekly Salary": 607706,
         "Nationality": "Wales",
         "National_Position": "RS",
         "Club_Position": "RW",
         "Height": 183,
         "Weight": 74,
         "Preffered_Foot": "Left",
         "Age": 27,
         "Work_Rate": "High / Medium",
         "Weak_foot": 3,
         "Skill_Moves": 4,
         "Ball_Control": 88,
         "Dribbling": 89,
         "Marking": 51,
         "Sliding_Tackle": 52,
         "Standing_Tackle": 55,
         "Aggression": 65,
         "Reactions": 87,
         "Interceptions": 59,
         "Vision": 79,
         "Composure": 85,
         "Crossing": 87,
         "Short_Pass": 86,
         "Long_Pass": 80,
         "Acceleration": 93,
         "Speed": 95,
         "Stamina": 78,
         "Strength": 80,
         "Balance": 65,
         "Agility": 77,
         "Jumping": 85,
         "Heading": 86,
         "Shot_Power": 91,
         "Finishing": 87,
         "Long_Shots": 90,
         "Curve": 86,
         "Freekick_Accuracy": 85,
         "Penalties": 76,
         "Volleys": 76,
         "target": 1,
         "_deepnote_index_column": 4
        },
        {
         "Name": "Luis Suárez",
         "Weekly Salary": 508923,
         "Nationality": "Uruguay",
         "National_Position": "LS",
         "Club_Position": "ST",
         "Height": 182,
         "Weight": 85,
         "Preffered_Foot": "Right",
         "Age": 30,
         "Work_Rate": "High / Medium",
         "Weak_foot": 4,
         "Skill_Moves": 4,
         "Ball_Control": 91,
         "Dribbling": 86,
         "Marking": 30,
         "Sliding_Tackle": 38,
         "Standing_Tackle": 45,
         "Aggression": 78,
         "Reactions": 93,
         "Interceptions": 41,
         "Vision": 84,
         "Composure": 83,
         "Crossing": 77,
         "Short_Pass": 83,
         "Long_Pass": 64,
         "Acceleration": 88,
         "Speed": 77,
         "Stamina": 89,
         "Strength": 76,
         "Balance": 60,
         "Agility": 86,
         "Jumping": 69,
         "Heading": 77,
         "Shot_Power": 87,
         "Finishing": 94,
         "Long_Shots": 86,
         "Curve": 86,
         "Freekick_Accuracy": 84,
         "Penalties": 85,
         "Volleys": 88,
         "target": 1,
         "_deepnote_index_column": 5
        },
        {
         "Name": "Alexis Sánchez",
         "Weekly Salary": 461765,
         "Nationality": "Chile",
         "National_Position": "LW",
         "Club_Position": "ST",
         "Height": 169,
         "Weight": 62,
         "Preffered_Foot": "Right",
         "Age": 28,
         "Work_Rate": "High / High",
         "Weak_foot": 3,
         "Skill_Moves": 4,
         "Ball_Control": 86,
         "Dribbling": 89,
         "Marking": 30,
         "Sliding_Tackle": 35,
         "Standing_Tackle": 39,
         "Aggression": 80,
         "Reactions": 87,
         "Interceptions": 42,
         "Vision": 82,
         "Composure": 82,
         "Crossing": 80,
         "Short_Pass": 80,
         "Long_Pass": 73,
         "Acceleration": 88,
         "Speed": 84,
         "Stamina": 85,
         "Strength": 72,
         "Balance": 87,
         "Agility": 90,
         "Jumping": 85,
         "Heading": 70,
         "Shot_Power": 84,
         "Finishing": 85,
         "Long_Shots": 81,
         "Curve": 78,
         "Freekick_Accuracy": 78,
         "Penalties": 77,
         "Volleys": 83,
         "target": 1,
         "_deepnote_index_column": 6
        },
        {
         "Name": "Mesut Özil",
         "Weekly Salary": 461765,
         "Nationality": "Germany",
         "National_Position": "CAM",
         "Club_Position": "CAM",
         "Height": 180,
         "Weight": 76,
         "Preffered_Foot": "Left",
         "Age": 28,
         "Work_Rate": "Medium / Low",
         "Weak_foot": 2,
         "Skill_Moves": 4,
         "Ball_Control": 90,
         "Dribbling": 86,
         "Marking": 22,
         "Sliding_Tackle": 19,
         "Standing_Tackle": 16,
         "Aggression": 48,
         "Reactions": 87,
         "Interceptions": 24,
         "Vision": 93,
         "Composure": 73,
         "Crossing": 82,
         "Short_Pass": 89,
         "Long_Pass": 84,
         "Acceleration": 77,
         "Speed": 68,
         "Stamina": 68,
         "Strength": 56,
         "Balance": 70,
         "Agility": 84,
         "Jumping": 52,
         "Heading": 54,
         "Shot_Power": 70,
         "Finishing": 75,
         "Long_Shots": 76,
         "Curve": 84,
         "Freekick_Accuracy": 79,
         "Penalties": 67,
         "Volleys": 77,
         "target": 1,
         "_deepnote_index_column": 7
        },
        {
         "Name": "Toni Kroos",
         "Weekly Salary": 434977,
         "Nationality": "Germany",
         "National_Position": "LDM",
         "Club_Position": "LCM",
         "Height": 182,
         "Weight": 78,
         "Preffered_Foot": "Right",
         "Age": 27,
         "Work_Rate": "Medium / Medium",
         "Weak_foot": 5,
         "Skill_Moves": 3,
         "Ball_Control": 85,
         "Dribbling": 78,
         "Marking": 63,
         "Sliding_Tackle": 65,
         "Standing_Tackle": 75,
         "Aggression": 60,
         "Reactions": 85,
         "Interceptions": 77,
         "Vision": 88,
         "Composure": 85,
         "Crossing": 85,
         "Short_Pass": 89,
         "Long_Pass": 93,
         "Acceleration": 55,
         "Speed": 37,
         "Stamina": 78,
         "Strength": 74,
         "Balance": 62,
         "Agility": 70,
         "Jumping": 34,
         "Heading": 54,
         "Shot_Power": 87,
         "Finishing": 75,
         "Long_Shots": 88,
         "Curve": 85,
         "Freekick_Accuracy": 84,
         "Penalties": 73,
         "Volleys": 82,
         "target": 1,
         "_deepnote_index_column": 8
        },
        {
         "Name": "Sergio Ramos",
         "Weekly Salary": 434977,
         "Nationality": "Spain",
         "National_Position": "LCB",
         "Club_Position": "LCB",
         "Height": 183,
         "Weight": 75,
         "Preffered_Foot": "Right",
         "Age": 31,
         "Work_Rate": "High / Medium",
         "Weak_foot": 3,
         "Skill_Moves": 3,
         "Ball_Control": 83,
         "Dribbling": 61,
         "Marking": 85,
         "Sliding_Tackle": 90,
         "Standing_Tackle": 89,
         "Aggression": 84,
         "Reactions": 82,
         "Interceptions": 88,
         "Vision": 63,
         "Composure": 76,
         "Crossing": 66,
         "Short_Pass": 76,
         "Long_Pass": 70,
         "Acceleration": 77,
         "Speed": 78,
         "Stamina": 84,
         "Strength": 81,
         "Balance": 60,
         "Agility": 80,
         "Jumping": 92,
         "Heading": 90,
         "Shot_Power": 79,
         "Finishing": 60,
         "Long_Shots": 55,
         "Curve": 73,
         "Freekick_Accuracy": 67,
         "Penalties": 68,
         "Volleys": 66,
         "target": 1,
         "_deepnote_index_column": 9
        },
        {
         "Name": "Marcelo",
         "Weekly Salary": 434977,
         "Nationality": "Brazil",
         "National_Position": "LB",
         "Club_Position": "LB",
         "Height": 174,
         "Weight": 75,
         "Preffered_Foot": "Left",
         "Age": 28,
         "Work_Rate": "High / Medium",
         "Weak_foot": 4,
         "Skill_Moves": 4,
         "Ball_Control": 87,
         "Dribbling": 83,
         "Marking": 80,
         "Sliding_Tackle": 87,
         "Standing_Tackle": 84,
         "Aggression": 84,
         "Reactions": 85,
         "Interceptions": 83,
         "Vision": 75,
         "Composure": 76,
         "Crossing": 87,
         "Short_Pass": 81,
         "Long_Pass": 76,
         "Acceleration": 77,
         "Speed": 80,
         "Stamina": 82,
         "Strength": 77,
         "Balance": 82,
         "Agility": 77,
         "Jumping": 77,
         "Heading": 70,
         "Shot_Power": 83,
         "Finishing": 67,
         "Long_Shots": 66,
         "Curve": 80,
         "Freekick_Accuracy": 67,
         "Penalties": 59,
         "Volleys": 54,
         "target": 1,
         "_deepnote_index_column": 10
        },
        {
         "Name": "Marcelo",
         "Weekly Salary": 434977,
         "Nationality": "Brazil",
         "National_Position": "nan",
         "Club_Position": "RCB",
         "Height": 182,
         "Weight": 74,
         "Preffered_Foot": "Right",
         "Age": 27,
         "Work_Rate": "Medium / High",
         "Weak_foot": 2,
         "Skill_Moves": 2,
         "Ball_Control": 60,
         "Dribbling": 41,
         "Marking": 76,
         "Sliding_Tackle": 78,
         "Standing_Tackle": 81,
         "Aggression": 73,
         "Reactions": 76,
         "Interceptions": 77,
         "Vision": 38,
         "Composure": 71,
         "Crossing": 37,
         "Short_Pass": 65,
         "Long_Pass": 51,
         "Acceleration": 72,
         "Speed": 75,
         "Stamina": 71,
         "Strength": 72,
         "Balance": 68,
         "Agility": 65,
         "Jumping": 90,
         "Heading": 80,
         "Shot_Power": 39,
         "Finishing": 24,
         "Long_Shots": 22,
         "Curve": 35,
         "Freekick_Accuracy": 27,
         "Penalties": 42,
         "Volleys": 28,
         "target": 0,
         "_deepnote_index_column": 11
        }
       ],
       "rows_bottom": [
        {
         "Name": "Jérémie Porsan-Clemente",
         "Weekly Salary": 1305,
         "Nationality": "France",
         "National_Position": "nan",
         "Club_Position": "Res",
         "Height": 178,
         "Weight": 67,
         "Preffered_Foot": "Right",
         "Age": 19,
         "Work_Rate": "Medium / Medium",
         "Weak_foot": 3,
         "Skill_Moves": 2,
         "Ball_Control": 57,
         "Dribbling": 58,
         "Marking": 23,
         "Sliding_Tackle": 20,
         "Standing_Tackle": 18,
         "Aggression": 47,
         "Reactions": 55,
         "Interceptions": 12,
         "Vision": 52,
         "Composure": 46,
         "Crossing": 48,
         "Short_Pass": 57,
         "Long_Pass": 53,
         "Acceleration": 63,
         "Speed": 64,
         "Stamina": 41,
         "Strength": 55,
         "Balance": 68,
         "Agility": 70,
         "Jumping": 66,
         "Heading": 63,
         "Shot_Power": 60,
         "Finishing": 61,
         "Long_Shots": 55,
         "Curve": 47,
         "Freekick_Accuracy": 39,
         "Penalties": 60,
         "Volleys": 55,
         "target": 0,
         "_deepnote_index_column": 1854
        },
        {
         "Name": "Gauthier Banaziak",
         "Weekly Salary": 1240,
         "Nationality": "France",
         "National_Position": "nan",
         "Club_Position": "Res",
         "Height": 183,
         "Weight": 68,
         "Preffered_Foot": "Right",
         "Age": 19,
         "Work_Rate": "Medium / Medium",
         "Weak_foot": 3,
         "Skill_Moves": 1,
         "Ball_Control": 14,
         "Dribbling": 10,
         "Marking": 9,
         "Sliding_Tackle": 12,
         "Standing_Tackle": 11,
         "Aggression": 27,
         "Reactions": 36,
         "Interceptions": 7,
         "Vision": 31,
         "Composure": 38,
         "Crossing": 10,
         "Short_Pass": 17,
         "Long_Pass": 20,
         "Acceleration": 27,
         "Speed": 16,
         "Stamina": 26,
         "Strength": 50,
         "Balance": 47,
         "Agility": 39,
         "Jumping": 63,
         "Heading": 10,
         "Shot_Power": 26,
         "Finishing": 5,
         "Long_Shots": 7,
         "Curve": 10,
         "Freekick_Accuracy": 14,
         "Penalties": 14,
         "Volleys": 8,
         "target": 0,
         "_deepnote_index_column": 1855
        },
        {
         "Name": "Anthony Mandrea",
         "Weekly Salary": 1218,
         "Nationality": "France",
         "National_Position": "nan",
         "Club_Position": "Sub",
         "Height": 186,
         "Weight": 78,
         "Preffered_Foot": "Right",
         "Age": 20,
         "Work_Rate": "Medium / Medium",
         "Weak_foot": 3,
         "Skill_Moves": 1,
         "Ball_Control": 18,
         "Dribbling": 16,
         "Marking": 16,
         "Sliding_Tackle": 21,
         "Standing_Tackle": 19,
         "Aggression": 24,
         "Reactions": 59,
         "Interceptions": 19,
         "Vision": 15,
         "Composure": 30,
         "Crossing": 13,
         "Short_Pass": 28,
         "Long_Pass": 19,
         "Acceleration": 41,
         "Speed": 49,
         "Stamina": 28,
         "Strength": 62,
         "Balance": 55,
         "Agility": 33,
         "Jumping": 51,
         "Heading": 15,
         "Shot_Power": 20,
         "Finishing": 17,
         "Long_Shots": 14,
         "Curve": 14,
         "Freekick_Accuracy": 20,
         "Penalties": 23,
         "Volleys": 16,
         "target": 0,
         "_deepnote_index_column": 1856
        },
        {
         "Name": "Alexander Stolz",
         "Weekly Salary": 1131,
         "Nationality": "Germany",
         "National_Position": "nan",
         "Club_Position": "Sub",
         "Height": 189,
         "Weight": 89,
         "Preffered_Foot": "Right",
         "Age": 33,
         "Work_Rate": "Medium / Medium",
         "Weak_foot": 2,
         "Skill_Moves": 1,
         "Ball_Control": 22,
         "Dribbling": 14,
         "Marking": 9,
         "Sliding_Tackle": 10,
         "Standing_Tackle": 19,
         "Aggression": 40,
         "Reactions": 58,
         "Interceptions": 22,
         "Vision": 25,
         "Composure": 50,
         "Crossing": 12,
         "Short_Pass": 23,
         "Long_Pass": 38,
         "Acceleration": 48,
         "Speed": 46,
         "Stamina": 41,
         "Strength": 64,
         "Balance": 32,
         "Agility": 50,
         "Jumping": 67,
         "Heading": 11,
         "Shot_Power": 23,
         "Finishing": 15,
         "Long_Shots": 14,
         "Curve": 9,
         "Freekick_Accuracy": 14,
         "Penalties": 21,
         "Volleys": 14,
         "target": 0,
         "_deepnote_index_column": 1857
        },
        {
         "Name": "Samuele Perisan",
         "Weekly Salary": 1087,
         "Nationality": "Italy",
         "National_Position": "nan",
         "Club_Position": "Res",
         "Height": 192,
         "Weight": 83,
         "Preffered_Foot": "Right",
         "Age": 19,
         "Work_Rate": "Medium / Medium",
         "Weak_foot": 3,
         "Skill_Moves": 1,
         "Ball_Control": 24,
         "Dribbling": 11,
         "Marking": 12,
         "Sliding_Tackle": 16,
         "Standing_Tackle": 14,
         "Aggression": 24,
         "Reactions": 57,
         "Interceptions": 21,
         "Vision": 12,
         "Composure": 27,
         "Crossing": 12,
         "Short_Pass": 22,
         "Long_Pass": 19,
         "Acceleration": 47,
         "Speed": 45,
         "Stamina": 37,
         "Strength": 62,
         "Balance": 48,
         "Agility": 34,
         "Jumping": 54,
         "Heading": 14,
         "Shot_Power": 21,
         "Finishing": 20,
         "Long_Shots": 20,
         "Curve": 13,
         "Freekick_Accuracy": 11,
         "Penalties": 25,
         "Volleys": 11,
         "target": 0,
         "_deepnote_index_column": 1858
        },
        {
         "Name": "Jack Rose",
         "Weekly Salary": 1053,
         "Nationality": "England",
         "National_Position": "nan",
         "Club_Position": "Res",
         "Height": 191,
         "Weight": 87,
         "Preffered_Foot": "Right",
         "Age": 22,
         "Work_Rate": "Medium / Medium",
         "Weak_foot": 3,
         "Skill_Moves": 1,
         "Ball_Control": 20,
         "Dribbling": 18,
         "Marking": 15,
         "Sliding_Tackle": 19,
         "Standing_Tackle": 18,
         "Aggression": 25,
         "Reactions": 59,
         "Interceptions": 15,
         "Vision": 31,
         "Composure": 27,
         "Crossing": 15,
         "Short_Pass": 29,
         "Long_Pass": 23,
         "Acceleration": 41,
         "Speed": 43,
         "Stamina": 29,
         "Strength": 45,
         "Balance": 61,
         "Agility": 32,
         "Jumping": 54,
         "Heading": 15,
         "Shot_Power": 24,
         "Finishing": 14,
         "Long_Shots": 21,
         "Curve": 11,
         "Freekick_Accuracy": 19,
         "Penalties": 29,
         "Volleys": 15,
         "target": 0,
         "_deepnote_index_column": 1859
        },
        {
         "Name": "Sean Longstaff",
         "Weekly Salary": 913,
         "Nationality": "England",
         "National_Position": "nan",
         "Club_Position": "LCM",
         "Height": 181,
         "Weight": 73,
         "Preffered_Foot": "Right",
         "Age": 19,
         "Work_Rate": "Medium / Medium",
         "Weak_foot": 3,
         "Skill_Moves": 2,
         "Ball_Control": 59,
         "Dribbling": 54,
         "Marking": 43,
         "Sliding_Tackle": 50,
         "Standing_Tackle": 46,
         "Aggression": 42,
         "Reactions": 45,
         "Interceptions": 44,
         "Vision": 61,
         "Composure": 60,
         "Crossing": 47,
         "Short_Pass": 66,
         "Long_Pass": 64,
         "Acceleration": 50,
         "Speed": 65,
         "Stamina": 44,
         "Strength": 53,
         "Balance": 65,
         "Agility": 45,
         "Jumping": 59,
         "Heading": 51,
         "Shot_Power": 53,
         "Finishing": 58,
         "Long_Shots": 51,
         "Curve": 51,
         "Freekick_Accuracy": 46,
         "Penalties": 54,
         "Volleys": 53,
         "target": 0,
         "_deepnote_index_column": 1860
        },
        {
         "Name": "Michael Langer",
         "Weekly Salary": 903,
         "Nationality": "Austria",
         "National_Position": "nan",
         "Club_Position": "GK",
         "Height": 194,
         "Weight": 92,
         "Preffered_Foot": "Right",
         "Age": 32,
         "Work_Rate": "Medium / Medium",
         "Weak_foot": 3,
         "Skill_Moves": 1,
         "Ball_Control": 21,
         "Dribbling": 11,
         "Marking": 15,
         "Sliding_Tackle": 13,
         "Standing_Tackle": 12,
         "Aggression": 35,
         "Reactions": 62,
         "Interceptions": 15,
         "Vision": 59,
         "Composure": 41,
         "Crossing": 13,
         "Short_Pass": 29,
         "Long_Pass": 25,
         "Acceleration": 31,
         "Speed": 32,
         "Stamina": 32,
         "Strength": 83,
         "Balance": 34,
         "Agility": 22,
         "Jumping": 50,
         "Heading": 14,
         "Shot_Power": 15,
         "Finishing": 14,
         "Long_Shots": 13,
         "Curve": 12,
         "Freekick_Accuracy": 12,
         "Penalties": 13,
         "Volleys": 11,
         "target": 0,
         "_deepnote_index_column": 1861
        },
        {
         "Name": "Nicolas Lemaître",
         "Weekly Salary": 859,
         "Nationality": "France",
         "National_Position": "nan",
         "Club_Position": "Res",
         "Height": 185,
         "Weight": 83,
         "Preffered_Foot": "Right",
         "Age": 20,
         "Work_Rate": "Medium / Medium",
         "Weak_foot": 2,
         "Skill_Moves": 1,
         "Ball_Control": 24,
         "Dribbling": 20,
         "Marking": 14,
         "Sliding_Tackle": 15,
         "Standing_Tackle": 11,
         "Aggression": 18,
         "Reactions": 46,
         "Interceptions": 24,
         "Vision": 19,
         "Composure": 23,
         "Crossing": 22,
         "Short_Pass": 28,
         "Long_Pass": 19,
         "Acceleration": 34,
         "Speed": 32,
         "Stamina": 28,
         "Strength": 26,
         "Balance": 37,
         "Agility": 24,
         "Jumping": 32,
         "Heading": 23,
         "Shot_Power": 23,
         "Finishing": 17,
         "Long_Shots": 15,
         "Curve": 19,
         "Freekick_Accuracy": 14,
         "Penalties": 22,
         "Volleys": 17,
         "target": 0,
         "_deepnote_index_column": 1862
        },
        {
         "Name": "Andrea Pinamonti",
         "Weekly Salary": 805,
         "Nationality": "Italy",
         "National_Position": "nan",
         "Club_Position": "Res",
         "Height": 181,
         "Weight": 72,
         "Preffered_Foot": "Right",
         "Age": 17,
         "Work_Rate": "Medium / Low",
         "Weak_foot": 3,
         "Skill_Moves": 2,
         "Ball_Control": 68,
         "Dribbling": 62,
         "Marking": 22,
         "Sliding_Tackle": 19,
         "Standing_Tackle": 19,
         "Aggression": 32,
         "Reactions": 52,
         "Interceptions": 16,
         "Vision": 45,
         "Composure": 51,
         "Crossing": 40,
         "Short_Pass": 53,
         "Long_Pass": 36,
         "Acceleration": 55,
         "Speed": 55,
         "Stamina": 55,
         "Strength": 55,
         "Balance": 65,
         "Agility": 65,
         "Jumping": 65,
         "Heading": 62,
         "Shot_Power": 57,
         "Finishing": 74,
         "Long_Shots": 60,
         "Curve": 43,
         "Freekick_Accuracy": 43,
         "Penalties": 69,
         "Volleys": 43,
         "target": 0,
         "_deepnote_index_column": 1863
        },
        {
         "Name": "Tim Wiesner",
         "Weekly Salary": 674,
         "Nationality": "Germany",
         "National_Position": "nan",
         "Club_Position": "Res",
         "Height": 192,
         "Weight": 87,
         "Preffered_Foot": "Right",
         "Age": 20,
         "Work_Rate": "Medium / Medium",
         "Weak_foot": 3,
         "Skill_Moves": 1,
         "Ball_Control": 19,
         "Dribbling": 12,
         "Marking": 12,
         "Sliding_Tackle": 14,
         "Standing_Tackle": 15,
         "Aggression": 26,
         "Reactions": 51,
         "Interceptions": 14,
         "Vision": 31,
         "Composure": 30,
         "Crossing": 12,
         "Short_Pass": 22,
         "Long_Pass": 20,
         "Acceleration": 36,
         "Speed": 34,
         "Stamina": 23,
         "Strength": 66,
         "Balance": 35,
         "Agility": 39,
         "Jumping": 57,
         "Heading": 16,
         "Shot_Power": 19,
         "Finishing": 13,
         "Long_Shots": 15,
         "Curve": 18,
         "Freekick_Accuracy": 16,
         "Penalties": 20,
         "Volleys": 14,
         "target": 0,
         "_deepnote_index_column": 1864
        },
        {
         "Name": "Dennis Lippert",
         "Weekly Salary": 620,
         "Nationality": "Germany",
         "National_Position": "nan",
         "Club_Position": "LB",
         "Height": 172,
         "Weight": 63,
         "Preffered_Foot": "Left",
         "Age": 21,
         "Work_Rate": "Medium / Medium",
         "Weak_foot": 3,
         "Skill_Moves": 2,
         "Ball_Control": 62,
         "Dribbling": 54,
         "Marking": 58,
         "Sliding_Tackle": 58,
         "Standing_Tackle": 64,
         "Aggression": 56,
         "Reactions": 54,
         "Interceptions": 59,
         "Vision": 36,
         "Composure": 38,
         "Crossing": 62,
         "Short_Pass": 55,
         "Long_Pass": 33,
         "Acceleration": 66,
         "Speed": 65,
         "Stamina": 55,
         "Strength": 35,
         "Balance": 79,
         "Agility": 73,
         "Jumping": 76,
         "Heading": 42,
         "Shot_Power": 33,
         "Finishing": 25,
         "Long_Shots": 40,
         "Curve": 49,
         "Freekick_Accuracy": 26,
         "Penalties": 28,
         "Volleys": 23,
         "target": 0,
         "_deepnote_index_column": 1865
        }
       ]
      },
      "text/plain": "                   Name  Weekly Salary Nationality National_Position  \\\n0          Lionel Messi        1538905   Argentina                RW   \n1     Cristiano Ronaldo        1248536    Portugal                LS   \n2     Antoine Griezmann         997032      France               CAM   \n3                Neymar         797726      Brazil                LW   \n4           Gareth Bale         607706       Wales                RS   \n...                 ...            ...         ...               ...   \n1861     Michael Langer            903     Austria               NaN   \n1862   Nicolas Lemaître            859      France               NaN   \n1863   Andrea Pinamonti            805       Italy               NaN   \n1864        Tim Wiesner            674     Germany               NaN   \n1865     Dennis Lippert            620     Germany               NaN   \n\n     Club_Position  Height  Weight Preffered_Foot  Age        Work_Rate  ...  \\\n0               RW     170      72           Left   29  Medium / Medium  ...   \n1               LW     185      80          Right   32       High / Low  ...   \n2               RS     176      67           Left   26    High / Medium  ...   \n3               LW     174      68          Right   25    High / Medium  ...   \n4               RW     183      74           Left   27    High / Medium  ...   \n...            ...     ...     ...            ...  ...              ...  ...   \n1861            GK     194      92          Right   32  Medium / Medium  ...   \n1862           Res     185      83          Right   20  Medium / Medium  ...   \n1863           Res     181      72          Right   17     Medium / Low  ...   \n1864           Res     192      87          Right   20  Medium / Medium  ...   \n1865            LB     172      63           Left   21  Medium / Medium  ...   \n\n      Jumping  Heading  Shot_Power  Finishing  Long_Shots  Curve  \\\n0          68       71          85         95          88     89   \n1          95       85          92         93          90     81   \n2          87       80          81         88          82     84   \n3          61       62          78         89          77     79   \n4          85       86          91         87          90     86   \n...       ...      ...         ...        ...         ...    ...   \n1861       50       14          15         14          13     12   \n1862       32       23          23         17          15     19   \n1863       65       62          57         74          60     43   \n1864       57       16          19         13          15     18   \n1865       76       42          33         25          40     49   \n\n      Freekick_Accuracy  Penalties  Volleys  target  \n0                    90         74       85       1  \n1                    76         85       88       1  \n2                    75         71       87       1  \n3                    84         81       83       1  \n4                    85         76       76       1  \n...                 ...        ...      ...     ...  \n1861                 12         13       11       0  \n1862                 14         22       17       0  \n1863                 43         69       43       0  \n1864                 16         20       14       0  \n1865                 26         28       23       0  \n\n[1866 rows x 41 columns]",
      "text/html": "<div>\n<style scoped>\n    .dataframe tbody tr th:only-of-type {\n        vertical-align: middle;\n    }\n\n    .dataframe tbody tr th {\n        vertical-align: top;\n    }\n\n    .dataframe thead th {\n        text-align: right;\n    }\n</style>\n<table border=\"1\" class=\"dataframe\">\n  <thead>\n    <tr style=\"text-align: right;\">\n      <th></th>\n      <th>Name</th>\n      <th>Weekly Salary</th>\n      <th>Nationality</th>\n      <th>National_Position</th>\n      <th>Club_Position</th>\n      <th>Height</th>\n      <th>Weight</th>\n      <th>Preffered_Foot</th>\n      <th>Age</th>\n      <th>Work_Rate</th>\n      <th>...</th>\n      <th>Jumping</th>\n      <th>Heading</th>\n      <th>Shot_Power</th>\n      <th>Finishing</th>\n      <th>Long_Shots</th>\n      <th>Curve</th>\n      <th>Freekick_Accuracy</th>\n      <th>Penalties</th>\n      <th>Volleys</th>\n      <th>target</th>\n    </tr>\n  </thead>\n  <tbody>\n    <tr>\n      <th>0</th>\n      <td>Lionel Messi</td>\n      <td>1538905</td>\n      <td>Argentina</td>\n      <td>RW</td>\n      <td>RW</td>\n      <td>170</td>\n      <td>72</td>\n      <td>Left</td>\n      <td>29</td>\n      <td>Medium / Medium</td>\n      <td>...</td>\n      <td>68</td>\n      <td>71</td>\n      <td>85</td>\n      <td>95</td>\n      <td>88</td>\n      <td>89</td>\n      <td>90</td>\n      <td>74</td>\n      <td>85</td>\n      <td>1</td>\n    </tr>\n    <tr>\n      <th>1</th>\n      <td>Cristiano Ronaldo</td>\n      <td>1248536</td>\n      <td>Portugal</td>\n      <td>LS</td>\n      <td>LW</td>\n      <td>185</td>\n      <td>80</td>\n      <td>Right</td>\n      <td>32</td>\n      <td>High / Low</td>\n      <td>...</td>\n      <td>95</td>\n      <td>85</td>\n      <td>92</td>\n      <td>93</td>\n      <td>90</td>\n      <td>81</td>\n      <td>76</td>\n      <td>85</td>\n      <td>88</td>\n      <td>1</td>\n    </tr>\n    <tr>\n      <th>2</th>\n      <td>Antoine Griezmann</td>\n      <td>997032</td>\n      <td>France</td>\n      <td>CAM</td>\n      <td>RS</td>\n      <td>176</td>\n      <td>67</td>\n      <td>Left</td>\n      <td>26</td>\n      <td>High / Medium</td>\n      <td>...</td>\n      <td>87</td>\n      <td>80</td>\n      <td>81</td>\n      <td>88</td>\n      <td>82</td>\n      <td>84</td>\n      <td>75</td>\n      <td>71</td>\n      <td>87</td>\n      <td>1</td>\n    </tr>\n    <tr>\n      <th>3</th>\n      <td>Neymar</td>\n      <td>797726</td>\n      <td>Brazil</td>\n      <td>LW</td>\n      <td>LW</td>\n      <td>174</td>\n      <td>68</td>\n      <td>Right</td>\n      <td>25</td>\n      <td>High / Medium</td>\n      <td>...</td>\n      <td>61</td>\n      <td>62</td>\n      <td>78</td>\n      <td>89</td>\n      <td>77</td>\n      <td>79</td>\n      <td>84</td>\n      <td>81</td>\n      <td>83</td>\n      <td>1</td>\n    </tr>\n    <tr>\n      <th>4</th>\n      <td>Gareth Bale</td>\n      <td>607706</td>\n      <td>Wales</td>\n      <td>RS</td>\n      <td>RW</td>\n      <td>183</td>\n      <td>74</td>\n      <td>Left</td>\n      <td>27</td>\n      <td>High / Medium</td>\n      <td>...</td>\n      <td>85</td>\n      <td>86</td>\n      <td>91</td>\n      <td>87</td>\n      <td>90</td>\n      <td>86</td>\n      <td>85</td>\n      <td>76</td>\n      <td>76</td>\n      <td>1</td>\n    </tr>\n    <tr>\n      <th>...</th>\n      <td>...</td>\n      <td>...</td>\n      <td>...</td>\n      <td>...</td>\n      <td>...</td>\n      <td>...</td>\n      <td>...</td>\n      <td>...</td>\n      <td>...</td>\n      <td>...</td>\n      <td>...</td>\n      <td>...</td>\n      <td>...</td>\n      <td>...</td>\n      <td>...</td>\n      <td>...</td>\n      <td>...</td>\n      <td>...</td>\n      <td>...</td>\n      <td>...</td>\n      <td>...</td>\n    </tr>\n    <tr>\n      <th>1861</th>\n      <td>Michael Langer</td>\n      <td>903</td>\n      <td>Austria</td>\n      <td>NaN</td>\n      <td>GK</td>\n      <td>194</td>\n      <td>92</td>\n      <td>Right</td>\n      <td>32</td>\n      <td>Medium / Medium</td>\n      <td>...</td>\n      <td>50</td>\n      <td>14</td>\n      <td>15</td>\n      <td>14</td>\n      <td>13</td>\n      <td>12</td>\n      <td>12</td>\n      <td>13</td>\n      <td>11</td>\n      <td>0</td>\n    </tr>\n    <tr>\n      <th>1862</th>\n      <td>Nicolas Lemaître</td>\n      <td>859</td>\n      <td>France</td>\n      <td>NaN</td>\n      <td>Res</td>\n      <td>185</td>\n      <td>83</td>\n      <td>Right</td>\n      <td>20</td>\n      <td>Medium / Medium</td>\n      <td>...</td>\n      <td>32</td>\n      <td>23</td>\n      <td>23</td>\n      <td>17</td>\n      <td>15</td>\n      <td>19</td>\n      <td>14</td>\n      <td>22</td>\n      <td>17</td>\n      <td>0</td>\n    </tr>\n    <tr>\n      <th>1863</th>\n      <td>Andrea Pinamonti</td>\n      <td>805</td>\n      <td>Italy</td>\n      <td>NaN</td>\n      <td>Res</td>\n      <td>181</td>\n      <td>72</td>\n      <td>Right</td>\n      <td>17</td>\n      <td>Medium / Low</td>\n      <td>...</td>\n      <td>65</td>\n      <td>62</td>\n      <td>57</td>\n      <td>74</td>\n      <td>60</td>\n      <td>43</td>\n      <td>43</td>\n      <td>69</td>\n      <td>43</td>\n      <td>0</td>\n    </tr>\n    <tr>\n      <th>1864</th>\n      <td>Tim Wiesner</td>\n      <td>674</td>\n      <td>Germany</td>\n      <td>NaN</td>\n      <td>Res</td>\n      <td>192</td>\n      <td>87</td>\n      <td>Right</td>\n      <td>20</td>\n      <td>Medium / Medium</td>\n      <td>...</td>\n      <td>57</td>\n      <td>16</td>\n      <td>19</td>\n      <td>13</td>\n      <td>15</td>\n      <td>18</td>\n      <td>16</td>\n      <td>20</td>\n      <td>14</td>\n      <td>0</td>\n    </tr>\n    <tr>\n      <th>1865</th>\n      <td>Dennis Lippert</td>\n      <td>620</td>\n      <td>Germany</td>\n      <td>NaN</td>\n      <td>LB</td>\n      <td>172</td>\n      <td>63</td>\n      <td>Left</td>\n      <td>21</td>\n      <td>Medium / Medium</td>\n      <td>...</td>\n      <td>76</td>\n      <td>42</td>\n      <td>33</td>\n      <td>25</td>\n      <td>40</td>\n      <td>49</td>\n      <td>26</td>\n      <td>28</td>\n      <td>23</td>\n      <td>0</td>\n    </tr>\n  </tbody>\n</table>\n<p>1866 rows × 41 columns</p>\n</div>"
     },
     "metadata": {}
    }
   ]
  },
  {
   "cell_type": "code",
   "metadata": {
    "tags": [],
    "cell_id": "00040-71ada843-d7eb-48e4-a0ad-3f26197ac090",
    "deepnote_to_be_reexecuted": false,
    "source_hash": "83f65876",
    "execution_start": 1637351970066,
    "execution_millis": 224,
    "deepnote_cell_type": "code"
   },
   "source": "from sklearn.ensemble import RandomForestRegressor\n\nct = ColumnTransformer(\n    transformers=[\n        (\n            \"OneHotEncoder\",\n            OneHotEncoder(drop='first', handle_unknown='ignore'),\n            [\n                'Nationality',\n                \"Preffered_Foot\",\n                \"Skill_Moves\",\n                \"Work_Rate\",\n                \"Weak_foot\",\n                # \"target\",\n                # 'Club_Position'\n            ],\n        ),\n        (\n            \"StandardScaler\",\n            StandardScaler(),\n            [\n                # \"Weight\",\n                # \"Height\",\n                'Age',\n                \"Aggression\",\n                \"Reactions\",\n                \"Vision\",\n                \"Composure\",\n                \"Acceleration\",\n                \"Speed\",\n                \"Balance\",\n                \"Strength\",\n                \"Agility\",\n                \"Jumping\",\n                \"Finishing\",\n                \"Volleys\",\n                \"Penalties\"\n            ],\n        ),\n        (\n            \"MinMaxScaler\",\n            MinMaxScaler(),\n            [\n                \"Ball_Control\",\n                \"Dribbling\",\n                # \"Marking\",\n                # \"Sliding_Tackle\",\n                # \"Standing_Tackle\",\n                # \"Interceptions\",\n                \"Crossing\",\n                \"Short_Pass\",\n                \"Long_Pass\",\n                \"Stamina\",\n                \"Heading\",\n                \"Shot_Power\",\n                \"Curve\",\n                \"Freekick_Accuracy\",\n                \"Long_Shots\"\n            ],\n        ),\n    ]\n)\n\n\nlm_pipe = Pipeline(\n    [\n        (\"preprocesamiento\", ct),\n        (\"RandomForest\", RandomForestRegressor()),\n    ]\n)\n\n",
   "execution_count": 24,
   "outputs": []
  },
  {
   "cell_type": "code",
   "metadata": {
    "tags": [],
    "cell_id": "00041-ac9b0968-cb6e-4c3e-bad0-9cb4b8249d62",
    "deepnote_to_be_reexecuted": false,
    "source_hash": "117a6ec2",
    "execution_start": 1637353458158,
    "execution_millis": 19741,
    "deepnote_output_heights": [
     null,
     21
    ],
    "deepnote_cell_type": "code"
   },
   "source": "df_y = df_wage.loc[:, \"Weekly Salary\"]\ndf_X = df_wage.drop(\n    [\n        \"Name\",\n        \"National_Position\",\n        \"target\",\n        # \"Skill_Moves\",\n        # \"Work_Rate\",\n        # \"Weight\",\n        # \"Height\",\n        \"Marking\",\n        \"Sliding_Tackle\",\n        \"Standing_Tackle\",\n        \"Interceptions\",\n        \"Club_Position\"\n    ],\n    axis=1,\n)\n\nX_train, X_test, y_train, y_test = train_test_split(\n    df_wage, df_y, test_size=0.33, random_state=42\n)\n\nlm = lm_pipe.fit(X_train, y_train)\n# y_pred = lm.predict(X_test)\n\nprint(\"Resultados R^2:\")\nprint(lm.score(X_test, y_test))\n# y_pred = lm.predict(X_test)\n\n# from sklearn.metrics import r2_score\n\n# r2_score(y_test, y_pred)\n",
   "execution_count": 47,
   "outputs": [
    {
     "name": "stdout",
     "text": "Resultados R^2:\n0.38042754673551593\n/shared-libs/python3.7/py/lib/python3.7/site-packages/sklearn/preprocessing/_encoders.py:174: UserWarning:\n\nFound unknown categories in columns [0, 3] during transform. These unknown categories will be encoded as all zeros\n\n",
     "output_type": "stream"
    }
   ]
  },
  {
   "cell_type": "markdown",
   "source": "**Respuesta**:",
   "metadata": {
    "tags": [],
    "cell_id": "00044-db7abb06-7339-40b0-9021-01c6111e5459",
    "deepnote_cell_type": "markdown"
   }
  },
  {
   "cell_type": "markdown",
   "source": "* La métrica $R^2$ representa la proporción en la que varia la variable dependiente, en este caso el salario semanal de los jugadores, explicada a través de las variables independientes del modelo.\n\n\n* El prepocesamiento se realiza de manera similar a los casos anteriores, y se elige como regresor el *RandomForestRegressor* el cual se encuentra al final del flujo de la guía de elección de estimadores, al predecir una cantidad (salarios semanales) con una muestra menor a 100 mil observaciones, utilizando la mayoría de los atributos. El regresor de árboles de desición ajusta una serie de árboles de desición en distintas submuestras, utilizando los promedios para mejorar la capacidad predictiva y controlar el sobreajuste del modelo.\n\n\n* Como se puede apreciar, se obtiene un $R^2$ de 0.38, es decir de la variación presente en los sueldos semanales de los jugadores, el modelo explica un 38% a través de las variables utilizadas. Si bien el resultado es aceptable, no se puede predecir con un gran nivel de confianza el sueldo semanal de los jugadores.\n\n\n* Es posible mejorar los resultados del modelo, incluyendo variables explicativas faltantes dentro este, como por ejemplo el equipo en el que juega, o la liga a la que pertenece, debido a que ciertas ligas y equipos poseen mayor poder adquisitivo que otras. Mas observaciones ayudarían tambien, para mejorar el desempeño del modelo.",
   "metadata": {
    "tags": [],
    "cell_id": "00041-bd02ac1b-8f28-48c7-9c97-939b26c51483",
    "deepnote_cell_type": "markdown"
   }
  },
  {
   "cell_type": "markdown",
   "source": "# Conclusión\nEso ha sido todo para el lab de hoy, recuerden que el laboratorio tiene un plazo de entrega de una semana. Cualquier duda del laboratorio, no duden en contactarnos por mail o U-cursos.\n\n<p align=\"center\">\n  <img src=\"https://media2.giphy.com/media/l1J3CbFgn5o7DGRuE/giphy.gif\">\n</p>",
   "metadata": {
    "id": "Rg4ZMq8ezAH6",
    "cell_id": "00045-bd3cc055-46c7-47ae-ac82-07ddb96f99de",
    "deepnote_cell_type": "markdown"
   }
  },
  {
   "cell_type": "markdown",
   "source": "<br>\n<center>\n<img src=\"https://i.kym-cdn.com/photos/images/original/001/194/195/b18.png\" width=100 height=50 />\n</center>\n<br>",
   "metadata": {
    "id": "wCL1lACBzAH7",
    "cell_id": "00047-2acde338-38a4-455c-879b-3be406525767",
    "deepnote_cell_type": "markdown"
   }
  },
  {
   "cell_type": "markdown",
   "source": "<a style='text-decoration:none;line-height:16px;display:flex;color:#5B5B62;padding:10px;justify-content:end;' href='https://deepnote.com?utm_source=created-in-deepnote-cell&projectId=1d355b97-bbb9-4f56-823f-44a85d475e0a' target=\"_blank\">\n<img alt='Created in deepnote.com' style='display:inline;max-height:16px;margin:0px;margin-right:7.5px;' src='data:image/svg+xml;base64,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' > </img>\nCreated in <span style='font-weight:600;margin-left:4px;'>Deepnote</span></a>",
   "metadata": {
    "tags": [],
    "created_in_deepnote_cell": true,
    "deepnote_cell_type": "markdown"
   }
  }
 ],
 "nbformat": 4,
 "nbformat_minor": 0,
 "metadata": {
  "kernelspec": {
   "display_name": "Python 3",
   "language": "python",
   "name": "python3"
  },
  "language_info": {
   "codemirror_mode": {
    "name": "ipython",
    "version": 3
   },
   "file_extension": ".py",
   "mimetype": "text/x-python",
   "name": "python",
   "nbconvert_exporter": "python",
   "pygments_lexer": "ipython3",
   "version": "3.8.3"
  },
  "toc": {
   "base_numbering": 1,
   "nav_menu": {},
   "number_sections": true,
   "sideBar": true,
   "skip_h1_title": true,
   "title_cell": "Tabla de Contenidos",
   "title_sidebar": "Contenidos",
   "toc_cell": false,
   "toc_position": {
    "height": "calc(100% - 180px)",
    "left": "10px",
    "top": "150px",
    "width": "241.867px"
   },
   "toc_section_display": true,
   "toc_window_display": true
  },
  "varInspector": {
   "cols": {
    "lenName": 16,
    "lenType": 16,
    "lenVar": 40
   },
   "kernels_config": {
    "python": {
     "delete_cmd_postfix": "",
     "delete_cmd_prefix": "del ",
     "library": "var_list.py",
     "varRefreshCmd": "print(var_dic_list())"
    },
    "r": {
     "delete_cmd_postfix": ") ",
     "delete_cmd_prefix": "rm(",
     "library": "var_list.r",
     "varRefreshCmd": "cat(var_dic_list()) "
    }
   },
   "types_to_exclude": [
    "module",
    "function",
    "builtin_function_or_method",
    "instance",
    "_Feature"
   ],
   "window_display": false
  },
  "colab": {
   "name": "Laboratorio3.ipynb",
   "provenance": [],
   "collapsed_sections": []
  },
  "deepnote_notebook_id": "350d39d6-937f-44f2-9da5-3b4d715597f9",
  "deepnote": {},
  "deepnote_execution_queue": []
 }
}