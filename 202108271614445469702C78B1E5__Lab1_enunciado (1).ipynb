{
  "nbformat": 4,
  "nbformat_minor": 5,
  "metadata": {
    "colab": {
      "name": "202108271614445469702C78B1E5__Lab1_enunciado.ipynb",
      "provenance": [],
      "collapsed_sections": []
    },
    "kernelspec": {
      "display_name": "Python 3",
      "language": "python",
      "name": "python3"
    },
    "language_info": {
      "codemirror_mode": {
        "name": "ipython",
        "version": 3
      },
      "file_extension": ".py",
      "mimetype": "text/x-python",
      "name": "python",
      "nbconvert_exporter": "python",
      "pygments_lexer": "ipython3",
      "version": "3.8.3"
    }
  },
  "cells": [
    {
      "cell_type": "markdown",
      "metadata": {
        "id": "cd7b1b55"
      },
      "source": [
        "<h1><center>Laboratorio 1: Primeros pasos 👣</center></h1>\n",
        "\n",
        "<center><strong>MDS7202: Laboratorio de Programación Científica para Ciencia de Datos - Primavera 2021</strong></center>"
      ],
      "id": "cd7b1b55"
    },
    {
      "cell_type": "markdown",
      "metadata": {
        "id": "Vp_vOHK7V97e"
      },
      "source": [
        "### Cuerpo Docente:\n",
        "\n",
        "- Profesor: Pablo Badilla\n",
        "- Auxiliar: Ignacio Meza D.\n",
        "- Ayudante: Constanza Peña S."
      ],
      "id": "Vp_vOHK7V97e"
    },
    {
      "cell_type": "markdown",
      "metadata": {
        "id": "4N_5AYgyWKyA"
      },
      "source": [
        "### Equipo: SUPER IMPORTANTE - notebooks sin nombre no serán revisados\n",
        "\n",
        "- Nombre de alumno 1: Rodrigo Guerra\n",
        "- Nombre de alumno 2: Mariano Suárez\n"
      ],
      "id": "4N_5AYgyWKyA"
    },
    {
      "cell_type": "markdown",
      "metadata": {
        "id": "1rjlaJDEWxd9"
      },
      "source": [
        "### **Link de repositorio de GitHub:** `http://....`"
      ],
      "id": "1rjlaJDEWxd9"
    },
    {
      "cell_type": "markdown",
      "metadata": {
        "id": "9el9ERaKWW3i"
      },
      "source": [
        "## Reglas:\n",
        "\n",
        "- Fecha de entrega: 1 semana desde la publicación, 3 días de atraso con 1 punto de descuento c/u. Pueden utilizar días bonus sin descuento.\n",
        "- **Grupos de 2 personas**.\n",
        "- **Ausentes** deberán realizar la actividad solos. \n",
        "- Cualquier duda fuera del horario de clases al foro. Mensajes al equipo docente serán respondidos por este medio.\n",
        "- Prohibidas las copias. \n",
        "- Pueden usar cualquer material del curso que estimen conveniente.\n"
      ],
      "id": "9el9ERaKWW3i"
    },
    {
      "cell_type": "markdown",
      "metadata": {
        "id": "4708b9b7"
      },
      "source": [
        "\n",
        "## Objetivos del lab: \n",
        "\n",
        "\n",
        "- Variables, Operadores y Expresiones.\n",
        "- Estructuras de Control (if/else).\n",
        "- Iteraciones.\n",
        "- Listas y Diccionarios.\n",
        "- Programación Funcional (Map, Filter y Reduce).\n",
        "- Programación Orientada a Objetos (Encapsulamiento, Polimorfismo y Herencia)"
      ],
      "id": "4708b9b7"
    },
    {
      "cell_type": "markdown",
      "metadata": {
        "id": "d58b089c"
      },
      "source": [
        "## Parte 1: 🍋 Frutas 🍓\n",
        "\n",
        "En esta primera parte se trabajará lo escencial visto hasta el momento más un poco de programación funcional a través de frutas:\n",
        "\n",
        "<div align='center'>\n",
        "<img src='https://upload.wikimedia.org/wikipedia/commons/a/a2/Berries_in_Berlin.jpg' width=600/>\n",
        "</div>"
      ],
      "id": "d58b089c"
    },
    {
      "cell_type": "markdown",
      "metadata": {
        "id": "5fdf6b19"
      },
      "source": [
        "Defina las siguientes frutas como diccionarios a partir de sus características (nombre, color, tipo y si posee o no pepas):\n",
        "\n",
        "| Nombre    | Tipo     | Color    | Pepas |\n",
        "|-----------|----------|----------|-------|\n",
        "| limon     | cítrica  | amarillo | True  |\n",
        "| naranja   | cítrica  | naranjo  | True  |\n",
        "| plátano   | tropical | amarillo | False |\n",
        "| piña      | tropical | amarillo | False |\n",
        "| frutilla  | bosque   | rojo     | True |\n",
        "| frambuesa | bosque   | rojo     | True |"
      ],
      "id": "5fdf6b19"
    },
    {
      "cell_type": "markdown",
      "metadata": {
        "id": "33aed47b"
      },
      "source": [
        "### Estructurar Datos [0.5 puntos]\n",
        "\n",
        "Agregue Piña, Frutilla y Frambuesa como diccionarios (siga los ejemplos de las frutas dadas) y luego cree un arreglo que contenga estas frutas.\n"
      ],
      "id": "33aed47b"
    },
    {
      "cell_type": "code",
      "metadata": {
        "id": "26d23e26"
      },
      "source": [
        "limon = {\n",
        "    \"nombre\": \"limón\", \n",
        "    \"tipo\": \"cítrica\", \n",
        "    \"color\": \"amarillo\", \n",
        "    \"pepas\": True\n",
        "    }\n",
        "\n",
        "naranja = {\"nombre\": \"naranja\", \n",
        "           \"tipo\": \"cítrica\", \n",
        "           \"color\": \"naranjo\", \n",
        "           \"pepas\": True\n",
        "          }\n",
        "\n",
        "platano = {\"nombre\": \"plátano\", \n",
        "           \"tipo\": \"tropical\", \n",
        "           \"color\": \"amarillo\", \n",
        "           \"pepas\": False\n",
        "          }\n",
        "\n",
        "# agregar las frutas que faltan aquí\n",
        "pinha = {\"nombre\": \"piña\",\n",
        "         \"tipo\": \"tropical\",\n",
        "         \"color\": \"amarillo\",\n",
        "         \"pepas\": False\n",
        "        }\n",
        "\n",
        "frutilla = {\"nombre\": \"frutilla\",\n",
        "         \"tipo\": \"bosque\",\n",
        "         \"color\": \"rojo\",\n",
        "         \"pepas\": True\n",
        "        }\n",
        "\n",
        "frambuesa = {\"nombre\": \"frambuesa\",\n",
        "         \"tipo\": \"bosque\",\n",
        "         \"color\": \"rojo\",\n",
        "         \"pepas\": True\n",
        "        }"
      ],
      "id": "26d23e26",
      "execution_count": 1,
      "outputs": []
    },
    {
      "cell_type": "code",
      "metadata": {
        "colab": {
          "base_uri": "https://localhost:8080/"
        },
        "id": "WWRRic3dlAz9",
        "outputId": "eaad76c2-d878-4a93-c8cc-83462487b59d"
      },
      "source": [
        "ola = []\n",
        "ola.append(pinha)\n",
        "ola"
      ],
      "id": "WWRRic3dlAz9",
      "execution_count": 2,
      "outputs": [
        {
          "output_type": "execute_result",
          "data": {
            "text/plain": [
              "[{'color': 'amarillo', 'nombre': 'piña', 'pepas': False, 'tipo': 'tropical'}]"
            ]
          },
          "metadata": {},
          "execution_count": 2
        }
      ]
    },
    {
      "cell_type": "code",
      "metadata": {
        "colab": {
          "base_uri": "https://localhost:8080/"
        },
        "id": "Mf46rI62WNJW",
        "outputId": "e9d4b8c9-3c5a-4d3d-81e8-98063976371e"
      },
      "source": [
        "limon"
      ],
      "id": "Mf46rI62WNJW",
      "execution_count": 3,
      "outputs": [
        {
          "output_type": "execute_result",
          "data": {
            "text/plain": [
              "{'color': 'amarillo', 'nombre': 'limón', 'pepas': True, 'tipo': 'cítrica'}"
            ]
          },
          "metadata": {},
          "execution_count": 3
        }
      ]
    },
    {
      "cell_type": "markdown",
      "metadata": {
        "id": "259ee333"
      },
      "source": [
        "Ahora, agregue todas las frutas a un arreglo."
      ],
      "id": "259ee333"
    },
    {
      "cell_type": "code",
      "metadata": {
        "id": "fcf62186"
      },
      "source": [
        "# Ojo: agregue los datos en el mismo orden que aparecen en la tabla\n",
        "datos = [limon, naranja, platano, pinha, frutilla, frambuesa]"
      ],
      "id": "fcf62186",
      "execution_count": 4,
      "outputs": []
    },
    {
      "cell_type": "code",
      "metadata": {
        "colab": {
          "base_uri": "https://localhost:8080/"
        },
        "id": "Wx4hT5dRtFuf",
        "outputId": "bc974549-8907-4363-e9ad-dc0dc60a57a8"
      },
      "source": [
        "print(\", \".join(datos[i][\"nombre\"] for i in range(len(datos))))"
      ],
      "id": "Wx4hT5dRtFuf",
      "execution_count": 6,
      "outputs": [
        {
          "output_type": "stream",
          "name": "stdout",
          "text": [
            "limón, naranja, plátano, piña, frutilla, frambuesa\n"
          ]
        }
      ]
    },
    {
      "cell_type": "markdown",
      "metadata": {
        "id": "2ed7730e"
      },
      "source": [
        "Este arreglo será la información con la que se trabajará durante el lab."
      ],
      "id": "2ed7730e"
    },
    {
      "cell_type": "markdown",
      "metadata": {
        "id": "e9b1e46d"
      },
      "source": [
        "### Funciones Aplicadas a los Datos [1.5 puntos]"
      ],
      "id": "e9b1e46d"
    },
    {
      "cell_type": "markdown",
      "metadata": {
        "id": "b7b016d6"
      },
      "source": [
        "Elabore las siguientes funciones:\n",
        "    \n",
        "**1. La función `describir(datos)` que genere un arreglo con strings que describan cada fruta de la siguiente manera:**\n",
        "\n",
        "```{El/La} {...} es una fruta de tipo {...} de color {...}. {Presenta/No presenta} pepas en su interior.```\n",
        "    \n",
        "Por ejemplo, para el plátano se debe generar el siguiente string:\n",
        "    \n",
        "```\n",
        "'El plátano es una fruta de tipo tropical de color amarillo. No presenta pepas en su interior.'\n",
        "```\n",
        "    \n",
        "Indicaciones: \n",
        "- Usen formateo o suma de strings, if, else y for.\n",
        "- Para saber si ocupar 'El' o 'La', pueden acceder al nombre de la fruta y ver cual es el último carácter a través de indexadores `string[indice]`.\n",
        "    \n",
        "**2. La función `filtrar_por_pepa(datos, tiene_pepas)` que dado un tipo de fruta y un booleano, retorne las frutas que tienen o no tienen pepas (según el valor de `tiene_pepas`).**\n",
        "    \n",
        "\n",
        "Por ejemplo, `filtrar_por_pepa(datos, True)` deberá retornar un arreglo con los diccionarios de: naranja, limon, frutilla y frambuesa.\n",
        "\n",
        "\n",
        "**3. La función `conteo_colores(datos)` que cree un diccionario que haga un conteo los colores de las frutas.**\n",
        "\n",
        "Para estos datos, la función debería retornar el siguiente diccionario: \n",
        "    \n",
        "```python\n",
        "{\"amarillo\": 3, \"naranjo\": 1, \"rojo\": 2, \"café\": 2}\n",
        "````"
      ],
      "id": "b7b016d6"
    },
    {
      "cell_type": "code",
      "metadata": {
        "colab": {
          "base_uri": "https://localhost:8080/"
        },
        "id": "7W-aGNKZUPwd",
        "outputId": "15793178-5fcb-4c3d-9ec4-fcec223eead3"
      },
      "source": [
        "len(datos)"
      ],
      "id": "7W-aGNKZUPwd",
      "execution_count": 7,
      "outputs": [
        {
          "output_type": "execute_result",
          "data": {
            "text/plain": [
              "6"
            ]
          },
          "metadata": {},
          "execution_count": 7
        }
      ]
    },
    {
      "cell_type": "markdown",
      "metadata": {
        "id": "9Wqh7UyYXXIi"
      },
      "source": [
        "**Desarrollo de código:**"
      ],
      "id": "9Wqh7UyYXXIi"
    },
    {
      "cell_type": "code",
      "metadata": {
        "id": "023bc051"
      },
      "source": [
        "def describir(datos):\n",
        "    # Código Aquí\n",
        "    descripciones = [0] * len(datos)\n",
        "    for i, fruta in enumerate(datos):\n",
        "      nombre = fruta[\"nombre\"]\n",
        "      tipo = fruta[\"tipo\"]\n",
        "      color = fruta[\"color\"]\n",
        "      pepas = fruta[\"pepas\"]\n",
        "      if nombre[-1] == 'o' or nombre[-1] == 'n':\n",
        "        descripciones[i] = 'El ' + nombre + \" es una fruta de tipo \" + tipo + \" de color \" + color\n",
        "      else:\n",
        "        descripciones[i] = 'La ' + nombre + \" es una fruta de tipo \"+ tipo + \" de color \" + color\n",
        "      if pepas:\n",
        "        descripciones[i] += \". Presenta pepas en su interior.\"\n",
        "      else:\n",
        "        descripciones[i] += \". No presenta pepas en su interior.\"\n",
        "    return descripciones\n",
        "\n",
        "\n",
        "def filtrar_por_pepa(datos, tiene_pepas):\n",
        "    # Código Aquí\n",
        "    filtrados = []\n",
        "    for fruta in datos:\n",
        "      if tiene_pepas == fruta[\"pepas\"]:\n",
        "        filtrados.append(fruta)\n",
        "    return filtrados\n",
        "\n",
        "\n",
        "def conteo_colores(datos):\n",
        "    # Código Aquí\n",
        "    amarillo = 0\n",
        "    naranjo = 0\n",
        "    rojo = 0\n",
        "    for fruta in datos:\n",
        "      if fruta[\"color\"] == \"amarillo\":\n",
        "        amarillo += 1\n",
        "      if fruta[\"color\"] == \"naranjo\":\n",
        "        naranjo += 1\n",
        "      if fruta[\"color\"] == \"rojo\":\n",
        "        rojo += 1\n",
        "    conteo = {\"amarillo\": amarillo, \"naranjo\":naranjo, \"rojo\": rojo}\n",
        "    \n",
        " \n",
        "    \n",
        "    return conteo\n",
        "    pass\n",
        "\n"
      ],
      "id": "023bc051",
      "execution_count": 8,
      "outputs": []
    },
    {
      "cell_type": "code",
      "metadata": {
        "colab": {
          "base_uri": "https://localhost:8080/"
        },
        "id": "VRtGnFWCeaIb",
        "outputId": "89e12bfd-8caa-4d85-d747-0d28155d203a"
      },
      "source": [
        "datos"
      ],
      "id": "VRtGnFWCeaIb",
      "execution_count": 9,
      "outputs": [
        {
          "output_type": "execute_result",
          "data": {
            "text/plain": [
              "[{'color': 'amarillo', 'nombre': 'limón', 'pepas': True, 'tipo': 'cítrica'},\n",
              " {'color': 'naranjo', 'nombre': 'naranja', 'pepas': True, 'tipo': 'cítrica'},\n",
              " {'color': 'amarillo',\n",
              "  'nombre': 'plátano',\n",
              "  'pepas': False,\n",
              "  'tipo': 'tropical'},\n",
              " {'color': 'amarillo', 'nombre': 'piña', 'pepas': False, 'tipo': 'tropical'},\n",
              " {'color': 'rojo', 'nombre': 'frutilla', 'pepas': True, 'tipo': 'bosque'},\n",
              " {'color': 'rojo', 'nombre': 'frambuesa', 'pepas': True, 'tipo': 'bosque'}]"
            ]
          },
          "metadata": {},
          "execution_count": 9
        }
      ]
    },
    {
      "cell_type": "markdown",
      "metadata": {
        "id": "5240bec1"
      },
      "source": [
        "El código de la siguiente celda presenta tests para probar sus funciones: Si la ejecución de esta celda no les levanta ninguna excepción, entonces sus funciones están implementadas según lo requerido. Si alguna falla, entonces deberán corregir los errores mostrados. \n",
        "Noten que los strings, diccionarios y en general, los objetos deben ser exactamente idénticos para que el test no falle."
      ],
      "id": "5240bec1"
    },
    {
      "cell_type": "markdown",
      "metadata": {
        "id": "_DWuD58nXd2q"
      },
      "source": [
        "**Ejecuten esta celda para comprobar su código:**"
      ],
      "id": "_DWuD58nXd2q"
    },
    {
      "cell_type": "code",
      "metadata": {
        "id": "c39b58c0"
      },
      "source": [
        "# ---------------------------------------------------------------------\n",
        "# test descripciones\n",
        "# note que las frutas deben estar en igual orden para que este assert no falle.\n",
        "\n",
        "descripciones_esperadas = [\n",
        "    \"El limón es una fruta de tipo cítrica de color amarillo. Presenta pepas en su interior.\",\n",
        "    \"La naranja es una fruta de tipo cítrica de color naranjo. Presenta pepas en su interior.\",\n",
        "    \"El plátano es una fruta de tipo tropical de color amarillo. No presenta pepas en su interior.\",\n",
        "    \"La piña es una fruta de tipo tropical de color amarillo. No presenta pepas en su interior.\",\n",
        "    \"La frutilla es una fruta de tipo bosque de color rojo. Presenta pepas en su interior.\",\n",
        "    \"La frambuesa es una fruta de tipo bosque de color rojo. Presenta pepas en su interior.\",\n",
        "    \n",
        "]\n",
        "\n",
        "assert descripciones_esperadas == describir(datos)\n",
        "\n",
        "\n",
        "# ---------------------------------------------------------------------\n",
        "# test filtro \n",
        "\n",
        "frutas_con_pepa_esperadas = [\n",
        "    {\"nombre\": \"limón\", \"tipo\": \"cítrica\", \"color\": \"amarillo\", \"pepas\": True},\n",
        "    {\"nombre\": \"naranja\", \"tipo\": \"cítrica\", \"color\": \"naranjo\", \"pepas\": True},\n",
        "    {\"nombre\": \"frutilla\", \"tipo\": \"bosque\", \"color\": \"rojo\", \"pepas\": True},\n",
        "    {\"nombre\": \"frambuesa\", \"tipo\": \"bosque\", \"color\": \"rojo\", \"pepas\": True}\n",
        "]\n",
        "\n",
        "assert frutas_con_pepa_esperadas == filtrar_por_pepa(datos, True)\n",
        "\n",
        "# ---------------------------------------------------------------------\n",
        "# test conteo\n",
        "conteo_esperado = {'amarillo': 3, 'naranjo': 1, 'rojo': 2}\n",
        "\n",
        "\n",
        "assert conteo_esperado == conteo_colores(datos) \n"
      ],
      "id": "c39b58c0",
      "execution_count": 10,
      "outputs": []
    },
    {
      "cell_type": "markdown",
      "metadata": {
        "id": "ef45d2ea"
      },
      "source": [
        "### Implementaciones Funcionales [1.0 punto] \n",
        "\n",
        "Implementar las funciones de la sección anterior de forma funcional (solo las primeras 2 funciones).\n",
        "\n"
      ],
      "id": "ef45d2ea"
    },
    {
      "cell_type": "code",
      "metadata": {
        "id": "c6ef993a"
      },
      "source": [
        "def describir_funcional(datos):\n",
        "\n",
        "    def generar_descripcion(fruta):\n",
        "      nombre = fruta[\"nombre\"]\n",
        "      tipo = fruta[\"tipo\"]\n",
        "      color = fruta[\"color\"]\n",
        "      pepas = fruta[\"pepas\"]\n",
        "       # esta función debería retornar el string para una fruta en particular.\n",
        "      if nombre[-1] == 'o' or nombre[-1] == 'n':\n",
        "        descripciones = 'El ' + nombre + \" es una fruta de tipo \" + tipo + \" de color \" + color\n",
        "      else:\n",
        "        descripciones = 'La ' + nombre + \" es una fruta de tipo \"+ tipo + \" de color \" + color\n",
        "      if pepas:\n",
        "        descripciones += \". Presenta pepas en su interior.\"\n",
        "      else:\n",
        "        descripciones += \". No presenta pepas en su interior.\"\n",
        "      print(descripciones)\n",
        "      return descripciones\n",
        "\n",
        "    return list(map(generar_descripcion, datos))\n",
        "    #...\n",
        "    \n",
        "def filtrar_por_pepa_funcional(datos, tipo_de_dato):\n",
        "    # list(filter(..., ...))\n",
        "    # print(list(filter(lambda x: x[\"pepas\"] == tipo_de_dato, datos )))\n",
        "    return list(filter(lambda x: x[\"pepas\"] == tipo_de_dato, datos ))"
      ],
      "id": "c6ef993a",
      "execution_count": 11,
      "outputs": []
    },
    {
      "cell_type": "markdown",
      "metadata": {
        "id": "fwno3rOhn_jd"
      },
      "source": [
        "Nuevamente más tests, ahora para las funciones con map y filter.\n",
        "\n",
        "**Ejecuten esta celda para comprobar su código:**"
      ],
      "id": "fwno3rOhn_jd"
    },
    {
      "cell_type": "code",
      "metadata": {
        "colab": {
          "base_uri": "https://localhost:8080/"
        },
        "id": "vlRVONAClo3i",
        "outputId": "3be119ff-e0b0-4a13-be9d-89880fdad205"
      },
      "source": [
        "assert descripciones_esperadas == describir_funcional(datos)\n",
        "assert frutas_con_pepa_esperadas == filtrar_por_pepa_funcional(datos, True)"
      ],
      "id": "vlRVONAClo3i",
      "execution_count": 12,
      "outputs": [
        {
          "output_type": "stream",
          "name": "stdout",
          "text": [
            "El limón es una fruta de tipo cítrica de color amarillo. Presenta pepas en su interior.\n",
            "La naranja es una fruta de tipo cítrica de color naranjo. Presenta pepas en su interior.\n",
            "El plátano es una fruta de tipo tropical de color amarillo. No presenta pepas en su interior.\n",
            "La piña es una fruta de tipo tropical de color amarillo. No presenta pepas en su interior.\n",
            "La frutilla es una fruta de tipo bosque de color rojo. Presenta pepas en su interior.\n",
            "La frambuesa es una fruta de tipo bosque de color rojo. Presenta pepas en su interior.\n"
          ]
        }
      ]
    },
    {
      "cell_type": "markdown",
      "metadata": {
        "id": "492b941a"
      },
      "source": [
        "## Parte 2: Electrodomésticos 🧃\n",
        "\n",
        "En esta parte se solicitarán un par de clases que permitirá jugar con la Programación Orientada a Objetos.\n",
        "\n",
        "<div align='center'>\n",
        "<img src='https://upload.wikimedia.org/wikipedia/commons/6/67/Breville.jpg' width=400/>\n",
        "</div>"
      ],
      "id": "492b941a"
    },
    {
      "cell_type": "markdown",
      "metadata": {
        "id": "PDaUTTiLd8fl"
      },
      "source": [
        "### Clase Electrodoméstico [0.5 puntos] \n",
        "\n",
        "\n",
        "\n",
        "\n",
        "Defina la clase `Electrodomestico` que implemente:\n",
        "\n",
        "\n",
        "- Un constructor que defina un atributo de instancia llamado `enchufado` que almacene valores booleanos. \n",
        "- Un método llamado `esta_enchufado(self)` que levante una excepción `Exception` y que termine con la ejecución del programa cuando el atributo enchuado sea `False`. La exepción debe levantar el mensaje `'Alerta ⚠️: El electrodoméstico no está enchufado'`"
      ],
      "id": "PDaUTTiLd8fl"
    },
    {
      "cell_type": "code",
      "metadata": {
        "id": "9f8aa475"
      },
      "source": [
        "class Electrodomestico:\n",
        "    \n",
        "    def __init__(self):\n",
        "      # Código Aquí\n",
        "      self.enchufado = False\n",
        "        \n",
        "    def esta_enchufado(self):\n",
        "      # Código Aquí\n",
        "      if self.enchufado == False:\n",
        "        raise Exception('Alerta ⚠️: El electrodoméstico no está enchufado')\n",
        "      return self.enchufado\n",
        "\n",
        "    def enchufar(self):\n",
        "      self.enchufado = True\n",
        "      # Código Aquí"
      ],
      "id": "9f8aa475",
      "execution_count": 13,
      "outputs": []
    },
    {
      "cell_type": "code",
      "metadata": {
        "colab": {
          "base_uri": "https://localhost:8080/",
          "height": 299
        },
        "id": "tIfSM5iU4Y6L",
        "outputId": "9aafcf8c-8bbc-4a33-b516-4f336b7d560e"
      },
      "source": [
        "test = Electrodomestico()\n",
        "test.esta_enchufado()"
      ],
      "id": "tIfSM5iU4Y6L",
      "execution_count": 14,
      "outputs": [
        {
          "output_type": "error",
          "ename": "Exception",
          "evalue": "ignored",
          "traceback": [
            "\u001b[0;31m---------------------------------------------------------------------------\u001b[0m",
            "\u001b[0;31mException\u001b[0m                                 Traceback (most recent call last)",
            "\u001b[0;32m<ipython-input-14-7dd967f56841>\u001b[0m in \u001b[0;36m<module>\u001b[0;34m()\u001b[0m\n\u001b[1;32m      1\u001b[0m \u001b[0mtest\u001b[0m \u001b[0;34m=\u001b[0m \u001b[0mElectrodomestico\u001b[0m\u001b[0;34m(\u001b[0m\u001b[0;34m)\u001b[0m\u001b[0;34m\u001b[0m\u001b[0;34m\u001b[0m\u001b[0m\n\u001b[0;32m----> 2\u001b[0;31m \u001b[0mtest\u001b[0m\u001b[0;34m.\u001b[0m\u001b[0mesta_enchufado\u001b[0m\u001b[0;34m(\u001b[0m\u001b[0;34m)\u001b[0m\u001b[0;34m\u001b[0m\u001b[0;34m\u001b[0m\u001b[0m\n\u001b[0m",
            "\u001b[0;32m<ipython-input-13-930f887527cb>\u001b[0m in \u001b[0;36mesta_enchufado\u001b[0;34m(self)\u001b[0m\n\u001b[1;32m      8\u001b[0m       \u001b[0;31m# Código Aquí\u001b[0m\u001b[0;34m\u001b[0m\u001b[0;34m\u001b[0m\u001b[0;34m\u001b[0m\u001b[0m\n\u001b[1;32m      9\u001b[0m       \u001b[0;32mif\u001b[0m \u001b[0mself\u001b[0m\u001b[0;34m.\u001b[0m\u001b[0menchufado\u001b[0m \u001b[0;34m==\u001b[0m \u001b[0;32mFalse\u001b[0m\u001b[0;34m:\u001b[0m\u001b[0;34m\u001b[0m\u001b[0;34m\u001b[0m\u001b[0m\n\u001b[0;32m---> 10\u001b[0;31m         \u001b[0;32mraise\u001b[0m \u001b[0mException\u001b[0m\u001b[0;34m(\u001b[0m\u001b[0;34m'Alerta ⚠️: El electrodoméstico no está enchufado'\u001b[0m\u001b[0;34m)\u001b[0m\u001b[0;34m\u001b[0m\u001b[0;34m\u001b[0m\u001b[0m\n\u001b[0m\u001b[1;32m     11\u001b[0m       \u001b[0;32mreturn\u001b[0m \u001b[0mself\u001b[0m\u001b[0;34m.\u001b[0m\u001b[0menchufado\u001b[0m\u001b[0;34m\u001b[0m\u001b[0;34m\u001b[0m\u001b[0m\n\u001b[1;32m     12\u001b[0m \u001b[0;34m\u001b[0m\u001b[0m\n",
            "\u001b[0;31mException\u001b[0m: Alerta ⚠️: El electrodoméstico no está enchufado"
          ]
        }
      ]
    },
    {
      "cell_type": "code",
      "metadata": {
        "id": "Sc2xiHeWbNrA",
        "colab": {
          "base_uri": "https://localhost:8080/"
        },
        "outputId": "a82cfed5-4953-4fc0-e573-fc2c610031ef"
      },
      "source": [
        "test.enchufar()\n",
        "test.esta_enchufado()"
      ],
      "id": "Sc2xiHeWbNrA",
      "execution_count": 15,
      "outputs": [
        {
          "output_type": "execute_result",
          "data": {
            "text/plain": [
              "True"
            ]
          },
          "metadata": {},
          "execution_count": 15
        }
      ]
    },
    {
      "cell_type": "markdown",
      "metadata": {
        "id": "d7d477b5"
      },
      "source": [
        "### Clase Jugera [2.5 puntos] \n",
        "\n",
        "\n",
        "<div align='center'>\n",
        "<img src='https://upload.wikimedia.org/wikipedia/commons/b/bb/Liquadora_%28parts%29.JPG' width=400/>\n",
        "</div>\n",
        "\n"
      ],
      "id": "d7d477b5"
    },
    {
      "cell_type": "markdown",
      "metadata": {
        "id": "f72a5754"
      },
      "source": [
        "Implemente la clase `Jugera` que extiende `Electrodomestico` y que implemente: \n",
        "\n",
        "\n",
        "- Un constructor que tenga una lista de ingredientes frutales (llamado `bandeja`).\n",
        "\n",
        "\n",
        "- Un método llamado `agregar_ingrediente(self, nueva_fruta)` que dado una fruta, agregue esa fruta a la `bandeja`.\n",
        "\n",
        "- Un método llamado `listar_ingredientes(self)` que imprima (con `print`) los ingredientes actuales de la `bandeja` de la siguiente forma: \n",
        "\n",
        "    `Ingredientes en la bandeja: frutilla, frambuesa, piña.`\n",
        "\n",
        "    Hint: Investigar el método `join` de un string para generar el string con los nombres de las frutas.\n",
        "    \n",
        "    \n",
        "    \n",
        "\n",
        "- Un método llamado `preparar_jugo(self)` que: \n",
        "    - Primero verifique que el electrodoméstico esté enchufado usando `self.esta_enchufado()`.\n",
        "    - Verifique que haya por lo menos un ingrediente en la `bandeja`. En el caso que no haya, levantar una excepción con contenido `'Error ❌: La bandeja no tiene ingredientes.'`\n",
        "    - Verifique que ninguna fruta tenga pepas. En el caso que haya alguna, imprimir (con `print`) el mensaje de advertencia `'Alerta ⚠️: El jugo puede contener restos de pepas.'`. Puede usar la función definida en la sección anterior.\n",
        "    - Genere un mensaje indicado `Jugo de {nombres de las frutas separadas por una ,} listo. 🏖️🥤 Que lo disfrutes!!! 🥤🏖️. ` (Hint: Usar nuevamente `join`).\n",
        "    - Vacie la `bandeja` (es decir, eliminar todas las frutas de la bandeja).\n",
        "    - Retorne el mensaje generado.\n"
      ],
      "id": "f72a5754"
    },
    {
      "cell_type": "code",
      "metadata": {
        "id": "d9db037b"
      },
      "source": [
        "class Jugera(Electrodomestico):\n",
        "    \n",
        "    #bandeja = []\n",
        "    \n",
        "    def __init__(self):\n",
        "      super().__init__()\n",
        "      self.bandeja = []\n",
        "\n",
        "        # Código Aquí\n",
        "        \n",
        "    def agregar_ingrediente(self, nueva_fruta):\n",
        "      self.bandeja.append(nueva_fruta)\n",
        "        # Código Aquí\n",
        "     \n",
        "    def listar_ingredientes(self):\n",
        "      if len(self.bandeja) == 0:\n",
        "        print(\"Bandeja vacía.\")\n",
        "      else:\n",
        "        print(\"Ingredientes en la bandeja:\", \", \".join(self.bandeja[i][\"nombre\"] for i in range(len(self.bandeja))) +\".\")\n",
        "        # Código Aquí\n",
        "    \n",
        "    def preparar_jugo(self):\n",
        "      self.esta_enchufado()\n",
        "      if len(self.bandeja) == 0:\n",
        "        raise Exception(\"Error ❌: La bandeja no tiene ingredientes.\")\n",
        "      if len(filtrar_por_pepa_funcional(self.bandeja, True)) != 0:\n",
        "        print(\"Alerta ⚠️: El jugo puede contener restos de pepas.\") \n",
        "        # Código Aquí\n",
        "      mensaje = \"Jugo de \" + \", \".join(self.bandeja[i][\"nombre\"] for i in range(len(self.bandeja))) + \" listo. 🏖️🥤 Que lo disfrutes!!! 🥤🏖️.\"\n",
        "      self.bandeja = []\n",
        "      return mensaje"
      ],
      "id": "d9db037b",
      "execution_count": 90,
      "outputs": []
    },
    {
      "cell_type": "markdown",
      "metadata": {
        "id": "6889015a"
      },
      "source": [
        "### Interacciones\n",
        "\n",
        "Las siguientes celdas les permitirán probar las interacciones de esta clase.\n",
        "La ejecución es solo referencial y no lleva puntaje. La idea es que la utilice como guía para desarrollar la clase."
      ],
      "id": "6889015a"
    },
    {
      "cell_type": "code",
      "metadata": {
        "colab": {
          "base_uri": "https://localhost:8080/"
        },
        "id": "913af660",
        "outputId": "ead83649-fb6f-41cd-808c-f912d2330c4c"
      },
      "source": [
        "jugera = Jugera()\n",
        "\n",
        "# Como no tenemos ingredientes, listar_ingredientes deberá imprimir 'Bandeja vacía'\n",
        "jugera.listar_ingredientes()"
      ],
      "id": "913af660",
      "execution_count": 91,
      "outputs": [
        {
          "output_type": "stream",
          "name": "stdout",
          "text": [
            "Bandeja vacía.\n"
          ]
        }
      ]
    },
    {
      "cell_type": "code",
      "metadata": {
        "colab": {
          "base_uri": "https://localhost:8080/",
          "height": 323
        },
        "id": "9d06bf3e",
        "scrolled": false,
        "outputId": "a06d9d91-0eeb-46e8-a115-546d99d3d8c8"
      },
      "source": [
        "# Esta celda debería levantar una excepcion indicando que no está enchufada la jugera.\n",
        "jugera.preparar_jugo()"
      ],
      "id": "9d06bf3e",
      "execution_count": 92,
      "outputs": [
        {
          "output_type": "error",
          "ename": "Exception",
          "evalue": "ignored",
          "traceback": [
            "\u001b[0;31m---------------------------------------------------------------------------\u001b[0m",
            "\u001b[0;31mException\u001b[0m                                 Traceback (most recent call last)",
            "\u001b[0;32m<ipython-input-92-12a82fa67e1d>\u001b[0m in \u001b[0;36m<module>\u001b[0;34m()\u001b[0m\n\u001b[1;32m      1\u001b[0m \u001b[0;31m# Esta celda debería levantar una excepcion indicando que no está enchufada la jugera.\u001b[0m\u001b[0;34m\u001b[0m\u001b[0;34m\u001b[0m\u001b[0;34m\u001b[0m\u001b[0m\n\u001b[0;32m----> 2\u001b[0;31m \u001b[0mjugera\u001b[0m\u001b[0;34m.\u001b[0m\u001b[0mpreparar_jugo\u001b[0m\u001b[0;34m(\u001b[0m\u001b[0;34m)\u001b[0m\u001b[0;34m\u001b[0m\u001b[0;34m\u001b[0m\u001b[0m\n\u001b[0m",
            "\u001b[0;32m<ipython-input-90-186a0c57da65>\u001b[0m in \u001b[0;36mpreparar_jugo\u001b[0;34m(self)\u001b[0m\n\u001b[1;32m     21\u001b[0m \u001b[0;34m\u001b[0m\u001b[0m\n\u001b[1;32m     22\u001b[0m     \u001b[0;32mdef\u001b[0m \u001b[0mpreparar_jugo\u001b[0m\u001b[0;34m(\u001b[0m\u001b[0mself\u001b[0m\u001b[0;34m)\u001b[0m\u001b[0;34m:\u001b[0m\u001b[0;34m\u001b[0m\u001b[0;34m\u001b[0m\u001b[0m\n\u001b[0;32m---> 23\u001b[0;31m       \u001b[0mself\u001b[0m\u001b[0;34m.\u001b[0m\u001b[0mesta_enchufado\u001b[0m\u001b[0;34m(\u001b[0m\u001b[0;34m)\u001b[0m\u001b[0;34m\u001b[0m\u001b[0;34m\u001b[0m\u001b[0m\n\u001b[0m\u001b[1;32m     24\u001b[0m       \u001b[0;32mif\u001b[0m \u001b[0mlen\u001b[0m\u001b[0;34m(\u001b[0m\u001b[0mself\u001b[0m\u001b[0;34m.\u001b[0m\u001b[0mbandeja\u001b[0m\u001b[0;34m)\u001b[0m \u001b[0;34m==\u001b[0m \u001b[0;36m0\u001b[0m\u001b[0;34m:\u001b[0m\u001b[0;34m\u001b[0m\u001b[0;34m\u001b[0m\u001b[0m\n\u001b[1;32m     25\u001b[0m         \u001b[0;32mraise\u001b[0m \u001b[0mException\u001b[0m\u001b[0;34m(\u001b[0m\u001b[0;34m\"Error ❌: La bandeja no tiene ingredientes.\"\u001b[0m\u001b[0;34m)\u001b[0m\u001b[0;34m\u001b[0m\u001b[0;34m\u001b[0m\u001b[0m\n",
            "\u001b[0;32m<ipython-input-13-930f887527cb>\u001b[0m in \u001b[0;36mesta_enchufado\u001b[0;34m(self)\u001b[0m\n\u001b[1;32m      8\u001b[0m       \u001b[0;31m# Código Aquí\u001b[0m\u001b[0;34m\u001b[0m\u001b[0;34m\u001b[0m\u001b[0;34m\u001b[0m\u001b[0m\n\u001b[1;32m      9\u001b[0m       \u001b[0;32mif\u001b[0m \u001b[0mself\u001b[0m\u001b[0;34m.\u001b[0m\u001b[0menchufado\u001b[0m \u001b[0;34m==\u001b[0m \u001b[0;32mFalse\u001b[0m\u001b[0;34m:\u001b[0m\u001b[0;34m\u001b[0m\u001b[0;34m\u001b[0m\u001b[0m\n\u001b[0;32m---> 10\u001b[0;31m         \u001b[0;32mraise\u001b[0m \u001b[0mException\u001b[0m\u001b[0;34m(\u001b[0m\u001b[0;34m'Alerta ⚠️: El electrodoméstico no está enchufado'\u001b[0m\u001b[0;34m)\u001b[0m\u001b[0;34m\u001b[0m\u001b[0;34m\u001b[0m\u001b[0m\n\u001b[0m\u001b[1;32m     11\u001b[0m       \u001b[0;32mreturn\u001b[0m \u001b[0mself\u001b[0m\u001b[0;34m.\u001b[0m\u001b[0menchufado\u001b[0m\u001b[0;34m\u001b[0m\u001b[0;34m\u001b[0m\u001b[0m\n\u001b[1;32m     12\u001b[0m \u001b[0;34m\u001b[0m\u001b[0m\n",
            "\u001b[0;31mException\u001b[0m: Alerta ⚠️: El electrodoméstico no está enchufado"
          ]
        }
      ]
    },
    {
      "cell_type": "code",
      "metadata": {
        "id": "3ad38f18"
      },
      "source": [
        "# Enchufamos el electrodoméstico\n",
        "jugera.enchufar()"
      ],
      "id": "3ad38f18",
      "execution_count": 93,
      "outputs": []
    },
    {
      "cell_type": "code",
      "metadata": {
        "colab": {
          "base_uri": "https://localhost:8080/",
          "height": 299
        },
        "id": "48009872",
        "scrolled": true,
        "outputId": "698c51c2-7238-4c38-b5fc-0c0a2179850f"
      },
      "source": [
        "# Esta celda debería levantar ina excepción informandoles que la bandeja no tiene ingredientes.\n",
        "jugera.preparar_jugo()"
      ],
      "id": "48009872",
      "execution_count": 94,
      "outputs": [
        {
          "output_type": "error",
          "ename": "Exception",
          "evalue": "ignored",
          "traceback": [
            "\u001b[0;31m---------------------------------------------------------------------------\u001b[0m",
            "\u001b[0;31mException\u001b[0m                                 Traceback (most recent call last)",
            "\u001b[0;32m<ipython-input-94-763feb2b9970>\u001b[0m in \u001b[0;36m<module>\u001b[0;34m()\u001b[0m\n\u001b[1;32m      1\u001b[0m \u001b[0;31m# Esta celda debería levantar ina excepción informandoles que la bandeja no tiene ingredientes.\u001b[0m\u001b[0;34m\u001b[0m\u001b[0;34m\u001b[0m\u001b[0;34m\u001b[0m\u001b[0m\n\u001b[0;32m----> 2\u001b[0;31m \u001b[0mjugera\u001b[0m\u001b[0;34m.\u001b[0m\u001b[0mpreparar_jugo\u001b[0m\u001b[0;34m(\u001b[0m\u001b[0;34m)\u001b[0m\u001b[0;34m\u001b[0m\u001b[0;34m\u001b[0m\u001b[0m\n\u001b[0m",
            "\u001b[0;32m<ipython-input-90-186a0c57da65>\u001b[0m in \u001b[0;36mpreparar_jugo\u001b[0;34m(self)\u001b[0m\n\u001b[1;32m     23\u001b[0m       \u001b[0mself\u001b[0m\u001b[0;34m.\u001b[0m\u001b[0mesta_enchufado\u001b[0m\u001b[0;34m(\u001b[0m\u001b[0;34m)\u001b[0m\u001b[0;34m\u001b[0m\u001b[0;34m\u001b[0m\u001b[0m\n\u001b[1;32m     24\u001b[0m       \u001b[0;32mif\u001b[0m \u001b[0mlen\u001b[0m\u001b[0;34m(\u001b[0m\u001b[0mself\u001b[0m\u001b[0;34m.\u001b[0m\u001b[0mbandeja\u001b[0m\u001b[0;34m)\u001b[0m \u001b[0;34m==\u001b[0m \u001b[0;36m0\u001b[0m\u001b[0;34m:\u001b[0m\u001b[0;34m\u001b[0m\u001b[0;34m\u001b[0m\u001b[0m\n\u001b[0;32m---> 25\u001b[0;31m         \u001b[0;32mraise\u001b[0m \u001b[0mException\u001b[0m\u001b[0;34m(\u001b[0m\u001b[0;34m\"Error ❌: La bandeja no tiene ingredientes.\"\u001b[0m\u001b[0;34m)\u001b[0m\u001b[0;34m\u001b[0m\u001b[0;34m\u001b[0m\u001b[0m\n\u001b[0m\u001b[1;32m     26\u001b[0m       \u001b[0;32mif\u001b[0m \u001b[0mlen\u001b[0m\u001b[0;34m(\u001b[0m\u001b[0mfiltrar_por_pepa_funcional\u001b[0m\u001b[0;34m(\u001b[0m\u001b[0mself\u001b[0m\u001b[0;34m.\u001b[0m\u001b[0mbandeja\u001b[0m\u001b[0;34m,\u001b[0m \u001b[0;32mTrue\u001b[0m\u001b[0;34m)\u001b[0m\u001b[0;34m)\u001b[0m \u001b[0;34m!=\u001b[0m \u001b[0;36m0\u001b[0m\u001b[0;34m:\u001b[0m\u001b[0;34m\u001b[0m\u001b[0;34m\u001b[0m\u001b[0m\n\u001b[1;32m     27\u001b[0m         \u001b[0mprint\u001b[0m\u001b[0;34m(\u001b[0m\u001b[0;34m\"Alerta ⚠️: El jugo puede contener restos de pepas.\"\u001b[0m\u001b[0;34m)\u001b[0m\u001b[0;34m\u001b[0m\u001b[0;34m\u001b[0m\u001b[0m\n",
            "\u001b[0;31mException\u001b[0m: Error ❌: La bandeja no tiene ingredientes."
          ]
        }
      ]
    },
    {
      "cell_type": "code",
      "metadata": {
        "colab": {
          "base_uri": "https://localhost:8080/"
        },
        "id": "4873e0bf",
        "outputId": "b60c77df-69fb-4df9-cc38-2f787038838b"
      },
      "source": [
        "# Agregamos algunos ingredientes\n",
        "jugera.agregar_ingrediente(naranja)\n",
        "jugera.agregar_ingrediente(platano)\n",
        "\n",
        "# Y los listamos (debería imprimir: 'Ingredientes en la bandeja: naranja, plátano')\n",
        "jugera.listar_ingredientes()"
      ],
      "id": "4873e0bf",
      "execution_count": 95,
      "outputs": [
        {
          "output_type": "stream",
          "name": "stdout",
          "text": [
            "Ingredientes en la bandeja: naranja, plátano.\n"
          ]
        }
      ]
    },
    {
      "cell_type": "code",
      "metadata": {
        "colab": {
          "base_uri": "https://localhost:8080/",
          "height": 52
        },
        "id": "ff555151",
        "outputId": "9eba1998-10f4-47f6-bcb4-e6719a6cc30b"
      },
      "source": [
        "# Preparamos el jugo: 'Jugo de naranja, plátano listo. 🏖️🥤 Que lo disfrutes!!! 🥤🏖️.'\n",
        "jugera.preparar_jugo()"
      ],
      "id": "ff555151",
      "execution_count": 96,
      "outputs": [
        {
          "output_type": "stream",
          "name": "stdout",
          "text": [
            "Alerta ⚠️: El jugo puede contener restos de pepas.\n"
          ]
        },
        {
          "output_type": "execute_result",
          "data": {
            "application/vnd.google.colaboratory.intrinsic+json": {
              "type": "string"
            },
            "text/plain": [
              "'Jugo de naranja, plátano listo. 🏖️🥤 Que lo disfrutes!!! 🥤🏖️.'"
            ]
          },
          "metadata": {},
          "execution_count": 96
        }
      ]
    },
    {
      "cell_type": "code",
      "metadata": {
        "colab": {
          "base_uri": "https://localhost:8080/"
        },
        "id": "bbc532b2",
        "outputId": "4f113442-53c8-4c89-c331-c06c5705295e"
      },
      "source": [
        "# Una vez preparado el jugo, debería vaciarse la bandeja (imprimir Bandeja vacía)\n",
        "jugera.listar_ingredientes()"
      ],
      "id": "bbc532b2",
      "execution_count": 24,
      "outputs": [
        {
          "output_type": "stream",
          "name": "stdout",
          "text": [
            "Bandeja vacía.\n"
          ]
        }
      ]
    },
    {
      "cell_type": "markdown",
      "metadata": {
        "id": "972dbcac"
      },
      "source": [
        "## Bonus [0.5]\n",
        "\n",
        "Implementar `bandeja` usando una `property` que permita setear una `nueva_bandeja` como `bandeja` según las siguientes condiciones:\n",
        "\n",
        "\n",
        "- Compruebe que `nueva_bandeja` sea una lista. En caso contrario, levante una excepción.\n",
        "- No permita agregar más de 3 ingredientes a la bandeja a la vez. Si se entregan más de 3 frutas, se levante una excepción.\n",
        "- Se compruebe que todos los elementos del arreglo sean frutas. Para esto, por cada fruta compruebe que:\n",
        "    1. La fruta sea diccionario.\n",
        "    2. El diccionario entregado tenga las llaves `nombre`, `tipo`, `color` y `pepas`."
      ],
      "id": "972dbcac"
    },
    {
      "cell_type": "code",
      "metadata": {
        "id": "cVRf_u57sI0i"
      },
      "source": [
        "class Jugera(Electrodomestico):\n",
        "    \n",
        "    \n",
        "    def __init__(self):\n",
        "      super().__init__()\n",
        "      self.bandeja = []\n",
        "        # Código Aquí\n",
        "\n",
        "    @property\n",
        "    def bandeja(self):\n",
        "\n",
        "      return self._bandeja()\n",
        "        # Código Aquí\n",
        "        \n",
        "    @bandeja.setter\n",
        "    def bandeja(self, nueva_bandeja):\n",
        "      if type(nueva_bandeja) == list:\n",
        "        self._bandeja = nueva_bandeja\n",
        "      else:\n",
        "        raise Exception(\"Error ⚠: formato incorrecto de bandeja\")\n",
        "        # Código Aquí\n",
        "\n",
        "    def agregar_ingrediente(self, nueva_fruta):\n",
        "      if len(self._bandeja) > 3:\n",
        "        raise Exception(\"Error ❌: la bandeja no puede tener más de 3 frutas\")\n",
        "      else:\n",
        "        if type(nueva_fruta) == dict and set(nueva_fruta.keys()) == set({'nombre', 'tipo', 'color', 'pepas'}):\n",
        "          self._bandeja.append(nueva_fruta)\n",
        "        else:\n",
        "          raise Exception(\"Error 🛑: la fruta no tiene el formato diccionario con las keys requeridas\")\n",
        "        # Código Aquí\n",
        "     \n",
        "    def listar_ingredientes(self):\n",
        "      if len(self._bandeja) == 0:\n",
        "        print(\"Bandeja vacía.\")\n",
        "      else:\n",
        "        print(\"Ingredientes en la bandeja:\", \", \".join(self._bandeja[i][\"nombre\"] for i in range(len(self._bandeja))) +\".\")\n",
        "        # Código Aquí\n",
        "    \n",
        "    def preparar_jugo(self):\n",
        "        # Código Aquí\n",
        "      self.esta_enchufado()\n",
        "      if len(self._bandeja) == 0:\n",
        "        raise Exception(\"Error ❌: La bandeja no tiene ingredientes.\")\n",
        "      if len(filtrar_por_pepa_funcional(self._bandeja, True)) != 0:\n",
        "        print(\"Alerta ⚠️: El jugo puede contener restos de pepas.\") \n",
        "        # Código Aquí\n",
        "      mensaje = \"Jugo de \" + \", \".join(self._bandeja[i][\"nombre\"] for i in range(len(self._bandeja))) + \" listo. 🏖️🥤 Que lo disfrutes!!! 🥤🏖️.\"\n",
        "      self._bandeja = []\n",
        "      return mensaje        "
      ],
      "id": "cVRf_u57sI0i",
      "execution_count": 85,
      "outputs": []
    },
    {
      "cell_type": "code",
      "metadata": {
        "id": "QcSgxCY4c_Kz"
      },
      "source": [
        "ola = Jugera()\n"
      ],
      "id": "QcSgxCY4c_Kz",
      "execution_count": 86,
      "outputs": []
    },
    {
      "cell_type": "code",
      "metadata": {
        "colab": {
          "base_uri": "https://localhost:8080/",
          "height": 282
        },
        "id": "rxx0aq-Ufdmd",
        "outputId": "6dbf02aa-f1fa-4ffd-fe1c-892b35486e13"
      },
      "source": [
        "ola.agregar_ingrediente(['jugo'])"
      ],
      "id": "rxx0aq-Ufdmd",
      "execution_count": 87,
      "outputs": [
        {
          "output_type": "error",
          "ename": "Exception",
          "evalue": "ignored",
          "traceback": [
            "\u001b[0;31m---------------------------------------------------------------------------\u001b[0m",
            "\u001b[0;31mException\u001b[0m                                 Traceback (most recent call last)",
            "\u001b[0;32m<ipython-input-87-ca86b7f2a812>\u001b[0m in \u001b[0;36m<module>\u001b[0;34m()\u001b[0m\n\u001b[0;32m----> 1\u001b[0;31m \u001b[0mola\u001b[0m\u001b[0;34m.\u001b[0m\u001b[0magregar_ingrediente\u001b[0m\u001b[0;34m(\u001b[0m\u001b[0;34m[\u001b[0m\u001b[0;34m'jugo'\u001b[0m\u001b[0;34m]\u001b[0m\u001b[0;34m)\u001b[0m\u001b[0;34m\u001b[0m\u001b[0;34m\u001b[0m\u001b[0m\n\u001b[0m",
            "\u001b[0;32m<ipython-input-85-cd8a5367fa66>\u001b[0m in \u001b[0;36magregar_ingrediente\u001b[0;34m(self, nueva_fruta)\u001b[0m\n\u001b[1;32m     28\u001b[0m           \u001b[0mself\u001b[0m\u001b[0;34m.\u001b[0m\u001b[0m_bandeja\u001b[0m\u001b[0;34m.\u001b[0m\u001b[0mappend\u001b[0m\u001b[0;34m(\u001b[0m\u001b[0mnueva_fruta\u001b[0m\u001b[0;34m)\u001b[0m\u001b[0;34m\u001b[0m\u001b[0;34m\u001b[0m\u001b[0m\n\u001b[1;32m     29\u001b[0m         \u001b[0;32melse\u001b[0m\u001b[0;34m:\u001b[0m\u001b[0;34m\u001b[0m\u001b[0;34m\u001b[0m\u001b[0m\n\u001b[0;32m---> 30\u001b[0;31m           \u001b[0;32mraise\u001b[0m \u001b[0mException\u001b[0m\u001b[0;34m(\u001b[0m\u001b[0;34m\"Error 🛑: la fruta no tiene el formato diccionario con las keys requeridas\"\u001b[0m\u001b[0;34m)\u001b[0m\u001b[0;34m\u001b[0m\u001b[0;34m\u001b[0m\u001b[0m\n\u001b[0m\u001b[1;32m     31\u001b[0m         \u001b[0;31m# Código Aquí\u001b[0m\u001b[0;34m\u001b[0m\u001b[0;34m\u001b[0m\u001b[0;34m\u001b[0m\u001b[0m\n\u001b[1;32m     32\u001b[0m \u001b[0;34m\u001b[0m\u001b[0m\n",
            "\u001b[0;31mException\u001b[0m: Error 🛑: la fruta no tiene el formato diccionario con las keys requeridas"
          ]
        }
      ]
    },
    {
      "cell_type": "code",
      "metadata": {
        "colab": {
          "base_uri": "https://localhost:8080/",
          "height": 340
        },
        "id": "gzQahF6NilN8",
        "outputId": "d32d18c7-a5a8-4f71-c5d7-614c4312ea1b"
      },
      "source": [
        "ola.agregar_ingrediente(limon)\n",
        "ola.agregar_ingrediente(frutilla)\n",
        "ola.preparar_jugo()"
      ],
      "id": "gzQahF6NilN8",
      "execution_count": 88,
      "outputs": [
        {
          "output_type": "error",
          "ename": "Exception",
          "evalue": "ignored",
          "traceback": [
            "\u001b[0;31m---------------------------------------------------------------------------\u001b[0m",
            "\u001b[0;31mException\u001b[0m                                 Traceback (most recent call last)",
            "\u001b[0;32m<ipython-input-88-11de655c8e73>\u001b[0m in \u001b[0;36m<module>\u001b[0;34m()\u001b[0m\n\u001b[1;32m      1\u001b[0m \u001b[0mola\u001b[0m\u001b[0;34m.\u001b[0m\u001b[0magregar_ingrediente\u001b[0m\u001b[0;34m(\u001b[0m\u001b[0mlimon\u001b[0m\u001b[0;34m)\u001b[0m\u001b[0;34m\u001b[0m\u001b[0;34m\u001b[0m\u001b[0m\n\u001b[1;32m      2\u001b[0m \u001b[0mola\u001b[0m\u001b[0;34m.\u001b[0m\u001b[0magregar_ingrediente\u001b[0m\u001b[0;34m(\u001b[0m\u001b[0mfrutilla\u001b[0m\u001b[0;34m)\u001b[0m\u001b[0;34m\u001b[0m\u001b[0;34m\u001b[0m\u001b[0m\n\u001b[0;32m----> 3\u001b[0;31m \u001b[0mola\u001b[0m\u001b[0;34m.\u001b[0m\u001b[0mpreparar_jugo\u001b[0m\u001b[0;34m(\u001b[0m\u001b[0;34m)\u001b[0m\u001b[0;34m\u001b[0m\u001b[0;34m\u001b[0m\u001b[0m\n\u001b[0m",
            "\u001b[0;32m<ipython-input-85-cd8a5367fa66>\u001b[0m in \u001b[0;36mpreparar_jugo\u001b[0;34m(self)\u001b[0m\n\u001b[1;32m     40\u001b[0m     \u001b[0;32mdef\u001b[0m \u001b[0mpreparar_jugo\u001b[0m\u001b[0;34m(\u001b[0m\u001b[0mself\u001b[0m\u001b[0;34m)\u001b[0m\u001b[0;34m:\u001b[0m\u001b[0;34m\u001b[0m\u001b[0;34m\u001b[0m\u001b[0m\n\u001b[1;32m     41\u001b[0m         \u001b[0;31m# Código Aquí\u001b[0m\u001b[0;34m\u001b[0m\u001b[0;34m\u001b[0m\u001b[0;34m\u001b[0m\u001b[0m\n\u001b[0;32m---> 42\u001b[0;31m       \u001b[0mself\u001b[0m\u001b[0;34m.\u001b[0m\u001b[0mesta_enchufado\u001b[0m\u001b[0;34m(\u001b[0m\u001b[0;34m)\u001b[0m\u001b[0;34m\u001b[0m\u001b[0;34m\u001b[0m\u001b[0m\n\u001b[0m\u001b[1;32m     43\u001b[0m       \u001b[0;32mif\u001b[0m \u001b[0mlen\u001b[0m\u001b[0;34m(\u001b[0m\u001b[0mself\u001b[0m\u001b[0;34m.\u001b[0m\u001b[0m_bandeja\u001b[0m\u001b[0;34m)\u001b[0m \u001b[0;34m==\u001b[0m \u001b[0;36m0\u001b[0m\u001b[0;34m:\u001b[0m\u001b[0;34m\u001b[0m\u001b[0;34m\u001b[0m\u001b[0m\n\u001b[1;32m     44\u001b[0m         \u001b[0;32mraise\u001b[0m \u001b[0mException\u001b[0m\u001b[0;34m(\u001b[0m\u001b[0;34m\"Error ❌: La bandeja no tiene ingredientes.\"\u001b[0m\u001b[0;34m)\u001b[0m\u001b[0;34m\u001b[0m\u001b[0;34m\u001b[0m\u001b[0m\n",
            "\u001b[0;32m<ipython-input-13-930f887527cb>\u001b[0m in \u001b[0;36mesta_enchufado\u001b[0;34m(self)\u001b[0m\n\u001b[1;32m      8\u001b[0m       \u001b[0;31m# Código Aquí\u001b[0m\u001b[0;34m\u001b[0m\u001b[0;34m\u001b[0m\u001b[0;34m\u001b[0m\u001b[0m\n\u001b[1;32m      9\u001b[0m       \u001b[0;32mif\u001b[0m \u001b[0mself\u001b[0m\u001b[0;34m.\u001b[0m\u001b[0menchufado\u001b[0m \u001b[0;34m==\u001b[0m \u001b[0;32mFalse\u001b[0m\u001b[0;34m:\u001b[0m\u001b[0;34m\u001b[0m\u001b[0;34m\u001b[0m\u001b[0m\n\u001b[0;32m---> 10\u001b[0;31m         \u001b[0;32mraise\u001b[0m \u001b[0mException\u001b[0m\u001b[0;34m(\u001b[0m\u001b[0;34m'Alerta ⚠️: El electrodoméstico no está enchufado'\u001b[0m\u001b[0;34m)\u001b[0m\u001b[0;34m\u001b[0m\u001b[0;34m\u001b[0m\u001b[0m\n\u001b[0m\u001b[1;32m     11\u001b[0m       \u001b[0;32mreturn\u001b[0m \u001b[0mself\u001b[0m\u001b[0;34m.\u001b[0m\u001b[0menchufado\u001b[0m\u001b[0;34m\u001b[0m\u001b[0;34m\u001b[0m\u001b[0m\n\u001b[1;32m     12\u001b[0m \u001b[0;34m\u001b[0m\u001b[0m\n",
            "\u001b[0;31mException\u001b[0m: Alerta ⚠️: El electrodoméstico no está enchufado"
          ]
        }
      ]
    },
    {
      "cell_type": "code",
      "metadata": {
        "colab": {
          "base_uri": "https://localhost:8080/",
          "height": 52
        },
        "id": "vAZpP-sHjXmM",
        "outputId": "f2a572c7-c254-45f5-eb32-85953ce1221d"
      },
      "source": [
        "ola.enchufar()\n",
        "ola.preparar_jugo()"
      ],
      "id": "vAZpP-sHjXmM",
      "execution_count": 89,
      "outputs": [
        {
          "output_type": "stream",
          "name": "stdout",
          "text": [
            "Alerta ⚠️: El jugo puede contener restos de pepas.\n"
          ]
        },
        {
          "output_type": "execute_result",
          "data": {
            "application/vnd.google.colaboratory.intrinsic+json": {
              "type": "string"
            },
            "text/plain": [
              "'Jugo de limón, frutilla listo. 🏖️🥤 Que lo disfrutes!!! 🥤🏖️.'"
            ]
          },
          "metadata": {},
          "execution_count": 89
        }
      ]
    }
  ]
}