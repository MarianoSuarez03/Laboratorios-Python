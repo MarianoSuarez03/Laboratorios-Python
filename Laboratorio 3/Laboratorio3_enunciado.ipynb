{
 "cells": [
  {
   "cell_type": "markdown",
   "source": "<h1><center>Laboratorio 3: El Pandas no muerde (act. I) 🐼</center></h1>\n\n<center><strong>MDS7202: Laboratorio de Programación Científica para Ciencia de Datos</strong></center>",
   "metadata": {
    "id": "XUZ1dFPHzAHl",
    "cell_id": "00000-ae4bce0d-d467-4e5f-a49a-58fb5129bd6c",
    "deepnote_cell_type": "markdown"
   }
  },
  {
   "cell_type": "markdown",
   "source": "### Cuerpo Docente:\n\n- Profesor: Pablo Badilla\n- Auxiliar: Ignacio Meza D.\n- Ayudante: Constanza Peña",
   "metadata": {
    "id": "UD8X1uhGzAHq",
    "cell_id": "00001-c0f83a9b-e822-4864-8c65-718da74b60b9",
    "deepnote_cell_type": "markdown"
   }
  },
  {
   "cell_type": "markdown",
   "source": "### Equipo: SUPER IMPORTANTE - notebooks sin nombre no serán revisados\n\n- Nombre de alumno 1: Rodrigo Guerra\n- Nombre de alumno 2: Mariano Suárez\n",
   "metadata": {
    "id": "tXflExjqzAHr",
    "cell_id": "00002-155246d6-4c8d-43be-872f-880dede73522",
    "deepnote_cell_type": "markdown"
   }
  },
  {
   "cell_type": "markdown",
   "source": "### **Link de repositorio de GitHub:** `https://github.com/MarianoSuarez03/Laboratorios-Python`",
   "metadata": {
    "id": "AD-V0bbZzAHr",
    "cell_id": "00003-97391d1f-df36-4c70-90b7-bfd91cd6e49e",
    "deepnote_cell_type": "markdown"
   }
  },
  {
   "cell_type": "markdown",
   "source": "### Reglas:\n\n- Fecha de entrega: 24 de septiembre (atrasos hasta el 27 de septiembre, 1 pto de descuento por día)\n- **Grupos de máximo 2 personas**\n- **Ausentes** deberán realizar la actividad solos. \n- Cualquier duda fuera del horario de clases al foro. Mensajes al equipo docente serán respondidos por este medio.\n- Prohibidas las copias. \n- Pueden usar cualquer matrial del curso que estimen conveniente.",
   "metadata": {
    "tags": [],
    "cell_id": "00004-0e0866f8-5d50-4988-906a-d868ede07df1",
    "deepnote_cell_type": "markdown"
   }
  },
  {
   "cell_type": "markdown",
   "source": "### Temas a tratar\n\n- Introducción al manejo de datos tabulares por medio de la libreria `pandas`.",
   "metadata": {
    "tags": [],
    "cell_id": "00005-ea6a4d75-61c0-4a2b-ac8d-1ac736216350",
    "deepnote_cell_type": "markdown"
   }
  },
  {
   "cell_type": "markdown",
   "source": "### Objetivos principales del laboratorio\n\n- Entender, aplicar y aprovechar las ventajas que nos ofrece la libreria `pandas` para manejar datos tabulares.\n- Aprender a utilizar la documentación de pandas (y en general, de cualquier librería de python) como también a buscar soluciones en la web.\n\n> **Nota**: El laboratorio deberá ser desarrollado sin el uso indiscriminado de iteradores nativos de python (aka \"for\", \"while\"). La idea es que aprendan a exprimir al máximo las funciones optimizadas que nos entrega `pandas`, las cuales vale mencionar, son bastante más eficientes que los iteradores nativos sobre DataFrames.",
   "metadata": {
    "id": "6uBLPj1PzAHs",
    "cell_id": "00006-fbe17074-fb3c-4ddb-bb19-2bfd042bf921",
    "deepnote_cell_type": "markdown"
   }
  },
  {
   "cell_type": "markdown",
   "source": "### Librerias utiles para el Lab 😸",
   "metadata": {
    "id": "MhISwri4zAHy",
    "cell_id": "00007-93c4d22f-7d4f-4cc0-bca9-a2c35a9b8b3e",
    "deepnote_cell_type": "markdown"
   }
  },
  {
   "cell_type": "code",
   "metadata": {
    "ExecuteTime": {
     "end_time": "2021-03-29T00:08:16.884674Z",
     "start_time": "2021-03-29T00:08:16.349846Z"
    },
    "id": "uyc33dKdzAHy",
    "colab": {
     "base_uri": "https://localhost:8080/"
    },
    "executionInfo": {
     "status": "ok",
     "timestamp": 1619205948702,
     "user_tz": 240,
     "elapsed": 4847,
     "user": {
      "displayName": "IGNACIO ALEJANDRO MEZA",
      "photoUrl": "",
      "userId": "17011121633069169364"
     }
    },
    "outputId": "0b8ebbb5-c76c-45a4-9d3e-1b6dba06a278",
    "deepnote_to_be_reexecuted": false,
    "source_hash": "8da0b14b",
    "execution_start": 1633016518688,
    "execution_millis": 5351,
    "cell_id": "00008-58834915-07fa-4589-93b7-f1fb0c08b816",
    "deepnote_cell_type": "code"
   },
   "source": "# Libreria Core del lab.\nimport numpy as np\nimport pandas as pd\nfrom IPython.display import display\n\n#Libreria para plotear\n!pip install --upgrade plotly\nimport plotly.express as px\n\n# Librerias utiles\nfrom sklearn.preprocessing import StandardScaler",
   "execution_count": null,
   "outputs": [
    {
     "name": "stdout",
     "text": "Requirement already satisfied: plotly in /shared-libs/python3.7/py/lib/python3.7/site-packages (5.3.1)\nRequirement already satisfied: tenacity>=6.2.0 in /shared-libs/python3.7/py/lib/python3.7/site-packages (from plotly) (8.0.1)\nRequirement already satisfied: six in /shared-libs/python3.7/py-core/lib/python3.7/site-packages (from plotly) (1.16.0)\n",
     "output_type": "stream"
    }
   ]
  },
  {
   "cell_type": "markdown",
   "source": "# 1. Rendimiento en Estudiantes 📚",
   "metadata": {
    "id": "xpOTbQcxbSiy",
    "cell_id": "00009-429ae3f2-fb38-4b64-b588-014a84e630dd",
    "deepnote_cell_type": "markdown"
   }
  },
  {
   "cell_type": "markdown",
   "source": "",
   "metadata": {
    "id": "3Q93vbNS25bM",
    "cell_id": "00010-37be44cf-4558-4ba9-83df-767bf4f1905d",
    "deepnote_cell_type": "markdown"
   }
  },
  {
   "cell_type": "markdown",
   "source": "Para este laboratorio deberán trabajar con el dataset `students_grades.json` el cual contiene información sobre el rendimiento de alumnos en distintos ramos. \nEl objetivo principal será el de realizar un trabajo de limpieza de prepración y exploración de datos utilizando exclusivamente `DataFrames` y sus métodos asociados. \n\n\n",
   "metadata": {
    "id": "jnmZfFpxTTYX",
    "cell_id": "00011-2ad31a90-832d-4d5e-9c29-4e5d686375fa",
    "deepnote_cell_type": "markdown"
   }
  },
  {
   "cell_type": "code",
   "metadata": {
    "colab": {
     "base_uri": "https://localhost:8080/"
    },
    "id": "Jqq-s010Iwl1",
    "executionInfo": {
     "status": "ok",
     "timestamp": 1619205948705,
     "user_tz": 240,
     "elapsed": 625,
     "user": {
      "displayName": "IGNACIO ALEJANDRO MEZA",
      "photoUrl": "",
      "userId": "17011121633069169364"
     }
    },
    "outputId": "d90c065b-1e2f-43f6-81eb-c92ed177f5f5",
    "deepnote_to_be_reexecuted": false,
    "source_hash": "c60dc4a7",
    "execution_start": 1633016524051,
    "execution_millis": 12,
    "cell_id": "00012-6ef52018-06ac-4eb8-8b0a-4142b81e04aa",
    "deepnote_cell_type": "code"
   },
   "source": "# Si usted está utilizando Colabolatory le puede ser útil este código para cargar los archivos.\ntry:\n    from google.colab import drive\n    drive.mount(\"/content/drive\")\n    path = 'Dirección donde tiene los archivos en el Drive'\nexcept: \n    print('Ignorando conexión drive-colab')",
   "execution_count": null,
   "outputs": [
    {
     "name": "stdout",
     "text": "Ignorando conexión drive-colab\n",
     "output_type": "stream"
    }
   ]
  },
  {
   "cell_type": "markdown",
   "source": "## 1.1 Carga e Inspección de Datos [1.5 Puntos]\n\n\n<p align=\"center\">\n  <img src=\"https://drive.google.com/uc?export=view&id=1hZZaPQlZe4VupFOXt76_wjuUA5NpUhrw\" width=\"300\" height=\"300\">\n</p>\n",
   "metadata": {
    "id": "Y7sGYwOpN1VJ",
    "cell_id": "00013-61182eec-37fa-401b-8e56-9aec91671835",
    "deepnote_cell_type": "markdown"
   }
  },
  {
   "cell_type": "markdown",
   "source": "*Don Caguayo*, rector de la Universidad de la Cachaña, les comenta que actualmente la Universidad no tiene una subdirección de análisis de datos, pero que tiene un gran interés en formar una. Es por esto, que se contacta con ud. y su equipo para iniciar de forma exploratoria diversas tareas de análisis y consolidación de datos respectivos al rendimiento de sus alumnos.\n\nPrevio a su primera reunión con el rector, el rector le envía una copia de la base de datos, la cuál a usted y su equipo le encantaría examinar. Para esto, la primera tarea que debe realizar es abrir y cargar el dataset. \n\n\n> **Notar que es sumamente importante el formato que posee cada columna** para su manipulación y que posiblemente ustedes deberán especificar algunos tipos de datos a mano. Ver la documentación del método `read_json` para mayor información.\n\nA continuación se muestra un ejemplo de los dos primeros registros del dataset:\n\n```json\n[\n  {\n    \"names\": \"Rita Courtney\",\n    \"gender\": \"female\",\n    \"race/ethnicity\": \"group B\",\n    \"parental level of education\": \"some high school\",\n    \"lunch\": \"standard\",\n    \"test preparation course\": \"none\",\n    \"math score\": 37,\n    \"reading score\": 46,\n    \"writing score\": 46\n  },\n  {\n    \"names\": \"Madeline Fuller\",\n    \"gender\": \"female\",\n    \"race/ethnicity\": \"group C\",\n    \"parental level of education\": \"some high school\",\n    \"lunch\": \"standard\",\n    \"test preparation course\": \"none\",\n    \"math score\": 124,\n    \"reading score\": 142,\n    \"writing score\": 142\n  }\n]\n```\n\n\n\n",
   "metadata": {
    "tags": [],
    "cell_id": "00014-19b7ef4c-d646-4d3c-bc96-0fcf03730924",
    "deepnote_cell_type": "markdown"
   }
  },
  {
   "cell_type": "code",
   "metadata": {
    "tags": [],
    "cell_id": "00014-cf0912c5-504c-459e-a7cb-0bfae6cff886",
    "deepnote_to_be_reexecuted": false,
    "source_hash": "d1a0df62",
    "execution_start": 1633016524076,
    "execution_millis": 45,
    "deepnote_cell_type": "code"
   },
   "source": "df_grades = pd.read_json(\"/work/students_grades.json\")\n",
   "execution_count": null,
   "outputs": []
  },
  {
   "cell_type": "code",
   "metadata": {
    "tags": [],
    "cell_id": "00016-a77b5c7d-7246-4ea2-8bae-aafca33ff0e1",
    "deepnote_to_be_reexecuted": false,
    "source_hash": "822fc795",
    "execution_start": 1633016524159,
    "execution_millis": 83,
    "deepnote_cell_type": "code"
   },
   "source": "df_grades.describe()",
   "execution_count": null,
   "outputs": [
    {
     "output_type": "execute_result",
     "execution_count": 4,
     "data": {
      "application/vnd.deepnote.dataframe.v2+json": {
       "row_count": 4,
       "column_count": 9,
       "columns": [
        {
         "name": "names",
         "dtype": "object",
         "stats": {
          "unique_count": 4,
          "nan_count": 0,
          "categories": [
           {
            "name": "1400",
            "count": 1
           },
           {
            "name": "1153",
            "count": 1
           },
           {
            "name": "2 others",
            "count": 2
           }
          ]
         }
        },
        {
         "name": "gender",
         "dtype": "object",
         "stats": {
          "unique_count": 4,
          "nan_count": 0,
          "categories": [
           {
            "name": "1400",
            "count": 1
           },
           {
            "name": "2",
            "count": 1
           },
           {
            "name": "2 others",
            "count": 2
           }
          ]
         }
        },
        {
         "name": "race/ethnicity",
         "dtype": "object",
         "stats": {
          "unique_count": 4,
          "nan_count": 0,
          "categories": [
           {
            "name": "1400",
            "count": 1
           },
           {
            "name": "5",
            "count": 1
           },
           {
            "name": "2 others",
            "count": 2
           }
          ]
         }
        },
        {
         "name": "parental level of education",
         "dtype": "object",
         "stats": {
          "unique_count": 4,
          "nan_count": 0,
          "categories": [
           {
            "name": "1400",
            "count": 1
           },
           {
            "name": "6",
            "count": 1
           },
           {
            "name": "2 others",
            "count": 2
           }
          ]
         }
        },
        {
         "name": "lunch",
         "dtype": "object",
         "stats": {
          "unique_count": 4,
          "nan_count": 0,
          "categories": [
           {
            "name": "1400",
            "count": 1
           },
           {
            "name": "2",
            "count": 1
           },
           {
            "name": "2 others",
            "count": 2
           }
          ]
         }
        },
        {
         "name": "test preparation course",
         "dtype": "object",
         "stats": {
          "unique_count": 4,
          "nan_count": 0,
          "categories": [
           {
            "name": "1400",
            "count": 1
           },
           {
            "name": "2",
            "count": 1
           },
           {
            "name": "2 others",
            "count": 2
           }
          ]
         }
        },
        {
         "name": "math score",
         "dtype": "int64",
         "stats": {
          "unique_count": 4,
          "nan_count": 0,
          "min": "97",
          "max": "1400",
          "histogram": [
           {
            "bin_start": 97,
            "bin_end": 227.3,
            "count": 3
           },
           {
            "bin_start": 227.3,
            "bin_end": 357.6,
            "count": 0
           },
           {
            "bin_start": 357.6,
            "bin_end": 487.90000000000003,
            "count": 0
           },
           {
            "bin_start": 487.90000000000003,
            "bin_end": 618.2,
            "count": 0
           },
           {
            "bin_start": 618.2,
            "bin_end": 748.5,
            "count": 0
           },
           {
            "bin_start": 748.5,
            "bin_end": 878.8000000000001,
            "count": 0
           },
           {
            "bin_start": 878.8000000000001,
            "bin_end": 1009.1000000000001,
            "count": 0
           },
           {
            "bin_start": 1009.1000000000001,
            "bin_end": 1139.4,
            "count": 0
           },
           {
            "bin_start": 1139.4,
            "bin_end": 1269.7,
            "count": 0
           },
           {
            "bin_start": 1269.7,
            "bin_end": 1400,
            "count": 1
           }
          ]
         }
        },
        {
         "name": "reading score",
         "dtype": "int64",
         "stats": {
          "unique_count": 4,
          "nan_count": 0,
          "min": "89",
          "max": "1400",
          "histogram": [
           {
            "bin_start": 89,
            "bin_end": 220.1,
            "count": 3
           },
           {
            "bin_start": 220.1,
            "bin_end": 351.2,
            "count": 0
           },
           {
            "bin_start": 351.2,
            "bin_end": 482.29999999999995,
            "count": 0
           },
           {
            "bin_start": 482.29999999999995,
            "bin_end": 613.4,
            "count": 0
           },
           {
            "bin_start": 613.4,
            "bin_end": 744.5,
            "count": 0
           },
           {
            "bin_start": 744.5,
            "bin_end": 875.5999999999999,
            "count": 0
           },
           {
            "bin_start": 875.5999999999999,
            "bin_end": 1006.6999999999999,
            "count": 0
           },
           {
            "bin_start": 1006.6999999999999,
            "bin_end": 1137.8,
            "count": 0
           },
           {
            "bin_start": 1137.8,
            "bin_end": 1268.8999999999999,
            "count": 0
           },
           {
            "bin_start": 1268.8999999999999,
            "bin_end": 1400,
            "count": 1
           }
          ]
         }
        },
        {
         "name": "writing score",
         "dtype": "int64",
         "stats": {
          "unique_count": 4,
          "nan_count": 0,
          "min": "93",
          "max": "1400",
          "histogram": [
           {
            "bin_start": 93,
            "bin_end": 223.7,
            "count": 3
           },
           {
            "bin_start": 223.7,
            "bin_end": 354.4,
            "count": 0
           },
           {
            "bin_start": 354.4,
            "bin_end": 485.09999999999997,
            "count": 0
           },
           {
            "bin_start": 485.09999999999997,
            "bin_end": 615.8,
            "count": 0
           },
           {
            "bin_start": 615.8,
            "bin_end": 746.5,
            "count": 0
           },
           {
            "bin_start": 746.5,
            "bin_end": 877.1999999999999,
            "count": 0
           },
           {
            "bin_start": 877.1999999999999,
            "bin_end": 1007.8999999999999,
            "count": 0
           },
           {
            "bin_start": 1007.8999999999999,
            "bin_end": 1138.6,
            "count": 0
           },
           {
            "bin_start": 1138.6,
            "bin_end": 1269.3,
            "count": 0
           },
           {
            "bin_start": 1269.3,
            "bin_end": 1400,
            "count": 1
           }
          ]
         }
        },
        {
         "name": "_deepnote_index_column",
         "dtype": "object"
        }
       ],
       "rows_top": [
        {
         "names": "1400",
         "gender": "1400",
         "race/ethnicity": "1400",
         "parental level of education": "1400",
         "lunch": "1400",
         "test preparation course": "1400",
         "math score": 1400,
         "reading score": 1400,
         "writing score": 1400,
         "_deepnote_index_column": "count"
        },
        {
         "names": "1153",
         "gender": "2",
         "race/ethnicity": "5",
         "parental level of education": "6",
         "lunch": "2",
         "test preparation course": "2",
         "math score": 97,
         "reading score": 89,
         "writing score": 93,
         "_deepnote_index_column": "unique"
        },
        {
         "names": "Robert Frazier",
         "gender": "female",
         "race/ethnicity": "group C",
         "parental level of education": "some college",
         "lunch": "standard",
         "test preparation course": "none",
         "math score": 193,
         "reading score": 193,
         "writing score": 193,
         "_deepnote_index_column": "top"
        },
        {
         "names": "3",
         "gender": "723",
         "race/ethnicity": "452",
         "parental level of education": "334",
         "lunch": "904",
         "test preparation course": "898",
         "math score": 120,
         "reading score": 117,
         "writing score": 133,
         "_deepnote_index_column": "freq"
        }
       ],
       "rows_bottom": null
      },
      "text/plain": "                 names  gender race/ethnicity parental level of education  \\\ncount             1400    1400           1400                        1400   \nunique            1153       2              5                           6   \ntop     Robert Frazier  female        group C                some college   \nfreq                 3     723            452                         334   \n\n           lunch test preparation course  math score  reading score  \\\ncount       1400                    1400        1400           1400   \nunique         2                       2          97             89   \ntop     standard                    none         193            193   \nfreq         904                     898         120            117   \n\n        writing score  \ncount            1400  \nunique             93  \ntop               193  \nfreq              133  ",
      "text/html": "<div>\n<style scoped>\n    .dataframe tbody tr th:only-of-type {\n        vertical-align: middle;\n    }\n\n    .dataframe tbody tr th {\n        vertical-align: top;\n    }\n\n    .dataframe thead th {\n        text-align: right;\n    }\n</style>\n<table border=\"1\" class=\"dataframe\">\n  <thead>\n    <tr style=\"text-align: right;\">\n      <th></th>\n      <th>names</th>\n      <th>gender</th>\n      <th>race/ethnicity</th>\n      <th>parental level of education</th>\n      <th>lunch</th>\n      <th>test preparation course</th>\n      <th>math score</th>\n      <th>reading score</th>\n      <th>writing score</th>\n    </tr>\n  </thead>\n  <tbody>\n    <tr>\n      <th>count</th>\n      <td>1400</td>\n      <td>1400</td>\n      <td>1400</td>\n      <td>1400</td>\n      <td>1400</td>\n      <td>1400</td>\n      <td>1400</td>\n      <td>1400</td>\n      <td>1400</td>\n    </tr>\n    <tr>\n      <th>unique</th>\n      <td>1153</td>\n      <td>2</td>\n      <td>5</td>\n      <td>6</td>\n      <td>2</td>\n      <td>2</td>\n      <td>97</td>\n      <td>89</td>\n      <td>93</td>\n    </tr>\n    <tr>\n      <th>top</th>\n      <td>Robert Frazier</td>\n      <td>female</td>\n      <td>group C</td>\n      <td>some college</td>\n      <td>standard</td>\n      <td>none</td>\n      <td>193</td>\n      <td>193</td>\n      <td>193</td>\n    </tr>\n    <tr>\n      <th>freq</th>\n      <td>3</td>\n      <td>723</td>\n      <td>452</td>\n      <td>334</td>\n      <td>904</td>\n      <td>898</td>\n      <td>120</td>\n      <td>117</td>\n      <td>133</td>\n    </tr>\n  </tbody>\n</table>\n</div>"
     },
     "metadata": {}
    }
   ]
  },
  {
   "cell_type": "code",
   "metadata": {
    "tags": [],
    "cell_id": "00016-6990b597-ba30-4f21-aa1d-1eccc5d22241",
    "deepnote_to_be_reexecuted": false,
    "source_hash": "61c7ccd1",
    "execution_start": 1633016524261,
    "execution_millis": 1266431,
    "deepnote_cell_type": "code"
   },
   "source": "df_grades.dtypes\n#df_grades.plot.box(column=['math score'])",
   "execution_count": null,
   "outputs": [
    {
     "output_type": "execute_result",
     "execution_count": 5,
     "data": {
      "text/plain": "names                          object\ngender                         object\nrace/ethnicity                 object\nparental level of education    object\nlunch                          object\ntest preparation course        object\nmath score                     object\nreading score                  object\nwriting score                  object\ndtype: object"
     },
     "metadata": {}
    }
   ]
  },
  {
   "cell_type": "code",
   "metadata": {
    "tags": [],
    "cell_id": "00017-7ad85f71-5987-460f-8b74-bc4d528fe372",
    "deepnote_to_be_reexecuted": false,
    "source_hash": "2277437d",
    "execution_start": 1633016524292,
    "execution_millis": 75,
    "deepnote_cell_type": "code"
   },
   "source": "char = ['names', 'gender', 'race/ethnicity', 'parental level of education', 'lunch','test preparation course']\n#df_grades[num] = df_grades[num].apply(pd.to_numeric, errors='coerce')\n\n# df_grades['names'] = df_grades['names'].astype(str)\n# df_grades['gender'] = df_grades['gender'].astype(str)\n# df_grades['race/ethnicity'] = df_grades['race/ethnicity'].astype(str)\n# df_grades['parental level of education'] = df_grades['parental level of education'].astype(str)\n# df_grades['lunch'] = df_grades['lunch'].astype(str)\n# df_grades['test preparation course'] = df_grades['test preparation course'].astype(str)\n\ndf_grades[char] = df_grades[char].astype(str)\n\nnum = ['math score', 'reading score', 'writing score']\ndf_grades[num] = df_grades[num].apply(pd.to_numeric, errors='coerce')\n\ndf_grades.dtypes #por que cresta sigue siendo objeto XD\n\n",
   "execution_count": null,
   "outputs": []
  },
  {
   "cell_type": "markdown",
   "source": "\n<p align=\"center\">\n  <img src=\"https://media2.giphy.com/media/4FQMuOKR6zQRO/giphy.gif?cid=ecf05e47ii9lhu9tc9tb31d6lafrysp2zyf6u8w3y348mk8t&rid=giphy.gif&ct=g\">\n</p>\n\n\nPosteriormente, el rector les comenta que la sección de TI posee una base de datos con más de **875** filas, en donde cada fila representa un alumno matriculado. Sin embargo, cree fuertemente que existen errores en esta: solo tiene registro de **875** matriculas. Por este motivo, especula que se han realizado malas prácticas al registrar dichos datos.\n\nEn consecuencia, el rector les solicita a ustedes como tarea inicial que exploren la base de datos y encuentre posibles falencias dentro de sus registros. Para esto, usted debe estar al tanto que las notas están en una escala que van del **0 al 100** (porcentaje de logro) y **no es posible que un alumno haya dado más de una vez el mismo examen**. Cualquier alumno que posea un valor diferente a esta escala, debería ser eliminado de la base de datos.\n",
   "metadata": {
    "id": "sgVJGeVMMshn",
    "cell_id": "00014-21b2a755-ee5d-4b46-88cc-1d6ec13f2d8e",
    "deepnote_cell_type": "markdown"
   }
  },
  {
   "cell_type": "markdown",
   "source": "> **Instrucciones**\n\n**Cree una función** que tome un `DataFrame` y que le permita revisar si las diferentes variables que lo componen son coherentes y si es posible observar anomalías en estas. \n\n**To-Do**\n1. [ ] Imprimir un mensaje con las dimensiones del Dataframe.\n2. [ ] Imprimir un mensaje con los nombres de las columnas que conforman el DataFrame.\n3. [ ] Mostrar los primeros 5, los últimos 5 elementos del DataFrame y realice un muestreo de 5 elementos de forma aleatoria.\n4. [ ] Mostrar una descripción rápida de las variables numéricas del DataFrame (utilice un método visto en clases).\n5. [ ] Imprimir un mensaje con la cantidad de valores nulos (investigue el método `isna()` y `sum()` de los DataFrames).\n6. [ ] Imprimir un mensaje que detalle la cantidad de valores unicos (investigue `nunique()`) .\n7. [ ] Imprimir un mensaje con el total de filas que contengan nombres duplicados (investigue `duplicated()` y su parámetro `subset`).\n8. [ ] Mostrar las filas que contengan nombres sean duplicados (investigue `duplicated()` y su parámetro `subset`).\n9. [ ] A traves de `.plot.box()` plotear el boxplot de las notas. De ser necesario, invetigue como funcionan los gráficos de caja (esta sección es provista).\n10. [ ] Finalmente responda la siguiente pregunta:\n\n> ¿Que anomalias es posible observar de los datos que componen el DataFrame? ¿Existen valores nulos o duplicados? ¿Qué puede interpretar de la distribución de las notas en el boxplot? (), comente esto en la celda ubicada debajo de **justificación**.\n\n> **Nota:** Para imprmir utilice `print(...)`. Para mostrar `DataFrames`, utilice `display(...)` ya que este permite mostrar estos elementos como tablas.\n\n> **Nota 2:** Utilice la documentación de [pandas](https://pandas.pydata.org/docs/index.html) como también StackOverflow para resolver cualquier problema o inconveniente.\n\n> **Nota 3:** Si no ha trabajado con boxplot antes, el siguiente link puede serle de mucha ayuda: [boxplot](https://medium.com/dayem-siddiqui/understanding-and-interpreting-box-plots-d07aab9d1b6c) ",
   "metadata": {
    "tags": [],
    "cell_id": "00015-e3e66248-1ff0-488e-8455-35ab2d49d172",
    "deepnote_cell_type": "markdown"
   }
  },
  {
   "cell_type": "markdown",
   "source": "**Respuesta:**",
   "metadata": {
    "tags": [],
    "cell_id": "00016-f844817e-2dbb-4ef6-8b07-bfb37043bb52",
    "deepnote_cell_type": "markdown"
   }
  },
  {
   "cell_type": "code",
   "metadata": {
    "tags": [],
    "cell_id": "00017-5f922af5-3edd-4012-8688-1573576c2703",
    "deepnote_to_be_reexecuted": false,
    "source_hash": "e5551ffc",
    "execution_start": 1633016524293,
    "execution_millis": 88,
    "deepnote_cell_type": "code"
   },
   "source": "def exploratory_data_analysis(dataframe):\n    #dimensiones\n    print(\"Las dimensiones del dataset son:\", dataframe.shape )\n    #nombre de las columnas del dataset\n    print(\"Las columnas tienen los siguientes nombres:\", \", \".join(dataframe.columns[i] for i in range(len(dataframe.columns))) )\n    #5 primeros\n    display(dataframe.head(5))\n    #5 ultimos\n    display(dataframe.tail(5))\n    #5 muestras aleatorias\n    display(dataframe.sample(5))\n    #describe\n    display(dataframe.describe())\n    # isna() sum()\n    print(\"La cantidad de valores nulos por columna\")\n    print(dataframe.isna().sum())\n    print(\"Total de valores nulos en todo el dataframe\",dataframe.isna().sum().sum())\n    #unique\n    print(\"La cantidad de filas únicas es:\") \n    print(dataframe.nunique(0))\n    #nombres duplicados\n    print(\"Cantidad de nombres duplicados\", dataframe.duplicated([\"names\"]).sum())\n    #display nombres duplicados\n    display(df_grades.loc[df_grades.duplicated([\"names\"])])\n    #boxplot\n    dataframe.plot.box(['math score','reading score','writing score']) #ta mui feo no lo pude hacer con plotly\n",
   "execution_count": null,
   "outputs": []
  },
  {
   "cell_type": "code",
   "metadata": {
    "tags": [],
    "cell_id": "00022-bbfe0ddb-7b57-4dd2-b698-fe9a0d547675",
    "deepnote_to_be_reexecuted": false,
    "source_hash": "fc6a5c17",
    "execution_start": 1633016524294,
    "execution_millis": 1114,
    "deepnote_cell_type": "code"
   },
   "source": "exploratory_data_analysis(df_grades)",
   "execution_count": null,
   "outputs": [
    {
     "name": "stdout",
     "text": "Las dimensiones del dataset son: (1400, 9)\nLas columnas tienen los siguientes nombres: names, gender, race/ethnicity, parental level of education, lunch, test preparation course, math score, reading score, writing score\n",
     "output_type": "stream"
    },
    {
     "data": {
      "application/vnd.deepnote.dataframe.v2+json": {
       "row_count": 5,
       "column_count": 9,
       "columns": [
        {
         "name": "names",
         "dtype": "object",
         "stats": {
          "unique_count": 5,
          "nan_count": 0,
          "categories": [
           {
            "name": "Rita Courtney",
            "count": 1
           },
           {
            "name": "Madeline Fuller",
            "count": 1
           },
           {
            "name": "3 others",
            "count": 3
           }
          ]
         }
        },
        {
         "name": "gender",
         "dtype": "object",
         "stats": {
          "unique_count": 2,
          "nan_count": 0,
          "categories": [
           {
            "name": "female",
            "count": 3
           },
           {
            "name": "male",
            "count": 2
           }
          ]
         }
        },
        {
         "name": "race/ethnicity",
         "dtype": "object",
         "stats": {
          "unique_count": 4,
          "nan_count": 0,
          "categories": [
           {
            "name": "group A",
            "count": 2
           },
           {
            "name": "group B",
            "count": 1
           },
           {
            "name": "2 others",
            "count": 2
           }
          ]
         }
        },
        {
         "name": "parental level of education",
         "dtype": "object",
         "stats": {
          "unique_count": 3,
          "nan_count": 0,
          "categories": [
           {
            "name": "some high school",
            "count": 2
           },
           {
            "name": "associate's degree",
            "count": 2
           },
           {
            "name": "bachelor's degree",
            "count": 1
           }
          ]
         }
        },
        {
         "name": "lunch",
         "dtype": "object",
         "stats": {
          "unique_count": 1,
          "nan_count": 0,
          "categories": [
           {
            "name": "standard",
            "count": 5
           }
          ]
         }
        },
        {
         "name": "test preparation course",
         "dtype": "object",
         "stats": {
          "unique_count": 2,
          "nan_count": 0,
          "categories": [
           {
            "name": "none",
            "count": 4
           },
           {
            "name": "completed",
            "count": 1
           }
          ]
         }
        },
        {
         "name": "math score",
         "dtype": "float64",
         "stats": {
          "unique_count": 5,
          "nan_count": 0,
          "min": "37.0",
          "max": "156.0",
          "histogram": [
           {
            "bin_start": 37,
            "bin_end": 48.9,
            "count": 1
           },
           {
            "bin_start": 48.9,
            "bin_end": 60.8,
            "count": 0
           },
           {
            "bin_start": 60.8,
            "bin_end": 72.7,
            "count": 0
           },
           {
            "bin_start": 72.7,
            "bin_end": 84.6,
            "count": 1
           },
           {
            "bin_start": 84.6,
            "bin_end": 96.5,
            "count": 0
           },
           {
            "bin_start": 96.5,
            "bin_end": 108.4,
            "count": 0
           },
           {
            "bin_start": 108.4,
            "bin_end": 120.3,
            "count": 0
           },
           {
            "bin_start": 120.3,
            "bin_end": 132.2,
            "count": 2
           },
           {
            "bin_start": 132.2,
            "bin_end": 144.10000000000002,
            "count": 0
           },
           {
            "bin_start": 144.10000000000002,
            "bin_end": 156,
            "count": 1
           }
          ]
         }
        },
        {
         "name": "reading score",
         "dtype": "float64",
         "stats": {
          "unique_count": 5,
          "nan_count": 0,
          "min": "46.0",
          "max": "196.0",
          "histogram": [
           {
            "bin_start": 46,
            "bin_end": 61,
            "count": 1
           },
           {
            "bin_start": 61,
            "bin_end": 76,
            "count": 0
           },
           {
            "bin_start": 76,
            "bin_end": 91,
            "count": 1
           },
           {
            "bin_start": 91,
            "bin_end": 106,
            "count": 0
           },
           {
            "bin_start": 106,
            "bin_end": 121,
            "count": 0
           },
           {
            "bin_start": 121,
            "bin_end": 136,
            "count": 0
           },
           {
            "bin_start": 136,
            "bin_end": 151,
            "count": 1
           },
           {
            "bin_start": 151,
            "bin_end": 166,
            "count": 0
           },
           {
            "bin_start": 166,
            "bin_end": 181,
            "count": 1
           },
           {
            "bin_start": 181,
            "bin_end": 196,
            "count": 1
           }
          ]
         }
        },
        {
         "name": "writing score",
         "dtype": "float64",
         "stats": {
          "unique_count": 5,
          "nan_count": 0,
          "min": "46.0",
          "max": "193.0",
          "histogram": [
           {
            "bin_start": 46,
            "bin_end": 60.7,
            "count": 1
           },
           {
            "bin_start": 60.7,
            "bin_end": 75.4,
            "count": 0
           },
           {
            "bin_start": 75.4,
            "bin_end": 90.1,
            "count": 1
           },
           {
            "bin_start": 90.1,
            "bin_end": 104.8,
            "count": 0
           },
           {
            "bin_start": 104.8,
            "bin_end": 119.5,
            "count": 0
           },
           {
            "bin_start": 119.5,
            "bin_end": 134.2,
            "count": 0
           },
           {
            "bin_start": 134.2,
            "bin_end": 148.89999999999998,
            "count": 1
           },
           {
            "bin_start": 148.89999999999998,
            "bin_end": 163.6,
            "count": 0
           },
           {
            "bin_start": 163.6,
            "bin_end": 178.29999999999998,
            "count": 1
           },
           {
            "bin_start": 178.29999999999998,
            "bin_end": 193,
            "count": 1
           }
          ]
         }
        },
        {
         "name": "_deepnote_index_column",
         "dtype": "int64"
        }
       ],
       "rows_top": [
        {
         "names": "Rita Courtney",
         "gender": "female",
         "race/ethnicity": "group B",
         "parental level of education": "some high school",
         "lunch": "standard",
         "test preparation course": "none",
         "math score": 37,
         "reading score": 46,
         "writing score": 46,
         "_deepnote_index_column": 0
        },
        {
         "names": "Madeline Fuller",
         "gender": "female",
         "race/ethnicity": "group C",
         "parental level of education": "some high school",
         "lunch": "standard",
         "test preparation course": "none",
         "math score": 124,
         "reading score": 142,
         "writing score": 142,
         "_deepnote_index_column": 1
        },
        {
         "names": "Daniel Rester",
         "gender": "male",
         "race/ethnicity": "group E",
         "parental level of education": "associate's degree",
         "lunch": "standard",
         "test preparation course": "none",
         "math score": 156,
         "reading score": 196,
         "writing score": 193,
         "_deepnote_index_column": 2
        },
        {
         "names": "Charles Linstrom",
         "gender": "male",
         "race/ethnicity": "group A",
         "parental level of education": "bachelor's degree",
         "lunch": "standard",
         "test preparation course": "completed",
         "math score": 80,
         "reading score": 78,
         "writing score": 81,
         "_deepnote_index_column": 3
        },
        {
         "names": "Geraldine Hale",
         "gender": "female",
         "race/ethnicity": "group A",
         "parental level of education": "associate's degree",
         "lunch": "standard",
         "test preparation course": "none",
         "math score": 131,
         "reading score": 166,
         "writing score": 166,
         "_deepnote_index_column": 4
        }
       ],
       "rows_bottom": null
      },
      "text/plain": "              names  gender race/ethnicity parental level of education  \\\n0     Rita Courtney  female        group B            some high school   \n1   Madeline Fuller  female        group C            some high school   \n2     Daniel Rester    male        group E          associate's degree   \n3  Charles Linstrom    male        group A           bachelor's degree   \n4    Geraldine Hale  female        group A          associate's degree   \n\n      lunch test preparation course  math score  reading score  writing score  \n0  standard                    none        37.0           46.0           46.0  \n1  standard                    none       124.0          142.0          142.0  \n2  standard                    none       156.0          196.0          193.0  \n3  standard               completed        80.0           78.0           81.0  \n4  standard                    none       131.0          166.0          166.0  ",
      "text/html": "<div>\n<style scoped>\n    .dataframe tbody tr th:only-of-type {\n        vertical-align: middle;\n    }\n\n    .dataframe tbody tr th {\n        vertical-align: top;\n    }\n\n    .dataframe thead th {\n        text-align: right;\n    }\n</style>\n<table border=\"1\" class=\"dataframe\">\n  <thead>\n    <tr style=\"text-align: right;\">\n      <th></th>\n      <th>names</th>\n      <th>gender</th>\n      <th>race/ethnicity</th>\n      <th>parental level of education</th>\n      <th>lunch</th>\n      <th>test preparation course</th>\n      <th>math score</th>\n      <th>reading score</th>\n      <th>writing score</th>\n    </tr>\n  </thead>\n  <tbody>\n    <tr>\n      <th>0</th>\n      <td>Rita Courtney</td>\n      <td>female</td>\n      <td>group B</td>\n      <td>some high school</td>\n      <td>standard</td>\n      <td>none</td>\n      <td>37.0</td>\n      <td>46.0</td>\n      <td>46.0</td>\n    </tr>\n    <tr>\n      <th>1</th>\n      <td>Madeline Fuller</td>\n      <td>female</td>\n      <td>group C</td>\n      <td>some high school</td>\n      <td>standard</td>\n      <td>none</td>\n      <td>124.0</td>\n      <td>142.0</td>\n      <td>142.0</td>\n    </tr>\n    <tr>\n      <th>2</th>\n      <td>Daniel Rester</td>\n      <td>male</td>\n      <td>group E</td>\n      <td>associate's degree</td>\n      <td>standard</td>\n      <td>none</td>\n      <td>156.0</td>\n      <td>196.0</td>\n      <td>193.0</td>\n    </tr>\n    <tr>\n      <th>3</th>\n      <td>Charles Linstrom</td>\n      <td>male</td>\n      <td>group A</td>\n      <td>bachelor's degree</td>\n      <td>standard</td>\n      <td>completed</td>\n      <td>80.0</td>\n      <td>78.0</td>\n      <td>81.0</td>\n    </tr>\n    <tr>\n      <th>4</th>\n      <td>Geraldine Hale</td>\n      <td>female</td>\n      <td>group A</td>\n      <td>associate's degree</td>\n      <td>standard</td>\n      <td>none</td>\n      <td>131.0</td>\n      <td>166.0</td>\n      <td>166.0</td>\n    </tr>\n  </tbody>\n</table>\n</div>"
     },
     "metadata": {},
     "output_type": "display_data"
    },
    {
     "data": {
      "application/vnd.deepnote.dataframe.v2+json": {
       "row_count": 5,
       "column_count": 9,
       "columns": [
        {
         "name": "names",
         "dtype": "object",
         "stats": {
          "unique_count": 5,
          "nan_count": 0,
          "categories": [
           {
            "name": "Alexander Dillon",
            "count": 1
           },
           {
            "name": "Marina Zeigler",
            "count": 1
           },
           {
            "name": "3 others",
            "count": 3
           }
          ]
         }
        },
        {
         "name": "gender",
         "dtype": "object",
         "stats": {
          "unique_count": 2,
          "nan_count": 0,
          "categories": [
           {
            "name": "female",
            "count": 3
           },
           {
            "name": "male",
            "count": 2
           }
          ]
         }
        },
        {
         "name": "race/ethnicity",
         "dtype": "object",
         "stats": {
          "unique_count": 4,
          "nan_count": 0,
          "categories": [
           {
            "name": "group D",
            "count": 2
           },
           {
            "name": "group C",
            "count": 1
           },
           {
            "name": "2 others",
            "count": 2
           }
          ]
         }
        },
        {
         "name": "parental level of education",
         "dtype": "object",
         "stats": {
          "unique_count": 5,
          "nan_count": 0,
          "categories": [
           {
            "name": "associate's degree",
            "count": 1
           },
           {
            "name": "bachelor's degree",
            "count": 1
           },
           {
            "name": "3 others",
            "count": 3
           }
          ]
         }
        },
        {
         "name": "lunch",
         "dtype": "object",
         "stats": {
          "unique_count": 2,
          "nan_count": 0,
          "categories": [
           {
            "name": "standard",
            "count": 3
           },
           {
            "name": "free/reduced",
            "count": 2
           }
          ]
         }
        },
        {
         "name": "test preparation course",
         "dtype": "object",
         "stats": {
          "unique_count": 2,
          "nan_count": 0,
          "categories": [
           {
            "name": "completed",
            "count": 3
           },
           {
            "name": "none",
            "count": 2
           }
          ]
         }
        },
        {
         "name": "math score",
         "dtype": "float64",
         "stats": {
          "unique_count": 4,
          "nan_count": 0,
          "min": "54.0",
          "max": "193.0",
          "histogram": [
           {
            "bin_start": 54,
            "bin_end": 67.9,
            "count": 2
           },
           {
            "bin_start": 67.9,
            "bin_end": 81.8,
            "count": 1
           },
           {
            "bin_start": 81.8,
            "bin_end": 95.7,
            "count": 0
           },
           {
            "bin_start": 95.7,
            "bin_end": 109.6,
            "count": 0
           },
           {
            "bin_start": 109.6,
            "bin_end": 123.5,
            "count": 0
           },
           {
            "bin_start": 123.5,
            "bin_end": 137.4,
            "count": 0
           },
           {
            "bin_start": 137.4,
            "bin_end": 151.3,
            "count": 0
           },
           {
            "bin_start": 151.3,
            "bin_end": 165.2,
            "count": 0
           },
           {
            "bin_start": 165.2,
            "bin_end": 179.10000000000002,
            "count": 0
           },
           {
            "bin_start": 179.10000000000002,
            "bin_end": 193,
            "count": 2
           }
          ]
         }
        },
        {
         "name": "reading score",
         "dtype": "float64",
         "stats": {
          "unique_count": 5,
          "nan_count": 0,
          "min": "61.0",
          "max": "196.0",
          "histogram": [
           {
            "bin_start": 61,
            "bin_end": 74.5,
            "count": 2
           },
           {
            "bin_start": 74.5,
            "bin_end": 88,
            "count": 1
           },
           {
            "bin_start": 88,
            "bin_end": 101.5,
            "count": 0
           },
           {
            "bin_start": 101.5,
            "bin_end": 115,
            "count": 0
           },
           {
            "bin_start": 115,
            "bin_end": 128.5,
            "count": 0
           },
           {
            "bin_start": 128.5,
            "bin_end": 142,
            "count": 0
           },
           {
            "bin_start": 142,
            "bin_end": 155.5,
            "count": 1
           },
           {
            "bin_start": 155.5,
            "bin_end": 169,
            "count": 0
           },
           {
            "bin_start": 169,
            "bin_end": 182.5,
            "count": 0
           },
           {
            "bin_start": 182.5,
            "bin_end": 196,
            "count": 1
           }
          ]
         }
        },
        {
         "name": "writing score",
         "dtype": "float64",
         "stats": {
          "unique_count": 4,
          "nan_count": 0,
          "min": "62.0",
          "max": "193.0",
          "histogram": [
           {
            "bin_start": 62,
            "bin_end": 75.1,
            "count": 1
           },
           {
            "bin_start": 75.1,
            "bin_end": 88.2,
            "count": 2
           },
           {
            "bin_start": 88.2,
            "bin_end": 101.3,
            "count": 0
           },
           {
            "bin_start": 101.3,
            "bin_end": 114.4,
            "count": 0
           },
           {
            "bin_start": 114.4,
            "bin_end": 127.5,
            "count": 0
           },
           {
            "bin_start": 127.5,
            "bin_end": 140.6,
            "count": 0
           },
           {
            "bin_start": 140.6,
            "bin_end": 153.7,
            "count": 0
           },
           {
            "bin_start": 153.7,
            "bin_end": 166.8,
            "count": 0
           },
           {
            "bin_start": 166.8,
            "bin_end": 179.89999999999998,
            "count": 0
           },
           {
            "bin_start": 179.89999999999998,
            "bin_end": 193,
            "count": 2
           }
          ]
         }
        },
        {
         "name": "_deepnote_index_column",
         "dtype": "int64"
        }
       ],
       "rows_top": [
        {
         "names": "Alexander Dillon",
         "gender": "male",
         "race/ethnicity": "group D",
         "parental level of education": "associate's degree",
         "lunch": "standard",
         "test preparation course": "none",
         "math score": 193,
         "reading score": 142,
         "writing score": 193,
         "_deepnote_index_column": 1395
        },
        {
         "names": "Marina Zeigler",
         "gender": "female",
         "race/ethnicity": "group C",
         "parental level of education": "bachelor's degree",
         "lunch": "free/reduced",
         "test preparation course": "completed",
         "math score": 66,
         "reading score": 74,
         "writing score": 81,
         "_deepnote_index_column": 1396
        },
        {
         "names": "Laurie Carter",
         "gender": "female",
         "race/ethnicity": "group B",
         "parental level of education": "some high school",
         "lunch": "standard",
         "test preparation course": "completed",
         "math score": 54,
         "reading score": 61,
         "writing score": 62,
         "_deepnote_index_column": 1397
        },
        {
         "names": "Joseph Mccoy",
         "gender": "male",
         "race/ethnicity": "group D",
         "parental level of education": "some college",
         "lunch": "free/reduced",
         "test preparation course": "none",
         "math score": 193,
         "reading score": 196,
         "writing score": 193,
         "_deepnote_index_column": 1398
        },
        {
         "names": "Amanda Perez",
         "gender": "female",
         "race/ethnicity": "group A",
         "parental level of education": "high school",
         "lunch": "standard",
         "test preparation course": "completed",
         "math score": 68,
         "reading score": 80,
         "writing score": 76,
         "_deepnote_index_column": 1399
        }
       ],
       "rows_bottom": null
      },
      "text/plain": "                 names  gender race/ethnicity parental level of education  \\\n1395  Alexander Dillon    male        group D          associate's degree   \n1396    Marina Zeigler  female        group C           bachelor's degree   \n1397     Laurie Carter  female        group B            some high school   \n1398      Joseph Mccoy    male        group D                some college   \n1399      Amanda Perez  female        group A                 high school   \n\n             lunch test preparation course  math score  reading score  \\\n1395      standard                    none       193.0          142.0   \n1396  free/reduced               completed        66.0           74.0   \n1397      standard               completed        54.0           61.0   \n1398  free/reduced                    none       193.0          196.0   \n1399      standard               completed        68.0           80.0   \n\n      writing score  \n1395          193.0  \n1396           81.0  \n1397           62.0  \n1398          193.0  \n1399           76.0  ",
      "text/html": "<div>\n<style scoped>\n    .dataframe tbody tr th:only-of-type {\n        vertical-align: middle;\n    }\n\n    .dataframe tbody tr th {\n        vertical-align: top;\n    }\n\n    .dataframe thead th {\n        text-align: right;\n    }\n</style>\n<table border=\"1\" class=\"dataframe\">\n  <thead>\n    <tr style=\"text-align: right;\">\n      <th></th>\n      <th>names</th>\n      <th>gender</th>\n      <th>race/ethnicity</th>\n      <th>parental level of education</th>\n      <th>lunch</th>\n      <th>test preparation course</th>\n      <th>math score</th>\n      <th>reading score</th>\n      <th>writing score</th>\n    </tr>\n  </thead>\n  <tbody>\n    <tr>\n      <th>1395</th>\n      <td>Alexander Dillon</td>\n      <td>male</td>\n      <td>group D</td>\n      <td>associate's degree</td>\n      <td>standard</td>\n      <td>none</td>\n      <td>193.0</td>\n      <td>142.0</td>\n      <td>193.0</td>\n    </tr>\n    <tr>\n      <th>1396</th>\n      <td>Marina Zeigler</td>\n      <td>female</td>\n      <td>group C</td>\n      <td>bachelor's degree</td>\n      <td>free/reduced</td>\n      <td>completed</td>\n      <td>66.0</td>\n      <td>74.0</td>\n      <td>81.0</td>\n    </tr>\n    <tr>\n      <th>1397</th>\n      <td>Laurie Carter</td>\n      <td>female</td>\n      <td>group B</td>\n      <td>some high school</td>\n      <td>standard</td>\n      <td>completed</td>\n      <td>54.0</td>\n      <td>61.0</td>\n      <td>62.0</td>\n    </tr>\n    <tr>\n      <th>1398</th>\n      <td>Joseph Mccoy</td>\n      <td>male</td>\n      <td>group D</td>\n      <td>some college</td>\n      <td>free/reduced</td>\n      <td>none</td>\n      <td>193.0</td>\n      <td>196.0</td>\n      <td>193.0</td>\n    </tr>\n    <tr>\n      <th>1399</th>\n      <td>Amanda Perez</td>\n      <td>female</td>\n      <td>group A</td>\n      <td>high school</td>\n      <td>standard</td>\n      <td>completed</td>\n      <td>68.0</td>\n      <td>80.0</td>\n      <td>76.0</td>\n    </tr>\n  </tbody>\n</table>\n</div>"
     },
     "metadata": {},
     "output_type": "display_data"
    },
    {
     "data": {
      "application/vnd.deepnote.dataframe.v2+json": {
       "row_count": 5,
       "column_count": 9,
       "columns": [
        {
         "name": "names",
         "dtype": "object",
         "stats": {
          "unique_count": 5,
          "nan_count": 0,
          "categories": [
           {
            "name": "Timothy Smith",
            "count": 1
           },
           {
            "name": "Anna Lauterbach",
            "count": 1
           },
           {
            "name": "3 others",
            "count": 3
           }
          ]
         }
        },
        {
         "name": "gender",
         "dtype": "object",
         "stats": {
          "unique_count": 2,
          "nan_count": 0,
          "categories": [
           {
            "name": "female",
            "count": 3
           },
           {
            "name": "male",
            "count": 2
           }
          ]
         }
        },
        {
         "name": "race/ethnicity",
         "dtype": "object",
         "stats": {
          "unique_count": 2,
          "nan_count": 0,
          "categories": [
           {
            "name": "group C",
            "count": 4
           },
           {
            "name": "group A",
            "count": 1
           }
          ]
         }
        },
        {
         "name": "parental level of education",
         "dtype": "object",
         "stats": {
          "unique_count": 4,
          "nan_count": 0,
          "categories": [
           {
            "name": "some high school",
            "count": 2
           },
           {
            "name": "associate's degree",
            "count": 1
           },
           {
            "name": "2 others",
            "count": 2
           }
          ]
         }
        },
        {
         "name": "lunch",
         "dtype": "object",
         "stats": {
          "unique_count": 2,
          "nan_count": 0,
          "categories": [
           {
            "name": "standard",
            "count": 3
           },
           {
            "name": "free/reduced",
            "count": 2
           }
          ]
         }
        },
        {
         "name": "test preparation course",
         "dtype": "object",
         "stats": {
          "unique_count": 2,
          "nan_count": 0,
          "categories": [
           {
            "name": "none",
            "count": 4
           },
           {
            "name": "completed",
            "count": 1
           }
          ]
         }
        },
        {
         "name": "math score",
         "dtype": "float64",
         "stats": {
          "unique_count": 4,
          "nan_count": 1,
          "min": "34.0",
          "max": "193.0",
          "histogram": [
           {
            "bin_start": 34,
            "bin_end": 49.9,
            "count": 2
           },
           {
            "bin_start": 49.9,
            "bin_end": 65.8,
            "count": 0
           },
           {
            "bin_start": 65.8,
            "bin_end": 81.7,
            "count": 1
           },
           {
            "bin_start": 81.7,
            "bin_end": 97.6,
            "count": 0
           },
           {
            "bin_start": 97.6,
            "bin_end": 113.5,
            "count": 0
           },
           {
            "bin_start": 113.5,
            "bin_end": 129.4,
            "count": 0
           },
           {
            "bin_start": 129.4,
            "bin_end": 145.3,
            "count": 0
           },
           {
            "bin_start": 145.3,
            "bin_end": 161.2,
            "count": 0
           },
           {
            "bin_start": 161.2,
            "bin_end": 177.1,
            "count": 0
           },
           {
            "bin_start": 177.1,
            "bin_end": 193,
            "count": 1
           }
          ]
         }
        },
        {
         "name": "reading score",
         "dtype": "float64",
         "stats": {
          "unique_count": 4,
          "nan_count": 0,
          "min": "42.0",
          "max": "193.0",
          "histogram": [
           {
            "bin_start": 42,
            "bin_end": 57.1,
            "count": 2
           },
           {
            "bin_start": 57.1,
            "bin_end": 72.2,
            "count": 0
           },
           {
            "bin_start": 72.2,
            "bin_end": 87.3,
            "count": 1
           },
           {
            "bin_start": 87.3,
            "bin_end": 102.4,
            "count": 0
           },
           {
            "bin_start": 102.4,
            "bin_end": 117.5,
            "count": 0
           },
           {
            "bin_start": 117.5,
            "bin_end": 132.6,
            "count": 0
           },
           {
            "bin_start": 132.6,
            "bin_end": 147.7,
            "count": 0
           },
           {
            "bin_start": 147.7,
            "bin_end": 162.8,
            "count": 0
           },
           {
            "bin_start": 162.8,
            "bin_end": 177.9,
            "count": 0
           },
           {
            "bin_start": 177.9,
            "bin_end": 193,
            "count": 2
           }
          ]
         }
        },
        {
         "name": "writing score",
         "dtype": "float64",
         "stats": {
          "unique_count": 4,
          "nan_count": 1,
          "min": "53.0",
          "max": "151.0",
          "histogram": [
           {
            "bin_start": 53,
            "bin_end": 62.8,
            "count": 1
           },
           {
            "bin_start": 62.8,
            "bin_end": 72.6,
            "count": 1
           },
           {
            "bin_start": 72.6,
            "bin_end": 82.4,
            "count": 1
           },
           {
            "bin_start": 82.4,
            "bin_end": 92.2,
            "count": 0
           },
           {
            "bin_start": 92.2,
            "bin_end": 102,
            "count": 0
           },
           {
            "bin_start": 102,
            "bin_end": 111.80000000000001,
            "count": 0
           },
           {
            "bin_start": 111.80000000000001,
            "bin_end": 121.60000000000001,
            "count": 0
           },
           {
            "bin_start": 121.60000000000001,
            "bin_end": 131.4,
            "count": 0
           },
           {
            "bin_start": 131.4,
            "bin_end": 141.2,
            "count": 0
           },
           {
            "bin_start": 141.2,
            "bin_end": 151,
            "count": 1
           }
          ]
         }
        },
        {
         "name": "_deepnote_index_column",
         "dtype": "int64"
        }
       ],
       "rows_top": [
        {
         "names": "Timothy Smith",
         "gender": "male",
         "race/ethnicity": "group A",
         "parental level of education": "some high school",
         "lunch": "standard",
         "test preparation course": "completed",
         "math score": "nan",
         "reading score": 193,
         "writing score": 64,
         "_deepnote_index_column": 480
        },
        {
         "names": "Anna Lauterbach",
         "gender": "female",
         "race/ethnicity": "group C",
         "parental level of education": "associate's degree",
         "lunch": "standard",
         "test preparation course": "none",
         "math score": 66,
         "reading score": 77,
         "writing score": 73,
         "_deepnote_index_column": 305
        },
        {
         "names": "Dana Kramer",
         "gender": "female",
         "race/ethnicity": "group C",
         "parental level of education": "high school",
         "lunch": "free/reduced",
         "test preparation course": "none",
         "math score": 34,
         "reading score": 42,
         "writing score": 151,
         "_deepnote_index_column": 151
        },
        {
         "names": "Charles Suggs",
         "gender": "male",
         "race/ethnicity": "group C",
         "parental level of education": "some college",
         "lunch": "free/reduced",
         "test preparation course": "none",
         "math score": 193,
         "reading score": 193,
         "writing score": "nan",
         "_deepnote_index_column": 1190
        },
        {
         "names": "Susan Cuevas",
         "gender": "female",
         "race/ethnicity": "group C",
         "parental level of education": "some high school",
         "lunch": "standard",
         "test preparation course": "none",
         "math score": 47,
         "reading score": 54,
         "writing score": 53,
         "_deepnote_index_column": 789
        }
       ],
       "rows_bottom": null
      },
      "text/plain": "                names  gender race/ethnicity parental level of education  \\\n480     Timothy Smith    male        group A            some high school   \n305   Anna Lauterbach  female        group C          associate's degree   \n151       Dana Kramer  female        group C                 high school   \n1190    Charles Suggs    male        group C                some college   \n789      Susan Cuevas  female        group C            some high school   \n\n             lunch test preparation course  math score  reading score  \\\n480       standard               completed         NaN          193.0   \n305       standard                    none        66.0           77.0   \n151   free/reduced                    none        34.0           42.0   \n1190  free/reduced                    none       193.0          193.0   \n789       standard                    none        47.0           54.0   \n\n      writing score  \n480            64.0  \n305            73.0  \n151           151.0  \n1190            NaN  \n789            53.0  ",
      "text/html": "<div>\n<style scoped>\n    .dataframe tbody tr th:only-of-type {\n        vertical-align: middle;\n    }\n\n    .dataframe tbody tr th {\n        vertical-align: top;\n    }\n\n    .dataframe thead th {\n        text-align: right;\n    }\n</style>\n<table border=\"1\" class=\"dataframe\">\n  <thead>\n    <tr style=\"text-align: right;\">\n      <th></th>\n      <th>names</th>\n      <th>gender</th>\n      <th>race/ethnicity</th>\n      <th>parental level of education</th>\n      <th>lunch</th>\n      <th>test preparation course</th>\n      <th>math score</th>\n      <th>reading score</th>\n      <th>writing score</th>\n    </tr>\n  </thead>\n  <tbody>\n    <tr>\n      <th>480</th>\n      <td>Timothy Smith</td>\n      <td>male</td>\n      <td>group A</td>\n      <td>some high school</td>\n      <td>standard</td>\n      <td>completed</td>\n      <td>NaN</td>\n      <td>193.0</td>\n      <td>64.0</td>\n    </tr>\n    <tr>\n      <th>305</th>\n      <td>Anna Lauterbach</td>\n      <td>female</td>\n      <td>group C</td>\n      <td>associate's degree</td>\n      <td>standard</td>\n      <td>none</td>\n      <td>66.0</td>\n      <td>77.0</td>\n      <td>73.0</td>\n    </tr>\n    <tr>\n      <th>151</th>\n      <td>Dana Kramer</td>\n      <td>female</td>\n      <td>group C</td>\n      <td>high school</td>\n      <td>free/reduced</td>\n      <td>none</td>\n      <td>34.0</td>\n      <td>42.0</td>\n      <td>151.0</td>\n    </tr>\n    <tr>\n      <th>1190</th>\n      <td>Charles Suggs</td>\n      <td>male</td>\n      <td>group C</td>\n      <td>some college</td>\n      <td>free/reduced</td>\n      <td>none</td>\n      <td>193.0</td>\n      <td>193.0</td>\n      <td>NaN</td>\n    </tr>\n    <tr>\n      <th>789</th>\n      <td>Susan Cuevas</td>\n      <td>female</td>\n      <td>group C</td>\n      <td>some high school</td>\n      <td>standard</td>\n      <td>none</td>\n      <td>47.0</td>\n      <td>54.0</td>\n      <td>53.0</td>\n    </tr>\n  </tbody>\n</table>\n</div>"
     },
     "metadata": {},
     "output_type": "display_data"
    },
    {
     "data": {
      "application/vnd.deepnote.dataframe.v2+json": {
       "row_count": 8,
       "column_count": 3,
       "columns": [
        {
         "name": "math score",
         "dtype": "float64",
         "stats": {
          "unique_count": 8,
          "nan_count": 0,
          "min": "0.0",
          "max": "1360.0",
          "histogram": [
           {
            "bin_start": 0,
            "bin_end": 136,
            "count": 6
           },
           {
            "bin_start": 136,
            "bin_end": 272,
            "count": 1
           },
           {
            "bin_start": 272,
            "bin_end": 408,
            "count": 0
           },
           {
            "bin_start": 408,
            "bin_end": 544,
            "count": 0
           },
           {
            "bin_start": 544,
            "bin_end": 680,
            "count": 0
           },
           {
            "bin_start": 680,
            "bin_end": 816,
            "count": 0
           },
           {
            "bin_start": 816,
            "bin_end": 952,
            "count": 0
           },
           {
            "bin_start": 952,
            "bin_end": 1088,
            "count": 0
           },
           {
            "bin_start": 1088,
            "bin_end": 1224,
            "count": 0
           },
           {
            "bin_start": 1224,
            "bin_end": 1360,
            "count": 1
           }
          ]
         }
        },
        {
         "name": "reading score",
         "dtype": "float64",
         "stats": {
          "unique_count": 8,
          "nan_count": 0,
          "min": "17.0",
          "max": "1360.0",
          "histogram": [
           {
            "bin_start": 17,
            "bin_end": 151.3,
            "count": 6
           },
           {
            "bin_start": 151.3,
            "bin_end": 285.6,
            "count": 1
           },
           {
            "bin_start": 285.6,
            "bin_end": 419.90000000000003,
            "count": 0
           },
           {
            "bin_start": 419.90000000000003,
            "bin_end": 554.2,
            "count": 0
           },
           {
            "bin_start": 554.2,
            "bin_end": 688.5,
            "count": 0
           },
           {
            "bin_start": 688.5,
            "bin_end": 822.8000000000001,
            "count": 0
           },
           {
            "bin_start": 822.8000000000001,
            "bin_end": 957.1000000000001,
            "count": 0
           },
           {
            "bin_start": 957.1000000000001,
            "bin_end": 1091.4,
            "count": 0
           },
           {
            "bin_start": 1091.4,
            "bin_end": 1225.7,
            "count": 0
           },
           {
            "bin_start": 1225.7,
            "bin_end": 1360,
            "count": 1
           }
          ]
         }
        },
        {
         "name": "writing score",
         "dtype": "float64",
         "stats": {
          "unique_count": 8,
          "nan_count": 0,
          "min": "10.0",
          "max": "1353.0",
          "histogram": [
           {
            "bin_start": 10,
            "bin_end": 144.3,
            "count": 6
           },
           {
            "bin_start": 144.3,
            "bin_end": 278.6,
            "count": 1
           },
           {
            "bin_start": 278.6,
            "bin_end": 412.90000000000003,
            "count": 0
           },
           {
            "bin_start": 412.90000000000003,
            "bin_end": 547.2,
            "count": 0
           },
           {
            "bin_start": 547.2,
            "bin_end": 681.5,
            "count": 0
           },
           {
            "bin_start": 681.5,
            "bin_end": 815.8000000000001,
            "count": 0
           },
           {
            "bin_start": 815.8000000000001,
            "bin_end": 950.1000000000001,
            "count": 0
           },
           {
            "bin_start": 950.1000000000001,
            "bin_end": 1084.4,
            "count": 0
           },
           {
            "bin_start": 1084.4,
            "bin_end": 1218.7,
            "count": 0
           },
           {
            "bin_start": 1218.7,
            "bin_end": 1353,
            "count": 1
           }
          ]
         }
        },
        {
         "name": "_deepnote_index_column",
         "dtype": "object"
        }
       ],
       "rows_top": [
        {
         "math score": 1360,
         "reading score": 1360,
         "writing score": 1353,
         "_deepnote_index_column": "count"
        },
        {
         "math score": 89.53897058823529,
         "reading score": 93.08602941176471,
         "writing score": 91.8529194382853,
         "_deepnote_index_column": "mean"
        },
        {
         "math score": 47.15242247460426,
         "reading score": 46.38577506570869,
         "writing score": 47.04356953025664,
         "_deepnote_index_column": "std"
        },
        {
         "math score": 0,
         "reading score": 17,
         "writing score": 10,
         "_deepnote_index_column": "min"
        },
        {
         "math score": 59,
         "reading score": 63,
         "writing score": 62,
         "_deepnote_index_column": "25%"
        },
        {
         "math score": 72,
         "reading score": 76,
         "writing score": 75,
         "_deepnote_index_column": "50%"
        },
        {
         "math score": 97.25,
         "reading score": 100,
         "writing score": 100,
         "_deepnote_index_column": "75%"
        },
        {
         "math score": 196,
         "reading score": 196,
         "writing score": 196,
         "_deepnote_index_column": "max"
        }
       ],
       "rows_bottom": null
      },
      "text/plain": "        math score  reading score  writing score\ncount  1360.000000    1360.000000    1353.000000\nmean     89.538971      93.086029      91.852919\nstd      47.152422      46.385775      47.043570\nmin       0.000000      17.000000      10.000000\n25%      59.000000      63.000000      62.000000\n50%      72.000000      76.000000      75.000000\n75%      97.250000     100.000000     100.000000\nmax     196.000000     196.000000     196.000000",
      "text/html": "<div>\n<style scoped>\n    .dataframe tbody tr th:only-of-type {\n        vertical-align: middle;\n    }\n\n    .dataframe tbody tr th {\n        vertical-align: top;\n    }\n\n    .dataframe thead th {\n        text-align: right;\n    }\n</style>\n<table border=\"1\" class=\"dataframe\">\n  <thead>\n    <tr style=\"text-align: right;\">\n      <th></th>\n      <th>math score</th>\n      <th>reading score</th>\n      <th>writing score</th>\n    </tr>\n  </thead>\n  <tbody>\n    <tr>\n      <th>count</th>\n      <td>1360.000000</td>\n      <td>1360.000000</td>\n      <td>1353.000000</td>\n    </tr>\n    <tr>\n      <th>mean</th>\n      <td>89.538971</td>\n      <td>93.086029</td>\n      <td>91.852919</td>\n    </tr>\n    <tr>\n      <th>std</th>\n      <td>47.152422</td>\n      <td>46.385775</td>\n      <td>47.043570</td>\n    </tr>\n    <tr>\n      <th>min</th>\n      <td>0.000000</td>\n      <td>17.000000</td>\n      <td>10.000000</td>\n    </tr>\n    <tr>\n      <th>25%</th>\n      <td>59.000000</td>\n      <td>63.000000</td>\n      <td>62.000000</td>\n    </tr>\n    <tr>\n      <th>50%</th>\n      <td>72.000000</td>\n      <td>76.000000</td>\n      <td>75.000000</td>\n    </tr>\n    <tr>\n      <th>75%</th>\n      <td>97.250000</td>\n      <td>100.000000</td>\n      <td>100.000000</td>\n    </tr>\n    <tr>\n      <th>max</th>\n      <td>196.000000</td>\n      <td>196.000000</td>\n      <td>196.000000</td>\n    </tr>\n  </tbody>\n</table>\n</div>"
     },
     "metadata": {},
     "output_type": "display_data"
    },
    {
     "name": "stdout",
     "text": "La cantidad de valores nulos por columna\nnames                           0\ngender                          0\nrace/ethnicity                  0\nparental level of education     0\nlunch                           0\ntest preparation course         0\nmath score                     40\nreading score                  40\nwriting score                  47\ndtype: int64\nTotal de valores nulos en todo el dataframe 127\nLa cantidad de filas únicas es:\nnames                          1153\ngender                            2\nrace/ethnicity                    5\nparental level of education       6\nlunch                             2\ntest preparation course           2\nmath score                       96\nreading score                    88\nwriting score                    92\ndtype: int64\nCantidad de nombres duplicados 247\n",
     "output_type": "stream"
    },
    {
     "data": {
      "application/vnd.deepnote.dataframe.v2+json": {
       "row_count": 247,
       "column_count": 9,
       "columns": [
        {
         "name": "names",
         "dtype": "object",
         "stats": {
          "unique_count": 246,
          "nan_count": 0,
          "categories": [
           {
            "name": "Robert Frazier",
            "count": 2
           },
           {
            "name": "Rita Courtney",
            "count": 1
           },
           {
            "name": "244 others",
            "count": 244
           }
          ]
         }
        },
        {
         "name": "gender",
         "dtype": "object",
         "stats": {
          "unique_count": 2,
          "nan_count": 0,
          "categories": [
           {
            "name": "female",
            "count": 129
           },
           {
            "name": "male",
            "count": 118
           }
          ]
         }
        },
        {
         "name": "race/ethnicity",
         "dtype": "object",
         "stats": {
          "unique_count": 5,
          "nan_count": 0,
          "categories": [
           {
            "name": "group C",
            "count": 85
           },
           {
            "name": "group D",
            "count": 65
           },
           {
            "name": "3 others",
            "count": 97
           }
          ]
         }
        },
        {
         "name": "parental level of education",
         "dtype": "object",
         "stats": {
          "unique_count": 6,
          "nan_count": 0,
          "categories": [
           {
            "name": "some college",
            "count": 66
           },
           {
            "name": "associate's degree",
            "count": 50
           },
           {
            "name": "4 others",
            "count": 131
           }
          ]
         }
        },
        {
         "name": "lunch",
         "dtype": "object",
         "stats": {
          "unique_count": 2,
          "nan_count": 0,
          "categories": [
           {
            "name": "standard",
            "count": 155
           },
           {
            "name": "free/reduced",
            "count": 92
           }
          ]
         }
        },
        {
         "name": "test preparation course",
         "dtype": "object",
         "stats": {
          "unique_count": 2,
          "nan_count": 0,
          "categories": [
           {
            "name": "none",
            "count": 167
           },
           {
            "name": "completed",
            "count": 80
           }
          ]
         }
        },
        {
         "name": "math score",
         "dtype": "float64",
         "stats": {
          "unique_count": 72,
          "nan_count": 14,
          "min": "29.0",
          "max": "196.0",
          "histogram": [
           {
            "bin_start": 29,
            "bin_end": 45.7,
            "count": 20
           },
           {
            "bin_start": 45.7,
            "bin_end": 62.4,
            "count": 54
           },
           {
            "bin_start": 62.4,
            "bin_end": 79.1,
            "count": 39
           },
           {
            "bin_start": 79.1,
            "bin_end": 95.8,
            "count": 25
           },
           {
            "bin_start": 95.8,
            "bin_end": 112.5,
            "count": 2
           },
           {
            "bin_start": 112.5,
            "bin_end": 129.2,
            "count": 16
           },
           {
            "bin_start": 129.2,
            "bin_end": 145.89999999999998,
            "count": 20
           },
           {
            "bin_start": 145.89999999999998,
            "bin_end": 162.6,
            "count": 4
           },
           {
            "bin_start": 162.6,
            "bin_end": 179.29999999999998,
            "count": 3
           },
           {
            "bin_start": 179.29999999999998,
            "bin_end": 196,
            "count": 50
           }
          ]
         }
        },
        {
         "name": "reading score",
         "dtype": "float64",
         "stats": {
          "unique_count": 64,
          "nan_count": 14,
          "min": "26.0",
          "max": "196.0",
          "histogram": [
           {
            "bin_start": 26,
            "bin_end": 43,
            "count": 9
           },
           {
            "bin_start": 43,
            "bin_end": 60,
            "count": 30
           },
           {
            "bin_start": 60,
            "bin_end": 77,
            "count": 51
           },
           {
            "bin_start": 77,
            "bin_end": 94,
            "count": 39
           },
           {
            "bin_start": 94,
            "bin_end": 111,
            "count": 4
           },
           {
            "bin_start": 111,
            "bin_end": 128,
            "count": 8
           },
           {
            "bin_start": 128,
            "bin_end": 145,
            "count": 22
           },
           {
            "bin_start": 145,
            "bin_end": 162,
            "count": 9
           },
           {
            "bin_start": 162,
            "bin_end": 179,
            "count": 5
           },
           {
            "bin_start": 179,
            "bin_end": 196,
            "count": 56
           }
          ]
         }
        },
        {
         "name": "writing score",
         "dtype": "float64",
         "stats": {
          "unique_count": 70,
          "nan_count": 18,
          "min": "22.0",
          "max": "196.0",
          "histogram": [
           {
            "bin_start": 22,
            "bin_end": 39.4,
            "count": 8
           },
           {
            "bin_start": 39.4,
            "bin_end": 56.8,
            "count": 26
           },
           {
            "bin_start": 56.8,
            "bin_end": 74.19999999999999,
            "count": 56
           },
           {
            "bin_start": 74.19999999999999,
            "bin_end": 91.6,
            "count": 34
           },
           {
            "bin_start": 91.6,
            "bin_end": 109,
            "count": 7
           },
           {
            "bin_start": 109,
            "bin_end": 126.39999999999999,
            "count": 18
           },
           {
            "bin_start": 126.39999999999999,
            "bin_end": 143.79999999999998,
            "count": 20
           },
           {
            "bin_start": 143.79999999999998,
            "bin_end": 161.2,
            "count": 4
           },
           {
            "bin_start": 161.2,
            "bin_end": 178.6,
            "count": 2
           },
           {
            "bin_start": 178.6,
            "bin_end": 196,
            "count": 54
           }
          ]
         }
        },
        {
         "name": "_deepnote_index_column",
         "dtype": "int64"
        }
       ],
       "rows_top": [
        {
         "names": "Rita Courtney",
         "gender": "female",
         "race/ethnicity": "group B",
         "parental level of education": "some high school",
         "lunch": "standard",
         "test preparation course": "none",
         "math score": 193,
         "reading score": 193,
         "writing score": 193,
         "_deepnote_index_column": 12
        },
        {
         "names": "Elizabeth Quintero",
         "gender": "female",
         "race/ethnicity": "group B",
         "parental level of education": "some college",
         "lunch": "standard",
         "test preparation course": "none",
         "math score": 82,
         "reading score": 85,
         "writing score": 87,
         "_deepnote_index_column": 81
        },
        {
         "names": "Michelle Gonzales",
         "gender": "female",
         "race/ethnicity": "group B",
         "parental level of education": "some high school",
         "lunch": "standard",
         "test preparation course": "completed",
         "math score": 60,
         "reading score": 70,
         "writing score": 74,
         "_deepnote_index_column": 160
        },
        {
         "names": "Carla Mendoza",
         "gender": "female",
         "race/ethnicity": "group D",
         "parental level of education": "associate's degree",
         "lunch": "free/reduced",
         "test preparation course": "none",
         "math score": 43,
         "reading score": 60,
         "writing score": 58,
         "_deepnote_index_column": 170
        },
        {
         "names": "Darlene Parker",
         "gender": "female",
         "race/ethnicity": "group C",
         "parental level of education": "associate's degree",
         "lunch": "standard",
         "test preparation course": "none",
         "math score": 54,
         "reading score": 61,
         "writing score": 58,
         "_deepnote_index_column": 176
        },
        {
         "names": "Larry Dunn",
         "gender": "male",
         "race/ethnicity": "group C",
         "parental level of education": "some high school",
         "lunch": "standard",
         "test preparation course": "none",
         "math score": 196,
         "reading score": 193,
         "writing score": 124,
         "_deepnote_index_column": 207
        },
        {
         "names": "Donita Hill",
         "gender": "female",
         "race/ethnicity": "group A",
         "parental level of education": "bachelor's degree",
         "lunch": "standard",
         "test preparation course": "none",
         "math score": 196,
         "reading score": 196,
         "writing score": 64,
         "_deepnote_index_column": 215
        },
        {
         "names": "Rodrick Rasch",
         "gender": "male",
         "race/ethnicity": "group E",
         "parental level of education": "some high school",
         "lunch": "standard",
         "test preparation course": "none",
         "math score": 193,
         "reading score": 124,
         "writing score": 142,
         "_deepnote_index_column": 229
        },
        {
         "names": "Eric Acosta",
         "gender": "male",
         "race/ethnicity": "group C",
         "parental level of education": "master's degree",
         "lunch": "free/reduced",
         "test preparation course": "none",
         "math score": 79,
         "reading score": 81,
         "writing score": 71,
         "_deepnote_index_column": 282
        },
        {
         "names": "Ana Rodriguez",
         "gender": "female",
         "race/ethnicity": "group C",
         "parental level of education": "high school",
         "lunch": "standard",
         "test preparation course": "none",
         "math score": 193,
         "reading score": "nan",
         "writing score": "nan",
         "_deepnote_index_column": 287
        },
        {
         "names": "Joel Reed",
         "gender": "male",
         "race/ethnicity": "group D",
         "parental level of education": "some high school",
         "lunch": "standard",
         "test preparation course": "completed",
         "math score": 122,
         "reading score": 193,
         "writing score": 142,
         "_deepnote_index_column": 295
        },
        {
         "names": "Leon Shipley",
         "gender": "male",
         "race/ethnicity": "group B",
         "parental level of education": "some college",
         "lunch": "standard",
         "test preparation course": "completed",
         "math score": 124,
         "reading score": 147,
         "writing score": 193,
         "_deepnote_index_column": 315
        },
        {
         "names": "Frankie Malan",
         "gender": "male",
         "race/ethnicity": "group D",
         "parental level of education": "associate's degree",
         "lunch": "free/reduced",
         "test preparation course": "completed",
         "math score": 79,
         "reading score": 82,
         "writing score": 80,
         "_deepnote_index_column": 317
        },
        {
         "names": "Karen Ogburn",
         "gender": "female",
         "race/ethnicity": "group A",
         "parental level of education": "high school",
         "lunch": "free/reduced",
         "test preparation course": "completed",
         "math score": 124,
         "reading score": 193,
         "writing score": 142,
         "_deepnote_index_column": 320
        },
        {
         "names": "Nancy Bassett",
         "gender": "female",
         "race/ethnicity": "group C",
         "parental level of education": "high school",
         "lunch": "standard",
         "test preparation course": "none",
         "math score": 54,
         "reading score": 59,
         "writing score": 62,
         "_deepnote_index_column": 321
        },
        {
         "names": "Ana Loredo",
         "gender": "female",
         "race/ethnicity": "group E",
         "parental level of education": "master's degree",
         "lunch": "standard",
         "test preparation course": "completed",
         "math score": 131,
         "reading score": 188,
         "writing score": 196,
         "_deepnote_index_column": 325
        },
        {
         "names": "Stanley Schroder",
         "gender": "male",
         "race/ethnicity": "group C",
         "parental level of education": "associate's degree",
         "lunch": "standard",
         "test preparation course": "none",
         "math score": 76,
         "reading score": 70,
         "writing score": 68,
         "_deepnote_index_column": 333
        },
        {
         "names": "Nancy Ramos",
         "gender": "female",
         "race/ethnicity": "group A",
         "parental level of education": "some college",
         "lunch": "standard",
         "test preparation course": "completed",
         "math score": 78,
         "reading score": 87,
         "writing score": 91,
         "_deepnote_index_column": 334
        },
        {
         "names": "Jeff Carlson",
         "gender": "male",
         "race/ethnicity": "group C",
         "parental level of education": "some college",
         "lunch": "standard",
         "test preparation course": "none",
         "math score": 69,
         "reading score": 64,
         "writing score": 68,
         "_deepnote_index_column": 335
        },
        {
         "names": "Robert Frazier",
         "gender": "male",
         "race/ethnicity": "group B",
         "parental level of education": "associate's degree",
         "lunch": "free/reduced",
         "test preparation course": "none",
         "math score": 57,
         "reading score": 56,
         "writing score": 57,
         "_deepnote_index_column": 342
        },
        {
         "names": "Catherine Grenier",
         "gender": "female",
         "race/ethnicity": "group A",
         "parental level of education": "master's degree",
         "lunch": "standard",
         "test preparation course": "none",
         "math score": 50,
         "reading score": 53,
         "writing score": 58,
         "_deepnote_index_column": 352
        },
        {
         "names": "Andrea Mcdavid",
         "gender": "female",
         "race/ethnicity": "group C",
         "parental level of education": "associate's degree",
         "lunch": "standard",
         "test preparation course": "none",
         "math score": 40,
         "reading score": 59,
         "writing score": 51,
         "_deepnote_index_column": 356
        },
        {
         "names": "Richard Garr",
         "gender": "male",
         "race/ethnicity": "group C",
         "parental level of education": "some college",
         "lunch": "standard",
         "test preparation course": "none",
         "math score": 53,
         "reading score": 39,
         "writing score": 37,
         "_deepnote_index_column": 362
        },
        {
         "names": "Howard Jimenez",
         "gender": "male",
         "race/ethnicity": "group E",
         "parental level of education": "some high school",
         "lunch": "standard",
         "test preparation course": "completed",
         "math score": 142,
         "reading score": 142,
         "writing score": 193,
         "_deepnote_index_column": 375
        },
        {
         "names": "Richard Harden",
         "gender": "male",
         "race/ethnicity": "group D",
         "parental level of education": "some college",
         "lunch": "free/reduced",
         "test preparation course": "none",
         "math score": 49,
         "reading score": 196,
         "writing score": 193,
         "_deepnote_index_column": 386
        },
        {
         "names": "George Mooney",
         "gender": "male",
         "race/ethnicity": "group C",
         "parental level of education": "some college",
         "lunch": "standard",
         "test preparation course": "completed",
         "math score": 79,
         "reading score": 79,
         "writing score": 78,
         "_deepnote_index_column": 399
        },
        {
         "names": "Audrey Mcdonald",
         "gender": "female",
         "race/ethnicity": "group D",
         "parental level of education": "some college",
         "lunch": "standard",
         "test preparation course": "none",
         "math score": 124,
         "reading score": 193,
         "writing score": 193,
         "_deepnote_index_column": 403
        },
        {
         "names": "Charles Smith",
         "gender": "male",
         "race/ethnicity": "group D",
         "parental level of education": "some college",
         "lunch": "standard",
         "test preparation course": "none",
         "math score": 124,
         "reading score": 49,
         "writing score": 193,
         "_deepnote_index_column": 406
        },
        {
         "names": "Carolyn Smartt",
         "gender": "female",
         "race/ethnicity": "group B",
         "parental level of education": "associate's degree",
         "lunch": "standard",
         "test preparation course": "completed",
         "math score": 52,
         "reading score": 66,
         "writing score": 73,
         "_deepnote_index_column": 423
        },
        {
         "names": "Julia Nicole",
         "gender": "female",
         "race/ethnicity": "group B",
         "parental level of education": "some high school",
         "lunch": "free/reduced",
         "test preparation course": "completed",
         "math score": 52,
         "reading score": 67,
         "writing score": 72,
         "_deepnote_index_column": 424
        },
        {
         "names": "Charles Kong",
         "gender": "male",
         "race/ethnicity": "group C",
         "parental level of education": "associate's degree",
         "lunch": "standard",
         "test preparation course": "completed",
         "math score": 82,
         "reading score": 75,
         "writing score": 77,
         "_deepnote_index_column": 428
        },
        {
         "names": "Aaron Oakden",
         "gender": "male",
         "race/ethnicity": "group D",
         "parental level of education": "high school",
         "lunch": "free/reduced",
         "test preparation course": "none",
         "math score": "nan",
         "reading score": 193,
         "writing score": 124,
         "_deepnote_index_column": 441
        },
        {
         "names": "Autumn Miller",
         "gender": "female",
         "race/ethnicity": "group D",
         "parental level of education": "high school",
         "lunch": "standard",
         "test preparation course": "none",
         "math score": 196,
         "reading score": "nan",
         "writing score": 193,
         "_deepnote_index_column": 443
        },
        {
         "names": "Tanya Freeman",
         "gender": "female",
         "race/ethnicity": "group C",
         "parental level of education": "associate's degree",
         "lunch": "free/reduced",
         "test preparation course": "none",
         "math score": 57,
         "reading score": 78,
         "writing score": 67,
         "_deepnote_index_column": 473
        },
        {
         "names": "Willie Neff",
         "gender": "female",
         "race/ethnicity": "group E",
         "parental level of education": "associate's degree",
         "lunch": "free/reduced",
         "test preparation course": "none",
         "math score": "nan",
         "reading score": 193,
         "writing score": 142,
         "_deepnote_index_column": 476
        },
        {
         "names": "Emma Gray",
         "gender": "female",
         "race/ethnicity": "group E",
         "parental level of education": "bachelor's degree",
         "lunch": "standard",
         "test preparation course": "completed",
         "math score": 188,
         "reading score": 196,
         "writing score": 196,
         "_deepnote_index_column": 483
        },
        {
         "names": "Kathryn Dale",
         "gender": "female",
         "race/ethnicity": "group B",
         "parental level of education": "some college",
         "lunch": "standard",
         "test preparation course": "none",
         "math score": "nan",
         "reading score": 142,
         "writing score": 142,
         "_deepnote_index_column": 484
        },
        {
         "names": "Milton Chaput",
         "gender": "male",
         "race/ethnicity": "group D",
         "parental level of education": "high school",
         "lunch": "standard",
         "test preparation course": "none",
         "math score": "nan",
         "reading score": "nan",
         "writing score": "nan",
         "_deepnote_index_column": 497
        },
        {
         "names": "Tammy Patterson",
         "gender": "female",
         "race/ethnicity": "group B",
         "parental level of education": "high school",
         "lunch": "standard",
         "test preparation course": "none",
         "math score": 58,
         "reading score": 62,
         "writing score": 59,
         "_deepnote_index_column": 498
        },
        {
         "names": "Audrey Darby",
         "gender": "female",
         "race/ethnicity": "group D",
         "parental level of education": "some high school",
         "lunch": "standard",
         "test preparation course": "completed",
         "math score": "nan",
         "reading score": 142,
         "writing score": 142,
         "_deepnote_index_column": 500
        },
        {
         "names": "Aubrey Thompson",
         "gender": "male",
         "race/ethnicity": "group A",
         "parental level of education": "some college",
         "lunch": "standard",
         "test preparation course": "none",
         "math score": 69,
         "reading score": 67,
         "writing score": 69,
         "_deepnote_index_column": 504
        },
        {
         "names": "Robert Miranda",
         "gender": "male",
         "race/ethnicity": "group C",
         "parental level of education": "high school",
         "lunch": "free/reduced",
         "test preparation course": "none",
         "math score": 124,
         "reading score": 156,
         "writing score": 196,
         "_deepnote_index_column": 511
        },
        {
         "names": "Ned Burke",
         "gender": "male",
         "race/ethnicity": "group E",
         "parental level of education": "some college",
         "lunch": "standard",
         "test preparation course": "none",
         "math score": 84,
         "reading score": 77,
         "writing score": 71,
         "_deepnote_index_column": 515
        },
        {
         "names": "Jonathan Clingan",
         "gender": "male",
         "race/ethnicity": "group D",
         "parental level of education": "some college",
         "lunch": "standard",
         "test preparation course": "completed",
         "math score": 124,
         "reading score": 193,
         "writing score": 124,
         "_deepnote_index_column": 522
        },
        {
         "names": "David Carnagey",
         "gender": "male",
         "race/ethnicity": "group D",
         "parental level of education": "associate's degree",
         "lunch": "standard",
         "test preparation course": "none",
         "math score": 193,
         "reading score": 142,
         "writing score": 124,
         "_deepnote_index_column": 529
        },
        {
         "names": "Andrew Duran",
         "gender": "male",
         "race/ethnicity": "group D",
         "parental level of education": "some college",
         "lunch": "standard",
         "test preparation course": "none",
         "math score": 156,
         "reading score": 196,
         "writing score": 193,
         "_deepnote_index_column": 545
        },
        {
         "names": "Oliver Seldon",
         "gender": "male",
         "race/ethnicity": "group B",
         "parental level of education": "high school",
         "lunch": "standard",
         "test preparation course": "completed",
         "math score": 76,
         "reading score": 62,
         "writing score": 60,
         "_deepnote_index_column": 547
        },
        {
         "names": "James Lydon",
         "gender": "male",
         "race/ethnicity": "group A",
         "parental level of education": "high school",
         "lunch": "standard",
         "test preparation course": "none",
         "math score": 193,
         "reading score": "nan",
         "writing score": "nan",
         "_deepnote_index_column": 550
        },
        {
         "names": "Johnathan Bishop",
         "gender": "male",
         "race/ethnicity": "group D",
         "parental level of education": "bachelor's degree",
         "lunch": "free/reduced",
         "test preparation course": "completed",
         "math score": 39,
         "reading score": 42,
         "writing score": 38,
         "_deepnote_index_column": 558
        },
        {
         "names": "Betty Buntin",
         "gender": "female",
         "race/ethnicity": "group A",
         "parental level of education": "bachelor's degree",
         "lunch": "standard",
         "test preparation course": "none",
         "math score": 196,
         "reading score": 156,
         "writing score": "nan",
         "_deepnote_index_column": 570
        },
        {
         "names": "Tina Willis",
         "gender": "female",
         "race/ethnicity": "group C",
         "parental level of education": "high school",
         "lunch": "free/reduced",
         "test preparation course": "none",
         "math score": 42,
         "reading score": 193,
         "writing score": 142,
         "_deepnote_index_column": 581
        },
        {
         "names": "Nicole Roberts",
         "gender": "female",
         "race/ethnicity": "group C",
         "parental level of education": "some college",
         "lunch": "standard",
         "test preparation course": "completed",
         "math score": 64,
         "reading score": 131,
         "writing score": 193,
         "_deepnote_index_column": 588
        },
        {
         "names": "Odette Carter",
         "gender": "female",
         "race/ethnicity": "group C",
         "parental level of education": "some high school",
         "lunch": "standard",
         "test preparation course": "none",
         "math score": 49,
         "reading score": 63,
         "writing score": 56,
         "_deepnote_index_column": 598
        },
        {
         "names": "Todd Bernard",
         "gender": "male",
         "race/ethnicity": "group C",
         "parental level of education": "high school",
         "lunch": "standard",
         "test preparation course": "completed",
         "math score": 75,
         "reading score": 69,
         "writing score": 68,
         "_deepnote_index_column": 608
        },
        {
         "names": "Richard Taylor",
         "gender": "male",
         "race/ethnicity": "group B",
         "parental level of education": "associate's degree",
         "lunch": "standard",
         "test preparation course": "none",
         "math score": 87,
         "reading score": 85,
         "writing score": 73,
         "_deepnote_index_column": 620
        }
       ],
       "rows_bottom": [
        {
         "names": "Charles Jackson",
         "gender": "male",
         "race/ethnicity": "group E",
         "parental level of education": "some high school",
         "lunch": "standard",
         "test preparation course": "none",
         "math score": 30,
         "reading score": 26,
         "writing score": 22,
         "_deepnote_index_column": 1223
        },
        {
         "names": "William Barich",
         "gender": "male",
         "race/ethnicity": "group A",
         "parental level of education": "bachelor's degree",
         "lunch": "free/reduced",
         "test preparation course": "completed",
         "math score": 49,
         "reading score": 193,
         "writing score": 142,
         "_deepnote_index_column": 1231
        },
        {
         "names": "Joseph Jaco",
         "gender": "male",
         "race/ethnicity": "group B",
         "parental level of education": "some college",
         "lunch": "free/reduced",
         "test preparation course": "none",
         "math score": 40,
         "reading score": 182,
         "writing score": 151,
         "_deepnote_index_column": 1233
        },
        {
         "names": "Joe Cooper",
         "gender": "male",
         "race/ethnicity": "group E",
         "parental level of education": "associate's degree",
         "lunch": "standard",
         "test preparation course": "none",
         "math score": 76,
         "reading score": 71,
         "writing score": 67,
         "_deepnote_index_column": 1235
        },
        {
         "names": "Jacqueline Holton",
         "gender": "female",
         "race/ethnicity": "group C",
         "parental level of education": "high school",
         "lunch": "free/reduced",
         "test preparation course": "completed",
         "math score": 142,
         "reading score": 188,
         "writing score": 147,
         "_deepnote_index_column": 1236
        },
        {
         "names": "Paula Barriere",
         "gender": "female",
         "race/ethnicity": "group D",
         "parental level of education": "bachelor's degree",
         "lunch": "free/reduced",
         "test preparation course": "none",
         "math score": 29,
         "reading score": 142,
         "writing score": "nan",
         "_deepnote_index_column": 1238
        },
        {
         "names": "Scott Mercer",
         "gender": "male",
         "race/ethnicity": "group E",
         "parental level of education": "some college",
         "lunch": "standard",
         "test preparation course": "none",
         "math score": 196,
         "reading score": 196,
         "writing score": 182,
         "_deepnote_index_column": 1239
        },
        {
         "names": "Brian Young",
         "gender": "male",
         "race/ethnicity": "group C",
         "parental level of education": "some high school",
         "lunch": "standard",
         "test preparation course": "none",
         "math score": "nan",
         "reading score": "nan",
         "writing score": "nan",
         "_deepnote_index_column": 1243
        },
        {
         "names": "Sheron Luzar",
         "gender": "female",
         "race/ethnicity": "group B",
         "parental level of education": "some high school",
         "lunch": "free/reduced",
         "test preparation course": "completed",
         "math score": 196,
         "reading score": "nan",
         "writing score": 64,
         "_deepnote_index_column": 1245
        },
        {
         "names": "Carmelia Solis",
         "gender": "female",
         "race/ethnicity": "group B",
         "parental level of education": "associate's degree",
         "lunch": "free/reduced",
         "test preparation course": "none",
         "math score": 53,
         "reading score": 71,
         "writing score": 67,
         "_deepnote_index_column": 1247
        },
        {
         "names": "Dale Sylvain",
         "gender": "male",
         "race/ethnicity": "group D",
         "parental level of education": "some college",
         "lunch": "free/reduced",
         "test preparation course": "none",
         "math score": "nan",
         "reading score": 193,
         "writing score": 142,
         "_deepnote_index_column": 1248
        },
        {
         "names": "Kathryn Neville",
         "gender": "female",
         "race/ethnicity": "group C",
         "parental level of education": "some college",
         "lunch": "standard",
         "test preparation course": "none",
         "math score": 55,
         "reading score": 69,
         "writing score": 65,
         "_deepnote_index_column": 1251
        },
        {
         "names": "Joshua Davis",
         "gender": "male",
         "race/ethnicity": "group C",
         "parental level of education": "some college",
         "lunch": "free/reduced",
         "test preparation course": "none",
         "math score": 193,
         "reading score": 193,
         "writing score": 193,
         "_deepnote_index_column": 1257
        },
        {
         "names": "Maxine Gulbranson",
         "gender": "female",
         "race/ethnicity": "group D",
         "parental level of education": "some high school",
         "lunch": "free/reduced",
         "test preparation course": "none",
         "math score": 48,
         "reading score": 54,
         "writing score": 53,
         "_deepnote_index_column": 1259
        },
        {
         "names": "Leona Markow",
         "gender": "female",
         "race/ethnicity": "group A",
         "parental level of education": "some college",
         "lunch": "standard",
         "test preparation course": "none",
         "math score": 56,
         "reading score": 58,
         "writing score": 64,
         "_deepnote_index_column": 1260
        },
        {
         "names": "Bobby Lloyd",
         "gender": "male",
         "race/ethnicity": "group C",
         "parental level of education": "some college",
         "lunch": "standard",
         "test preparation course": "none",
         "math score": 58,
         "reading score": 49,
         "writing score": 42,
         "_deepnote_index_column": 1264
        },
        {
         "names": "Sofia Williams",
         "gender": "female",
         "race/ethnicity": "group C",
         "parental level of education": "some college",
         "lunch": "free/reduced",
         "test preparation course": "none",
         "math score": 32,
         "reading score": 39,
         "writing score": 33,
         "_deepnote_index_column": 1265
        },
        {
         "names": "Norman Reed",
         "gender": "male",
         "race/ethnicity": "group E",
         "parental level of education": "some college",
         "lunch": "standard",
         "test preparation course": "none",
         "math score": 193,
         "reading score": 193,
         "writing score": 193,
         "_deepnote_index_column": 1269
        },
        {
         "names": "Mary Levy",
         "gender": "female",
         "race/ethnicity": "group D",
         "parental level of education": "some college",
         "lunch": "free/reduced",
         "test preparation course": "none",
         "math score": 142,
         "reading score": "nan",
         "writing score": "nan",
         "_deepnote_index_column": 1271
        },
        {
         "names": "Matthew Freeman",
         "gender": "male",
         "race/ethnicity": "group B",
         "parental level of education": "high school",
         "lunch": "standard",
         "test preparation course": "completed",
         "math score": 193,
         "reading score": 49,
         "writing score": 193,
         "_deepnote_index_column": 1279
        },
        {
         "names": "Nicole Obrien",
         "gender": "female",
         "race/ethnicity": "group B",
         "parental level of education": "bachelor's degree",
         "lunch": "free/reduced",
         "test preparation course": "none",
         "math score": 193,
         "reading score": 124,
         "writing score": 124,
         "_deepnote_index_column": 1283
        },
        {
         "names": "Harvey Pribbenow",
         "gender": "male",
         "race/ethnicity": "group D",
         "parental level of education": "bachelor's degree",
         "lunch": "free/reduced",
         "test preparation course": "none",
         "math score": 174,
         "reading score": 193,
         "writing score": 193,
         "_deepnote_index_column": 1285
        },
        {
         "names": "Anna Johnson",
         "gender": "female",
         "race/ethnicity": "group B",
         "parental level of education": "high school",
         "lunch": "free/reduced",
         "test preparation course": "none",
         "math score": 60,
         "reading score": 72,
         "writing score": 68,
         "_deepnote_index_column": 1289
        },
        {
         "names": "Jason Keck",
         "gender": "male",
         "race/ethnicity": "group A",
         "parental level of education": "some college",
         "lunch": "free/reduced",
         "test preparation course": "completed",
         "math score": 81,
         "reading score": 78,
         "writing score": 81,
         "_deepnote_index_column": 1290
        },
        {
         "names": "Bonnie Rodriguez",
         "gender": "female",
         "race/ethnicity": "group E",
         "parental level of education": "high school",
         "lunch": "standard",
         "test preparation course": "completed",
         "math score": 74,
         "reading score": 79,
         "writing score": 80,
         "_deepnote_index_column": 1291
        },
        {
         "names": "Oscar Markow",
         "gender": "male",
         "race/ethnicity": "group C",
         "parental level of education": "some high school",
         "lunch": "free/reduced",
         "test preparation course": "completed",
         "math score": 196,
         "reading score": 142,
         "writing score": 124,
         "_deepnote_index_column": 1292
        },
        {
         "names": "Tom Sastre",
         "gender": "male",
         "race/ethnicity": "group B",
         "parental level of education": "high school",
         "lunch": "standard",
         "test preparation course": "none",
         "math score": 47,
         "reading score": 46,
         "writing score": 42,
         "_deepnote_index_column": 1295
        },
        {
         "names": "Shane Polite",
         "gender": "male",
         "race/ethnicity": "group C",
         "parental level of education": "master's degree",
         "lunch": "free/reduced",
         "test preparation course": "completed",
         "math score": 79,
         "reading score": 77,
         "writing score": 75,
         "_deepnote_index_column": 1296
        },
        {
         "names": "Ashley Mcray",
         "gender": "female",
         "race/ethnicity": "group B",
         "parental level of education": "associate's degree",
         "lunch": "standard",
         "test preparation course": "none",
         "math score": 82,
         "reading score": 80,
         "writing score": 77,
         "_deepnote_index_column": 1297
        },
        {
         "names": "Kelle Lanterman",
         "gender": "female",
         "race/ethnicity": "group E",
         "parental level of education": "high school",
         "lunch": "free/reduced",
         "test preparation course": "none",
         "math score": 41,
         "reading score": 45,
         "writing score": 40,
         "_deepnote_index_column": 1300
        },
        {
         "names": "Sheila Friel",
         "gender": "female",
         "race/ethnicity": "group D",
         "parental level of education": "some college",
         "lunch": "free/reduced",
         "test preparation course": "none",
         "math score": 49,
         "reading score": 58,
         "writing score": 60,
         "_deepnote_index_column": 1301
        },
        {
         "names": "Dolores Reddy",
         "gender": "female",
         "race/ethnicity": "group D",
         "parental level of education": "bachelor's degree",
         "lunch": "standard",
         "test preparation course": "none",
         "math score": 59,
         "reading score": 70,
         "writing score": 73,
         "_deepnote_index_column": 1304
        },
        {
         "names": "Raymond Wiggins",
         "gender": "male",
         "race/ethnicity": "group C",
         "parental level of education": "associate's degree",
         "lunch": "free/reduced",
         "test preparation course": "none",
         "math score": 193,
         "reading score": 174,
         "writing score": 124,
         "_deepnote_index_column": 1306
        },
        {
         "names": "Jacqueline Mayrant",
         "gender": "female",
         "race/ethnicity": "group E",
         "parental level of education": "some high school",
         "lunch": "free/reduced",
         "test preparation course": "none",
         "math score": 156,
         "reading score": 188,
         "writing score": 193,
         "_deepnote_index_column": 1313
        },
        {
         "names": "Edward Lee",
         "gender": "male",
         "race/ethnicity": "group D",
         "parental level of education": "some high school",
         "lunch": "standard",
         "test preparation course": "completed",
         "math score": 193,
         "reading score": 122,
         "writing score": 131,
         "_deepnote_index_column": 1316
        },
        {
         "names": "Cleo Jefferson",
         "gender": "female",
         "race/ethnicity": "group D",
         "parental level of education": "master's degree",
         "lunch": "standard",
         "test preparation course": "none",
         "math score": 87,
         "reading score": 100,
         "writing score": 100,
         "_deepnote_index_column": 1322
        },
        {
         "names": "Connie Banda",
         "gender": "female",
         "race/ethnicity": "group C",
         "parental level of education": "some college",
         "lunch": "standard",
         "test preparation course": "completed",
         "math score": 88,
         "reading score": 93,
         "writing score": 93,
         "_deepnote_index_column": 1329
        },
        {
         "names": "Jeane Budds",
         "gender": "female",
         "race/ethnicity": "group D",
         "parental level of education": "some college",
         "lunch": "standard",
         "test preparation course": "none",
         "math score": 62,
         "reading score": 70,
         "writing score": 72,
         "_deepnote_index_column": 1336
        },
        {
         "names": "Scott Price",
         "gender": "male",
         "race/ethnicity": "group C",
         "parental level of education": "some college",
         "lunch": "free/reduced",
         "test preparation course": "none",
         "math score": 63,
         "reading score": 61,
         "writing score": 54,
         "_deepnote_index_column": 1337
        },
        {
         "names": "James Daniel",
         "gender": "male",
         "race/ethnicity": "group C",
         "parental level of education": "associate's degree",
         "lunch": "standard",
         "test preparation course": "none",
         "math score": 84,
         "reading score": 80,
         "writing score": 80,
         "_deepnote_index_column": 1338
        },
        {
         "names": "Richard Henry",
         "gender": "male",
         "race/ethnicity": "group D",
         "parental level of education": "associate's degree",
         "lunch": "standard",
         "test preparation course": "none",
         "math score": 193,
         "reading score": 174,
         "writing score": 193,
         "_deepnote_index_column": 1339
        },
        {
         "names": "Derrick Crasco",
         "gender": "male",
         "race/ethnicity": "group B",
         "parental level of education": "associate's degree",
         "lunch": "free/reduced",
         "test preparation course": "completed",
         "math score": 131,
         "reading score": 142,
         "writing score": 193,
         "_deepnote_index_column": 1340
        },
        {
         "names": "Sara Kochan",
         "gender": "female",
         "race/ethnicity": "group D",
         "parental level of education": "bachelor's degree",
         "lunch": "standard",
         "test preparation course": "none",
         "math score": 188,
         "reading score": 193,
         "writing score": 193,
         "_deepnote_index_column": 1345
        },
        {
         "names": "Bambi Dyer",
         "gender": "female",
         "race/ethnicity": "group D",
         "parental level of education": "associate's degree",
         "lunch": "free/reduced",
         "test preparation course": "none",
         "math score": 193,
         "reading score": 196,
         "writing score": 142,
         "_deepnote_index_column": 1346
        },
        {
         "names": "Carolyn Greer",
         "gender": "female",
         "race/ethnicity": "group D",
         "parental level of education": "some college",
         "lunch": "standard",
         "test preparation course": "none",
         "math score": 79,
         "reading score": 86,
         "writing score": 81,
         "_deepnote_index_column": 1348
        },
        {
         "names": "Kari Mitchell",
         "gender": "female",
         "race/ethnicity": "group D",
         "parental level of education": "some college",
         "lunch": "free/reduced",
         "test preparation course": "none",
         "math score": 193,
         "reading score": 193,
         "writing score": 193,
         "_deepnote_index_column": 1350
        },
        {
         "names": "Zachary Glenn",
         "gender": "male",
         "race/ethnicity": "group E",
         "parental level of education": "some college",
         "lunch": "standard",
         "test preparation course": "completed",
         "math score": 99,
         "reading score": 87,
         "writing score": 81,
         "_deepnote_index_column": 1355
        },
        {
         "names": "Frank Shaffer",
         "gender": "male",
         "race/ethnicity": "group A",
         "parental level of education": "bachelor's degree",
         "lunch": "standard",
         "test preparation course": "none",
         "math score": 91,
         "reading score": 96,
         "writing score": 92,
         "_deepnote_index_column": 1360
        },
        {
         "names": "Tammi Aline",
         "gender": "female",
         "race/ethnicity": "group E",
         "parental level of education": "associate's degree",
         "lunch": "standard",
         "test preparation course": "completed",
         "math score": 95,
         "reading score": 89,
         "writing score": 92,
         "_deepnote_index_column": 1364
        },
        {
         "names": "Shawn Lopez",
         "gender": "male",
         "race/ethnicity": "group D",
         "parental level of education": "some college",
         "lunch": "standard",
         "test preparation course": "completed",
         "math score": 193,
         "reading score": 196,
         "writing score": 193,
         "_deepnote_index_column": 1369
        },
        {
         "names": "Logan Camp",
         "gender": "male",
         "race/ethnicity": "group C",
         "parental level of education": "associate's degree",
         "lunch": "free/reduced",
         "test preparation course": "none",
         "math score": 193,
         "reading score": 124,
         "writing score": 193,
         "_deepnote_index_column": 1378
        },
        {
         "names": "James Crawford",
         "gender": "male",
         "race/ethnicity": "group D",
         "parental level of education": "master's degree",
         "lunch": "standard",
         "test preparation course": "none",
         "math score": 193,
         "reading score": 147,
         "writing score": 131,
         "_deepnote_index_column": 1385
        },
        {
         "names": "Gloria Bradford",
         "gender": "female",
         "race/ethnicity": "group B",
         "parental level of education": "high school",
         "lunch": "standard",
         "test preparation course": "none",
         "math score": 124,
         "reading score": 64,
         "writing score": 193,
         "_deepnote_index_column": 1390
        },
        {
         "names": "Adam Romero",
         "gender": "male",
         "race/ethnicity": "group C",
         "parental level of education": "high school",
         "lunch": "standard",
         "test preparation course": "completed",
         "math score": 124,
         "reading score": 193,
         "writing score": 49,
         "_deepnote_index_column": 1393
        },
        {
         "names": "Alexander Dillon",
         "gender": "male",
         "race/ethnicity": "group D",
         "parental level of education": "associate's degree",
         "lunch": "standard",
         "test preparation course": "none",
         "math score": 193,
         "reading score": 142,
         "writing score": 193,
         "_deepnote_index_column": 1395
        },
        {
         "names": "Joseph Mccoy",
         "gender": "male",
         "race/ethnicity": "group D",
         "parental level of education": "some college",
         "lunch": "free/reduced",
         "test preparation course": "none",
         "math score": 193,
         "reading score": 196,
         "writing score": 193,
         "_deepnote_index_column": 1398
        }
       ]
      },
      "text/plain": "                   names  gender race/ethnicity parental level of education  \\\n12         Rita Courtney  female        group B            some high school   \n81    Elizabeth Quintero  female        group B                some college   \n160    Michelle Gonzales  female        group B            some high school   \n170        Carla Mendoza  female        group D          associate's degree   \n176       Darlene Parker  female        group C          associate's degree   \n...                  ...     ...            ...                         ...   \n1385      James Crawford    male        group D             master's degree   \n1390     Gloria Bradford  female        group B                 high school   \n1393         Adam Romero    male        group C                 high school   \n1395    Alexander Dillon    male        group D          associate's degree   \n1398        Joseph Mccoy    male        group D                some college   \n\n             lunch test preparation course  math score  reading score  \\\n12        standard                    none       193.0          193.0   \n81        standard                    none        82.0           85.0   \n160       standard               completed        60.0           70.0   \n170   free/reduced                    none        43.0           60.0   \n176       standard                    none        54.0           61.0   \n...            ...                     ...         ...            ...   \n1385      standard                    none       193.0          147.0   \n1390      standard                    none       124.0           64.0   \n1393      standard               completed       124.0          193.0   \n1395      standard                    none       193.0          142.0   \n1398  free/reduced                    none       193.0          196.0   \n\n      writing score  \n12            193.0  \n81             87.0  \n160            74.0  \n170            58.0  \n176            58.0  \n...             ...  \n1385          131.0  \n1390          193.0  \n1393           49.0  \n1395          193.0  \n1398          193.0  \n\n[247 rows x 9 columns]",
      "text/html": "<div>\n<style scoped>\n    .dataframe tbody tr th:only-of-type {\n        vertical-align: middle;\n    }\n\n    .dataframe tbody tr th {\n        vertical-align: top;\n    }\n\n    .dataframe thead th {\n        text-align: right;\n    }\n</style>\n<table border=\"1\" class=\"dataframe\">\n  <thead>\n    <tr style=\"text-align: right;\">\n      <th></th>\n      <th>names</th>\n      <th>gender</th>\n      <th>race/ethnicity</th>\n      <th>parental level of education</th>\n      <th>lunch</th>\n      <th>test preparation course</th>\n      <th>math score</th>\n      <th>reading score</th>\n      <th>writing score</th>\n    </tr>\n  </thead>\n  <tbody>\n    <tr>\n      <th>12</th>\n      <td>Rita Courtney</td>\n      <td>female</td>\n      <td>group B</td>\n      <td>some high school</td>\n      <td>standard</td>\n      <td>none</td>\n      <td>193.0</td>\n      <td>193.0</td>\n      <td>193.0</td>\n    </tr>\n    <tr>\n      <th>81</th>\n      <td>Elizabeth Quintero</td>\n      <td>female</td>\n      <td>group B</td>\n      <td>some college</td>\n      <td>standard</td>\n      <td>none</td>\n      <td>82.0</td>\n      <td>85.0</td>\n      <td>87.0</td>\n    </tr>\n    <tr>\n      <th>160</th>\n      <td>Michelle Gonzales</td>\n      <td>female</td>\n      <td>group B</td>\n      <td>some high school</td>\n      <td>standard</td>\n      <td>completed</td>\n      <td>60.0</td>\n      <td>70.0</td>\n      <td>74.0</td>\n    </tr>\n    <tr>\n      <th>170</th>\n      <td>Carla Mendoza</td>\n      <td>female</td>\n      <td>group D</td>\n      <td>associate's degree</td>\n      <td>free/reduced</td>\n      <td>none</td>\n      <td>43.0</td>\n      <td>60.0</td>\n      <td>58.0</td>\n    </tr>\n    <tr>\n      <th>176</th>\n      <td>Darlene Parker</td>\n      <td>female</td>\n      <td>group C</td>\n      <td>associate's degree</td>\n      <td>standard</td>\n      <td>none</td>\n      <td>54.0</td>\n      <td>61.0</td>\n      <td>58.0</td>\n    </tr>\n    <tr>\n      <th>...</th>\n      <td>...</td>\n      <td>...</td>\n      <td>...</td>\n      <td>...</td>\n      <td>...</td>\n      <td>...</td>\n      <td>...</td>\n      <td>...</td>\n      <td>...</td>\n    </tr>\n    <tr>\n      <th>1385</th>\n      <td>James Crawford</td>\n      <td>male</td>\n      <td>group D</td>\n      <td>master's degree</td>\n      <td>standard</td>\n      <td>none</td>\n      <td>193.0</td>\n      <td>147.0</td>\n      <td>131.0</td>\n    </tr>\n    <tr>\n      <th>1390</th>\n      <td>Gloria Bradford</td>\n      <td>female</td>\n      <td>group B</td>\n      <td>high school</td>\n      <td>standard</td>\n      <td>none</td>\n      <td>124.0</td>\n      <td>64.0</td>\n      <td>193.0</td>\n    </tr>\n    <tr>\n      <th>1393</th>\n      <td>Adam Romero</td>\n      <td>male</td>\n      <td>group C</td>\n      <td>high school</td>\n      <td>standard</td>\n      <td>completed</td>\n      <td>124.0</td>\n      <td>193.0</td>\n      <td>49.0</td>\n    </tr>\n    <tr>\n      <th>1395</th>\n      <td>Alexander Dillon</td>\n      <td>male</td>\n      <td>group D</td>\n      <td>associate's degree</td>\n      <td>standard</td>\n      <td>none</td>\n      <td>193.0</td>\n      <td>142.0</td>\n      <td>193.0</td>\n    </tr>\n    <tr>\n      <th>1398</th>\n      <td>Joseph Mccoy</td>\n      <td>male</td>\n      <td>group D</td>\n      <td>some college</td>\n      <td>free/reduced</td>\n      <td>none</td>\n      <td>193.0</td>\n      <td>196.0</td>\n      <td>193.0</td>\n    </tr>\n  </tbody>\n</table>\n<p>247 rows × 9 columns</p>\n</div>"
     },
     "metadata": {},
     "output_type": "display_data"
    },
    {
     "data": {
      "text/plain": "<Figure size 432x288 with 1 Axes>",
      "image/png": "[encoded data removed]"
     },
     "metadata": {
      "needs_background": "light",
      "image/png": {
       "width": 375,
       "height": 248
      }
     },
     "output_type": "display_data"
    }
   ]
  },
  {
   "cell_type": "markdown",
   "source": "**Justificación:**",
   "metadata": {
    "id": "nxRj-Hi2QUHQ",
    "cell_id": "00021-f548a297-97a4-4d9b-9501-ae5571aa3068",
    "deepnote_cell_type": "markdown"
   }
  },
  {
   "cell_type": "markdown",
   "source": "```\nAl cargar la base de datos en formato .json, las columnas se almacenan como object, por lo que se deben modificar con el tipo de dato correspondiente (str y float), además presenta una cantidad importante de datos duplicados y valores nulos, con totales de 247 y 127, respectivamente. Se observa que hay una gran cantidad de outliers en la parte superior del boxplot, con valores superiores a 100, lo que indica anomalías en las observaciones. Por otro lado la media se acerca a la magnitud de 75 puntos, con peores desempeños en matemática.\n```",
   "metadata": {
    "id": "CR2ZEOcbQW9X",
    "cell_id": "00022-a0fee108-5903-4074-8b11-104b98a94a67",
    "deepnote_cell_type": "markdown"
   }
  },
  {
   "cell_type": "markdown",
   "source": "**Respuesta Esperada:**",
   "metadata": {
    "id": "45jxMTJHNPC3",
    "cell_id": "00017-b4a9f1a1-c50d-47f6-95af-4ce1416feed7",
    "deepnote_cell_type": "markdown"
   }
  },
  {
   "cell_type": "code",
   "metadata": {
    "colab": {
     "base_uri": "https://localhost:8080/",
     "height": 1000
    },
    "id": "Vu2Y7Q4wuBXg",
    "executionInfo": {
     "status": "ok",
     "timestamp": 1619205954456,
     "user_tz": 240,
     "elapsed": 565,
     "user": {
      "displayName": "IGNACIO ALEJANDRO MEZA",
      "photoUrl": "",
      "userId": "17011121633069169364"
     }
    },
    "outputId": "589784c1-3dc8-4c6a-c63d-2d0aa4211878",
    "deepnote_to_be_reexecuted": false,
    "source_hash": "fc6a5c17",
    "execution_start": 1633016525454,
    "execution_millis": 535,
    "cell_id": "00020-9bc24dfa-b47a-4545-8336-6470008a1527",
    "deepnote_cell_type": "code"
   },
   "source": "exploratory_data_analysis(df_grades)",
   "execution_count": null,
   "outputs": [
    {
     "name": "stdout",
     "text": "Las dimensiones del dataset son: (1400, 9)\nLas columnas tienen los siguientes nombres: names, gender, race/ethnicity, parental level of education, lunch, test preparation course, math score, reading score, writing score\n",
     "output_type": "stream"
    },
    {
     "data": {
      "application/vnd.deepnote.dataframe.v2+json": {
       "row_count": 5,
       "column_count": 9,
       "columns": [
        {
         "name": "names",
         "dtype": "object",
         "stats": {
          "unique_count": 5,
          "nan_count": 0,
          "categories": [
           {
            "name": "Rita Courtney",
            "count": 1
           },
           {
            "name": "Madeline Fuller",
            "count": 1
           },
           {
            "name": "3 others",
            "count": 3
           }
          ]
         }
        },
        {
         "name": "gender",
         "dtype": "object",
         "stats": {
          "unique_count": 2,
          "nan_count": 0,
          "categories": [
           {
            "name": "female",
            "count": 3
           },
           {
            "name": "male",
            "count": 2
           }
          ]
         }
        },
        {
         "name": "race/ethnicity",
         "dtype": "object",
         "stats": {
          "unique_count": 4,
          "nan_count": 0,
          "categories": [
           {
            "name": "group A",
            "count": 2
           },
           {
            "name": "group B",
            "count": 1
           },
           {
            "name": "2 others",
            "count": 2
           }
          ]
         }
        },
        {
         "name": "parental level of education",
         "dtype": "object",
         "stats": {
          "unique_count": 3,
          "nan_count": 0,
          "categories": [
           {
            "name": "some high school",
            "count": 2
           },
           {
            "name": "associate's degree",
            "count": 2
           },
           {
            "name": "bachelor's degree",
            "count": 1
           }
          ]
         }
        },
        {
         "name": "lunch",
         "dtype": "object",
         "stats": {
          "unique_count": 1,
          "nan_count": 0,
          "categories": [
           {
            "name": "standard",
            "count": 5
           }
          ]
         }
        },
        {
         "name": "test preparation course",
         "dtype": "object",
         "stats": {
          "unique_count": 2,
          "nan_count": 0,
          "categories": [
           {
            "name": "none",
            "count": 4
           },
           {
            "name": "completed",
            "count": 1
           }
          ]
         }
        },
        {
         "name": "math score",
         "dtype": "float64",
         "stats": {
          "unique_count": 5,
          "nan_count": 0,
          "min": "37.0",
          "max": "156.0",
          "histogram": [
           {
            "bin_start": 37,
            "bin_end": 48.9,
            "count": 1
           },
           {
            "bin_start": 48.9,
            "bin_end": 60.8,
            "count": 0
           },
           {
            "bin_start": 60.8,
            "bin_end": 72.7,
            "count": 0
           },
           {
            "bin_start": 72.7,
            "bin_end": 84.6,
            "count": 1
           },
           {
            "bin_start": 84.6,
            "bin_end": 96.5,
            "count": 0
           },
           {
            "bin_start": 96.5,
            "bin_end": 108.4,
            "count": 0
           },
           {
            "bin_start": 108.4,
            "bin_end": 120.3,
            "count": 0
           },
           {
            "bin_start": 120.3,
            "bin_end": 132.2,
            "count": 2
           },
           {
            "bin_start": 132.2,
            "bin_end": 144.10000000000002,
            "count": 0
           },
           {
            "bin_start": 144.10000000000002,
            "bin_end": 156,
            "count": 1
           }
          ]
         }
        },
        {
         "name": "reading score",
         "dtype": "float64",
         "stats": {
          "unique_count": 5,
          "nan_count": 0,
          "min": "46.0",
          "max": "196.0",
          "histogram": [
           {
            "bin_start": 46,
            "bin_end": 61,
            "count": 1
           },
           {
            "bin_start": 61,
            "bin_end": 76,
            "count": 0
           },
           {
            "bin_start": 76,
            "bin_end": 91,
            "count": 1
           },
           {
            "bin_start": 91,
            "bin_end": 106,
            "count": 0
           },
           {
            "bin_start": 106,
            "bin_end": 121,
            "count": 0
           },
           {
            "bin_start": 121,
            "bin_end": 136,
            "count": 0
           },
           {
            "bin_start": 136,
            "bin_end": 151,
            "count": 1
           },
           {
            "bin_start": 151,
            "bin_end": 166,
            "count": 0
           },
           {
            "bin_start": 166,
            "bin_end": 181,
            "count": 1
           },
           {
            "bin_start": 181,
            "bin_end": 196,
            "count": 1
           }
          ]
         }
        },
        {
         "name": "writing score",
         "dtype": "float64",
         "stats": {
          "unique_count": 5,
          "nan_count": 0,
          "min": "46.0",
          "max": "193.0",
          "histogram": [
           {
            "bin_start": 46,
            "bin_end": 60.7,
            "count": 1
           },
           {
            "bin_start": 60.7,
            "bin_end": 75.4,
            "count": 0
           },
           {
            "bin_start": 75.4,
            "bin_end": 90.1,
            "count": 1
           },
           {
            "bin_start": 90.1,
            "bin_end": 104.8,
            "count": 0
           },
           {
            "bin_start": 104.8,
            "bin_end": 119.5,
            "count": 0
           },
           {
            "bin_start": 119.5,
            "bin_end": 134.2,
            "count": 0
           },
           {
            "bin_start": 134.2,
            "bin_end": 148.89999999999998,
            "count": 1
           },
           {
            "bin_start": 148.89999999999998,
            "bin_end": 163.6,
            "count": 0
           },
           {
            "bin_start": 163.6,
            "bin_end": 178.29999999999998,
            "count": 1
           },
           {
            "bin_start": 178.29999999999998,
            "bin_end": 193,
            "count": 1
           }
          ]
         }
        },
        {
         "name": "_deepnote_index_column",
         "dtype": "int64"
        }
       ],
       "rows_top": [
        {
         "names": "Rita Courtney",
         "gender": "female",
         "race/ethnicity": "group B",
         "parental level of education": "some high school",
         "lunch": "standard",
         "test preparation course": "none",
         "math score": 37,
         "reading score": 46,
         "writing score": 46,
         "_deepnote_index_column": 0
        },
        {
         "names": "Madeline Fuller",
         "gender": "female",
         "race/ethnicity": "group C",
         "parental level of education": "some high school",
         "lunch": "standard",
         "test preparation course": "none",
         "math score": 124,
         "reading score": 142,
         "writing score": 142,
         "_deepnote_index_column": 1
        },
        {
         "names": "Daniel Rester",
         "gender": "male",
         "race/ethnicity": "group E",
         "parental level of education": "associate's degree",
         "lunch": "standard",
         "test preparation course": "none",
         "math score": 156,
         "reading score": 196,
         "writing score": 193,
         "_deepnote_index_column": 2
        },
        {
         "names": "Charles Linstrom",
         "gender": "male",
         "race/ethnicity": "group A",
         "parental level of education": "bachelor's degree",
         "lunch": "standard",
         "test preparation course": "completed",
         "math score": 80,
         "reading score": 78,
         "writing score": 81,
         "_deepnote_index_column": 3
        },
        {
         "names": "Geraldine Hale",
         "gender": "female",
         "race/ethnicity": "group A",
         "parental level of education": "associate's degree",
         "lunch": "standard",
         "test preparation course": "none",
         "math score": 131,
         "reading score": 166,
         "writing score": 166,
         "_deepnote_index_column": 4
        }
       ],
       "rows_bottom": null
      },
      "text/plain": "              names  gender race/ethnicity parental level of education  \\\n0     Rita Courtney  female        group B            some high school   \n1   Madeline Fuller  female        group C            some high school   \n2     Daniel Rester    male        group E          associate's degree   \n3  Charles Linstrom    male        group A           bachelor's degree   \n4    Geraldine Hale  female        group A          associate's degree   \n\n      lunch test preparation course  math score  reading score  writing score  \n0  standard                    none        37.0           46.0           46.0  \n1  standard                    none       124.0          142.0          142.0  \n2  standard                    none       156.0          196.0          193.0  \n3  standard               completed        80.0           78.0           81.0  \n4  standard                    none       131.0          166.0          166.0  ",
      "text/html": "<div>\n<style scoped>\n    .dataframe tbody tr th:only-of-type {\n        vertical-align: middle;\n    }\n\n    .dataframe tbody tr th {\n        vertical-align: top;\n    }\n\n    .dataframe thead th {\n        text-align: right;\n    }\n</style>\n<table border=\"1\" class=\"dataframe\">\n  <thead>\n    <tr style=\"text-align: right;\">\n      <th></th>\n      <th>names</th>\n      <th>gender</th>\n      <th>race/ethnicity</th>\n      <th>parental level of education</th>\n      <th>lunch</th>\n      <th>test preparation course</th>\n      <th>math score</th>\n      <th>reading score</th>\n      <th>writing score</th>\n    </tr>\n  </thead>\n  <tbody>\n    <tr>\n      <th>0</th>\n      <td>Rita Courtney</td>\n      <td>female</td>\n      <td>group B</td>\n      <td>some high school</td>\n      <td>standard</td>\n      <td>none</td>\n      <td>37.0</td>\n      <td>46.0</td>\n      <td>46.0</td>\n    </tr>\n    <tr>\n      <th>1</th>\n      <td>Madeline Fuller</td>\n      <td>female</td>\n      <td>group C</td>\n      <td>some high school</td>\n      <td>standard</td>\n      <td>none</td>\n      <td>124.0</td>\n      <td>142.0</td>\n      <td>142.0</td>\n    </tr>\n    <tr>\n      <th>2</th>\n      <td>Daniel Rester</td>\n      <td>male</td>\n      <td>group E</td>\n      <td>associate's degree</td>\n      <td>standard</td>\n      <td>none</td>\n      <td>156.0</td>\n      <td>196.0</td>\n      <td>193.0</td>\n    </tr>\n    <tr>\n      <th>3</th>\n      <td>Charles Linstrom</td>\n      <td>male</td>\n      <td>group A</td>\n      <td>bachelor's degree</td>\n      <td>standard</td>\n      <td>completed</td>\n      <td>80.0</td>\n      <td>78.0</td>\n      <td>81.0</td>\n    </tr>\n    <tr>\n      <th>4</th>\n      <td>Geraldine Hale</td>\n      <td>female</td>\n      <td>group A</td>\n      <td>associate's degree</td>\n      <td>standard</td>\n      <td>none</td>\n      <td>131.0</td>\n      <td>166.0</td>\n      <td>166.0</td>\n    </tr>\n  </tbody>\n</table>\n</div>"
     },
     "metadata": {},
     "output_type": "display_data"
    },
    {
     "data": {
      "application/vnd.deepnote.dataframe.v2+json": {
       "row_count": 5,
       "column_count": 9,
       "columns": [
        {
         "name": "names",
         "dtype": "object",
         "stats": {
          "unique_count": 5,
          "nan_count": 0,
          "categories": [
           {
            "name": "Alexander Dillon",
            "count": 1
           },
           {
            "name": "Marina Zeigler",
            "count": 1
           },
           {
            "name": "3 others",
            "count": 3
           }
          ]
         }
        },
        {
         "name": "gender",
         "dtype": "object",
         "stats": {
          "unique_count": 2,
          "nan_count": 0,
          "categories": [
           {
            "name": "female",
            "count": 3
           },
           {
            "name": "male",
            "count": 2
           }
          ]
         }
        },
        {
         "name": "race/ethnicity",
         "dtype": "object",
         "stats": {
          "unique_count": 4,
          "nan_count": 0,
          "categories": [
           {
            "name": "group D",
            "count": 2
           },
           {
            "name": "group C",
            "count": 1
           },
           {
            "name": "2 others",
            "count": 2
           }
          ]
         }
        },
        {
         "name": "parental level of education",
         "dtype": "object",
         "stats": {
          "unique_count": 5,
          "nan_count": 0,
          "categories": [
           {
            "name": "associate's degree",
            "count": 1
           },
           {
            "name": "bachelor's degree",
            "count": 1
           },
           {
            "name": "3 others",
            "count": 3
           }
          ]
         }
        },
        {
         "name": "lunch",
         "dtype": "object",
         "stats": {
          "unique_count": 2,
          "nan_count": 0,
          "categories": [
           {
            "name": "standard",
            "count": 3
           },
           {
            "name": "free/reduced",
            "count": 2
           }
          ]
         }
        },
        {
         "name": "test preparation course",
         "dtype": "object",
         "stats": {
          "unique_count": 2,
          "nan_count": 0,
          "categories": [
           {
            "name": "completed",
            "count": 3
           },
           {
            "name": "none",
            "count": 2
           }
          ]
         }
        },
        {
         "name": "math score",
         "dtype": "float64",
         "stats": {
          "unique_count": 4,
          "nan_count": 0,
          "min": "54.0",
          "max": "193.0",
          "histogram": [
           {
            "bin_start": 54,
            "bin_end": 67.9,
            "count": 2
           },
           {
            "bin_start": 67.9,
            "bin_end": 81.8,
            "count": 1
           },
           {
            "bin_start": 81.8,
            "bin_end": 95.7,
            "count": 0
           },
           {
            "bin_start": 95.7,
            "bin_end": 109.6,
            "count": 0
           },
           {
            "bin_start": 109.6,
            "bin_end": 123.5,
            "count": 0
           },
           {
            "bin_start": 123.5,
            "bin_end": 137.4,
            "count": 0
           },
           {
            "bin_start": 137.4,
            "bin_end": 151.3,
            "count": 0
           },
           {
            "bin_start": 151.3,
            "bin_end": 165.2,
            "count": 0
           },
           {
            "bin_start": 165.2,
            "bin_end": 179.10000000000002,
            "count": 0
           },
           {
            "bin_start": 179.10000000000002,
            "bin_end": 193,
            "count": 2
           }
          ]
         }
        },
        {
         "name": "reading score",
         "dtype": "float64",
         "stats": {
          "unique_count": 5,
          "nan_count": 0,
          "min": "61.0",
          "max": "196.0",
          "histogram": [
           {
            "bin_start": 61,
            "bin_end": 74.5,
            "count": 2
           },
           {
            "bin_start": 74.5,
            "bin_end": 88,
            "count": 1
           },
           {
            "bin_start": 88,
            "bin_end": 101.5,
            "count": 0
           },
           {
            "bin_start": 101.5,
            "bin_end": 115,
            "count": 0
           },
           {
            "bin_start": 115,
            "bin_end": 128.5,
            "count": 0
           },
           {
            "bin_start": 128.5,
            "bin_end": 142,
            "count": 0
           },
           {
            "bin_start": 142,
            "bin_end": 155.5,
            "count": 1
           },
           {
            "bin_start": 155.5,
            "bin_end": 169,
            "count": 0
           },
           {
            "bin_start": 169,
            "bin_end": 182.5,
            "count": 0
           },
           {
            "bin_start": 182.5,
            "bin_end": 196,
            "count": 1
           }
          ]
         }
        },
        {
         "name": "writing score",
         "dtype": "float64",
         "stats": {
          "unique_count": 4,
          "nan_count": 0,
          "min": "62.0",
          "max": "193.0",
          "histogram": [
           {
            "bin_start": 62,
            "bin_end": 75.1,
            "count": 1
           },
           {
            "bin_start": 75.1,
            "bin_end": 88.2,
            "count": 2
           },
           {
            "bin_start": 88.2,
            "bin_end": 101.3,
            "count": 0
           },
           {
            "bin_start": 101.3,
            "bin_end": 114.4,
            "count": 0
           },
           {
            "bin_start": 114.4,
            "bin_end": 127.5,
            "count": 0
           },
           {
            "bin_start": 127.5,
            "bin_end": 140.6,
            "count": 0
           },
           {
            "bin_start": 140.6,
            "bin_end": 153.7,
            "count": 0
           },
           {
            "bin_start": 153.7,
            "bin_end": 166.8,
            "count": 0
           },
           {
            "bin_start": 166.8,
            "bin_end": 179.89999999999998,
            "count": 0
           },
           {
            "bin_start": 179.89999999999998,
            "bin_end": 193,
            "count": 2
           }
          ]
         }
        },
        {
         "name": "_deepnote_index_column",
         "dtype": "int64"
        }
       ],
       "rows_top": [
        {
         "names": "Alexander Dillon",
         "gender": "male",
         "race/ethnicity": "group D",
         "parental level of education": "associate's degree",
         "lunch": "standard",
         "test preparation course": "none",
         "math score": 193,
         "reading score": 142,
         "writing score": 193,
         "_deepnote_index_column": 1395
        },
        {
         "names": "Marina Zeigler",
         "gender": "female",
         "race/ethnicity": "group C",
         "parental level of education": "bachelor's degree",
         "lunch": "free/reduced",
         "test preparation course": "completed",
         "math score": 66,
         "reading score": 74,
         "writing score": 81,
         "_deepnote_index_column": 1396
        },
        {
         "names": "Laurie Carter",
         "gender": "female",
         "race/ethnicity": "group B",
         "parental level of education": "some high school",
         "lunch": "standard",
         "test preparation course": "completed",
         "math score": 54,
         "reading score": 61,
         "writing score": 62,
         "_deepnote_index_column": 1397
        },
        {
         "names": "Joseph Mccoy",
         "gender": "male",
         "race/ethnicity": "group D",
         "parental level of education": "some college",
         "lunch": "free/reduced",
         "test preparation course": "none",
         "math score": 193,
         "reading score": 196,
         "writing score": 193,
         "_deepnote_index_column": 1398
        },
        {
         "names": "Amanda Perez",
         "gender": "female",
         "race/ethnicity": "group A",
         "parental level of education": "high school",
         "lunch": "standard",
         "test preparation course": "completed",
         "math score": 68,
         "reading score": 80,
         "writing score": 76,
         "_deepnote_index_column": 1399
        }
       ],
       "rows_bottom": null
      },
      "text/plain": "                 names  gender race/ethnicity parental level of education  \\\n1395  Alexander Dillon    male        group D          associate's degree   \n1396    Marina Zeigler  female        group C           bachelor's degree   \n1397     Laurie Carter  female        group B            some high school   \n1398      Joseph Mccoy    male        group D                some college   \n1399      Amanda Perez  female        group A                 high school   \n\n             lunch test preparation course  math score  reading score  \\\n1395      standard                    none       193.0          142.0   \n1396  free/reduced               completed        66.0           74.0   \n1397      standard               completed        54.0           61.0   \n1398  free/reduced                    none       193.0          196.0   \n1399      standard               completed        68.0           80.0   \n\n      writing score  \n1395          193.0  \n1396           81.0  \n1397           62.0  \n1398          193.0  \n1399           76.0  ",
      "text/html": "<div>\n<style scoped>\n    .dataframe tbody tr th:only-of-type {\n        vertical-align: middle;\n    }\n\n    .dataframe tbody tr th {\n        vertical-align: top;\n    }\n\n    .dataframe thead th {\n        text-align: right;\n    }\n</style>\n<table border=\"1\" class=\"dataframe\">\n  <thead>\n    <tr style=\"text-align: right;\">\n      <th></th>\n      <th>names</th>\n      <th>gender</th>\n      <th>race/ethnicity</th>\n      <th>parental level of education</th>\n      <th>lunch</th>\n      <th>test preparation course</th>\n      <th>math score</th>\n      <th>reading score</th>\n      <th>writing score</th>\n    </tr>\n  </thead>\n  <tbody>\n    <tr>\n      <th>1395</th>\n      <td>Alexander Dillon</td>\n      <td>male</td>\n      <td>group D</td>\n      <td>associate's degree</td>\n      <td>standard</td>\n      <td>none</td>\n      <td>193.0</td>\n      <td>142.0</td>\n      <td>193.0</td>\n    </tr>\n    <tr>\n      <th>1396</th>\n      <td>Marina Zeigler</td>\n      <td>female</td>\n      <td>group C</td>\n      <td>bachelor's degree</td>\n      <td>free/reduced</td>\n      <td>completed</td>\n      <td>66.0</td>\n      <td>74.0</td>\n      <td>81.0</td>\n    </tr>\n    <tr>\n      <th>1397</th>\n      <td>Laurie Carter</td>\n      <td>female</td>\n      <td>group B</td>\n      <td>some high school</td>\n      <td>standard</td>\n      <td>completed</td>\n      <td>54.0</td>\n      <td>61.0</td>\n      <td>62.0</td>\n    </tr>\n    <tr>\n      <th>1398</th>\n      <td>Joseph Mccoy</td>\n      <td>male</td>\n      <td>group D</td>\n      <td>some college</td>\n      <td>free/reduced</td>\n      <td>none</td>\n      <td>193.0</td>\n      <td>196.0</td>\n      <td>193.0</td>\n    </tr>\n    <tr>\n      <th>1399</th>\n      <td>Amanda Perez</td>\n      <td>female</td>\n      <td>group A</td>\n      <td>high school</td>\n      <td>standard</td>\n      <td>completed</td>\n      <td>68.0</td>\n      <td>80.0</td>\n      <td>76.0</td>\n    </tr>\n  </tbody>\n</table>\n</div>"
     },
     "metadata": {},
     "output_type": "display_data"
    },
    {
     "data": {
      "application/vnd.deepnote.dataframe.v2+json": {
       "row_count": 5,
       "column_count": 9,
       "columns": [
        {
         "name": "names",
         "dtype": "object",
         "stats": {
          "unique_count": 5,
          "nan_count": 0,
          "categories": [
           {
            "name": "Nancy Myers",
            "count": 1
           },
           {
            "name": "Crystal Smith",
            "count": 1
           },
           {
            "name": "3 others",
            "count": 3
           }
          ]
         }
        },
        {
         "name": "gender",
         "dtype": "object",
         "stats": {
          "unique_count": 2,
          "nan_count": 0,
          "categories": [
           {
            "name": "female",
            "count": 3
           },
           {
            "name": "male",
            "count": 2
           }
          ]
         }
        },
        {
         "name": "race/ethnicity",
         "dtype": "object",
         "stats": {
          "unique_count": 3,
          "nan_count": 0,
          "categories": [
           {
            "name": "group C",
            "count": 2
           },
           {
            "name": "group E",
            "count": 2
           },
           {
            "name": "group B",
            "count": 1
           }
          ]
         }
        },
        {
         "name": "parental level of education",
         "dtype": "object",
         "stats": {
          "unique_count": 3,
          "nan_count": 0,
          "categories": [
           {
            "name": "associate's degree",
            "count": 3
           },
           {
            "name": "high school",
            "count": 1
           },
           {
            "name": "some college",
            "count": 1
           }
          ]
         }
        },
        {
         "name": "lunch",
         "dtype": "object",
         "stats": {
          "unique_count": 2,
          "nan_count": 0,
          "categories": [
           {
            "name": "standard",
            "count": 3
           },
           {
            "name": "free/reduced",
            "count": 2
           }
          ]
         }
        },
        {
         "name": "test preparation course",
         "dtype": "object",
         "stats": {
          "unique_count": 2,
          "nan_count": 0,
          "categories": [
           {
            "name": "completed",
            "count": 3
           },
           {
            "name": "none",
            "count": 2
           }
          ]
         }
        },
        {
         "name": "math score",
         "dtype": "float64",
         "stats": {
          "unique_count": 5,
          "nan_count": 0,
          "min": "49.0",
          "max": "193.0",
          "histogram": [
           {
            "bin_start": 49,
            "bin_end": 63.4,
            "count": 1
           },
           {
            "bin_start": 63.4,
            "bin_end": 77.8,
            "count": 2
           },
           {
            "bin_start": 77.8,
            "bin_end": 92.2,
            "count": 0
           },
           {
            "bin_start": 92.2,
            "bin_end": 106.6,
            "count": 0
           },
           {
            "bin_start": 106.6,
            "bin_end": 121,
            "count": 0
           },
           {
            "bin_start": 121,
            "bin_end": 135.4,
            "count": 1
           },
           {
            "bin_start": 135.4,
            "bin_end": 149.8,
            "count": 0
           },
           {
            "bin_start": 149.8,
            "bin_end": 164.2,
            "count": 0
           },
           {
            "bin_start": 164.2,
            "bin_end": 178.6,
            "count": 0
           },
           {
            "bin_start": 178.6,
            "bin_end": 193,
            "count": 1
           }
          ]
         }
        },
        {
         "name": "reading score",
         "dtype": "float64",
         "stats": {
          "unique_count": 5,
          "nan_count": 0,
          "min": "71.0",
          "max": "193.0",
          "histogram": [
           {
            "bin_start": 71,
            "bin_end": 83.2,
            "count": 2
           },
           {
            "bin_start": 83.2,
            "bin_end": 95.4,
            "count": 0
           },
           {
            "bin_start": 95.4,
            "bin_end": 107.6,
            "count": 0
           },
           {
            "bin_start": 107.6,
            "bin_end": 119.8,
            "count": 0
           },
           {
            "bin_start": 119.8,
            "bin_end": 132,
            "count": 1
           },
           {
            "bin_start": 132,
            "bin_end": 144.2,
            "count": 1
           },
           {
            "bin_start": 144.2,
            "bin_end": 156.39999999999998,
            "count": 0
           },
           {
            "bin_start": 156.39999999999998,
            "bin_end": 168.6,
            "count": 0
           },
           {
            "bin_start": 168.6,
            "bin_end": 180.8,
            "count": 0
           },
           {
            "bin_start": 180.8,
            "bin_end": 193,
            "count": 1
           }
          ]
         }
        },
        {
         "name": "writing score",
         "dtype": "float64",
         "stats": {
          "unique_count": 4,
          "nan_count": 1,
          "min": "67.0",
          "max": "196.0",
          "histogram": [
           {
            "bin_start": 67,
            "bin_end": 79.9,
            "count": 2
           },
           {
            "bin_start": 79.9,
            "bin_end": 92.8,
            "count": 0
           },
           {
            "bin_start": 92.8,
            "bin_end": 105.7,
            "count": 0
           },
           {
            "bin_start": 105.7,
            "bin_end": 118.6,
            "count": 0
           },
           {
            "bin_start": 118.6,
            "bin_end": 131.5,
            "count": 0
           },
           {
            "bin_start": 131.5,
            "bin_end": 144.4,
            "count": 0
           },
           {
            "bin_start": 144.4,
            "bin_end": 157.3,
            "count": 0
           },
           {
            "bin_start": 157.3,
            "bin_end": 170.2,
            "count": 0
           },
           {
            "bin_start": 170.2,
            "bin_end": 183.10000000000002,
            "count": 0
           },
           {
            "bin_start": 183.10000000000002,
            "bin_end": 196,
            "count": 2
           }
          ]
         }
        },
        {
         "name": "_deepnote_index_column",
         "dtype": "int64"
        }
       ],
       "rows_top": [
        {
         "names": "Nancy Myers",
         "gender": "female",
         "race/ethnicity": "group B",
         "parental level of education": "associate's degree",
         "lunch": "standard",
         "test preparation course": "completed",
         "math score": 131,
         "reading score": 124,
         "writing score": 193,
         "_deepnote_index_column": 415
        },
        {
         "names": "Crystal Smith",
         "gender": "female",
         "race/ethnicity": "group C",
         "parental level of education": "high school",
         "lunch": "free/reduced",
         "test preparation course": "none",
         "math score": 66,
         "reading score": 76,
         "writing score": 68,
         "_deepnote_index_column": 1281
        },
        {
         "names": "Sharon Rohrs",
         "gender": "female",
         "race/ethnicity": "group C",
         "parental level of education": "associate's degree",
         "lunch": "standard",
         "test preparation course": "completed",
         "math score": 193,
         "reading score": 142,
         "writing score": "nan",
         "_deepnote_index_column": 1119
        },
        {
         "names": "Robert Dickerson",
         "gender": "male",
         "race/ethnicity": "group E",
         "parental level of education": "some college",
         "lunch": "free/reduced",
         "test preparation course": "completed",
         "math score": 49,
         "reading score": 193,
         "writing score": 196,
         "_deepnote_index_column": 1061
        },
        {
         "names": "Joe Cooper",
         "gender": "male",
         "race/ethnicity": "group E",
         "parental level of education": "associate's degree",
         "lunch": "standard",
         "test preparation course": "none",
         "math score": 76,
         "reading score": 71,
         "writing score": 67,
         "_deepnote_index_column": 1235
        }
       ],
       "rows_bottom": null
      },
      "text/plain": "                 names  gender race/ethnicity parental level of education  \\\n415        Nancy Myers  female        group B          associate's degree   \n1281     Crystal Smith  female        group C                 high school   \n1119      Sharon Rohrs  female        group C          associate's degree   \n1061  Robert Dickerson    male        group E                some college   \n1235        Joe Cooper    male        group E          associate's degree   \n\n             lunch test preparation course  math score  reading score  \\\n415       standard               completed       131.0          124.0   \n1281  free/reduced                    none        66.0           76.0   \n1119      standard               completed       193.0          142.0   \n1061  free/reduced               completed        49.0          193.0   \n1235      standard                    none        76.0           71.0   \n\n      writing score  \n415           193.0  \n1281           68.0  \n1119            NaN  \n1061          196.0  \n1235           67.0  ",
      "text/html": "<div>\n<style scoped>\n    .dataframe tbody tr th:only-of-type {\n        vertical-align: middle;\n    }\n\n    .dataframe tbody tr th {\n        vertical-align: top;\n    }\n\n    .dataframe thead th {\n        text-align: right;\n    }\n</style>\n<table border=\"1\" class=\"dataframe\">\n  <thead>\n    <tr style=\"text-align: right;\">\n      <th></th>\n      <th>names</th>\n      <th>gender</th>\n      <th>race/ethnicity</th>\n      <th>parental level of education</th>\n      <th>lunch</th>\n      <th>test preparation course</th>\n      <th>math score</th>\n      <th>reading score</th>\n      <th>writing score</th>\n    </tr>\n  </thead>\n  <tbody>\n    <tr>\n      <th>415</th>\n      <td>Nancy Myers</td>\n      <td>female</td>\n      <td>group B</td>\n      <td>associate's degree</td>\n      <td>standard</td>\n      <td>completed</td>\n      <td>131.0</td>\n      <td>124.0</td>\n      <td>193.0</td>\n    </tr>\n    <tr>\n      <th>1281</th>\n      <td>Crystal Smith</td>\n      <td>female</td>\n      <td>group C</td>\n      <td>high school</td>\n      <td>free/reduced</td>\n      <td>none</td>\n      <td>66.0</td>\n      <td>76.0</td>\n      <td>68.0</td>\n    </tr>\n    <tr>\n      <th>1119</th>\n      <td>Sharon Rohrs</td>\n      <td>female</td>\n      <td>group C</td>\n      <td>associate's degree</td>\n      <td>standard</td>\n      <td>completed</td>\n      <td>193.0</td>\n      <td>142.0</td>\n      <td>NaN</td>\n    </tr>\n    <tr>\n      <th>1061</th>\n      <td>Robert Dickerson</td>\n      <td>male</td>\n      <td>group E</td>\n      <td>some college</td>\n      <td>free/reduced</td>\n      <td>completed</td>\n      <td>49.0</td>\n      <td>193.0</td>\n      <td>196.0</td>\n    </tr>\n    <tr>\n      <th>1235</th>\n      <td>Joe Cooper</td>\n      <td>male</td>\n      <td>group E</td>\n      <td>associate's degree</td>\n      <td>standard</td>\n      <td>none</td>\n      <td>76.0</td>\n      <td>71.0</td>\n      <td>67.0</td>\n    </tr>\n  </tbody>\n</table>\n</div>"
     },
     "metadata": {},
     "output_type": "display_data"
    },
    {
     "data": {
      "application/vnd.deepnote.dataframe.v2+json": {
       "row_count": 8,
       "column_count": 3,
       "columns": [
        {
         "name": "math score",
         "dtype": "float64",
         "stats": {
          "unique_count": 8,
          "nan_count": 0,
          "min": "0.0",
          "max": "1360.0",
          "histogram": [
           {
            "bin_start": 0,
            "bin_end": 136,
            "count": 6
           },
           {
            "bin_start": 136,
            "bin_end": 272,
            "count": 1
           },
           {
            "bin_start": 272,
            "bin_end": 408,
            "count": 0
           },
           {
            "bin_start": 408,
            "bin_end": 544,
            "count": 0
           },
           {
            "bin_start": 544,
            "bin_end": 680,
            "count": 0
           },
           {
            "bin_start": 680,
            "bin_end": 816,
            "count": 0
           },
           {
            "bin_start": 816,
            "bin_end": 952,
            "count": 0
           },
           {
            "bin_start": 952,
            "bin_end": 1088,
            "count": 0
           },
           {
            "bin_start": 1088,
            "bin_end": 1224,
            "count": 0
           },
           {
            "bin_start": 1224,
            "bin_end": 1360,
            "count": 1
           }
          ]
         }
        },
        {
         "name": "reading score",
         "dtype": "float64",
         "stats": {
          "unique_count": 8,
          "nan_count": 0,
          "min": "17.0",
          "max": "1360.0",
          "histogram": [
           {
            "bin_start": 17,
            "bin_end": 151.3,
            "count": 6
           },
           {
            "bin_start": 151.3,
            "bin_end": 285.6,
            "count": 1
           },
           {
            "bin_start": 285.6,
            "bin_end": 419.90000000000003,
            "count": 0
           },
           {
            "bin_start": 419.90000000000003,
            "bin_end": 554.2,
            "count": 0
           },
           {
            "bin_start": 554.2,
            "bin_end": 688.5,
            "count": 0
           },
           {
            "bin_start": 688.5,
            "bin_end": 822.8000000000001,
            "count": 0
           },
           {
            "bin_start": 822.8000000000001,
            "bin_end": 957.1000000000001,
            "count": 0
           },
           {
            "bin_start": 957.1000000000001,
            "bin_end": 1091.4,
            "count": 0
           },
           {
            "bin_start": 1091.4,
            "bin_end": 1225.7,
            "count": 0
           },
           {
            "bin_start": 1225.7,
            "bin_end": 1360,
            "count": 1
           }
          ]
         }
        },
        {
         "name": "writing score",
         "dtype": "float64",
         "stats": {
          "unique_count": 8,
          "nan_count": 0,
          "min": "10.0",
          "max": "1353.0",
          "histogram": [
           {
            "bin_start": 10,
            "bin_end": 144.3,
            "count": 6
           },
           {
            "bin_start": 144.3,
            "bin_end": 278.6,
            "count": 1
           },
           {
            "bin_start": 278.6,
            "bin_end": 412.90000000000003,
            "count": 0
           },
           {
            "bin_start": 412.90000000000003,
            "bin_end": 547.2,
            "count": 0
           },
           {
            "bin_start": 547.2,
            "bin_end": 681.5,
            "count": 0
           },
           {
            "bin_start": 681.5,
            "bin_end": 815.8000000000001,
            "count": 0
           },
           {
            "bin_start": 815.8000000000001,
            "bin_end": 950.1000000000001,
            "count": 0
           },
           {
            "bin_start": 950.1000000000001,
            "bin_end": 1084.4,
            "count": 0
           },
           {
            "bin_start": 1084.4,
            "bin_end": 1218.7,
            "count": 0
           },
           {
            "bin_start": 1218.7,
            "bin_end": 1353,
            "count": 1
           }
          ]
         }
        },
        {
         "name": "_deepnote_index_column",
         "dtype": "object"
        }
       ],
       "rows_top": [
        {
         "math score": 1360,
         "reading score": 1360,
         "writing score": 1353,
         "_deepnote_index_column": "count"
        },
        {
         "math score": 89.53897058823529,
         "reading score": 93.08602941176471,
         "writing score": 91.8529194382853,
         "_deepnote_index_column": "mean"
        },
        {
         "math score": 47.15242247460426,
         "reading score": 46.38577506570869,
         "writing score": 47.04356953025664,
         "_deepnote_index_column": "std"
        },
        {
         "math score": 0,
         "reading score": 17,
         "writing score": 10,
         "_deepnote_index_column": "min"
        },
        {
         "math score": 59,
         "reading score": 63,
         "writing score": 62,
         "_deepnote_index_column": "25%"
        },
        {
         "math score": 72,
         "reading score": 76,
         "writing score": 75,
         "_deepnote_index_column": "50%"
        },
        {
         "math score": 97.25,
         "reading score": 100,
         "writing score": 100,
         "_deepnote_index_column": "75%"
        },
        {
         "math score": 196,
         "reading score": 196,
         "writing score": 196,
         "_deepnote_index_column": "max"
        }
       ],
       "rows_bottom": null
      },
      "text/plain": "        math score  reading score  writing score\ncount  1360.000000    1360.000000    1353.000000\nmean     89.538971      93.086029      91.852919\nstd      47.152422      46.385775      47.043570\nmin       0.000000      17.000000      10.000000\n25%      59.000000      63.000000      62.000000\n50%      72.000000      76.000000      75.000000\n75%      97.250000     100.000000     100.000000\nmax     196.000000     196.000000     196.000000",
      "text/html": "<div>\n<style scoped>\n    .dataframe tbody tr th:only-of-type {\n        vertical-align: middle;\n    }\n\n    .dataframe tbody tr th {\n        vertical-align: top;\n    }\n\n    .dataframe thead th {\n        text-align: right;\n    }\n</style>\n<table border=\"1\" class=\"dataframe\">\n  <thead>\n    <tr style=\"text-align: right;\">\n      <th></th>\n      <th>math score</th>\n      <th>reading score</th>\n      <th>writing score</th>\n    </tr>\n  </thead>\n  <tbody>\n    <tr>\n      <th>count</th>\n      <td>1360.000000</td>\n      <td>1360.000000</td>\n      <td>1353.000000</td>\n    </tr>\n    <tr>\n      <th>mean</th>\n      <td>89.538971</td>\n      <td>93.086029</td>\n      <td>91.852919</td>\n    </tr>\n    <tr>\n      <th>std</th>\n      <td>47.152422</td>\n      <td>46.385775</td>\n      <td>47.043570</td>\n    </tr>\n    <tr>\n      <th>min</th>\n      <td>0.000000</td>\n      <td>17.000000</td>\n      <td>10.000000</td>\n    </tr>\n    <tr>\n      <th>25%</th>\n      <td>59.000000</td>\n      <td>63.000000</td>\n      <td>62.000000</td>\n    </tr>\n    <tr>\n      <th>50%</th>\n      <td>72.000000</td>\n      <td>76.000000</td>\n      <td>75.000000</td>\n    </tr>\n    <tr>\n      <th>75%</th>\n      <td>97.250000</td>\n      <td>100.000000</td>\n      <td>100.000000</td>\n    </tr>\n    <tr>\n      <th>max</th>\n      <td>196.000000</td>\n      <td>196.000000</td>\n      <td>196.000000</td>\n    </tr>\n  </tbody>\n</table>\n</div>"
     },
     "metadata": {},
     "output_type": "display_data"
    },
    {
     "name": "stdout",
     "text": "La cantidad de valores nulos por columna\nnames                           0\ngender                          0\nrace/ethnicity                  0\nparental level of education     0\nlunch                           0\ntest preparation course         0\nmath score                     40\nreading score                  40\nwriting score                  47\ndtype: int64\nTotal de valores nulos en todo el dataframe 127\nLa cantidad de filas únicas es:\nnames                          1153\ngender                            2\nrace/ethnicity                    5\nparental level of education       6\nlunch                             2\ntest preparation course           2\nmath score                       96\nreading score                    88\nwriting score                    92\ndtype: int64\nCantidad de nombres duplicados 247\n",
     "output_type": "stream"
    },
    {
     "data": {
      "application/vnd.deepnote.dataframe.v2+json": {
       "row_count": 247,
       "column_count": 9,
       "columns": [
        {
         "name": "names",
         "dtype": "object",
         "stats": {
          "unique_count": 246,
          "nan_count": 0,
          "categories": [
           {
            "name": "Robert Frazier",
            "count": 2
           },
           {
            "name": "Rita Courtney",
            "count": 1
           },
           {
            "name": "244 others",
            "count": 244
           }
          ]
         }
        },
        {
         "name": "gender",
         "dtype": "object",
         "stats": {
          "unique_count": 2,
          "nan_count": 0,
          "categories": [
           {
            "name": "female",
            "count": 129
           },
           {
            "name": "male",
            "count": 118
           }
          ]
         }
        },
        {
         "name": "race/ethnicity",
         "dtype": "object",
         "stats": {
          "unique_count": 5,
          "nan_count": 0,
          "categories": [
           {
            "name": "group C",
            "count": 85
           },
           {
            "name": "group D",
            "count": 65
           },
           {
            "name": "3 others",
            "count": 97
           }
          ]
         }
        },
        {
         "name": "parental level of education",
         "dtype": "object",
         "stats": {
          "unique_count": 6,
          "nan_count": 0,
          "categories": [
           {
            "name": "some college",
            "count": 66
           },
           {
            "name": "associate's degree",
            "count": 50
           },
           {
            "name": "4 others",
            "count": 131
           }
          ]
         }
        },
        {
         "name": "lunch",
         "dtype": "object",
         "stats": {
          "unique_count": 2,
          "nan_count": 0,
          "categories": [
           {
            "name": "standard",
            "count": 155
           },
           {
            "name": "free/reduced",
            "count": 92
           }
          ]
         }
        },
        {
         "name": "test preparation course",
         "dtype": "object",
         "stats": {
          "unique_count": 2,
          "nan_count": 0,
          "categories": [
           {
            "name": "none",
            "count": 167
           },
           {
            "name": "completed",
            "count": 80
           }
          ]
         }
        },
        {
         "name": "math score",
         "dtype": "float64",
         "stats": {
          "unique_count": 72,
          "nan_count": 14,
          "min": "29.0",
          "max": "196.0",
          "histogram": [
           {
            "bin_start": 29,
            "bin_end": 45.7,
            "count": 20
           },
           {
            "bin_start": 45.7,
            "bin_end": 62.4,
            "count": 54
           },
           {
            "bin_start": 62.4,
            "bin_end": 79.1,
            "count": 39
           },
           {
            "bin_start": 79.1,
            "bin_end": 95.8,
            "count": 25
           },
           {
            "bin_start": 95.8,
            "bin_end": 112.5,
            "count": 2
           },
           {
            "bin_start": 112.5,
            "bin_end": 129.2,
            "count": 16
           },
           {
            "bin_start": 129.2,
            "bin_end": 145.89999999999998,
            "count": 20
           },
           {
            "bin_start": 145.89999999999998,
            "bin_end": 162.6,
            "count": 4
           },
           {
            "bin_start": 162.6,
            "bin_end": 179.29999999999998,
            "count": 3
           },
           {
            "bin_start": 179.29999999999998,
            "bin_end": 196,
            "count": 50
           }
          ]
         }
        },
        {
         "name": "reading score",
         "dtype": "float64",
         "stats": {
          "unique_count": 64,
          "nan_count": 14,
          "min": "26.0",
          "max": "196.0",
          "histogram": [
           {
            "bin_start": 26,
            "bin_end": 43,
            "count": 9
           },
           {
            "bin_start": 43,
            "bin_end": 60,
            "count": 30
           },
           {
            "bin_start": 60,
            "bin_end": 77,
            "count": 51
           },
           {
            "bin_start": 77,
            "bin_end": 94,
            "count": 39
           },
           {
            "bin_start": 94,
            "bin_end": 111,
            "count": 4
           },
           {
            "bin_start": 111,
            "bin_end": 128,
            "count": 8
           },
           {
            "bin_start": 128,
            "bin_end": 145,
            "count": 22
           },
           {
            "bin_start": 145,
            "bin_end": 162,
            "count": 9
           },
           {
            "bin_start": 162,
            "bin_end": 179,
            "count": 5
           },
           {
            "bin_start": 179,
            "bin_end": 196,
            "count": 56
           }
          ]
         }
        },
        {
         "name": "writing score",
         "dtype": "float64",
         "stats": {
          "unique_count": 70,
          "nan_count": 18,
          "min": "22.0",
          "max": "196.0",
          "histogram": [
           {
            "bin_start": 22,
            "bin_end": 39.4,
            "count": 8
           },
           {
            "bin_start": 39.4,
            "bin_end": 56.8,
            "count": 26
           },
           {
            "bin_start": 56.8,
            "bin_end": 74.19999999999999,
            "count": 56
           },
           {
            "bin_start": 74.19999999999999,
            "bin_end": 91.6,
            "count": 34
           },
           {
            "bin_start": 91.6,
            "bin_end": 109,
            "count": 7
           },
           {
            "bin_start": 109,
            "bin_end": 126.39999999999999,
            "count": 18
           },
           {
            "bin_start": 126.39999999999999,
            "bin_end": 143.79999999999998,
            "count": 20
           },
           {
            "bin_start": 143.79999999999998,
            "bin_end": 161.2,
            "count": 4
           },
           {
            "bin_start": 161.2,
            "bin_end": 178.6,
            "count": 2
           },
           {
            "bin_start": 178.6,
            "bin_end": 196,
            "count": 54
           }
          ]
         }
        },
        {
         "name": "_deepnote_index_column",
         "dtype": "int64"
        }
       ],
       "rows_top": [
        {
         "names": "Rita Courtney",
         "gender": "female",
         "race/ethnicity": "group B",
         "parental level of education": "some high school",
         "lunch": "standard",
         "test preparation course": "none",
         "math score": 193,
         "reading score": 193,
         "writing score": 193,
         "_deepnote_index_column": 12
        },
        {
         "names": "Elizabeth Quintero",
         "gender": "female",
         "race/ethnicity": "group B",
         "parental level of education": "some college",
         "lunch": "standard",
         "test preparation course": "none",
         "math score": 82,
         "reading score": 85,
         "writing score": 87,
         "_deepnote_index_column": 81
        },
        {
         "names": "Michelle Gonzales",
         "gender": "female",
         "race/ethnicity": "group B",
         "parental level of education": "some high school",
         "lunch": "standard",
         "test preparation course": "completed",
         "math score": 60,
         "reading score": 70,
         "writing score": 74,
         "_deepnote_index_column": 160
        },
        {
         "names": "Carla Mendoza",
         "gender": "female",
         "race/ethnicity": "group D",
         "parental level of education": "associate's degree",
         "lunch": "free/reduced",
         "test preparation course": "none",
         "math score": 43,
         "reading score": 60,
         "writing score": 58,
         "_deepnote_index_column": 170
        },
        {
         "names": "Darlene Parker",
         "gender": "female",
         "race/ethnicity": "group C",
         "parental level of education": "associate's degree",
         "lunch": "standard",
         "test preparation course": "none",
         "math score": 54,
         "reading score": 61,
         "writing score": 58,
         "_deepnote_index_column": 176
        },
        {
         "names": "Larry Dunn",
         "gender": "male",
         "race/ethnicity": "group C",
         "parental level of education": "some high school",
         "lunch": "standard",
         "test preparation course": "none",
         "math score": 196,
         "reading score": 193,
         "writing score": 124,
         "_deepnote_index_column": 207
        },
        {
         "names": "Donita Hill",
         "gender": "female",
         "race/ethnicity": "group A",
         "parental level of education": "bachelor's degree",
         "lunch": "standard",
         "test preparation course": "none",
         "math score": 196,
         "reading score": 196,
         "writing score": 64,
         "_deepnote_index_column": 215
        },
        {
         "names": "Rodrick Rasch",
         "gender": "male",
         "race/ethnicity": "group E",
         "parental level of education": "some high school",
         "lunch": "standard",
         "test preparation course": "none",
         "math score": 193,
         "reading score": 124,
         "writing score": 142,
         "_deepnote_index_column": 229
        },
        {
         "names": "Eric Acosta",
         "gender": "male",
         "race/ethnicity": "group C",
         "parental level of education": "master's degree",
         "lunch": "free/reduced",
         "test preparation course": "none",
         "math score": 79,
         "reading score": 81,
         "writing score": 71,
         "_deepnote_index_column": 282
        },
        {
         "names": "Ana Rodriguez",
         "gender": "female",
         "race/ethnicity": "group C",
         "parental level of education": "high school",
         "lunch": "standard",
         "test preparation course": "none",
         "math score": 193,
         "reading score": "nan",
         "writing score": "nan",
         "_deepnote_index_column": 287
        },
        {
         "names": "Joel Reed",
         "gender": "male",
         "race/ethnicity": "group D",
         "parental level of education": "some high school",
         "lunch": "standard",
         "test preparation course": "completed",
         "math score": 122,
         "reading score": 193,
         "writing score": 142,
         "_deepnote_index_column": 295
        },
        {
         "names": "Leon Shipley",
         "gender": "male",
         "race/ethnicity": "group B",
         "parental level of education": "some college",
         "lunch": "standard",
         "test preparation course": "completed",
         "math score": 124,
         "reading score": 147,
         "writing score": 193,
         "_deepnote_index_column": 315
        },
        {
         "names": "Frankie Malan",
         "gender": "male",
         "race/ethnicity": "group D",
         "parental level of education": "associate's degree",
         "lunch": "free/reduced",
         "test preparation course": "completed",
         "math score": 79,
         "reading score": 82,
         "writing score": 80,
         "_deepnote_index_column": 317
        },
        {
         "names": "Karen Ogburn",
         "gender": "female",
         "race/ethnicity": "group A",
         "parental level of education": "high school",
         "lunch": "free/reduced",
         "test preparation course": "completed",
         "math score": 124,
         "reading score": 193,
         "writing score": 142,
         "_deepnote_index_column": 320
        },
        {
         "names": "Nancy Bassett",
         "gender": "female",
         "race/ethnicity": "group C",
         "parental level of education": "high school",
         "lunch": "standard",
         "test preparation course": "none",
         "math score": 54,
         "reading score": 59,
         "writing score": 62,
         "_deepnote_index_column": 321
        },
        {
         "names": "Ana Loredo",
         "gender": "female",
         "race/ethnicity": "group E",
         "parental level of education": "master's degree",
         "lunch": "standard",
         "test preparation course": "completed",
         "math score": 131,
         "reading score": 188,
         "writing score": 196,
         "_deepnote_index_column": 325
        },
        {
         "names": "Stanley Schroder",
         "gender": "male",
         "race/ethnicity": "group C",
         "parental level of education": "associate's degree",
         "lunch": "standard",
         "test preparation course": "none",
         "math score": 76,
         "reading score": 70,
         "writing score": 68,
         "_deepnote_index_column": 333
        },
        {
         "names": "Nancy Ramos",
         "gender": "female",
         "race/ethnicity": "group A",
         "parental level of education": "some college",
         "lunch": "standard",
         "test preparation course": "completed",
         "math score": 78,
         "reading score": 87,
         "writing score": 91,
         "_deepnote_index_column": 334
        },
        {
         "names": "Jeff Carlson",
         "gender": "male",
         "race/ethnicity": "group C",
         "parental level of education": "some college",
         "lunch": "standard",
         "test preparation course": "none",
         "math score": 69,
         "reading score": 64,
         "writing score": 68,
         "_deepnote_index_column": 335
        },
        {
         "names": "Robert Frazier",
         "gender": "male",
         "race/ethnicity": "group B",
         "parental level of education": "associate's degree",
         "lunch": "free/reduced",
         "test preparation course": "none",
         "math score": 57,
         "reading score": 56,
         "writing score": 57,
         "_deepnote_index_column": 342
        },
        {
         "names": "Catherine Grenier",
         "gender": "female",
         "race/ethnicity": "group A",
         "parental level of education": "master's degree",
         "lunch": "standard",
         "test preparation course": "none",
         "math score": 50,
         "reading score": 53,
         "writing score": 58,
         "_deepnote_index_column": 352
        },
        {
         "names": "Andrea Mcdavid",
         "gender": "female",
         "race/ethnicity": "group C",
         "parental level of education": "associate's degree",
         "lunch": "standard",
         "test preparation course": "none",
         "math score": 40,
         "reading score": 59,
         "writing score": 51,
         "_deepnote_index_column": 356
        },
        {
         "names": "Richard Garr",
         "gender": "male",
         "race/ethnicity": "group C",
         "parental level of education": "some college",
         "lunch": "standard",
         "test preparation course": "none",
         "math score": 53,
         "reading score": 39,
         "writing score": 37,
         "_deepnote_index_column": 362
        },
        {
         "names": "Howard Jimenez",
         "gender": "male",
         "race/ethnicity": "group E",
         "parental level of education": "some high school",
         "lunch": "standard",
         "test preparation course": "completed",
         "math score": 142,
         "reading score": 142,
         "writing score": 193,
         "_deepnote_index_column": 375
        },
        {
         "names": "Richard Harden",
         "gender": "male",
         "race/ethnicity": "group D",
         "parental level of education": "some college",
         "lunch": "free/reduced",
         "test preparation course": "none",
         "math score": 49,
         "reading score": 196,
         "writing score": 193,
         "_deepnote_index_column": 386
        },
        {
         "names": "George Mooney",
         "gender": "male",
         "race/ethnicity": "group C",
         "parental level of education": "some college",
         "lunch": "standard",
         "test preparation course": "completed",
         "math score": 79,
         "reading score": 79,
         "writing score": 78,
         "_deepnote_index_column": 399
        },
        {
         "names": "Audrey Mcdonald",
         "gender": "female",
         "race/ethnicity": "group D",
         "parental level of education": "some college",
         "lunch": "standard",
         "test preparation course": "none",
         "math score": 124,
         "reading score": 193,
         "writing score": 193,
         "_deepnote_index_column": 403
        },
        {
         "names": "Charles Smith",
         "gender": "male",
         "race/ethnicity": "group D",
         "parental level of education": "some college",
         "lunch": "standard",
         "test preparation course": "none",
         "math score": 124,
         "reading score": 49,
         "writing score": 193,
         "_deepnote_index_column": 406
        },
        {
         "names": "Carolyn Smartt",
         "gender": "female",
         "race/ethnicity": "group B",
         "parental level of education": "associate's degree",
         "lunch": "standard",
         "test preparation course": "completed",
         "math score": 52,
         "reading score": 66,
         "writing score": 73,
         "_deepnote_index_column": 423
        },
        {
         "names": "Julia Nicole",
         "gender": "female",
         "race/ethnicity": "group B",
         "parental level of education": "some high school",
         "lunch": "free/reduced",
         "test preparation course": "completed",
         "math score": 52,
         "reading score": 67,
         "writing score": 72,
         "_deepnote_index_column": 424
        },
        {
         "names": "Charles Kong",
         "gender": "male",
         "race/ethnicity": "group C",
         "parental level of education": "associate's degree",
         "lunch": "standard",
         "test preparation course": "completed",
         "math score": 82,
         "reading score": 75,
         "writing score": 77,
         "_deepnote_index_column": 428
        },
        {
         "names": "Aaron Oakden",
         "gender": "male",
         "race/ethnicity": "group D",
         "parental level of education": "high school",
         "lunch": "free/reduced",
         "test preparation course": "none",
         "math score": "nan",
         "reading score": 193,
         "writing score": 124,
         "_deepnote_index_column": 441
        },
        {
         "names": "Autumn Miller",
         "gender": "female",
         "race/ethnicity": "group D",
         "parental level of education": "high school",
         "lunch": "standard",
         "test preparation course": "none",
         "math score": 196,
         "reading score": "nan",
         "writing score": 193,
         "_deepnote_index_column": 443
        },
        {
         "names": "Tanya Freeman",
         "gender": "female",
         "race/ethnicity": "group C",
         "parental level of education": "associate's degree",
         "lunch": "free/reduced",
         "test preparation course": "none",
         "math score": 57,
         "reading score": 78,
         "writing score": 67,
         "_deepnote_index_column": 473
        },
        {
         "names": "Willie Neff",
         "gender": "female",
         "race/ethnicity": "group E",
         "parental level of education": "associate's degree",
         "lunch": "free/reduced",
         "test preparation course": "none",
         "math score": "nan",
         "reading score": 193,
         "writing score": 142,
         "_deepnote_index_column": 476
        },
        {
         "names": "Emma Gray",
         "gender": "female",
         "race/ethnicity": "group E",
         "parental level of education": "bachelor's degree",
         "lunch": "standard",
         "test preparation course": "completed",
         "math score": 188,
         "reading score": 196,
         "writing score": 196,
         "_deepnote_index_column": 483
        },
        {
         "names": "Kathryn Dale",
         "gender": "female",
         "race/ethnicity": "group B",
         "parental level of education": "some college",
         "lunch": "standard",
         "test preparation course": "none",
         "math score": "nan",
         "reading score": 142,
         "writing score": 142,
         "_deepnote_index_column": 484
        },
        {
         "names": "Milton Chaput",
         "gender": "male",
         "race/ethnicity": "group D",
         "parental level of education": "high school",
         "lunch": "standard",
         "test preparation course": "none",
         "math score": "nan",
         "reading score": "nan",
         "writing score": "nan",
         "_deepnote_index_column": 497
        },
        {
         "names": "Tammy Patterson",
         "gender": "female",
         "race/ethnicity": "group B",
         "parental level of education": "high school",
         "lunch": "standard",
         "test preparation course": "none",
         "math score": 58,
         "reading score": 62,
         "writing score": 59,
         "_deepnote_index_column": 498
        },
        {
         "names": "Audrey Darby",
         "gender": "female",
         "race/ethnicity": "group D",
         "parental level of education": "some high school",
         "lunch": "standard",
         "test preparation course": "completed",
         "math score": "nan",
         "reading score": 142,
         "writing score": 142,
         "_deepnote_index_column": 500
        },
        {
         "names": "Aubrey Thompson",
         "gender": "male",
         "race/ethnicity": "group A",
         "parental level of education": "some college",
         "lunch": "standard",
         "test preparation course": "none",
         "math score": 69,
         "reading score": 67,
         "writing score": 69,
         "_deepnote_index_column": 504
        },
        {
         "names": "Robert Miranda",
         "gender": "male",
         "race/ethnicity": "group C",
         "parental level of education": "high school",
         "lunch": "free/reduced",
         "test preparation course": "none",
         "math score": 124,
         "reading score": 156,
         "writing score": 196,
         "_deepnote_index_column": 511
        },
        {
         "names": "Ned Burke",
         "gender": "male",
         "race/ethnicity": "group E",
         "parental level of education": "some college",
         "lunch": "standard",
         "test preparation course": "none",
         "math score": 84,
         "reading score": 77,
         "writing score": 71,
         "_deepnote_index_column": 515
        },
        {
         "names": "Jonathan Clingan",
         "gender": "male",
         "race/ethnicity": "group D",
         "parental level of education": "some college",
         "lunch": "standard",
         "test preparation course": "completed",
         "math score": 124,
         "reading score": 193,
         "writing score": 124,
         "_deepnote_index_column": 522
        },
        {
         "names": "David Carnagey",
         "gender": "male",
         "race/ethnicity": "group D",
         "parental level of education": "associate's degree",
         "lunch": "standard",
         "test preparation course": "none",
         "math score": 193,
         "reading score": 142,
         "writing score": 124,
         "_deepnote_index_column": 529
        },
        {
         "names": "Andrew Duran",
         "gender": "male",
         "race/ethnicity": "group D",
         "parental level of education": "some college",
         "lunch": "standard",
         "test preparation course": "none",
         "math score": 156,
         "reading score": 196,
         "writing score": 193,
         "_deepnote_index_column": 545
        },
        {
         "names": "Oliver Seldon",
         "gender": "male",
         "race/ethnicity": "group B",
         "parental level of education": "high school",
         "lunch": "standard",
         "test preparation course": "completed",
         "math score": 76,
         "reading score": 62,
         "writing score": 60,
         "_deepnote_index_column": 547
        },
        {
         "names": "James Lydon",
         "gender": "male",
         "race/ethnicity": "group A",
         "parental level of education": "high school",
         "lunch": "standard",
         "test preparation course": "none",
         "math score": 193,
         "reading score": "nan",
         "writing score": "nan",
         "_deepnote_index_column": 550
        },
        {
         "names": "Johnathan Bishop",
         "gender": "male",
         "race/ethnicity": "group D",
         "parental level of education": "bachelor's degree",
         "lunch": "free/reduced",
         "test preparation course": "completed",
         "math score": 39,
         "reading score": 42,
         "writing score": 38,
         "_deepnote_index_column": 558
        },
        {
         "names": "Betty Buntin",
         "gender": "female",
         "race/ethnicity": "group A",
         "parental level of education": "bachelor's degree",
         "lunch": "standard",
         "test preparation course": "none",
         "math score": 196,
         "reading score": 156,
         "writing score": "nan",
         "_deepnote_index_column": 570
        },
        {
         "names": "Tina Willis",
         "gender": "female",
         "race/ethnicity": "group C",
         "parental level of education": "high school",
         "lunch": "free/reduced",
         "test preparation course": "none",
         "math score": 42,
         "reading score": 193,
         "writing score": 142,
         "_deepnote_index_column": 581
        },
        {
         "names": "Nicole Roberts",
         "gender": "female",
         "race/ethnicity": "group C",
         "parental level of education": "some college",
         "lunch": "standard",
         "test preparation course": "completed",
         "math score": 64,
         "reading score": 131,
         "writing score": 193,
         "_deepnote_index_column": 588
        },
        {
         "names": "Odette Carter",
         "gender": "female",
         "race/ethnicity": "group C",
         "parental level of education": "some high school",
         "lunch": "standard",
         "test preparation course": "none",
         "math score": 49,
         "reading score": 63,
         "writing score": 56,
         "_deepnote_index_column": 598
        },
        {
         "names": "Todd Bernard",
         "gender": "male",
         "race/ethnicity": "group C",
         "parental level of education": "high school",
         "lunch": "standard",
         "test preparation course": "completed",
         "math score": 75,
         "reading score": 69,
         "writing score": 68,
         "_deepnote_index_column": 608
        },
        {
         "names": "Richard Taylor",
         "gender": "male",
         "race/ethnicity": "group B",
         "parental level of education": "associate's degree",
         "lunch": "standard",
         "test preparation course": "none",
         "math score": 87,
         "reading score": 85,
         "writing score": 73,
         "_deepnote_index_column": 620
        }
       ],
       "rows_bottom": [
        {
         "names": "Charles Jackson",
         "gender": "male",
         "race/ethnicity": "group E",
         "parental level of education": "some high school",
         "lunch": "standard",
         "test preparation course": "none",
         "math score": 30,
         "reading score": 26,
         "writing score": 22,
         "_deepnote_index_column": 1223
        },
        {
         "names": "William Barich",
         "gender": "male",
         "race/ethnicity": "group A",
         "parental level of education": "bachelor's degree",
         "lunch": "free/reduced",
         "test preparation course": "completed",
         "math score": 49,
         "reading score": 193,
         "writing score": 142,
         "_deepnote_index_column": 1231
        },
        {
         "names": "Joseph Jaco",
         "gender": "male",
         "race/ethnicity": "group B",
         "parental level of education": "some college",
         "lunch": "free/reduced",
         "test preparation course": "none",
         "math score": 40,
         "reading score": 182,
         "writing score": 151,
         "_deepnote_index_column": 1233
        },
        {
         "names": "Joe Cooper",
         "gender": "male",
         "race/ethnicity": "group E",
         "parental level of education": "associate's degree",
         "lunch": "standard",
         "test preparation course": "none",
         "math score": 76,
         "reading score": 71,
         "writing score": 67,
         "_deepnote_index_column": 1235
        },
        {
         "names": "Jacqueline Holton",
         "gender": "female",
         "race/ethnicity": "group C",
         "parental level of education": "high school",
         "lunch": "free/reduced",
         "test preparation course": "completed",
         "math score": 142,
         "reading score": 188,
         "writing score": 147,
         "_deepnote_index_column": 1236
        },
        {
         "names": "Paula Barriere",
         "gender": "female",
         "race/ethnicity": "group D",
         "parental level of education": "bachelor's degree",
         "lunch": "free/reduced",
         "test preparation course": "none",
         "math score": 29,
         "reading score": 142,
         "writing score": "nan",
         "_deepnote_index_column": 1238
        },
        {
         "names": "Scott Mercer",
         "gender": "male",
         "race/ethnicity": "group E",
         "parental level of education": "some college",
         "lunch": "standard",
         "test preparation course": "none",
         "math score": 196,
         "reading score": 196,
         "writing score": 182,
         "_deepnote_index_column": 1239
        },
        {
         "names": "Brian Young",
         "gender": "male",
         "race/ethnicity": "group C",
         "parental level of education": "some high school",
         "lunch": "standard",
         "test preparation course": "none",
         "math score": "nan",
         "reading score": "nan",
         "writing score": "nan",
         "_deepnote_index_column": 1243
        },
        {
         "names": "Sheron Luzar",
         "gender": "female",
         "race/ethnicity": "group B",
         "parental level of education": "some high school",
         "lunch": "free/reduced",
         "test preparation course": "completed",
         "math score": 196,
         "reading score": "nan",
         "writing score": 64,
         "_deepnote_index_column": 1245
        },
        {
         "names": "Carmelia Solis",
         "gender": "female",
         "race/ethnicity": "group B",
         "parental level of education": "associate's degree",
         "lunch": "free/reduced",
         "test preparation course": "none",
         "math score": 53,
         "reading score": 71,
         "writing score": 67,
         "_deepnote_index_column": 1247
        },
        {
         "names": "Dale Sylvain",
         "gender": "male",
         "race/ethnicity": "group D",
         "parental level of education": "some college",
         "lunch": "free/reduced",
         "test preparation course": "none",
         "math score": "nan",
         "reading score": 193,
         "writing score": 142,
         "_deepnote_index_column": 1248
        },
        {
         "names": "Kathryn Neville",
         "gender": "female",
         "race/ethnicity": "group C",
         "parental level of education": "some college",
         "lunch": "standard",
         "test preparation course": "none",
         "math score": 55,
         "reading score": 69,
         "writing score": 65,
         "_deepnote_index_column": 1251
        },
        {
         "names": "Joshua Davis",
         "gender": "male",
         "race/ethnicity": "group C",
         "parental level of education": "some college",
         "lunch": "free/reduced",
         "test preparation course": "none",
         "math score": 193,
         "reading score": 193,
         "writing score": 193,
         "_deepnote_index_column": 1257
        },
        {
         "names": "Maxine Gulbranson",
         "gender": "female",
         "race/ethnicity": "group D",
         "parental level of education": "some high school",
         "lunch": "free/reduced",
         "test preparation course": "none",
         "math score": 48,
         "reading score": 54,
         "writing score": 53,
         "_deepnote_index_column": 1259
        },
        {
         "names": "Leona Markow",
         "gender": "female",
         "race/ethnicity": "group A",
         "parental level of education": "some college",
         "lunch": "standard",
         "test preparation course": "none",
         "math score": 56,
         "reading score": 58,
         "writing score": 64,
         "_deepnote_index_column": 1260
        },
        {
         "names": "Bobby Lloyd",
         "gender": "male",
         "race/ethnicity": "group C",
         "parental level of education": "some college",
         "lunch": "standard",
         "test preparation course": "none",
         "math score": 58,
         "reading score": 49,
         "writing score": 42,
         "_deepnote_index_column": 1264
        },
        {
         "names": "Sofia Williams",
         "gender": "female",
         "race/ethnicity": "group C",
         "parental level of education": "some college",
         "lunch": "free/reduced",
         "test preparation course": "none",
         "math score": 32,
         "reading score": 39,
         "writing score": 33,
         "_deepnote_index_column": 1265
        },
        {
         "names": "Norman Reed",
         "gender": "male",
         "race/ethnicity": "group E",
         "parental level of education": "some college",
         "lunch": "standard",
         "test preparation course": "none",
         "math score": 193,
         "reading score": 193,
         "writing score": 193,
         "_deepnote_index_column": 1269
        },
        {
         "names": "Mary Levy",
         "gender": "female",
         "race/ethnicity": "group D",
         "parental level of education": "some college",
         "lunch": "free/reduced",
         "test preparation course": "none",
         "math score": 142,
         "reading score": "nan",
         "writing score": "nan",
         "_deepnote_index_column": 1271
        },
        {
         "names": "Matthew Freeman",
         "gender": "male",
         "race/ethnicity": "group B",
         "parental level of education": "high school",
         "lunch": "standard",
         "test preparation course": "completed",
         "math score": 193,
         "reading score": 49,
         "writing score": 193,
         "_deepnote_index_column": 1279
        },
        {
         "names": "Nicole Obrien",
         "gender": "female",
         "race/ethnicity": "group B",
         "parental level of education": "bachelor's degree",
         "lunch": "free/reduced",
         "test preparation course": "none",
         "math score": 193,
         "reading score": 124,
         "writing score": 124,
         "_deepnote_index_column": 1283
        },
        {
         "names": "Harvey Pribbenow",
         "gender": "male",
         "race/ethnicity": "group D",
         "parental level of education": "bachelor's degree",
         "lunch": "free/reduced",
         "test preparation course": "none",
         "math score": 174,
         "reading score": 193,
         "writing score": 193,
         "_deepnote_index_column": 1285
        },
        {
         "names": "Anna Johnson",
         "gender": "female",
         "race/ethnicity": "group B",
         "parental level of education": "high school",
         "lunch": "free/reduced",
         "test preparation course": "none",
         "math score": 60,
         "reading score": 72,
         "writing score": 68,
         "_deepnote_index_column": 1289
        },
        {
         "names": "Jason Keck",
         "gender": "male",
         "race/ethnicity": "group A",
         "parental level of education": "some college",
         "lunch": "free/reduced",
         "test preparation course": "completed",
         "math score": 81,
         "reading score": 78,
         "writing score": 81,
         "_deepnote_index_column": 1290
        },
        {
         "names": "Bonnie Rodriguez",
         "gender": "female",
         "race/ethnicity": "group E",
         "parental level of education": "high school",
         "lunch": "standard",
         "test preparation course": "completed",
         "math score": 74,
         "reading score": 79,
         "writing score": 80,
         "_deepnote_index_column": 1291
        },
        {
         "names": "Oscar Markow",
         "gender": "male",
         "race/ethnicity": "group C",
         "parental level of education": "some high school",
         "lunch": "free/reduced",
         "test preparation course": "completed",
         "math score": 196,
         "reading score": 142,
         "writing score": 124,
         "_deepnote_index_column": 1292
        },
        {
         "names": "Tom Sastre",
         "gender": "male",
         "race/ethnicity": "group B",
         "parental level of education": "high school",
         "lunch": "standard",
         "test preparation course": "none",
         "math score": 47,
         "reading score": 46,
         "writing score": 42,
         "_deepnote_index_column": 1295
        },
        {
         "names": "Shane Polite",
         "gender": "male",
         "race/ethnicity": "group C",
         "parental level of education": "master's degree",
         "lunch": "free/reduced",
         "test preparation course": "completed",
         "math score": 79,
         "reading score": 77,
         "writing score": 75,
         "_deepnote_index_column": 1296
        },
        {
         "names": "Ashley Mcray",
         "gender": "female",
         "race/ethnicity": "group B",
         "parental level of education": "associate's degree",
         "lunch": "standard",
         "test preparation course": "none",
         "math score": 82,
         "reading score": 80,
         "writing score": 77,
         "_deepnote_index_column": 1297
        },
        {
         "names": "Kelle Lanterman",
         "gender": "female",
         "race/ethnicity": "group E",
         "parental level of education": "high school",
         "lunch": "free/reduced",
         "test preparation course": "none",
         "math score": 41,
         "reading score": 45,
         "writing score": 40,
         "_deepnote_index_column": 1300
        },
        {
         "names": "Sheila Friel",
         "gender": "female",
         "race/ethnicity": "group D",
         "parental level of education": "some college",
         "lunch": "free/reduced",
         "test preparation course": "none",
         "math score": 49,
         "reading score": 58,
         "writing score": 60,
         "_deepnote_index_column": 1301
        },
        {
         "names": "Dolores Reddy",
         "gender": "female",
         "race/ethnicity": "group D",
         "parental level of education": "bachelor's degree",
         "lunch": "standard",
         "test preparation course": "none",
         "math score": 59,
         "reading score": 70,
         "writing score": 73,
         "_deepnote_index_column": 1304
        },
        {
         "names": "Raymond Wiggins",
         "gender": "male",
         "race/ethnicity": "group C",
         "parental level of education": "associate's degree",
         "lunch": "free/reduced",
         "test preparation course": "none",
         "math score": 193,
         "reading score": 174,
         "writing score": 124,
         "_deepnote_index_column": 1306
        },
        {
         "names": "Jacqueline Mayrant",
         "gender": "female",
         "race/ethnicity": "group E",
         "parental level of education": "some high school",
         "lunch": "free/reduced",
         "test preparation course": "none",
         "math score": 156,
         "reading score": 188,
         "writing score": 193,
         "_deepnote_index_column": 1313
        },
        {
         "names": "Edward Lee",
         "gender": "male",
         "race/ethnicity": "group D",
         "parental level of education": "some high school",
         "lunch": "standard",
         "test preparation course": "completed",
         "math score": 193,
         "reading score": 122,
         "writing score": 131,
         "_deepnote_index_column": 1316
        },
        {
         "names": "Cleo Jefferson",
         "gender": "female",
         "race/ethnicity": "group D",
         "parental level of education": "master's degree",
         "lunch": "standard",
         "test preparation course": "none",
         "math score": 87,
         "reading score": 100,
         "writing score": 100,
         "_deepnote_index_column": 1322
        },
        {
         "names": "Connie Banda",
         "gender": "female",
         "race/ethnicity": "group C",
         "parental level of education": "some college",
         "lunch": "standard",
         "test preparation course": "completed",
         "math score": 88,
         "reading score": 93,
         "writing score": 93,
         "_deepnote_index_column": 1329
        },
        {
         "names": "Jeane Budds",
         "gender": "female",
         "race/ethnicity": "group D",
         "parental level of education": "some college",
         "lunch": "standard",
         "test preparation course": "none",
         "math score": 62,
         "reading score": 70,
         "writing score": 72,
         "_deepnote_index_column": 1336
        },
        {
         "names": "Scott Price",
         "gender": "male",
         "race/ethnicity": "group C",
         "parental level of education": "some college",
         "lunch": "free/reduced",
         "test preparation course": "none",
         "math score": 63,
         "reading score": 61,
         "writing score": 54,
         "_deepnote_index_column": 1337
        },
        {
         "names": "James Daniel",
         "gender": "male",
         "race/ethnicity": "group C",
         "parental level of education": "associate's degree",
         "lunch": "standard",
         "test preparation course": "none",
         "math score": 84,
         "reading score": 80,
         "writing score": 80,
         "_deepnote_index_column": 1338
        },
        {
         "names": "Richard Henry",
         "gender": "male",
         "race/ethnicity": "group D",
         "parental level of education": "associate's degree",
         "lunch": "standard",
         "test preparation course": "none",
         "math score": 193,
         "reading score": 174,
         "writing score": 193,
         "_deepnote_index_column": 1339
        },
        {
         "names": "Derrick Crasco",
         "gender": "male",
         "race/ethnicity": "group B",
         "parental level of education": "associate's degree",
         "lunch": "free/reduced",
         "test preparation course": "completed",
         "math score": 131,
         "reading score": 142,
         "writing score": 193,
         "_deepnote_index_column": 1340
        },
        {
         "names": "Sara Kochan",
         "gender": "female",
         "race/ethnicity": "group D",
         "parental level of education": "bachelor's degree",
         "lunch": "standard",
         "test preparation course": "none",
         "math score": 188,
         "reading score": 193,
         "writing score": 193,
         "_deepnote_index_column": 1345
        },
        {
         "names": "Bambi Dyer",
         "gender": "female",
         "race/ethnicity": "group D",
         "parental level of education": "associate's degree",
         "lunch": "free/reduced",
         "test preparation course": "none",
         "math score": 193,
         "reading score": 196,
         "writing score": 142,
         "_deepnote_index_column": 1346
        },
        {
         "names": "Carolyn Greer",
         "gender": "female",
         "race/ethnicity": "group D",
         "parental level of education": "some college",
         "lunch": "standard",
         "test preparation course": "none",
         "math score": 79,
         "reading score": 86,
         "writing score": 81,
         "_deepnote_index_column": 1348
        },
        {
         "names": "Kari Mitchell",
         "gender": "female",
         "race/ethnicity": "group D",
         "parental level of education": "some college",
         "lunch": "free/reduced",
         "test preparation course": "none",
         "math score": 193,
         "reading score": 193,
         "writing score": 193,
         "_deepnote_index_column": 1350
        },
        {
         "names": "Zachary Glenn",
         "gender": "male",
         "race/ethnicity": "group E",
         "parental level of education": "some college",
         "lunch": "standard",
         "test preparation course": "completed",
         "math score": 99,
         "reading score": 87,
         "writing score": 81,
         "_deepnote_index_column": 1355
        },
        {
         "names": "Frank Shaffer",
         "gender": "male",
         "race/ethnicity": "group A",
         "parental level of education": "bachelor's degree",
         "lunch": "standard",
         "test preparation course": "none",
         "math score": 91,
         "reading score": 96,
         "writing score": 92,
         "_deepnote_index_column": 1360
        },
        {
         "names": "Tammi Aline",
         "gender": "female",
         "race/ethnicity": "group E",
         "parental level of education": "associate's degree",
         "lunch": "standard",
         "test preparation course": "completed",
         "math score": 95,
         "reading score": 89,
         "writing score": 92,
         "_deepnote_index_column": 1364
        },
        {
         "names": "Shawn Lopez",
         "gender": "male",
         "race/ethnicity": "group D",
         "parental level of education": "some college",
         "lunch": "standard",
         "test preparation course": "completed",
         "math score": 193,
         "reading score": 196,
         "writing score": 193,
         "_deepnote_index_column": 1369
        },
        {
         "names": "Logan Camp",
         "gender": "male",
         "race/ethnicity": "group C",
         "parental level of education": "associate's degree",
         "lunch": "free/reduced",
         "test preparation course": "none",
         "math score": 193,
         "reading score": 124,
         "writing score": 193,
         "_deepnote_index_column": 1378
        },
        {
         "names": "James Crawford",
         "gender": "male",
         "race/ethnicity": "group D",
         "parental level of education": "master's degree",
         "lunch": "standard",
         "test preparation course": "none",
         "math score": 193,
         "reading score": 147,
         "writing score": 131,
         "_deepnote_index_column": 1385
        },
        {
         "names": "Gloria Bradford",
         "gender": "female",
         "race/ethnicity": "group B",
         "parental level of education": "high school",
         "lunch": "standard",
         "test preparation course": "none",
         "math score": 124,
         "reading score": 64,
         "writing score": 193,
         "_deepnote_index_column": 1390
        },
        {
         "names": "Adam Romero",
         "gender": "male",
         "race/ethnicity": "group C",
         "parental level of education": "high school",
         "lunch": "standard",
         "test preparation course": "completed",
         "math score": 124,
         "reading score": 193,
         "writing score": 49,
         "_deepnote_index_column": 1393
        },
        {
         "names": "Alexander Dillon",
         "gender": "male",
         "race/ethnicity": "group D",
         "parental level of education": "associate's degree",
         "lunch": "standard",
         "test preparation course": "none",
         "math score": 193,
         "reading score": 142,
         "writing score": 193,
         "_deepnote_index_column": 1395
        },
        {
         "names": "Joseph Mccoy",
         "gender": "male",
         "race/ethnicity": "group D",
         "parental level of education": "some college",
         "lunch": "free/reduced",
         "test preparation course": "none",
         "math score": 193,
         "reading score": 196,
         "writing score": 193,
         "_deepnote_index_column": 1398
        }
       ]
      },
      "text/plain": "                   names  gender race/ethnicity parental level of education  \\\n12         Rita Courtney  female        group B            some high school   \n81    Elizabeth Quintero  female        group B                some college   \n160    Michelle Gonzales  female        group B            some high school   \n170        Carla Mendoza  female        group D          associate's degree   \n176       Darlene Parker  female        group C          associate's degree   \n...                  ...     ...            ...                         ...   \n1385      James Crawford    male        group D             master's degree   \n1390     Gloria Bradford  female        group B                 high school   \n1393         Adam Romero    male        group C                 high school   \n1395    Alexander Dillon    male        group D          associate's degree   \n1398        Joseph Mccoy    male        group D                some college   \n\n             lunch test preparation course  math score  reading score  \\\n12        standard                    none       193.0          193.0   \n81        standard                    none        82.0           85.0   \n160       standard               completed        60.0           70.0   \n170   free/reduced                    none        43.0           60.0   \n176       standard                    none        54.0           61.0   \n...            ...                     ...         ...            ...   \n1385      standard                    none       193.0          147.0   \n1390      standard                    none       124.0           64.0   \n1393      standard               completed       124.0          193.0   \n1395      standard                    none       193.0          142.0   \n1398  free/reduced                    none       193.0          196.0   \n\n      writing score  \n12            193.0  \n81             87.0  \n160            74.0  \n170            58.0  \n176            58.0  \n...             ...  \n1385          131.0  \n1390          193.0  \n1393           49.0  \n1395          193.0  \n1398          193.0  \n\n[247 rows x 9 columns]",
      "text/html": "<div>\n<style scoped>\n    .dataframe tbody tr th:only-of-type {\n        vertical-align: middle;\n    }\n\n    .dataframe tbody tr th {\n        vertical-align: top;\n    }\n\n    .dataframe thead th {\n        text-align: right;\n    }\n</style>\n<table border=\"1\" class=\"dataframe\">\n  <thead>\n    <tr style=\"text-align: right;\">\n      <th></th>\n      <th>names</th>\n      <th>gender</th>\n      <th>race/ethnicity</th>\n      <th>parental level of education</th>\n      <th>lunch</th>\n      <th>test preparation course</th>\n      <th>math score</th>\n      <th>reading score</th>\n      <th>writing score</th>\n    </tr>\n  </thead>\n  <tbody>\n    <tr>\n      <th>12</th>\n      <td>Rita Courtney</td>\n      <td>female</td>\n      <td>group B</td>\n      <td>some high school</td>\n      <td>standard</td>\n      <td>none</td>\n      <td>193.0</td>\n      <td>193.0</td>\n      <td>193.0</td>\n    </tr>\n    <tr>\n      <th>81</th>\n      <td>Elizabeth Quintero</td>\n      <td>female</td>\n      <td>group B</td>\n      <td>some college</td>\n      <td>standard</td>\n      <td>none</td>\n      <td>82.0</td>\n      <td>85.0</td>\n      <td>87.0</td>\n    </tr>\n    <tr>\n      <th>160</th>\n      <td>Michelle Gonzales</td>\n      <td>female</td>\n      <td>group B</td>\n      <td>some high school</td>\n      <td>standard</td>\n      <td>completed</td>\n      <td>60.0</td>\n      <td>70.0</td>\n      <td>74.0</td>\n    </tr>\n    <tr>\n      <th>170</th>\n      <td>Carla Mendoza</td>\n      <td>female</td>\n      <td>group D</td>\n      <td>associate's degree</td>\n      <td>free/reduced</td>\n      <td>none</td>\n      <td>43.0</td>\n      <td>60.0</td>\n      <td>58.0</td>\n    </tr>\n    <tr>\n      <th>176</th>\n      <td>Darlene Parker</td>\n      <td>female</td>\n      <td>group C</td>\n      <td>associate's degree</td>\n      <td>standard</td>\n      <td>none</td>\n      <td>54.0</td>\n      <td>61.0</td>\n      <td>58.0</td>\n    </tr>\n    <tr>\n      <th>...</th>\n      <td>...</td>\n      <td>...</td>\n      <td>...</td>\n      <td>...</td>\n      <td>...</td>\n      <td>...</td>\n      <td>...</td>\n      <td>...</td>\n      <td>...</td>\n    </tr>\n    <tr>\n      <th>1385</th>\n      <td>James Crawford</td>\n      <td>male</td>\n      <td>group D</td>\n      <td>master's degree</td>\n      <td>standard</td>\n      <td>none</td>\n      <td>193.0</td>\n      <td>147.0</td>\n      <td>131.0</td>\n    </tr>\n    <tr>\n      <th>1390</th>\n      <td>Gloria Bradford</td>\n      <td>female</td>\n      <td>group B</td>\n      <td>high school</td>\n      <td>standard</td>\n      <td>none</td>\n      <td>124.0</td>\n      <td>64.0</td>\n      <td>193.0</td>\n    </tr>\n    <tr>\n      <th>1393</th>\n      <td>Adam Romero</td>\n      <td>male</td>\n      <td>group C</td>\n      <td>high school</td>\n      <td>standard</td>\n      <td>completed</td>\n      <td>124.0</td>\n      <td>193.0</td>\n      <td>49.0</td>\n    </tr>\n    <tr>\n      <th>1395</th>\n      <td>Alexander Dillon</td>\n      <td>male</td>\n      <td>group D</td>\n      <td>associate's degree</td>\n      <td>standard</td>\n      <td>none</td>\n      <td>193.0</td>\n      <td>142.0</td>\n      <td>193.0</td>\n    </tr>\n    <tr>\n      <th>1398</th>\n      <td>Joseph Mccoy</td>\n      <td>male</td>\n      <td>group D</td>\n      <td>some college</td>\n      <td>free/reduced</td>\n      <td>none</td>\n      <td>193.0</td>\n      <td>196.0</td>\n      <td>193.0</td>\n    </tr>\n  </tbody>\n</table>\n<p>247 rows × 9 columns</p>\n</div>"
     },
     "metadata": {},
     "output_type": "display_data"
    },
    {
     "data": {
      "text/plain": "<Figure size 432x288 with 1 Axes>",
      "image/png": "[encoded data removed]"
     },
     "metadata": {
      "needs_background": "light",
      "image/png": {
       "width": 375,
       "height": 248
      }
     },
     "output_type": "display_data"
    }
   ]
  },
  {
   "cell_type": "markdown",
   "source": "## 1.2 Limpieza de Datos [1 punto]\n\n<p align=\"center\">\n  <img src=\"https://media3.giphy.com/media/c09yGbnSyaFRS/giphy.gif?cid=ecf05e47d0ejjjnpfj0ywcbwz7zk7sw2rfdpis890gmdpvj2&rid=giphy.gif&ct=g\">\n</p>\n",
   "metadata": {
    "id": "YJfqPXFZjQiA",
    "cell_id": "00023-ff3bb417-54d5-425c-9dfc-d6bb2115277e",
    "deepnote_cell_type": "markdown"
   }
  },
  {
   "cell_type": "markdown",
   "source": "En base a lo realizado anteriormente, realice una limpieza de los dataset. Asuma los supuestos señalados en la pregunta anterior para limpiar el `DataFrame` y cree una función que le permita limpiar los datos. Una vez limpiado cada uno de los `DataFrames` compruebe nuevamente los datos con la función creada en la sección 1.1.\n\n**To-Do:**\n\n- [ ] Crear función que permita limpiar el dataset.\n- [ ] Comprobar que no existen anomalías en los datos a traves de la función de la sección 1.1.\n\n**Hint**\n\nPuede ser útil los métodos ```.drop_duplicates()``` y ```.dropna()``` como también utilizar queries con máscaras booleanas.\n",
   "metadata": {
    "id": "syO5lHKvv6Wt",
    "cell_id": "00024-a0d43035-41b5-4b1c-99c6-f93dc8847789",
    "deepnote_cell_type": "markdown"
   }
  },
  {
   "cell_type": "markdown",
   "source": "**Respuesta:**",
   "metadata": {
    "tags": [],
    "cell_id": "00025-7728a191-b359-4030-ac04-3b7d9070c53d",
    "deepnote_cell_type": "markdown"
   }
  },
  {
   "cell_type": "code",
   "metadata": {
    "tags": [],
    "cell_id": "00031-c8ac3110-1db2-4926-8293-6f33a2abaf56",
    "deepnote_to_be_reexecuted": false,
    "source_hash": "36a70237",
    "execution_start": 1633016525999,
    "execution_millis": 5,
    "deepnote_cell_type": "code"
   },
   "source": "def clean_data(dataframe):\n    dataframe = dataframe.drop_duplicates(subset = ['names'], keep='first')\n    dataframe = dataframe.dropna()\n    droped = dataframe[(dataframe['math score']>100) | (dataframe['reading score']>100) | (dataframe['writing score']>100)]\n    dataframe = dataframe.drop(droped.index)\n    return dataframe",
   "execution_count": null,
   "outputs": []
  },
  {
   "cell_type": "code",
   "metadata": {
    "colab": {
     "base_uri": "https://localhost:8080/",
     "height": 419
    },
    "id": "Vl6MkQYHhXao",
    "executionInfo": {
     "status": "ok",
     "timestamp": 1619205960363,
     "user_tz": 240,
     "elapsed": 571,
     "user": {
      "displayName": "IGNACIO ALEJANDRO MEZA",
      "photoUrl": "",
      "userId": "17011121633069169364"
     }
    },
    "outputId": "f070312b-113e-4e31-f676-3ed33e06ef91",
    "deepnote_to_be_reexecuted": false,
    "source_hash": "2065ee99",
    "execution_start": 1633016526007,
    "execution_millis": 523,
    "cell_id": "00027-afa227d9-32aa-49eb-9ae8-7c2fb625253a",
    "deepnote_cell_type": "code"
   },
   "source": "df_grades = clean_data(df_grades)\nexploratory_data_analysis(df_grades)\n\n\n",
   "execution_count": null,
   "outputs": [
    {
     "name": "stdout",
     "text": "Las dimensiones del dataset son: (875, 9)\nLas columnas tienen los siguientes nombres: names, gender, race/ethnicity, parental level of education, lunch, test preparation course, math score, reading score, writing score\n",
     "output_type": "stream"
    },
    {
     "data": {
      "application/vnd.deepnote.dataframe.v2+json": {
       "row_count": 5,
       "column_count": 9,
       "columns": [
        {
         "name": "names",
         "dtype": "object",
         "stats": {
          "unique_count": 5,
          "nan_count": 0,
          "categories": [
           {
            "name": "Rita Courtney",
            "count": 1
           },
           {
            "name": "Charles Linstrom",
            "count": 1
           },
           {
            "name": "3 others",
            "count": 3
           }
          ]
         }
        },
        {
         "name": "gender",
         "dtype": "object",
         "stats": {
          "unique_count": 2,
          "nan_count": 0,
          "categories": [
           {
            "name": "male",
            "count": 4
           },
           {
            "name": "female",
            "count": 1
           }
          ]
         }
        },
        {
         "name": "race/ethnicity",
         "dtype": "object",
         "stats": {
          "unique_count": 4,
          "nan_count": 0,
          "categories": [
           {
            "name": "group B",
            "count": 2
           },
           {
            "name": "group A",
            "count": 1
           },
           {
            "name": "2 others",
            "count": 2
           }
          ]
         }
        },
        {
         "name": "parental level of education",
         "dtype": "object",
         "stats": {
          "unique_count": 2,
          "nan_count": 0,
          "categories": [
           {
            "name": "some high school",
            "count": 4
           },
           {
            "name": "bachelor's degree",
            "count": 1
           }
          ]
         }
        },
        {
         "name": "lunch",
         "dtype": "object",
         "stats": {
          "unique_count": 1,
          "nan_count": 0,
          "categories": [
           {
            "name": "standard",
            "count": 5
           }
          ]
         }
        },
        {
         "name": "test preparation course",
         "dtype": "object",
         "stats": {
          "unique_count": 2,
          "nan_count": 0,
          "categories": [
           {
            "name": "completed",
            "count": 3
           },
           {
            "name": "none",
            "count": 2
           }
          ]
         }
        },
        {
         "name": "math score",
         "dtype": "float64",
         "stats": {
          "unique_count": 5,
          "nan_count": 0,
          "min": "37.0",
          "max": "94.0",
          "histogram": [
           {
            "bin_start": 37,
            "bin_end": 42.7,
            "count": 1
           },
           {
            "bin_start": 42.7,
            "bin_end": 48.4,
            "count": 0
           },
           {
            "bin_start": 48.4,
            "bin_end": 54.1,
            "count": 0
           },
           {
            "bin_start": 54.1,
            "bin_end": 59.8,
            "count": 0
           },
           {
            "bin_start": 59.8,
            "bin_end": 65.5,
            "count": 0
           },
           {
            "bin_start": 65.5,
            "bin_end": 71.2,
            "count": 0
           },
           {
            "bin_start": 71.2,
            "bin_end": 76.9,
            "count": 1
           },
           {
            "bin_start": 76.9,
            "bin_end": 82.6,
            "count": 2
           },
           {
            "bin_start": 82.6,
            "bin_end": 88.30000000000001,
            "count": 0
           },
           {
            "bin_start": 88.30000000000001,
            "bin_end": 94,
            "count": 1
           }
          ]
         }
        },
        {
         "name": "reading score",
         "dtype": "float64",
         "stats": {
          "unique_count": 5,
          "nan_count": 0,
          "min": "46.0",
          "max": "86.0",
          "histogram": [
           {
            "bin_start": 46,
            "bin_end": 50,
            "count": 1
           },
           {
            "bin_start": 50,
            "bin_end": 54,
            "count": 0
           },
           {
            "bin_start": 54,
            "bin_end": 58,
            "count": 0
           },
           {
            "bin_start": 58,
            "bin_end": 62,
            "count": 0
           },
           {
            "bin_start": 62,
            "bin_end": 66,
            "count": 0
           },
           {
            "bin_start": 66,
            "bin_end": 70,
            "count": 1
           },
           {
            "bin_start": 70,
            "bin_end": 74,
            "count": 0
           },
           {
            "bin_start": 74,
            "bin_end": 78,
            "count": 1
           },
           {
            "bin_start": 78,
            "bin_end": 82,
            "count": 1
           },
           {
            "bin_start": 82,
            "bin_end": 86,
            "count": 1
           }
          ]
         }
        },
        {
         "name": "writing score",
         "dtype": "float64",
         "stats": {
          "unique_count": 5,
          "nan_count": 0,
          "min": "46.0",
          "max": "87.0",
          "histogram": [
           {
            "bin_start": 46,
            "bin_end": 50.1,
            "count": 1
           },
           {
            "bin_start": 50.1,
            "bin_end": 54.2,
            "count": 0
           },
           {
            "bin_start": 54.2,
            "bin_end": 58.3,
            "count": 0
           },
           {
            "bin_start": 58.3,
            "bin_end": 62.4,
            "count": 0
           },
           {
            "bin_start": 62.4,
            "bin_end": 66.5,
            "count": 1
           },
           {
            "bin_start": 66.5,
            "bin_end": 70.6,
            "count": 0
           },
           {
            "bin_start": 70.6,
            "bin_end": 74.69999999999999,
            "count": 0
           },
           {
            "bin_start": 74.69999999999999,
            "bin_end": 78.8,
            "count": 1
           },
           {
            "bin_start": 78.8,
            "bin_end": 82.9,
            "count": 1
           },
           {
            "bin_start": 82.9,
            "bin_end": 87,
            "count": 1
           }
          ]
         }
        },
        {
         "name": "_deepnote_index_column",
         "dtype": "int64"
        }
       ],
       "rows_top": [
        {
         "names": "Rita Courtney",
         "gender": "female",
         "race/ethnicity": "group B",
         "parental level of education": "some high school",
         "lunch": "standard",
         "test preparation course": "none",
         "math score": 37,
         "reading score": 46,
         "writing score": 46,
         "_deepnote_index_column": 0
        },
        {
         "names": "Charles Linstrom",
         "gender": "male",
         "race/ethnicity": "group A",
         "parental level of education": "bachelor's degree",
         "lunch": "standard",
         "test preparation course": "completed",
         "math score": 80,
         "reading score": 78,
         "writing score": 81,
         "_deepnote_index_column": 3
        },
        {
         "names": "Brian Young",
         "gender": "male",
         "race/ethnicity": "group C",
         "parental level of education": "some high school",
         "lunch": "standard",
         "test preparation course": "none",
         "math score": 73,
         "reading score": 66,
         "writing score": 63,
         "_deepnote_index_column": 5
        },
        {
         "names": "Howard Jimenez",
         "gender": "male",
         "race/ethnicity": "group E",
         "parental level of education": "some high school",
         "lunch": "standard",
         "test preparation course": "completed",
         "math score": 81,
         "reading score": 75,
         "writing score": 76,
         "_deepnote_index_column": 6
        },
        {
         "names": "Wayne Wilson",
         "gender": "male",
         "race/ethnicity": "group B",
         "parental level of education": "some high school",
         "lunch": "standard",
         "test preparation course": "completed",
         "math score": 94,
         "reading score": 86,
         "writing score": 87,
         "_deepnote_index_column": 7
        }
       ],
       "rows_bottom": null
      },
      "text/plain": "              names  gender race/ethnicity parental level of education  \\\n0     Rita Courtney  female        group B            some high school   \n3  Charles Linstrom    male        group A           bachelor's degree   \n5       Brian Young    male        group C            some high school   \n6    Howard Jimenez    male        group E            some high school   \n7      Wayne Wilson    male        group B            some high school   \n\n      lunch test preparation course  math score  reading score  writing score  \n0  standard                    none        37.0           46.0           46.0  \n3  standard               completed        80.0           78.0           81.0  \n5  standard                    none        73.0           66.0           63.0  \n6  standard               completed        81.0           75.0           76.0  \n7  standard               completed        94.0           86.0           87.0  ",
      "text/html": "<div>\n<style scoped>\n    .dataframe tbody tr th:only-of-type {\n        vertical-align: middle;\n    }\n\n    .dataframe tbody tr th {\n        vertical-align: top;\n    }\n\n    .dataframe thead th {\n        text-align: right;\n    }\n</style>\n<table border=\"1\" class=\"dataframe\">\n  <thead>\n    <tr style=\"text-align: right;\">\n      <th></th>\n      <th>names</th>\n      <th>gender</th>\n      <th>race/ethnicity</th>\n      <th>parental level of education</th>\n      <th>lunch</th>\n      <th>test preparation course</th>\n      <th>math score</th>\n      <th>reading score</th>\n      <th>writing score</th>\n    </tr>\n  </thead>\n  <tbody>\n    <tr>\n      <th>0</th>\n      <td>Rita Courtney</td>\n      <td>female</td>\n      <td>group B</td>\n      <td>some high school</td>\n      <td>standard</td>\n      <td>none</td>\n      <td>37.0</td>\n      <td>46.0</td>\n      <td>46.0</td>\n    </tr>\n    <tr>\n      <th>3</th>\n      <td>Charles Linstrom</td>\n      <td>male</td>\n      <td>group A</td>\n      <td>bachelor's degree</td>\n      <td>standard</td>\n      <td>completed</td>\n      <td>80.0</td>\n      <td>78.0</td>\n      <td>81.0</td>\n    </tr>\n    <tr>\n      <th>5</th>\n      <td>Brian Young</td>\n      <td>male</td>\n      <td>group C</td>\n      <td>some high school</td>\n      <td>standard</td>\n      <td>none</td>\n      <td>73.0</td>\n      <td>66.0</td>\n      <td>63.0</td>\n    </tr>\n    <tr>\n      <th>6</th>\n      <td>Howard Jimenez</td>\n      <td>male</td>\n      <td>group E</td>\n      <td>some high school</td>\n      <td>standard</td>\n      <td>completed</td>\n      <td>81.0</td>\n      <td>75.0</td>\n      <td>76.0</td>\n    </tr>\n    <tr>\n      <th>7</th>\n      <td>Wayne Wilson</td>\n      <td>male</td>\n      <td>group B</td>\n      <td>some high school</td>\n      <td>standard</td>\n      <td>completed</td>\n      <td>94.0</td>\n      <td>86.0</td>\n      <td>87.0</td>\n    </tr>\n  </tbody>\n</table>\n</div>"
     },
     "metadata": {},
     "output_type": "display_data"
    },
    {
     "data": {
      "application/vnd.deepnote.dataframe.v2+json": {
       "row_count": 5,
       "column_count": 9,
       "columns": [
        {
         "name": "names",
         "dtype": "object",
         "stats": {
          "unique_count": 5,
          "nan_count": 0,
          "categories": [
           {
            "name": "Richard Young",
            "count": 1
           },
           {
            "name": "Wanda Russell",
            "count": 1
           },
           {
            "name": "3 others",
            "count": 3
           }
          ]
         }
        },
        {
         "name": "gender",
         "dtype": "object",
         "stats": {
          "unique_count": 2,
          "nan_count": 0,
          "categories": [
           {
            "name": "female",
            "count": 4
           },
           {
            "name": "male",
            "count": 1
           }
          ]
         }
        },
        {
         "name": "race/ethnicity",
         "dtype": "object",
         "stats": {
          "unique_count": 4,
          "nan_count": 0,
          "categories": [
           {
            "name": "group B",
            "count": 2
           },
           {
            "name": "group D",
            "count": 1
           },
           {
            "name": "2 others",
            "count": 2
           }
          ]
         }
        },
        {
         "name": "parental level of education",
         "dtype": "object",
         "stats": {
          "unique_count": 3,
          "nan_count": 0,
          "categories": [
           {
            "name": "high school",
            "count": 3
           },
           {
            "name": "bachelor's degree",
            "count": 1
           },
           {
            "name": "some high school",
            "count": 1
           }
          ]
         }
        },
        {
         "name": "lunch",
         "dtype": "object",
         "stats": {
          "unique_count": 2,
          "nan_count": 0,
          "categories": [
           {
            "name": "standard",
            "count": 3
           },
           {
            "name": "free/reduced",
            "count": 2
           }
          ]
         }
        },
        {
         "name": "test preparation course",
         "dtype": "object",
         "stats": {
          "unique_count": 2,
          "nan_count": 0,
          "categories": [
           {
            "name": "completed",
            "count": 4
           },
           {
            "name": "none",
            "count": 1
           }
          ]
         }
        },
        {
         "name": "math score",
         "dtype": "float64",
         "stats": {
          "unique_count": 5,
          "nan_count": 0,
          "min": "23.0",
          "max": "69.0",
          "histogram": [
           {
            "bin_start": 23,
            "bin_end": 27.6,
            "count": 1
           },
           {
            "bin_start": 27.6,
            "bin_end": 32.2,
            "count": 0
           },
           {
            "bin_start": 32.2,
            "bin_end": 36.8,
            "count": 0
           },
           {
            "bin_start": 36.8,
            "bin_end": 41.4,
            "count": 0
           },
           {
            "bin_start": 41.4,
            "bin_end": 46,
            "count": 0
           },
           {
            "bin_start": 46,
            "bin_end": 50.599999999999994,
            "count": 0
           },
           {
            "bin_start": 50.599999999999994,
            "bin_end": 55.199999999999996,
            "count": 1
           },
           {
            "bin_start": 55.199999999999996,
            "bin_end": 59.8,
            "count": 0
           },
           {
            "bin_start": 59.8,
            "bin_end": 64.4,
            "count": 0
           },
           {
            "bin_start": 64.4,
            "bin_end": 69,
            "count": 3
           }
          ]
         }
        },
        {
         "name": "reading score",
         "dtype": "float64",
         "stats": {
          "unique_count": 5,
          "nan_count": 0,
          "min": "44.0",
          "max": "80.0",
          "histogram": [
           {
            "bin_start": 44,
            "bin_end": 47.6,
            "count": 1
           },
           {
            "bin_start": 47.6,
            "bin_end": 51.2,
            "count": 0
           },
           {
            "bin_start": 51.2,
            "bin_end": 54.8,
            "count": 0
           },
           {
            "bin_start": 54.8,
            "bin_end": 58.4,
            "count": 0
           },
           {
            "bin_start": 58.4,
            "bin_end": 62,
            "count": 1
           },
           {
            "bin_start": 62,
            "bin_end": 65.6,
            "count": 0
           },
           {
            "bin_start": 65.6,
            "bin_end": 69.2,
            "count": 0
           },
           {
            "bin_start": 69.2,
            "bin_end": 72.8,
            "count": 0
           },
           {
            "bin_start": 72.8,
            "bin_end": 76.4,
            "count": 2
           },
           {
            "bin_start": 76.4,
            "bin_end": 80,
            "count": 1
           }
          ]
         }
        },
        {
         "name": "writing score",
         "dtype": "float64",
         "stats": {
          "unique_count": 5,
          "nan_count": 0,
          "min": "36.0",
          "max": "81.0",
          "histogram": [
           {
            "bin_start": 36,
            "bin_end": 40.5,
            "count": 1
           },
           {
            "bin_start": 40.5,
            "bin_end": 45,
            "count": 0
           },
           {
            "bin_start": 45,
            "bin_end": 49.5,
            "count": 0
           },
           {
            "bin_start": 49.5,
            "bin_end": 54,
            "count": 0
           },
           {
            "bin_start": 54,
            "bin_end": 58.5,
            "count": 0
           },
           {
            "bin_start": 58.5,
            "bin_end": 63,
            "count": 1
           },
           {
            "bin_start": 63,
            "bin_end": 67.5,
            "count": 0
           },
           {
            "bin_start": 67.5,
            "bin_end": 72,
            "count": 1
           },
           {
            "bin_start": 72,
            "bin_end": 76.5,
            "count": 1
           },
           {
            "bin_start": 76.5,
            "bin_end": 81,
            "count": 1
           }
          ]
         }
        },
        {
         "name": "_deepnote_index_column",
         "dtype": "int64"
        }
       ],
       "rows_top": [
        {
         "names": "Richard Young",
         "gender": "male",
         "race/ethnicity": "group D",
         "parental level of education": "high school",
         "lunch": "standard",
         "test preparation course": "none",
         "math score": 69,
         "reading score": 75,
         "writing score": 71,
         "_deepnote_index_column": 1392
        },
        {
         "names": "Wanda Russell",
         "gender": "female",
         "race/ethnicity": "group B",
         "parental level of education": "high school",
         "lunch": "free/reduced",
         "test preparation course": "completed",
         "math score": 23,
         "reading score": 44,
         "writing score": 36,
         "_deepnote_index_column": 1394
        },
        {
         "names": "Marina Zeigler",
         "gender": "female",
         "race/ethnicity": "group C",
         "parental level of education": "bachelor's degree",
         "lunch": "free/reduced",
         "test preparation course": "completed",
         "math score": 66,
         "reading score": 74,
         "writing score": 81,
         "_deepnote_index_column": 1396
        },
        {
         "names": "Laurie Carter",
         "gender": "female",
         "race/ethnicity": "group B",
         "parental level of education": "some high school",
         "lunch": "standard",
         "test preparation course": "completed",
         "math score": 54,
         "reading score": 61,
         "writing score": 62,
         "_deepnote_index_column": 1397
        },
        {
         "names": "Amanda Perez",
         "gender": "female",
         "race/ethnicity": "group A",
         "parental level of education": "high school",
         "lunch": "standard",
         "test preparation course": "completed",
         "math score": 68,
         "reading score": 80,
         "writing score": 76,
         "_deepnote_index_column": 1399
        }
       ],
       "rows_bottom": null
      },
      "text/plain": "               names  gender race/ethnicity parental level of education  \\\n1392   Richard Young    male        group D                 high school   \n1394   Wanda Russell  female        group B                 high school   \n1396  Marina Zeigler  female        group C           bachelor's degree   \n1397   Laurie Carter  female        group B            some high school   \n1399    Amanda Perez  female        group A                 high school   \n\n             lunch test preparation course  math score  reading score  \\\n1392      standard                    none        69.0           75.0   \n1394  free/reduced               completed        23.0           44.0   \n1396  free/reduced               completed        66.0           74.0   \n1397      standard               completed        54.0           61.0   \n1399      standard               completed        68.0           80.0   \n\n      writing score  \n1392           71.0  \n1394           36.0  \n1396           81.0  \n1397           62.0  \n1399           76.0  ",
      "text/html": "<div>\n<style scoped>\n    .dataframe tbody tr th:only-of-type {\n        vertical-align: middle;\n    }\n\n    .dataframe tbody tr th {\n        vertical-align: top;\n    }\n\n    .dataframe thead th {\n        text-align: right;\n    }\n</style>\n<table border=\"1\" class=\"dataframe\">\n  <thead>\n    <tr style=\"text-align: right;\">\n      <th></th>\n      <th>names</th>\n      <th>gender</th>\n      <th>race/ethnicity</th>\n      <th>parental level of education</th>\n      <th>lunch</th>\n      <th>test preparation course</th>\n      <th>math score</th>\n      <th>reading score</th>\n      <th>writing score</th>\n    </tr>\n  </thead>\n  <tbody>\n    <tr>\n      <th>1392</th>\n      <td>Richard Young</td>\n      <td>male</td>\n      <td>group D</td>\n      <td>high school</td>\n      <td>standard</td>\n      <td>none</td>\n      <td>69.0</td>\n      <td>75.0</td>\n      <td>71.0</td>\n    </tr>\n    <tr>\n      <th>1394</th>\n      <td>Wanda Russell</td>\n      <td>female</td>\n      <td>group B</td>\n      <td>high school</td>\n      <td>free/reduced</td>\n      <td>completed</td>\n      <td>23.0</td>\n      <td>44.0</td>\n      <td>36.0</td>\n    </tr>\n    <tr>\n      <th>1396</th>\n      <td>Marina Zeigler</td>\n      <td>female</td>\n      <td>group C</td>\n      <td>bachelor's degree</td>\n      <td>free/reduced</td>\n      <td>completed</td>\n      <td>66.0</td>\n      <td>74.0</td>\n      <td>81.0</td>\n    </tr>\n    <tr>\n      <th>1397</th>\n      <td>Laurie Carter</td>\n      <td>female</td>\n      <td>group B</td>\n      <td>some high school</td>\n      <td>standard</td>\n      <td>completed</td>\n      <td>54.0</td>\n      <td>61.0</td>\n      <td>62.0</td>\n    </tr>\n    <tr>\n      <th>1399</th>\n      <td>Amanda Perez</td>\n      <td>female</td>\n      <td>group A</td>\n      <td>high school</td>\n      <td>standard</td>\n      <td>completed</td>\n      <td>68.0</td>\n      <td>80.0</td>\n      <td>76.0</td>\n    </tr>\n  </tbody>\n</table>\n</div>"
     },
     "metadata": {},
     "output_type": "display_data"
    },
    {
     "data": {
      "application/vnd.deepnote.dataframe.v2+json": {
       "row_count": 5,
       "column_count": 9,
       "columns": [
        {
         "name": "names",
         "dtype": "object",
         "stats": {
          "unique_count": 5,
          "nan_count": 0,
          "categories": [
           {
            "name": "Jonathan Calcote",
            "count": 1
           },
           {
            "name": "Connie Workman",
            "count": 1
           },
           {
            "name": "3 others",
            "count": 3
           }
          ]
         }
        },
        {
         "name": "gender",
         "dtype": "object",
         "stats": {
          "unique_count": 2,
          "nan_count": 0,
          "categories": [
           {
            "name": "female",
            "count": 3
           },
           {
            "name": "male",
            "count": 2
           }
          ]
         }
        },
        {
         "name": "race/ethnicity",
         "dtype": "object",
         "stats": {
          "unique_count": 3,
          "nan_count": 0,
          "categories": [
           {
            "name": "group D",
            "count": 2
           },
           {
            "name": "group C",
            "count": 2
           },
           {
            "name": "group A",
            "count": 1
           }
          ]
         }
        },
        {
         "name": "parental level of education",
         "dtype": "object",
         "stats": {
          "unique_count": 5,
          "nan_count": 0,
          "categories": [
           {
            "name": "some high school",
            "count": 1
           },
           {
            "name": "some college",
            "count": 1
           },
           {
            "name": "3 others",
            "count": 3
           }
          ]
         }
        },
        {
         "name": "lunch",
         "dtype": "object",
         "stats": {
          "unique_count": 2,
          "nan_count": 0,
          "categories": [
           {
            "name": "free/reduced",
            "count": 3
           },
           {
            "name": "standard",
            "count": 2
           }
          ]
         }
        },
        {
         "name": "test preparation course",
         "dtype": "object",
         "stats": {
          "unique_count": 2,
          "nan_count": 0,
          "categories": [
           {
            "name": "none",
            "count": 4
           },
           {
            "name": "completed",
            "count": 1
           }
          ]
         }
        },
        {
         "name": "math score",
         "dtype": "float64",
         "stats": {
          "unique_count": 5,
          "nan_count": 0,
          "min": "35.0",
          "max": "75.0",
          "histogram": [
           {
            "bin_start": 35,
            "bin_end": 39,
            "count": 1
           },
           {
            "bin_start": 39,
            "bin_end": 43,
            "count": 0
           },
           {
            "bin_start": 43,
            "bin_end": 47,
            "count": 1
           },
           {
            "bin_start": 47,
            "bin_end": 51,
            "count": 0
           },
           {
            "bin_start": 51,
            "bin_end": 55,
            "count": 0
           },
           {
            "bin_start": 55,
            "bin_end": 59,
            "count": 0
           },
           {
            "bin_start": 59,
            "bin_end": 63,
            "count": 1
           },
           {
            "bin_start": 63,
            "bin_end": 67,
            "count": 0
           },
           {
            "bin_start": 67,
            "bin_end": 71,
            "count": 0
           },
           {
            "bin_start": 71,
            "bin_end": 75,
            "count": 2
           }
          ]
         }
        },
        {
         "name": "reading score",
         "dtype": "float64",
         "stats": {
          "unique_count": 5,
          "nan_count": 0,
          "min": "42.0",
          "max": "77.0",
          "histogram": [
           {
            "bin_start": 42,
            "bin_end": 45.5,
            "count": 1
           },
           {
            "bin_start": 45.5,
            "bin_end": 49,
            "count": 0
           },
           {
            "bin_start": 49,
            "bin_end": 52.5,
            "count": 0
           },
           {
            "bin_start": 52.5,
            "bin_end": 56,
            "count": 1
           },
           {
            "bin_start": 56,
            "bin_end": 59.5,
            "count": 1
           },
           {
            "bin_start": 59.5,
            "bin_end": 63,
            "count": 0
           },
           {
            "bin_start": 63,
            "bin_end": 66.5,
            "count": 0
           },
           {
            "bin_start": 66.5,
            "bin_end": 70,
            "count": 1
           },
           {
            "bin_start": 70,
            "bin_end": 73.5,
            "count": 0
           },
           {
            "bin_start": 73.5,
            "bin_end": 77,
            "count": 1
           }
          ]
         }
        },
        {
         "name": "writing score",
         "dtype": "float64",
         "stats": {
          "unique_count": 5,
          "nan_count": 0,
          "min": "41.0",
          "max": "83.0",
          "histogram": [
           {
            "bin_start": 41,
            "bin_end": 45.2,
            "count": 1
           },
           {
            "bin_start": 45.2,
            "bin_end": 49.4,
            "count": 1
           },
           {
            "bin_start": 49.4,
            "bin_end": 53.6,
            "count": 0
           },
           {
            "bin_start": 53.6,
            "bin_end": 57.8,
            "count": 0
           },
           {
            "bin_start": 57.8,
            "bin_end": 62,
            "count": 0
           },
           {
            "bin_start": 62,
            "bin_end": 66.2,
            "count": 2
           },
           {
            "bin_start": 66.2,
            "bin_end": 70.4,
            "count": 0
           },
           {
            "bin_start": 70.4,
            "bin_end": 74.6,
            "count": 0
           },
           {
            "bin_start": 74.6,
            "bin_end": 78.80000000000001,
            "count": 0
           },
           {
            "bin_start": 78.80000000000001,
            "bin_end": 83,
            "count": 1
           }
          ]
         }
        },
        {
         "name": "_deepnote_index_column",
         "dtype": "int64"
        }
       ],
       "rows_top": [
        {
         "names": "Jonathan Calcote",
         "gender": "male",
         "race/ethnicity": "group D",
         "parental level of education": "some high school",
         "lunch": "free/reduced",
         "test preparation course": "none",
         "math score": 59,
         "reading score": 42,
         "writing score": 41,
         "_deepnote_index_column": 1018
        },
        {
         "names": "Connie Workman",
         "gender": "female",
         "race/ethnicity": "group D",
         "parental level of education": "some college",
         "lunch": "standard",
         "test preparation course": "completed",
         "math score": 75,
         "reading score": 77,
         "writing score": 83,
         "_deepnote_index_column": 840
        },
        {
         "names": "Sara Ray",
         "gender": "female",
         "race/ethnicity": "group C",
         "parental level of education": "high school",
         "lunch": "free/reduced",
         "test preparation course": "none",
         "math score": 35,
         "reading score": 53,
         "writing score": 46,
         "_deepnote_index_column": 379
        },
        {
         "names": "Randy Olson",
         "gender": "male",
         "race/ethnicity": "group C",
         "parental level of education": "associate's degree",
         "lunch": "free/reduced",
         "test preparation course": "none",
         "math score": 73,
         "reading score": 68,
         "writing score": 66,
         "_deepnote_index_column": 519
        },
        {
         "names": "Donita Hill",
         "gender": "female",
         "race/ethnicity": "group A",
         "parental level of education": "bachelor's degree",
         "lunch": "standard",
         "test preparation course": "none",
         "math score": 45,
         "reading score": 59,
         "writing score": 64,
         "_deepnote_index_column": 77
        }
       ],
       "rows_bottom": null
      },
      "text/plain": "                 names  gender race/ethnicity parental level of education  \\\n1018  Jonathan Calcote    male        group D            some high school   \n840     Connie Workman  female        group D                some college   \n379           Sara Ray  female        group C                 high school   \n519        Randy Olson    male        group C          associate's degree   \n77         Donita Hill  female        group A           bachelor's degree   \n\n             lunch test preparation course  math score  reading score  \\\n1018  free/reduced                    none        59.0           42.0   \n840       standard               completed        75.0           77.0   \n379   free/reduced                    none        35.0           53.0   \n519   free/reduced                    none        73.0           68.0   \n77        standard                    none        45.0           59.0   \n\n      writing score  \n1018           41.0  \n840            83.0  \n379            46.0  \n519            66.0  \n77             64.0  ",
      "text/html": "<div>\n<style scoped>\n    .dataframe tbody tr th:only-of-type {\n        vertical-align: middle;\n    }\n\n    .dataframe tbody tr th {\n        vertical-align: top;\n    }\n\n    .dataframe thead th {\n        text-align: right;\n    }\n</style>\n<table border=\"1\" class=\"dataframe\">\n  <thead>\n    <tr style=\"text-align: right;\">\n      <th></th>\n      <th>names</th>\n      <th>gender</th>\n      <th>race/ethnicity</th>\n      <th>parental level of education</th>\n      <th>lunch</th>\n      <th>test preparation course</th>\n      <th>math score</th>\n      <th>reading score</th>\n      <th>writing score</th>\n    </tr>\n  </thead>\n  <tbody>\n    <tr>\n      <th>1018</th>\n      <td>Jonathan Calcote</td>\n      <td>male</td>\n      <td>group D</td>\n      <td>some high school</td>\n      <td>free/reduced</td>\n      <td>none</td>\n      <td>59.0</td>\n      <td>42.0</td>\n      <td>41.0</td>\n    </tr>\n    <tr>\n      <th>840</th>\n      <td>Connie Workman</td>\n      <td>female</td>\n      <td>group D</td>\n      <td>some college</td>\n      <td>standard</td>\n      <td>completed</td>\n      <td>75.0</td>\n      <td>77.0</td>\n      <td>83.0</td>\n    </tr>\n    <tr>\n      <th>379</th>\n      <td>Sara Ray</td>\n      <td>female</td>\n      <td>group C</td>\n      <td>high school</td>\n      <td>free/reduced</td>\n      <td>none</td>\n      <td>35.0</td>\n      <td>53.0</td>\n      <td>46.0</td>\n    </tr>\n    <tr>\n      <th>519</th>\n      <td>Randy Olson</td>\n      <td>male</td>\n      <td>group C</td>\n      <td>associate's degree</td>\n      <td>free/reduced</td>\n      <td>none</td>\n      <td>73.0</td>\n      <td>68.0</td>\n      <td>66.0</td>\n    </tr>\n    <tr>\n      <th>77</th>\n      <td>Donita Hill</td>\n      <td>female</td>\n      <td>group A</td>\n      <td>bachelor's degree</td>\n      <td>standard</td>\n      <td>none</td>\n      <td>45.0</td>\n      <td>59.0</td>\n      <td>64.0</td>\n    </tr>\n  </tbody>\n</table>\n</div>"
     },
     "metadata": {},
     "output_type": "display_data"
    },
    {
     "data": {
      "application/vnd.deepnote.dataframe.v2+json": {
       "row_count": 8,
       "column_count": 3,
       "columns": [
        {
         "name": "math score",
         "dtype": "float64",
         "stats": {
          "unique_count": 8,
          "nan_count": 0,
          "min": "0.0",
          "max": "875.0",
          "histogram": [
           {
            "bin_start": 0,
            "bin_end": 87.5,
            "count": 6
           },
           {
            "bin_start": 87.5,
            "bin_end": 175,
            "count": 1
           },
           {
            "bin_start": 175,
            "bin_end": 262.5,
            "count": 0
           },
           {
            "bin_start": 262.5,
            "bin_end": 350,
            "count": 0
           },
           {
            "bin_start": 350,
            "bin_end": 437.5,
            "count": 0
           },
           {
            "bin_start": 437.5,
            "bin_end": 525,
            "count": 0
           },
           {
            "bin_start": 525,
            "bin_end": 612.5,
            "count": 0
           },
           {
            "bin_start": 612.5,
            "bin_end": 700,
            "count": 0
           },
           {
            "bin_start": 700,
            "bin_end": 787.5,
            "count": 0
           },
           {
            "bin_start": 787.5,
            "bin_end": 875,
            "count": 1
           }
          ]
         }
        },
        {
         "name": "reading score",
         "dtype": "float64",
         "stats": {
          "unique_count": 8,
          "nan_count": 0,
          "min": "14.629269965342166",
          "max": "875.0",
          "histogram": [
           {
            "bin_start": 14.629269965342166,
            "bin_end": 100.66634296880795,
            "count": 7
           },
           {
            "bin_start": 100.66634296880795,
            "bin_end": 186.70341597227375,
            "count": 0
           },
           {
            "bin_start": 186.70341597227375,
            "bin_end": 272.74048897573954,
            "count": 0
           },
           {
            "bin_start": 272.74048897573954,
            "bin_end": 358.77756197920536,
            "count": 0
           },
           {
            "bin_start": 358.77756197920536,
            "bin_end": 444.8146349826712,
            "count": 0
           },
           {
            "bin_start": 444.8146349826712,
            "bin_end": 530.8517079861368,
            "count": 0
           },
           {
            "bin_start": 530.8517079861368,
            "bin_end": 616.8887809896027,
            "count": 0
           },
           {
            "bin_start": 616.8887809896027,
            "bin_end": 702.9258539930685,
            "count": 0
           },
           {
            "bin_start": 702.9258539930685,
            "bin_end": 788.9629269965343,
            "count": 0
           },
           {
            "bin_start": 788.9629269965343,
            "bin_end": 875,
            "count": 1
           }
          ]
         }
        },
        {
         "name": "writing score",
         "dtype": "float64",
         "stats": {
          "unique_count": 8,
          "nan_count": 0,
          "min": "10.0",
          "max": "875.0",
          "histogram": [
           {
            "bin_start": 10,
            "bin_end": 96.5,
            "count": 6
           },
           {
            "bin_start": 96.5,
            "bin_end": 183,
            "count": 1
           },
           {
            "bin_start": 183,
            "bin_end": 269.5,
            "count": 0
           },
           {
            "bin_start": 269.5,
            "bin_end": 356,
            "count": 0
           },
           {
            "bin_start": 356,
            "bin_end": 442.5,
            "count": 0
           },
           {
            "bin_start": 442.5,
            "bin_end": 529,
            "count": 0
           },
           {
            "bin_start": 529,
            "bin_end": 615.5,
            "count": 0
           },
           {
            "bin_start": 615.5,
            "bin_end": 702,
            "count": 0
           },
           {
            "bin_start": 702,
            "bin_end": 788.5,
            "count": 0
           },
           {
            "bin_start": 788.5,
            "bin_end": 875,
            "count": 1
           }
          ]
         }
        },
        {
         "name": "_deepnote_index_column",
         "dtype": "object"
        }
       ],
       "rows_top": [
        {
         "math score": 875,
         "reading score": 875,
         "writing score": 875,
         "_deepnote_index_column": "count"
        },
        {
         "math score": 66.22514285714286,
         "reading score": 69.19542857142856,
         "writing score": 68.11428571428571,
         "_deepnote_index_column": "mean"
        },
        {
         "math score": 15.076716362217399,
         "reading score": 14.629269965342166,
         "writing score": 15.174219805796033,
         "_deepnote_index_column": "std"
        },
        {
         "math score": 0,
         "reading score": 17,
         "writing score": 10,
         "_deepnote_index_column": "min"
        },
        {
         "math score": 57,
         "reading score": 59,
         "writing score": 57.5,
         "_deepnote_index_column": "25%"
        },
        {
         "math score": 66,
         "reading score": 70,
         "writing score": 69,
         "_deepnote_index_column": "50%"
        },
        {
         "math score": 76.5,
         "reading score": 79,
         "writing score": 79,
         "_deepnote_index_column": "75%"
        },
        {
         "math score": 100,
         "reading score": 100,
         "writing score": 100,
         "_deepnote_index_column": "max"
        }
       ],
       "rows_bottom": null
      },
      "text/plain": "       math score  reading score  writing score\ncount  875.000000     875.000000     875.000000\nmean    66.225143      69.195429      68.114286\nstd     15.076716      14.629270      15.174220\nmin      0.000000      17.000000      10.000000\n25%     57.000000      59.000000      57.500000\n50%     66.000000      70.000000      69.000000\n75%     76.500000      79.000000      79.000000\nmax    100.000000     100.000000     100.000000",
      "text/html": "<div>\n<style scoped>\n    .dataframe tbody tr th:only-of-type {\n        vertical-align: middle;\n    }\n\n    .dataframe tbody tr th {\n        vertical-align: top;\n    }\n\n    .dataframe thead th {\n        text-align: right;\n    }\n</style>\n<table border=\"1\" class=\"dataframe\">\n  <thead>\n    <tr style=\"text-align: right;\">\n      <th></th>\n      <th>math score</th>\n      <th>reading score</th>\n      <th>writing score</th>\n    </tr>\n  </thead>\n  <tbody>\n    <tr>\n      <th>count</th>\n      <td>875.000000</td>\n      <td>875.000000</td>\n      <td>875.000000</td>\n    </tr>\n    <tr>\n      <th>mean</th>\n      <td>66.225143</td>\n      <td>69.195429</td>\n      <td>68.114286</td>\n    </tr>\n    <tr>\n      <th>std</th>\n      <td>15.076716</td>\n      <td>14.629270</td>\n      <td>15.174220</td>\n    </tr>\n    <tr>\n      <th>min</th>\n      <td>0.000000</td>\n      <td>17.000000</td>\n      <td>10.000000</td>\n    </tr>\n    <tr>\n      <th>25%</th>\n      <td>57.000000</td>\n      <td>59.000000</td>\n      <td>57.500000</td>\n    </tr>\n    <tr>\n      <th>50%</th>\n      <td>66.000000</td>\n      <td>70.000000</td>\n      <td>69.000000</td>\n    </tr>\n    <tr>\n      <th>75%</th>\n      <td>76.500000</td>\n      <td>79.000000</td>\n      <td>79.000000</td>\n    </tr>\n    <tr>\n      <th>max</th>\n      <td>100.000000</td>\n      <td>100.000000</td>\n      <td>100.000000</td>\n    </tr>\n  </tbody>\n</table>\n</div>"
     },
     "metadata": {},
     "output_type": "display_data"
    },
    {
     "name": "stdout",
     "text": "La cantidad de valores nulos por columna\nnames                          0\ngender                         0\nrace/ethnicity                 0\nparental level of education    0\nlunch                          0\ntest preparation course        0\nmath score                     0\nreading score                  0\nwriting score                  0\ndtype: int64\nTotal de valores nulos en todo el dataframe 0\nLa cantidad de filas únicas es:\nnames                          875\ngender                           2\nrace/ethnicity                   5\nparental level of education      6\nlunch                            2\ntest preparation course          2\nmath score                      79\nreading score                   72\nwriting score                   77\ndtype: int64\nCantidad de nombres duplicados 0\n",
     "output_type": "stream"
    },
    {
     "data": {
      "application/vnd.deepnote.dataframe.v2+json": {
       "row_count": 0,
       "column_count": 9,
       "columns": [
        {
         "name": "names",
         "dtype": "object",
         "stats": {
          "unique_count": 0,
          "nan_count": 0,
          "categories": []
         }
        },
        {
         "name": "gender",
         "dtype": "object",
         "stats": {
          "unique_count": 0,
          "nan_count": 0,
          "categories": []
         }
        },
        {
         "name": "race/ethnicity",
         "dtype": "object",
         "stats": {
          "unique_count": 0,
          "nan_count": 0,
          "categories": []
         }
        },
        {
         "name": "parental level of education",
         "dtype": "object",
         "stats": {
          "unique_count": 0,
          "nan_count": 0,
          "categories": []
         }
        },
        {
         "name": "lunch",
         "dtype": "object",
         "stats": {
          "unique_count": 0,
          "nan_count": 0,
          "categories": []
         }
        },
        {
         "name": "test preparation course",
         "dtype": "object",
         "stats": {
          "unique_count": 0,
          "nan_count": 0,
          "categories": []
         }
        },
        {
         "name": "math score",
         "dtype": "float64",
         "stats": {
          "unique_count": 0,
          "nan_count": 0,
          "min": null,
          "max": null,
          "histogram": [
           {
            "bin_start": 0,
            "bin_end": 0.1,
            "count": 0
           },
           {
            "bin_start": 0.1,
            "bin_end": 0.2,
            "count": 0
           },
           {
            "bin_start": 0.2,
            "bin_end": 0.30000000000000004,
            "count": 0
           },
           {
            "bin_start": 0.30000000000000004,
            "bin_end": 0.4,
            "count": 0
           },
           {
            "bin_start": 0.4,
            "bin_end": 0.5,
            "count": 0
           },
           {
            "bin_start": 0.5,
            "bin_end": 0.6000000000000001,
            "count": 0
           },
           {
            "bin_start": 0.6000000000000001,
            "bin_end": 0.7000000000000001,
            "count": 0
           },
           {
            "bin_start": 0.7000000000000001,
            "bin_end": 0.8,
            "count": 0
           },
           {
            "bin_start": 0.8,
            "bin_end": 0.9,
            "count": 0
           },
           {
            "bin_start": 0.9,
            "bin_end": 1,
            "count": 0
           }
          ]
         }
        },
        {
         "name": "reading score",
         "dtype": "float64",
         "stats": {
          "unique_count": 0,
          "nan_count": 0,
          "min": null,
          "max": null,
          "histogram": [
           {
            "bin_start": 0,
            "bin_end": 0.1,
            "count": 0
           },
           {
            "bin_start": 0.1,
            "bin_end": 0.2,
            "count": 0
           },
           {
            "bin_start": 0.2,
            "bin_end": 0.30000000000000004,
            "count": 0
           },
           {
            "bin_start": 0.30000000000000004,
            "bin_end": 0.4,
            "count": 0
           },
           {
            "bin_start": 0.4,
            "bin_end": 0.5,
            "count": 0
           },
           {
            "bin_start": 0.5,
            "bin_end": 0.6000000000000001,
            "count": 0
           },
           {
            "bin_start": 0.6000000000000001,
            "bin_end": 0.7000000000000001,
            "count": 0
           },
           {
            "bin_start": 0.7000000000000001,
            "bin_end": 0.8,
            "count": 0
           },
           {
            "bin_start": 0.8,
            "bin_end": 0.9,
            "count": 0
           },
           {
            "bin_start": 0.9,
            "bin_end": 1,
            "count": 0
           }
          ]
         }
        },
        {
         "name": "writing score",
         "dtype": "float64",
         "stats": {
          "unique_count": 0,
          "nan_count": 0,
          "min": null,
          "max": null,
          "histogram": [
           {
            "bin_start": 0,
            "bin_end": 0.1,
            "count": 0
           },
           {
            "bin_start": 0.1,
            "bin_end": 0.2,
            "count": 0
           },
           {
            "bin_start": 0.2,
            "bin_end": 0.30000000000000004,
            "count": 0
           },
           {
            "bin_start": 0.30000000000000004,
            "bin_end": 0.4,
            "count": 0
           },
           {
            "bin_start": 0.4,
            "bin_end": 0.5,
            "count": 0
           },
           {
            "bin_start": 0.5,
            "bin_end": 0.6000000000000001,
            "count": 0
           },
           {
            "bin_start": 0.6000000000000001,
            "bin_end": 0.7000000000000001,
            "count": 0
           },
           {
            "bin_start": 0.7000000000000001,
            "bin_end": 0.8,
            "count": 0
           },
           {
            "bin_start": 0.8,
            "bin_end": 0.9,
            "count": 0
           },
           {
            "bin_start": 0.9,
            "bin_end": 1,
            "count": 0
           }
          ]
         }
        },
        {
         "name": "_deepnote_index_column",
         "dtype": "int64"
        }
       ],
       "rows_top": [],
       "rows_bottom": null
      },
      "text/plain": "Empty DataFrame\nColumns: [names, gender, race/ethnicity, parental level of education, lunch, test preparation course, math score, reading score, writing score]\nIndex: []",
      "text/html": "<div>\n<style scoped>\n    .dataframe tbody tr th:only-of-type {\n        vertical-align: middle;\n    }\n\n    .dataframe tbody tr th {\n        vertical-align: top;\n    }\n\n    .dataframe thead th {\n        text-align: right;\n    }\n</style>\n<table border=\"1\" class=\"dataframe\">\n  <thead>\n    <tr style=\"text-align: right;\">\n      <th></th>\n      <th>names</th>\n      <th>gender</th>\n      <th>race/ethnicity</th>\n      <th>parental level of education</th>\n      <th>lunch</th>\n      <th>test preparation course</th>\n      <th>math score</th>\n      <th>reading score</th>\n      <th>writing score</th>\n    </tr>\n  </thead>\n  <tbody>\n  </tbody>\n</table>\n</div>"
     },
     "metadata": {},
     "output_type": "display_data"
    },
    {
     "data": {
      "text/plain": "<Figure size 432x288 with 1 Axes>",
      "image/png": "[encoded data removed]"
     },
     "metadata": {
      "needs_background": "light",
      "image/png": {
       "width": 375,
       "height": 248
      }
     },
     "output_type": "display_data"
    }
   ]
  },
  {
   "cell_type": "markdown",
   "source": "> Utilice la función creada en el punto 1.1 para verificar sus resultados.",
   "metadata": {
    "id": "iAnb7kcRj9gJ",
    "cell_id": "00028-7d461c3c-584a-437b-a3b0-8eb3a9a60b08",
    "deepnote_cell_type": "markdown"
   }
  },
  {
   "cell_type": "markdown",
   "source": "**Justificación:**",
   "metadata": {
    "id": "mPmHNen3jZCX",
    "cell_id": "00030-826810d6-9106-4a3f-9272-16f541b88ac0",
    "deepnote_cell_type": "markdown"
   }
  },
  {
   "cell_type": "markdown",
   "source": "```\nSe observa que ya no hay anomalías, pues la cantidad de nombres coincide con la cantidad de alumnos del establecimiento, y se observa que el comportamiento del boxplot era contrario al de la sección anterior, pues ahora solo hay outliers en la parte inferior de los gráficos y las notas se encuentran en la escala [0,100].\n```",
   "metadata": {
    "id": "uCK_RZEajZHI",
    "cell_id": "00031-04187309-a1db-4ad3-a90b-75b312d9b39f",
    "deepnote_cell_type": "markdown"
   }
  },
  {
   "cell_type": "markdown",
   "source": "## 1.3 Trabajando con Datos\n\n<p align=\"center\">\n  <img src=\"https://media4.giphy.com/media/ko7twHhomhk8E/giphy.gif?cid=ecf05e47xmgfz8ftaom8saa4cwktxpb0fkui9yk3nakb4ff1&rid=giphy.gif&ct=g\">\n</p>",
   "metadata": {
    "id": "2tnenh4uOF6k",
    "cell_id": "00032-35743f33-7587-4206-903d-5922c094c121",
    "deepnote_cell_type": "markdown"
   }
  },
  {
   "cell_type": "markdown",
   "source": "### 1.3.1 Transformación de notas a \"Nota Chilena\" [0.5 Puntos]",
   "metadata": {
    "id": "Qecw0sKor_Au",
    "cell_id": "00033-ae1d6c24-6c73-49d9-961d-4f6a9da3f5a1",
    "deepnote_cell_type": "markdown"
   }
  },
  {
   "cell_type": "markdown",
   "source": "En una de las reuniones con Don Caguayo este les comenta su intención de pasar todas sus notas a la \"Escala Chilena\". Para esto les facilita la siguiente ecuación:\n\n$$Nota \\, Chilena= \\% \\, de \\, logro*0.06 + 1$$\n\nUtilizando la ecuación entregada, cree una función que le permita pasar a la escala Chilena las notas que se escapan del rango [1,7] y entregue las notas redondeadas al segundo decimal.\n\n**To-Do**\n\n- [ ] Tranforme los valores a la escala chilena.",
   "metadata": {
    "id": "BfmD-9yi4PnX",
    "cell_id": "00034-0c2d3679-984b-4d24-8ab0-fc8de61bb42e",
    "deepnote_cell_type": "markdown"
   }
  },
  {
   "cell_type": "markdown",
   "source": "**Respuesta:**",
   "metadata": {
    "tags": [],
    "cell_id": "00035-7dd5d2b3-12e5-4cb8-a9ab-e3f0e4870b94",
    "deepnote_cell_type": "markdown"
   }
  },
  {
   "cell_type": "code",
   "metadata": {
    "id": "GQ0gDEvd3T1m",
    "executionInfo": {
     "status": "ok",
     "timestamp": 1619205969195,
     "user_tz": 240,
     "elapsed": 669,
     "user": {
      "displayName": "IGNACIO ALEJANDRO MEZA",
      "photoUrl": "",
      "userId": "17011121633069169364"
     }
    },
    "deepnote_to_be_reexecuted": false,
    "source_hash": "44c368b7",
    "execution_start": 1633016526526,
    "execution_millis": 47,
    "cell_id": "00036-4f869d3b-f09e-4986-8f77-604d440d0b99",
    "deepnote_cell_type": "code"
   },
   "source": "\n\ndef nota_chilena(dataframe_in, columna):\n dataframe_in[columna] = (6*dataframe_in[columna]/100 + 1).round(decimals = 2)\n\nnota_chilena(df_grades,'math score')\nnota_chilena(df_grades,'reading score')\nnota_chilena(df_grades,'writing score')\n\n\n\ndisplay(df_grades.head()) ",
   "execution_count": null,
   "outputs": [
    {
     "data": {
      "application/vnd.deepnote.dataframe.v2+json": {
       "row_count": 5,
       "column_count": 9,
       "columns": [
        {
         "name": "names",
         "dtype": "object",
         "stats": {
          "unique_count": 5,
          "nan_count": 0,
          "categories": [
           {
            "name": "Rita Courtney",
            "count": 1
           },
           {
            "name": "Charles Linstrom",
            "count": 1
           },
           {
            "name": "3 others",
            "count": 3
           }
          ]
         }
        },
        {
         "name": "gender",
         "dtype": "object",
         "stats": {
          "unique_count": 2,
          "nan_count": 0,
          "categories": [
           {
            "name": "male",
            "count": 4
           },
           {
            "name": "female",
            "count": 1
           }
          ]
         }
        },
        {
         "name": "race/ethnicity",
         "dtype": "object",
         "stats": {
          "unique_count": 4,
          "nan_count": 0,
          "categories": [
           {
            "name": "group B",
            "count": 2
           },
           {
            "name": "group A",
            "count": 1
           },
           {
            "name": "2 others",
            "count": 2
           }
          ]
         }
        },
        {
         "name": "parental level of education",
         "dtype": "object",
         "stats": {
          "unique_count": 2,
          "nan_count": 0,
          "categories": [
           {
            "name": "some high school",
            "count": 4
           },
           {
            "name": "bachelor's degree",
            "count": 1
           }
          ]
         }
        },
        {
         "name": "lunch",
         "dtype": "object",
         "stats": {
          "unique_count": 1,
          "nan_count": 0,
          "categories": [
           {
            "name": "standard",
            "count": 5
           }
          ]
         }
        },
        {
         "name": "test preparation course",
         "dtype": "object",
         "stats": {
          "unique_count": 2,
          "nan_count": 0,
          "categories": [
           {
            "name": "completed",
            "count": 3
           },
           {
            "name": "none",
            "count": 2
           }
          ]
         }
        },
        {
         "name": "math score",
         "dtype": "float64",
         "stats": {
          "unique_count": 5,
          "nan_count": 0,
          "min": "3.22",
          "max": "6.64",
          "histogram": [
           {
            "bin_start": 3.22,
            "bin_end": 3.5620000000000003,
            "count": 1
           },
           {
            "bin_start": 3.5620000000000003,
            "bin_end": 3.904,
            "count": 0
           },
           {
            "bin_start": 3.904,
            "bin_end": 4.246,
            "count": 0
           },
           {
            "bin_start": 4.246,
            "bin_end": 4.588,
            "count": 0
           },
           {
            "bin_start": 4.588,
            "bin_end": 4.93,
            "count": 0
           },
           {
            "bin_start": 4.93,
            "bin_end": 5.272,
            "count": 0
           },
           {
            "bin_start": 5.272,
            "bin_end": 5.614,
            "count": 1
           },
           {
            "bin_start": 5.614,
            "bin_end": 5.9559999999999995,
            "count": 2
           },
           {
            "bin_start": 5.9559999999999995,
            "bin_end": 6.298,
            "count": 0
           },
           {
            "bin_start": 6.298,
            "bin_end": 6.64,
            "count": 1
           }
          ]
         }
        },
        {
         "name": "reading score",
         "dtype": "float64",
         "stats": {
          "unique_count": 5,
          "nan_count": 0,
          "min": "3.76",
          "max": "6.16",
          "histogram": [
           {
            "bin_start": 3.76,
            "bin_end": 4,
            "count": 1
           },
           {
            "bin_start": 4,
            "bin_end": 4.24,
            "count": 0
           },
           {
            "bin_start": 4.24,
            "bin_end": 4.48,
            "count": 0
           },
           {
            "bin_start": 4.48,
            "bin_end": 4.72,
            "count": 0
           },
           {
            "bin_start": 4.72,
            "bin_end": 4.96,
            "count": 0
           },
           {
            "bin_start": 4.96,
            "bin_end": 5.2,
            "count": 1
           },
           {
            "bin_start": 5.2,
            "bin_end": 5.44,
            "count": 0
           },
           {
            "bin_start": 5.44,
            "bin_end": 5.68,
            "count": 1
           },
           {
            "bin_start": 5.68,
            "bin_end": 5.92,
            "count": 1
           },
           {
            "bin_start": 5.92,
            "bin_end": 6.16,
            "count": 1
           }
          ]
         }
        },
        {
         "name": "writing score",
         "dtype": "float64",
         "stats": {
          "unique_count": 5,
          "nan_count": 0,
          "min": "3.76",
          "max": "6.22",
          "histogram": [
           {
            "bin_start": 3.76,
            "bin_end": 4.006,
            "count": 1
           },
           {
            "bin_start": 4.006,
            "bin_end": 4.252,
            "count": 0
           },
           {
            "bin_start": 4.252,
            "bin_end": 4.497999999999999,
            "count": 0
           },
           {
            "bin_start": 4.497999999999999,
            "bin_end": 4.744,
            "count": 0
           },
           {
            "bin_start": 4.744,
            "bin_end": 4.99,
            "count": 1
           },
           {
            "bin_start": 4.99,
            "bin_end": 5.236,
            "count": 0
           },
           {
            "bin_start": 5.236,
            "bin_end": 5.481999999999999,
            "count": 0
           },
           {
            "bin_start": 5.481999999999999,
            "bin_end": 5.728,
            "count": 1
           },
           {
            "bin_start": 5.728,
            "bin_end": 5.974,
            "count": 1
           },
           {
            "bin_start": 5.974,
            "bin_end": 6.22,
            "count": 1
           }
          ]
         }
        },
        {
         "name": "_deepnote_index_column",
         "dtype": "int64"
        }
       ],
       "rows_top": [
        {
         "names": "Rita Courtney",
         "gender": "female",
         "race/ethnicity": "group B",
         "parental level of education": "some high school",
         "lunch": "standard",
         "test preparation course": "none",
         "math score": 3.22,
         "reading score": 3.76,
         "writing score": 3.76,
         "_deepnote_index_column": 0
        },
        {
         "names": "Charles Linstrom",
         "gender": "male",
         "race/ethnicity": "group A",
         "parental level of education": "bachelor's degree",
         "lunch": "standard",
         "test preparation course": "completed",
         "math score": 5.8,
         "reading score": 5.68,
         "writing score": 5.86,
         "_deepnote_index_column": 3
        },
        {
         "names": "Brian Young",
         "gender": "male",
         "race/ethnicity": "group C",
         "parental level of education": "some high school",
         "lunch": "standard",
         "test preparation course": "none",
         "math score": 5.38,
         "reading score": 4.96,
         "writing score": 4.78,
         "_deepnote_index_column": 5
        },
        {
         "names": "Howard Jimenez",
         "gender": "male",
         "race/ethnicity": "group E",
         "parental level of education": "some high school",
         "lunch": "standard",
         "test preparation course": "completed",
         "math score": 5.86,
         "reading score": 5.5,
         "writing score": 5.56,
         "_deepnote_index_column": 6
        },
        {
         "names": "Wayne Wilson",
         "gender": "male",
         "race/ethnicity": "group B",
         "parental level of education": "some high school",
         "lunch": "standard",
         "test preparation course": "completed",
         "math score": 6.64,
         "reading score": 6.16,
         "writing score": 6.22,
         "_deepnote_index_column": 7
        }
       ],
       "rows_bottom": null
      },
      "text/plain": "              names  gender race/ethnicity parental level of education  \\\n0     Rita Courtney  female        group B            some high school   \n3  Charles Linstrom    male        group A           bachelor's degree   \n5       Brian Young    male        group C            some high school   \n6    Howard Jimenez    male        group E            some high school   \n7      Wayne Wilson    male        group B            some high school   \n\n      lunch test preparation course  math score  reading score  writing score  \n0  standard                    none        3.22           3.76           3.76  \n3  standard               completed        5.80           5.68           5.86  \n5  standard                    none        5.38           4.96           4.78  \n6  standard               completed        5.86           5.50           5.56  \n7  standard               completed        6.64           6.16           6.22  ",
      "text/html": "<div>\n<style scoped>\n    .dataframe tbody tr th:only-of-type {\n        vertical-align: middle;\n    }\n\n    .dataframe tbody tr th {\n        vertical-align: top;\n    }\n\n    .dataframe thead th {\n        text-align: right;\n    }\n</style>\n<table border=\"1\" class=\"dataframe\">\n  <thead>\n    <tr style=\"text-align: right;\">\n      <th></th>\n      <th>names</th>\n      <th>gender</th>\n      <th>race/ethnicity</th>\n      <th>parental level of education</th>\n      <th>lunch</th>\n      <th>test preparation course</th>\n      <th>math score</th>\n      <th>reading score</th>\n      <th>writing score</th>\n    </tr>\n  </thead>\n  <tbody>\n    <tr>\n      <th>0</th>\n      <td>Rita Courtney</td>\n      <td>female</td>\n      <td>group B</td>\n      <td>some high school</td>\n      <td>standard</td>\n      <td>none</td>\n      <td>3.22</td>\n      <td>3.76</td>\n      <td>3.76</td>\n    </tr>\n    <tr>\n      <th>3</th>\n      <td>Charles Linstrom</td>\n      <td>male</td>\n      <td>group A</td>\n      <td>bachelor's degree</td>\n      <td>standard</td>\n      <td>completed</td>\n      <td>5.80</td>\n      <td>5.68</td>\n      <td>5.86</td>\n    </tr>\n    <tr>\n      <th>5</th>\n      <td>Brian Young</td>\n      <td>male</td>\n      <td>group C</td>\n      <td>some high school</td>\n      <td>standard</td>\n      <td>none</td>\n      <td>5.38</td>\n      <td>4.96</td>\n      <td>4.78</td>\n    </tr>\n    <tr>\n      <th>6</th>\n      <td>Howard Jimenez</td>\n      <td>male</td>\n      <td>group E</td>\n      <td>some high school</td>\n      <td>standard</td>\n      <td>completed</td>\n      <td>5.86</td>\n      <td>5.50</td>\n      <td>5.56</td>\n    </tr>\n    <tr>\n      <th>7</th>\n      <td>Wayne Wilson</td>\n      <td>male</td>\n      <td>group B</td>\n      <td>some high school</td>\n      <td>standard</td>\n      <td>completed</td>\n      <td>6.64</td>\n      <td>6.16</td>\n      <td>6.22</td>\n    </tr>\n  </tbody>\n</table>\n</div>"
     },
     "metadata": {},
     "output_type": "display_data"
    }
   ]
  },
  {
   "cell_type": "markdown",
   "source": "### 1.3.2 Obtención de promedio de alumnos [0.5]",
   "metadata": {
    "id": "QGe-Hb2UTAE1",
    "cell_id": "00038-3045a9c7-3dc1-4909-a993-3346ce27103d",
    "deepnote_cell_type": "markdown"
   }
  },
  {
   "cell_type": "markdown",
   "source": "Con todas las notas adjuntadas, la prestigiosa Universidad De la Cachaña necesita obtener el promedio general de cada uno de los alumnos. Para esto se le solicita que calcule el promedio con cada una de las asignaturas y el promedio se anexe como una nueva columna al final del DataFrame original. Cabe señalar que las notas deben ser redondeadas al segundo decimal.\n\n**To-Do:**\n- [ ] Crear función que nos permite obtener el promedio de cada uno de los alumnos y anexar esta información en el DataFrame original.\n",
   "metadata": {
    "id": "AEkWI5K-OZgt",
    "cell_id": "00039-5e16ce47-71fb-4750-9d81-c7bdb854141d",
    "deepnote_cell_type": "markdown"
   }
  },
  {
   "cell_type": "markdown",
   "source": "**Respuesta:**",
   "metadata": {
    "tags": [],
    "cell_id": "00040-ed949f3e-dd9b-44a7-aa8c-b75d7651546d",
    "deepnote_cell_type": "markdown"
   }
  },
  {
   "cell_type": "code",
   "metadata": {
    "id": "b6CTPp5TAMhE",
    "executionInfo": {
     "status": "ok",
     "timestamp": 1619205973016,
     "user_tz": 240,
     "elapsed": 644,
     "user": {
      "displayName": "IGNACIO ALEJANDRO MEZA",
      "photoUrl": "",
      "userId": "17011121633069169364"
     }
    },
    "deepnote_to_be_reexecuted": false,
    "source_hash": "2b361400",
    "execution_start": 1633016526576,
    "execution_millis": 5,
    "cell_id": "00041-71c0f72b-1361-4b83-a3d2-cd5a916f0bb0",
    "deepnote_cell_type": "code"
   },
   "source": "def alumnos_promedio(dataframe_in):\n  dataframe_in['GPA'] = (dataframe_in['math score'] + dataframe_in['reading score'] + dataframe_in['writing score'])/3\n  return dataframe_in",
   "execution_count": null,
   "outputs": []
  },
  {
   "cell_type": "markdown",
   "source": "**Respuesta Esperada:**",
   "metadata": {
    "id": "hrakfq02Si8z",
    "cell_id": "00042-507bb30d-9670-4be3-9854-1617ba8f2095",
    "deepnote_cell_type": "markdown"
   }
  },
  {
   "cell_type": "code",
   "metadata": {
    "colab": {
     "base_uri": "https://localhost:8080/",
     "height": 204
    },
    "id": "g9Fiwt8USiac",
    "executionInfo": {
     "status": "ok",
     "timestamp": 1619205975187,
     "user_tz": 240,
     "elapsed": 783,
     "user": {
      "displayName": "IGNACIO ALEJANDRO MEZA",
      "photoUrl": "",
      "userId": "17011121633069169364"
     }
    },
    "outputId": "1e4da1d8-62d8-41b1-923d-68bfd65bed38",
    "deepnote_to_be_reexecuted": false,
    "source_hash": "985aca27",
    "execution_start": 1633016526650,
    "execution_millis": 29,
    "cell_id": "00043-e16930f7-fe82-453a-8e9a-7421732ac929",
    "deepnote_cell_type": "code"
   },
   "source": "df_grades = alumnos_promedio(df_grades)\ndf_grades.head()\n#me eché la respuesta esperada pero chequeando ta bn\n",
   "execution_count": null,
   "outputs": [
    {
     "output_type": "execute_result",
     "execution_count": 14,
     "data": {
      "application/vnd.deepnote.dataframe.v2+json": {
       "row_count": 5,
       "column_count": 10,
       "columns": [
        {
         "name": "names",
         "dtype": "object",
         "stats": {
          "unique_count": 5,
          "nan_count": 0,
          "categories": [
           {
            "name": "Rita Courtney",
            "count": 1
           },
           {
            "name": "Charles Linstrom",
            "count": 1
           },
           {
            "name": "3 others",
            "count": 3
           }
          ]
         }
        },
        {
         "name": "gender",
         "dtype": "object",
         "stats": {
          "unique_count": 2,
          "nan_count": 0,
          "categories": [
           {
            "name": "male",
            "count": 4
           },
           {
            "name": "female",
            "count": 1
           }
          ]
         }
        },
        {
         "name": "race/ethnicity",
         "dtype": "object",
         "stats": {
          "unique_count": 4,
          "nan_count": 0,
          "categories": [
           {
            "name": "group B",
            "count": 2
           },
           {
            "name": "group A",
            "count": 1
           },
           {
            "name": "2 others",
            "count": 2
           }
          ]
         }
        },
        {
         "name": "parental level of education",
         "dtype": "object",
         "stats": {
          "unique_count": 2,
          "nan_count": 0,
          "categories": [
           {
            "name": "some high school",
            "count": 4
           },
           {
            "name": "bachelor's degree",
            "count": 1
           }
          ]
         }
        },
        {
         "name": "lunch",
         "dtype": "object",
         "stats": {
          "unique_count": 1,
          "nan_count": 0,
          "categories": [
           {
            "name": "standard",
            "count": 5
           }
          ]
         }
        },
        {
         "name": "test preparation course",
         "dtype": "object",
         "stats": {
          "unique_count": 2,
          "nan_count": 0,
          "categories": [
           {
            "name": "completed",
            "count": 3
           },
           {
            "name": "none",
            "count": 2
           }
          ]
         }
        },
        {
         "name": "math score",
         "dtype": "float64",
         "stats": {
          "unique_count": 5,
          "nan_count": 0,
          "min": "3.22",
          "max": "6.64",
          "histogram": [
           {
            "bin_start": 3.22,
            "bin_end": 3.5620000000000003,
            "count": 1
           },
           {
            "bin_start": 3.5620000000000003,
            "bin_end": 3.904,
            "count": 0
           },
           {
            "bin_start": 3.904,
            "bin_end": 4.246,
            "count": 0
           },
           {
            "bin_start": 4.246,
            "bin_end": 4.588,
            "count": 0
           },
           {
            "bin_start": 4.588,
            "bin_end": 4.93,
            "count": 0
           },
           {
            "bin_start": 4.93,
            "bin_end": 5.272,
            "count": 0
           },
           {
            "bin_start": 5.272,
            "bin_end": 5.614,
            "count": 1
           },
           {
            "bin_start": 5.614,
            "bin_end": 5.9559999999999995,
            "count": 2
           },
           {
            "bin_start": 5.9559999999999995,
            "bin_end": 6.298,
            "count": 0
           },
           {
            "bin_start": 6.298,
            "bin_end": 6.64,
            "count": 1
           }
          ]
         }
        },
        {
         "name": "reading score",
         "dtype": "float64",
         "stats": {
          "unique_count": 5,
          "nan_count": 0,
          "min": "3.76",
          "max": "6.16",
          "histogram": [
           {
            "bin_start": 3.76,
            "bin_end": 4,
            "count": 1
           },
           {
            "bin_start": 4,
            "bin_end": 4.24,
            "count": 0
           },
           {
            "bin_start": 4.24,
            "bin_end": 4.48,
            "count": 0
           },
           {
            "bin_start": 4.48,
            "bin_end": 4.72,
            "count": 0
           },
           {
            "bin_start": 4.72,
            "bin_end": 4.96,
            "count": 0
           },
           {
            "bin_start": 4.96,
            "bin_end": 5.2,
            "count": 1
           },
           {
            "bin_start": 5.2,
            "bin_end": 5.44,
            "count": 0
           },
           {
            "bin_start": 5.44,
            "bin_end": 5.68,
            "count": 1
           },
           {
            "bin_start": 5.68,
            "bin_end": 5.92,
            "count": 1
           },
           {
            "bin_start": 5.92,
            "bin_end": 6.16,
            "count": 1
           }
          ]
         }
        },
        {
         "name": "writing score",
         "dtype": "float64",
         "stats": {
          "unique_count": 5,
          "nan_count": 0,
          "min": "3.76",
          "max": "6.22",
          "histogram": [
           {
            "bin_start": 3.76,
            "bin_end": 4.006,
            "count": 1
           },
           {
            "bin_start": 4.006,
            "bin_end": 4.252,
            "count": 0
           },
           {
            "bin_start": 4.252,
            "bin_end": 4.497999999999999,
            "count": 0
           },
           {
            "bin_start": 4.497999999999999,
            "bin_end": 4.744,
            "count": 0
           },
           {
            "bin_start": 4.744,
            "bin_end": 4.99,
            "count": 1
           },
           {
            "bin_start": 4.99,
            "bin_end": 5.236,
            "count": 0
           },
           {
            "bin_start": 5.236,
            "bin_end": 5.481999999999999,
            "count": 0
           },
           {
            "bin_start": 5.481999999999999,
            "bin_end": 5.728,
            "count": 1
           },
           {
            "bin_start": 5.728,
            "bin_end": 5.974,
            "count": 1
           },
           {
            "bin_start": 5.974,
            "bin_end": 6.22,
            "count": 1
           }
          ]
         }
        },
        {
         "name": "GPA",
         "dtype": "float64",
         "stats": {
          "unique_count": 5,
          "nan_count": 0,
          "min": "3.58",
          "max": "6.34",
          "histogram": [
           {
            "bin_start": 3.58,
            "bin_end": 3.856,
            "count": 1
           },
           {
            "bin_start": 3.856,
            "bin_end": 4.132,
            "count": 0
           },
           {
            "bin_start": 4.132,
            "bin_end": 4.4079999999999995,
            "count": 0
           },
           {
            "bin_start": 4.4079999999999995,
            "bin_end": 4.684,
            "count": 0
           },
           {
            "bin_start": 4.684,
            "bin_end": 4.96,
            "count": 0
           },
           {
            "bin_start": 4.96,
            "bin_end": 5.236,
            "count": 1
           },
           {
            "bin_start": 5.236,
            "bin_end": 5.512,
            "count": 0
           },
           {
            "bin_start": 5.512,
            "bin_end": 5.788,
            "count": 2
           },
           {
            "bin_start": 5.788,
            "bin_end": 6.064,
            "count": 0
           },
           {
            "bin_start": 6.064,
            "bin_end": 6.34,
            "count": 1
           }
          ]
         }
        },
        {
         "name": "_deepnote_index_column",
         "dtype": "int64"
        }
       ],
       "rows_top": [
        {
         "names": "Rita Courtney",
         "gender": "female",
         "race/ethnicity": "group B",
         "parental level of education": "some high school",
         "lunch": "standard",
         "test preparation course": "none",
         "math score": 3.22,
         "reading score": 3.76,
         "writing score": 3.76,
         "GPA": 3.58,
         "_deepnote_index_column": 0
        },
        {
         "names": "Charles Linstrom",
         "gender": "male",
         "race/ethnicity": "group A",
         "parental level of education": "bachelor's degree",
         "lunch": "standard",
         "test preparation course": "completed",
         "math score": 5.8,
         "reading score": 5.68,
         "writing score": 5.86,
         "GPA": 5.78,
         "_deepnote_index_column": 3
        },
        {
         "names": "Brian Young",
         "gender": "male",
         "race/ethnicity": "group C",
         "parental level of education": "some high school",
         "lunch": "standard",
         "test preparation course": "none",
         "math score": 5.38,
         "reading score": 4.96,
         "writing score": 4.78,
         "GPA": 5.04,
         "_deepnote_index_column": 5
        },
        {
         "names": "Howard Jimenez",
         "gender": "male",
         "race/ethnicity": "group E",
         "parental level of education": "some high school",
         "lunch": "standard",
         "test preparation course": "completed",
         "math score": 5.86,
         "reading score": 5.5,
         "writing score": 5.56,
         "GPA": 5.64,
         "_deepnote_index_column": 6
        },
        {
         "names": "Wayne Wilson",
         "gender": "male",
         "race/ethnicity": "group B",
         "parental level of education": "some high school",
         "lunch": "standard",
         "test preparation course": "completed",
         "math score": 6.64,
         "reading score": 6.16,
         "writing score": 6.22,
         "GPA": 6.34,
         "_deepnote_index_column": 7
        }
       ],
       "rows_bottom": null
      },
      "text/plain": "              names  gender race/ethnicity parental level of education  \\\n0     Rita Courtney  female        group B            some high school   \n3  Charles Linstrom    male        group A           bachelor's degree   \n5       Brian Young    male        group C            some high school   \n6    Howard Jimenez    male        group E            some high school   \n7      Wayne Wilson    male        group B            some high school   \n\n      lunch test preparation course  math score  reading score  writing score  \\\n0  standard                    none        3.22           3.76           3.76   \n3  standard               completed        5.80           5.68           5.86   \n5  standard                    none        5.38           4.96           4.78   \n6  standard               completed        5.86           5.50           5.56   \n7  standard               completed        6.64           6.16           6.22   \n\n    GPA  \n0  3.58  \n3  5.78  \n5  5.04  \n6  5.64  \n7  6.34  ",
      "text/html": "<div>\n<style scoped>\n    .dataframe tbody tr th:only-of-type {\n        vertical-align: middle;\n    }\n\n    .dataframe tbody tr th {\n        vertical-align: top;\n    }\n\n    .dataframe thead th {\n        text-align: right;\n    }\n</style>\n<table border=\"1\" class=\"dataframe\">\n  <thead>\n    <tr style=\"text-align: right;\">\n      <th></th>\n      <th>names</th>\n      <th>gender</th>\n      <th>race/ethnicity</th>\n      <th>parental level of education</th>\n      <th>lunch</th>\n      <th>test preparation course</th>\n      <th>math score</th>\n      <th>reading score</th>\n      <th>writing score</th>\n      <th>GPA</th>\n    </tr>\n  </thead>\n  <tbody>\n    <tr>\n      <th>0</th>\n      <td>Rita Courtney</td>\n      <td>female</td>\n      <td>group B</td>\n      <td>some high school</td>\n      <td>standard</td>\n      <td>none</td>\n      <td>3.22</td>\n      <td>3.76</td>\n      <td>3.76</td>\n      <td>3.58</td>\n    </tr>\n    <tr>\n      <th>3</th>\n      <td>Charles Linstrom</td>\n      <td>male</td>\n      <td>group A</td>\n      <td>bachelor's degree</td>\n      <td>standard</td>\n      <td>completed</td>\n      <td>5.80</td>\n      <td>5.68</td>\n      <td>5.86</td>\n      <td>5.78</td>\n    </tr>\n    <tr>\n      <th>5</th>\n      <td>Brian Young</td>\n      <td>male</td>\n      <td>group C</td>\n      <td>some high school</td>\n      <td>standard</td>\n      <td>none</td>\n      <td>5.38</td>\n      <td>4.96</td>\n      <td>4.78</td>\n      <td>5.04</td>\n    </tr>\n    <tr>\n      <th>6</th>\n      <td>Howard Jimenez</td>\n      <td>male</td>\n      <td>group E</td>\n      <td>some high school</td>\n      <td>standard</td>\n      <td>completed</td>\n      <td>5.86</td>\n      <td>5.50</td>\n      <td>5.56</td>\n      <td>5.64</td>\n    </tr>\n    <tr>\n      <th>7</th>\n      <td>Wayne Wilson</td>\n      <td>male</td>\n      <td>group B</td>\n      <td>some high school</td>\n      <td>standard</td>\n      <td>completed</td>\n      <td>6.64</td>\n      <td>6.16</td>\n      <td>6.22</td>\n      <td>6.34</td>\n    </tr>\n  </tbody>\n</table>\n</div>"
     },
     "metadata": {}
    }
   ]
  },
  {
   "cell_type": "markdown",
   "source": "### 1.3.3 Reprobados y Destacados [1.5 Punto, 0.5 Cada DataFrame]",
   "metadata": {
    "id": "uA0ZXAWyBoLX",
    "cell_id": "00044-362969a2-b0d5-4d45-a6f1-0293e36c0417",
    "deepnote_cell_type": "markdown"
   }
  },
  {
   "cell_type": "markdown",
   "source": "Contentos con su desempeño, la Universidad les solicita que obtengan los alumnos quienes han reprobado el año y los que han tenido desempeño de destacado. Para esto se considerará que un alumno ha reprobado el año cuando el promedio de notas es inferior a 4.0 en la Escala Chilena, y se considerará destacado si posee notas superiores a 5.8 en todas las asignaturas (o sea notas superiores a 5.8 en `math score`, `reading score` y `writing score`).\n\nCree una función que permita obtener tres Dataframes: \n- El primero deberá poseer solamente los alumnos que han reprobado en la prestigiosa universidad.\n- El segundo debe entregar un DataFrame similar al original, pero marcado con una \"R\" el promedio de notas de los alumnos reprobados.\n- El tercero será un Data Frame con los alumnos destacados ordenados de mayor a menor.\n\n**To-Do:**\n\n- [ ] Obtener DataFrame con los alumnos que reprobaron el año.\n- [ ] Obtener DataFrame similar al original, pero marcados con una \"R\" el atributo GPA de los alumnos reprobados.\n- [ ] Obtener DataFrame con los alumnos destacados ordenados de mayor a menor.",
   "metadata": {
    "id": "k1FKahC3_g5_",
    "cell_id": "00045-7514bdf0-01ec-4c0a-83d1-12a2a8c8d3c3",
    "deepnote_cell_type": "markdown"
   }
  },
  {
   "cell_type": "markdown",
   "source": "**Respuesta:**",
   "metadata": {
    "tags": [],
    "cell_id": "00046-8337183c-cd19-4dc0-b936-9dadeda8418e",
    "deepnote_cell_type": "markdown"
   }
  },
  {
   "cell_type": "code",
   "metadata": {
    "id": "Yw52wzwMAXHW",
    "executionInfo": {
     "status": "ok",
     "timestamp": 1619205977306,
     "user_tz": 240,
     "elapsed": 641,
     "user": {
      "displayName": "IGNACIO ALEJANDRO MEZA",
      "photoUrl": "",
      "userId": "17011121633069169364"
     }
    },
    "deepnote_to_be_reexecuted": false,
    "source_hash": "a6bbedad",
    "execution_start": 1633016526733,
    "execution_millis": 295,
    "cell_id": "00047-d6f8abcb-8fba-4e2a-9dde-de6844e4868b",
    "deepnote_cell_type": "code"
   },
   "source": "def reprobados_destacados(dataframe_in):\n    reprobados = dataframe_in[dataframe_in['GPA']<4]\n    etiquetados = dataframe_in.copy()\n    etiquetados.loc[(etiquetados['GPA'] < 4), 'GPA'] = 'R'\n    destacados = dataframe_in[(dataframe_in['math score']>5.8) & (dataframe_in['writing score']>5.8) & (dataframe_in['reading score']>5.8)].sort_values(by='GPA', ascending = False)\n    return reprobados, etiquetados, destacados\n\ndataframe1, dataframe2, dataframe3 = reprobados_destacados(df_grades)\ndisplay(dataframe1)\ndisplay(dataframe2)\ndisplay(dataframe3)\n",
   "execution_count": null,
   "outputs": [
    {
     "data": {
      "application/vnd.deepnote.dataframe.v2+json": {
       "row_count": 86,
       "column_count": 10,
       "columns": [
        {
         "name": "names",
         "dtype": "object",
         "stats": {
          "unique_count": 86,
          "nan_count": 0,
          "categories": [
           {
            "name": "Rita Courtney",
            "count": 1
           },
           {
            "name": "Mikki Amaya",
            "count": 1
           },
           {
            "name": "84 others",
            "count": 84
           }
          ]
         }
        },
        {
         "name": "gender",
         "dtype": "object",
         "stats": {
          "unique_count": 2,
          "nan_count": 0,
          "categories": [
           {
            "name": "male",
            "count": 55
           },
           {
            "name": "female",
            "count": 31
           }
          ]
         }
        },
        {
         "name": "race/ethnicity",
         "dtype": "object",
         "stats": {
          "unique_count": 5,
          "nan_count": 0,
          "categories": [
           {
            "name": "group C",
            "count": 24
           },
           {
            "name": "group B",
            "count": 23
           },
           {
            "name": "3 others",
            "count": 39
           }
          ]
         }
        },
        {
         "name": "parental level of education",
         "dtype": "object",
         "stats": {
          "unique_count": 6,
          "nan_count": 0,
          "categories": [
           {
            "name": "high school",
            "count": 27
           },
           {
            "name": "some high school",
            "count": 26
           },
           {
            "name": "4 others",
            "count": 33
           }
          ]
         }
        },
        {
         "name": "lunch",
         "dtype": "object",
         "stats": {
          "unique_count": 2,
          "nan_count": 0,
          "categories": [
           {
            "name": "free/reduced",
            "count": 53
           },
           {
            "name": "standard",
            "count": 33
           }
          ]
         }
        },
        {
         "name": "test preparation course",
         "dtype": "object",
         "stats": {
          "unique_count": 2,
          "nan_count": 0,
          "categories": [
           {
            "name": "none",
            "count": 70
           },
           {
            "name": "completed",
            "count": 16
           }
          ]
         }
        },
        {
         "name": "math score",
         "dtype": "float64",
         "stats": {
          "unique_count": 37,
          "nan_count": 0,
          "min": "1.0",
          "max": "4.66",
          "histogram": [
           {
            "bin_start": 1,
            "bin_end": 1.366,
            "count": 1
           },
           {
            "bin_start": 1.366,
            "bin_end": 1.732,
            "count": 1
           },
           {
            "bin_start": 1.732,
            "bin_end": 2.098,
            "count": 1
           },
           {
            "bin_start": 2.098,
            "bin_end": 2.464,
            "count": 4
           },
           {
            "bin_start": 2.464,
            "bin_end": 2.83,
            "count": 9
           },
           {
            "bin_start": 2.83,
            "bin_end": 3.1959999999999997,
            "count": 8
           },
           {
            "bin_start": 3.1959999999999997,
            "bin_end": 3.562,
            "count": 19
           },
           {
            "bin_start": 3.562,
            "bin_end": 3.928,
            "count": 21
           },
           {
            "bin_start": 3.928,
            "bin_end": 4.2940000000000005,
            "count": 14
           },
           {
            "bin_start": 4.2940000000000005,
            "bin_end": 4.66,
            "count": 8
           }
          ]
         }
        },
        {
         "name": "reading score",
         "dtype": "float64",
         "stats": {
          "unique_count": 30,
          "nan_count": 0,
          "min": "2.02",
          "max": "4.42",
          "histogram": [
           {
            "bin_start": 2.02,
            "bin_end": 2.26,
            "count": 1
           },
           {
            "bin_start": 2.26,
            "bin_end": 2.5,
            "count": 3
           },
           {
            "bin_start": 2.5,
            "bin_end": 2.74,
            "count": 2
           },
           {
            "bin_start": 2.74,
            "bin_end": 2.98,
            "count": 5
           },
           {
            "bin_start": 2.98,
            "bin_end": 3.2199999999999998,
            "count": 4
           },
           {
            "bin_start": 3.2199999999999998,
            "bin_end": 3.46,
            "count": 10
           },
           {
            "bin_start": 3.46,
            "bin_end": 3.7,
            "count": 20
           },
           {
            "bin_start": 3.7,
            "bin_end": 3.94,
            "count": 17
           },
           {
            "bin_start": 3.94,
            "bin_end": 4.18,
            "count": 17
           },
           {
            "bin_start": 4.18,
            "bin_end": 4.42,
            "count": 7
           }
          ]
         }
        },
        {
         "name": "writing score",
         "dtype": "float64",
         "stats": {
          "unique_count": 30,
          "nan_count": 0,
          "min": "1.6",
          "max": "4.24",
          "histogram": [
           {
            "bin_start": 1.6,
            "bin_end": 1.864,
            "count": 1
           },
           {
            "bin_start": 1.864,
            "bin_end": 2.128,
            "count": 1
           },
           {
            "bin_start": 2.128,
            "bin_end": 2.3920000000000003,
            "count": 3
           },
           {
            "bin_start": 2.3920000000000003,
            "bin_end": 2.656,
            "count": 3
           },
           {
            "bin_start": 2.656,
            "bin_end": 2.92,
            "count": 2
           },
           {
            "bin_start": 2.92,
            "bin_end": 3.184,
            "count": 11
           },
           {
            "bin_start": 3.184,
            "bin_end": 3.4480000000000004,
            "count": 8
           },
           {
            "bin_start": 3.4480000000000004,
            "bin_end": 3.712,
            "count": 31
           },
           {
            "bin_start": 3.712,
            "bin_end": 3.9760000000000004,
            "count": 16
           },
           {
            "bin_start": 3.9760000000000004,
            "bin_end": 4.24,
            "count": 10
           }
          ]
         }
        },
        {
         "name": "GPA",
         "dtype": "float64",
         "stats": {
          "unique_count": 54,
          "nan_count": 0,
          "min": "1.54",
          "max": "3.98",
          "histogram": [
           {
            "bin_start": 1.54,
            "bin_end": 1.784,
            "count": 1
           },
           {
            "bin_start": 1.784,
            "bin_end": 2.028,
            "count": 0
           },
           {
            "bin_start": 2.028,
            "bin_end": 2.2720000000000002,
            "count": 1
           },
           {
            "bin_start": 2.2720000000000002,
            "bin_end": 2.516,
            "count": 2
           },
           {
            "bin_start": 2.516,
            "bin_end": 2.76,
            "count": 2
           },
           {
            "bin_start": 2.76,
            "bin_end": 3.004,
            "count": 9
           },
           {
            "bin_start": 3.004,
            "bin_end": 3.248,
            "count": 3
           },
           {
            "bin_start": 3.248,
            "bin_end": 3.492,
            "count": 14
           },
           {
            "bin_start": 3.492,
            "bin_end": 3.7359999999999998,
            "count": 16
           },
           {
            "bin_start": 3.7359999999999998,
            "bin_end": 3.98,
            "count": 38
           }
          ]
         }
        },
        {
         "name": "_deepnote_index_column",
         "dtype": "int64"
        }
       ],
       "rows_top": [
        {
         "names": "Rita Courtney",
         "gender": "female",
         "race/ethnicity": "group B",
         "parental level of education": "some high school",
         "lunch": "standard",
         "test preparation course": "none",
         "math score": 3.22,
         "reading score": 3.76,
         "writing score": 3.76,
         "GPA": 3.58,
         "_deepnote_index_column": 0
        },
        {
         "names": "Mikki Amaya",
         "gender": "female",
         "race/ethnicity": "group A",
         "parental level of education": "high school",
         "lunch": "free/reduced",
         "test preparation course": "completed",
         "math score": 3.04,
         "reading score": 3.88,
         "writing score": 3.46,
         "GPA": 3.4599999999999995,
         "_deepnote_index_column": 13
        },
        {
         "names": "Samuel Dougal",
         "gender": "male",
         "race/ethnicity": "group C",
         "parental level of education": "master's degree",
         "lunch": "free/reduced",
         "test preparation course": "completed",
         "math score": 3.76,
         "reading score": 3.52,
         "writing score": 3.76,
         "GPA": 3.6799999999999997,
         "_deepnote_index_column": 26
        },
        {
         "names": "Rodger Talavera",
         "gender": "male",
         "race/ethnicity": "group B",
         "parental level of education": "high school",
         "lunch": "free/reduced",
         "test preparation course": "none",
         "math score": 3.16,
         "reading score": 2.74,
         "writing score": 2.62,
         "GPA": 2.84,
         "_deepnote_index_column": 55
        },
        {
         "names": "Morris Johnson",
         "gender": "male",
         "race/ethnicity": "group A",
         "parental level of education": "associate's degree",
         "lunch": "free/reduced",
         "test preparation course": "completed",
         "math score": 3.4,
         "reading score": 4.3,
         "writing score": 4.18,
         "GPA": 3.9599999999999995,
         "_deepnote_index_column": 63
        },
        {
         "names": "Anthony Malcomb",
         "gender": "male",
         "race/ethnicity": "group C",
         "parental level of education": "some college",
         "lunch": "free/reduced",
         "test preparation course": "none",
         "math score": 3.1,
         "reading score": 2.68,
         "writing score": 2.62,
         "GPA": 2.8000000000000003,
         "_deepnote_index_column": 66
        },
        {
         "names": "Ann Pence",
         "gender": "female",
         "race/ethnicity": "group B",
         "parental level of education": "associate's degree",
         "lunch": "standard",
         "test preparation course": "none",
         "math score": 3.4,
         "reading score": 3.88,
         "writing score": 4,
         "GPA": 3.76,
         "_deepnote_index_column": 89
        },
        {
         "names": "Brian Green",
         "gender": "male",
         "race/ethnicity": "group C",
         "parental level of education": "some college",
         "lunch": "standard",
         "test preparation course": "none",
         "math score": 4.54,
         "reading score": 3.46,
         "writing score": 3.52,
         "GPA": 3.84,
         "_deepnote_index_column": 118
        },
        {
         "names": "Carl Caruthers",
         "gender": "male",
         "race/ethnicity": "group A",
         "parental level of education": "some college",
         "lunch": "standard",
         "test preparation course": "none",
         "math score": 4.18,
         "reading score": 3.58,
         "writing score": 3.58,
         "GPA": 3.78,
         "_deepnote_index_column": 153
        },
        {
         "names": "Paul Sherrill",
         "gender": "male",
         "race/ethnicity": "group B",
         "parental level of education": "high school",
         "lunch": "free/reduced",
         "test preparation course": "none",
         "math score": 3.94,
         "reading score": 3.7,
         "writing score": 3.7,
         "GPA": 3.78,
         "_deepnote_index_column": 169
        },
        {
         "names": "Alicia Ratliff",
         "gender": "female",
         "race/ethnicity": "group B",
         "parental level of education": "some high school",
         "lunch": "standard",
         "test preparation course": "completed",
         "math score": 2.92,
         "reading score": 4.06,
         "writing score": 3.64,
         "GPA": 3.5399999999999996,
         "_deepnote_index_column": 193
        },
        {
         "names": "Patricia Briney",
         "gender": "female",
         "race/ethnicity": "group B",
         "parental level of education": "some college",
         "lunch": "standard",
         "test preparation course": "none",
         "math score": 2.14,
         "reading score": 3.28,
         "writing score": 2.92,
         "GPA": 2.78,
         "_deepnote_index_column": 196
        },
        {
         "names": "Chris Chauncey",
         "gender": "male",
         "race/ethnicity": "group D",
         "parental level of education": "high school",
         "lunch": "free/reduced",
         "test preparation course": "none",
         "math score": 3.64,
         "reading score": 4.06,
         "writing score": 3.88,
         "GPA": 3.8599999999999994,
         "_deepnote_index_column": 206
        },
        {
         "names": "Julie Watkins",
         "gender": "female",
         "race/ethnicity": "group E",
         "parental level of education": "some high school",
         "lunch": "free/reduced",
         "test preparation course": "none",
         "math score": 3.28,
         "reading score": 3.94,
         "writing score": 3.7,
         "GPA": 3.64,
         "_deepnote_index_column": 218
        },
        {
         "names": "Michael Reel",
         "gender": "male",
         "race/ethnicity": "group D",
         "parental level of education": "high school",
         "lunch": "standard",
         "test preparation course": "none",
         "math score": 3.7,
         "reading score": 3.88,
         "writing score": 3.76,
         "GPA": 3.78,
         "_deepnote_index_column": 237
        },
        {
         "names": "Gary Spencer",
         "gender": "male",
         "race/ethnicity": "group B",
         "parental level of education": "some high school",
         "lunch": "standard",
         "test preparation course": "completed",
         "math score": 4.06,
         "reading score": 4.24,
         "writing score": 3.46,
         "GPA": 3.9200000000000004,
         "_deepnote_index_column": 244
        },
        {
         "names": "Michael Mederos",
         "gender": "male",
         "race/ethnicity": "group C",
         "parental level of education": "high school",
         "lunch": "standard",
         "test preparation course": "none",
         "math score": 4,
         "reading score": 3.88,
         "writing score": 3.52,
         "GPA": 3.8000000000000003,
         "_deepnote_index_column": 248
        },
        {
         "names": "Callie Mork",
         "gender": "female",
         "race/ethnicity": "group C",
         "parental level of education": "bachelor's degree",
         "lunch": "free/reduced",
         "test preparation course": "completed",
         "math score": 3.58,
         "reading score": 4.06,
         "writing score": 4.24,
         "GPA": 3.9599999999999995,
         "_deepnote_index_column": 259
        },
        {
         "names": "William Saska",
         "gender": "male",
         "race/ethnicity": "group B",
         "parental level of education": "associate's degree",
         "lunch": "standard",
         "test preparation course": "none",
         "math score": 4.66,
         "reading score": 3.52,
         "writing score": 3.46,
         "GPA": 3.8800000000000003,
         "_deepnote_index_column": 304
        },
        {
         "names": "Gerald Brunner",
         "gender": "male",
         "race/ethnicity": "group D",
         "parental level of education": "high school",
         "lunch": "standard",
         "test preparation course": "none",
         "math score": 3.76,
         "reading score": 3.04,
         "writing score": 3.16,
         "GPA": 3.3200000000000003,
         "_deepnote_index_column": 311
        },
        {
         "names": "Barbara Henriques",
         "gender": "female",
         "race/ethnicity": "group C",
         "parental level of education": "some college",
         "lunch": "free/reduced",
         "test preparation course": "none",
         "math score": 2.32,
         "reading score": 3.34,
         "writing score": 2.98,
         "GPA": 2.8800000000000003,
         "_deepnote_index_column": 312
        },
        {
         "names": "John Moreno",
         "gender": "male",
         "race/ethnicity": "group B",
         "parental level of education": "some high school",
         "lunch": "free/reduced",
         "test preparation course": "none",
         "math score": 3.88,
         "reading score": 4.12,
         "writing score": 3.7,
         "GPA": 3.9,
         "_deepnote_index_column": 314
        },
        {
         "names": "Kermit Gates",
         "gender": "male",
         "race/ethnicity": "group B",
         "parental level of education": "associate's degree",
         "lunch": "standard",
         "test preparation course": "none",
         "math score": 3.88,
         "reading score": 3.58,
         "writing score": 3.7,
         "GPA": 3.72,
         "_deepnote_index_column": 349
        },
        {
         "names": "Paula Barriere",
         "gender": "female",
         "race/ethnicity": "group D",
         "parental level of education": "bachelor's degree",
         "lunch": "free/reduced",
         "test preparation course": "none",
         "math score": 2.74,
         "reading score": 3.46,
         "writing score": 3.82,
         "GPA": 3.34,
         "_deepnote_index_column": 357
        },
        {
         "names": "Marina Smith",
         "gender": "female",
         "race/ethnicity": "group D",
         "parental level of education": "associate's degree",
         "lunch": "free/reduced",
         "test preparation course": "none",
         "math score": 2.56,
         "reading score": 2.86,
         "writing score": 3.28,
         "GPA": 2.9,
         "_deepnote_index_column": 358
        },
        {
         "names": "John Gunter",
         "gender": "male",
         "race/ethnicity": "group A",
         "parental level of education": "some college",
         "lunch": "free/reduced",
         "test preparation course": "none",
         "math score": 2.68,
         "reading score": 2.38,
         "writing score": 2.14,
         "GPA": 2.4000000000000004,
         "_deepnote_index_column": 372
        },
        {
         "names": "Sara Ray",
         "gender": "female",
         "race/ethnicity": "group C",
         "parental level of education": "high school",
         "lunch": "free/reduced",
         "test preparation course": "none",
         "math score": 3.1,
         "reading score": 4.18,
         "writing score": 3.76,
         "GPA": 3.6799999999999997,
         "_deepnote_index_column": 379
        },
        {
         "names": "Flossie Streeter",
         "gender": "female",
         "race/ethnicity": "group C",
         "parental level of education": "some high school",
         "lunch": "free/reduced",
         "test preparation course": "completed",
         "math score": 2.74,
         "reading score": 3.4,
         "writing score": 3.64,
         "GPA": 3.2600000000000002,
         "_deepnote_index_column": 412
        },
        {
         "names": "Charles Ayala",
         "gender": "male",
         "race/ethnicity": "group C",
         "parental level of education": "some college",
         "lunch": "standard",
         "test preparation course": "none",
         "math score": 4.18,
         "reading score": 3.64,
         "writing score": 3.52,
         "GPA": 3.78,
         "_deepnote_index_column": 517
        },
        {
         "names": "Anthony Hinerman",
         "gender": "male",
         "race/ethnicity": "group C",
         "parental level of education": "some high school",
         "lunch": "standard",
         "test preparation course": "none",
         "math score": 3.94,
         "reading score": 3.94,
         "writing score": 3.46,
         "GPA": 3.78,
         "_deepnote_index_column": 524
        },
        {
         "names": "Doyle Johnson",
         "gender": "male",
         "race/ethnicity": "group A",
         "parental level of education": "high school",
         "lunch": "standard",
         "test preparation course": "none",
         "math score": 4.42,
         "reading score": 3.58,
         "writing score": 3.82,
         "GPA": 3.94,
         "_deepnote_index_column": 531
        },
        {
         "names": "Evan Smith",
         "gender": "male",
         "race/ethnicity": "group E",
         "parental level of education": "associate's degree",
         "lunch": "free/reduced",
         "test preparation course": "none",
         "math score": 3.76,
         "reading score": 3.58,
         "writing score": 3.46,
         "GPA": 3.6,
         "_deepnote_index_column": 532
        },
        {
         "names": "Joseph Jaco",
         "gender": "male",
         "race/ethnicity": "group B",
         "parental level of education": "some college",
         "lunch": "free/reduced",
         "test preparation course": "none",
         "math score": 3.4,
         "reading score": 3.58,
         "writing score": 3.34,
         "GPA": 3.44,
         "_deepnote_index_column": 537
        },
        {
         "names": "Charles Jackson",
         "gender": "male",
         "race/ethnicity": "group E",
         "parental level of education": "some high school",
         "lunch": "standard",
         "test preparation course": "none",
         "math score": 2.8,
         "reading score": 2.56,
         "writing score": 2.32,
         "GPA": 2.56,
         "_deepnote_index_column": 562
        },
        {
         "names": "Matthew Freeman",
         "gender": "male",
         "race/ethnicity": "group B",
         "parental level of education": "high school",
         "lunch": "standard",
         "test preparation course": "completed",
         "math score": 4.12,
         "reading score": 3.94,
         "writing score": 3.76,
         "GPA": 3.94,
         "_deepnote_index_column": 637
        },
        {
         "names": "Dana Mojica",
         "gender": "female",
         "race/ethnicity": "group D",
         "parental level of education": "high school",
         "lunch": "free/reduced",
         "test preparation course": "none",
         "math score": 3.34,
         "reading score": 4.12,
         "writing score": 3.76,
         "GPA": 3.7399999999999998,
         "_deepnote_index_column": 640
        },
        {
         "names": "Lauren Warren",
         "gender": "female",
         "race/ethnicity": "group C",
         "parental level of education": "some high school",
         "lunch": "free/reduced",
         "test preparation course": "none",
         "math score": 3.64,
         "reading score": 4,
         "writing score": 4.06,
         "GPA": 3.9,
         "_deepnote_index_column": 643
        },
        {
         "names": "Luetta Caponigro",
         "gender": "female",
         "race/ethnicity": "group B",
         "parental level of education": "high school",
         "lunch": "free/reduced",
         "test preparation course": "none",
         "math score": 1.48,
         "reading score": 2.44,
         "writing score": 2.38,
         "GPA": 2.1,
         "_deepnote_index_column": 679
        },
        {
         "names": "Antonio Pelaez",
         "gender": "male",
         "race/ethnicity": "group C",
         "parental level of education": "associate's degree",
         "lunch": "standard",
         "test preparation course": "none",
         "math score": 3.94,
         "reading score": 4.06,
         "writing score": 3.58,
         "GPA": 3.86,
         "_deepnote_index_column": 689
        },
        {
         "names": "Emily Devins",
         "gender": "female",
         "race/ethnicity": "group B",
         "parental level of education": "associate's degree",
         "lunch": "standard",
         "test preparation course": "none",
         "math score": 3.82,
         "reading score": 3.94,
         "writing score": 4,
         "GPA": 3.92,
         "_deepnote_index_column": 704
        },
        {
         "names": "Harvey Pribbenow",
         "gender": "male",
         "race/ethnicity": "group D",
         "parental level of education": "bachelor's degree",
         "lunch": "free/reduced",
         "test preparation course": "none",
         "math score": 4.3,
         "reading score": 3.76,
         "writing score": 3.64,
         "GPA": 3.9,
         "_deepnote_index_column": 707
        },
        {
         "names": "Joseph Rains",
         "gender": "male",
         "race/ethnicity": "group A",
         "parental level of education": "high school",
         "lunch": "free/reduced",
         "test preparation course": "none",
         "math score": 3.88,
         "reading score": 3.7,
         "writing score": 3.46,
         "GPA": 3.6799999999999997,
         "_deepnote_index_column": 716
        },
        {
         "names": "Charles Vaughan",
         "gender": "male",
         "race/ethnicity": "group A",
         "parental level of education": "some high school",
         "lunch": "free/reduced",
         "test preparation course": "none",
         "math score": 4.3,
         "reading score": 3.76,
         "writing score": 3.58,
         "GPA": 3.8799999999999994,
         "_deepnote_index_column": 720
        },
        {
         "names": "Walter Simmons",
         "gender": "male",
         "race/ethnicity": "group C",
         "parental level of education": "bachelor's degree",
         "lunch": "free/reduced",
         "test preparation course": "none",
         "math score": 3.22,
         "reading score": 4.36,
         "writing score": 3.82,
         "GPA": 3.8000000000000003,
         "_deepnote_index_column": 724
        },
        {
         "names": "Larry Matthews",
         "gender": "male",
         "race/ethnicity": "group B",
         "parental level of education": "associate's degree",
         "lunch": "free/reduced",
         "test preparation course": "none",
         "math score": 3.64,
         "reading score": 3.46,
         "writing score": 3.28,
         "GPA": 3.4599999999999995,
         "_deepnote_index_column": 735
        },
        {
         "names": "Olga Hatcher",
         "gender": "female",
         "race/ethnicity": "group A",
         "parental level of education": "associate's degree",
         "lunch": "free/reduced",
         "test preparation course": "none",
         "math score": 3.46,
         "reading score": 4.06,
         "writing score": 3.88,
         "GPA": 3.7999999999999994,
         "_deepnote_index_column": 751
        },
        {
         "names": "Jean Stamdifer",
         "gender": "male",
         "race/ethnicity": "group D",
         "parental level of education": "some high school",
         "lunch": "free/reduced",
         "test preparation course": "none",
         "math score": 3.7,
         "reading score": 3.22,
         "writing score": 3.22,
         "GPA": 3.3800000000000003,
         "_deepnote_index_column": 773
        },
        {
         "names": "Lamar Becker",
         "gender": "male",
         "race/ethnicity": "group D",
         "parental level of education": "associate's degree",
         "lunch": "standard",
         "test preparation course": "none",
         "math score": 3.4,
         "reading score": 4.12,
         "writing score": 3.58,
         "GPA": 3.6999999999999997,
         "_deepnote_index_column": 792
        },
        {
         "names": "Gerald Gramham",
         "gender": "male",
         "race/ethnicity": "group A",
         "parental level of education": "some high school",
         "lunch": "standard",
         "test preparation course": "none",
         "math score": 4.06,
         "reading score": 2.86,
         "writing score": 3.16,
         "GPA": 3.36,
         "_deepnote_index_column": 795
        },
        {
         "names": "Mack Gilliland",
         "gender": "male",
         "race/ethnicity": "group D",
         "parental level of education": "high school",
         "lunch": "standard",
         "test preparation course": "none",
         "math score": 4.18,
         "reading score": 4.12,
         "writing score": 3.52,
         "GPA": 3.94,
         "_deepnote_index_column": 801
        },
        {
         "names": "Arlene Seymour",
         "gender": "female",
         "race/ethnicity": "group B",
         "parental level of education": "high school",
         "lunch": "standard",
         "test preparation course": "none",
         "math score": 3.52,
         "reading score": 4.12,
         "writing score": 4.06,
         "GPA": 3.9,
         "_deepnote_index_column": 807
        },
        {
         "names": "Arthur Daschofsky",
         "gender": "male",
         "race/ethnicity": "group A",
         "parental level of education": "some high school",
         "lunch": "free/reduced",
         "test preparation course": "none",
         "math score": 3.34,
         "reading score": 3.34,
         "writing score": 3.04,
         "GPA": 3.2399999999999998,
         "_deepnote_index_column": 809
        },
        {
         "names": "Justin Harris",
         "gender": "male",
         "race/ethnicity": "group D",
         "parental level of education": "some college",
         "lunch": "standard",
         "test preparation course": "none",
         "math score": 3.4,
         "reading score": 3.52,
         "writing score": 3.28,
         "GPA": 3.4,
         "_deepnote_index_column": 816
        },
        {
         "names": "Russel Broussard",
         "gender": "male",
         "race/ethnicity": "group C",
         "parental level of education": "associate's degree",
         "lunch": "free/reduced",
         "test preparation course": "completed",
         "math score": 3.58,
         "reading score": 3.7,
         "writing score": 4,
         "GPA": 3.7600000000000002,
         "_deepnote_index_column": 824
        },
        {
         "names": "Jerome Lopze",
         "gender": "male",
         "race/ethnicity": "group E",
         "parental level of education": "associate's degree",
         "lunch": "free/reduced",
         "test preparation course": "completed",
         "math score": 3.76,
         "reading score": 3.58,
         "writing score": 3.64,
         "GPA": 3.66,
         "_deepnote_index_column": 874
        },
        {
         "names": "Shannon Weaver",
         "gender": "male",
         "race/ethnicity": "group D",
         "parental level of education": "bachelor's degree",
         "lunch": "free/reduced",
         "test preparation course": "none",
         "math score": 4,
         "reading score": 3.52,
         "writing score": 3.88,
         "GPA": 3.7999999999999994,
         "_deepnote_index_column": 880
        },
        {
         "names": "Mark Spicer",
         "gender": "male",
         "race/ethnicity": "group E",
         "parental level of education": "associate's degree",
         "lunch": "standard",
         "test preparation course": "none",
         "math score": 4.18,
         "reading score": 3.7,
         "writing score": 3.4,
         "GPA": 3.76,
         "_deepnote_index_column": 897
        },
        {
         "names": "Rosa Clagon",
         "gender": "female",
         "race/ethnicity": "group A",
         "parental level of education": "some high school",
         "lunch": "free/reduced",
         "test preparation course": "none",
         "math score": 3.64,
         "reading score": 3.7,
         "writing score": 3.7,
         "GPA": 3.6799999999999997,
         "_deepnote_index_column": 954
        },
        {
         "names": "Eugene Jewett",
         "gender": "male",
         "race/ethnicity": "group C",
         "parental level of education": "high school",
         "lunch": "free/reduced",
         "test preparation course": "none",
         "math score": 2.62,
         "reading score": 3.04,
         "writing score": 3.16,
         "GPA": 2.94,
         "_deepnote_index_column": 960
        },
        {
         "names": "Emma Fussell",
         "gender": "female",
         "race/ethnicity": "group A",
         "parental level of education": "some high school",
         "lunch": "free/reduced",
         "test preparation course": "none",
         "math score": 3.28,
         "reading score": 3.58,
         "writing score": 3.58,
         "GPA": 3.48,
         "_deepnote_index_column": 963
        },
        {
         "names": "Christina Cullins",
         "gender": "female",
         "race/ethnicity": "group C",
         "parental level of education": "some college",
         "lunch": "free/reduced",
         "test preparation course": "none",
         "math score": 3.1,
         "reading score": 3.64,
         "writing score": 3.58,
         "GPA": 3.44,
         "_deepnote_index_column": 968
        },
        {
         "names": "Jorge Apana",
         "gender": "male",
         "race/ethnicity": "group A",
         "parental level of education": "some high school",
         "lunch": "standard",
         "test preparation course": "completed",
         "math score": 3.76,
         "reading score": 3.46,
         "writing score": 3.58,
         "GPA": 3.6,
         "_deepnote_index_column": 974
        },
        {
         "names": "Arthur Johnson",
         "gender": "male",
         "race/ethnicity": "group C",
         "parental level of education": "associate's degree",
         "lunch": "standard",
         "test preparation course": "none",
         "math score": 3.82,
         "reading score": 3.22,
         "writing score": 3.1,
         "GPA": 3.3800000000000003,
         "_deepnote_index_column": 980
        },
        {
         "names": "Jonathan Moser",
         "gender": "male",
         "race/ethnicity": "group B",
         "parental level of education": "high school",
         "lunch": "standard",
         "test preparation course": "none",
         "math score": 4.12,
         "reading score": 3.88,
         "writing score": 3.94,
         "GPA": 3.98,
         "_deepnote_index_column": 984
        },
        {
         "names": "Michael Gore",
         "gender": "male",
         "race/ethnicity": "group B",
         "parental level of education": "some college",
         "lunch": "free/reduced",
         "test preparation course": "none",
         "math score": 3.46,
         "reading score": 3.34,
         "writing score": 3.04,
         "GPA": 3.28,
         "_deepnote_index_column": 997
        },
        {
         "names": "Jonathan Calcote",
         "gender": "male",
         "race/ethnicity": "group D",
         "parental level of education": "some high school",
         "lunch": "free/reduced",
         "test preparation course": "none",
         "math score": 4.54,
         "reading score": 3.52,
         "writing score": 3.46,
         "GPA": 3.84,
         "_deepnote_index_column": 1018
        },
        {
         "names": "Michael Mcdonnell",
         "gender": "male",
         "race/ethnicity": "group D",
         "parental level of education": "some high school",
         "lunch": "standard",
         "test preparation course": "none",
         "math score": 4.3,
         "reading score": 3.82,
         "writing score": 3.64,
         "GPA": 3.92,
         "_deepnote_index_column": 1019
        },
        {
         "names": "Ronald Jett",
         "gender": "male",
         "race/ethnicity": "group D",
         "parental level of education": "high school",
         "lunch": "free/reduced",
         "test preparation course": "none",
         "math score": 3.52,
         "reading score": 3.34,
         "writing score": 3.04,
         "GPA": 3.2999999999999994,
         "_deepnote_index_column": 1065
        },
        {
         "names": "Hazel Posey",
         "gender": "female",
         "race/ethnicity": "group B",
         "parental level of education": "some high school",
         "lunch": "free/reduced",
         "test preparation course": "none",
         "math score": 2.44,
         "reading score": 3.28,
         "writing score": 2.62,
         "GPA": 2.78,
         "_deepnote_index_column": 1068
        },
        {
         "names": "Eric Baldwin",
         "gender": "male",
         "race/ethnicity": "group A",
         "parental level of education": "high school",
         "lunch": "free/reduced",
         "test preparation course": "none",
         "math score": 3.7,
         "reading score": 3.82,
         "writing score": 3.94,
         "GPA": 3.82,
         "_deepnote_index_column": 1076
        },
        {
         "names": "Rosalia Arrants",
         "gender": "female",
         "race/ethnicity": "group E",
         "parental level of education": "some high school",
         "lunch": "free/reduced",
         "test preparation course": "none",
         "math score": 2.92,
         "reading score": 3.04,
         "writing score": 3.28,
         "GPA": 3.08,
         "_deepnote_index_column": 1113
        },
        {
         "names": "Richard Guercio",
         "gender": "male",
         "race/ethnicity": "group B",
         "parental level of education": "high school",
         "lunch": "free/reduced",
         "test preparation course": "none",
         "math score": 2.8,
         "reading score": 2.44,
         "writing score": 1.9,
         "GPA": 2.3800000000000003,
         "_deepnote_index_column": 1145
        },
        {
         "names": "Lorena Reed",
         "gender": "female",
         "race/ethnicity": "group C",
         "parental level of education": "high school",
         "lunch": "free/reduced",
         "test preparation course": "none",
         "math score": 3.16,
         "reading score": 4.18,
         "writing score": 3.58,
         "GPA": 3.64,
         "_deepnote_index_column": 1195
        },
        {
         "names": "Christopher Kilkenny",
         "gender": "male",
         "race/ethnicity": "group D",
         "parental level of education": "high school",
         "lunch": "standard",
         "test preparation course": "none",
         "math score": 3.46,
         "reading score": 4.12,
         "writing score": 4.06,
         "GPA": 3.8800000000000003,
         "_deepnote_index_column": 1196
        },
        {
         "names": "Larry Braun",
         "gender": "male",
         "race/ethnicity": "group C",
         "parental level of education": "some high school",
         "lunch": "free/reduced",
         "test preparation course": "completed",
         "math score": 4.18,
         "reading score": 3.22,
         "writing score": 3.4,
         "GPA": 3.6,
         "_deepnote_index_column": 1230
        },
        {
         "names": "Bertha Nelson",
         "gender": "female",
         "race/ethnicity": "group B",
         "parental level of education": "some high school",
         "lunch": "standard",
         "test preparation course": "none",
         "math score": 3.46,
         "reading score": 4.3,
         "writing score": 4.06,
         "GPA": 3.94,
         "_deepnote_index_column": 1250
        },
        {
         "names": "Sonia Brent",
         "gender": "female",
         "race/ethnicity": "group B",
         "parental level of education": "some high school",
         "lunch": "free/reduced",
         "test preparation course": "none",
         "math score": 2.08,
         "reading score": 2.92,
         "writing score": 2.68,
         "GPA": 2.56,
         "_deepnote_index_column": 1256
        },
        {
         "names": "Dustin Henry",
         "gender": "male",
         "race/ethnicity": "group C",
         "parental level of education": "high school",
         "lunch": "free/reduced",
         "test preparation course": "completed",
         "math score": 3.4,
         "reading score": 3.76,
         "writing score": 4,
         "GPA": 3.72,
         "_deepnote_index_column": 1311
        },
        {
         "names": "Martin Wilson",
         "gender": "male",
         "race/ethnicity": "group D",
         "parental level of education": "high school",
         "lunch": "standard",
         "test preparation course": "completed",
         "math score": 4.3,
         "reading score": 3.46,
         "writing score": 3.88,
         "GPA": 3.8800000000000003,
         "_deepnote_index_column": 1327
        },
        {
         "names": "Melissa Johnston",
         "gender": "female",
         "race/ethnicity": "group C",
         "parental level of education": "some high school",
         "lunch": "free/reduced",
         "test preparation course": "none",
         "math score": 1,
         "reading score": 2.02,
         "writing score": 1.6,
         "GPA": 1.54,
         "_deepnote_index_column": 1344
        },
        {
         "names": "Stanley Chappell",
         "gender": "male",
         "race/ethnicity": "group A",
         "parental level of education": "associate's degree",
         "lunch": "free/reduced",
         "test preparation course": "none",
         "math score": 3.82,
         "reading score": 4.42,
         "writing score": 3.64,
         "GPA": 3.9600000000000004,
         "_deepnote_index_column": 1354
        },
        {
         "names": "Charles Harian",
         "gender": "male",
         "race/ethnicity": "group C",
         "parental level of education": "some high school",
         "lunch": "free/reduced",
         "test preparation course": "completed",
         "math score": 3.7,
         "reading score": 4.12,
         "writing score": 3.94,
         "GPA": 3.92,
         "_deepnote_index_column": 1371
        },
        {
         "names": "Wendy Gunnell",
         "gender": "female",
         "race/ethnicity": "group D",
         "parental level of education": "some high school",
         "lunch": "free/reduced",
         "test preparation course": "none",
         "math score": 2.62,
         "reading score": 3.04,
         "writing score": 2.92,
         "GPA": 2.86,
         "_deepnote_index_column": 1373
        },
        {
         "names": "Diana Costa",
         "gender": "female",
         "race/ethnicity": "group C",
         "parental level of education": "high school",
         "lunch": "free/reduced",
         "test preparation course": "none",
         "math score": 3.46,
         "reading score": 3.76,
         "writing score": 3.58,
         "GPA": 3.6,
         "_deepnote_index_column": 1389
        },
        {
         "names": "Amy Sieving",
         "gender": "female",
         "race/ethnicity": "group C",
         "parental level of education": "high school",
         "lunch": "standard",
         "test preparation course": "none",
         "math score": 2.74,
         "reading score": 2.74,
         "writing score": 2.8,
         "GPA": 2.7600000000000002,
         "_deepnote_index_column": 1391
        },
        {
         "names": "Wanda Russell",
         "gender": "female",
         "race/ethnicity": "group B",
         "parental level of education": "high school",
         "lunch": "free/reduced",
         "test preparation course": "completed",
         "math score": 2.38,
         "reading score": 3.64,
         "writing score": 3.16,
         "GPA": 3.06,
         "_deepnote_index_column": 1394
        }
       ],
       "rows_bottom": null
      },
      "text/plain": "                names  gender race/ethnicity parental level of education  \\\n0       Rita Courtney  female        group B            some high school   \n13        Mikki Amaya  female        group A                 high school   \n26      Samuel Dougal    male        group C             master's degree   \n55    Rodger Talavera    male        group B                 high school   \n63     Morris Johnson    male        group A          associate's degree   \n...               ...     ...            ...                         ...   \n1371   Charles Harian    male        group C            some high school   \n1373    Wendy Gunnell  female        group D            some high school   \n1389      Diana Costa  female        group C                 high school   \n1391      Amy Sieving  female        group C                 high school   \n1394    Wanda Russell  female        group B                 high school   \n\n             lunch test preparation course  math score  reading score  \\\n0         standard                    none        3.22           3.76   \n13    free/reduced               completed        3.04           3.88   \n26    free/reduced               completed        3.76           3.52   \n55    free/reduced                    none        3.16           2.74   \n63    free/reduced               completed        3.40           4.30   \n...            ...                     ...         ...            ...   \n1371  free/reduced               completed        3.70           4.12   \n1373  free/reduced                    none        2.62           3.04   \n1389  free/reduced                    none        3.46           3.76   \n1391      standard                    none        2.74           2.74   \n1394  free/reduced               completed        2.38           3.64   \n\n      writing score   GPA  \n0              3.76  3.58  \n13             3.46  3.46  \n26             3.76  3.68  \n55             2.62  2.84  \n63             4.18  3.96  \n...             ...   ...  \n1371           3.94  3.92  \n1373           2.92  2.86  \n1389           3.58  3.60  \n1391           2.80  2.76  \n1394           3.16  3.06  \n\n[86 rows x 10 columns]",
      "text/html": "<div>\n<style scoped>\n    .dataframe tbody tr th:only-of-type {\n        vertical-align: middle;\n    }\n\n    .dataframe tbody tr th {\n        vertical-align: top;\n    }\n\n    .dataframe thead th {\n        text-align: right;\n    }\n</style>\n<table border=\"1\" class=\"dataframe\">\n  <thead>\n    <tr style=\"text-align: right;\">\n      <th></th>\n      <th>names</th>\n      <th>gender</th>\n      <th>race/ethnicity</th>\n      <th>parental level of education</th>\n      <th>lunch</th>\n      <th>test preparation course</th>\n      <th>math score</th>\n      <th>reading score</th>\n      <th>writing score</th>\n      <th>GPA</th>\n    </tr>\n  </thead>\n  <tbody>\n    <tr>\n      <th>0</th>\n      <td>Rita Courtney</td>\n      <td>female</td>\n      <td>group B</td>\n      <td>some high school</td>\n      <td>standard</td>\n      <td>none</td>\n      <td>3.22</td>\n      <td>3.76</td>\n      <td>3.76</td>\n      <td>3.58</td>\n    </tr>\n    <tr>\n      <th>13</th>\n      <td>Mikki Amaya</td>\n      <td>female</td>\n      <td>group A</td>\n      <td>high school</td>\n      <td>free/reduced</td>\n      <td>completed</td>\n      <td>3.04</td>\n      <td>3.88</td>\n      <td>3.46</td>\n      <td>3.46</td>\n    </tr>\n    <tr>\n      <th>26</th>\n      <td>Samuel Dougal</td>\n      <td>male</td>\n      <td>group C</td>\n      <td>master's degree</td>\n      <td>free/reduced</td>\n      <td>completed</td>\n      <td>3.76</td>\n      <td>3.52</td>\n      <td>3.76</td>\n      <td>3.68</td>\n    </tr>\n    <tr>\n      <th>55</th>\n      <td>Rodger Talavera</td>\n      <td>male</td>\n      <td>group B</td>\n      <td>high school</td>\n      <td>free/reduced</td>\n      <td>none</td>\n      <td>3.16</td>\n      <td>2.74</td>\n      <td>2.62</td>\n      <td>2.84</td>\n    </tr>\n    <tr>\n      <th>63</th>\n      <td>Morris Johnson</td>\n      <td>male</td>\n      <td>group A</td>\n      <td>associate's degree</td>\n      <td>free/reduced</td>\n      <td>completed</td>\n      <td>3.40</td>\n      <td>4.30</td>\n      <td>4.18</td>\n      <td>3.96</td>\n    </tr>\n    <tr>\n      <th>...</th>\n      <td>...</td>\n      <td>...</td>\n      <td>...</td>\n      <td>...</td>\n      <td>...</td>\n      <td>...</td>\n      <td>...</td>\n      <td>...</td>\n      <td>...</td>\n      <td>...</td>\n    </tr>\n    <tr>\n      <th>1371</th>\n      <td>Charles Harian</td>\n      <td>male</td>\n      <td>group C</td>\n      <td>some high school</td>\n      <td>free/reduced</td>\n      <td>completed</td>\n      <td>3.70</td>\n      <td>4.12</td>\n      <td>3.94</td>\n      <td>3.92</td>\n    </tr>\n    <tr>\n      <th>1373</th>\n      <td>Wendy Gunnell</td>\n      <td>female</td>\n      <td>group D</td>\n      <td>some high school</td>\n      <td>free/reduced</td>\n      <td>none</td>\n      <td>2.62</td>\n      <td>3.04</td>\n      <td>2.92</td>\n      <td>2.86</td>\n    </tr>\n    <tr>\n      <th>1389</th>\n      <td>Diana Costa</td>\n      <td>female</td>\n      <td>group C</td>\n      <td>high school</td>\n      <td>free/reduced</td>\n      <td>none</td>\n      <td>3.46</td>\n      <td>3.76</td>\n      <td>3.58</td>\n      <td>3.60</td>\n    </tr>\n    <tr>\n      <th>1391</th>\n      <td>Amy Sieving</td>\n      <td>female</td>\n      <td>group C</td>\n      <td>high school</td>\n      <td>standard</td>\n      <td>none</td>\n      <td>2.74</td>\n      <td>2.74</td>\n      <td>2.80</td>\n      <td>2.76</td>\n    </tr>\n    <tr>\n      <th>1394</th>\n      <td>Wanda Russell</td>\n      <td>female</td>\n      <td>group B</td>\n      <td>high school</td>\n      <td>free/reduced</td>\n      <td>completed</td>\n      <td>2.38</td>\n      <td>3.64</td>\n      <td>3.16</td>\n      <td>3.06</td>\n    </tr>\n  </tbody>\n</table>\n<p>86 rows × 10 columns</p>\n</div>"
     },
     "metadata": {},
     "output_type": "display_data"
    },
    {
     "data": {
      "application/vnd.deepnote.dataframe.v2+json": {
       "row_count": 875,
       "column_count": 10,
       "columns": [
        {
         "name": "names",
         "dtype": "object",
         "stats": {
          "unique_count": 875,
          "nan_count": 0,
          "categories": [
           {
            "name": "Rita Courtney",
            "count": 1
           },
           {
            "name": "Charles Linstrom",
            "count": 1
           },
           {
            "name": "873 others",
            "count": 873
           }
          ]
         }
        },
        {
         "name": "gender",
         "dtype": "object",
         "stats": {
          "unique_count": 2,
          "nan_count": 0,
          "categories": [
           {
            "name": "female",
            "count": 448
           },
           {
            "name": "male",
            "count": 427
           }
          ]
         }
        },
        {
         "name": "race/ethnicity",
         "dtype": "object",
         "stats": {
          "unique_count": 5,
          "nan_count": 0,
          "categories": [
           {
            "name": "group C",
            "count": 272
           },
           {
            "name": "group D",
            "count": 239
           },
           {
            "name": "3 others",
            "count": 364
           }
          ]
         }
        },
        {
         "name": "parental level of education",
         "dtype": "object",
         "stats": {
          "unique_count": 6,
          "nan_count": 0,
          "categories": [
           {
            "name": "associate's degree",
            "count": 196
           },
           {
            "name": "some college",
            "count": 191
           },
           {
            "name": "4 others",
            "count": 488
           }
          ]
         }
        },
        {
         "name": "lunch",
         "dtype": "object",
         "stats": {
          "unique_count": 2,
          "nan_count": 0,
          "categories": [
           {
            "name": "standard",
            "count": 562
           },
           {
            "name": "free/reduced",
            "count": 313
           }
          ]
         }
        },
        {
         "name": "test preparation course",
         "dtype": "object",
         "stats": {
          "unique_count": 2,
          "nan_count": 0,
          "categories": [
           {
            "name": "none",
            "count": 563
           },
           {
            "name": "completed",
            "count": 312
           }
          ]
         }
        },
        {
         "name": "math score",
         "dtype": "float64",
         "stats": {
          "unique_count": 79,
          "nan_count": 0,
          "min": "1.0",
          "max": "7.0",
          "histogram": [
           {
            "bin_start": 1,
            "bin_end": 1.6,
            "count": 2
           },
           {
            "bin_start": 1.6,
            "bin_end": 2.2,
            "count": 2
           },
           {
            "bin_start": 2.2,
            "bin_end": 2.8,
            "count": 10
           },
           {
            "bin_start": 2.8,
            "bin_end": 3.4,
            "count": 19
           },
           {
            "bin_start": 3.4,
            "bin_end": 4,
            "count": 81
           },
           {
            "bin_start": 4,
            "bin_end": 4.6,
            "count": 158
           },
           {
            "bin_start": 4.6,
            "bin_end": 5.2,
            "count": 245
           },
           {
            "bin_start": 5.2,
            "bin_end": 5.8,
            "count": 191
           },
           {
            "bin_start": 5.8,
            "bin_end": 6.3999999999999995,
            "count": 116
           },
           {
            "bin_start": 6.3999999999999995,
            "bin_end": 7,
            "count": 51
           }
          ]
         }
        },
        {
         "name": "reading score",
         "dtype": "float64",
         "stats": {
          "unique_count": 72,
          "nan_count": 0,
          "min": "2.02",
          "max": "7.0",
          "histogram": [
           {
            "bin_start": 2.02,
            "bin_end": 2.5180000000000002,
            "count": 4
           },
           {
            "bin_start": 2.5180000000000002,
            "bin_end": 3.016,
            "count": 7
           },
           {
            "bin_start": 3.016,
            "bin_end": 3.5140000000000002,
            "count": 19
           },
           {
            "bin_start": 3.5140000000000002,
            "bin_end": 4.0120000000000005,
            "count": 53
           },
           {
            "bin_start": 4.0120000000000005,
            "bin_end": 4.51,
            "count": 124
           },
           {
            "bin_start": 4.51,
            "bin_end": 5.008000000000001,
            "count": 157
           },
           {
            "bin_start": 5.008000000000001,
            "bin_end": 5.506,
            "count": 212
           },
           {
            "bin_start": 5.506,
            "bin_end": 6.0040000000000004,
            "count": 147
           },
           {
            "bin_start": 6.0040000000000004,
            "bin_end": 6.502000000000001,
            "count": 101
           },
           {
            "bin_start": 6.502000000000001,
            "bin_end": 7,
            "count": 51
           }
          ]
         }
        },
        {
         "name": "writing score",
         "dtype": "float64",
         "stats": {
          "unique_count": 77,
          "nan_count": 0,
          "min": "1.6",
          "max": "7.0",
          "histogram": [
           {
            "bin_start": 1.6,
            "bin_end": 2.14,
            "count": 2
           },
           {
            "bin_start": 2.14,
            "bin_end": 2.68,
            "count": 6
           },
           {
            "bin_start": 2.68,
            "bin_end": 3.22,
            "count": 13
           },
           {
            "bin_start": 3.22,
            "bin_end": 3.7600000000000002,
            "count": 52
           },
           {
            "bin_start": 3.7600000000000002,
            "bin_end": 4.300000000000001,
            "count": 115
           },
           {
            "bin_start": 4.300000000000001,
            "bin_end": 4.84,
            "count": 129
           },
           {
            "bin_start": 4.84,
            "bin_end": 5.380000000000001,
            "count": 218
           },
           {
            "bin_start": 5.380000000000001,
            "bin_end": 5.92,
            "count": 174
           },
           {
            "bin_start": 5.92,
            "bin_end": 6.460000000000001,
            "count": 116
           },
           {
            "bin_start": 6.460000000000001,
            "bin_end": 7,
            "count": 50
           }
          ]
         }
        },
        {
         "name": "GPA",
         "dtype": "object",
         "stats": {
          "unique_count": 213,
          "nan_count": 0,
          "categories": [
           {
            "name": "R",
            "count": 86
           },
           {
            "name": "5.38",
            "count": 12
           },
           {
            "name": "211 others",
            "count": 777
           }
          ]
         }
        },
        {
         "name": "_deepnote_index_column",
         "dtype": "int64"
        }
       ],
       "rows_top": [
        {
         "names": "Rita Courtney",
         "gender": "female",
         "race/ethnicity": "group B",
         "parental level of education": "some high school",
         "lunch": "standard",
         "test preparation course": "none",
         "math score": 3.22,
         "reading score": 3.76,
         "writing score": 3.76,
         "GPA": "R",
         "_deepnote_index_column": 0
        },
        {
         "names": "Charles Linstrom",
         "gender": "male",
         "race/ethnicity": "group A",
         "parental level of education": "bachelor's degree",
         "lunch": "standard",
         "test preparation course": "completed",
         "math score": 5.8,
         "reading score": 5.68,
         "writing score": 5.86,
         "GPA": "5.78",
         "_deepnote_index_column": 3
        },
        {
         "names": "Brian Young",
         "gender": "male",
         "race/ethnicity": "group C",
         "parental level of education": "some high school",
         "lunch": "standard",
         "test preparation course": "none",
         "math score": 5.38,
         "reading score": 4.96,
         "writing score": 4.78,
         "GPA": "5.04",
         "_deepnote_index_column": 5
        },
        {
         "names": "Howard Jimenez",
         "gender": "male",
         "race/ethnicity": "group E",
         "parental level of education": "some high school",
         "lunch": "standard",
         "test preparation course": "completed",
         "math score": 5.86,
         "reading score": 5.5,
         "writing score": 5.56,
         "GPA": "5.64",
         "_deepnote_index_column": 6
        },
        {
         "names": "Wayne Wilson",
         "gender": "male",
         "race/ethnicity": "group B",
         "parental level of education": "some high school",
         "lunch": "standard",
         "test preparation course": "completed",
         "math score": 6.64,
         "reading score": 6.16,
         "writing score": 6.22,
         "GPA": "6.34",
         "_deepnote_index_column": 7
        },
        {
         "names": "Jonathan Clingan",
         "gender": "male",
         "race/ethnicity": "group D",
         "parental level of education": "some college",
         "lunch": "standard",
         "test preparation course": "completed",
         "math score": 5.26,
         "reading score": 4.66,
         "writing score": 5.14,
         "GPA": "5.02",
         "_deepnote_index_column": 8
        },
        {
         "names": "William Tang",
         "gender": "male",
         "race/ethnicity": "group D",
         "parental level of education": "associate's degree",
         "lunch": "standard",
         "test preparation course": "none",
         "math score": 5.5,
         "reading score": 5.08,
         "writing score": 4.84,
         "GPA": "5.14",
         "_deepnote_index_column": 9
        },
        {
         "names": "Mikki Amaya",
         "gender": "female",
         "race/ethnicity": "group A",
         "parental level of education": "high school",
         "lunch": "free/reduced",
         "test preparation course": "completed",
         "math score": 3.04,
         "reading score": 3.88,
         "writing score": 3.46,
         "GPA": "R",
         "_deepnote_index_column": 13
        },
        {
         "names": "Gerald Wilson",
         "gender": "male",
         "race/ethnicity": "group A",
         "parental level of education": "associate's degree",
         "lunch": "standard",
         "test preparation course": "none",
         "math score": 4.78,
         "reading score": 4.66,
         "writing score": 4.66,
         "GPA": "4.7",
         "_deepnote_index_column": 15
        },
        {
         "names": "Damon Mckee",
         "gender": "male",
         "race/ethnicity": "group E",
         "parental level of education": "high school",
         "lunch": "standard",
         "test preparation course": "none",
         "math score": 6.64,
         "reading score": 5.38,
         "writing score": 5.26,
         "GPA": "5.760000000000001",
         "_deepnote_index_column": 16
        },
        {
         "names": "Sophia Bijou",
         "gender": "female",
         "race/ethnicity": "group D",
         "parental level of education": "some high school",
         "lunch": "standard",
         "test preparation course": "completed",
         "math score": 4.9,
         "reading score": 5.68,
         "writing score": 5.92,
         "GPA": "5.5",
         "_deepnote_index_column": 17
        },
        {
         "names": "Monica Schwartz",
         "gender": "female",
         "race/ethnicity": "group B",
         "parental level of education": "associate's degree",
         "lunch": "free/reduced",
         "test preparation course": "none",
         "math score": 4.12,
         "reading score": 5.56,
         "writing score": 5.2,
         "GPA": "4.96",
         "_deepnote_index_column": 19
        },
        {
         "names": "Donald Upchurch",
         "gender": "male",
         "race/ethnicity": "group C",
         "parental level of education": "associate's degree",
         "lunch": "standard",
         "test preparation course": "none",
         "math score": 4.72,
         "reading score": 4.9,
         "writing score": 4.48,
         "GPA": "4.7",
         "_deepnote_index_column": 20
        },
        {
         "names": "Donald Dunnings",
         "gender": "male",
         "race/ethnicity": "group D",
         "parental level of education": "some high school",
         "lunch": "standard",
         "test preparation course": "none",
         "math score": 5.44,
         "reading score": 5.44,
         "writing score": 5.32,
         "GPA": "5.400000000000001",
         "_deepnote_index_column": 21
        },
        {
         "names": "Joseph Mccoy",
         "gender": "male",
         "race/ethnicity": "group D",
         "parental level of education": "some college",
         "lunch": "free/reduced",
         "test preparation course": "none",
         "math score": 4.72,
         "reading score": 4.42,
         "writing score": 4.72,
         "GPA": "4.62",
         "_deepnote_index_column": 24
        },
        {
         "names": "David Dupree",
         "gender": "male",
         "race/ethnicity": "group B",
         "parental level of education": "high school",
         "lunch": "standard",
         "test preparation course": "completed",
         "math score": 5.38,
         "reading score": 5.14,
         "writing score": 5.08,
         "GPA": "5.2",
         "_deepnote_index_column": 25
        },
        {
         "names": "Samuel Dougal",
         "gender": "male",
         "race/ethnicity": "group C",
         "parental level of education": "master's degree",
         "lunch": "free/reduced",
         "test preparation course": "completed",
         "math score": 3.76,
         "reading score": 3.52,
         "writing score": 3.76,
         "GPA": "R",
         "_deepnote_index_column": 26
        },
        {
         "names": "Richard Pina",
         "gender": "male",
         "race/ethnicity": "group D",
         "parental level of education": "master's degree",
         "lunch": "standard",
         "test preparation course": "none",
         "math score": 5.92,
         "reading score": 5.92,
         "writing score": 5.44,
         "GPA": "5.760000000000001",
         "_deepnote_index_column": 27
        },
        {
         "names": "Dale Sylvain",
         "gender": "male",
         "race/ethnicity": "group D",
         "parental level of education": "some college",
         "lunch": "free/reduced",
         "test preparation course": "none",
         "math score": 4.78,
         "reading score": 4.66,
         "writing score": 4.6,
         "GPA": "4.680000000000001",
         "_deepnote_index_column": 29
        },
        {
         "names": "Janine Taylor",
         "gender": "female",
         "race/ethnicity": "group C",
         "parental level of education": "associate's degree",
         "lunch": "free/reduced",
         "test preparation course": "none",
         "math score": 4.84,
         "reading score": 5.38,
         "writing score": 5.08,
         "GPA": "5.1",
         "_deepnote_index_column": 30
        },
        {
         "names": "Alexander Dillon",
         "gender": "male",
         "race/ethnicity": "group D",
         "parental level of education": "associate's degree",
         "lunch": "standard",
         "test preparation course": "none",
         "math score": 5.8,
         "reading score": 5.5,
         "writing score": 5.62,
         "GPA": "5.640000000000001",
         "_deepnote_index_column": 31
        },
        {
         "names": "Shanna Braswell",
         "gender": "female",
         "race/ethnicity": "group D",
         "parental level of education": "bachelor's degree",
         "lunch": "free/reduced",
         "test preparation course": "completed",
         "math score": 6.58,
         "reading score": 7,
         "writing score": 7,
         "GPA": "6.859999999999999",
         "_deepnote_index_column": 35
        },
        {
         "names": "Bonnie Ramos",
         "gender": "female",
         "race/ethnicity": "group B",
         "parental level of education": "high school",
         "lunch": "standard",
         "test preparation course": "completed",
         "math score": 5.14,
         "reading score": 5.56,
         "writing score": 5.44,
         "GPA": "5.38",
         "_deepnote_index_column": 36
        },
        {
         "names": "Connie Shinn",
         "gender": "female",
         "race/ethnicity": "group B",
         "parental level of education": "associate's degree",
         "lunch": "free/reduced",
         "test preparation course": "none",
         "math score": 3.76,
         "reading score": 4.66,
         "writing score": 4.3,
         "GPA": "4.239999999999999",
         "_deepnote_index_column": 37
        },
        {
         "names": "Daniel Cartwright",
         "gender": "male",
         "race/ethnicity": "group C",
         "parental level of education": "high school",
         "lunch": "standard",
         "test preparation course": "completed",
         "math score": 6.16,
         "reading score": 5.86,
         "writing score": 5.8,
         "GPA": "5.94",
         "_deepnote_index_column": 38
        },
        {
         "names": "Betty Buntin",
         "gender": "female",
         "race/ethnicity": "group A",
         "parental level of education": "bachelor's degree",
         "lunch": "standard",
         "test preparation course": "none",
         "math score": 4.54,
         "reading score": 5.32,
         "writing score": 5.2,
         "GPA": "5.02",
         "_deepnote_index_column": 39
        },
        {
         "names": "Francis Seibold",
         "gender": "male",
         "race/ethnicity": "group B",
         "parental level of education": "some high school",
         "lunch": "standard",
         "test preparation course": "completed",
         "math score": 6.04,
         "reading score": 5.98,
         "writing score": 5.5,
         "GPA": "5.84",
         "_deepnote_index_column": 40
        },
        {
         "names": "Arthur Byer",
         "gender": "male",
         "race/ethnicity": "group D",
         "parental level of education": "high school",
         "lunch": "free/reduced",
         "test preparation course": "completed",
         "math score": 4.84,
         "reading score": 4.84,
         "writing score": 5.02,
         "GPA": "4.8999999999999995",
         "_deepnote_index_column": 41
        },
        {
         "names": "Willie Neff",
         "gender": "female",
         "race/ethnicity": "group E",
         "parental level of education": "associate's degree",
         "lunch": "free/reduced",
         "test preparation course": "none",
         "math score": 5.38,
         "reading score": 5.56,
         "writing score": 5.68,
         "GPA": "5.539999999999999",
         "_deepnote_index_column": 42
        },
        {
         "names": "Thelma Yeates",
         "gender": "female",
         "race/ethnicity": "group E",
         "parental level of education": "associate's degree",
         "lunch": "free/reduced",
         "test preparation course": "completed",
         "math score": 5.98,
         "reading score": 6.16,
         "writing score": 6.28,
         "GPA": "6.140000000000001",
         "_deepnote_index_column": 43
        },
        {
         "names": "Mary Piotrowski",
         "gender": "female",
         "race/ethnicity": "group E",
         "parental level of education": "some college",
         "lunch": "free/reduced",
         "test preparation course": "completed",
         "math score": 5.5,
         "reading score": 6.28,
         "writing score": 6.1,
         "GPA": "5.960000000000001",
         "_deepnote_index_column": 45
        },
        {
         "names": "Hazel Montoya",
         "gender": "female",
         "race/ethnicity": "group D",
         "parental level of education": "some college",
         "lunch": "standard",
         "test preparation course": "none",
         "math score": 5.14,
         "reading score": 5.44,
         "writing score": 5.44,
         "GPA": "5.34",
         "_deepnote_index_column": 46
        },
        {
         "names": "James Eury",
         "gender": "male",
         "race/ethnicity": "group E",
         "parental level of education": "some college",
         "lunch": "standard",
         "test preparation course": "none",
         "math score": 5.08,
         "reading score": 5.32,
         "writing score": 4.9,
         "GPA": "5.1000000000000005",
         "_deepnote_index_column": 47
        },
        {
         "names": "Larry Dunn",
         "gender": "male",
         "race/ethnicity": "group C",
         "parental level of education": "some high school",
         "lunch": "standard",
         "test preparation course": "none",
         "math score": 4.42,
         "reading score": 4.66,
         "writing score": 4.24,
         "GPA": "4.44",
         "_deepnote_index_column": 49
        },
        {
         "names": "David Dunham",
         "gender": "male",
         "race/ethnicity": "group A",
         "parental level of education": "bachelor's degree",
         "lunch": "standard",
         "test preparation course": "none",
         "math score": 4.96,
         "reading score": 4.84,
         "writing score": 4.72,
         "GPA": "4.84",
         "_deepnote_index_column": 50
        },
        {
         "names": "Jeffery Wiedmann",
         "gender": "male",
         "race/ethnicity": "group C",
         "parental level of education": "some college",
         "lunch": "standard",
         "test preparation course": "none",
         "math score": 4.66,
         "reading score": 4.66,
         "writing score": 4.72,
         "GPA": "4.68",
         "_deepnote_index_column": 51
        },
        {
         "names": "Lisa Watters",
         "gender": "female",
         "race/ethnicity": "group D",
         "parental level of education": "master's degree",
         "lunch": "free/reduced",
         "test preparation course": "none",
         "math score": 3.4,
         "reading score": 4.54,
         "writing score": 4.24,
         "GPA": "4.06",
         "_deepnote_index_column": 52
        },
        {
         "names": "Katharine Kellum",
         "gender": "female",
         "race/ethnicity": "group B",
         "parental level of education": "high school",
         "lunch": "free/reduced",
         "test preparation course": "none",
         "math score": 4,
         "reading score": 5.02,
         "writing score": 4.78,
         "GPA": "4.6000000000000005",
         "_deepnote_index_column": 53
        },
        {
         "names": "Marjorie Brown",
         "gender": "female",
         "race/ethnicity": "group B",
         "parental level of education": "high school",
         "lunch": "standard",
         "test preparation course": "none",
         "math score": 3.88,
         "reading score": 4.72,
         "writing score": 4.6,
         "GPA": "4.3999999999999995",
         "_deepnote_index_column": 54
        },
        {
         "names": "Rodger Talavera",
         "gender": "male",
         "race/ethnicity": "group B",
         "parental level of education": "high school",
         "lunch": "free/reduced",
         "test preparation course": "none",
         "math score": 3.16,
         "reading score": 2.74,
         "writing score": 2.62,
         "GPA": "R",
         "_deepnote_index_column": 55
        },
        {
         "names": "Mary Jackson",
         "gender": "female",
         "race/ethnicity": "group B",
         "parental level of education": "bachelor's degree",
         "lunch": "free/reduced",
         "test preparation course": "none",
         "math score": 5.68,
         "reading score": 5.74,
         "writing score": 5.56,
         "GPA": "5.66",
         "_deepnote_index_column": 56
        },
        {
         "names": "Rebecca Dalton",
         "gender": "female",
         "race/ethnicity": "group B",
         "parental level of education": "some high school",
         "lunch": "standard",
         "test preparation course": "none",
         "math score": 4.42,
         "reading score": 5.02,
         "writing score": 5.32,
         "GPA": "4.92",
         "_deepnote_index_column": 58
        },
        {
         "names": "David Fisk",
         "gender": "male",
         "race/ethnicity": "group D",
         "parental level of education": "bachelor's degree",
         "lunch": "standard",
         "test preparation course": "none",
         "math score": 5.14,
         "reading score": 4.48,
         "writing score": 4.42,
         "GPA": "4.680000000000001",
         "_deepnote_index_column": 61
        },
        {
         "names": "Morris Johnson",
         "gender": "male",
         "race/ethnicity": "group A",
         "parental level of education": "associate's degree",
         "lunch": "free/reduced",
         "test preparation course": "completed",
         "math score": 3.4,
         "reading score": 4.3,
         "writing score": 4.18,
         "GPA": "R",
         "_deepnote_index_column": 63
        },
        {
         "names": "Rodrick Rasch",
         "gender": "male",
         "race/ethnicity": "group E",
         "parental level of education": "some high school",
         "lunch": "standard",
         "test preparation course": "none",
         "math score": 6.52,
         "reading score": 6.22,
         "writing score": 5.68,
         "GPA": "6.14",
         "_deepnote_index_column": 64
        },
        {
         "names": "Anthony Malcomb",
         "gender": "male",
         "race/ethnicity": "group C",
         "parental level of education": "some college",
         "lunch": "free/reduced",
         "test preparation course": "none",
         "math score": 3.1,
         "reading score": 2.68,
         "writing score": 2.62,
         "GPA": "R",
         "_deepnote_index_column": 66
        },
        {
         "names": "Joyce Amos",
         "gender": "female",
         "race/ethnicity": "group C",
         "parental level of education": "associate's degree",
         "lunch": "standard",
         "test preparation course": "none",
         "math score": 4.78,
         "reading score": 5.02,
         "writing score": 5.2,
         "GPA": "5.0",
         "_deepnote_index_column": 67
        },
        {
         "names": "Donald Chestnut",
         "gender": "male",
         "race/ethnicity": "group C",
         "parental level of education": "some college",
         "lunch": "standard",
         "test preparation course": "none",
         "math score": 5.38,
         "reading score": 5.44,
         "writing score": 4.66,
         "GPA": "5.16",
         "_deepnote_index_column": 69
        },
        {
         "names": "Lynne Rodgers",
         "gender": "female",
         "race/ethnicity": "group D",
         "parental level of education": "some college",
         "lunch": "standard",
         "test preparation course": "none",
         "math score": 4.78,
         "reading score": 4.84,
         "writing score": 5.02,
         "GPA": "4.88",
         "_deepnote_index_column": 70
        },
        {
         "names": "Diane Preister",
         "gender": "female",
         "race/ethnicity": "group D",
         "parental level of education": "some college",
         "lunch": "free/reduced",
         "test preparation course": "completed",
         "math score": 4.12,
         "reading score": 4.54,
         "writing score": 4.9,
         "GPA": "4.5200000000000005",
         "_deepnote_index_column": 71
        }
       ],
       "rows_bottom": [
        {
         "names": "Kelly Bowar",
         "gender": "female",
         "race/ethnicity": "group D",
         "parental level of education": "some high school",
         "lunch": "standard",
         "test preparation course": "none",
         "math score": 3.88,
         "reading score": 4.48,
         "writing score": 4.24,
         "GPA": "4.2",
         "_deepnote_index_column": 1328
        },
        {
         "names": "Kelly Greer",
         "gender": "female",
         "race/ethnicity": "group C",
         "parental level of education": "associate's degree",
         "lunch": "free/reduced",
         "test preparation course": "none",
         "math score": 4.18,
         "reading score": 4.66,
         "writing score": 4.72,
         "GPA": "4.52",
         "_deepnote_index_column": 1330
        },
        {
         "names": "Fred Jaeger",
         "gender": "male",
         "race/ethnicity": "group E",
         "parental level of education": "bachelor's degree",
         "lunch": "standard",
         "test preparation course": "completed",
         "math score": 6.1,
         "reading score": 4.96,
         "writing score": 5.26,
         "GPA": "5.44",
         "_deepnote_index_column": 1331
        },
        {
         "names": "Haydee Kunkel",
         "gender": "female",
         "race/ethnicity": "group C",
         "parental level of education": "high school",
         "lunch": "free/reduced",
         "test preparation course": "none",
         "math score": 4.72,
         "reading score": 5.02,
         "writing score": 4.84,
         "GPA": "4.859999999999999",
         "_deepnote_index_column": 1333
        },
        {
         "names": "Kayla Lopez",
         "gender": "female",
         "race/ethnicity": "group C",
         "parental level of education": "associate's degree",
         "lunch": "standard",
         "test preparation course": "completed",
         "math score": 4.9,
         "reading score": 6.04,
         "writing score": 6.04,
         "GPA": "5.66",
         "_deepnote_index_column": 1334
        },
        {
         "names": "Paul Brownell",
         "gender": "male",
         "race/ethnicity": "group B",
         "parental level of education": "high school",
         "lunch": "standard",
         "test preparation course": "none",
         "math score": 5.92,
         "reading score": 5.92,
         "writing score": 5.8,
         "GPA": "5.88",
         "_deepnote_index_column": 1335
        },
        {
         "names": "Jose Rogers",
         "gender": "male",
         "race/ethnicity": "group D",
         "parental level of education": "some college",
         "lunch": "free/reduced",
         "test preparation course": "none",
         "math score": 5.62,
         "reading score": 4.72,
         "writing score": 4.84,
         "GPA": "5.06",
         "_deepnote_index_column": 1341
        },
        {
         "names": "Joyce Bland",
         "gender": "female",
         "race/ethnicity": "group D",
         "parental level of education": "some high school",
         "lunch": "free/reduced",
         "test preparation course": "none",
         "math score": 4,
         "reading score": 4.84,
         "writing score": 4.54,
         "GPA": "4.46",
         "_deepnote_index_column": 1342
        },
        {
         "names": "Fannie Alvarez",
         "gender": "female",
         "race/ethnicity": "group D",
         "parental level of education": "some college",
         "lunch": "free/reduced",
         "test preparation course": "none",
         "math score": 5.14,
         "reading score": 4.9,
         "writing score": 5.44,
         "GPA": "5.16",
         "_deepnote_index_column": 1343
        },
        {
         "names": "Melissa Johnston",
         "gender": "female",
         "race/ethnicity": "group C",
         "parental level of education": "some high school",
         "lunch": "free/reduced",
         "test preparation course": "none",
         "math score": 1,
         "reading score": 2.02,
         "writing score": 1.6,
         "GPA": "R",
         "_deepnote_index_column": 1344
        },
        {
         "names": "Judith Mcenany",
         "gender": "female",
         "race/ethnicity": "group D",
         "parental level of education": "bachelor's degree",
         "lunch": "standard",
         "test preparation course": "none",
         "math score": 4.9,
         "reading score": 5.02,
         "writing score": 4.72,
         "GPA": "4.88",
         "_deepnote_index_column": 1347
        },
        {
         "names": "Nancy Mccormick",
         "gender": "female",
         "race/ethnicity": "group D",
         "parental level of education": "some high school",
         "lunch": "free/reduced",
         "test preparation course": "completed",
         "math score": 5.14,
         "reading score": 6.16,
         "writing score": 5.86,
         "GPA": "5.72",
         "_deepnote_index_column": 1349
        },
        {
         "names": "Timothy Long",
         "gender": "male",
         "race/ethnicity": "group C",
         "parental level of education": "high school",
         "lunch": "standard",
         "test preparation course": "completed",
         "math score": 5.32,
         "reading score": 5.02,
         "writing score": 4.84,
         "GPA": "5.06",
         "_deepnote_index_column": 1351
        },
        {
         "names": "Sandra Pompey",
         "gender": "female",
         "race/ethnicity": "group E",
         "parental level of education": "associate's degree",
         "lunch": "standard",
         "test preparation course": "none",
         "math score": 7,
         "reading score": 7,
         "writing score": 7,
         "GPA": "7.0",
         "_deepnote_index_column": 1352
        },
        {
         "names": "Steven Marriot",
         "gender": "male",
         "race/ethnicity": "group C",
         "parental level of education": "some college",
         "lunch": "free/reduced",
         "test preparation course": "none",
         "math score": 4.9,
         "reading score": 4.48,
         "writing score": 3.94,
         "GPA": "4.44",
         "_deepnote_index_column": 1353
        },
        {
         "names": "Stanley Chappell",
         "gender": "male",
         "race/ethnicity": "group A",
         "parental level of education": "associate's degree",
         "lunch": "free/reduced",
         "test preparation course": "none",
         "math score": 3.82,
         "reading score": 4.42,
         "writing score": 3.64,
         "GPA": "R",
         "_deepnote_index_column": 1354
        },
        {
         "names": "Michelle Smithson",
         "gender": "female",
         "race/ethnicity": "group E",
         "parental level of education": "associate's degree",
         "lunch": "standard",
         "test preparation course": "none",
         "math score": 4.06,
         "reading score": 4.06,
         "writing score": 4.24,
         "GPA": "4.12",
         "_deepnote_index_column": 1356
        },
        {
         "names": "Jeffrey Bostrom",
         "gender": "male",
         "race/ethnicity": "group E",
         "parental level of education": "associate's degree",
         "lunch": "standard",
         "test preparation course": "completed",
         "math score": 5.26,
         "reading score": 5.44,
         "writing score": 5.08,
         "GPA": "5.26",
         "_deepnote_index_column": 1357
        },
        {
         "names": "Earnest Cole",
         "gender": "male",
         "race/ethnicity": "group D",
         "parental level of education": "some college",
         "lunch": "standard",
         "test preparation course": "completed",
         "math score": 5.92,
         "reading score": 5.92,
         "writing score": 6.28,
         "GPA": "6.04",
         "_deepnote_index_column": 1359
        },
        {
         "names": "Sharon Garcia",
         "gender": "female",
         "race/ethnicity": "group C",
         "parental level of education": "some high school",
         "lunch": "free/reduced",
         "test preparation course": "none",
         "math score": 4.3,
         "reading score": 4.9,
         "writing score": 4.72,
         "GPA": "4.64",
         "_deepnote_index_column": 1361
        },
        {
         "names": "Carol Miller",
         "gender": "female",
         "race/ethnicity": "group C",
         "parental level of education": "associate's degree",
         "lunch": "standard",
         "test preparation course": "completed",
         "math score": 5.5,
         "reading score": 5.92,
         "writing score": 6.4,
         "GPA": "5.94",
         "_deepnote_index_column": 1362
        },
        {
         "names": "Antonio Evans",
         "gender": "male",
         "race/ethnicity": "group C",
         "parental level of education": "high school",
         "lunch": "free/reduced",
         "test preparation course": "none",
         "math score": 4.96,
         "reading score": 4.96,
         "writing score": 4.54,
         "GPA": "4.82",
         "_deepnote_index_column": 1363
        },
        {
         "names": "Pam Otoole",
         "gender": "female",
         "race/ethnicity": "group B",
         "parental level of education": "bachelor's degree",
         "lunch": "standard",
         "test preparation course": "none",
         "math score": 5.32,
         "reading score": 5.32,
         "writing score": 5.44,
         "GPA": "5.36",
         "_deepnote_index_column": 1365
        },
        {
         "names": "Matthew Burns",
         "gender": "male",
         "race/ethnicity": "group E",
         "parental level of education": "high school",
         "lunch": "standard",
         "test preparation course": "none",
         "math score": 5.2,
         "reading score": 4.3,
         "writing score": 4.36,
         "GPA": "4.62",
         "_deepnote_index_column": 1366
        },
        {
         "names": "Gregory Fernandez",
         "gender": "male",
         "race/ethnicity": "group E",
         "parental level of education": "high school",
         "lunch": "free/reduced",
         "test preparation course": "completed",
         "math score": 4.42,
         "reading score": 4.36,
         "writing score": 4.24,
         "GPA": "4.340000000000001",
         "_deepnote_index_column": 1367
        },
        {
         "names": "Charles Herandez",
         "gender": "male",
         "race/ethnicity": "group D",
         "parental level of education": "master's degree",
         "lunch": "free/reduced",
         "test preparation course": "completed",
         "math score": 6.04,
         "reading score": 6.34,
         "writing score": 6.4,
         "GPA": "6.260000000000001",
         "_deepnote_index_column": 1368
        },
        {
         "names": "Aaron Shelly",
         "gender": "male",
         "race/ethnicity": "group D",
         "parental level of education": "associate's degree",
         "lunch": "standard",
         "test preparation course": "none",
         "math score": 4.66,
         "reading score": 3.88,
         "writing score": 3.76,
         "GPA": "4.1",
         "_deepnote_index_column": 1370
        },
        {
         "names": "Charles Harian",
         "gender": "male",
         "race/ethnicity": "group C",
         "parental level of education": "some high school",
         "lunch": "free/reduced",
         "test preparation course": "completed",
         "math score": 3.7,
         "reading score": 4.12,
         "writing score": 3.94,
         "GPA": "R",
         "_deepnote_index_column": 1371
        },
        {
         "names": "Steven Hacker",
         "gender": "male",
         "race/ethnicity": "group A",
         "parental level of education": "some high school",
         "lunch": "free/reduced",
         "test preparation course": "none",
         "math score": 4.9,
         "reading score": 4.54,
         "writing score": 4.18,
         "GPA": "4.54",
         "_deepnote_index_column": 1372
        },
        {
         "names": "Wendy Gunnell",
         "gender": "female",
         "race/ethnicity": "group D",
         "parental level of education": "some high school",
         "lunch": "free/reduced",
         "test preparation course": "none",
         "math score": 2.62,
         "reading score": 3.04,
         "writing score": 2.92,
         "GPA": "R",
         "_deepnote_index_column": 1373
        },
        {
         "names": "Manuel Glover",
         "gender": "male",
         "race/ethnicity": "group D",
         "parental level of education": "some college",
         "lunch": "standard",
         "test preparation course": "none",
         "math score": 6.28,
         "reading score": 5.38,
         "writing score": 5.68,
         "GPA": "5.78",
         "_deepnote_index_column": 1374
        },
        {
         "names": "Linda Nevin",
         "gender": "female",
         "race/ethnicity": "group B",
         "parental level of education": "some high school",
         "lunch": "standard",
         "test preparation course": "completed",
         "math score": 4.9,
         "reading score": 5.92,
         "writing score": 5.68,
         "GPA": "5.5",
         "_deepnote_index_column": 1375
        },
        {
         "names": "James Piper",
         "gender": "male",
         "race/ethnicity": "group D",
         "parental level of education": "bachelor's degree",
         "lunch": "free/reduced",
         "test preparation course": "none",
         "math score": 4.78,
         "reading score": 4.96,
         "writing score": 5.02,
         "GPA": "4.92",
         "_deepnote_index_column": 1376
        },
        {
         "names": "Timothy Anderson",
         "gender": "male",
         "race/ethnicity": "group C",
         "parental level of education": "associate's degree",
         "lunch": "free/reduced",
         "test preparation course": "completed",
         "math score": 5.68,
         "reading score": 5.86,
         "writing score": 5.92,
         "GPA": "5.82",
         "_deepnote_index_column": 1377
        },
        {
         "names": "Julie Sciancalepore",
         "gender": "female",
         "race/ethnicity": "group C",
         "parental level of education": "bachelor's degree",
         "lunch": "standard",
         "test preparation course": "none",
         "math score": 4.9,
         "reading score": 5.32,
         "writing score": 5.44,
         "GPA": "5.22",
         "_deepnote_index_column": 1379
        },
        {
         "names": "Brandon Palmer",
         "gender": "male",
         "race/ethnicity": "group D",
         "parental level of education": "associate's degree",
         "lunch": "free/reduced",
         "test preparation course": "none",
         "math score": 6.4,
         "reading score": 6.22,
         "writing score": 5.5,
         "GPA": "6.04",
         "_deepnote_index_column": 1380
        },
        {
         "names": "Robert Morrison",
         "gender": "male",
         "race/ethnicity": "group D",
         "parental level of education": "some college",
         "lunch": "standard",
         "test preparation course": "completed",
         "math score": 7,
         "reading score": 6.82,
         "writing score": 6.94,
         "GPA": "6.920000000000001",
         "_deepnote_index_column": 1381
        },
        {
         "names": "Claudio Millender",
         "gender": "male",
         "race/ethnicity": "group C",
         "parental level of education": "some college",
         "lunch": "free/reduced",
         "test preparation course": "completed",
         "math score": 5.02,
         "reading score": 5.44,
         "writing score": 5.2,
         "GPA": "5.22",
         "_deepnote_index_column": 1382
        },
        {
         "names": "Emily King",
         "gender": "female",
         "race/ethnicity": "group D",
         "parental level of education": "some college",
         "lunch": "standard",
         "test preparation course": "completed",
         "math score": 5.44,
         "reading score": 5.5,
         "writing score": 5.74,
         "GPA": "5.56",
         "_deepnote_index_column": 1383
        },
        {
         "names": "William Sakkinen",
         "gender": "male",
         "race/ethnicity": "group E",
         "parental level of education": "some college",
         "lunch": "standard",
         "test preparation course": "none",
         "math score": 5.56,
         "reading score": 5.02,
         "writing score": 5.02,
         "GPA": "5.199999999999999",
         "_deepnote_index_column": 1384
        },
        {
         "names": "Elsa Hyman",
         "gender": "female",
         "race/ethnicity": "group B",
         "parental level of education": "high school",
         "lunch": "standard",
         "test preparation course": "none",
         "math score": 4.96,
         "reading score": 5.32,
         "writing score": 5.2,
         "GPA": "5.16",
         "_deepnote_index_column": 1386
        },
        {
         "names": "Virginia Sievers",
         "gender": "female",
         "race/ethnicity": "group C",
         "parental level of education": "bachelor's degree",
         "lunch": "standard",
         "test preparation course": "completed",
         "math score": 4.54,
         "reading score": 4.84,
         "writing score": 5.5,
         "GPA": "4.96",
         "_deepnote_index_column": 1387
        },
        {
         "names": "Laura Cavanaugh",
         "gender": "female",
         "race/ethnicity": "group C",
         "parental level of education": "associate's degree",
         "lunch": "standard",
         "test preparation course": "completed",
         "math score": 4.72,
         "reading score": 5.56,
         "writing score": 5.8,
         "GPA": "5.359999999999999",
         "_deepnote_index_column": 1388
        },
        {
         "names": "Diana Costa",
         "gender": "female",
         "race/ethnicity": "group C",
         "parental level of education": "high school",
         "lunch": "free/reduced",
         "test preparation course": "none",
         "math score": 3.46,
         "reading score": 3.76,
         "writing score": 3.58,
         "GPA": "R",
         "_deepnote_index_column": 1389
        },
        {
         "names": "Amy Sieving",
         "gender": "female",
         "race/ethnicity": "group C",
         "parental level of education": "high school",
         "lunch": "standard",
         "test preparation course": "none",
         "math score": 2.74,
         "reading score": 2.74,
         "writing score": 2.8,
         "GPA": "R",
         "_deepnote_index_column": 1391
        },
        {
         "names": "Richard Young",
         "gender": "male",
         "race/ethnicity": "group D",
         "parental level of education": "high school",
         "lunch": "standard",
         "test preparation course": "none",
         "math score": 5.14,
         "reading score": 5.5,
         "writing score": 5.26,
         "GPA": "5.3",
         "_deepnote_index_column": 1392
        },
        {
         "names": "Wanda Russell",
         "gender": "female",
         "race/ethnicity": "group B",
         "parental level of education": "high school",
         "lunch": "free/reduced",
         "test preparation course": "completed",
         "math score": 2.38,
         "reading score": 3.64,
         "writing score": 3.16,
         "GPA": "R",
         "_deepnote_index_column": 1394
        },
        {
         "names": "Marina Zeigler",
         "gender": "female",
         "race/ethnicity": "group C",
         "parental level of education": "bachelor's degree",
         "lunch": "free/reduced",
         "test preparation course": "completed",
         "math score": 4.96,
         "reading score": 5.44,
         "writing score": 5.86,
         "GPA": "5.420000000000001",
         "_deepnote_index_column": 1396
        },
        {
         "names": "Laurie Carter",
         "gender": "female",
         "race/ethnicity": "group B",
         "parental level of education": "some high school",
         "lunch": "standard",
         "test preparation course": "completed",
         "math score": 4.24,
         "reading score": 4.66,
         "writing score": 4.72,
         "GPA": "4.54",
         "_deepnote_index_column": 1397
        },
        {
         "names": "Amanda Perez",
         "gender": "female",
         "race/ethnicity": "group A",
         "parental level of education": "high school",
         "lunch": "standard",
         "test preparation course": "completed",
         "math score": 5.08,
         "reading score": 5.8,
         "writing score": 5.56,
         "GPA": "5.4799999999999995",
         "_deepnote_index_column": 1399
        }
       ]
      },
      "text/plain": "                 names  gender race/ethnicity parental level of education  \\\n0        Rita Courtney  female        group B            some high school   \n3     Charles Linstrom    male        group A           bachelor's degree   \n5          Brian Young    male        group C            some high school   \n6       Howard Jimenez    male        group E            some high school   \n7         Wayne Wilson    male        group B            some high school   \n...                ...     ...            ...                         ...   \n1392     Richard Young    male        group D                 high school   \n1394     Wanda Russell  female        group B                 high school   \n1396    Marina Zeigler  female        group C           bachelor's degree   \n1397     Laurie Carter  female        group B            some high school   \n1399      Amanda Perez  female        group A                 high school   \n\n             lunch test preparation course  math score  reading score  \\\n0         standard                    none        3.22           3.76   \n3         standard               completed        5.80           5.68   \n5         standard                    none        5.38           4.96   \n6         standard               completed        5.86           5.50   \n7         standard               completed        6.64           6.16   \n...            ...                     ...         ...            ...   \n1392      standard                    none        5.14           5.50   \n1394  free/reduced               completed        2.38           3.64   \n1396  free/reduced               completed        4.96           5.44   \n1397      standard               completed        4.24           4.66   \n1399      standard               completed        5.08           5.80   \n\n      writing score   GPA  \n0              3.76     R  \n3              5.86  5.78  \n5              4.78  5.04  \n6              5.56  5.64  \n7              6.22  6.34  \n...             ...   ...  \n1392           5.26   5.3  \n1394           3.16     R  \n1396           5.86  5.42  \n1397           4.72  4.54  \n1399           5.56  5.48  \n\n[875 rows x 10 columns]",
      "text/html": "<div>\n<style scoped>\n    .dataframe tbody tr th:only-of-type {\n        vertical-align: middle;\n    }\n\n    .dataframe tbody tr th {\n        vertical-align: top;\n    }\n\n    .dataframe thead th {\n        text-align: right;\n    }\n</style>\n<table border=\"1\" class=\"dataframe\">\n  <thead>\n    <tr style=\"text-align: right;\">\n      <th></th>\n      <th>names</th>\n      <th>gender</th>\n      <th>race/ethnicity</th>\n      <th>parental level of education</th>\n      <th>lunch</th>\n      <th>test preparation course</th>\n      <th>math score</th>\n      <th>reading score</th>\n      <th>writing score</th>\n      <th>GPA</th>\n    </tr>\n  </thead>\n  <tbody>\n    <tr>\n      <th>0</th>\n      <td>Rita Courtney</td>\n      <td>female</td>\n      <td>group B</td>\n      <td>some high school</td>\n      <td>standard</td>\n      <td>none</td>\n      <td>3.22</td>\n      <td>3.76</td>\n      <td>3.76</td>\n      <td>R</td>\n    </tr>\n    <tr>\n      <th>3</th>\n      <td>Charles Linstrom</td>\n      <td>male</td>\n      <td>group A</td>\n      <td>bachelor's degree</td>\n      <td>standard</td>\n      <td>completed</td>\n      <td>5.80</td>\n      <td>5.68</td>\n      <td>5.86</td>\n      <td>5.78</td>\n    </tr>\n    <tr>\n      <th>5</th>\n      <td>Brian Young</td>\n      <td>male</td>\n      <td>group C</td>\n      <td>some high school</td>\n      <td>standard</td>\n      <td>none</td>\n      <td>5.38</td>\n      <td>4.96</td>\n      <td>4.78</td>\n      <td>5.04</td>\n    </tr>\n    <tr>\n      <th>6</th>\n      <td>Howard Jimenez</td>\n      <td>male</td>\n      <td>group E</td>\n      <td>some high school</td>\n      <td>standard</td>\n      <td>completed</td>\n      <td>5.86</td>\n      <td>5.50</td>\n      <td>5.56</td>\n      <td>5.64</td>\n    </tr>\n    <tr>\n      <th>7</th>\n      <td>Wayne Wilson</td>\n      <td>male</td>\n      <td>group B</td>\n      <td>some high school</td>\n      <td>standard</td>\n      <td>completed</td>\n      <td>6.64</td>\n      <td>6.16</td>\n      <td>6.22</td>\n      <td>6.34</td>\n    </tr>\n    <tr>\n      <th>...</th>\n      <td>...</td>\n      <td>...</td>\n      <td>...</td>\n      <td>...</td>\n      <td>...</td>\n      <td>...</td>\n      <td>...</td>\n      <td>...</td>\n      <td>...</td>\n      <td>...</td>\n    </tr>\n    <tr>\n      <th>1392</th>\n      <td>Richard Young</td>\n      <td>male</td>\n      <td>group D</td>\n      <td>high school</td>\n      <td>standard</td>\n      <td>none</td>\n      <td>5.14</td>\n      <td>5.50</td>\n      <td>5.26</td>\n      <td>5.3</td>\n    </tr>\n    <tr>\n      <th>1394</th>\n      <td>Wanda Russell</td>\n      <td>female</td>\n      <td>group B</td>\n      <td>high school</td>\n      <td>free/reduced</td>\n      <td>completed</td>\n      <td>2.38</td>\n      <td>3.64</td>\n      <td>3.16</td>\n      <td>R</td>\n    </tr>\n    <tr>\n      <th>1396</th>\n      <td>Marina Zeigler</td>\n      <td>female</td>\n      <td>group C</td>\n      <td>bachelor's degree</td>\n      <td>free/reduced</td>\n      <td>completed</td>\n      <td>4.96</td>\n      <td>5.44</td>\n      <td>5.86</td>\n      <td>5.42</td>\n    </tr>\n    <tr>\n      <th>1397</th>\n      <td>Laurie Carter</td>\n      <td>female</td>\n      <td>group B</td>\n      <td>some high school</td>\n      <td>standard</td>\n      <td>completed</td>\n      <td>4.24</td>\n      <td>4.66</td>\n      <td>4.72</td>\n      <td>4.54</td>\n    </tr>\n    <tr>\n      <th>1399</th>\n      <td>Amanda Perez</td>\n      <td>female</td>\n      <td>group A</td>\n      <td>high school</td>\n      <td>standard</td>\n      <td>completed</td>\n      <td>5.08</td>\n      <td>5.80</td>\n      <td>5.56</td>\n      <td>5.48</td>\n    </tr>\n  </tbody>\n</table>\n<p>875 rows × 10 columns</p>\n</div>"
     },
     "metadata": {},
     "output_type": "display_data"
    },
    {
     "data": {
      "application/vnd.deepnote.dataframe.v2+json": {
       "row_count": 94,
       "column_count": 10,
       "columns": [
        {
         "name": "names",
         "dtype": "object",
         "stats": {
          "unique_count": 94,
          "nan_count": 0,
          "categories": [
           {
            "name": "Richard Pryor",
            "count": 1
           },
           {
            "name": "Sandra Pompey",
            "count": 1
           },
           {
            "name": "92 others",
            "count": 92
           }
          ]
         }
        },
        {
         "name": "gender",
         "dtype": "object",
         "stats": {
          "unique_count": 2,
          "nan_count": 0,
          "categories": [
           {
            "name": "female",
            "count": 53
           },
           {
            "name": "male",
            "count": 41
           }
          ]
         }
        },
        {
         "name": "race/ethnicity",
         "dtype": "object",
         "stats": {
          "unique_count": 5,
          "nan_count": 0,
          "categories": [
           {
            "name": "group C",
            "count": 29
           },
           {
            "name": "group E",
            "count": 24
           },
           {
            "name": "3 others",
            "count": 41
           }
          ]
         }
        },
        {
         "name": "parental level of education",
         "dtype": "object",
         "stats": {
          "unique_count": 6,
          "nan_count": 0,
          "categories": [
           {
            "name": "associate's degree",
            "count": 31
           },
           {
            "name": "some college",
            "count": 22
           },
           {
            "name": "4 others",
            "count": 41
           }
          ]
         }
        },
        {
         "name": "lunch",
         "dtype": "object",
         "stats": {
          "unique_count": 2,
          "nan_count": 0,
          "categories": [
           {
            "name": "standard",
            "count": 85
           },
           {
            "name": "free/reduced",
            "count": 9
           }
          ]
         }
        },
        {
         "name": "test preparation course",
         "dtype": "object",
         "stats": {
          "unique_count": 2,
          "nan_count": 0,
          "categories": [
           {
            "name": "completed",
            "count": 53
           },
           {
            "name": "none",
            "count": 41
           }
          ]
         }
        },
        {
         "name": "math score",
         "dtype": "float64",
         "stats": {
          "unique_count": 19,
          "nan_count": 0,
          "min": "5.86",
          "max": "7.0",
          "histogram": [
           {
            "bin_start": 5.86,
            "bin_end": 5.974,
            "count": 15
           },
           {
            "bin_start": 5.974,
            "bin_end": 6.088,
            "count": 9
           },
           {
            "bin_start": 6.088,
            "bin_end": 6.202,
            "count": 11
           },
           {
            "bin_start": 6.202,
            "bin_end": 6.316,
            "count": 15
           },
           {
            "bin_start": 6.316,
            "bin_end": 6.43,
            "count": 8
           },
           {
            "bin_start": 6.43,
            "bin_end": 6.5440000000000005,
            "count": 7
           },
           {
            "bin_start": 6.5440000000000005,
            "bin_end": 6.658,
            "count": 8
           },
           {
            "bin_start": 6.658,
            "bin_end": 6.772,
            "count": 3
           },
           {
            "bin_start": 6.772,
            "bin_end": 6.886,
            "count": 9
           },
           {
            "bin_start": 6.886,
            "bin_end": 7,
            "count": 9
           }
          ]
         }
        },
        {
         "name": "reading score",
         "dtype": "float64",
         "stats": {
          "unique_count": 19,
          "nan_count": 0,
          "min": "5.86",
          "max": "7.0",
          "histogram": [
           {
            "bin_start": 5.86,
            "bin_end": 5.974,
            "count": 7
           },
           {
            "bin_start": 5.974,
            "bin_end": 6.088,
            "count": 10
           },
           {
            "bin_start": 6.088,
            "bin_end": 6.202,
            "count": 11
           },
           {
            "bin_start": 6.202,
            "bin_end": 6.316,
            "count": 7
           },
           {
            "bin_start": 6.316,
            "bin_end": 6.43,
            "count": 11
           },
           {
            "bin_start": 6.43,
            "bin_end": 6.5440000000000005,
            "count": 10
           },
           {
            "bin_start": 6.5440000000000005,
            "bin_end": 6.658,
            "count": 6
           },
           {
            "bin_start": 6.658,
            "bin_end": 6.772,
            "count": 11
           },
           {
            "bin_start": 6.772,
            "bin_end": 6.886,
            "count": 4
           },
           {
            "bin_start": 6.886,
            "bin_end": 7,
            "count": 17
           }
          ]
         }
        },
        {
         "name": "writing score",
         "dtype": "float64",
         "stats": {
          "unique_count": 20,
          "nan_count": 0,
          "min": "5.86",
          "max": "7.0",
          "histogram": [
           {
            "bin_start": 5.86,
            "bin_end": 5.974,
            "count": 10
           },
           {
            "bin_start": 5.974,
            "bin_end": 6.088,
            "count": 6
           },
           {
            "bin_start": 6.088,
            "bin_end": 6.202,
            "count": 12
           },
           {
            "bin_start": 6.202,
            "bin_end": 6.316,
            "count": 8
           },
           {
            "bin_start": 6.316,
            "bin_end": 6.43,
            "count": 10
           },
           {
            "bin_start": 6.43,
            "bin_end": 6.5440000000000005,
            "count": 11
           },
           {
            "bin_start": 6.5440000000000005,
            "bin_end": 6.658,
            "count": 9
           },
           {
            "bin_start": 6.658,
            "bin_end": 6.772,
            "count": 10
           },
           {
            "bin_start": 6.772,
            "bin_end": 6.886,
            "count": 2
           },
           {
            "bin_start": 6.886,
            "bin_end": 7,
            "count": 16
           }
          ]
         }
        },
        {
         "name": "GPA",
         "dtype": "float64",
         "stats": {
          "unique_count": 52,
          "nan_count": 0,
          "min": "5.900000000000001",
          "max": "7.0",
          "histogram": [
           {
            "bin_start": 5.900000000000001,
            "bin_end": 6.010000000000002,
            "count": 6
           },
           {
            "bin_start": 6.010000000000002,
            "bin_end": 6.120000000000001,
            "count": 8
           },
           {
            "bin_start": 6.120000000000001,
            "bin_end": 6.23,
            "count": 12
           },
           {
            "bin_start": 6.23,
            "bin_end": 6.340000000000001,
            "count": 18
           },
           {
            "bin_start": 6.340000000000001,
            "bin_end": 6.450000000000001,
            "count": 11
           },
           {
            "bin_start": 6.450000000000001,
            "bin_end": 6.5600000000000005,
            "count": 13
           },
           {
            "bin_start": 6.5600000000000005,
            "bin_end": 6.67,
            "count": 7
           },
           {
            "bin_start": 6.67,
            "bin_end": 6.78,
            "count": 2
           },
           {
            "bin_start": 6.78,
            "bin_end": 6.890000000000001,
            "count": 9
           },
           {
            "bin_start": 6.890000000000001,
            "bin_end": 7,
            "count": 8
           }
          ]
         }
        },
        {
         "name": "_deepnote_index_column",
         "dtype": "int64"
        }
       ],
       "rows_top": [
        {
         "names": "Richard Pryor",
         "gender": "male",
         "race/ethnicity": "group E",
         "parental level of education": "bachelor's degree",
         "lunch": "standard",
         "test preparation course": "completed",
         "math score": 7,
         "reading score": 7,
         "writing score": 7,
         "GPA": 7,
         "_deepnote_index_column": 677
        },
        {
         "names": "Sandra Pompey",
         "gender": "female",
         "race/ethnicity": "group E",
         "parental level of education": "associate's degree",
         "lunch": "standard",
         "test preparation course": "none",
         "math score": 7,
         "reading score": 7,
         "writing score": 7,
         "GPA": 7,
         "_deepnote_index_column": 1352
        },
        {
         "names": "Elizabeth Beasley",
         "gender": "female",
         "race/ethnicity": "group E",
         "parental level of education": "bachelor's degree",
         "lunch": "standard",
         "test preparation course": "none",
         "math score": 7,
         "reading score": 7,
         "writing score": 7,
         "GPA": 7,
         "_deepnote_index_column": 384
        },
        {
         "names": "Emma Gray",
         "gender": "female",
         "race/ethnicity": "group E",
         "parental level of education": "bachelor's degree",
         "lunch": "standard",
         "test preparation course": "completed",
         "math score": 6.94,
         "reading score": 7,
         "writing score": 7,
         "GPA": 6.98,
         "_deepnote_index_column": 475
        },
        {
         "names": "Emma Brasher",
         "gender": "female",
         "race/ethnicity": "group D",
         "parental level of education": "some high school",
         "lunch": "standard",
         "test preparation course": "completed",
         "math score": 6.82,
         "reading score": 7,
         "writing score": 7,
         "GPA": 6.94,
         "_deepnote_index_column": 279
        },
        {
         "names": "Angela Cressey",
         "gender": "female",
         "race/ethnicity": "group D",
         "parental level of education": "some college",
         "lunch": "standard",
         "test preparation course": "none",
         "math score": 6.88,
         "reading score": 7,
         "writing score": 6.94,
         "GPA": 6.94,
         "_deepnote_index_column": 1276
        },
        {
         "names": "Robert Morrison",
         "gender": "male",
         "race/ethnicity": "group D",
         "parental level of education": "some college",
         "lunch": "standard",
         "test preparation course": "completed",
         "math score": 7,
         "reading score": 6.82,
         "writing score": 6.94,
         "GPA": 6.920000000000001,
         "_deepnote_index_column": 1381
        },
        {
         "names": "Emmie Mooreland",
         "gender": "female",
         "race/ethnicity": "group C",
         "parental level of education": "bachelor's degree",
         "lunch": "standard",
         "test preparation course": "completed",
         "math score": 6.76,
         "reading score": 7,
         "writing score": 7,
         "GPA": 6.919999999999999,
         "_deepnote_index_column": 1219
        },
        {
         "names": "David Martinez",
         "gender": "male",
         "race/ethnicity": "group E",
         "parental level of education": "associate's degree",
         "lunch": "free/reduced",
         "test preparation course": "completed",
         "math score": 7,
         "reading score": 7,
         "writing score": 6.58,
         "GPA": 6.859999999999999,
         "_deepnote_index_column": 514
        },
        {
         "names": "Ana Loredo",
         "gender": "female",
         "race/ethnicity": "group E",
         "parental level of education": "master's degree",
         "lunch": "standard",
         "test preparation course": "completed",
         "math score": 6.64,
         "reading score": 6.94,
         "writing score": 7,
         "GPA": 6.859999999999999,
         "_deepnote_index_column": 149
        },
        {
         "names": "Shanna Braswell",
         "gender": "female",
         "race/ethnicity": "group D",
         "parental level of education": "bachelor's degree",
         "lunch": "free/reduced",
         "test preparation course": "completed",
         "math score": 6.58,
         "reading score": 7,
         "writing score": 7,
         "GPA": 6.859999999999999,
         "_deepnote_index_column": 35
        },
        {
         "names": "Agatha Bergman",
         "gender": "female",
         "race/ethnicity": "group D",
         "parental level of education": "master's degree",
         "lunch": "standard",
         "test preparation course": "none",
         "math score": 6.52,
         "reading score": 7,
         "writing score": 7,
         "GPA": 6.84,
         "_deepnote_index_column": 921
        },
        {
         "names": "Loretta Velez",
         "gender": "female",
         "race/ethnicity": "group C",
         "parental level of education": "associate's degree",
         "lunch": "standard",
         "test preparation course": "completed",
         "math score": 6.76,
         "reading score": 6.76,
         "writing score": 6.94,
         "GPA": 6.82,
         "_deepnote_index_column": 1075
        },
        {
         "names": "Angie Laskoski",
         "gender": "female",
         "race/ethnicity": "group C",
         "parental level of education": "bachelor's degree",
         "lunch": "standard",
         "test preparation course": "completed",
         "math score": 6.52,
         "reading score": 7,
         "writing score": 6.94,
         "GPA": 6.82,
         "_deepnote_index_column": 1182
        },
        {
         "names": "Jeanine Diaz",
         "gender": "female",
         "race/ethnicity": "group B",
         "parental level of education": "bachelor's degree",
         "lunch": "standard",
         "test preparation course": "none",
         "math score": 6.82,
         "reading score": 6.82,
         "writing score": 6.76,
         "GPA": 6.8,
         "_deepnote_index_column": 463
        },
        {
         "names": "Olivia Papp",
         "gender": "female",
         "race/ethnicity": "group E",
         "parental level of education": "some college",
         "lunch": "standard",
         "test preparation course": "none",
         "math score": 7,
         "reading score": 6.52,
         "writing score": 6.82,
         "GPA": 6.78,
         "_deepnote_index_column": 965
        },
        {
         "names": "Sandra Case",
         "gender": "female",
         "race/ethnicity": "group D",
         "parental level of education": "bachelor's degree",
         "lunch": "standard",
         "test preparation course": "none",
         "math score": 6.34,
         "reading score": 7,
         "writing score": 7,
         "GPA": 6.78,
         "_deepnote_index_column": 815
        },
        {
         "names": "Sharon Matthews",
         "gender": "female",
         "race/ethnicity": "group E",
         "parental level of education": "associate's degree",
         "lunch": "standard",
         "test preparation course": "completed",
         "math score": 6.58,
         "reading score": 7,
         "writing score": 6.7,
         "GPA": 6.760000000000001,
         "_deepnote_index_column": 708
        },
        {
         "names": "Maryann Russell",
         "gender": "female",
         "race/ethnicity": "group D",
         "parental level of education": "high school",
         "lunch": "standard",
         "test preparation course": "completed",
         "math score": 6.28,
         "reading score": 6.94,
         "writing score": 7,
         "GPA": 6.739999999999999,
         "_deepnote_index_column": 841
        },
        {
         "names": "Cheryl Leonard",
         "gender": "female",
         "race/ethnicity": "group E",
         "parental level of education": "high school",
         "lunch": "standard",
         "test preparation course": "none",
         "math score": 6.94,
         "reading score": 6.58,
         "writing score": 6.4,
         "GPA": 6.640000000000001,
         "_deepnote_index_column": 239
        },
        {
         "names": "Raymond Stuart",
         "gender": "male",
         "race/ethnicity": "group A",
         "parental level of education": "some college",
         "lunch": "standard",
         "test preparation course": "completed",
         "math score": 7,
         "reading score": 6.76,
         "writing score": 6.16,
         "GPA": 6.640000000000001,
         "_deepnote_index_column": 488
        },
        {
         "names": "Melanie Acevedo",
         "gender": "female",
         "race/ethnicity": "group E",
         "parental level of education": "master's degree",
         "lunch": "standard",
         "test preparation course": "completed",
         "math score": 6.28,
         "reading score": 6.94,
         "writing score": 6.7,
         "GPA": 6.640000000000001,
         "_deepnote_index_column": 929
        },
        {
         "names": "Garth Zayas",
         "gender": "male",
         "race/ethnicity": "group C",
         "parental level of education": "associate's degree",
         "lunch": "standard",
         "test preparation course": "completed",
         "math score": 6.22,
         "reading score": 7,
         "writing score": 6.7,
         "GPA": 6.64,
         "_deepnote_index_column": 732
        },
        {
         "names": "Joseph Sisk",
         "gender": "male",
         "race/ethnicity": "group C",
         "parental level of education": "associate's degree",
         "lunch": "standard",
         "test preparation course": "none",
         "math score": 6.82,
         "reading score": 6.58,
         "writing score": 6.46,
         "GPA": 6.62,
         "_deepnote_index_column": 106
        },
        {
         "names": "Ann Polston",
         "gender": "female",
         "race/ethnicity": "group D",
         "parental level of education": "master's degree",
         "lunch": "free/reduced",
         "test preparation course": "completed",
         "math score": 6.1,
         "reading score": 6.7,
         "writing score": 7,
         "GPA": 6.6000000000000005,
         "_deepnote_index_column": 907
        },
        {
         "names": "Belinda Tuholski",
         "gender": "female",
         "race/ethnicity": "group C",
         "parental level of education": "associate's degree",
         "lunch": "standard",
         "test preparation course": "none",
         "math score": 6.46,
         "reading score": 6.7,
         "writing score": 6.64,
         "GPA": 6.6000000000000005,
         "_deepnote_index_column": 700
        },
        {
         "names": "Sarah Flannery",
         "gender": "female",
         "race/ethnicity": "group B",
         "parental level of education": "master's degree",
         "lunch": "standard",
         "test preparation course": "none",
         "math score": 6.4,
         "reading score": 6.7,
         "writing score": 6.58,
         "GPA": 6.56,
         "_deepnote_index_column": 798
        },
        {
         "names": "Joseph Dean",
         "gender": "male",
         "race/ethnicity": "group C",
         "parental level of education": "bachelor's degree",
         "lunch": "standard",
         "test preparation course": "completed",
         "math score": 6.76,
         "reading score": 6.4,
         "writing score": 6.52,
         "GPA": 6.56,
         "_deepnote_index_column": 99
        },
        {
         "names": "James King",
         "gender": "male",
         "race/ethnicity": "group B",
         "parental level of education": "some college",
         "lunch": "standard",
         "test preparation course": "completed",
         "math score": 6.46,
         "reading score": 6.76,
         "writing score": 6.46,
         "GPA": 6.56,
         "_deepnote_index_column": 1318
        },
        {
         "names": "Kelly Summers",
         "gender": "female",
         "race/ethnicity": "group C",
         "parental level of education": "some college",
         "lunch": "standard",
         "test preparation course": "completed",
         "math score": 6.28,
         "reading score": 6.7,
         "writing score": 6.64,
         "GPA": 6.54,
         "_deepnote_index_column": 211
        },
        {
         "names": "Eleanor Bond",
         "gender": "female",
         "race/ethnicity": "group E",
         "parental level of education": "associate's degree",
         "lunch": "standard",
         "test preparation course": "none",
         "math score": 6.22,
         "reading score": 6.64,
         "writing score": 6.7,
         "GPA": 6.52,
         "_deepnote_index_column": 992
        },
        {
         "names": "Clyde Gay",
         "gender": "male",
         "race/ethnicity": "group C",
         "parental level of education": "associate's degree",
         "lunch": "standard",
         "test preparation course": "completed",
         "math score": 6.88,
         "reading score": 6.22,
         "writing score": 6.4,
         "GPA": 6.5,
         "_deepnote_index_column": 365
        },
        {
         "names": "Julie Smith",
         "gender": "female",
         "race/ethnicity": "group D",
         "parental level of education": "associate's degree",
         "lunch": "standard",
         "test preparation course": "completed",
         "math score": 6.28,
         "reading score": 6.52,
         "writing score": 6.7,
         "GPA": 6.5,
         "_deepnote_index_column": 1041
        },
        {
         "names": "Ronald Coria",
         "gender": "male",
         "race/ethnicity": "group A",
         "parental level of education": "associate's degree",
         "lunch": "standard",
         "test preparation course": "completed",
         "math score": 6.82,
         "reading score": 6.52,
         "writing score": 6.16,
         "GPA": 6.5,
         "_deepnote_index_column": 611
        },
        {
         "names": "Terri Motley",
         "gender": "female",
         "race/ethnicity": "group D",
         "parental level of education": "some college",
         "lunch": "standard",
         "test preparation course": "completed",
         "math score": 5.92,
         "reading score": 6.82,
         "writing score": 6.76,
         "GPA": 6.5,
         "_deepnote_index_column": 1162
        },
        {
         "names": "Susan Miller",
         "gender": "female",
         "race/ethnicity": "group B",
         "parental level of education": "some college",
         "lunch": "standard",
         "test preparation course": "completed",
         "math score": 6.28,
         "reading score": 6.7,
         "writing score": 6.52,
         "GPA": 6.5,
         "_deepnote_index_column": 1302
        },
        {
         "names": "James Stanley",
         "gender": "male",
         "race/ethnicity": "group C",
         "parental level of education": "some college",
         "lunch": "standard",
         "test preparation course": "completed",
         "math score": 6.88,
         "reading score": 6.16,
         "writing score": 6.4,
         "GPA": 6.4799999999999995,
         "_deepnote_index_column": 948
        },
        {
         "names": "Linda Michael",
         "gender": "female",
         "race/ethnicity": "group D",
         "parental level of education": "some high school",
         "lunch": "standard",
         "test preparation course": "none",
         "math score": 5.86,
         "reading score": 6.82,
         "writing score": 6.76,
         "GPA": 6.4799999999999995,
         "_deepnote_index_column": 513
        },
        {
         "names": "Monica Duggins",
         "gender": "female",
         "race/ethnicity": "group B",
         "parental level of education": "associate's degree",
         "lunch": "standard",
         "test preparation course": "completed",
         "math score": 6.64,
         "reading score": 6.22,
         "writing score": 6.52,
         "GPA": 6.46,
         "_deepnote_index_column": 781
        },
        {
         "names": "Earl Rodriguez",
         "gender": "male",
         "race/ethnicity": "group B",
         "parental level of education": "associate's degree",
         "lunch": "standard",
         "test preparation course": "completed",
         "math score": 6.46,
         "reading score": 6.34,
         "writing score": 6.52,
         "GPA": 6.44,
         "_deepnote_index_column": 212
        },
        {
         "names": "Bette Williams",
         "gender": "female",
         "race/ethnicity": "group B",
         "parental level of education": "associate's degree",
         "lunch": "standard",
         "test preparation course": "completed",
         "math score": 6.4,
         "reading score": 6.4,
         "writing score": 6.46,
         "GPA": 6.420000000000001,
         "_deepnote_index_column": 701
        },
        {
         "names": "Judith Foster",
         "gender": "female",
         "race/ethnicity": "group C",
         "parental level of education": "bachelor's degree",
         "lunch": "standard",
         "test preparation course": "none",
         "math score": 5.98,
         "reading score": 6.58,
         "writing score": 6.7,
         "GPA": 6.420000000000001,
         "_deepnote_index_column": 171
        },
        {
         "names": "Tracy Fowler",
         "gender": "female",
         "race/ethnicity": "group E",
         "parental level of education": "associate's degree",
         "lunch": "standard",
         "test preparation course": "none",
         "math score": 6.04,
         "reading score": 6.7,
         "writing score": 6.52,
         "GPA": 6.419999999999999,
         "_deepnote_index_column": 449
        },
        {
         "names": "Molly House",
         "gender": "female",
         "race/ethnicity": "group C",
         "parental level of education": "some high school",
         "lunch": "standard",
         "test preparation course": "completed",
         "math score": 6.1,
         "reading score": 6.52,
         "writing score": 6.58,
         "GPA": 6.3999999999999995,
         "_deepnote_index_column": 446
        },
        {
         "names": "Sheila Carboni",
         "gender": "female",
         "race/ethnicity": "group C",
         "parental level of education": "associate's degree",
         "lunch": "standard",
         "test preparation course": "none",
         "math score": 6.1,
         "reading score": 6.34,
         "writing score": 6.7,
         "GPA": 6.38,
         "_deepnote_index_column": 995
        },
        {
         "names": "Carmen Simcoe",
         "gender": "female",
         "race/ethnicity": "group D",
         "parental level of education": "some college",
         "lunch": "standard",
         "test preparation course": "completed",
         "math score": 6.1,
         "reading score": 6.16,
         "writing score": 6.88,
         "GPA": 6.38,
         "_deepnote_index_column": 452
        },
        {
         "names": "Wendy Lewis",
         "gender": "female",
         "race/ethnicity": "group B",
         "parental level of education": "high school",
         "lunch": "standard",
         "test preparation course": "none",
         "math score": 6.22,
         "reading score": 6.7,
         "writing score": 6.16,
         "GPA": 6.359999999999999,
         "_deepnote_index_column": 1176
        },
        {
         "names": "Gloria Gambrell",
         "gender": "female",
         "race/ethnicity": "group A",
         "parental level of education": "associate's degree",
         "lunch": "standard",
         "test preparation course": "none",
         "math score": 5.92,
         "reading score": 6.58,
         "writing score": 6.58,
         "GPA": 6.359999999999999,
         "_deepnote_index_column": 932
        },
        {
         "names": "Susan Cook",
         "gender": "female",
         "race/ethnicity": "group C",
         "parental level of education": "associate's degree",
         "lunch": "free/reduced",
         "test preparation course": "completed",
         "math score": 5.92,
         "reading score": 6.58,
         "writing score": 6.58,
         "GPA": 6.359999999999999,
         "_deepnote_index_column": 109
        },
        {
         "names": "Walter Ortiz",
         "gender": "male",
         "race/ethnicity": "group C",
         "parental level of education": "some college",
         "lunch": "standard",
         "test preparation course": "completed",
         "math score": 6.58,
         "reading score": 6.04,
         "writing score": 6.4,
         "GPA": 6.340000000000001,
         "_deepnote_index_column": 366
        },
        {
         "names": "Darryl Ruble",
         "gender": "male",
         "race/ethnicity": "group E",
         "parental level of education": "associate's degree",
         "lunch": "standard",
         "test preparation course": "completed",
         "math score": 6.82,
         "reading score": 5.92,
         "writing score": 6.28,
         "GPA": 6.34,
         "_deepnote_index_column": 95
        },
        {
         "names": "Tanya Macinnes",
         "gender": "female",
         "race/ethnicity": "group A",
         "parental level of education": "some high school",
         "lunch": "standard",
         "test preparation course": "completed",
         "math score": 6.1,
         "reading score": 6.4,
         "writing score": 6.52,
         "GPA": 6.34,
         "_deepnote_index_column": 810
        },
        {
         "names": "Wayne Wilson",
         "gender": "male",
         "race/ethnicity": "group B",
         "parental level of education": "some high school",
         "lunch": "standard",
         "test preparation course": "completed",
         "math score": 6.64,
         "reading score": 6.16,
         "writing score": 6.22,
         "GPA": 6.34,
         "_deepnote_index_column": 7
        },
        {
         "names": "Nicole Nesbitt",
         "gender": "female",
         "race/ethnicity": "group C",
         "parental level of education": "some college",
         "lunch": "standard",
         "test preparation course": "none",
         "math score": 5.92,
         "reading score": 6.4,
         "writing score": 6.64,
         "GPA": 6.32,
         "_deepnote_index_column": 902
        },
        {
         "names": "Anna Cotman",
         "gender": "female",
         "race/ethnicity": "group D",
         "parental level of education": "associate's degree",
         "lunch": "standard",
         "test preparation course": "none",
         "math score": 5.92,
         "reading score": 6.7,
         "writing score": 6.34,
         "GPA": 6.32,
         "_deepnote_index_column": 417
        },
        {
         "names": "Norman Arnold",
         "gender": "male",
         "race/ethnicity": "group E",
         "parental level of education": "some college",
         "lunch": "free/reduced",
         "test preparation course": "none",
         "math score": 6.58,
         "reading score": 6.4,
         "writing score": 5.98,
         "GPA": 6.32,
         "_deepnote_index_column": 128
        },
        {
         "names": "Matthew Demelis",
         "gender": "male",
         "race/ethnicity": "group E",
         "parental level of education": "some college",
         "lunch": "standard",
         "test preparation course": "none",
         "math score": 6.82,
         "reading score": 6.22,
         "writing score": 5.92,
         "GPA": 6.32,
         "_deepnote_index_column": 634
        },
        {
         "names": "Anthony Pedigo",
         "gender": "male",
         "race/ethnicity": "group B",
         "parental level of education": "bachelor's degree",
         "lunch": "free/reduced",
         "test preparation course": "completed",
         "math score": 6.22,
         "reading score": 6.4,
         "writing score": 6.28,
         "GPA": 6.300000000000001,
         "_deepnote_index_column": 1137
        },
        {
         "names": "Julie Tang",
         "gender": "female",
         "race/ethnicity": "group D",
         "parental level of education": "associate's degree",
         "lunch": "standard",
         "test preparation course": "none",
         "math score": 6.1,
         "reading score": 6.46,
         "writing score": 6.34,
         "GPA": 6.3,
         "_deepnote_index_column": 831
        },
        {
         "names": "Marguerite Ramos",
         "gender": "female",
         "race/ethnicity": "group C",
         "parental level of education": "bachelor's degree",
         "lunch": "standard",
         "test preparation course": "none",
         "math score": 6.16,
         "reading score": 6.52,
         "writing score": 6.22,
         "GPA": 6.3,
         "_deepnote_index_column": 495
        },
        {
         "names": "Wanda Hardin",
         "gender": "female",
         "race/ethnicity": "group E",
         "parental level of education": "some college",
         "lunch": "standard",
         "test preparation course": "none",
         "math score": 6.22,
         "reading score": 6.1,
         "writing score": 6.58,
         "GPA": 6.3,
         "_deepnote_index_column": 873
        },
        {
         "names": "Esther Childress",
         "gender": "female",
         "race/ethnicity": "group E",
         "parental level of education": "master's degree",
         "lunch": "standard",
         "test preparation course": "none",
         "math score": 5.86,
         "reading score": 6.52,
         "writing score": 6.46,
         "GPA": 6.28,
         "_deepnote_index_column": 1254
        },
        {
         "names": "Charles Herandez",
         "gender": "male",
         "race/ethnicity": "group D",
         "parental level of education": "master's degree",
         "lunch": "free/reduced",
         "test preparation course": "completed",
         "math score": 6.04,
         "reading score": 6.34,
         "writing score": 6.4,
         "GPA": 6.260000000000001,
         "_deepnote_index_column": 1368
        },
        {
         "names": "Charles Johnson",
         "gender": "male",
         "race/ethnicity": "group C",
         "parental level of education": "high school",
         "lunch": "standard",
         "test preparation course": "none",
         "math score": 6.28,
         "reading score": 6.34,
         "writing score": 6.16,
         "GPA": 6.260000000000001,
         "_deepnote_index_column": 340
        },
        {
         "names": "Larry Mclane",
         "gender": "male",
         "race/ethnicity": "group E",
         "parental level of education": "associate's degree",
         "lunch": "free/reduced",
         "test preparation course": "none",
         "math score": 6.4,
         "reading score": 6.4,
         "writing score": 5.92,
         "GPA": 6.239999999999999,
         "_deepnote_index_column": 756
        },
        {
         "names": "John Echols",
         "gender": "male",
         "race/ethnicity": "group D",
         "parental level of education": "associate's degree",
         "lunch": "standard",
         "test preparation course": "none",
         "math score": 6.4,
         "reading score": 6.22,
         "writing score": 6.1,
         "GPA": 6.239999999999999,
         "_deepnote_index_column": 148
        },
        {
         "names": "Ulrike Davidson",
         "gender": "female",
         "race/ethnicity": "group C",
         "parental level of education": "some college",
         "lunch": "standard",
         "test preparation course": "none",
         "math score": 6.04,
         "reading score": 6.22,
         "writing score": 6.46,
         "GPA": 6.239999999999999,
         "_deepnote_index_column": 213
        },
        {
         "names": "Natalie Turney",
         "gender": "female",
         "race/ethnicity": "group E",
         "parental level of education": "associate's degree",
         "lunch": "standard",
         "test preparation course": "none",
         "math score": 6.1,
         "reading score": 6.52,
         "writing score": 6.1,
         "GPA": 6.239999999999999,
         "_deepnote_index_column": 78
        },
        {
         "names": "Patricia Harrell",
         "gender": "female",
         "race/ethnicity": "group C",
         "parental level of education": "associate's degree",
         "lunch": "standard",
         "test preparation course": "none",
         "math score": 6.46,
         "reading score": 6.16,
         "writing score": 6.04,
         "GPA": 6.22,
         "_deepnote_index_column": 1025
        },
        {
         "names": "Dennis Campbell",
         "gender": "male",
         "race/ethnicity": "group C",
         "parental level of education": "master's degree",
         "lunch": "standard",
         "test preparation course": "completed",
         "math score": 6.46,
         "reading score": 6.1,
         "writing score": 6.1,
         "GPA": 6.219999999999999,
         "_deepnote_index_column": 84
        },
        {
         "names": "Ronald Mason",
         "gender": "male",
         "race/ethnicity": "group E",
         "parental level of education": "associate's degree",
         "lunch": "standard",
         "test preparation course": "completed",
         "math score": 6.64,
         "reading score": 6.1,
         "writing score": 5.92,
         "GPA": 6.219999999999999,
         "_deepnote_index_column": 381
        },
        {
         "names": "Ofelia Evans",
         "gender": "female",
         "race/ethnicity": "group C",
         "parental level of education": "master's degree",
         "lunch": "standard",
         "test preparation course": "completed",
         "math score": 5.86,
         "reading score": 6.46,
         "writing score": 6.22,
         "GPA": 6.18,
         "_deepnote_index_column": 842
        },
        {
         "names": "Jonathan Mitchell",
         "gender": "male",
         "race/ethnicity": "group E",
         "parental level of education": "high school",
         "lunch": "standard",
         "test preparation course": "completed",
         "math score": 6.22,
         "reading score": 6.46,
         "writing score": 5.86,
         "GPA": 6.18,
         "_deepnote_index_column": 1280
        },
        {
         "names": "Larry Maldonado",
         "gender": "male",
         "race/ethnicity": "group E",
         "parental level of education": "master's degree",
         "lunch": "standard",
         "test preparation course": "none",
         "math score": 6.4,
         "reading score": 6.1,
         "writing score": 6.04,
         "GPA": 6.18,
         "_deepnote_index_column": 895
        },
        {
         "names": "Edward Lee",
         "gender": "male",
         "race/ethnicity": "group D",
         "parental level of education": "some high school",
         "lunch": "standard",
         "test preparation course": "completed",
         "math score": 6.34,
         "reading score": 6.28,
         "writing score": 5.92,
         "GPA": 6.18,
         "_deepnote_index_column": 308
        },
        {
         "names": "Timothy Botello",
         "gender": "male",
         "race/ethnicity": "group D",
         "parental level of education": "master's degree",
         "lunch": "standard",
         "test preparation course": "none",
         "math score": 6.1,
         "reading score": 6.04,
         "writing score": 6.34,
         "GPA": 6.16,
         "_deepnote_index_column": 609
        },
        {
         "names": "Kenneth Robertson",
         "gender": "male",
         "race/ethnicity": "group A",
         "parental level of education": "bachelor's degree",
         "lunch": "standard",
         "test preparation course": "completed",
         "math score": 6.22,
         "reading score": 6.04,
         "writing score": 6.22,
         "GPA": 6.16,
         "_deepnote_index_column": 575
        },
        {
         "names": "Jessica Salas",
         "gender": "female",
         "race/ethnicity": "group C",
         "parental level of education": "associate's degree",
         "lunch": "standard",
         "test preparation course": "completed",
         "math score": 5.98,
         "reading score": 6.1,
         "writing score": 6.4,
         "GPA": 6.16,
         "_deepnote_index_column": 916
        },
        {
         "names": "Leon Shipley",
         "gender": "male",
         "race/ethnicity": "group B",
         "parental level of education": "some college",
         "lunch": "standard",
         "test preparation course": "completed",
         "math score": 6.22,
         "reading score": 6.04,
         "writing score": 6.16,
         "GPA": 6.140000000000001,
         "_deepnote_index_column": 100
        },
        {
         "names": "Thelma Yeates",
         "gender": "female",
         "race/ethnicity": "group E",
         "parental level of education": "associate's degree",
         "lunch": "free/reduced",
         "test preparation course": "completed",
         "math score": 5.98,
         "reading score": 6.16,
         "writing score": 6.28,
         "GPA": 6.140000000000001,
         "_deepnote_index_column": 43
        },
        {
         "names": "Gary Hunter",
         "gender": "male",
         "race/ethnicity": "group D",
         "parental level of education": "associate's degree",
         "lunch": "standard",
         "test preparation course": "completed",
         "math score": 6.22,
         "reading score": 6.04,
         "writing score": 6.1,
         "GPA": 6.12,
         "_deepnote_index_column": 649
        },
        {
         "names": "Arlene Calhoun",
         "gender": "female",
         "race/ethnicity": "group C",
         "parental level of education": "some college",
         "lunch": "standard",
         "test preparation course": "none",
         "math score": 5.98,
         "reading score": 5.98,
         "writing score": 6.4,
         "GPA": 6.12,
         "_deepnote_index_column": 208
        },
        {
         "names": "James Hughey",
         "gender": "male",
         "race/ethnicity": "group C",
         "parental level of education": "bachelor's degree",
         "lunch": "standard",
         "test preparation course": "none",
         "math score": 6.16,
         "reading score": 5.98,
         "writing score": 6.16,
         "GPA": 6.1000000000000005,
         "_deepnote_index_column": 767
        },
        {
         "names": "James Crawford",
         "gender": "male",
         "race/ethnicity": "group D",
         "parental level of education": "master's degree",
         "lunch": "standard",
         "test preparation course": "none",
         "math score": 6.34,
         "reading score": 6.04,
         "writing score": 5.92,
         "GPA": 6.099999999999999,
         "_deepnote_index_column": 683
        },
        {
         "names": "Dorothea Martin",
         "gender": "female",
         "race/ethnicity": "group E",
         "parental level of education": "associate's degree",
         "lunch": "standard",
         "test preparation course": "completed",
         "math score": 5.92,
         "reading score": 6.1,
         "writing score": 6.16,
         "GPA": 6.06,
         "_deepnote_index_column": 551
        },
        {
         "names": "Isaiah Massey",
         "gender": "male",
         "race/ethnicity": "group C",
         "parental level of education": "some college",
         "lunch": "standard",
         "test preparation course": "none",
         "math score": 6.04,
         "reading score": 6.22,
         "writing score": 5.86,
         "GPA": 6.04,
         "_deepnote_index_column": 1203
        },
        {
         "names": "Earnest Cole",
         "gender": "male",
         "race/ethnicity": "group D",
         "parental level of education": "some college",
         "lunch": "standard",
         "test preparation course": "completed",
         "math score": 5.92,
         "reading score": 5.92,
         "writing score": 6.28,
         "GPA": 6.04,
         "_deepnote_index_column": 1359
        },
        {
         "names": "David Moss",
         "gender": "male",
         "race/ethnicity": "group D",
         "parental level of education": "some college",
         "lunch": "standard",
         "test preparation course": "completed",
         "math score": 6.1,
         "reading score": 5.86,
         "writing score": 6.1,
         "GPA": 6.0200000000000005,
         "_deepnote_index_column": 265
        },
        {
         "names": "Christopher Martinez",
         "gender": "male",
         "race/ethnicity": "group C",
         "parental level of education": "bachelor's degree",
         "lunch": "standard",
         "test preparation course": "completed",
         "math score": 5.98,
         "reading score": 5.92,
         "writing score": 6.04,
         "GPA": 5.98,
         "_deepnote_index_column": 393
        },
        {
         "names": "Rolando Widmer",
         "gender": "male",
         "race/ethnicity": "group C",
         "parental level of education": "high school",
         "lunch": "standard",
         "test preparation course": "completed",
         "math score": 5.92,
         "reading score": 6.04,
         "writing score": 5.92,
         "GPA": 5.960000000000001,
         "_deepnote_index_column": 949
        },
        {
         "names": "Lucille Stanphill",
         "gender": "female",
         "race/ethnicity": "group C",
         "parental level of education": "high school",
         "lunch": "standard",
         "test preparation course": "none",
         "math score": 5.86,
         "reading score": 6.04,
         "writing score": 5.92,
         "GPA": 5.94,
         "_deepnote_index_column": 296
        },
        {
         "names": "Steven Kelly",
         "gender": "male",
         "race/ethnicity": "group D",
         "parental level of education": "some college",
         "lunch": "standard",
         "test preparation course": "none",
         "math score": 5.86,
         "reading score": 5.92,
         "writing score": 6.04,
         "GPA": 5.94,
         "_deepnote_index_column": 300
        },
        {
         "names": "Peter Perez",
         "gender": "male",
         "race/ethnicity": "group D",
         "parental level of education": "master's degree",
         "lunch": "standard",
         "test preparation course": "none",
         "math score": 5.86,
         "reading score": 5.86,
         "writing score": 6.04,
         "GPA": 5.920000000000001,
         "_deepnote_index_column": 1307
        },
        {
         "names": "Harry Berry",
         "gender": "male",
         "race/ethnicity": "group B",
         "parental level of education": "associate's degree",
         "lunch": "standard",
         "test preparation course": "completed",
         "math score": 5.86,
         "reading score": 5.92,
         "writing score": 5.92,
         "GPA": 5.900000000000001,
         "_deepnote_index_column": 96
        }
       ],
       "rows_bottom": null
      },
      "text/plain": "                  names  gender race/ethnicity parental level of education  \\\n677       Richard Pryor    male        group E           bachelor's degree   \n1352      Sandra Pompey  female        group E          associate's degree   \n384   Elizabeth Beasley  female        group E           bachelor's degree   \n475           Emma Gray  female        group E           bachelor's degree   \n279        Emma Brasher  female        group D            some high school   \n...                 ...     ...            ...                         ...   \n949      Rolando Widmer    male        group C                 high school   \n296   Lucille Stanphill  female        group C                 high school   \n300        Steven Kelly    male        group D                some college   \n1307        Peter Perez    male        group D             master's degree   \n96          Harry Berry    male        group B          associate's degree   \n\n         lunch test preparation course  math score  reading score  \\\n677   standard               completed        7.00           7.00   \n1352  standard                    none        7.00           7.00   \n384   standard                    none        7.00           7.00   \n475   standard               completed        6.94           7.00   \n279   standard               completed        6.82           7.00   \n...        ...                     ...         ...            ...   \n949   standard               completed        5.92           6.04   \n296   standard                    none        5.86           6.04   \n300   standard                    none        5.86           5.92   \n1307  standard                    none        5.86           5.86   \n96    standard               completed        5.86           5.92   \n\n      writing score   GPA  \n677            7.00  7.00  \n1352           7.00  7.00  \n384            7.00  7.00  \n475            7.00  6.98  \n279            7.00  6.94  \n...             ...   ...  \n949            5.92  5.96  \n296            5.92  5.94  \n300            6.04  5.94  \n1307           6.04  5.92  \n96             5.92  5.90  \n\n[94 rows x 10 columns]",
      "text/html": "<div>\n<style scoped>\n    .dataframe tbody tr th:only-of-type {\n        vertical-align: middle;\n    }\n\n    .dataframe tbody tr th {\n        vertical-align: top;\n    }\n\n    .dataframe thead th {\n        text-align: right;\n    }\n</style>\n<table border=\"1\" class=\"dataframe\">\n  <thead>\n    <tr style=\"text-align: right;\">\n      <th></th>\n      <th>names</th>\n      <th>gender</th>\n      <th>race/ethnicity</th>\n      <th>parental level of education</th>\n      <th>lunch</th>\n      <th>test preparation course</th>\n      <th>math score</th>\n      <th>reading score</th>\n      <th>writing score</th>\n      <th>GPA</th>\n    </tr>\n  </thead>\n  <tbody>\n    <tr>\n      <th>677</th>\n      <td>Richard Pryor</td>\n      <td>male</td>\n      <td>group E</td>\n      <td>bachelor's degree</td>\n      <td>standard</td>\n      <td>completed</td>\n      <td>7.00</td>\n      <td>7.00</td>\n      <td>7.00</td>\n      <td>7.00</td>\n    </tr>\n    <tr>\n      <th>1352</th>\n      <td>Sandra Pompey</td>\n      <td>female</td>\n      <td>group E</td>\n      <td>associate's degree</td>\n      <td>standard</td>\n      <td>none</td>\n      <td>7.00</td>\n      <td>7.00</td>\n      <td>7.00</td>\n      <td>7.00</td>\n    </tr>\n    <tr>\n      <th>384</th>\n      <td>Elizabeth Beasley</td>\n      <td>female</td>\n      <td>group E</td>\n      <td>bachelor's degree</td>\n      <td>standard</td>\n      <td>none</td>\n      <td>7.00</td>\n      <td>7.00</td>\n      <td>7.00</td>\n      <td>7.00</td>\n    </tr>\n    <tr>\n      <th>475</th>\n      <td>Emma Gray</td>\n      <td>female</td>\n      <td>group E</td>\n      <td>bachelor's degree</td>\n      <td>standard</td>\n      <td>completed</td>\n      <td>6.94</td>\n      <td>7.00</td>\n      <td>7.00</td>\n      <td>6.98</td>\n    </tr>\n    <tr>\n      <th>279</th>\n      <td>Emma Brasher</td>\n      <td>female</td>\n      <td>group D</td>\n      <td>some high school</td>\n      <td>standard</td>\n      <td>completed</td>\n      <td>6.82</td>\n      <td>7.00</td>\n      <td>7.00</td>\n      <td>6.94</td>\n    </tr>\n    <tr>\n      <th>...</th>\n      <td>...</td>\n      <td>...</td>\n      <td>...</td>\n      <td>...</td>\n      <td>...</td>\n      <td>...</td>\n      <td>...</td>\n      <td>...</td>\n      <td>...</td>\n      <td>...</td>\n    </tr>\n    <tr>\n      <th>949</th>\n      <td>Rolando Widmer</td>\n      <td>male</td>\n      <td>group C</td>\n      <td>high school</td>\n      <td>standard</td>\n      <td>completed</td>\n      <td>5.92</td>\n      <td>6.04</td>\n      <td>5.92</td>\n      <td>5.96</td>\n    </tr>\n    <tr>\n      <th>296</th>\n      <td>Lucille Stanphill</td>\n      <td>female</td>\n      <td>group C</td>\n      <td>high school</td>\n      <td>standard</td>\n      <td>none</td>\n      <td>5.86</td>\n      <td>6.04</td>\n      <td>5.92</td>\n      <td>5.94</td>\n    </tr>\n    <tr>\n      <th>300</th>\n      <td>Steven Kelly</td>\n      <td>male</td>\n      <td>group D</td>\n      <td>some college</td>\n      <td>standard</td>\n      <td>none</td>\n      <td>5.86</td>\n      <td>5.92</td>\n      <td>6.04</td>\n      <td>5.94</td>\n    </tr>\n    <tr>\n      <th>1307</th>\n      <td>Peter Perez</td>\n      <td>male</td>\n      <td>group D</td>\n      <td>master's degree</td>\n      <td>standard</td>\n      <td>none</td>\n      <td>5.86</td>\n      <td>5.86</td>\n      <td>6.04</td>\n      <td>5.92</td>\n    </tr>\n    <tr>\n      <th>96</th>\n      <td>Harry Berry</td>\n      <td>male</td>\n      <td>group B</td>\n      <td>associate's degree</td>\n      <td>standard</td>\n      <td>completed</td>\n      <td>5.86</td>\n      <td>5.92</td>\n      <td>5.92</td>\n      <td>5.90</td>\n    </tr>\n  </tbody>\n</table>\n<p>94 rows × 10 columns</p>\n</div>"
     },
     "metadata": {},
     "output_type": "display_data"
    }
   ]
  },
  {
   "cell_type": "code",
   "metadata": {
    "colab": {
     "base_uri": "https://localhost:8080/",
     "height": 419
    },
    "id": "LlxNXK11XBGn",
    "executionInfo": {
     "status": "ok",
     "timestamp": 1619205978676,
     "user_tz": 240,
     "elapsed": 611,
     "user": {
      "displayName": "IGNACIO ALEJANDRO MEZA",
      "photoUrl": "",
      "userId": "17011121633069169364"
     }
    },
    "outputId": "a4572fe2-0758-4c0c-c9f3-cb444233134f",
    "deepnote_to_be_reexecuted": false,
    "source_hash": "6b5dd0d8",
    "execution_start": 1633016526971,
    "execution_millis": 327,
    "cell_id": "00048-58c77591-f1eb-4497-af40-252bcc9ed099",
    "deepnote_cell_type": "code"
   },
   "source": "dataframe1, dataframe2, dataframe3 = reprobados_destacados(df_grades)\ndataframe1",
   "execution_count": null,
   "outputs": [
    {
     "output_type": "execute_result",
     "execution_count": 16,
     "data": {
      "application/vnd.deepnote.dataframe.v2+json": {
       "row_count": 86,
       "column_count": 10,
       "columns": [
        {
         "name": "names",
         "dtype": "object",
         "stats": {
          "unique_count": 86,
          "nan_count": 0,
          "categories": [
           {
            "name": "Rita Courtney",
            "count": 1
           },
           {
            "name": "Mikki Amaya",
            "count": 1
           },
           {
            "name": "84 others",
            "count": 84
           }
          ]
         }
        },
        {
         "name": "gender",
         "dtype": "object",
         "stats": {
          "unique_count": 2,
          "nan_count": 0,
          "categories": [
           {
            "name": "male",
            "count": 55
           },
           {
            "name": "female",
            "count": 31
           }
          ]
         }
        },
        {
         "name": "race/ethnicity",
         "dtype": "object",
         "stats": {
          "unique_count": 5,
          "nan_count": 0,
          "categories": [
           {
            "name": "group C",
            "count": 24
           },
           {
            "name": "group B",
            "count": 23
           },
           {
            "name": "3 others",
            "count": 39
           }
          ]
         }
        },
        {
         "name": "parental level of education",
         "dtype": "object",
         "stats": {
          "unique_count": 6,
          "nan_count": 0,
          "categories": [
           {
            "name": "high school",
            "count": 27
           },
           {
            "name": "some high school",
            "count": 26
           },
           {
            "name": "4 others",
            "count": 33
           }
          ]
         }
        },
        {
         "name": "lunch",
         "dtype": "object",
         "stats": {
          "unique_count": 2,
          "nan_count": 0,
          "categories": [
           {
            "name": "free/reduced",
            "count": 53
           },
           {
            "name": "standard",
            "count": 33
           }
          ]
         }
        },
        {
         "name": "test preparation course",
         "dtype": "object",
         "stats": {
          "unique_count": 2,
          "nan_count": 0,
          "categories": [
           {
            "name": "none",
            "count": 70
           },
           {
            "name": "completed",
            "count": 16
           }
          ]
         }
        },
        {
         "name": "math score",
         "dtype": "float64",
         "stats": {
          "unique_count": 37,
          "nan_count": 0,
          "min": "1.0",
          "max": "4.66",
          "histogram": [
           {
            "bin_start": 1,
            "bin_end": 1.366,
            "count": 1
           },
           {
            "bin_start": 1.366,
            "bin_end": 1.732,
            "count": 1
           },
           {
            "bin_start": 1.732,
            "bin_end": 2.098,
            "count": 1
           },
           {
            "bin_start": 2.098,
            "bin_end": 2.464,
            "count": 4
           },
           {
            "bin_start": 2.464,
            "bin_end": 2.83,
            "count": 9
           },
           {
            "bin_start": 2.83,
            "bin_end": 3.1959999999999997,
            "count": 8
           },
           {
            "bin_start": 3.1959999999999997,
            "bin_end": 3.562,
            "count": 19
           },
           {
            "bin_start": 3.562,
            "bin_end": 3.928,
            "count": 21
           },
           {
            "bin_start": 3.928,
            "bin_end": 4.2940000000000005,
            "count": 14
           },
           {
            "bin_start": 4.2940000000000005,
            "bin_end": 4.66,
            "count": 8
           }
          ]
         }
        },
        {
         "name": "reading score",
         "dtype": "float64",
         "stats": {
          "unique_count": 30,
          "nan_count": 0,
          "min": "2.02",
          "max": "4.42",
          "histogram": [
           {
            "bin_start": 2.02,
            "bin_end": 2.26,
            "count": 1
           },
           {
            "bin_start": 2.26,
            "bin_end": 2.5,
            "count": 3
           },
           {
            "bin_start": 2.5,
            "bin_end": 2.74,
            "count": 2
           },
           {
            "bin_start": 2.74,
            "bin_end": 2.98,
            "count": 5
           },
           {
            "bin_start": 2.98,
            "bin_end": 3.2199999999999998,
            "count": 4
           },
           {
            "bin_start": 3.2199999999999998,
            "bin_end": 3.46,
            "count": 10
           },
           {
            "bin_start": 3.46,
            "bin_end": 3.7,
            "count": 20
           },
           {
            "bin_start": 3.7,
            "bin_end": 3.94,
            "count": 17
           },
           {
            "bin_start": 3.94,
            "bin_end": 4.18,
            "count": 17
           },
           {
            "bin_start": 4.18,
            "bin_end": 4.42,
            "count": 7
           }
          ]
         }
        },
        {
         "name": "writing score",
         "dtype": "float64",
         "stats": {
          "unique_count": 30,
          "nan_count": 0,
          "min": "1.6",
          "max": "4.24",
          "histogram": [
           {
            "bin_start": 1.6,
            "bin_end": 1.864,
            "count": 1
           },
           {
            "bin_start": 1.864,
            "bin_end": 2.128,
            "count": 1
           },
           {
            "bin_start": 2.128,
            "bin_end": 2.3920000000000003,
            "count": 3
           },
           {
            "bin_start": 2.3920000000000003,
            "bin_end": 2.656,
            "count": 3
           },
           {
            "bin_start": 2.656,
            "bin_end": 2.92,
            "count": 2
           },
           {
            "bin_start": 2.92,
            "bin_end": 3.184,
            "count": 11
           },
           {
            "bin_start": 3.184,
            "bin_end": 3.4480000000000004,
            "count": 8
           },
           {
            "bin_start": 3.4480000000000004,
            "bin_end": 3.712,
            "count": 31
           },
           {
            "bin_start": 3.712,
            "bin_end": 3.9760000000000004,
            "count": 16
           },
           {
            "bin_start": 3.9760000000000004,
            "bin_end": 4.24,
            "count": 10
           }
          ]
         }
        },
        {
         "name": "GPA",
         "dtype": "float64",
         "stats": {
          "unique_count": 54,
          "nan_count": 0,
          "min": "1.54",
          "max": "3.98",
          "histogram": [
           {
            "bin_start": 1.54,
            "bin_end": 1.784,
            "count": 1
           },
           {
            "bin_start": 1.784,
            "bin_end": 2.028,
            "count": 0
           },
           {
            "bin_start": 2.028,
            "bin_end": 2.2720000000000002,
            "count": 1
           },
           {
            "bin_start": 2.2720000000000002,
            "bin_end": 2.516,
            "count": 2
           },
           {
            "bin_start": 2.516,
            "bin_end": 2.76,
            "count": 2
           },
           {
            "bin_start": 2.76,
            "bin_end": 3.004,
            "count": 9
           },
           {
            "bin_start": 3.004,
            "bin_end": 3.248,
            "count": 3
           },
           {
            "bin_start": 3.248,
            "bin_end": 3.492,
            "count": 14
           },
           {
            "bin_start": 3.492,
            "bin_end": 3.7359999999999998,
            "count": 16
           },
           {
            "bin_start": 3.7359999999999998,
            "bin_end": 3.98,
            "count": 38
           }
          ]
         }
        },
        {
         "name": "_deepnote_index_column",
         "dtype": "int64"
        }
       ],
       "rows_top": [
        {
         "names": "Rita Courtney",
         "gender": "female",
         "race/ethnicity": "group B",
         "parental level of education": "some high school",
         "lunch": "standard",
         "test preparation course": "none",
         "math score": 3.22,
         "reading score": 3.76,
         "writing score": 3.76,
         "GPA": 3.58,
         "_deepnote_index_column": 0
        },
        {
         "names": "Mikki Amaya",
         "gender": "female",
         "race/ethnicity": "group A",
         "parental level of education": "high school",
         "lunch": "free/reduced",
         "test preparation course": "completed",
         "math score": 3.04,
         "reading score": 3.88,
         "writing score": 3.46,
         "GPA": 3.4599999999999995,
         "_deepnote_index_column": 13
        },
        {
         "names": "Samuel Dougal",
         "gender": "male",
         "race/ethnicity": "group C",
         "parental level of education": "master's degree",
         "lunch": "free/reduced",
         "test preparation course": "completed",
         "math score": 3.76,
         "reading score": 3.52,
         "writing score": 3.76,
         "GPA": 3.6799999999999997,
         "_deepnote_index_column": 26
        },
        {
         "names": "Rodger Talavera",
         "gender": "male",
         "race/ethnicity": "group B",
         "parental level of education": "high school",
         "lunch": "free/reduced",
         "test preparation course": "none",
         "math score": 3.16,
         "reading score": 2.74,
         "writing score": 2.62,
         "GPA": 2.84,
         "_deepnote_index_column": 55
        },
        {
         "names": "Morris Johnson",
         "gender": "male",
         "race/ethnicity": "group A",
         "parental level of education": "associate's degree",
         "lunch": "free/reduced",
         "test preparation course": "completed",
         "math score": 3.4,
         "reading score": 4.3,
         "writing score": 4.18,
         "GPA": 3.9599999999999995,
         "_deepnote_index_column": 63
        },
        {
         "names": "Anthony Malcomb",
         "gender": "male",
         "race/ethnicity": "group C",
         "parental level of education": "some college",
         "lunch": "free/reduced",
         "test preparation course": "none",
         "math score": 3.1,
         "reading score": 2.68,
         "writing score": 2.62,
         "GPA": 2.8000000000000003,
         "_deepnote_index_column": 66
        },
        {
         "names": "Ann Pence",
         "gender": "female",
         "race/ethnicity": "group B",
         "parental level of education": "associate's degree",
         "lunch": "standard",
         "test preparation course": "none",
         "math score": 3.4,
         "reading score": 3.88,
         "writing score": 4,
         "GPA": 3.76,
         "_deepnote_index_column": 89
        },
        {
         "names": "Brian Green",
         "gender": "male",
         "race/ethnicity": "group C",
         "parental level of education": "some college",
         "lunch": "standard",
         "test preparation course": "none",
         "math score": 4.54,
         "reading score": 3.46,
         "writing score": 3.52,
         "GPA": 3.84,
         "_deepnote_index_column": 118
        },
        {
         "names": "Carl Caruthers",
         "gender": "male",
         "race/ethnicity": "group A",
         "parental level of education": "some college",
         "lunch": "standard",
         "test preparation course": "none",
         "math score": 4.18,
         "reading score": 3.58,
         "writing score": 3.58,
         "GPA": 3.78,
         "_deepnote_index_column": 153
        },
        {
         "names": "Paul Sherrill",
         "gender": "male",
         "race/ethnicity": "group B",
         "parental level of education": "high school",
         "lunch": "free/reduced",
         "test preparation course": "none",
         "math score": 3.94,
         "reading score": 3.7,
         "writing score": 3.7,
         "GPA": 3.78,
         "_deepnote_index_column": 169
        },
        {
         "names": "Alicia Ratliff",
         "gender": "female",
         "race/ethnicity": "group B",
         "parental level of education": "some high school",
         "lunch": "standard",
         "test preparation course": "completed",
         "math score": 2.92,
         "reading score": 4.06,
         "writing score": 3.64,
         "GPA": 3.5399999999999996,
         "_deepnote_index_column": 193
        },
        {
         "names": "Patricia Briney",
         "gender": "female",
         "race/ethnicity": "group B",
         "parental level of education": "some college",
         "lunch": "standard",
         "test preparation course": "none",
         "math score": 2.14,
         "reading score": 3.28,
         "writing score": 2.92,
         "GPA": 2.78,
         "_deepnote_index_column": 196
        },
        {
         "names": "Chris Chauncey",
         "gender": "male",
         "race/ethnicity": "group D",
         "parental level of education": "high school",
         "lunch": "free/reduced",
         "test preparation course": "none",
         "math score": 3.64,
         "reading score": 4.06,
         "writing score": 3.88,
         "GPA": 3.8599999999999994,
         "_deepnote_index_column": 206
        },
        {
         "names": "Julie Watkins",
         "gender": "female",
         "race/ethnicity": "group E",
         "parental level of education": "some high school",
         "lunch": "free/reduced",
         "test preparation course": "none",
         "math score": 3.28,
         "reading score": 3.94,
         "writing score": 3.7,
         "GPA": 3.64,
         "_deepnote_index_column": 218
        },
        {
         "names": "Michael Reel",
         "gender": "male",
         "race/ethnicity": "group D",
         "parental level of education": "high school",
         "lunch": "standard",
         "test preparation course": "none",
         "math score": 3.7,
         "reading score": 3.88,
         "writing score": 3.76,
         "GPA": 3.78,
         "_deepnote_index_column": 237
        },
        {
         "names": "Gary Spencer",
         "gender": "male",
         "race/ethnicity": "group B",
         "parental level of education": "some high school",
         "lunch": "standard",
         "test preparation course": "completed",
         "math score": 4.06,
         "reading score": 4.24,
         "writing score": 3.46,
         "GPA": 3.9200000000000004,
         "_deepnote_index_column": 244
        },
        {
         "names": "Michael Mederos",
         "gender": "male",
         "race/ethnicity": "group C",
         "parental level of education": "high school",
         "lunch": "standard",
         "test preparation course": "none",
         "math score": 4,
         "reading score": 3.88,
         "writing score": 3.52,
         "GPA": 3.8000000000000003,
         "_deepnote_index_column": 248
        },
        {
         "names": "Callie Mork",
         "gender": "female",
         "race/ethnicity": "group C",
         "parental level of education": "bachelor's degree",
         "lunch": "free/reduced",
         "test preparation course": "completed",
         "math score": 3.58,
         "reading score": 4.06,
         "writing score": 4.24,
         "GPA": 3.9599999999999995,
         "_deepnote_index_column": 259
        },
        {
         "names": "William Saska",
         "gender": "male",
         "race/ethnicity": "group B",
         "parental level of education": "associate's degree",
         "lunch": "standard",
         "test preparation course": "none",
         "math score": 4.66,
         "reading score": 3.52,
         "writing score": 3.46,
         "GPA": 3.8800000000000003,
         "_deepnote_index_column": 304
        },
        {
         "names": "Gerald Brunner",
         "gender": "male",
         "race/ethnicity": "group D",
         "parental level of education": "high school",
         "lunch": "standard",
         "test preparation course": "none",
         "math score": 3.76,
         "reading score": 3.04,
         "writing score": 3.16,
         "GPA": 3.3200000000000003,
         "_deepnote_index_column": 311
        },
        {
         "names": "Barbara Henriques",
         "gender": "female",
         "race/ethnicity": "group C",
         "parental level of education": "some college",
         "lunch": "free/reduced",
         "test preparation course": "none",
         "math score": 2.32,
         "reading score": 3.34,
         "writing score": 2.98,
         "GPA": 2.8800000000000003,
         "_deepnote_index_column": 312
        },
        {
         "names": "John Moreno",
         "gender": "male",
         "race/ethnicity": "group B",
         "parental level of education": "some high school",
         "lunch": "free/reduced",
         "test preparation course": "none",
         "math score": 3.88,
         "reading score": 4.12,
         "writing score": 3.7,
         "GPA": 3.9,
         "_deepnote_index_column": 314
        },
        {
         "names": "Kermit Gates",
         "gender": "male",
         "race/ethnicity": "group B",
         "parental level of education": "associate's degree",
         "lunch": "standard",
         "test preparation course": "none",
         "math score": 3.88,
         "reading score": 3.58,
         "writing score": 3.7,
         "GPA": 3.72,
         "_deepnote_index_column": 349
        },
        {
         "names": "Paula Barriere",
         "gender": "female",
         "race/ethnicity": "group D",
         "parental level of education": "bachelor's degree",
         "lunch": "free/reduced",
         "test preparation course": "none",
         "math score": 2.74,
         "reading score": 3.46,
         "writing score": 3.82,
         "GPA": 3.34,
         "_deepnote_index_column": 357
        },
        {
         "names": "Marina Smith",
         "gender": "female",
         "race/ethnicity": "group D",
         "parental level of education": "associate's degree",
         "lunch": "free/reduced",
         "test preparation course": "none",
         "math score": 2.56,
         "reading score": 2.86,
         "writing score": 3.28,
         "GPA": 2.9,
         "_deepnote_index_column": 358
        },
        {
         "names": "John Gunter",
         "gender": "male",
         "race/ethnicity": "group A",
         "parental level of education": "some college",
         "lunch": "free/reduced",
         "test preparation course": "none",
         "math score": 2.68,
         "reading score": 2.38,
         "writing score": 2.14,
         "GPA": 2.4000000000000004,
         "_deepnote_index_column": 372
        },
        {
         "names": "Sara Ray",
         "gender": "female",
         "race/ethnicity": "group C",
         "parental level of education": "high school",
         "lunch": "free/reduced",
         "test preparation course": "none",
         "math score": 3.1,
         "reading score": 4.18,
         "writing score": 3.76,
         "GPA": 3.6799999999999997,
         "_deepnote_index_column": 379
        },
        {
         "names": "Flossie Streeter",
         "gender": "female",
         "race/ethnicity": "group C",
         "parental level of education": "some high school",
         "lunch": "free/reduced",
         "test preparation course": "completed",
         "math score": 2.74,
         "reading score": 3.4,
         "writing score": 3.64,
         "GPA": 3.2600000000000002,
         "_deepnote_index_column": 412
        },
        {
         "names": "Charles Ayala",
         "gender": "male",
         "race/ethnicity": "group C",
         "parental level of education": "some college",
         "lunch": "standard",
         "test preparation course": "none",
         "math score": 4.18,
         "reading score": 3.64,
         "writing score": 3.52,
         "GPA": 3.78,
         "_deepnote_index_column": 517
        },
        {
         "names": "Anthony Hinerman",
         "gender": "male",
         "race/ethnicity": "group C",
         "parental level of education": "some high school",
         "lunch": "standard",
         "test preparation course": "none",
         "math score": 3.94,
         "reading score": 3.94,
         "writing score": 3.46,
         "GPA": 3.78,
         "_deepnote_index_column": 524
        },
        {
         "names": "Doyle Johnson",
         "gender": "male",
         "race/ethnicity": "group A",
         "parental level of education": "high school",
         "lunch": "standard",
         "test preparation course": "none",
         "math score": 4.42,
         "reading score": 3.58,
         "writing score": 3.82,
         "GPA": 3.94,
         "_deepnote_index_column": 531
        },
        {
         "names": "Evan Smith",
         "gender": "male",
         "race/ethnicity": "group E",
         "parental level of education": "associate's degree",
         "lunch": "free/reduced",
         "test preparation course": "none",
         "math score": 3.76,
         "reading score": 3.58,
         "writing score": 3.46,
         "GPA": 3.6,
         "_deepnote_index_column": 532
        },
        {
         "names": "Joseph Jaco",
         "gender": "male",
         "race/ethnicity": "group B",
         "parental level of education": "some college",
         "lunch": "free/reduced",
         "test preparation course": "none",
         "math score": 3.4,
         "reading score": 3.58,
         "writing score": 3.34,
         "GPA": 3.44,
         "_deepnote_index_column": 537
        },
        {
         "names": "Charles Jackson",
         "gender": "male",
         "race/ethnicity": "group E",
         "parental level of education": "some high school",
         "lunch": "standard",
         "test preparation course": "none",
         "math score": 2.8,
         "reading score": 2.56,
         "writing score": 2.32,
         "GPA": 2.56,
         "_deepnote_index_column": 562
        },
        {
         "names": "Matthew Freeman",
         "gender": "male",
         "race/ethnicity": "group B",
         "parental level of education": "high school",
         "lunch": "standard",
         "test preparation course": "completed",
         "math score": 4.12,
         "reading score": 3.94,
         "writing score": 3.76,
         "GPA": 3.94,
         "_deepnote_index_column": 637
        },
        {
         "names": "Dana Mojica",
         "gender": "female",
         "race/ethnicity": "group D",
         "parental level of education": "high school",
         "lunch": "free/reduced",
         "test preparation course": "none",
         "math score": 3.34,
         "reading score": 4.12,
         "writing score": 3.76,
         "GPA": 3.7399999999999998,
         "_deepnote_index_column": 640
        },
        {
         "names": "Lauren Warren",
         "gender": "female",
         "race/ethnicity": "group C",
         "parental level of education": "some high school",
         "lunch": "free/reduced",
         "test preparation course": "none",
         "math score": 3.64,
         "reading score": 4,
         "writing score": 4.06,
         "GPA": 3.9,
         "_deepnote_index_column": 643
        },
        {
         "names": "Luetta Caponigro",
         "gender": "female",
         "race/ethnicity": "group B",
         "parental level of education": "high school",
         "lunch": "free/reduced",
         "test preparation course": "none",
         "math score": 1.48,
         "reading score": 2.44,
         "writing score": 2.38,
         "GPA": 2.1,
         "_deepnote_index_column": 679
        },
        {
         "names": "Antonio Pelaez",
         "gender": "male",
         "race/ethnicity": "group C",
         "parental level of education": "associate's degree",
         "lunch": "standard",
         "test preparation course": "none",
         "math score": 3.94,
         "reading score": 4.06,
         "writing score": 3.58,
         "GPA": 3.86,
         "_deepnote_index_column": 689
        },
        {
         "names": "Emily Devins",
         "gender": "female",
         "race/ethnicity": "group B",
         "parental level of education": "associate's degree",
         "lunch": "standard",
         "test preparation course": "none",
         "math score": 3.82,
         "reading score": 3.94,
         "writing score": 4,
         "GPA": 3.92,
         "_deepnote_index_column": 704
        },
        {
         "names": "Harvey Pribbenow",
         "gender": "male",
         "race/ethnicity": "group D",
         "parental level of education": "bachelor's degree",
         "lunch": "free/reduced",
         "test preparation course": "none",
         "math score": 4.3,
         "reading score": 3.76,
         "writing score": 3.64,
         "GPA": 3.9,
         "_deepnote_index_column": 707
        },
        {
         "names": "Joseph Rains",
         "gender": "male",
         "race/ethnicity": "group A",
         "parental level of education": "high school",
         "lunch": "free/reduced",
         "test preparation course": "none",
         "math score": 3.88,
         "reading score": 3.7,
         "writing score": 3.46,
         "GPA": 3.6799999999999997,
         "_deepnote_index_column": 716
        },
        {
         "names": "Charles Vaughan",
         "gender": "male",
         "race/ethnicity": "group A",
         "parental level of education": "some high school",
         "lunch": "free/reduced",
         "test preparation course": "none",
         "math score": 4.3,
         "reading score": 3.76,
         "writing score": 3.58,
         "GPA": 3.8799999999999994,
         "_deepnote_index_column": 720
        },
        {
         "names": "Walter Simmons",
         "gender": "male",
         "race/ethnicity": "group C",
         "parental level of education": "bachelor's degree",
         "lunch": "free/reduced",
         "test preparation course": "none",
         "math score": 3.22,
         "reading score": 4.36,
         "writing score": 3.82,
         "GPA": 3.8000000000000003,
         "_deepnote_index_column": 724
        },
        {
         "names": "Larry Matthews",
         "gender": "male",
         "race/ethnicity": "group B",
         "parental level of education": "associate's degree",
         "lunch": "free/reduced",
         "test preparation course": "none",
         "math score": 3.64,
         "reading score": 3.46,
         "writing score": 3.28,
         "GPA": 3.4599999999999995,
         "_deepnote_index_column": 735
        },
        {
         "names": "Olga Hatcher",
         "gender": "female",
         "race/ethnicity": "group A",
         "parental level of education": "associate's degree",
         "lunch": "free/reduced",
         "test preparation course": "none",
         "math score": 3.46,
         "reading score": 4.06,
         "writing score": 3.88,
         "GPA": 3.7999999999999994,
         "_deepnote_index_column": 751
        },
        {
         "names": "Jean Stamdifer",
         "gender": "male",
         "race/ethnicity": "group D",
         "parental level of education": "some high school",
         "lunch": "free/reduced",
         "test preparation course": "none",
         "math score": 3.7,
         "reading score": 3.22,
         "writing score": 3.22,
         "GPA": 3.3800000000000003,
         "_deepnote_index_column": 773
        },
        {
         "names": "Lamar Becker",
         "gender": "male",
         "race/ethnicity": "group D",
         "parental level of education": "associate's degree",
         "lunch": "standard",
         "test preparation course": "none",
         "math score": 3.4,
         "reading score": 4.12,
         "writing score": 3.58,
         "GPA": 3.6999999999999997,
         "_deepnote_index_column": 792
        },
        {
         "names": "Gerald Gramham",
         "gender": "male",
         "race/ethnicity": "group A",
         "parental level of education": "some high school",
         "lunch": "standard",
         "test preparation course": "none",
         "math score": 4.06,
         "reading score": 2.86,
         "writing score": 3.16,
         "GPA": 3.36,
         "_deepnote_index_column": 795
        },
        {
         "names": "Mack Gilliland",
         "gender": "male",
         "race/ethnicity": "group D",
         "parental level of education": "high school",
         "lunch": "standard",
         "test preparation course": "none",
         "math score": 4.18,
         "reading score": 4.12,
         "writing score": 3.52,
         "GPA": 3.94,
         "_deepnote_index_column": 801
        },
        {
         "names": "Arlene Seymour",
         "gender": "female",
         "race/ethnicity": "group B",
         "parental level of education": "high school",
         "lunch": "standard",
         "test preparation course": "none",
         "math score": 3.52,
         "reading score": 4.12,
         "writing score": 4.06,
         "GPA": 3.9,
         "_deepnote_index_column": 807
        },
        {
         "names": "Arthur Daschofsky",
         "gender": "male",
         "race/ethnicity": "group A",
         "parental level of education": "some high school",
         "lunch": "free/reduced",
         "test preparation course": "none",
         "math score": 3.34,
         "reading score": 3.34,
         "writing score": 3.04,
         "GPA": 3.2399999999999998,
         "_deepnote_index_column": 809
        },
        {
         "names": "Justin Harris",
         "gender": "male",
         "race/ethnicity": "group D",
         "parental level of education": "some college",
         "lunch": "standard",
         "test preparation course": "none",
         "math score": 3.4,
         "reading score": 3.52,
         "writing score": 3.28,
         "GPA": 3.4,
         "_deepnote_index_column": 816
        },
        {
         "names": "Russel Broussard",
         "gender": "male",
         "race/ethnicity": "group C",
         "parental level of education": "associate's degree",
         "lunch": "free/reduced",
         "test preparation course": "completed",
         "math score": 3.58,
         "reading score": 3.7,
         "writing score": 4,
         "GPA": 3.7600000000000002,
         "_deepnote_index_column": 824
        },
        {
         "names": "Jerome Lopze",
         "gender": "male",
         "race/ethnicity": "group E",
         "parental level of education": "associate's degree",
         "lunch": "free/reduced",
         "test preparation course": "completed",
         "math score": 3.76,
         "reading score": 3.58,
         "writing score": 3.64,
         "GPA": 3.66,
         "_deepnote_index_column": 874
        },
        {
         "names": "Shannon Weaver",
         "gender": "male",
         "race/ethnicity": "group D",
         "parental level of education": "bachelor's degree",
         "lunch": "free/reduced",
         "test preparation course": "none",
         "math score": 4,
         "reading score": 3.52,
         "writing score": 3.88,
         "GPA": 3.7999999999999994,
         "_deepnote_index_column": 880
        },
        {
         "names": "Mark Spicer",
         "gender": "male",
         "race/ethnicity": "group E",
         "parental level of education": "associate's degree",
         "lunch": "standard",
         "test preparation course": "none",
         "math score": 4.18,
         "reading score": 3.7,
         "writing score": 3.4,
         "GPA": 3.76,
         "_deepnote_index_column": 897
        },
        {
         "names": "Rosa Clagon",
         "gender": "female",
         "race/ethnicity": "group A",
         "parental level of education": "some high school",
         "lunch": "free/reduced",
         "test preparation course": "none",
         "math score": 3.64,
         "reading score": 3.7,
         "writing score": 3.7,
         "GPA": 3.6799999999999997,
         "_deepnote_index_column": 954
        },
        {
         "names": "Eugene Jewett",
         "gender": "male",
         "race/ethnicity": "group C",
         "parental level of education": "high school",
         "lunch": "free/reduced",
         "test preparation course": "none",
         "math score": 2.62,
         "reading score": 3.04,
         "writing score": 3.16,
         "GPA": 2.94,
         "_deepnote_index_column": 960
        },
        {
         "names": "Emma Fussell",
         "gender": "female",
         "race/ethnicity": "group A",
         "parental level of education": "some high school",
         "lunch": "free/reduced",
         "test preparation course": "none",
         "math score": 3.28,
         "reading score": 3.58,
         "writing score": 3.58,
         "GPA": 3.48,
         "_deepnote_index_column": 963
        },
        {
         "names": "Christina Cullins",
         "gender": "female",
         "race/ethnicity": "group C",
         "parental level of education": "some college",
         "lunch": "free/reduced",
         "test preparation course": "none",
         "math score": 3.1,
         "reading score": 3.64,
         "writing score": 3.58,
         "GPA": 3.44,
         "_deepnote_index_column": 968
        },
        {
         "names": "Jorge Apana",
         "gender": "male",
         "race/ethnicity": "group A",
         "parental level of education": "some high school",
         "lunch": "standard",
         "test preparation course": "completed",
         "math score": 3.76,
         "reading score": 3.46,
         "writing score": 3.58,
         "GPA": 3.6,
         "_deepnote_index_column": 974
        },
        {
         "names": "Arthur Johnson",
         "gender": "male",
         "race/ethnicity": "group C",
         "parental level of education": "associate's degree",
         "lunch": "standard",
         "test preparation course": "none",
         "math score": 3.82,
         "reading score": 3.22,
         "writing score": 3.1,
         "GPA": 3.3800000000000003,
         "_deepnote_index_column": 980
        },
        {
         "names": "Jonathan Moser",
         "gender": "male",
         "race/ethnicity": "group B",
         "parental level of education": "high school",
         "lunch": "standard",
         "test preparation course": "none",
         "math score": 4.12,
         "reading score": 3.88,
         "writing score": 3.94,
         "GPA": 3.98,
         "_deepnote_index_column": 984
        },
        {
         "names": "Michael Gore",
         "gender": "male",
         "race/ethnicity": "group B",
         "parental level of education": "some college",
         "lunch": "free/reduced",
         "test preparation course": "none",
         "math score": 3.46,
         "reading score": 3.34,
         "writing score": 3.04,
         "GPA": 3.28,
         "_deepnote_index_column": 997
        },
        {
         "names": "Jonathan Calcote",
         "gender": "male",
         "race/ethnicity": "group D",
         "parental level of education": "some high school",
         "lunch": "free/reduced",
         "test preparation course": "none",
         "math score": 4.54,
         "reading score": 3.52,
         "writing score": 3.46,
         "GPA": 3.84,
         "_deepnote_index_column": 1018
        },
        {
         "names": "Michael Mcdonnell",
         "gender": "male",
         "race/ethnicity": "group D",
         "parental level of education": "some high school",
         "lunch": "standard",
         "test preparation course": "none",
         "math score": 4.3,
         "reading score": 3.82,
         "writing score": 3.64,
         "GPA": 3.92,
         "_deepnote_index_column": 1019
        },
        {
         "names": "Ronald Jett",
         "gender": "male",
         "race/ethnicity": "group D",
         "parental level of education": "high school",
         "lunch": "free/reduced",
         "test preparation course": "none",
         "math score": 3.52,
         "reading score": 3.34,
         "writing score": 3.04,
         "GPA": 3.2999999999999994,
         "_deepnote_index_column": 1065
        },
        {
         "names": "Hazel Posey",
         "gender": "female",
         "race/ethnicity": "group B",
         "parental level of education": "some high school",
         "lunch": "free/reduced",
         "test preparation course": "none",
         "math score": 2.44,
         "reading score": 3.28,
         "writing score": 2.62,
         "GPA": 2.78,
         "_deepnote_index_column": 1068
        },
        {
         "names": "Eric Baldwin",
         "gender": "male",
         "race/ethnicity": "group A",
         "parental level of education": "high school",
         "lunch": "free/reduced",
         "test preparation course": "none",
         "math score": 3.7,
         "reading score": 3.82,
         "writing score": 3.94,
         "GPA": 3.82,
         "_deepnote_index_column": 1076
        },
        {
         "names": "Rosalia Arrants",
         "gender": "female",
         "race/ethnicity": "group E",
         "parental level of education": "some high school",
         "lunch": "free/reduced",
         "test preparation course": "none",
         "math score": 2.92,
         "reading score": 3.04,
         "writing score": 3.28,
         "GPA": 3.08,
         "_deepnote_index_column": 1113
        },
        {
         "names": "Richard Guercio",
         "gender": "male",
         "race/ethnicity": "group B",
         "parental level of education": "high school",
         "lunch": "free/reduced",
         "test preparation course": "none",
         "math score": 2.8,
         "reading score": 2.44,
         "writing score": 1.9,
         "GPA": 2.3800000000000003,
         "_deepnote_index_column": 1145
        },
        {
         "names": "Lorena Reed",
         "gender": "female",
         "race/ethnicity": "group C",
         "parental level of education": "high school",
         "lunch": "free/reduced",
         "test preparation course": "none",
         "math score": 3.16,
         "reading score": 4.18,
         "writing score": 3.58,
         "GPA": 3.64,
         "_deepnote_index_column": 1195
        },
        {
         "names": "Christopher Kilkenny",
         "gender": "male",
         "race/ethnicity": "group D",
         "parental level of education": "high school",
         "lunch": "standard",
         "test preparation course": "none",
         "math score": 3.46,
         "reading score": 4.12,
         "writing score": 4.06,
         "GPA": 3.8800000000000003,
         "_deepnote_index_column": 1196
        },
        {
         "names": "Larry Braun",
         "gender": "male",
         "race/ethnicity": "group C",
         "parental level of education": "some high school",
         "lunch": "free/reduced",
         "test preparation course": "completed",
         "math score": 4.18,
         "reading score": 3.22,
         "writing score": 3.4,
         "GPA": 3.6,
         "_deepnote_index_column": 1230
        },
        {
         "names": "Bertha Nelson",
         "gender": "female",
         "race/ethnicity": "group B",
         "parental level of education": "some high school",
         "lunch": "standard",
         "test preparation course": "none",
         "math score": 3.46,
         "reading score": 4.3,
         "writing score": 4.06,
         "GPA": 3.94,
         "_deepnote_index_column": 1250
        },
        {
         "names": "Sonia Brent",
         "gender": "female",
         "race/ethnicity": "group B",
         "parental level of education": "some high school",
         "lunch": "free/reduced",
         "test preparation course": "none",
         "math score": 2.08,
         "reading score": 2.92,
         "writing score": 2.68,
         "GPA": 2.56,
         "_deepnote_index_column": 1256
        },
        {
         "names": "Dustin Henry",
         "gender": "male",
         "race/ethnicity": "group C",
         "parental level of education": "high school",
         "lunch": "free/reduced",
         "test preparation course": "completed",
         "math score": 3.4,
         "reading score": 3.76,
         "writing score": 4,
         "GPA": 3.72,
         "_deepnote_index_column": 1311
        },
        {
         "names": "Martin Wilson",
         "gender": "male",
         "race/ethnicity": "group D",
         "parental level of education": "high school",
         "lunch": "standard",
         "test preparation course": "completed",
         "math score": 4.3,
         "reading score": 3.46,
         "writing score": 3.88,
         "GPA": 3.8800000000000003,
         "_deepnote_index_column": 1327
        },
        {
         "names": "Melissa Johnston",
         "gender": "female",
         "race/ethnicity": "group C",
         "parental level of education": "some high school",
         "lunch": "free/reduced",
         "test preparation course": "none",
         "math score": 1,
         "reading score": 2.02,
         "writing score": 1.6,
         "GPA": 1.54,
         "_deepnote_index_column": 1344
        },
        {
         "names": "Stanley Chappell",
         "gender": "male",
         "race/ethnicity": "group A",
         "parental level of education": "associate's degree",
         "lunch": "free/reduced",
         "test preparation course": "none",
         "math score": 3.82,
         "reading score": 4.42,
         "writing score": 3.64,
         "GPA": 3.9600000000000004,
         "_deepnote_index_column": 1354
        },
        {
         "names": "Charles Harian",
         "gender": "male",
         "race/ethnicity": "group C",
         "parental level of education": "some high school",
         "lunch": "free/reduced",
         "test preparation course": "completed",
         "math score": 3.7,
         "reading score": 4.12,
         "writing score": 3.94,
         "GPA": 3.92,
         "_deepnote_index_column": 1371
        },
        {
         "names": "Wendy Gunnell",
         "gender": "female",
         "race/ethnicity": "group D",
         "parental level of education": "some high school",
         "lunch": "free/reduced",
         "test preparation course": "none",
         "math score": 2.62,
         "reading score": 3.04,
         "writing score": 2.92,
         "GPA": 2.86,
         "_deepnote_index_column": 1373
        },
        {
         "names": "Diana Costa",
         "gender": "female",
         "race/ethnicity": "group C",
         "parental level of education": "high school",
         "lunch": "free/reduced",
         "test preparation course": "none",
         "math score": 3.46,
         "reading score": 3.76,
         "writing score": 3.58,
         "GPA": 3.6,
         "_deepnote_index_column": 1389
        },
        {
         "names": "Amy Sieving",
         "gender": "female",
         "race/ethnicity": "group C",
         "parental level of education": "high school",
         "lunch": "standard",
         "test preparation course": "none",
         "math score": 2.74,
         "reading score": 2.74,
         "writing score": 2.8,
         "GPA": 2.7600000000000002,
         "_deepnote_index_column": 1391
        },
        {
         "names": "Wanda Russell",
         "gender": "female",
         "race/ethnicity": "group B",
         "parental level of education": "high school",
         "lunch": "free/reduced",
         "test preparation course": "completed",
         "math score": 2.38,
         "reading score": 3.64,
         "writing score": 3.16,
         "GPA": 3.06,
         "_deepnote_index_column": 1394
        }
       ],
       "rows_bottom": null
      },
      "text/plain": "                names  gender race/ethnicity parental level of education  \\\n0       Rita Courtney  female        group B            some high school   \n13        Mikki Amaya  female        group A                 high school   \n26      Samuel Dougal    male        group C             master's degree   \n55    Rodger Talavera    male        group B                 high school   \n63     Morris Johnson    male        group A          associate's degree   \n...               ...     ...            ...                         ...   \n1371   Charles Harian    male        group C            some high school   \n1373    Wendy Gunnell  female        group D            some high school   \n1389      Diana Costa  female        group C                 high school   \n1391      Amy Sieving  female        group C                 high school   \n1394    Wanda Russell  female        group B                 high school   \n\n             lunch test preparation course  math score  reading score  \\\n0         standard                    none        3.22           3.76   \n13    free/reduced               completed        3.04           3.88   \n26    free/reduced               completed        3.76           3.52   \n55    free/reduced                    none        3.16           2.74   \n63    free/reduced               completed        3.40           4.30   \n...            ...                     ...         ...            ...   \n1371  free/reduced               completed        3.70           4.12   \n1373  free/reduced                    none        2.62           3.04   \n1389  free/reduced                    none        3.46           3.76   \n1391      standard                    none        2.74           2.74   \n1394  free/reduced               completed        2.38           3.64   \n\n      writing score   GPA  \n0              3.76  3.58  \n13             3.46  3.46  \n26             3.76  3.68  \n55             2.62  2.84  \n63             4.18  3.96  \n...             ...   ...  \n1371           3.94  3.92  \n1373           2.92  2.86  \n1389           3.58  3.60  \n1391           2.80  2.76  \n1394           3.16  3.06  \n\n[86 rows x 10 columns]",
      "text/html": "<div>\n<style scoped>\n    .dataframe tbody tr th:only-of-type {\n        vertical-align: middle;\n    }\n\n    .dataframe tbody tr th {\n        vertical-align: top;\n    }\n\n    .dataframe thead th {\n        text-align: right;\n    }\n</style>\n<table border=\"1\" class=\"dataframe\">\n  <thead>\n    <tr style=\"text-align: right;\">\n      <th></th>\n      <th>names</th>\n      <th>gender</th>\n      <th>race/ethnicity</th>\n      <th>parental level of education</th>\n      <th>lunch</th>\n      <th>test preparation course</th>\n      <th>math score</th>\n      <th>reading score</th>\n      <th>writing score</th>\n      <th>GPA</th>\n    </tr>\n  </thead>\n  <tbody>\n    <tr>\n      <th>0</th>\n      <td>Rita Courtney</td>\n      <td>female</td>\n      <td>group B</td>\n      <td>some high school</td>\n      <td>standard</td>\n      <td>none</td>\n      <td>3.22</td>\n      <td>3.76</td>\n      <td>3.76</td>\n      <td>3.58</td>\n    </tr>\n    <tr>\n      <th>13</th>\n      <td>Mikki Amaya</td>\n      <td>female</td>\n      <td>group A</td>\n      <td>high school</td>\n      <td>free/reduced</td>\n      <td>completed</td>\n      <td>3.04</td>\n      <td>3.88</td>\n      <td>3.46</td>\n      <td>3.46</td>\n    </tr>\n    <tr>\n      <th>26</th>\n      <td>Samuel Dougal</td>\n      <td>male</td>\n      <td>group C</td>\n      <td>master's degree</td>\n      <td>free/reduced</td>\n      <td>completed</td>\n      <td>3.76</td>\n      <td>3.52</td>\n      <td>3.76</td>\n      <td>3.68</td>\n    </tr>\n    <tr>\n      <th>55</th>\n      <td>Rodger Talavera</td>\n      <td>male</td>\n      <td>group B</td>\n      <td>high school</td>\n      <td>free/reduced</td>\n      <td>none</td>\n      <td>3.16</td>\n      <td>2.74</td>\n      <td>2.62</td>\n      <td>2.84</td>\n    </tr>\n    <tr>\n      <th>63</th>\n      <td>Morris Johnson</td>\n      <td>male</td>\n      <td>group A</td>\n      <td>associate's degree</td>\n      <td>free/reduced</td>\n      <td>completed</td>\n      <td>3.40</td>\n      <td>4.30</td>\n      <td>4.18</td>\n      <td>3.96</td>\n    </tr>\n    <tr>\n      <th>...</th>\n      <td>...</td>\n      <td>...</td>\n      <td>...</td>\n      <td>...</td>\n      <td>...</td>\n      <td>...</td>\n      <td>...</td>\n      <td>...</td>\n      <td>...</td>\n      <td>...</td>\n    </tr>\n    <tr>\n      <th>1371</th>\n      <td>Charles Harian</td>\n      <td>male</td>\n      <td>group C</td>\n      <td>some high school</td>\n      <td>free/reduced</td>\n      <td>completed</td>\n      <td>3.70</td>\n      <td>4.12</td>\n      <td>3.94</td>\n      <td>3.92</td>\n    </tr>\n    <tr>\n      <th>1373</th>\n      <td>Wendy Gunnell</td>\n      <td>female</td>\n      <td>group D</td>\n      <td>some high school</td>\n      <td>free/reduced</td>\n      <td>none</td>\n      <td>2.62</td>\n      <td>3.04</td>\n      <td>2.92</td>\n      <td>2.86</td>\n    </tr>\n    <tr>\n      <th>1389</th>\n      <td>Diana Costa</td>\n      <td>female</td>\n      <td>group C</td>\n      <td>high school</td>\n      <td>free/reduced</td>\n      <td>none</td>\n      <td>3.46</td>\n      <td>3.76</td>\n      <td>3.58</td>\n      <td>3.60</td>\n    </tr>\n    <tr>\n      <th>1391</th>\n      <td>Amy Sieving</td>\n      <td>female</td>\n      <td>group C</td>\n      <td>high school</td>\n      <td>standard</td>\n      <td>none</td>\n      <td>2.74</td>\n      <td>2.74</td>\n      <td>2.80</td>\n      <td>2.76</td>\n    </tr>\n    <tr>\n      <th>1394</th>\n      <td>Wanda Russell</td>\n      <td>female</td>\n      <td>group B</td>\n      <td>high school</td>\n      <td>free/reduced</td>\n      <td>completed</td>\n      <td>2.38</td>\n      <td>3.64</td>\n      <td>3.16</td>\n      <td>3.06</td>\n    </tr>\n  </tbody>\n</table>\n<p>86 rows × 10 columns</p>\n</div>"
     },
     "metadata": {}
    }
   ]
  },
  {
   "cell_type": "code",
   "metadata": {
    "colab": {
     "base_uri": "https://localhost:8080/",
     "height": 419
    },
    "id": "tpG_2VzNEpf7",
    "executionInfo": {
     "status": "ok",
     "timestamp": 1619192503533,
     "user_tz": 240,
     "elapsed": 492,
     "user": {
      "displayName": "IGNACIO ALEJANDRO MEZA",
      "photoUrl": "",
      "userId": "17011121633069169364"
     }
    },
    "outputId": "08aaa113-1055-4075-a0f5-5b8f1a1b9b1f",
    "deepnote_to_be_reexecuted": false,
    "source_hash": "6205a86b",
    "execution_start": 1633016527036,
    "execution_millis": 263,
    "cell_id": "00049-8240c0ec-b1ea-41d3-8b5e-4970d3ef59dc",
    "deepnote_cell_type": "code"
   },
   "source": "dataframe2",
   "execution_count": null,
   "outputs": [
    {
     "output_type": "execute_result",
     "execution_count": 17,
     "data": {
      "application/vnd.deepnote.dataframe.v2+json": {
       "row_count": 875,
       "column_count": 10,
       "columns": [
        {
         "name": "names",
         "dtype": "object",
         "stats": {
          "unique_count": 875,
          "nan_count": 0,
          "categories": [
           {
            "name": "Rita Courtney",
            "count": 1
           },
           {
            "name": "Charles Linstrom",
            "count": 1
           },
           {
            "name": "873 others",
            "count": 873
           }
          ]
         }
        },
        {
         "name": "gender",
         "dtype": "object",
         "stats": {
          "unique_count": 2,
          "nan_count": 0,
          "categories": [
           {
            "name": "female",
            "count": 448
           },
           {
            "name": "male",
            "count": 427
           }
          ]
         }
        },
        {
         "name": "race/ethnicity",
         "dtype": "object",
         "stats": {
          "unique_count": 5,
          "nan_count": 0,
          "categories": [
           {
            "name": "group C",
            "count": 272
           },
           {
            "name": "group D",
            "count": 239
           },
           {
            "name": "3 others",
            "count": 364
           }
          ]
         }
        },
        {
         "name": "parental level of education",
         "dtype": "object",
         "stats": {
          "unique_count": 6,
          "nan_count": 0,
          "categories": [
           {
            "name": "associate's degree",
            "count": 196
           },
           {
            "name": "some college",
            "count": 191
           },
           {
            "name": "4 others",
            "count": 488
           }
          ]
         }
        },
        {
         "name": "lunch",
         "dtype": "object",
         "stats": {
          "unique_count": 2,
          "nan_count": 0,
          "categories": [
           {
            "name": "standard",
            "count": 562
           },
           {
            "name": "free/reduced",
            "count": 313
           }
          ]
         }
        },
        {
         "name": "test preparation course",
         "dtype": "object",
         "stats": {
          "unique_count": 2,
          "nan_count": 0,
          "categories": [
           {
            "name": "none",
            "count": 563
           },
           {
            "name": "completed",
            "count": 312
           }
          ]
         }
        },
        {
         "name": "math score",
         "dtype": "float64",
         "stats": {
          "unique_count": 79,
          "nan_count": 0,
          "min": "1.0",
          "max": "7.0",
          "histogram": [
           {
            "bin_start": 1,
            "bin_end": 1.6,
            "count": 2
           },
           {
            "bin_start": 1.6,
            "bin_end": 2.2,
            "count": 2
           },
           {
            "bin_start": 2.2,
            "bin_end": 2.8,
            "count": 10
           },
           {
            "bin_start": 2.8,
            "bin_end": 3.4,
            "count": 19
           },
           {
            "bin_start": 3.4,
            "bin_end": 4,
            "count": 81
           },
           {
            "bin_start": 4,
            "bin_end": 4.6,
            "count": 158
           },
           {
            "bin_start": 4.6,
            "bin_end": 5.2,
            "count": 245
           },
           {
            "bin_start": 5.2,
            "bin_end": 5.8,
            "count": 191
           },
           {
            "bin_start": 5.8,
            "bin_end": 6.3999999999999995,
            "count": 116
           },
           {
            "bin_start": 6.3999999999999995,
            "bin_end": 7,
            "count": 51
           }
          ]
         }
        },
        {
         "name": "reading score",
         "dtype": "float64",
         "stats": {
          "unique_count": 72,
          "nan_count": 0,
          "min": "2.02",
          "max": "7.0",
          "histogram": [
           {
            "bin_start": 2.02,
            "bin_end": 2.5180000000000002,
            "count": 4
           },
           {
            "bin_start": 2.5180000000000002,
            "bin_end": 3.016,
            "count": 7
           },
           {
            "bin_start": 3.016,
            "bin_end": 3.5140000000000002,
            "count": 19
           },
           {
            "bin_start": 3.5140000000000002,
            "bin_end": 4.0120000000000005,
            "count": 53
           },
           {
            "bin_start": 4.0120000000000005,
            "bin_end": 4.51,
            "count": 124
           },
           {
            "bin_start": 4.51,
            "bin_end": 5.008000000000001,
            "count": 157
           },
           {
            "bin_start": 5.008000000000001,
            "bin_end": 5.506,
            "count": 212
           },
           {
            "bin_start": 5.506,
            "bin_end": 6.0040000000000004,
            "count": 147
           },
           {
            "bin_start": 6.0040000000000004,
            "bin_end": 6.502000000000001,
            "count": 101
           },
           {
            "bin_start": 6.502000000000001,
            "bin_end": 7,
            "count": 51
           }
          ]
         }
        },
        {
         "name": "writing score",
         "dtype": "float64",
         "stats": {
          "unique_count": 77,
          "nan_count": 0,
          "min": "1.6",
          "max": "7.0",
          "histogram": [
           {
            "bin_start": 1.6,
            "bin_end": 2.14,
            "count": 2
           },
           {
            "bin_start": 2.14,
            "bin_end": 2.68,
            "count": 6
           },
           {
            "bin_start": 2.68,
            "bin_end": 3.22,
            "count": 13
           },
           {
            "bin_start": 3.22,
            "bin_end": 3.7600000000000002,
            "count": 52
           },
           {
            "bin_start": 3.7600000000000002,
            "bin_end": 4.300000000000001,
            "count": 115
           },
           {
            "bin_start": 4.300000000000001,
            "bin_end": 4.84,
            "count": 129
           },
           {
            "bin_start": 4.84,
            "bin_end": 5.380000000000001,
            "count": 218
           },
           {
            "bin_start": 5.380000000000001,
            "bin_end": 5.92,
            "count": 174
           },
           {
            "bin_start": 5.92,
            "bin_end": 6.460000000000001,
            "count": 116
           },
           {
            "bin_start": 6.460000000000001,
            "bin_end": 7,
            "count": 50
           }
          ]
         }
        },
        {
         "name": "GPA",
         "dtype": "object",
         "stats": {
          "unique_count": 213,
          "nan_count": 0,
          "categories": [
           {
            "name": "R",
            "count": 86
           },
           {
            "name": "5.38",
            "count": 12
           },
           {
            "name": "211 others",
            "count": 777
           }
          ]
         }
        },
        {
         "name": "_deepnote_index_column",
         "dtype": "int64"
        }
       ],
       "rows_top": [
        {
         "names": "Rita Courtney",
         "gender": "female",
         "race/ethnicity": "group B",
         "parental level of education": "some high school",
         "lunch": "standard",
         "test preparation course": "none",
         "math score": 3.22,
         "reading score": 3.76,
         "writing score": 3.76,
         "GPA": "R",
         "_deepnote_index_column": 0
        },
        {
         "names": "Charles Linstrom",
         "gender": "male",
         "race/ethnicity": "group A",
         "parental level of education": "bachelor's degree",
         "lunch": "standard",
         "test preparation course": "completed",
         "math score": 5.8,
         "reading score": 5.68,
         "writing score": 5.86,
         "GPA": "5.78",
         "_deepnote_index_column": 3
        },
        {
         "names": "Brian Young",
         "gender": "male",
         "race/ethnicity": "group C",
         "parental level of education": "some high school",
         "lunch": "standard",
         "test preparation course": "none",
         "math score": 5.38,
         "reading score": 4.96,
         "writing score": 4.78,
         "GPA": "5.04",
         "_deepnote_index_column": 5
        },
        {
         "names": "Howard Jimenez",
         "gender": "male",
         "race/ethnicity": "group E",
         "parental level of education": "some high school",
         "lunch": "standard",
         "test preparation course": "completed",
         "math score": 5.86,
         "reading score": 5.5,
         "writing score": 5.56,
         "GPA": "5.64",
         "_deepnote_index_column": 6
        },
        {
         "names": "Wayne Wilson",
         "gender": "male",
         "race/ethnicity": "group B",
         "parental level of education": "some high school",
         "lunch": "standard",
         "test preparation course": "completed",
         "math score": 6.64,
         "reading score": 6.16,
         "writing score": 6.22,
         "GPA": "6.34",
         "_deepnote_index_column": 7
        },
        {
         "names": "Jonathan Clingan",
         "gender": "male",
         "race/ethnicity": "group D",
         "parental level of education": "some college",
         "lunch": "standard",
         "test preparation course": "completed",
         "math score": 5.26,
         "reading score": 4.66,
         "writing score": 5.14,
         "GPA": "5.02",
         "_deepnote_index_column": 8
        },
        {
         "names": "William Tang",
         "gender": "male",
         "race/ethnicity": "group D",
         "parental level of education": "associate's degree",
         "lunch": "standard",
         "test preparation course": "none",
         "math score": 5.5,
         "reading score": 5.08,
         "writing score": 4.84,
         "GPA": "5.14",
         "_deepnote_index_column": 9
        },
        {
         "names": "Mikki Amaya",
         "gender": "female",
         "race/ethnicity": "group A",
         "parental level of education": "high school",
         "lunch": "free/reduced",
         "test preparation course": "completed",
         "math score": 3.04,
         "reading score": 3.88,
         "writing score": 3.46,
         "GPA": "R",
         "_deepnote_index_column": 13
        },
        {
         "names": "Gerald Wilson",
         "gender": "male",
         "race/ethnicity": "group A",
         "parental level of education": "associate's degree",
         "lunch": "standard",
         "test preparation course": "none",
         "math score": 4.78,
         "reading score": 4.66,
         "writing score": 4.66,
         "GPA": "4.7",
         "_deepnote_index_column": 15
        },
        {
         "names": "Damon Mckee",
         "gender": "male",
         "race/ethnicity": "group E",
         "parental level of education": "high school",
         "lunch": "standard",
         "test preparation course": "none",
         "math score": 6.64,
         "reading score": 5.38,
         "writing score": 5.26,
         "GPA": "5.760000000000001",
         "_deepnote_index_column": 16
        },
        {
         "names": "Sophia Bijou",
         "gender": "female",
         "race/ethnicity": "group D",
         "parental level of education": "some high school",
         "lunch": "standard",
         "test preparation course": "completed",
         "math score": 4.9,
         "reading score": 5.68,
         "writing score": 5.92,
         "GPA": "5.5",
         "_deepnote_index_column": 17
        },
        {
         "names": "Monica Schwartz",
         "gender": "female",
         "race/ethnicity": "group B",
         "parental level of education": "associate's degree",
         "lunch": "free/reduced",
         "test preparation course": "none",
         "math score": 4.12,
         "reading score": 5.56,
         "writing score": 5.2,
         "GPA": "4.96",
         "_deepnote_index_column": 19
        },
        {
         "names": "Donald Upchurch",
         "gender": "male",
         "race/ethnicity": "group C",
         "parental level of education": "associate's degree",
         "lunch": "standard",
         "test preparation course": "none",
         "math score": 4.72,
         "reading score": 4.9,
         "writing score": 4.48,
         "GPA": "4.7",
         "_deepnote_index_column": 20
        },
        {
         "names": "Donald Dunnings",
         "gender": "male",
         "race/ethnicity": "group D",
         "parental level of education": "some high school",
         "lunch": "standard",
         "test preparation course": "none",
         "math score": 5.44,
         "reading score": 5.44,
         "writing score": 5.32,
         "GPA": "5.400000000000001",
         "_deepnote_index_column": 21
        },
        {
         "names": "Joseph Mccoy",
         "gender": "male",
         "race/ethnicity": "group D",
         "parental level of education": "some college",
         "lunch": "free/reduced",
         "test preparation course": "none",
         "math score": 4.72,
         "reading score": 4.42,
         "writing score": 4.72,
         "GPA": "4.62",
         "_deepnote_index_column": 24
        },
        {
         "names": "David Dupree",
         "gender": "male",
         "race/ethnicity": "group B",
         "parental level of education": "high school",
         "lunch": "standard",
         "test preparation course": "completed",
         "math score": 5.38,
         "reading score": 5.14,
         "writing score": 5.08,
         "GPA": "5.2",
         "_deepnote_index_column": 25
        },
        {
         "names": "Samuel Dougal",
         "gender": "male",
         "race/ethnicity": "group C",
         "parental level of education": "master's degree",
         "lunch": "free/reduced",
         "test preparation course": "completed",
         "math score": 3.76,
         "reading score": 3.52,
         "writing score": 3.76,
         "GPA": "R",
         "_deepnote_index_column": 26
        },
        {
         "names": "Richard Pina",
         "gender": "male",
         "race/ethnicity": "group D",
         "parental level of education": "master's degree",
         "lunch": "standard",
         "test preparation course": "none",
         "math score": 5.92,
         "reading score": 5.92,
         "writing score": 5.44,
         "GPA": "5.760000000000001",
         "_deepnote_index_column": 27
        },
        {
         "names": "Dale Sylvain",
         "gender": "male",
         "race/ethnicity": "group D",
         "parental level of education": "some college",
         "lunch": "free/reduced",
         "test preparation course": "none",
         "math score": 4.78,
         "reading score": 4.66,
         "writing score": 4.6,
         "GPA": "4.680000000000001",
         "_deepnote_index_column": 29
        },
        {
         "names": "Janine Taylor",
         "gender": "female",
         "race/ethnicity": "group C",
         "parental level of education": "associate's degree",
         "lunch": "free/reduced",
         "test preparation course": "none",
         "math score": 4.84,
         "reading score": 5.38,
         "writing score": 5.08,
         "GPA": "5.1",
         "_deepnote_index_column": 30
        },
        {
         "names": "Alexander Dillon",
         "gender": "male",
         "race/ethnicity": "group D",
         "parental level of education": "associate's degree",
         "lunch": "standard",
         "test preparation course": "none",
         "math score": 5.8,
         "reading score": 5.5,
         "writing score": 5.62,
         "GPA": "5.640000000000001",
         "_deepnote_index_column": 31
        },
        {
         "names": "Shanna Braswell",
         "gender": "female",
         "race/ethnicity": "group D",
         "parental level of education": "bachelor's degree",
         "lunch": "free/reduced",
         "test preparation course": "completed",
         "math score": 6.58,
         "reading score": 7,
         "writing score": 7,
         "GPA": "6.859999999999999",
         "_deepnote_index_column": 35
        },
        {
         "names": "Bonnie Ramos",
         "gender": "female",
         "race/ethnicity": "group B",
         "parental level of education": "high school",
         "lunch": "standard",
         "test preparation course": "completed",
         "math score": 5.14,
         "reading score": 5.56,
         "writing score": 5.44,
         "GPA": "5.38",
         "_deepnote_index_column": 36
        },
        {
         "names": "Connie Shinn",
         "gender": "female",
         "race/ethnicity": "group B",
         "parental level of education": "associate's degree",
         "lunch": "free/reduced",
         "test preparation course": "none",
         "math score": 3.76,
         "reading score": 4.66,
         "writing score": 4.3,
         "GPA": "4.239999999999999",
         "_deepnote_index_column": 37
        },
        {
         "names": "Daniel Cartwright",
         "gender": "male",
         "race/ethnicity": "group C",
         "parental level of education": "high school",
         "lunch": "standard",
         "test preparation course": "completed",
         "math score": 6.16,
         "reading score": 5.86,
         "writing score": 5.8,
         "GPA": "5.94",
         "_deepnote_index_column": 38
        },
        {
         "names": "Betty Buntin",
         "gender": "female",
         "race/ethnicity": "group A",
         "parental level of education": "bachelor's degree",
         "lunch": "standard",
         "test preparation course": "none",
         "math score": 4.54,
         "reading score": 5.32,
         "writing score": 5.2,
         "GPA": "5.02",
         "_deepnote_index_column": 39
        },
        {
         "names": "Francis Seibold",
         "gender": "male",
         "race/ethnicity": "group B",
         "parental level of education": "some high school",
         "lunch": "standard",
         "test preparation course": "completed",
         "math score": 6.04,
         "reading score": 5.98,
         "writing score": 5.5,
         "GPA": "5.84",
         "_deepnote_index_column": 40
        },
        {
         "names": "Arthur Byer",
         "gender": "male",
         "race/ethnicity": "group D",
         "parental level of education": "high school",
         "lunch": "free/reduced",
         "test preparation course": "completed",
         "math score": 4.84,
         "reading score": 4.84,
         "writing score": 5.02,
         "GPA": "4.8999999999999995",
         "_deepnote_index_column": 41
        },
        {
         "names": "Willie Neff",
         "gender": "female",
         "race/ethnicity": "group E",
         "parental level of education": "associate's degree",
         "lunch": "free/reduced",
         "test preparation course": "none",
         "math score": 5.38,
         "reading score": 5.56,
         "writing score": 5.68,
         "GPA": "5.539999999999999",
         "_deepnote_index_column": 42
        },
        {
         "names": "Thelma Yeates",
         "gender": "female",
         "race/ethnicity": "group E",
         "parental level of education": "associate's degree",
         "lunch": "free/reduced",
         "test preparation course": "completed",
         "math score": 5.98,
         "reading score": 6.16,
         "writing score": 6.28,
         "GPA": "6.140000000000001",
         "_deepnote_index_column": 43
        },
        {
         "names": "Mary Piotrowski",
         "gender": "female",
         "race/ethnicity": "group E",
         "parental level of education": "some college",
         "lunch": "free/reduced",
         "test preparation course": "completed",
         "math score": 5.5,
         "reading score": 6.28,
         "writing score": 6.1,
         "GPA": "5.960000000000001",
         "_deepnote_index_column": 45
        },
        {
         "names": "Hazel Montoya",
         "gender": "female",
         "race/ethnicity": "group D",
         "parental level of education": "some college",
         "lunch": "standard",
         "test preparation course": "none",
         "math score": 5.14,
         "reading score": 5.44,
         "writing score": 5.44,
         "GPA": "5.34",
         "_deepnote_index_column": 46
        },
        {
         "names": "James Eury",
         "gender": "male",
         "race/ethnicity": "group E",
         "parental level of education": "some college",
         "lunch": "standard",
         "test preparation course": "none",
         "math score": 5.08,
         "reading score": 5.32,
         "writing score": 4.9,
         "GPA": "5.1000000000000005",
         "_deepnote_index_column": 47
        },
        {
         "names": "Larry Dunn",
         "gender": "male",
         "race/ethnicity": "group C",
         "parental level of education": "some high school",
         "lunch": "standard",
         "test preparation course": "none",
         "math score": 4.42,
         "reading score": 4.66,
         "writing score": 4.24,
         "GPA": "4.44",
         "_deepnote_index_column": 49
        },
        {
         "names": "David Dunham",
         "gender": "male",
         "race/ethnicity": "group A",
         "parental level of education": "bachelor's degree",
         "lunch": "standard",
         "test preparation course": "none",
         "math score": 4.96,
         "reading score": 4.84,
         "writing score": 4.72,
         "GPA": "4.84",
         "_deepnote_index_column": 50
        },
        {
         "names": "Jeffery Wiedmann",
         "gender": "male",
         "race/ethnicity": "group C",
         "parental level of education": "some college",
         "lunch": "standard",
         "test preparation course": "none",
         "math score": 4.66,
         "reading score": 4.66,
         "writing score": 4.72,
         "GPA": "4.68",
         "_deepnote_index_column": 51
        },
        {
         "names": "Lisa Watters",
         "gender": "female",
         "race/ethnicity": "group D",
         "parental level of education": "master's degree",
         "lunch": "free/reduced",
         "test preparation course": "none",
         "math score": 3.4,
         "reading score": 4.54,
         "writing score": 4.24,
         "GPA": "4.06",
         "_deepnote_index_column": 52
        },
        {
         "names": "Katharine Kellum",
         "gender": "female",
         "race/ethnicity": "group B",
         "parental level of education": "high school",
         "lunch": "free/reduced",
         "test preparation course": "none",
         "math score": 4,
         "reading score": 5.02,
         "writing score": 4.78,
         "GPA": "4.6000000000000005",
         "_deepnote_index_column": 53
        },
        {
         "names": "Marjorie Brown",
         "gender": "female",
         "race/ethnicity": "group B",
         "parental level of education": "high school",
         "lunch": "standard",
         "test preparation course": "none",
         "math score": 3.88,
         "reading score": 4.72,
         "writing score": 4.6,
         "GPA": "4.3999999999999995",
         "_deepnote_index_column": 54
        },
        {
         "names": "Rodger Talavera",
         "gender": "male",
         "race/ethnicity": "group B",
         "parental level of education": "high school",
         "lunch": "free/reduced",
         "test preparation course": "none",
         "math score": 3.16,
         "reading score": 2.74,
         "writing score": 2.62,
         "GPA": "R",
         "_deepnote_index_column": 55
        },
        {
         "names": "Mary Jackson",
         "gender": "female",
         "race/ethnicity": "group B",
         "parental level of education": "bachelor's degree",
         "lunch": "free/reduced",
         "test preparation course": "none",
         "math score": 5.68,
         "reading score": 5.74,
         "writing score": 5.56,
         "GPA": "5.66",
         "_deepnote_index_column": 56
        },
        {
         "names": "Rebecca Dalton",
         "gender": "female",
         "race/ethnicity": "group B",
         "parental level of education": "some high school",
         "lunch": "standard",
         "test preparation course": "none",
         "math score": 4.42,
         "reading score": 5.02,
         "writing score": 5.32,
         "GPA": "4.92",
         "_deepnote_index_column": 58
        },
        {
         "names": "David Fisk",
         "gender": "male",
         "race/ethnicity": "group D",
         "parental level of education": "bachelor's degree",
         "lunch": "standard",
         "test preparation course": "none",
         "math score": 5.14,
         "reading score": 4.48,
         "writing score": 4.42,
         "GPA": "4.680000000000001",
         "_deepnote_index_column": 61
        },
        {
         "names": "Morris Johnson",
         "gender": "male",
         "race/ethnicity": "group A",
         "parental level of education": "associate's degree",
         "lunch": "free/reduced",
         "test preparation course": "completed",
         "math score": 3.4,
         "reading score": 4.3,
         "writing score": 4.18,
         "GPA": "R",
         "_deepnote_index_column": 63
        },
        {
         "names": "Rodrick Rasch",
         "gender": "male",
         "race/ethnicity": "group E",
         "parental level of education": "some high school",
         "lunch": "standard",
         "test preparation course": "none",
         "math score": 6.52,
         "reading score": 6.22,
         "writing score": 5.68,
         "GPA": "6.14",
         "_deepnote_index_column": 64
        },
        {
         "names": "Anthony Malcomb",
         "gender": "male",
         "race/ethnicity": "group C",
         "parental level of education": "some college",
         "lunch": "free/reduced",
         "test preparation course": "none",
         "math score": 3.1,
         "reading score": 2.68,
         "writing score": 2.62,
         "GPA": "R",
         "_deepnote_index_column": 66
        },
        {
         "names": "Joyce Amos",
         "gender": "female",
         "race/ethnicity": "group C",
         "parental level of education": "associate's degree",
         "lunch": "standard",
         "test preparation course": "none",
         "math score": 4.78,
         "reading score": 5.02,
         "writing score": 5.2,
         "GPA": "5.0",
         "_deepnote_index_column": 67
        },
        {
         "names": "Donald Chestnut",
         "gender": "male",
         "race/ethnicity": "group C",
         "parental level of education": "some college",
         "lunch": "standard",
         "test preparation course": "none",
         "math score": 5.38,
         "reading score": 5.44,
         "writing score": 4.66,
         "GPA": "5.16",
         "_deepnote_index_column": 69
        },
        {
         "names": "Lynne Rodgers",
         "gender": "female",
         "race/ethnicity": "group D",
         "parental level of education": "some college",
         "lunch": "standard",
         "test preparation course": "none",
         "math score": 4.78,
         "reading score": 4.84,
         "writing score": 5.02,
         "GPA": "4.88",
         "_deepnote_index_column": 70
        },
        {
         "names": "Diane Preister",
         "gender": "female",
         "race/ethnicity": "group D",
         "parental level of education": "some college",
         "lunch": "free/reduced",
         "test preparation course": "completed",
         "math score": 4.12,
         "reading score": 4.54,
         "writing score": 4.9,
         "GPA": "4.5200000000000005",
         "_deepnote_index_column": 71
        }
       ],
       "rows_bottom": [
        {
         "names": "Kelly Bowar",
         "gender": "female",
         "race/ethnicity": "group D",
         "parental level of education": "some high school",
         "lunch": "standard",
         "test preparation course": "none",
         "math score": 3.88,
         "reading score": 4.48,
         "writing score": 4.24,
         "GPA": "4.2",
         "_deepnote_index_column": 1328
        },
        {
         "names": "Kelly Greer",
         "gender": "female",
         "race/ethnicity": "group C",
         "parental level of education": "associate's degree",
         "lunch": "free/reduced",
         "test preparation course": "none",
         "math score": 4.18,
         "reading score": 4.66,
         "writing score": 4.72,
         "GPA": "4.52",
         "_deepnote_index_column": 1330
        },
        {
         "names": "Fred Jaeger",
         "gender": "male",
         "race/ethnicity": "group E",
         "parental level of education": "bachelor's degree",
         "lunch": "standard",
         "test preparation course": "completed",
         "math score": 6.1,
         "reading score": 4.96,
         "writing score": 5.26,
         "GPA": "5.44",
         "_deepnote_index_column": 1331
        },
        {
         "names": "Haydee Kunkel",
         "gender": "female",
         "race/ethnicity": "group C",
         "parental level of education": "high school",
         "lunch": "free/reduced",
         "test preparation course": "none",
         "math score": 4.72,
         "reading score": 5.02,
         "writing score": 4.84,
         "GPA": "4.859999999999999",
         "_deepnote_index_column": 1333
        },
        {
         "names": "Kayla Lopez",
         "gender": "female",
         "race/ethnicity": "group C",
         "parental level of education": "associate's degree",
         "lunch": "standard",
         "test preparation course": "completed",
         "math score": 4.9,
         "reading score": 6.04,
         "writing score": 6.04,
         "GPA": "5.66",
         "_deepnote_index_column": 1334
        },
        {
         "names": "Paul Brownell",
         "gender": "male",
         "race/ethnicity": "group B",
         "parental level of education": "high school",
         "lunch": "standard",
         "test preparation course": "none",
         "math score": 5.92,
         "reading score": 5.92,
         "writing score": 5.8,
         "GPA": "5.88",
         "_deepnote_index_column": 1335
        },
        {
         "names": "Jose Rogers",
         "gender": "male",
         "race/ethnicity": "group D",
         "parental level of education": "some college",
         "lunch": "free/reduced",
         "test preparation course": "none",
         "math score": 5.62,
         "reading score": 4.72,
         "writing score": 4.84,
         "GPA": "5.06",
         "_deepnote_index_column": 1341
        },
        {
         "names": "Joyce Bland",
         "gender": "female",
         "race/ethnicity": "group D",
         "parental level of education": "some high school",
         "lunch": "free/reduced",
         "test preparation course": "none",
         "math score": 4,
         "reading score": 4.84,
         "writing score": 4.54,
         "GPA": "4.46",
         "_deepnote_index_column": 1342
        },
        {
         "names": "Fannie Alvarez",
         "gender": "female",
         "race/ethnicity": "group D",
         "parental level of education": "some college",
         "lunch": "free/reduced",
         "test preparation course": "none",
         "math score": 5.14,
         "reading score": 4.9,
         "writing score": 5.44,
         "GPA": "5.16",
         "_deepnote_index_column": 1343
        },
        {
         "names": "Melissa Johnston",
         "gender": "female",
         "race/ethnicity": "group C",
         "parental level of education": "some high school",
         "lunch": "free/reduced",
         "test preparation course": "none",
         "math score": 1,
         "reading score": 2.02,
         "writing score": 1.6,
         "GPA": "R",
         "_deepnote_index_column": 1344
        },
        {
         "names": "Judith Mcenany",
         "gender": "female",
         "race/ethnicity": "group D",
         "parental level of education": "bachelor's degree",
         "lunch": "standard",
         "test preparation course": "none",
         "math score": 4.9,
         "reading score": 5.02,
         "writing score": 4.72,
         "GPA": "4.88",
         "_deepnote_index_column": 1347
        },
        {
         "names": "Nancy Mccormick",
         "gender": "female",
         "race/ethnicity": "group D",
         "parental level of education": "some high school",
         "lunch": "free/reduced",
         "test preparation course": "completed",
         "math score": 5.14,
         "reading score": 6.16,
         "writing score": 5.86,
         "GPA": "5.72",
         "_deepnote_index_column": 1349
        },
        {
         "names": "Timothy Long",
         "gender": "male",
         "race/ethnicity": "group C",
         "parental level of education": "high school",
         "lunch": "standard",
         "test preparation course": "completed",
         "math score": 5.32,
         "reading score": 5.02,
         "writing score": 4.84,
         "GPA": "5.06",
         "_deepnote_index_column": 1351
        },
        {
         "names": "Sandra Pompey",
         "gender": "female",
         "race/ethnicity": "group E",
         "parental level of education": "associate's degree",
         "lunch": "standard",
         "test preparation course": "none",
         "math score": 7,
         "reading score": 7,
         "writing score": 7,
         "GPA": "7.0",
         "_deepnote_index_column": 1352
        },
        {
         "names": "Steven Marriot",
         "gender": "male",
         "race/ethnicity": "group C",
         "parental level of education": "some college",
         "lunch": "free/reduced",
         "test preparation course": "none",
         "math score": 4.9,
         "reading score": 4.48,
         "writing score": 3.94,
         "GPA": "4.44",
         "_deepnote_index_column": 1353
        },
        {
         "names": "Stanley Chappell",
         "gender": "male",
         "race/ethnicity": "group A",
         "parental level of education": "associate's degree",
         "lunch": "free/reduced",
         "test preparation course": "none",
         "math score": 3.82,
         "reading score": 4.42,
         "writing score": 3.64,
         "GPA": "R",
         "_deepnote_index_column": 1354
        },
        {
         "names": "Michelle Smithson",
         "gender": "female",
         "race/ethnicity": "group E",
         "parental level of education": "associate's degree",
         "lunch": "standard",
         "test preparation course": "none",
         "math score": 4.06,
         "reading score": 4.06,
         "writing score": 4.24,
         "GPA": "4.12",
         "_deepnote_index_column": 1356
        },
        {
         "names": "Jeffrey Bostrom",
         "gender": "male",
         "race/ethnicity": "group E",
         "parental level of education": "associate's degree",
         "lunch": "standard",
         "test preparation course": "completed",
         "math score": 5.26,
         "reading score": 5.44,
         "writing score": 5.08,
         "GPA": "5.26",
         "_deepnote_index_column": 1357
        },
        {
         "names": "Earnest Cole",
         "gender": "male",
         "race/ethnicity": "group D",
         "parental level of education": "some college",
         "lunch": "standard",
         "test preparation course": "completed",
         "math score": 5.92,
         "reading score": 5.92,
         "writing score": 6.28,
         "GPA": "6.04",
         "_deepnote_index_column": 1359
        },
        {
         "names": "Sharon Garcia",
         "gender": "female",
         "race/ethnicity": "group C",
         "parental level of education": "some high school",
         "lunch": "free/reduced",
         "test preparation course": "none",
         "math score": 4.3,
         "reading score": 4.9,
         "writing score": 4.72,
         "GPA": "4.64",
         "_deepnote_index_column": 1361
        },
        {
         "names": "Carol Miller",
         "gender": "female",
         "race/ethnicity": "group C",
         "parental level of education": "associate's degree",
         "lunch": "standard",
         "test preparation course": "completed",
         "math score": 5.5,
         "reading score": 5.92,
         "writing score": 6.4,
         "GPA": "5.94",
         "_deepnote_index_column": 1362
        },
        {
         "names": "Antonio Evans",
         "gender": "male",
         "race/ethnicity": "group C",
         "parental level of education": "high school",
         "lunch": "free/reduced",
         "test preparation course": "none",
         "math score": 4.96,
         "reading score": 4.96,
         "writing score": 4.54,
         "GPA": "4.82",
         "_deepnote_index_column": 1363
        },
        {
         "names": "Pam Otoole",
         "gender": "female",
         "race/ethnicity": "group B",
         "parental level of education": "bachelor's degree",
         "lunch": "standard",
         "test preparation course": "none",
         "math score": 5.32,
         "reading score": 5.32,
         "writing score": 5.44,
         "GPA": "5.36",
         "_deepnote_index_column": 1365
        },
        {
         "names": "Matthew Burns",
         "gender": "male",
         "race/ethnicity": "group E",
         "parental level of education": "high school",
         "lunch": "standard",
         "test preparation course": "none",
         "math score": 5.2,
         "reading score": 4.3,
         "writing score": 4.36,
         "GPA": "4.62",
         "_deepnote_index_column": 1366
        },
        {
         "names": "Gregory Fernandez",
         "gender": "male",
         "race/ethnicity": "group E",
         "parental level of education": "high school",
         "lunch": "free/reduced",
         "test preparation course": "completed",
         "math score": 4.42,
         "reading score": 4.36,
         "writing score": 4.24,
         "GPA": "4.340000000000001",
         "_deepnote_index_column": 1367
        },
        {
         "names": "Charles Herandez",
         "gender": "male",
         "race/ethnicity": "group D",
         "parental level of education": "master's degree",
         "lunch": "free/reduced",
         "test preparation course": "completed",
         "math score": 6.04,
         "reading score": 6.34,
         "writing score": 6.4,
         "GPA": "6.260000000000001",
         "_deepnote_index_column": 1368
        },
        {
         "names": "Aaron Shelly",
         "gender": "male",
         "race/ethnicity": "group D",
         "parental level of education": "associate's degree",
         "lunch": "standard",
         "test preparation course": "none",
         "math score": 4.66,
         "reading score": 3.88,
         "writing score": 3.76,
         "GPA": "4.1",
         "_deepnote_index_column": 1370
        },
        {
         "names": "Charles Harian",
         "gender": "male",
         "race/ethnicity": "group C",
         "parental level of education": "some high school",
         "lunch": "free/reduced",
         "test preparation course": "completed",
         "math score": 3.7,
         "reading score": 4.12,
         "writing score": 3.94,
         "GPA": "R",
         "_deepnote_index_column": 1371
        },
        {
         "names": "Steven Hacker",
         "gender": "male",
         "race/ethnicity": "group A",
         "parental level of education": "some high school",
         "lunch": "free/reduced",
         "test preparation course": "none",
         "math score": 4.9,
         "reading score": 4.54,
         "writing score": 4.18,
         "GPA": "4.54",
         "_deepnote_index_column": 1372
        },
        {
         "names": "Wendy Gunnell",
         "gender": "female",
         "race/ethnicity": "group D",
         "parental level of education": "some high school",
         "lunch": "free/reduced",
         "test preparation course": "none",
         "math score": 2.62,
         "reading score": 3.04,
         "writing score": 2.92,
         "GPA": "R",
         "_deepnote_index_column": 1373
        },
        {
         "names": "Manuel Glover",
         "gender": "male",
         "race/ethnicity": "group D",
         "parental level of education": "some college",
         "lunch": "standard",
         "test preparation course": "none",
         "math score": 6.28,
         "reading score": 5.38,
         "writing score": 5.68,
         "GPA": "5.78",
         "_deepnote_index_column": 1374
        },
        {
         "names": "Linda Nevin",
         "gender": "female",
         "race/ethnicity": "group B",
         "parental level of education": "some high school",
         "lunch": "standard",
         "test preparation course": "completed",
         "math score": 4.9,
         "reading score": 5.92,
         "writing score": 5.68,
         "GPA": "5.5",
         "_deepnote_index_column": 1375
        },
        {
         "names": "James Piper",
         "gender": "male",
         "race/ethnicity": "group D",
         "parental level of education": "bachelor's degree",
         "lunch": "free/reduced",
         "test preparation course": "none",
         "math score": 4.78,
         "reading score": 4.96,
         "writing score": 5.02,
         "GPA": "4.92",
         "_deepnote_index_column": 1376
        },
        {
         "names": "Timothy Anderson",
         "gender": "male",
         "race/ethnicity": "group C",
         "parental level of education": "associate's degree",
         "lunch": "free/reduced",
         "test preparation course": "completed",
         "math score": 5.68,
         "reading score": 5.86,
         "writing score": 5.92,
         "GPA": "5.82",
         "_deepnote_index_column": 1377
        },
        {
         "names": "Julie Sciancalepore",
         "gender": "female",
         "race/ethnicity": "group C",
         "parental level of education": "bachelor's degree",
         "lunch": "standard",
         "test preparation course": "none",
         "math score": 4.9,
         "reading score": 5.32,
         "writing score": 5.44,
         "GPA": "5.22",
         "_deepnote_index_column": 1379
        },
        {
         "names": "Brandon Palmer",
         "gender": "male",
         "race/ethnicity": "group D",
         "parental level of education": "associate's degree",
         "lunch": "free/reduced",
         "test preparation course": "none",
         "math score": 6.4,
         "reading score": 6.22,
         "writing score": 5.5,
         "GPA": "6.04",
         "_deepnote_index_column": 1380
        },
        {
         "names": "Robert Morrison",
         "gender": "male",
         "race/ethnicity": "group D",
         "parental level of education": "some college",
         "lunch": "standard",
         "test preparation course": "completed",
         "math score": 7,
         "reading score": 6.82,
         "writing score": 6.94,
         "GPA": "6.920000000000001",
         "_deepnote_index_column": 1381
        },
        {
         "names": "Claudio Millender",
         "gender": "male",
         "race/ethnicity": "group C",
         "parental level of education": "some college",
         "lunch": "free/reduced",
         "test preparation course": "completed",
         "math score": 5.02,
         "reading score": 5.44,
         "writing score": 5.2,
         "GPA": "5.22",
         "_deepnote_index_column": 1382
        },
        {
         "names": "Emily King",
         "gender": "female",
         "race/ethnicity": "group D",
         "parental level of education": "some college",
         "lunch": "standard",
         "test preparation course": "completed",
         "math score": 5.44,
         "reading score": 5.5,
         "writing score": 5.74,
         "GPA": "5.56",
         "_deepnote_index_column": 1383
        },
        {
         "names": "William Sakkinen",
         "gender": "male",
         "race/ethnicity": "group E",
         "parental level of education": "some college",
         "lunch": "standard",
         "test preparation course": "none",
         "math score": 5.56,
         "reading score": 5.02,
         "writing score": 5.02,
         "GPA": "5.199999999999999",
         "_deepnote_index_column": 1384
        },
        {
         "names": "Elsa Hyman",
         "gender": "female",
         "race/ethnicity": "group B",
         "parental level of education": "high school",
         "lunch": "standard",
         "test preparation course": "none",
         "math score": 4.96,
         "reading score": 5.32,
         "writing score": 5.2,
         "GPA": "5.16",
         "_deepnote_index_column": 1386
        },
        {
         "names": "Virginia Sievers",
         "gender": "female",
         "race/ethnicity": "group C",
         "parental level of education": "bachelor's degree",
         "lunch": "standard",
         "test preparation course": "completed",
         "math score": 4.54,
         "reading score": 4.84,
         "writing score": 5.5,
         "GPA": "4.96",
         "_deepnote_index_column": 1387
        },
        {
         "names": "Laura Cavanaugh",
         "gender": "female",
         "race/ethnicity": "group C",
         "parental level of education": "associate's degree",
         "lunch": "standard",
         "test preparation course": "completed",
         "math score": 4.72,
         "reading score": 5.56,
         "writing score": 5.8,
         "GPA": "5.359999999999999",
         "_deepnote_index_column": 1388
        },
        {
         "names": "Diana Costa",
         "gender": "female",
         "race/ethnicity": "group C",
         "parental level of education": "high school",
         "lunch": "free/reduced",
         "test preparation course": "none",
         "math score": 3.46,
         "reading score": 3.76,
         "writing score": 3.58,
         "GPA": "R",
         "_deepnote_index_column": 1389
        },
        {
         "names": "Amy Sieving",
         "gender": "female",
         "race/ethnicity": "group C",
         "parental level of education": "high school",
         "lunch": "standard",
         "test preparation course": "none",
         "math score": 2.74,
         "reading score": 2.74,
         "writing score": 2.8,
         "GPA": "R",
         "_deepnote_index_column": 1391
        },
        {
         "names": "Richard Young",
         "gender": "male",
         "race/ethnicity": "group D",
         "parental level of education": "high school",
         "lunch": "standard",
         "test preparation course": "none",
         "math score": 5.14,
         "reading score": 5.5,
         "writing score": 5.26,
         "GPA": "5.3",
         "_deepnote_index_column": 1392
        },
        {
         "names": "Wanda Russell",
         "gender": "female",
         "race/ethnicity": "group B",
         "parental level of education": "high school",
         "lunch": "free/reduced",
         "test preparation course": "completed",
         "math score": 2.38,
         "reading score": 3.64,
         "writing score": 3.16,
         "GPA": "R",
         "_deepnote_index_column": 1394
        },
        {
         "names": "Marina Zeigler",
         "gender": "female",
         "race/ethnicity": "group C",
         "parental level of education": "bachelor's degree",
         "lunch": "free/reduced",
         "test preparation course": "completed",
         "math score": 4.96,
         "reading score": 5.44,
         "writing score": 5.86,
         "GPA": "5.420000000000001",
         "_deepnote_index_column": 1396
        },
        {
         "names": "Laurie Carter",
         "gender": "female",
         "race/ethnicity": "group B",
         "parental level of education": "some high school",
         "lunch": "standard",
         "test preparation course": "completed",
         "math score": 4.24,
         "reading score": 4.66,
         "writing score": 4.72,
         "GPA": "4.54",
         "_deepnote_index_column": 1397
        },
        {
         "names": "Amanda Perez",
         "gender": "female",
         "race/ethnicity": "group A",
         "parental level of education": "high school",
         "lunch": "standard",
         "test preparation course": "completed",
         "math score": 5.08,
         "reading score": 5.8,
         "writing score": 5.56,
         "GPA": "5.4799999999999995",
         "_deepnote_index_column": 1399
        }
       ]
      },
      "text/plain": "                 names  gender race/ethnicity parental level of education  \\\n0        Rita Courtney  female        group B            some high school   \n3     Charles Linstrom    male        group A           bachelor's degree   \n5          Brian Young    male        group C            some high school   \n6       Howard Jimenez    male        group E            some high school   \n7         Wayne Wilson    male        group B            some high school   \n...                ...     ...            ...                         ...   \n1392     Richard Young    male        group D                 high school   \n1394     Wanda Russell  female        group B                 high school   \n1396    Marina Zeigler  female        group C           bachelor's degree   \n1397     Laurie Carter  female        group B            some high school   \n1399      Amanda Perez  female        group A                 high school   \n\n             lunch test preparation course  math score  reading score  \\\n0         standard                    none        3.22           3.76   \n3         standard               completed        5.80           5.68   \n5         standard                    none        5.38           4.96   \n6         standard               completed        5.86           5.50   \n7         standard               completed        6.64           6.16   \n...            ...                     ...         ...            ...   \n1392      standard                    none        5.14           5.50   \n1394  free/reduced               completed        2.38           3.64   \n1396  free/reduced               completed        4.96           5.44   \n1397      standard               completed        4.24           4.66   \n1399      standard               completed        5.08           5.80   \n\n      writing score   GPA  \n0              3.76     R  \n3              5.86  5.78  \n5              4.78  5.04  \n6              5.56  5.64  \n7              6.22  6.34  \n...             ...   ...  \n1392           5.26   5.3  \n1394           3.16     R  \n1396           5.86  5.42  \n1397           4.72  4.54  \n1399           5.56  5.48  \n\n[875 rows x 10 columns]",
      "text/html": "<div>\n<style scoped>\n    .dataframe tbody tr th:only-of-type {\n        vertical-align: middle;\n    }\n\n    .dataframe tbody tr th {\n        vertical-align: top;\n    }\n\n    .dataframe thead th {\n        text-align: right;\n    }\n</style>\n<table border=\"1\" class=\"dataframe\">\n  <thead>\n    <tr style=\"text-align: right;\">\n      <th></th>\n      <th>names</th>\n      <th>gender</th>\n      <th>race/ethnicity</th>\n      <th>parental level of education</th>\n      <th>lunch</th>\n      <th>test preparation course</th>\n      <th>math score</th>\n      <th>reading score</th>\n      <th>writing score</th>\n      <th>GPA</th>\n    </tr>\n  </thead>\n  <tbody>\n    <tr>\n      <th>0</th>\n      <td>Rita Courtney</td>\n      <td>female</td>\n      <td>group B</td>\n      <td>some high school</td>\n      <td>standard</td>\n      <td>none</td>\n      <td>3.22</td>\n      <td>3.76</td>\n      <td>3.76</td>\n      <td>R</td>\n    </tr>\n    <tr>\n      <th>3</th>\n      <td>Charles Linstrom</td>\n      <td>male</td>\n      <td>group A</td>\n      <td>bachelor's degree</td>\n      <td>standard</td>\n      <td>completed</td>\n      <td>5.80</td>\n      <td>5.68</td>\n      <td>5.86</td>\n      <td>5.78</td>\n    </tr>\n    <tr>\n      <th>5</th>\n      <td>Brian Young</td>\n      <td>male</td>\n      <td>group C</td>\n      <td>some high school</td>\n      <td>standard</td>\n      <td>none</td>\n      <td>5.38</td>\n      <td>4.96</td>\n      <td>4.78</td>\n      <td>5.04</td>\n    </tr>\n    <tr>\n      <th>6</th>\n      <td>Howard Jimenez</td>\n      <td>male</td>\n      <td>group E</td>\n      <td>some high school</td>\n      <td>standard</td>\n      <td>completed</td>\n      <td>5.86</td>\n      <td>5.50</td>\n      <td>5.56</td>\n      <td>5.64</td>\n    </tr>\n    <tr>\n      <th>7</th>\n      <td>Wayne Wilson</td>\n      <td>male</td>\n      <td>group B</td>\n      <td>some high school</td>\n      <td>standard</td>\n      <td>completed</td>\n      <td>6.64</td>\n      <td>6.16</td>\n      <td>6.22</td>\n      <td>6.34</td>\n    </tr>\n    <tr>\n      <th>...</th>\n      <td>...</td>\n      <td>...</td>\n      <td>...</td>\n      <td>...</td>\n      <td>...</td>\n      <td>...</td>\n      <td>...</td>\n      <td>...</td>\n      <td>...</td>\n      <td>...</td>\n    </tr>\n    <tr>\n      <th>1392</th>\n      <td>Richard Young</td>\n      <td>male</td>\n      <td>group D</td>\n      <td>high school</td>\n      <td>standard</td>\n      <td>none</td>\n      <td>5.14</td>\n      <td>5.50</td>\n      <td>5.26</td>\n      <td>5.3</td>\n    </tr>\n    <tr>\n      <th>1394</th>\n      <td>Wanda Russell</td>\n      <td>female</td>\n      <td>group B</td>\n      <td>high school</td>\n      <td>free/reduced</td>\n      <td>completed</td>\n      <td>2.38</td>\n      <td>3.64</td>\n      <td>3.16</td>\n      <td>R</td>\n    </tr>\n    <tr>\n      <th>1396</th>\n      <td>Marina Zeigler</td>\n      <td>female</td>\n      <td>group C</td>\n      <td>bachelor's degree</td>\n      <td>free/reduced</td>\n      <td>completed</td>\n      <td>4.96</td>\n      <td>5.44</td>\n      <td>5.86</td>\n      <td>5.42</td>\n    </tr>\n    <tr>\n      <th>1397</th>\n      <td>Laurie Carter</td>\n      <td>female</td>\n      <td>group B</td>\n      <td>some high school</td>\n      <td>standard</td>\n      <td>completed</td>\n      <td>4.24</td>\n      <td>4.66</td>\n      <td>4.72</td>\n      <td>4.54</td>\n    </tr>\n    <tr>\n      <th>1399</th>\n      <td>Amanda Perez</td>\n      <td>female</td>\n      <td>group A</td>\n      <td>high school</td>\n      <td>standard</td>\n      <td>completed</td>\n      <td>5.08</td>\n      <td>5.80</td>\n      <td>5.56</td>\n      <td>5.48</td>\n    </tr>\n  </tbody>\n</table>\n<p>875 rows × 10 columns</p>\n</div>"
     },
     "metadata": {}
    }
   ]
  },
  {
   "cell_type": "code",
   "metadata": {
    "tags": [],
    "deepnote_to_be_reexecuted": false,
    "source_hash": "142d1b25",
    "execution_start": 1633016527137,
    "execution_millis": 162,
    "cell_id": "00050-19596313-6c35-480a-b2e2-0e17df76f2b9",
    "deepnote_cell_type": "code"
   },
   "source": "dataframe3",
   "execution_count": null,
   "outputs": [
    {
     "output_type": "execute_result",
     "execution_count": 18,
     "data": {
      "application/vnd.deepnote.dataframe.v2+json": {
       "row_count": 94,
       "column_count": 10,
       "columns": [
        {
         "name": "names",
         "dtype": "object",
         "stats": {
          "unique_count": 94,
          "nan_count": 0,
          "categories": [
           {
            "name": "Richard Pryor",
            "count": 1
           },
           {
            "name": "Sandra Pompey",
            "count": 1
           },
           {
            "name": "92 others",
            "count": 92
           }
          ]
         }
        },
        {
         "name": "gender",
         "dtype": "object",
         "stats": {
          "unique_count": 2,
          "nan_count": 0,
          "categories": [
           {
            "name": "female",
            "count": 53
           },
           {
            "name": "male",
            "count": 41
           }
          ]
         }
        },
        {
         "name": "race/ethnicity",
         "dtype": "object",
         "stats": {
          "unique_count": 5,
          "nan_count": 0,
          "categories": [
           {
            "name": "group C",
            "count": 29
           },
           {
            "name": "group E",
            "count": 24
           },
           {
            "name": "3 others",
            "count": 41
           }
          ]
         }
        },
        {
         "name": "parental level of education",
         "dtype": "object",
         "stats": {
          "unique_count": 6,
          "nan_count": 0,
          "categories": [
           {
            "name": "associate's degree",
            "count": 31
           },
           {
            "name": "some college",
            "count": 22
           },
           {
            "name": "4 others",
            "count": 41
           }
          ]
         }
        },
        {
         "name": "lunch",
         "dtype": "object",
         "stats": {
          "unique_count": 2,
          "nan_count": 0,
          "categories": [
           {
            "name": "standard",
            "count": 85
           },
           {
            "name": "free/reduced",
            "count": 9
           }
          ]
         }
        },
        {
         "name": "test preparation course",
         "dtype": "object",
         "stats": {
          "unique_count": 2,
          "nan_count": 0,
          "categories": [
           {
            "name": "completed",
            "count": 53
           },
           {
            "name": "none",
            "count": 41
           }
          ]
         }
        },
        {
         "name": "math score",
         "dtype": "float64",
         "stats": {
          "unique_count": 19,
          "nan_count": 0,
          "min": "5.86",
          "max": "7.0",
          "histogram": [
           {
            "bin_start": 5.86,
            "bin_end": 5.974,
            "count": 15
           },
           {
            "bin_start": 5.974,
            "bin_end": 6.088,
            "count": 9
           },
           {
            "bin_start": 6.088,
            "bin_end": 6.202,
            "count": 11
           },
           {
            "bin_start": 6.202,
            "bin_end": 6.316,
            "count": 15
           },
           {
            "bin_start": 6.316,
            "bin_end": 6.43,
            "count": 8
           },
           {
            "bin_start": 6.43,
            "bin_end": 6.5440000000000005,
            "count": 7
           },
           {
            "bin_start": 6.5440000000000005,
            "bin_end": 6.658,
            "count": 8
           },
           {
            "bin_start": 6.658,
            "bin_end": 6.772,
            "count": 3
           },
           {
            "bin_start": 6.772,
            "bin_end": 6.886,
            "count": 9
           },
           {
            "bin_start": 6.886,
            "bin_end": 7,
            "count": 9
           }
          ]
         }
        },
        {
         "name": "reading score",
         "dtype": "float64",
         "stats": {
          "unique_count": 19,
          "nan_count": 0,
          "min": "5.86",
          "max": "7.0",
          "histogram": [
           {
            "bin_start": 5.86,
            "bin_end": 5.974,
            "count": 7
           },
           {
            "bin_start": 5.974,
            "bin_end": 6.088,
            "count": 10
           },
           {
            "bin_start": 6.088,
            "bin_end": 6.202,
            "count": 11
           },
           {
            "bin_start": 6.202,
            "bin_end": 6.316,
            "count": 7
           },
           {
            "bin_start": 6.316,
            "bin_end": 6.43,
            "count": 11
           },
           {
            "bin_start": 6.43,
            "bin_end": 6.5440000000000005,
            "count": 10
           },
           {
            "bin_start": 6.5440000000000005,
            "bin_end": 6.658,
            "count": 6
           },
           {
            "bin_start": 6.658,
            "bin_end": 6.772,
            "count": 11
           },
           {
            "bin_start": 6.772,
            "bin_end": 6.886,
            "count": 4
           },
           {
            "bin_start": 6.886,
            "bin_end": 7,
            "count": 17
           }
          ]
         }
        },
        {
         "name": "writing score",
         "dtype": "float64",
         "stats": {
          "unique_count": 20,
          "nan_count": 0,
          "min": "5.86",
          "max": "7.0",
          "histogram": [
           {
            "bin_start": 5.86,
            "bin_end": 5.974,
            "count": 10
           },
           {
            "bin_start": 5.974,
            "bin_end": 6.088,
            "count": 6
           },
           {
            "bin_start": 6.088,
            "bin_end": 6.202,
            "count": 12
           },
           {
            "bin_start": 6.202,
            "bin_end": 6.316,
            "count": 8
           },
           {
            "bin_start": 6.316,
            "bin_end": 6.43,
            "count": 10
           },
           {
            "bin_start": 6.43,
            "bin_end": 6.5440000000000005,
            "count": 11
           },
           {
            "bin_start": 6.5440000000000005,
            "bin_end": 6.658,
            "count": 9
           },
           {
            "bin_start": 6.658,
            "bin_end": 6.772,
            "count": 10
           },
           {
            "bin_start": 6.772,
            "bin_end": 6.886,
            "count": 2
           },
           {
            "bin_start": 6.886,
            "bin_end": 7,
            "count": 16
           }
          ]
         }
        },
        {
         "name": "GPA",
         "dtype": "float64",
         "stats": {
          "unique_count": 52,
          "nan_count": 0,
          "min": "5.900000000000001",
          "max": "7.0",
          "histogram": [
           {
            "bin_start": 5.900000000000001,
            "bin_end": 6.010000000000002,
            "count": 6
           },
           {
            "bin_start": 6.010000000000002,
            "bin_end": 6.120000000000001,
            "count": 8
           },
           {
            "bin_start": 6.120000000000001,
            "bin_end": 6.23,
            "count": 12
           },
           {
            "bin_start": 6.23,
            "bin_end": 6.340000000000001,
            "count": 18
           },
           {
            "bin_start": 6.340000000000001,
            "bin_end": 6.450000000000001,
            "count": 11
           },
           {
            "bin_start": 6.450000000000001,
            "bin_end": 6.5600000000000005,
            "count": 13
           },
           {
            "bin_start": 6.5600000000000005,
            "bin_end": 6.67,
            "count": 7
           },
           {
            "bin_start": 6.67,
            "bin_end": 6.78,
            "count": 2
           },
           {
            "bin_start": 6.78,
            "bin_end": 6.890000000000001,
            "count": 9
           },
           {
            "bin_start": 6.890000000000001,
            "bin_end": 7,
            "count": 8
           }
          ]
         }
        },
        {
         "name": "_deepnote_index_column",
         "dtype": "int64"
        }
       ],
       "rows_top": [
        {
         "names": "Richard Pryor",
         "gender": "male",
         "race/ethnicity": "group E",
         "parental level of education": "bachelor's degree",
         "lunch": "standard",
         "test preparation course": "completed",
         "math score": 7,
         "reading score": 7,
         "writing score": 7,
         "GPA": 7,
         "_deepnote_index_column": 677
        },
        {
         "names": "Sandra Pompey",
         "gender": "female",
         "race/ethnicity": "group E",
         "parental level of education": "associate's degree",
         "lunch": "standard",
         "test preparation course": "none",
         "math score": 7,
         "reading score": 7,
         "writing score": 7,
         "GPA": 7,
         "_deepnote_index_column": 1352
        },
        {
         "names": "Elizabeth Beasley",
         "gender": "female",
         "race/ethnicity": "group E",
         "parental level of education": "bachelor's degree",
         "lunch": "standard",
         "test preparation course": "none",
         "math score": 7,
         "reading score": 7,
         "writing score": 7,
         "GPA": 7,
         "_deepnote_index_column": 384
        },
        {
         "names": "Emma Gray",
         "gender": "female",
         "race/ethnicity": "group E",
         "parental level of education": "bachelor's degree",
         "lunch": "standard",
         "test preparation course": "completed",
         "math score": 6.94,
         "reading score": 7,
         "writing score": 7,
         "GPA": 6.98,
         "_deepnote_index_column": 475
        },
        {
         "names": "Emma Brasher",
         "gender": "female",
         "race/ethnicity": "group D",
         "parental level of education": "some high school",
         "lunch": "standard",
         "test preparation course": "completed",
         "math score": 6.82,
         "reading score": 7,
         "writing score": 7,
         "GPA": 6.94,
         "_deepnote_index_column": 279
        },
        {
         "names": "Angela Cressey",
         "gender": "female",
         "race/ethnicity": "group D",
         "parental level of education": "some college",
         "lunch": "standard",
         "test preparation course": "none",
         "math score": 6.88,
         "reading score": 7,
         "writing score": 6.94,
         "GPA": 6.94,
         "_deepnote_index_column": 1276
        },
        {
         "names": "Robert Morrison",
         "gender": "male",
         "race/ethnicity": "group D",
         "parental level of education": "some college",
         "lunch": "standard",
         "test preparation course": "completed",
         "math score": 7,
         "reading score": 6.82,
         "writing score": 6.94,
         "GPA": 6.920000000000001,
         "_deepnote_index_column": 1381
        },
        {
         "names": "Emmie Mooreland",
         "gender": "female",
         "race/ethnicity": "group C",
         "parental level of education": "bachelor's degree",
         "lunch": "standard",
         "test preparation course": "completed",
         "math score": 6.76,
         "reading score": 7,
         "writing score": 7,
         "GPA": 6.919999999999999,
         "_deepnote_index_column": 1219
        },
        {
         "names": "David Martinez",
         "gender": "male",
         "race/ethnicity": "group E",
         "parental level of education": "associate's degree",
         "lunch": "free/reduced",
         "test preparation course": "completed",
         "math score": 7,
         "reading score": 7,
         "writing score": 6.58,
         "GPA": 6.859999999999999,
         "_deepnote_index_column": 514
        },
        {
         "names": "Ana Loredo",
         "gender": "female",
         "race/ethnicity": "group E",
         "parental level of education": "master's degree",
         "lunch": "standard",
         "test preparation course": "completed",
         "math score": 6.64,
         "reading score": 6.94,
         "writing score": 7,
         "GPA": 6.859999999999999,
         "_deepnote_index_column": 149
        },
        {
         "names": "Shanna Braswell",
         "gender": "female",
         "race/ethnicity": "group D",
         "parental level of education": "bachelor's degree",
         "lunch": "free/reduced",
         "test preparation course": "completed",
         "math score": 6.58,
         "reading score": 7,
         "writing score": 7,
         "GPA": 6.859999999999999,
         "_deepnote_index_column": 35
        },
        {
         "names": "Agatha Bergman",
         "gender": "female",
         "race/ethnicity": "group D",
         "parental level of education": "master's degree",
         "lunch": "standard",
         "test preparation course": "none",
         "math score": 6.52,
         "reading score": 7,
         "writing score": 7,
         "GPA": 6.84,
         "_deepnote_index_column": 921
        },
        {
         "names": "Loretta Velez",
         "gender": "female",
         "race/ethnicity": "group C",
         "parental level of education": "associate's degree",
         "lunch": "standard",
         "test preparation course": "completed",
         "math score": 6.76,
         "reading score": 6.76,
         "writing score": 6.94,
         "GPA": 6.82,
         "_deepnote_index_column": 1075
        },
        {
         "names": "Angie Laskoski",
         "gender": "female",
         "race/ethnicity": "group C",
         "parental level of education": "bachelor's degree",
         "lunch": "standard",
         "test preparation course": "completed",
         "math score": 6.52,
         "reading score": 7,
         "writing score": 6.94,
         "GPA": 6.82,
         "_deepnote_index_column": 1182
        },
        {
         "names": "Jeanine Diaz",
         "gender": "female",
         "race/ethnicity": "group B",
         "parental level of education": "bachelor's degree",
         "lunch": "standard",
         "test preparation course": "none",
         "math score": 6.82,
         "reading score": 6.82,
         "writing score": 6.76,
         "GPA": 6.8,
         "_deepnote_index_column": 463
        },
        {
         "names": "Olivia Papp",
         "gender": "female",
         "race/ethnicity": "group E",
         "parental level of education": "some college",
         "lunch": "standard",
         "test preparation course": "none",
         "math score": 7,
         "reading score": 6.52,
         "writing score": 6.82,
         "GPA": 6.78,
         "_deepnote_index_column": 965
        },
        {
         "names": "Sandra Case",
         "gender": "female",
         "race/ethnicity": "group D",
         "parental level of education": "bachelor's degree",
         "lunch": "standard",
         "test preparation course": "none",
         "math score": 6.34,
         "reading score": 7,
         "writing score": 7,
         "GPA": 6.78,
         "_deepnote_index_column": 815
        },
        {
         "names": "Sharon Matthews",
         "gender": "female",
         "race/ethnicity": "group E",
         "parental level of education": "associate's degree",
         "lunch": "standard",
         "test preparation course": "completed",
         "math score": 6.58,
         "reading score": 7,
         "writing score": 6.7,
         "GPA": 6.760000000000001,
         "_deepnote_index_column": 708
        },
        {
         "names": "Maryann Russell",
         "gender": "female",
         "race/ethnicity": "group D",
         "parental level of education": "high school",
         "lunch": "standard",
         "test preparation course": "completed",
         "math score": 6.28,
         "reading score": 6.94,
         "writing score": 7,
         "GPA": 6.739999999999999,
         "_deepnote_index_column": 841
        },
        {
         "names": "Cheryl Leonard",
         "gender": "female",
         "race/ethnicity": "group E",
         "parental level of education": "high school",
         "lunch": "standard",
         "test preparation course": "none",
         "math score": 6.94,
         "reading score": 6.58,
         "writing score": 6.4,
         "GPA": 6.640000000000001,
         "_deepnote_index_column": 239
        },
        {
         "names": "Raymond Stuart",
         "gender": "male",
         "race/ethnicity": "group A",
         "parental level of education": "some college",
         "lunch": "standard",
         "test preparation course": "completed",
         "math score": 7,
         "reading score": 6.76,
         "writing score": 6.16,
         "GPA": 6.640000000000001,
         "_deepnote_index_column": 488
        },
        {
         "names": "Melanie Acevedo",
         "gender": "female",
         "race/ethnicity": "group E",
         "parental level of education": "master's degree",
         "lunch": "standard",
         "test preparation course": "completed",
         "math score": 6.28,
         "reading score": 6.94,
         "writing score": 6.7,
         "GPA": 6.640000000000001,
         "_deepnote_index_column": 929
        },
        {
         "names": "Garth Zayas",
         "gender": "male",
         "race/ethnicity": "group C",
         "parental level of education": "associate's degree",
         "lunch": "standard",
         "test preparation course": "completed",
         "math score": 6.22,
         "reading score": 7,
         "writing score": 6.7,
         "GPA": 6.64,
         "_deepnote_index_column": 732
        },
        {
         "names": "Joseph Sisk",
         "gender": "male",
         "race/ethnicity": "group C",
         "parental level of education": "associate's degree",
         "lunch": "standard",
         "test preparation course": "none",
         "math score": 6.82,
         "reading score": 6.58,
         "writing score": 6.46,
         "GPA": 6.62,
         "_deepnote_index_column": 106
        },
        {
         "names": "Ann Polston",
         "gender": "female",
         "race/ethnicity": "group D",
         "parental level of education": "master's degree",
         "lunch": "free/reduced",
         "test preparation course": "completed",
         "math score": 6.1,
         "reading score": 6.7,
         "writing score": 7,
         "GPA": 6.6000000000000005,
         "_deepnote_index_column": 907
        },
        {
         "names": "Belinda Tuholski",
         "gender": "female",
         "race/ethnicity": "group C",
         "parental level of education": "associate's degree",
         "lunch": "standard",
         "test preparation course": "none",
         "math score": 6.46,
         "reading score": 6.7,
         "writing score": 6.64,
         "GPA": 6.6000000000000005,
         "_deepnote_index_column": 700
        },
        {
         "names": "Sarah Flannery",
         "gender": "female",
         "race/ethnicity": "group B",
         "parental level of education": "master's degree",
         "lunch": "standard",
         "test preparation course": "none",
         "math score": 6.4,
         "reading score": 6.7,
         "writing score": 6.58,
         "GPA": 6.56,
         "_deepnote_index_column": 798
        },
        {
         "names": "Joseph Dean",
         "gender": "male",
         "race/ethnicity": "group C",
         "parental level of education": "bachelor's degree",
         "lunch": "standard",
         "test preparation course": "completed",
         "math score": 6.76,
         "reading score": 6.4,
         "writing score": 6.52,
         "GPA": 6.56,
         "_deepnote_index_column": 99
        },
        {
         "names": "James King",
         "gender": "male",
         "race/ethnicity": "group B",
         "parental level of education": "some college",
         "lunch": "standard",
         "test preparation course": "completed",
         "math score": 6.46,
         "reading score": 6.76,
         "writing score": 6.46,
         "GPA": 6.56,
         "_deepnote_index_column": 1318
        },
        {
         "names": "Kelly Summers",
         "gender": "female",
         "race/ethnicity": "group C",
         "parental level of education": "some college",
         "lunch": "standard",
         "test preparation course": "completed",
         "math score": 6.28,
         "reading score": 6.7,
         "writing score": 6.64,
         "GPA": 6.54,
         "_deepnote_index_column": 211
        },
        {
         "names": "Eleanor Bond",
         "gender": "female",
         "race/ethnicity": "group E",
         "parental level of education": "associate's degree",
         "lunch": "standard",
         "test preparation course": "none",
         "math score": 6.22,
         "reading score": 6.64,
         "writing score": 6.7,
         "GPA": 6.52,
         "_deepnote_index_column": 992
        },
        {
         "names": "Clyde Gay",
         "gender": "male",
         "race/ethnicity": "group C",
         "parental level of education": "associate's degree",
         "lunch": "standard",
         "test preparation course": "completed",
         "math score": 6.88,
         "reading score": 6.22,
         "writing score": 6.4,
         "GPA": 6.5,
         "_deepnote_index_column": 365
        },
        {
         "names": "Julie Smith",
         "gender": "female",
         "race/ethnicity": "group D",
         "parental level of education": "associate's degree",
         "lunch": "standard",
         "test preparation course": "completed",
         "math score": 6.28,
         "reading score": 6.52,
         "writing score": 6.7,
         "GPA": 6.5,
         "_deepnote_index_column": 1041
        },
        {
         "names": "Ronald Coria",
         "gender": "male",
         "race/ethnicity": "group A",
         "parental level of education": "associate's degree",
         "lunch": "standard",
         "test preparation course": "completed",
         "math score": 6.82,
         "reading score": 6.52,
         "writing score": 6.16,
         "GPA": 6.5,
         "_deepnote_index_column": 611
        },
        {
         "names": "Terri Motley",
         "gender": "female",
         "race/ethnicity": "group D",
         "parental level of education": "some college",
         "lunch": "standard",
         "test preparation course": "completed",
         "math score": 5.92,
         "reading score": 6.82,
         "writing score": 6.76,
         "GPA": 6.5,
         "_deepnote_index_column": 1162
        },
        {
         "names": "Susan Miller",
         "gender": "female",
         "race/ethnicity": "group B",
         "parental level of education": "some college",
         "lunch": "standard",
         "test preparation course": "completed",
         "math score": 6.28,
         "reading score": 6.7,
         "writing score": 6.52,
         "GPA": 6.5,
         "_deepnote_index_column": 1302
        },
        {
         "names": "James Stanley",
         "gender": "male",
         "race/ethnicity": "group C",
         "parental level of education": "some college",
         "lunch": "standard",
         "test preparation course": "completed",
         "math score": 6.88,
         "reading score": 6.16,
         "writing score": 6.4,
         "GPA": 6.4799999999999995,
         "_deepnote_index_column": 948
        },
        {
         "names": "Linda Michael",
         "gender": "female",
         "race/ethnicity": "group D",
         "parental level of education": "some high school",
         "lunch": "standard",
         "test preparation course": "none",
         "math score": 5.86,
         "reading score": 6.82,
         "writing score": 6.76,
         "GPA": 6.4799999999999995,
         "_deepnote_index_column": 513
        },
        {
         "names": "Monica Duggins",
         "gender": "female",
         "race/ethnicity": "group B",
         "parental level of education": "associate's degree",
         "lunch": "standard",
         "test preparation course": "completed",
         "math score": 6.64,
         "reading score": 6.22,
         "writing score": 6.52,
         "GPA": 6.46,
         "_deepnote_index_column": 781
        },
        {
         "names": "Earl Rodriguez",
         "gender": "male",
         "race/ethnicity": "group B",
         "parental level of education": "associate's degree",
         "lunch": "standard",
         "test preparation course": "completed",
         "math score": 6.46,
         "reading score": 6.34,
         "writing score": 6.52,
         "GPA": 6.44,
         "_deepnote_index_column": 212
        },
        {
         "names": "Bette Williams",
         "gender": "female",
         "race/ethnicity": "group B",
         "parental level of education": "associate's degree",
         "lunch": "standard",
         "test preparation course": "completed",
         "math score": 6.4,
         "reading score": 6.4,
         "writing score": 6.46,
         "GPA": 6.420000000000001,
         "_deepnote_index_column": 701
        },
        {
         "names": "Judith Foster",
         "gender": "female",
         "race/ethnicity": "group C",
         "parental level of education": "bachelor's degree",
         "lunch": "standard",
         "test preparation course": "none",
         "math score": 5.98,
         "reading score": 6.58,
         "writing score": 6.7,
         "GPA": 6.420000000000001,
         "_deepnote_index_column": 171
        },
        {
         "names": "Tracy Fowler",
         "gender": "female",
         "race/ethnicity": "group E",
         "parental level of education": "associate's degree",
         "lunch": "standard",
         "test preparation course": "none",
         "math score": 6.04,
         "reading score": 6.7,
         "writing score": 6.52,
         "GPA": 6.419999999999999,
         "_deepnote_index_column": 449
        },
        {
         "names": "Molly House",
         "gender": "female",
         "race/ethnicity": "group C",
         "parental level of education": "some high school",
         "lunch": "standard",
         "test preparation course": "completed",
         "math score": 6.1,
         "reading score": 6.52,
         "writing score": 6.58,
         "GPA": 6.3999999999999995,
         "_deepnote_index_column": 446
        },
        {
         "names": "Sheila Carboni",
         "gender": "female",
         "race/ethnicity": "group C",
         "parental level of education": "associate's degree",
         "lunch": "standard",
         "test preparation course": "none",
         "math score": 6.1,
         "reading score": 6.34,
         "writing score": 6.7,
         "GPA": 6.38,
         "_deepnote_index_column": 995
        },
        {
         "names": "Carmen Simcoe",
         "gender": "female",
         "race/ethnicity": "group D",
         "parental level of education": "some college",
         "lunch": "standard",
         "test preparation course": "completed",
         "math score": 6.1,
         "reading score": 6.16,
         "writing score": 6.88,
         "GPA": 6.38,
         "_deepnote_index_column": 452
        },
        {
         "names": "Wendy Lewis",
         "gender": "female",
         "race/ethnicity": "group B",
         "parental level of education": "high school",
         "lunch": "standard",
         "test preparation course": "none",
         "math score": 6.22,
         "reading score": 6.7,
         "writing score": 6.16,
         "GPA": 6.359999999999999,
         "_deepnote_index_column": 1176
        },
        {
         "names": "Gloria Gambrell",
         "gender": "female",
         "race/ethnicity": "group A",
         "parental level of education": "associate's degree",
         "lunch": "standard",
         "test preparation course": "none",
         "math score": 5.92,
         "reading score": 6.58,
         "writing score": 6.58,
         "GPA": 6.359999999999999,
         "_deepnote_index_column": 932
        },
        {
         "names": "Susan Cook",
         "gender": "female",
         "race/ethnicity": "group C",
         "parental level of education": "associate's degree",
         "lunch": "free/reduced",
         "test preparation course": "completed",
         "math score": 5.92,
         "reading score": 6.58,
         "writing score": 6.58,
         "GPA": 6.359999999999999,
         "_deepnote_index_column": 109
        },
        {
         "names": "Walter Ortiz",
         "gender": "male",
         "race/ethnicity": "group C",
         "parental level of education": "some college",
         "lunch": "standard",
         "test preparation course": "completed",
         "math score": 6.58,
         "reading score": 6.04,
         "writing score": 6.4,
         "GPA": 6.340000000000001,
         "_deepnote_index_column": 366
        },
        {
         "names": "Darryl Ruble",
         "gender": "male",
         "race/ethnicity": "group E",
         "parental level of education": "associate's degree",
         "lunch": "standard",
         "test preparation course": "completed",
         "math score": 6.82,
         "reading score": 5.92,
         "writing score": 6.28,
         "GPA": 6.34,
         "_deepnote_index_column": 95
        },
        {
         "names": "Tanya Macinnes",
         "gender": "female",
         "race/ethnicity": "group A",
         "parental level of education": "some high school",
         "lunch": "standard",
         "test preparation course": "completed",
         "math score": 6.1,
         "reading score": 6.4,
         "writing score": 6.52,
         "GPA": 6.34,
         "_deepnote_index_column": 810
        },
        {
         "names": "Wayne Wilson",
         "gender": "male",
         "race/ethnicity": "group B",
         "parental level of education": "some high school",
         "lunch": "standard",
         "test preparation course": "completed",
         "math score": 6.64,
         "reading score": 6.16,
         "writing score": 6.22,
         "GPA": 6.34,
         "_deepnote_index_column": 7
        },
        {
         "names": "Nicole Nesbitt",
         "gender": "female",
         "race/ethnicity": "group C",
         "parental level of education": "some college",
         "lunch": "standard",
         "test preparation course": "none",
         "math score": 5.92,
         "reading score": 6.4,
         "writing score": 6.64,
         "GPA": 6.32,
         "_deepnote_index_column": 902
        },
        {
         "names": "Anna Cotman",
         "gender": "female",
         "race/ethnicity": "group D",
         "parental level of education": "associate's degree",
         "lunch": "standard",
         "test preparation course": "none",
         "math score": 5.92,
         "reading score": 6.7,
         "writing score": 6.34,
         "GPA": 6.32,
         "_deepnote_index_column": 417
        },
        {
         "names": "Norman Arnold",
         "gender": "male",
         "race/ethnicity": "group E",
         "parental level of education": "some college",
         "lunch": "free/reduced",
         "test preparation course": "none",
         "math score": 6.58,
         "reading score": 6.4,
         "writing score": 5.98,
         "GPA": 6.32,
         "_deepnote_index_column": 128
        },
        {
         "names": "Matthew Demelis",
         "gender": "male",
         "race/ethnicity": "group E",
         "parental level of education": "some college",
         "lunch": "standard",
         "test preparation course": "none",
         "math score": 6.82,
         "reading score": 6.22,
         "writing score": 5.92,
         "GPA": 6.32,
         "_deepnote_index_column": 634
        },
        {
         "names": "Anthony Pedigo",
         "gender": "male",
         "race/ethnicity": "group B",
         "parental level of education": "bachelor's degree",
         "lunch": "free/reduced",
         "test preparation course": "completed",
         "math score": 6.22,
         "reading score": 6.4,
         "writing score": 6.28,
         "GPA": 6.300000000000001,
         "_deepnote_index_column": 1137
        },
        {
         "names": "Julie Tang",
         "gender": "female",
         "race/ethnicity": "group D",
         "parental level of education": "associate's degree",
         "lunch": "standard",
         "test preparation course": "none",
         "math score": 6.1,
         "reading score": 6.46,
         "writing score": 6.34,
         "GPA": 6.3,
         "_deepnote_index_column": 831
        },
        {
         "names": "Marguerite Ramos",
         "gender": "female",
         "race/ethnicity": "group C",
         "parental level of education": "bachelor's degree",
         "lunch": "standard",
         "test preparation course": "none",
         "math score": 6.16,
         "reading score": 6.52,
         "writing score": 6.22,
         "GPA": 6.3,
         "_deepnote_index_column": 495
        },
        {
         "names": "Wanda Hardin",
         "gender": "female",
         "race/ethnicity": "group E",
         "parental level of education": "some college",
         "lunch": "standard",
         "test preparation course": "none",
         "math score": 6.22,
         "reading score": 6.1,
         "writing score": 6.58,
         "GPA": 6.3,
         "_deepnote_index_column": 873
        },
        {
         "names": "Esther Childress",
         "gender": "female",
         "race/ethnicity": "group E",
         "parental level of education": "master's degree",
         "lunch": "standard",
         "test preparation course": "none",
         "math score": 5.86,
         "reading score": 6.52,
         "writing score": 6.46,
         "GPA": 6.28,
         "_deepnote_index_column": 1254
        },
        {
         "names": "Charles Herandez",
         "gender": "male",
         "race/ethnicity": "group D",
         "parental level of education": "master's degree",
         "lunch": "free/reduced",
         "test preparation course": "completed",
         "math score": 6.04,
         "reading score": 6.34,
         "writing score": 6.4,
         "GPA": 6.260000000000001,
         "_deepnote_index_column": 1368
        },
        {
         "names": "Charles Johnson",
         "gender": "male",
         "race/ethnicity": "group C",
         "parental level of education": "high school",
         "lunch": "standard",
         "test preparation course": "none",
         "math score": 6.28,
         "reading score": 6.34,
         "writing score": 6.16,
         "GPA": 6.260000000000001,
         "_deepnote_index_column": 340
        },
        {
         "names": "Larry Mclane",
         "gender": "male",
         "race/ethnicity": "group E",
         "parental level of education": "associate's degree",
         "lunch": "free/reduced",
         "test preparation course": "none",
         "math score": 6.4,
         "reading score": 6.4,
         "writing score": 5.92,
         "GPA": 6.239999999999999,
         "_deepnote_index_column": 756
        },
        {
         "names": "John Echols",
         "gender": "male",
         "race/ethnicity": "group D",
         "parental level of education": "associate's degree",
         "lunch": "standard",
         "test preparation course": "none",
         "math score": 6.4,
         "reading score": 6.22,
         "writing score": 6.1,
         "GPA": 6.239999999999999,
         "_deepnote_index_column": 148
        },
        {
         "names": "Ulrike Davidson",
         "gender": "female",
         "race/ethnicity": "group C",
         "parental level of education": "some college",
         "lunch": "standard",
         "test preparation course": "none",
         "math score": 6.04,
         "reading score": 6.22,
         "writing score": 6.46,
         "GPA": 6.239999999999999,
         "_deepnote_index_column": 213
        },
        {
         "names": "Natalie Turney",
         "gender": "female",
         "race/ethnicity": "group E",
         "parental level of education": "associate's degree",
         "lunch": "standard",
         "test preparation course": "none",
         "math score": 6.1,
         "reading score": 6.52,
         "writing score": 6.1,
         "GPA": 6.239999999999999,
         "_deepnote_index_column": 78
        },
        {
         "names": "Patricia Harrell",
         "gender": "female",
         "race/ethnicity": "group C",
         "parental level of education": "associate's degree",
         "lunch": "standard",
         "test preparation course": "none",
         "math score": 6.46,
         "reading score": 6.16,
         "writing score": 6.04,
         "GPA": 6.22,
         "_deepnote_index_column": 1025
        },
        {
         "names": "Dennis Campbell",
         "gender": "male",
         "race/ethnicity": "group C",
         "parental level of education": "master's degree",
         "lunch": "standard",
         "test preparation course": "completed",
         "math score": 6.46,
         "reading score": 6.1,
         "writing score": 6.1,
         "GPA": 6.219999999999999,
         "_deepnote_index_column": 84
        },
        {
         "names": "Ronald Mason",
         "gender": "male",
         "race/ethnicity": "group E",
         "parental level of education": "associate's degree",
         "lunch": "standard",
         "test preparation course": "completed",
         "math score": 6.64,
         "reading score": 6.1,
         "writing score": 5.92,
         "GPA": 6.219999999999999,
         "_deepnote_index_column": 381
        },
        {
         "names": "Ofelia Evans",
         "gender": "female",
         "race/ethnicity": "group C",
         "parental level of education": "master's degree",
         "lunch": "standard",
         "test preparation course": "completed",
         "math score": 5.86,
         "reading score": 6.46,
         "writing score": 6.22,
         "GPA": 6.18,
         "_deepnote_index_column": 842
        },
        {
         "names": "Jonathan Mitchell",
         "gender": "male",
         "race/ethnicity": "group E",
         "parental level of education": "high school",
         "lunch": "standard",
         "test preparation course": "completed",
         "math score": 6.22,
         "reading score": 6.46,
         "writing score": 5.86,
         "GPA": 6.18,
         "_deepnote_index_column": 1280
        },
        {
         "names": "Larry Maldonado",
         "gender": "male",
         "race/ethnicity": "group E",
         "parental level of education": "master's degree",
         "lunch": "standard",
         "test preparation course": "none",
         "math score": 6.4,
         "reading score": 6.1,
         "writing score": 6.04,
         "GPA": 6.18,
         "_deepnote_index_column": 895
        },
        {
         "names": "Edward Lee",
         "gender": "male",
         "race/ethnicity": "group D",
         "parental level of education": "some high school",
         "lunch": "standard",
         "test preparation course": "completed",
         "math score": 6.34,
         "reading score": 6.28,
         "writing score": 5.92,
         "GPA": 6.18,
         "_deepnote_index_column": 308
        },
        {
         "names": "Timothy Botello",
         "gender": "male",
         "race/ethnicity": "group D",
         "parental level of education": "master's degree",
         "lunch": "standard",
         "test preparation course": "none",
         "math score": 6.1,
         "reading score": 6.04,
         "writing score": 6.34,
         "GPA": 6.16,
         "_deepnote_index_column": 609
        },
        {
         "names": "Kenneth Robertson",
         "gender": "male",
         "race/ethnicity": "group A",
         "parental level of education": "bachelor's degree",
         "lunch": "standard",
         "test preparation course": "completed",
         "math score": 6.22,
         "reading score": 6.04,
         "writing score": 6.22,
         "GPA": 6.16,
         "_deepnote_index_column": 575
        },
        {
         "names": "Jessica Salas",
         "gender": "female",
         "race/ethnicity": "group C",
         "parental level of education": "associate's degree",
         "lunch": "standard",
         "test preparation course": "completed",
         "math score": 5.98,
         "reading score": 6.1,
         "writing score": 6.4,
         "GPA": 6.16,
         "_deepnote_index_column": 916
        },
        {
         "names": "Leon Shipley",
         "gender": "male",
         "race/ethnicity": "group B",
         "parental level of education": "some college",
         "lunch": "standard",
         "test preparation course": "completed",
         "math score": 6.22,
         "reading score": 6.04,
         "writing score": 6.16,
         "GPA": 6.140000000000001,
         "_deepnote_index_column": 100
        },
        {
         "names": "Thelma Yeates",
         "gender": "female",
         "race/ethnicity": "group E",
         "parental level of education": "associate's degree",
         "lunch": "free/reduced",
         "test preparation course": "completed",
         "math score": 5.98,
         "reading score": 6.16,
         "writing score": 6.28,
         "GPA": 6.140000000000001,
         "_deepnote_index_column": 43
        },
        {
         "names": "Gary Hunter",
         "gender": "male",
         "race/ethnicity": "group D",
         "parental level of education": "associate's degree",
         "lunch": "standard",
         "test preparation course": "completed",
         "math score": 6.22,
         "reading score": 6.04,
         "writing score": 6.1,
         "GPA": 6.12,
         "_deepnote_index_column": 649
        },
        {
         "names": "Arlene Calhoun",
         "gender": "female",
         "race/ethnicity": "group C",
         "parental level of education": "some college",
         "lunch": "standard",
         "test preparation course": "none",
         "math score": 5.98,
         "reading score": 5.98,
         "writing score": 6.4,
         "GPA": 6.12,
         "_deepnote_index_column": 208
        },
        {
         "names": "James Hughey",
         "gender": "male",
         "race/ethnicity": "group C",
         "parental level of education": "bachelor's degree",
         "lunch": "standard",
         "test preparation course": "none",
         "math score": 6.16,
         "reading score": 5.98,
         "writing score": 6.16,
         "GPA": 6.1000000000000005,
         "_deepnote_index_column": 767
        },
        {
         "names": "James Crawford",
         "gender": "male",
         "race/ethnicity": "group D",
         "parental level of education": "master's degree",
         "lunch": "standard",
         "test preparation course": "none",
         "math score": 6.34,
         "reading score": 6.04,
         "writing score": 5.92,
         "GPA": 6.099999999999999,
         "_deepnote_index_column": 683
        },
        {
         "names": "Dorothea Martin",
         "gender": "female",
         "race/ethnicity": "group E",
         "parental level of education": "associate's degree",
         "lunch": "standard",
         "test preparation course": "completed",
         "math score": 5.92,
         "reading score": 6.1,
         "writing score": 6.16,
         "GPA": 6.06,
         "_deepnote_index_column": 551
        },
        {
         "names": "Isaiah Massey",
         "gender": "male",
         "race/ethnicity": "group C",
         "parental level of education": "some college",
         "lunch": "standard",
         "test preparation course": "none",
         "math score": 6.04,
         "reading score": 6.22,
         "writing score": 5.86,
         "GPA": 6.04,
         "_deepnote_index_column": 1203
        },
        {
         "names": "Earnest Cole",
         "gender": "male",
         "race/ethnicity": "group D",
         "parental level of education": "some college",
         "lunch": "standard",
         "test preparation course": "completed",
         "math score": 5.92,
         "reading score": 5.92,
         "writing score": 6.28,
         "GPA": 6.04,
         "_deepnote_index_column": 1359
        },
        {
         "names": "David Moss",
         "gender": "male",
         "race/ethnicity": "group D",
         "parental level of education": "some college",
         "lunch": "standard",
         "test preparation course": "completed",
         "math score": 6.1,
         "reading score": 5.86,
         "writing score": 6.1,
         "GPA": 6.0200000000000005,
         "_deepnote_index_column": 265
        },
        {
         "names": "Christopher Martinez",
         "gender": "male",
         "race/ethnicity": "group C",
         "parental level of education": "bachelor's degree",
         "lunch": "standard",
         "test preparation course": "completed",
         "math score": 5.98,
         "reading score": 5.92,
         "writing score": 6.04,
         "GPA": 5.98,
         "_deepnote_index_column": 393
        },
        {
         "names": "Rolando Widmer",
         "gender": "male",
         "race/ethnicity": "group C",
         "parental level of education": "high school",
         "lunch": "standard",
         "test preparation course": "completed",
         "math score": 5.92,
         "reading score": 6.04,
         "writing score": 5.92,
         "GPA": 5.960000000000001,
         "_deepnote_index_column": 949
        },
        {
         "names": "Lucille Stanphill",
         "gender": "female",
         "race/ethnicity": "group C",
         "parental level of education": "high school",
         "lunch": "standard",
         "test preparation course": "none",
         "math score": 5.86,
         "reading score": 6.04,
         "writing score": 5.92,
         "GPA": 5.94,
         "_deepnote_index_column": 296
        },
        {
         "names": "Steven Kelly",
         "gender": "male",
         "race/ethnicity": "group D",
         "parental level of education": "some college",
         "lunch": "standard",
         "test preparation course": "none",
         "math score": 5.86,
         "reading score": 5.92,
         "writing score": 6.04,
         "GPA": 5.94,
         "_deepnote_index_column": 300
        },
        {
         "names": "Peter Perez",
         "gender": "male",
         "race/ethnicity": "group D",
         "parental level of education": "master's degree",
         "lunch": "standard",
         "test preparation course": "none",
         "math score": 5.86,
         "reading score": 5.86,
         "writing score": 6.04,
         "GPA": 5.920000000000001,
         "_deepnote_index_column": 1307
        },
        {
         "names": "Harry Berry",
         "gender": "male",
         "race/ethnicity": "group B",
         "parental level of education": "associate's degree",
         "lunch": "standard",
         "test preparation course": "completed",
         "math score": 5.86,
         "reading score": 5.92,
         "writing score": 5.92,
         "GPA": 5.900000000000001,
         "_deepnote_index_column": 96
        }
       ],
       "rows_bottom": null
      },
      "text/plain": "                  names  gender race/ethnicity parental level of education  \\\n677       Richard Pryor    male        group E           bachelor's degree   \n1352      Sandra Pompey  female        group E          associate's degree   \n384   Elizabeth Beasley  female        group E           bachelor's degree   \n475           Emma Gray  female        group E           bachelor's degree   \n279        Emma Brasher  female        group D            some high school   \n...                 ...     ...            ...                         ...   \n949      Rolando Widmer    male        group C                 high school   \n296   Lucille Stanphill  female        group C                 high school   \n300        Steven Kelly    male        group D                some college   \n1307        Peter Perez    male        group D             master's degree   \n96          Harry Berry    male        group B          associate's degree   \n\n         lunch test preparation course  math score  reading score  \\\n677   standard               completed        7.00           7.00   \n1352  standard                    none        7.00           7.00   \n384   standard                    none        7.00           7.00   \n475   standard               completed        6.94           7.00   \n279   standard               completed        6.82           7.00   \n...        ...                     ...         ...            ...   \n949   standard               completed        5.92           6.04   \n296   standard                    none        5.86           6.04   \n300   standard                    none        5.86           5.92   \n1307  standard                    none        5.86           5.86   \n96    standard               completed        5.86           5.92   \n\n      writing score   GPA  \n677            7.00  7.00  \n1352           7.00  7.00  \n384            7.00  7.00  \n475            7.00  6.98  \n279            7.00  6.94  \n...             ...   ...  \n949            5.92  5.96  \n296            5.92  5.94  \n300            6.04  5.94  \n1307           6.04  5.92  \n96             5.92  5.90  \n\n[94 rows x 10 columns]",
      "text/html": "<div>\n<style scoped>\n    .dataframe tbody tr th:only-of-type {\n        vertical-align: middle;\n    }\n\n    .dataframe tbody tr th {\n        vertical-align: top;\n    }\n\n    .dataframe thead th {\n        text-align: right;\n    }\n</style>\n<table border=\"1\" class=\"dataframe\">\n  <thead>\n    <tr style=\"text-align: right;\">\n      <th></th>\n      <th>names</th>\n      <th>gender</th>\n      <th>race/ethnicity</th>\n      <th>parental level of education</th>\n      <th>lunch</th>\n      <th>test preparation course</th>\n      <th>math score</th>\n      <th>reading score</th>\n      <th>writing score</th>\n      <th>GPA</th>\n    </tr>\n  </thead>\n  <tbody>\n    <tr>\n      <th>677</th>\n      <td>Richard Pryor</td>\n      <td>male</td>\n      <td>group E</td>\n      <td>bachelor's degree</td>\n      <td>standard</td>\n      <td>completed</td>\n      <td>7.00</td>\n      <td>7.00</td>\n      <td>7.00</td>\n      <td>7.00</td>\n    </tr>\n    <tr>\n      <th>1352</th>\n      <td>Sandra Pompey</td>\n      <td>female</td>\n      <td>group E</td>\n      <td>associate's degree</td>\n      <td>standard</td>\n      <td>none</td>\n      <td>7.00</td>\n      <td>7.00</td>\n      <td>7.00</td>\n      <td>7.00</td>\n    </tr>\n    <tr>\n      <th>384</th>\n      <td>Elizabeth Beasley</td>\n      <td>female</td>\n      <td>group E</td>\n      <td>bachelor's degree</td>\n      <td>standard</td>\n      <td>none</td>\n      <td>7.00</td>\n      <td>7.00</td>\n      <td>7.00</td>\n      <td>7.00</td>\n    </tr>\n    <tr>\n      <th>475</th>\n      <td>Emma Gray</td>\n      <td>female</td>\n      <td>group E</td>\n      <td>bachelor's degree</td>\n      <td>standard</td>\n      <td>completed</td>\n      <td>6.94</td>\n      <td>7.00</td>\n      <td>7.00</td>\n      <td>6.98</td>\n    </tr>\n    <tr>\n      <th>279</th>\n      <td>Emma Brasher</td>\n      <td>female</td>\n      <td>group D</td>\n      <td>some high school</td>\n      <td>standard</td>\n      <td>completed</td>\n      <td>6.82</td>\n      <td>7.00</td>\n      <td>7.00</td>\n      <td>6.94</td>\n    </tr>\n    <tr>\n      <th>...</th>\n      <td>...</td>\n      <td>...</td>\n      <td>...</td>\n      <td>...</td>\n      <td>...</td>\n      <td>...</td>\n      <td>...</td>\n      <td>...</td>\n      <td>...</td>\n      <td>...</td>\n    </tr>\n    <tr>\n      <th>949</th>\n      <td>Rolando Widmer</td>\n      <td>male</td>\n      <td>group C</td>\n      <td>high school</td>\n      <td>standard</td>\n      <td>completed</td>\n      <td>5.92</td>\n      <td>6.04</td>\n      <td>5.92</td>\n      <td>5.96</td>\n    </tr>\n    <tr>\n      <th>296</th>\n      <td>Lucille Stanphill</td>\n      <td>female</td>\n      <td>group C</td>\n      <td>high school</td>\n      <td>standard</td>\n      <td>none</td>\n      <td>5.86</td>\n      <td>6.04</td>\n      <td>5.92</td>\n      <td>5.94</td>\n    </tr>\n    <tr>\n      <th>300</th>\n      <td>Steven Kelly</td>\n      <td>male</td>\n      <td>group D</td>\n      <td>some college</td>\n      <td>standard</td>\n      <td>none</td>\n      <td>5.86</td>\n      <td>5.92</td>\n      <td>6.04</td>\n      <td>5.94</td>\n    </tr>\n    <tr>\n      <th>1307</th>\n      <td>Peter Perez</td>\n      <td>male</td>\n      <td>group D</td>\n      <td>master's degree</td>\n      <td>standard</td>\n      <td>none</td>\n      <td>5.86</td>\n      <td>5.86</td>\n      <td>6.04</td>\n      <td>5.92</td>\n    </tr>\n    <tr>\n      <th>96</th>\n      <td>Harry Berry</td>\n      <td>male</td>\n      <td>group B</td>\n      <td>associate's degree</td>\n      <td>standard</td>\n      <td>completed</td>\n      <td>5.86</td>\n      <td>5.92</td>\n      <td>5.92</td>\n      <td>5.90</td>\n    </tr>\n  </tbody>\n</table>\n<p>94 rows × 10 columns</p>\n</div>"
     },
     "metadata": {}
    }
   ]
  },
  {
   "cell_type": "markdown",
   "source": "**Respuesta:**",
   "metadata": {
    "id": "jb9sjfJlwolM",
    "cell_id": "00051-1765b59c-25ca-4dc5-ac88-29805642f748",
    "deepnote_cell_type": "markdown"
   }
  },
  {
   "cell_type": "markdown",
   "source": "```\nSe logra extraer correctamente los DataFrame solicitados, recuperando los alumnos reprobados y destacados en los formatos adecuados.\n\n```",
   "metadata": {
    "id": "vDl7h7JbwrKh",
    "cell_id": "00052-4e2f07e8-ce26-4d48-ba89-4c04132729ca",
    "deepnote_cell_type": "markdown"
   }
  },
  {
   "cell_type": "markdown",
   "source": "### 1.3.4 Consultas de Alumnos [0.5 Puntos]",
   "metadata": {
    "tags": [],
    "cell_id": "00053-c26e032f-9917-4088-ac1d-9ba2983ba419",
    "deepnote_cell_type": "markdown"
   }
  },
  {
   "cell_type": "markdown",
   "source": "Algunos padres (extremadamente entrometidos y...) preocupados por el desempeño de sus hijos, desean saber estos han aprobado o no el año. Como la tarea de buscar a mano cada uno de estos alumnos en el `DataFrame` resulta demasiado tedioso, el rector le solicita crear una función que tenga como entrada el `DataFrame` donde se realizará la busqueda y una lista con los nombres de los alumnos, luego la función deberá retornar un `DataFrame` con los nombres de los alumnos y el promedio general de cada uno. \n\nCreada la función busque el promedio general de los siguientes alumnos en el segundo Data frame creado en la sección 1.3.3:\n\n`['Lucille Stanphill','Marcus Mcfarland', 'Matthew Freeman', 'Dana Mojica', 'Paul Hyder', 'Jeffrey Korn', 'Robert Strain',\n'Ronald Jett', 'Lorena Reed', 'Hazel Posey']`\n\n**Hint:** Puede serle de utilidad utilizar `isin()`.",
   "metadata": {
    "tags": [],
    "cell_id": "00054-265dbcea-43c7-4418-b289-48906d0c1626",
    "deepnote_cell_type": "markdown"
   }
  },
  {
   "cell_type": "markdown",
   "source": "**Respuesta:**",
   "metadata": {
    "tags": [],
    "cell_id": "00055-f296cada-4f15-4a9b-900c-cde55391c32b",
    "deepnote_cell_type": "markdown"
   }
  },
  {
   "cell_type": "code",
   "metadata": {
    "tags": [],
    "deepnote_to_be_reexecuted": false,
    "source_hash": "21f24057",
    "execution_start": 1633016527203,
    "execution_millis": 115,
    "cell_id": "00056-1625f6ad-80ec-45be-9bbb-c08ddd6df2fb",
    "deepnote_cell_type": "code"
   },
   "source": "def consulta_gpa(dataframe_in, lista_alumnos):\n    dataframe1, dataframe2, dataframe3 = reprobados_destacados(df_grades)\n    consulta = dataframe2[['names','GPA']]\n    return consulta[consulta['names'].isin(lista_alumnos)]\n    \n\n\nlista_alumnos = [\n    \"Lucille Stanphill\",\n    \"Marcus Mcfarland\",\n    \"Matthew Freeman\",\n    \"Dana Mojica\",\n    \"Paul Hyder\",\n    \"Jeffrey Korn\",\n    \"Robert Strain\",\n    \"Ronald Jett\",\n    \"Lorena Reed\",\n    \"Hazel Posey\",\n]\nconsulta_gpa(dataframe2, lista_alumnos)",
   "execution_count": null,
   "outputs": [
    {
     "output_type": "execute_result",
     "execution_count": 19,
     "data": {
      "application/vnd.deepnote.dataframe.v2+json": {
       "row_count": 8,
       "column_count": 2,
       "columns": [
        {
         "name": "names",
         "dtype": "object",
         "stats": {
          "unique_count": 8,
          "nan_count": 0,
          "categories": [
           {
            "name": "Lucille Stanphill",
            "count": 1
           },
           {
            "name": "Marcus Mcfarland",
            "count": 1
           },
           {
            "name": "6 others",
            "count": 6
           }
          ]
         }
        },
        {
         "name": "GPA",
         "dtype": "object",
         "stats": {
          "unique_count": 4,
          "nan_count": 0,
          "categories": [
           {
            "name": "R",
            "count": 5
           },
           {
            "name": "5.94",
            "count": 1
           },
           {
            "name": "2 others",
            "count": 2
           }
          ]
         }
        },
        {
         "name": "_deepnote_index_column",
         "dtype": "int64"
        }
       ],
       "rows_top": [
        {
         "names": "Lucille Stanphill",
         "GPA": "5.94",
         "_deepnote_index_column": 296
        },
        {
         "names": "Marcus Mcfarland",
         "GPA": "4.86",
         "_deepnote_index_column": 564
        },
        {
         "names": "Matthew Freeman",
         "GPA": "R",
         "_deepnote_index_column": 637
        },
        {
         "names": "Dana Mojica",
         "GPA": "R",
         "_deepnote_index_column": 640
        },
        {
         "names": "Robert Strain",
         "GPA": "4.4",
         "_deepnote_index_column": 1054
        },
        {
         "names": "Ronald Jett",
         "GPA": "R",
         "_deepnote_index_column": 1065
        },
        {
         "names": "Hazel Posey",
         "GPA": "R",
         "_deepnote_index_column": 1068
        },
        {
         "names": "Lorena Reed",
         "GPA": "R",
         "_deepnote_index_column": 1195
        }
       ],
       "rows_bottom": null
      },
      "text/plain": "                  names   GPA\n296   Lucille Stanphill  5.94\n564    Marcus Mcfarland  4.86\n637     Matthew Freeman     R\n640         Dana Mojica     R\n1054      Robert Strain   4.4\n1065        Ronald Jett     R\n1068        Hazel Posey     R\n1195        Lorena Reed     R",
      "text/html": "<div>\n<style scoped>\n    .dataframe tbody tr th:only-of-type {\n        vertical-align: middle;\n    }\n\n    .dataframe tbody tr th {\n        vertical-align: top;\n    }\n\n    .dataframe thead th {\n        text-align: right;\n    }\n</style>\n<table border=\"1\" class=\"dataframe\">\n  <thead>\n    <tr style=\"text-align: right;\">\n      <th></th>\n      <th>names</th>\n      <th>GPA</th>\n    </tr>\n  </thead>\n  <tbody>\n    <tr>\n      <th>296</th>\n      <td>Lucille Stanphill</td>\n      <td>5.94</td>\n    </tr>\n    <tr>\n      <th>564</th>\n      <td>Marcus Mcfarland</td>\n      <td>4.86</td>\n    </tr>\n    <tr>\n      <th>637</th>\n      <td>Matthew Freeman</td>\n      <td>R</td>\n    </tr>\n    <tr>\n      <th>640</th>\n      <td>Dana Mojica</td>\n      <td>R</td>\n    </tr>\n    <tr>\n      <th>1054</th>\n      <td>Robert Strain</td>\n      <td>4.4</td>\n    </tr>\n    <tr>\n      <th>1065</th>\n      <td>Ronald Jett</td>\n      <td>R</td>\n    </tr>\n    <tr>\n      <th>1068</th>\n      <td>Hazel Posey</td>\n      <td>R</td>\n    </tr>\n    <tr>\n      <th>1195</th>\n      <td>Lorena Reed</td>\n      <td>R</td>\n    </tr>\n  </tbody>\n</table>\n</div>"
     },
     "metadata": {}
    }
   ]
  },
  {
   "cell_type": "markdown",
   "source": "### 1.3.5 Quintiles de Rendimiento [0.5 Puntos]",
   "metadata": {
    "tags": [],
    "cell_id": "00057-ce0783ee-ebbf-47e2-a857-88811fd99f73",
    "deepnote_cell_type": "markdown"
   }
  },
  {
   "cell_type": "markdown",
   "source": "El rector, intrigado por saber si existe una relación entre el nivel educacional de los padres y las notas de sus hijos les plantea estudiar dicha relación. Para esto, les solicita que desde el `DataFrame` que posee a todos los alumnos (`DataFrame` obtenido tras la limpieza), generen una nueva columna que clasifique en quintiles de rendimiento para sus alumnos: `['Bajísimo', 'Bajo', 'Medio', 'Alto', 'Muy alto']`. (investigar `qcut()`)\n\nHecho esto, grafique a través de un scatter plot el nivel educacional de los padres v/s el promedio de los alumnos, utilice los cuantiles generados anteriormente para mostrar en que cuantil se encuentra cada uno de los datos.\n\nRealizado el grafico, responda la siguiente pregunta: **¿Es posible visualizar alguna tendencia en el gráfico?.**\n\n",
   "metadata": {
    "tags": [],
    "cell_id": "00058-f22b06aa-362f-481f-a003-b9e5796120b0",
    "deepnote_cell_type": "markdown"
   }
  },
  {
   "cell_type": "markdown",
   "source": "**Respuesta:**",
   "metadata": {
    "tags": [],
    "cell_id": "00059-9f08f4c4-c59b-443a-83c3-677c0e9be877",
    "deepnote_cell_type": "markdown"
   }
  },
  {
   "cell_type": "code",
   "metadata": {
    "tags": [],
    "deepnote_to_be_reexecuted": false,
    "source_hash": "11db4baf",
    "execution_start": 1633017310405,
    "execution_millis": 141,
    "cell_id": "00061-795d8f8c-5718-4f38-adc1-4a1733bd3ccb",
    "deepnote_cell_type": "code"
   },
   "source": "# Código para quintiles \n# La variable que contenga los quintiles debe llamarse GPA cuantiles para que el gráfico funcione.\ndf_grades[\"GPA cuantiles\"] = pd.qcut(df_grades[\"GPA\"], 5)\n# Código de gráfico \nfig = px.scatter(\n    df_grades.sort_values(by=\"GPA\"),\n    x=\"GPA\",\n    y=\"parental level of education\",\n    hover_data=[\"gender\"],\n    color=\"GPA cuantiles\",\n    title=\"GPA por Nivel de educación de los padres\",\n    color_discrete_sequence=[\"tomato\", \"orange\", \"yellow\", \"greenyellow\", \"green\"]\n)\n\nfig\n",
   "execution_count": null,
   "outputs": [
    {
     "data": {
      "text/html": "<html>\n<head><meta charset=\"utf-8\" /></head>\n<body>\n    <div>            <script src=\"https://cdnjs.cloudflare.com/ajax/libs/mathjax/2.7.5/MathJax.js?config=TeX-AMS-MML_SVG\"></script><script type=\"text/javascript\">if (window.MathJax) {MathJax.Hub.Config({SVG: {font: \"STIX-Web\"}});}</script>                <script type=\"text/javascript\">window.PlotlyConfig = {MathJaxConfig: 'local'};</script>\n        <script src=\"https://cdn.plot.ly/plotly-2.4.2.min.js\"></script>                <div id=\"7862ef5a-5564-4a3c-b9ac-8894820298de\" class=\"plotly-graph-div\" style=\"height:525px; width:100%;\"></div>            <script type=\"text/javascript\">                                    window.PLOTLYENV=window.PLOTLYENV || {};                                    if (document.getElementById(\"7862ef5a-5564-4a3c-b9ac-8894820298de\")) {                    Plotly.newPlot(                        \"7862ef5a-5564-4a3c-b9ac-8894820298de\",                        [{\"customdata\":[[\"female\"],[\"female\"],[\"male\"],[\"male\"],[\"female\"],[\"male\"],[\"female\"],[\"female\"],[\"female\"],[\"male\"],[\"male\"],[\"female\"],[\"female\"],[\"female\"],[\"male\"],[\"female\"],[\"female\"],[\"male\"],[\"female\"],[\"male\"],[\"male\"],[\"male\"],[\"female\"],[\"male\"],[\"male\"],[\"male\"],[\"male\"],[\"male\"],[\"female\"],[\"male\"],[\"female\"],[\"female\"],[\"female\"],[\"female\"],[\"male\"],[\"male\"],[\"female\"],[\"male\"],[\"female\"],[\"female\"],[\"male\"],[\"female\"],[\"male\"],[\"male\"],[\"female\"],[\"male\"],[\"male\"],[\"male\"],[\"female\"],[\"female\"],[\"male\"],[\"male\"],[\"male\"],[\"male\"],[\"male\"],[\"male\"],[\"male\"],[\"female\"],[\"male\"],[\"male\"],[\"male\"],[\"male\"],[\"male\"],[\"male\"],[\"male\"],[\"male\"],[\"male\"],[\"male\"],[\"male\"],[\"male\"],[\"female\"],[\"male\"],[\"female\"],[\"male\"],[\"female\"],[\"male\"],[\"male\"],[\"male\"],[\"male\"],[\"male\"],[\"male\"],[\"female\"],[\"male\"],[\"female\"],[\"male\"],[\"male\"],[\"female\"],[\"female\"],[\"female\"],[\"male\"],[\"female\"],[\"male\"],[\"male\"],[\"female\"],[\"male\"],[\"male\"],[\"male\"],[\"male\"],[\"male\"],[\"female\"],[\"male\"],[\"male\"],[\"male\"],[\"female\"],[\"female\"],[\"male\"],[\"female\"],[\"male\"],[\"male\"],[\"male\"],[\"female\"],[\"male\"],[\"female\"],[\"male\"],[\"male\"],[\"male\"],[\"male\"],[\"female\"],[\"female\"],[\"female\"],[\"male\"],[\"female\"],[\"male\"],[\"female\"],[\"male\"],[\"male\"],[\"male\"],[\"female\"],[\"female\"],[\"female\"],[\"female\"],[\"male\"],[\"female\"],[\"male\"],[\"female\"],[\"male\"],[\"female\"],[\"female\"],[\"female\"],[\"male\"],[\"female\"],[\"female\"],[\"female\"],[\"male\"],[\"male\"],[\"male\"],[\"female\"],[\"female\"],[\"male\"],[\"female\"],[\"male\"],[\"female\"],[\"male\"],[\"female\"],[\"male\"],[\"male\"],[\"male\"],[\"male\"],[\"male\"],[\"female\"],[\"male\"],[\"female\"],[\"male\"],[\"female\"],[\"male\"],[\"male\"],[\"female\"],[\"female\"],[\"male\"],[\"male\"],[\"female\"],[\"male\"],[\"male\"],[\"male\"],[\"female\"],[\"male\"]],\"hovertemplate\":\"GPA cuantiles=(1.5390000000000001, 4.34]<br>GPA=%{x}<br>parental level of education=%{y}<br>gender=%{customdata[0]}<extra></extra>\",\"legendgroup\":\"(1.5390000000000001, 4.34]\",\"marker\":{\"color\":\"tomato\",\"symbol\":\"circle\"},\"mode\":\"markers\",\"name\":\"(1.5390000000000001, 4.34]\",\"orientation\":\"h\",\"showlegend\":true,\"type\":\"scatter\",\"x\":[1.54,2.1,2.3800000000000003,2.4000000000000004,2.56,2.56,2.7600000000000002,2.78,2.78,2.8000000000000003,2.84,2.86,2.8800000000000003,2.9,2.94,3.06,3.08,3.2399999999999998,3.2600000000000002,3.28,3.2999999999999994,3.3200000000000003,3.34,3.36,3.3800000000000003,3.3800000000000003,3.4,3.44,3.44,3.4599999999999995,3.4599999999999995,3.48,3.5399999999999996,3.58,3.6,3.6,3.6,3.6,3.64,3.64,3.66,3.6799999999999997,3.6799999999999997,3.6799999999999997,3.6799999999999997,3.6999999999999997,3.72,3.72,3.7399999999999998,3.76,3.76,3.7600000000000002,3.78,3.78,3.78,3.78,3.78,3.7999999999999994,3.7999999999999994,3.8000000000000003,3.8000000000000003,3.82,3.84,3.84,3.8599999999999994,3.86,3.8799999999999994,3.8800000000000003,3.8800000000000003,3.8800000000000003,3.9,3.9,3.9,3.9,3.92,3.92,3.92,3.9200000000000004,3.94,3.94,3.94,3.94,3.9599999999999995,3.9599999999999995,3.9600000000000004,3.98,4.0,4.0,4.0,4.0,4.02,4.02,4.02,4.0200000000000005,4.0200000000000005,4.0200000000000005,4.0200000000000005,4.04,4.04,4.04,4.06,4.06,4.06,4.06,4.06,4.079999999999999,4.08,4.08,4.08,4.08,4.080000000000001,4.099999999999999,4.1,4.1,4.1000000000000005,4.1000000000000005,4.1000000000000005,4.1000000000000005,4.1000000000000005,4.1000000000000005,4.12,4.12,4.12,4.12,4.14,4.14,4.14,4.140000000000001,4.16,4.16,4.16,4.16,4.16,4.16,4.16,4.18,4.180000000000001,4.2,4.2,4.2,4.2,4.22,4.22,4.22,4.22,4.22,4.239999999999999,4.239999999999999,4.24,4.24,4.240000000000001,4.26,4.260000000000001,4.260000000000001,4.260000000000001,4.28,4.28,4.28,4.28,4.28,4.28,4.28,4.28,4.3,4.300000000000001,4.319999999999999,4.32,4.32,4.32,4.32,4.34,4.34,4.34,4.34,4.34,4.340000000000001],\"xaxis\":\"x\",\"y\":[\"some high school\",\"high school\",\"high school\",\"some college\",\"some high school\",\"some high school\",\"high school\",\"some high school\",\"some college\",\"some college\",\"high school\",\"some high school\",\"some college\",\"associate's degree\",\"high school\",\"high school\",\"some high school\",\"some high school\",\"some high school\",\"some college\",\"high school\",\"high school\",\"bachelor's degree\",\"some high school\",\"some high school\",\"associate's degree\",\"some college\",\"some college\",\"some college\",\"associate's degree\",\"high school\",\"some high school\",\"some high school\",\"some high school\",\"some high school\",\"associate's degree\",\"high school\",\"some high school\",\"some high school\",\"high school\",\"associate's degree\",\"some high school\",\"high school\",\"master's degree\",\"high school\",\"associate's degree\",\"associate's degree\",\"high school\",\"high school\",\"associate's degree\",\"associate's degree\",\"associate's degree\",\"some college\",\"high school\",\"some high school\",\"high school\",\"some college\",\"associate's degree\",\"bachelor's degree\",\"bachelor's degree\",\"high school\",\"high school\",\"some college\",\"some high school\",\"high school\",\"associate's degree\",\"some high school\",\"associate's degree\",\"high school\",\"high school\",\"high school\",\"bachelor's degree\",\"some high school\",\"some high school\",\"associate's degree\",\"some high school\",\"some high school\",\"some high school\",\"high school\",\"high school\",\"high school\",\"some high school\",\"associate's degree\",\"bachelor's degree\",\"associate's degree\",\"high school\",\"high school\",\"some high school\",\"associate's degree\",\"bachelor's degree\",\"bachelor's degree\",\"some college\",\"associate's degree\",\"some college\",\"some college\",\"high school\",\"some college\",\"some college\",\"some college\",\"master's degree\",\"some college\",\"some college\",\"some college\",\"some college\",\"master's degree\",\"master's degree\",\"some high school\",\"high school\",\"associate's degree\",\"high school\",\"some college\",\"high school\",\"associate's degree\",\"associate's degree\",\"associate's degree\",\"high school\",\"some high school\",\"master's degree\",\"associate's degree\",\"some high school\",\"associate's degree\",\"some high school\",\"high school\",\"associate's degree\",\"some college\",\"some high school\",\"some college\",\"high school\",\"high school\",\"associate's degree\",\"high school\",\"high school\",\"high school\",\"high school\",\"some high school\",\"associate's degree\",\"associate's degree\",\"some high school\",\"associate's degree\",\"some high school\",\"associate's degree\",\"associate's degree\",\"associate's degree\",\"high school\",\"bachelor's degree\",\"high school\",\"some high school\",\"associate's degree\",\"high school\",\"some college\",\"some high school\",\"high school\",\"master's degree\",\"high school\",\"some high school\",\"bachelor's degree\",\"some college\",\"some college\",\"high school\",\"associate's degree\",\"associate's degree\",\"high school\",\"high school\",\"high school\",\"some college\",\"high school\",\"bachelor's degree\",\"some high school\",\"associate's degree\",\"bachelor's degree\",\"associate's degree\",\"bachelor's degree\",\"associate's degree\",\"associate's degree\",\"high school\",\"high school\"],\"yaxis\":\"y\"},{\"customdata\":[[\"female\"],[\"male\"],[\"female\"],[\"male\"],[\"female\"],[\"male\"],[\"male\"],[\"male\"],[\"female\"],[\"female\"],[\"female\"],[\"male\"],[\"female\"],[\"female\"],[\"female\"],[\"female\"],[\"male\"],[\"female\"],[\"male\"],[\"male\"],[\"male\"],[\"male\"],[\"male\"],[\"male\"],[\"male\"],[\"female\"],[\"female\"],[\"male\"],[\"male\"],[\"female\"],[\"female\"],[\"female\"],[\"male\"],[\"male\"],[\"male\"],[\"male\"],[\"male\"],[\"male\"],[\"female\"],[\"male\"],[\"female\"],[\"male\"],[\"male\"],[\"male\"],[\"female\"],[\"female\"],[\"male\"],[\"male\"],[\"female\"],[\"male\"],[\"female\"],[\"male\"],[\"female\"],[\"male\"],[\"male\"],[\"male\"],[\"male\"],[\"female\"],[\"female\"],[\"female\"],[\"male\"],[\"female\"],[\"male\"],[\"male\"],[\"female\"],[\"female\"],[\"female\"],[\"female\"],[\"female\"],[\"male\"],[\"male\"],[\"male\"],[\"male\"],[\"female\"],[\"female\"],[\"female\"],[\"male\"],[\"male\"],[\"female\"],[\"male\"],[\"male\"],[\"female\"],[\"female\"],[\"female\"],[\"male\"],[\"male\"],[\"male\"],[\"male\"],[\"male\"],[\"male\"],[\"female\"],[\"male\"],[\"male\"],[\"male\"],[\"male\"],[\"male\"],[\"female\"],[\"female\"],[\"male\"],[\"male\"],[\"female\"],[\"male\"],[\"male\"],[\"female\"],[\"female\"],[\"male\"],[\"male\"],[\"female\"],[\"male\"],[\"male\"],[\"female\"],[\"female\"],[\"female\"],[\"female\"],[\"female\"],[\"female\"],[\"male\"],[\"male\"],[\"male\"],[\"female\"],[\"male\"],[\"male\"],[\"male\"],[\"male\"],[\"male\"],[\"male\"],[\"female\"],[\"female\"],[\"female\"],[\"female\"],[\"female\"],[\"female\"],[\"male\"],[\"male\"],[\"female\"],[\"male\"],[\"male\"],[\"female\"],[\"male\"],[\"male\"],[\"male\"],[\"female\"],[\"male\"],[\"male\"],[\"female\"],[\"male\"],[\"female\"],[\"female\"],[\"male\"],[\"female\"],[\"female\"],[\"male\"],[\"male\"],[\"male\"],[\"female\"],[\"male\"],[\"male\"],[\"female\"],[\"male\"],[\"female\"],[\"female\"],[\"female\"],[\"female\"],[\"male\"],[\"female\"],[\"female\"],[\"female\"],[\"male\"],[\"male\"],[\"female\"],[\"female\"],[\"female\"],[\"male\"],[\"male\"],[\"female\"]],\"hovertemplate\":\"GPA cuantiles=(4.34, 4.9]<br>GPA=%{x}<br>parental level of education=%{y}<br>gender=%{customdata[0]}<extra></extra>\",\"legendgroup\":\"(4.34, 4.9]\",\"marker\":{\"color\":\"orange\",\"symbol\":\"circle\"},\"mode\":\"markers\",\"name\":\"(4.34, 4.9]\",\"orientation\":\"h\",\"showlegend\":true,\"type\":\"scatter\",\"x\":[4.359999999999999,4.359999999999999,4.36,4.36,4.36,4.36,4.36,4.36,4.36,4.38,4.38,4.38,4.38,4.38,4.3999999999999995,4.3999999999999995,4.4,4.419999999999999,4.42,4.42,4.420000000000001,4.44,4.44,4.44,4.44,4.44,4.44,4.44,4.44,4.46,4.46,4.46,4.46,4.46,4.46,4.4799999999999995,4.48,4.5,4.5,4.5,4.5,4.5,4.5,4.5,4.52,4.52,4.52,4.52,4.52,4.5200000000000005,4.5200000000000005,4.5200000000000005,4.5200000000000005,4.54,4.54,4.54,4.54,4.54,4.54,4.54,4.54,4.56,4.56,4.56,4.56,4.579999999999999,4.58,4.58,4.580000000000001,4.6,4.6,4.6,4.6000000000000005,4.6000000000000005,4.6000000000000005,4.6000000000000005,4.62,4.62,4.62,4.62,4.62,4.64,4.64,4.64,4.64,4.64,4.64,4.64,4.659999999999999,4.659999999999999,4.66,4.66,4.66,4.68,4.68,4.68,4.68,4.68,4.680000000000001,4.680000000000001,4.7,4.7,4.7,4.7,4.7,4.7,4.7,4.72,4.72,4.72,4.72,4.72,4.720000000000001,4.739999999999999,4.739999999999999,4.739999999999999,4.739999999999999,4.739999999999999,4.74,4.74,4.76,4.760000000000001,4.760000000000001,4.779999999999999,4.78,4.78,4.78,4.78,4.78,4.8,4.8,4.8,4.8,4.819999999999999,4.819999999999999,4.82,4.82,4.82,4.82,4.84,4.84,4.84,4.84,4.84,4.84,4.84,4.84,4.84,4.859999999999999,4.859999999999999,4.859999999999999,4.86,4.86,4.86,4.86,4.86,4.86,4.86,4.88,4.88,4.88,4.88,4.88,4.88,4.88,4.88,4.88,4.88,4.88,4.8999999999999995,4.8999999999999995,4.8999999999999995,4.8999999999999995,4.8999999999999995,4.8999999999999995],\"xaxis\":\"x\",\"y\":[\"associate's degree\",\"high school\",\"some college\",\"associate's degree\",\"some college\",\"bachelor's degree\",\"high school\",\"associate's degree\",\"bachelor's degree\",\"bachelor's degree\",\"bachelor's degree\",\"some college\",\"some college\",\"some high school\",\"some high school\",\"high school\",\"associate's degree\",\"some college\",\"associate's degree\",\"high school\",\"high school\",\"some college\",\"high school\",\"some high school\",\"high school\",\"high school\",\"master's degree\",\"associate's degree\",\"some college\",\"associate's degree\",\"associate's degree\",\"some high school\",\"some high school\",\"some high school\",\"some high school\",\"some high school\",\"some high school\",\"some high school\",\"some college\",\"associate's degree\",\"bachelor's degree\",\"some college\",\"some college\",\"some college\",\"some high school\",\"associate's degree\",\"high school\",\"high school\",\"some college\",\"some high school\",\"associate's degree\",\"associate's degree\",\"some college\",\"some high school\",\"some high school\",\"some college\",\"some college\",\"some high school\",\"master's degree\",\"some college\",\"associate's degree\",\"some college\",\"associate's degree\",\"some college\",\"master's degree\",\"high school\",\"some high school\",\"high school\",\"bachelor's degree\",\"some college\",\"some college\",\"some high school\",\"high school\",\"high school\",\"some high school\",\"high school\",\"some college\",\"bachelor's degree\",\"bachelor's degree\",\"some college\",\"high school\",\"associate's degree\",\"some high school\",\"master's degree\",\"some college\",\"some college\",\"bachelor's degree\",\"some college\",\"some college\",\"bachelor's degree\",\"some college\",\"master's degree\",\"some high school\",\"some college\",\"associate's degree\",\"some high school\",\"some college\",\"master's degree\",\"some college\",\"bachelor's degree\",\"some college\",\"associate's degree\",\"some high school\",\"some college\",\"master's degree\",\"associate's degree\",\"high school\",\"bachelor's degree\",\"some college\",\"bachelor's degree\",\"some high school\",\"high school\",\"associate's degree\",\"some high school\",\"high school\",\"some college\",\"high school\",\"some college\",\"some college\",\"high school\",\"high school\",\"bachelor's degree\",\"high school\",\"associate's degree\",\"some college\",\"associate's degree\",\"master's degree\",\"some college\",\"high school\",\"high school\",\"master's degree\",\"associate's degree\",\"some high school\",\"some college\",\"some college\",\"some college\",\"high school\",\"high school\",\"associate's degree\",\"some college\",\"bachelor's degree\",\"associate's degree\",\"some high school\",\"associate's degree\",\"some college\",\"high school\",\"high school\",\"some high school\",\"some high school\",\"associate's degree\",\"high school\",\"associate's degree\",\"bachelor's degree\",\"bachelor's degree\",\"master's degree\",\"associate's degree\",\"some high school\",\"master's degree\",\"some high school\",\"high school\",\"bachelor's degree\",\"associate's degree\",\"some college\",\"master's degree\",\"some college\",\"associate's degree\",\"associate's degree\",\"high school\",\"associate's degree\",\"some college\",\"some college\",\"associate's degree\",\"some college\",\"high school\",\"some college\"],\"yaxis\":\"y\"},{\"customdata\":[[\"male\"],[\"female\"],[\"female\"],[\"female\"],[\"male\"],[\"male\"],[\"female\"],[\"male\"],[\"male\"],[\"female\"],[\"male\"],[\"male\"],[\"male\"],[\"female\"],[\"female\"],[\"female\"],[\"male\"],[\"female\"],[\"female\"],[\"female\"],[\"male\"],[\"male\"],[\"female\"],[\"female\"],[\"male\"],[\"female\"],[\"female\"],[\"female\"],[\"male\"],[\"female\"],[\"male\"],[\"male\"],[\"female\"],[\"female\"],[\"male\"],[\"female\"],[\"female\"],[\"female\"],[\"female\"],[\"male\"],[\"female\"],[\"female\"],[\"female\"],[\"male\"],[\"male\"],[\"female\"],[\"male\"],[\"female\"],[\"male\"],[\"male\"],[\"male\"],[\"female\"],[\"female\"],[\"male\"],[\"male\"],[\"male\"],[\"male\"],[\"female\"],[\"male\"],[\"male\"],[\"female\"],[\"female\"],[\"female\"],[\"female\"],[\"male\"],[\"male\"],[\"male\"],[\"male\"],[\"female\"],[\"male\"],[\"female\"],[\"male\"],[\"male\"],[\"female\"],[\"male\"],[\"male\"],[\"male\"],[\"male\"],[\"female\"],[\"male\"],[\"female\"],[\"male\"],[\"male\"],[\"male\"],[\"female\"],[\"female\"],[\"male\"],[\"male\"],[\"female\"],[\"female\"],[\"male\"],[\"female\"],[\"male\"],[\"female\"],[\"female\"],[\"male\"],[\"female\"],[\"female\"],[\"female\"],[\"male\"],[\"female\"],[\"male\"],[\"female\"],[\"male\"],[\"male\"],[\"female\"],[\"male\"],[\"female\"],[\"male\"],[\"male\"],[\"female\"],[\"female\"],[\"female\"],[\"male\"],[\"male\"],[\"male\"],[\"female\"],[\"female\"],[\"male\"],[\"female\"],[\"male\"],[\"female\"],[\"male\"],[\"female\"],[\"female\"],[\"male\"],[\"male\"],[\"male\"],[\"male\"],[\"female\"],[\"female\"],[\"female\"],[\"female\"],[\"female\"],[\"male\"],[\"female\"],[\"male\"],[\"female\"],[\"female\"],[\"female\"],[\"male\"],[\"male\"],[\"female\"],[\"female\"],[\"male\"],[\"male\"],[\"male\"],[\"female\"],[\"male\"],[\"female\"],[\"male\"],[\"female\"],[\"female\"],[\"female\"],[\"male\"],[\"female\"],[\"female\"],[\"female\"],[\"male\"],[\"male\"],[\"male\"],[\"female\"],[\"female\"],[\"female\"],[\"male\"],[\"male\"],[\"male\"],[\"female\"],[\"male\"],[\"male\"],[\"female\"],[\"female\"],[\"male\"],[\"female\"],[\"female\"],[\"female\"],[\"female\"],[\"female\"],[\"male\"],[\"male\"]],\"hovertemplate\":\"GPA cuantiles=(4.9, 5.32]<br>GPA=%{x}<br>parental level of education=%{y}<br>gender=%{customdata[0]}<extra></extra>\",\"legendgroup\":\"(4.9, 5.32]\",\"marker\":{\"color\":\"yellow\",\"symbol\":\"circle\"},\"mode\":\"markers\",\"name\":\"(4.9, 5.32]\",\"orientation\":\"h\",\"showlegend\":true,\"type\":\"scatter\",\"x\":[4.9,4.9,4.919999999999999,4.919999999999999,4.92,4.92,4.92,4.92,4.92,4.92,4.92,4.9399999999999995,4.94,4.94,4.94,4.94,4.94,4.94,4.96,4.96,4.96,4.96,4.96,4.96,4.96,4.96,4.960000000000001,4.9799999999999995,4.9799999999999995,4.9799999999999995,4.9799999999999995,4.98,5.0,5.0,5.0,5.0,5.0,5.0,5.0,5.02,5.02,5.02,5.02,5.02,5.02,5.02,5.02,5.04,5.04,5.04,5.04,5.06,5.06,5.06,5.06,5.06,5.06,5.06,5.079999999999999,5.079999999999999,5.079999999999999,5.079999999999999,5.079999999999999,5.08,5.08,5.08,5.08,5.080000000000001,5.080000000000001,5.080000000000001,5.1,5.1,5.1,5.1000000000000005,5.1000000000000005,5.1000000000000005,5.1000000000000005,5.1000000000000005,5.1000000000000005,5.1000000000000005,5.12,5.12,5.12,5.12,5.12,5.12,5.12,5.12,5.12,5.12,5.12,5.12,5.14,5.14,5.14,5.14,5.14,5.14,5.14,5.140000000000001,5.140000000000001,5.140000000000001,5.140000000000001,5.159999999999999,5.159999999999999,5.159999999999999,5.16,5.16,5.16,5.16,5.16,5.16,5.16,5.18,5.18,5.18,5.18,5.180000000000001,5.199999999999999,5.199999999999999,5.2,5.2,5.2,5.2,5.2,5.2,5.2,5.2,5.2,5.2,5.22,5.22,5.22,5.22,5.22,5.22,5.22,5.22,5.239999999999999,5.239999999999999,5.24,5.24,5.259999999999999,5.259999999999999,5.26,5.26,5.26,5.260000000000001,5.260000000000001,5.260000000000001,5.260000000000001,5.260000000000001,5.260000000000001,5.28,5.28,5.28,5.28,5.28,5.28,5.28,5.28,5.28,5.28,5.3,5.3,5.3,5.3,5.3,5.3,5.300000000000001,5.300000000000001,5.32,5.32,5.32,5.32,5.32,5.32,5.32,5.32,5.32],\"xaxis\":\"x\",\"y\":[\"high school\",\"high school\",\"some college\",\"some college\",\"bachelor's degree\",\"some college\",\"some high school\",\"bachelor's degree\",\"some high school\",\"high school\",\"some high school\",\"associate's degree\",\"some high school\",\"high school\",\"high school\",\"some college\",\"some college\",\"high school\",\"high school\",\"associate's degree\",\"some high school\",\"high school\",\"bachelor's degree\",\"some high school\",\"high school\",\"associate's degree\",\"high school\",\"high school\",\"bachelor's degree\",\"associate's degree\",\"some high school\",\"associate's degree\",\"some high school\",\"some college\",\"bachelor's degree\",\"associate's degree\",\"associate's degree\",\"some college\",\"high school\",\"some college\",\"some high school\",\"high school\",\"bachelor's degree\",\"some college\",\"some college\",\"high school\",\"some high school\",\"bachelor's degree\",\"some high school\",\"high school\",\"associate's degree\",\"bachelor's degree\",\"high school\",\"bachelor's degree\",\"some college\",\"high school\",\"bachelor's degree\",\"some high school\",\"bachelor's degree\",\"bachelor's degree\",\"some college\",\"associate's degree\",\"associate's degree\",\"some high school\",\"high school\",\"some high school\",\"high school\",\"high school\",\"some college\",\"high school\",\"associate's degree\",\"master's degree\",\"some high school\",\"some college\",\"some high school\",\"high school\",\"associate's degree\",\"high school\",\"high school\",\"some college\",\"associate's degree\",\"high school\",\"associate's degree\",\"associate's degree\",\"some college\",\"high school\",\"some college\",\"associate's degree\",\"some high school\",\"some college\",\"bachelor's degree\",\"associate's degree\",\"some high school\",\"bachelor's degree\",\"some college\",\"associate's degree\",\"associate's degree\",\"master's degree\",\"associate's degree\",\"associate's degree\",\"bachelor's degree\",\"high school\",\"some high school\",\"some high school\",\"some high school\",\"high school\",\"some college\",\"associate's degree\",\"some college\",\"associate's degree\",\"bachelor's degree\",\"high school\",\"some college\",\"some high school\",\"high school\",\"high school\",\"associate's degree\",\"associate's degree\",\"some college\",\"some high school\",\"high school\",\"master's degree\",\"bachelor's degree\",\"some college\",\"high school\",\"some high school\",\"high school\",\"some college\",\"master's degree\",\"high school\",\"bachelor's degree\",\"some college\",\"some high school\",\"bachelor's degree\",\"some college\",\"bachelor's degree\",\"high school\",\"associate's degree\",\"some college\",\"master's degree\",\"bachelor's degree\",\"high school\",\"some college\",\"high school\",\"associate's degree\",\"bachelor's degree\",\"some college\",\"bachelor's degree\",\"high school\",\"high school\",\"high school\",\"some college\",\"some college\",\"associate's degree\",\"associate's degree\",\"bachelor's degree\",\"associate's degree\",\"associate's degree\",\"associate's degree\",\"associate's degree\",\"some high school\",\"some high school\",\"bachelor's degree\",\"some high school\",\"high school\",\"high school\",\"associate's degree\",\"some college\",\"some high school\",\"high school\",\"master's degree\",\"some high school\",\"some college\",\"associate's degree\",\"associate's degree\",\"some high school\",\"associate's degree\",\"associate's degree\",\"bachelor's degree\",\"some college\"],\"yaxis\":\"y\"},{\"customdata\":[[\"female\"],[\"female\"],[\"female\"],[\"female\"],[\"female\"],[\"male\"],[\"female\"],[\"male\"],[\"female\"],[\"female\"],[\"female\"],[\"male\"],[\"female\"],[\"female\"],[\"female\"],[\"female\"],[\"female\"],[\"male\"],[\"female\"],[\"female\"],[\"male\"],[\"female\"],[\"male\"],[\"female\"],[\"male\"],[\"male\"],[\"male\"],[\"male\"],[\"male\"],[\"male\"],[\"male\"],[\"male\"],[\"male\"],[\"male\"],[\"female\"],[\"female\"],[\"male\"],[\"male\"],[\"female\"],[\"female\"],[\"female\"],[\"female\"],[\"female\"],[\"male\"],[\"male\"],[\"female\"],[\"female\"],[\"female\"],[\"female\"],[\"female\"],[\"female\"],[\"female\"],[\"male\"],[\"female\"],[\"female\"],[\"female\"],[\"female\"],[\"female\"],[\"female\"],[\"female\"],[\"female\"],[\"male\"],[\"male\"],[\"male\"],[\"female\"],[\"female\"],[\"female\"],[\"male\"],[\"male\"],[\"male\"],[\"male\"],[\"female\"],[\"female\"],[\"female\"],[\"male\"],[\"female\"],[\"female\"],[\"male\"],[\"male\"],[\"female\"],[\"female\"],[\"male\"],[\"female\"],[\"female\"],[\"female\"],[\"male\"],[\"female\"],[\"female\"],[\"female\"],[\"male\"],[\"male\"],[\"female\"],[\"male\"],[\"female\"],[\"female\"],[\"female\"],[\"female\"],[\"male\"],[\"female\"],[\"female\"],[\"male\"],[\"male\"],[\"female\"],[\"male\"],[\"male\"],[\"female\"],[\"female\"],[\"female\"],[\"female\"],[\"female\"],[\"male\"],[\"female\"],[\"female\"],[\"female\"],[\"female\"],[\"male\"],[\"female\"],[\"female\"],[\"female\"],[\"male\"],[\"female\"],[\"female\"],[\"male\"],[\"male\"],[\"female\"],[\"female\"],[\"female\"],[\"male\"],[\"male\"],[\"male\"],[\"male\"],[\"male\"],[\"female\"],[\"male\"],[\"female\"],[\"male\"],[\"male\"],[\"female\"],[\"female\"],[\"female\"],[\"male\"],[\"female\"],[\"female\"],[\"female\"],[\"female\"],[\"female\"],[\"female\"],[\"female\"],[\"female\"],[\"female\"],[\"male\"],[\"male\"],[\"male\"],[\"female\"],[\"male\"],[\"male\"],[\"female\"],[\"female\"],[\"female\"],[\"male\"],[\"female\"],[\"female\"],[\"male\"],[\"female\"],[\"male\"],[\"male\"],[\"male\"],[\"female\"],[\"male\"],[\"female\"],[\"male\"],[\"male\"]],\"hovertemplate\":\"GPA cuantiles=(5.32, 5.78]<br>GPA=%{x}<br>parental level of education=%{y}<br>gender=%{customdata[0]}<extra></extra>\",\"legendgroup\":\"(5.32, 5.78]\",\"marker\":{\"color\":\"greenyellow\",\"symbol\":\"circle\"},\"mode\":\"markers\",\"name\":\"(5.32, 5.78]\",\"orientation\":\"h\",\"showlegend\":true,\"type\":\"scatter\",\"x\":[5.34,5.34,5.34,5.34,5.34,5.34,5.359999999999999,5.359999999999999,5.359999999999999,5.359999999999999,5.359999999999999,5.36,5.36,5.36,5.36,5.38,5.38,5.38,5.38,5.38,5.38,5.38,5.38,5.38,5.38,5.38,5.38,5.3999999999999995,5.3999999999999995,5.3999999999999995,5.3999999999999995,5.3999999999999995,5.400000000000001,5.400000000000001,5.400000000000001,5.400000000000001,5.419999999999999,5.419999999999999,5.420000000000001,5.420000000000001,5.420000000000001,5.44,5.44,5.44,5.44,5.44,5.44,5.46,5.46,5.46,5.46,5.46,5.46,5.46,5.46,5.46,5.460000000000001,5.4799999999999995,5.4799999999999995,5.4799999999999995,5.48,5.48,5.48,5.48,5.5,5.5,5.5,5.5,5.5,5.5,5.5,5.5,5.5,5.52,5.52,5.52,5.5200000000000005,5.5200000000000005,5.5200000000000005,5.539999999999999,5.539999999999999,5.539999999999999,5.539999999999999,5.54,5.54,5.54,5.54,5.54,5.56,5.56,5.56,5.56,5.56,5.56,5.56,5.56,5.56,5.579999999999999,5.579999999999999,5.579999999999999,5.579999999999999,5.579999999999999,5.580000000000001,5.6000000000000005,5.6000000000000005,5.6000000000000005,5.6000000000000005,5.62,5.62,5.62,5.62,5.62,5.62,5.64,5.64,5.64,5.640000000000001,5.640000000000001,5.640000000000001,5.640000000000001,5.640000000000001,5.640000000000001,5.640000000000001,5.640000000000001,5.66,5.66,5.66,5.66,5.68,5.68,5.68,5.68,5.68,5.68,5.68,5.68,5.7,5.7,5.7,5.7,5.7,5.7,5.7,5.7,5.72,5.72,5.72,5.72,5.72,5.72,5.72,5.739999999999999,5.739999999999999,5.739999999999999,5.739999999999999,5.739999999999999,5.739999999999999,5.739999999999999,5.760000000000001,5.760000000000001,5.760000000000001,5.760000000000001,5.760000000000001,5.760000000000001,5.760000000000001,5.760000000000001,5.78,5.78,5.78,5.78,5.78,5.78],\"xaxis\":\"x\",\"y\":[\"associate's degree\",\"some college\",\"some college\",\"some college\",\"associate's degree\",\"high school\",\"some college\",\"master's degree\",\"associate's degree\",\"some college\",\"high school\",\"some high school\",\"high school\",\"bachelor's degree\",\"some high school\",\"high school\",\"bachelor's degree\",\"some high school\",\"some high school\",\"high school\",\"some college\",\"high school\",\"bachelor's degree\",\"bachelor's degree\",\"high school\",\"master's degree\",\"some college\",\"some college\",\"some college\",\"associate's degree\",\"associate's degree\",\"master's degree\",\"some high school\",\"some high school\",\"some high school\",\"some high school\",\"high school\",\"high school\",\"bachelor's degree\",\"bachelor's degree\",\"some college\",\"some college\",\"some high school\",\"bachelor's degree\",\"bachelor's degree\",\"some college\",\"some high school\",\"some college\",\"some college\",\"high school\",\"associate's degree\",\"some college\",\"associate's degree\",\"some college\",\"some college\",\"some college\",\"some college\",\"high school\",\"high school\",\"high school\",\"some high school\",\"associate's degree\",\"some college\",\"associate's degree\",\"associate's degree\",\"bachelor's degree\",\"some high school\",\"associate's degree\",\"bachelor's degree\",\"bachelor's degree\",\"associate's degree\",\"associate's degree\",\"some high school\",\"some college\",\"high school\",\"associate's degree\",\"high school\",\"associate's degree\",\"some college\",\"some college\",\"some college\",\"high school\",\"associate's degree\",\"associate's degree\",\"master's degree\",\"some college\",\"bachelor's degree\",\"high school\",\"associate's degree\",\"some college\",\"associate's degree\",\"some high school\",\"bachelor's degree\",\"some college\",\"some high school\",\"some high school\",\"high school\",\"some college\",\"associate's degree\",\"some college\",\"some high school\",\"some high school\",\"high school\",\"some high school\",\"associate's degree\",\"high school\",\"bachelor's degree\",\"some college\",\"some high school\",\"some high school\",\"some college\",\"some high school\",\"some high school\",\"associate's degree\",\"associate's degree\",\"some high school\",\"some high school\",\"some college\",\"associate's degree\",\"associate's degree\",\"associate's degree\",\"bachelor's degree\",\"associate's degree\",\"associate's degree\",\"some college\",\"bachelor's degree\",\"associate's degree\",\"associate's degree\",\"associate's degree\",\"bachelor's degree\",\"high school\",\"some high school\",\"associate's degree\",\"master's degree\",\"some college\",\"associate's degree\",\"high school\",\"some college\",\"master's degree\",\"associate's degree\",\"high school\",\"some college\",\"high school\",\"some college\",\"some college\",\"some high school\",\"bachelor's degree\",\"some high school\",\"high school\",\"bachelor's degree\",\"some college\",\"some high school\",\"high school\",\"associate's degree\",\"some high school\",\"associate's degree\",\"some college\",\"associate's degree\",\"associate's degree\",\"some high school\",\"master's degree\",\"some high school\",\"high school\",\"associate's degree\",\"master's degree\",\"some college\",\"bachelor's degree\",\"bachelor's degree\",\"some college\",\"bachelor's degree\",\"associate's degree\",\"bachelor's degree\"],\"yaxis\":\"y\"},{\"customdata\":[[\"female\"],[\"female\"],[\"female\"],[\"male\"],[\"male\"],[\"female\"],[\"male\"],[\"male\"],[\"male\"],[\"male\"],[\"female\"],[\"male\"],[\"female\"],[\"female\"],[\"male\"],[\"male\"],[\"female\"],[\"male\"],[\"male\"],[\"female\"],[\"male\"],[\"male\"],[\"male\"],[\"male\"],[\"male\"],[\"male\"],[\"female\"],[\"female\"],[\"female\"],[\"male\"],[\"female\"],[\"male\"],[\"female\"],[\"female\"],[\"male\"],[\"male\"],[\"male\"],[\"female\"],[\"male\"],[\"female\"],[\"male\"],[\"female\"],[\"female\"],[\"male\"],[\"female\"],[\"female\"],[\"female\"],[\"male\"],[\"female\"],[\"male\"],[\"female\"],[\"male\"],[\"female\"],[\"female\"],[\"male\"],[\"female\"],[\"male\"],[\"male\"],[\"male\"],[\"female\"],[\"female\"],[\"female\"],[\"female\"],[\"male\"],[\"male\"],[\"female\"],[\"male\"],[\"female\"],[\"female\"],[\"female\"],[\"female\"],[\"male\"],[\"male\"],[\"male\"],[\"male\"],[\"female\"],[\"female\"],[\"male\"],[\"male\"],[\"female\"],[\"male\"],[\"female\"],[\"female\"],[\"female\"],[\"female\"],[\"female\"],[\"male\"],[\"male\"],[\"male\"],[\"female\"],[\"male\"],[\"male\"],[\"female\"],[\"female\"],[\"male\"],[\"male\"],[\"male\"],[\"female\"],[\"female\"],[\"female\"],[\"female\"],[\"female\"],[\"male\"],[\"male\"],[\"male\"],[\"male\"],[\"female\"],[\"female\"],[\"female\"],[\"female\"],[\"female\"],[\"female\"],[\"male\"],[\"female\"],[\"female\"],[\"female\"],[\"male\"],[\"male\"],[\"male\"],[\"female\"],[\"male\"],[\"male\"],[\"female\"],[\"female\"],[\"female\"],[\"female\"],[\"female\"],[\"female\"],[\"female\"],[\"female\"],[\"female\"],[\"female\"],[\"male\"],[\"female\"],[\"female\"],[\"male\"],[\"male\"],[\"female\"],[\"female\"],[\"female\"],[\"male\"],[\"female\"],[\"female\"],[\"male\"],[\"female\"],[\"male\"],[\"female\"],[\"female\"],[\"male\"],[\"male\"],[\"female\"],[\"male\"],[\"female\"],[\"female\"],[\"female\"],[\"female\"],[\"female\"],[\"female\"],[\"female\"],[\"female\"],[\"female\"],[\"female\"],[\"female\"],[\"male\"],[\"female\"],[\"male\"],[\"female\"],[\"female\"],[\"female\"],[\"female\"],[\"female\"],[\"male\"]],\"hovertemplate\":\"GPA cuantiles=(5.78, 7.0]<br>GPA=%{x}<br>parental level of education=%{y}<br>gender=%{customdata[0]}<extra></extra>\",\"legendgroup\":\"(5.78, 7.0]\",\"marker\":{\"color\":\"green\",\"symbol\":\"circle\"},\"mode\":\"markers\",\"name\":\"(5.78, 7.0]\",\"orientation\":\"h\",\"showlegend\":true,\"type\":\"scatter\",\"x\":[5.8,5.8,5.8,5.82,5.82,5.82,5.82,5.82,5.82,5.82,5.84,5.84,5.84,5.84,5.84,5.84,5.840000000000001,5.859999999999999,5.88,5.88,5.88,5.88,5.8999999999999995,5.8999999999999995,5.900000000000001,5.920000000000001,5.920000000000001,5.94,5.94,5.94,5.94,5.94,5.94,5.94,5.94,5.94,5.94,5.94,5.96,5.96,5.960000000000001,5.960000000000001,5.960000000000001,5.9799999999999995,5.9799999999999995,5.9799999999999995,5.98,5.98,5.98,5.98,5.98,5.98,6.0,6.0,6.0,6.0,6.0,6.0200000000000005,6.0200000000000005,6.039999999999999,6.039999999999999,6.04,6.04,6.04,6.04,6.04,6.04,6.06,6.06,6.080000000000001,6.080000000000001,6.099999999999999,6.099999999999999,6.1000000000000005,6.1000000000000005,6.12,6.12,6.12,6.14,6.14,6.140000000000001,6.140000000000001,6.140000000000001,6.140000000000001,6.16,6.16,6.16,6.16,6.18,6.18,6.18,6.18,6.2,6.2,6.2,6.219999999999999,6.219999999999999,6.22,6.22,6.22,6.239999999999999,6.239999999999999,6.239999999999999,6.239999999999999,6.260000000000001,6.260000000000001,6.28,6.28,6.3,6.3,6.3,6.3,6.300000000000001,6.32,6.32,6.32,6.32,6.32,6.34,6.34,6.34,6.340000000000001,6.359999999999999,6.359999999999999,6.359999999999999,6.36,6.38,6.38,6.3999999999999995,6.419999999999999,6.420000000000001,6.420000000000001,6.44,6.46,6.4799999999999995,6.4799999999999995,6.5,6.5,6.5,6.5,6.5,6.52,6.54,6.56,6.56,6.56,6.6000000000000005,6.6000000000000005,6.62,6.64,6.640000000000001,6.640000000000001,6.640000000000001,6.739999999999999,6.760000000000001,6.78,6.78,6.8,6.82,6.82,6.84,6.859999999999999,6.859999999999999,6.859999999999999,6.919999999999999,6.920000000000001,6.94,6.94,6.98,7.0,7.0,7.0],\"xaxis\":\"x\",\"y\":[\"some college\",\"high school\",\"high school\",\"high school\",\"some high school\",\"some high school\",\"some college\",\"associate's degree\",\"associate's degree\",\"some high school\",\"some high school\",\"high school\",\"bachelor's degree\",\"some high school\",\"some high school\",\"some college\",\"bachelor's degree\",\"associate's degree\",\"associate's degree\",\"some high school\",\"high school\",\"associate's degree\",\"some high school\",\"some college\",\"associate's degree\",\"master's degree\",\"bachelor's degree\",\"some college\",\"some college\",\"some high school\",\"associate's degree\",\"high school\",\"some college\",\"some college\",\"some high school\",\"some high school\",\"some college\",\"high school\",\"some high school\",\"high school\",\"high school\",\"high school\",\"some college\",\"some college\",\"high school\",\"bachelor's degree\",\"associate's degree\",\"bachelor's degree\",\"some college\",\"bachelor's degree\",\"bachelor's degree\",\"associate's degree\",\"master's degree\",\"some high school\",\"some high school\",\"high school\",\"some high school\",\"bachelor's degree\",\"some college\",\"some high school\",\"some high school\",\"associate's degree\",\"some high school\",\"some college\",\"some college\",\"bachelor's degree\",\"associate's degree\",\"associate's degree\",\"associate's degree\",\"some college\",\"some college\",\"high school\",\"master's degree\",\"bachelor's degree\",\"associate's degree\",\"some high school\",\"some college\",\"associate's degree\",\"some high school\",\"associate's degree\",\"some college\",\"bachelor's degree\",\"associate's degree\",\"some college\",\"some college\",\"associate's degree\",\"bachelor's degree\",\"master's degree\",\"some high school\",\"master's degree\",\"master's degree\",\"high school\",\"some high school\",\"bachelor's degree\",\"some high school\",\"associate's degree\",\"master's degree\",\"associate's degree\",\"bachelor's degree\",\"associate's degree\",\"associate's degree\",\"some college\",\"associate's degree\",\"associate's degree\",\"high school\",\"master's degree\",\"master's degree\",\"associate's degree\",\"bachelor's degree\",\"some college\",\"associate's degree\",\"master's degree\",\"bachelor's degree\",\"associate's degree\",\"bachelor's degree\",\"some college\",\"some college\",\"some college\",\"some high school\",\"some high school\",\"associate's degree\",\"some college\",\"associate's degree\",\"high school\",\"associate's degree\",\"master's degree\",\"associate's degree\",\"some college\",\"some high school\",\"associate's degree\",\"associate's degree\",\"bachelor's degree\",\"associate's degree\",\"associate's degree\",\"some high school\",\"some college\",\"associate's degree\",\"some college\",\"some college\",\"associate's degree\",\"associate's degree\",\"associate's degree\",\"some college\",\"some college\",\"master's degree\",\"bachelor's degree\",\"master's degree\",\"associate's degree\",\"associate's degree\",\"associate's degree\",\"high school\",\"some college\",\"master's degree\",\"high school\",\"associate's degree\",\"some college\",\"bachelor's degree\",\"bachelor's degree\",\"associate's degree\",\"bachelor's degree\",\"master's degree\",\"master's degree\",\"bachelor's degree\",\"associate's degree\",\"bachelor's degree\",\"some college\",\"some high school\",\"some college\",\"bachelor's degree\",\"associate's degree\",\"bachelor's degree\",\"bachelor's degree\"],\"yaxis\":\"y\"}],                        {\"legend\":{\"title\":{\"text\":\"GPA cuantiles\"},\"tracegroupgap\":0},\"template\":{\"data\":{\"bar\":[{\"error_x\":{\"color\":\"#2a3f5f\"},\"error_y\":{\"color\":\"#2a3f5f\"},\"marker\":{\"line\":{\"color\":\"#E5ECF6\",\"width\":0.5},\"pattern\":{\"fillmode\":\"overlay\",\"size\":10,\"solidity\":0.2}},\"type\":\"bar\"}],\"barpolar\":[{\"marker\":{\"line\":{\"color\":\"#E5ECF6\",\"width\":0.5},\"pattern\":{\"fillmode\":\"overlay\",\"size\":10,\"solidity\":0.2}},\"type\":\"barpolar\"}],\"carpet\":[{\"aaxis\":{\"endlinecolor\":\"#2a3f5f\",\"gridcolor\":\"white\",\"linecolor\":\"white\",\"minorgridcolor\":\"white\",\"startlinecolor\":\"#2a3f5f\"},\"baxis\":{\"endlinecolor\":\"#2a3f5f\",\"gridcolor\":\"white\",\"linecolor\":\"white\",\"minorgridcolor\":\"white\",\"startlinecolor\":\"#2a3f5f\"},\"type\":\"carpet\"}],\"choropleth\":[{\"colorbar\":{\"outlinewidth\":0,\"ticks\":\"\"},\"type\":\"choropleth\"}],\"contour\":[{\"colorbar\":{\"outlinewidth\":0,\"ticks\":\"\"},\"colorscale\":[[0.0,\"#0d0887\"],[0.1111111111111111,\"#46039f\"],[0.2222222222222222,\"#7201a8\"],[0.3333333333333333,\"#9c179e\"],[0.4444444444444444,\"#bd3786\"],[0.5555555555555556,\"#d8576b\"],[0.6666666666666666,\"#ed7953\"],[0.7777777777777778,\"#fb9f3a\"],[0.8888888888888888,\"#fdca26\"],[1.0,\"#f0f921\"]],\"type\":\"contour\"}],\"contourcarpet\":[{\"colorbar\":{\"outlinewidth\":0,\"ticks\":\"\"},\"type\":\"contourcarpet\"}],\"heatmap\":[{\"colorbar\":{\"outlinewidth\":0,\"ticks\":\"\"},\"colorscale\":[[0.0,\"#0d0887\"],[0.1111111111111111,\"#46039f\"],[0.2222222222222222,\"#7201a8\"],[0.3333333333333333,\"#9c179e\"],[0.4444444444444444,\"#bd3786\"],[0.5555555555555556,\"#d8576b\"],[0.6666666666666666,\"#ed7953\"],[0.7777777777777778,\"#fb9f3a\"],[0.8888888888888888,\"#fdca26\"],[1.0,\"#f0f921\"]],\"type\":\"heatmap\"}],\"heatmapgl\":[{\"colorbar\":{\"outlinewidth\":0,\"ticks\":\"\"},\"colorscale\":[[0.0,\"#0d0887\"],[0.1111111111111111,\"#46039f\"],[0.2222222222222222,\"#7201a8\"],[0.3333333333333333,\"#9c179e\"],[0.4444444444444444,\"#bd3786\"],[0.5555555555555556,\"#d8576b\"],[0.6666666666666666,\"#ed7953\"],[0.7777777777777778,\"#fb9f3a\"],[0.8888888888888888,\"#fdca26\"],[1.0,\"#f0f921\"]],\"type\":\"heatmapgl\"}],\"histogram\":[{\"marker\":{\"pattern\":{\"fillmode\":\"overlay\",\"size\":10,\"solidity\":0.2}},\"type\":\"histogram\"}],\"histogram2d\":[{\"colorbar\":{\"outlinewidth\":0,\"ticks\":\"\"},\"colorscale\":[[0.0,\"#0d0887\"],[0.1111111111111111,\"#46039f\"],[0.2222222222222222,\"#7201a8\"],[0.3333333333333333,\"#9c179e\"],[0.4444444444444444,\"#bd3786\"],[0.5555555555555556,\"#d8576b\"],[0.6666666666666666,\"#ed7953\"],[0.7777777777777778,\"#fb9f3a\"],[0.8888888888888888,\"#fdca26\"],[1.0,\"#f0f921\"]],\"type\":\"histogram2d\"}],\"histogram2dcontour\":[{\"colorbar\":{\"outlinewidth\":0,\"ticks\":\"\"},\"colorscale\":[[0.0,\"#0d0887\"],[0.1111111111111111,\"#46039f\"],[0.2222222222222222,\"#7201a8\"],[0.3333333333333333,\"#9c179e\"],[0.4444444444444444,\"#bd3786\"],[0.5555555555555556,\"#d8576b\"],[0.6666666666666666,\"#ed7953\"],[0.7777777777777778,\"#fb9f3a\"],[0.8888888888888888,\"#fdca26\"],[1.0,\"#f0f921\"]],\"type\":\"histogram2dcontour\"}],\"mesh3d\":[{\"colorbar\":{\"outlinewidth\":0,\"ticks\":\"\"},\"type\":\"mesh3d\"}],\"parcoords\":[{\"line\":{\"colorbar\":{\"outlinewidth\":0,\"ticks\":\"\"}},\"type\":\"parcoords\"}],\"pie\":[{\"automargin\":true,\"type\":\"pie\"}],\"scatter\":[{\"marker\":{\"colorbar\":{\"outlinewidth\":0,\"ticks\":\"\"}},\"type\":\"scatter\"}],\"scatter3d\":[{\"line\":{\"colorbar\":{\"outlinewidth\":0,\"ticks\":\"\"}},\"marker\":{\"colorbar\":{\"outlinewidth\":0,\"ticks\":\"\"}},\"type\":\"scatter3d\"}],\"scattercarpet\":[{\"marker\":{\"colorbar\":{\"outlinewidth\":0,\"ticks\":\"\"}},\"type\":\"scattercarpet\"}],\"scattergeo\":[{\"marker\":{\"colorbar\":{\"outlinewidth\":0,\"ticks\":\"\"}},\"type\":\"scattergeo\"}],\"scattergl\":[{\"marker\":{\"colorbar\":{\"outlinewidth\":0,\"ticks\":\"\"}},\"type\":\"scattergl\"}],\"scattermapbox\":[{\"marker\":{\"colorbar\":{\"outlinewidth\":0,\"ticks\":\"\"}},\"type\":\"scattermapbox\"}],\"scatterpolar\":[{\"marker\":{\"colorbar\":{\"outlinewidth\":0,\"ticks\":\"\"}},\"type\":\"scatterpolar\"}],\"scatterpolargl\":[{\"marker\":{\"colorbar\":{\"outlinewidth\":0,\"ticks\":\"\"}},\"type\":\"scatterpolargl\"}],\"scatterternary\":[{\"marker\":{\"colorbar\":{\"outlinewidth\":0,\"ticks\":\"\"}},\"type\":\"scatterternary\"}],\"surface\":[{\"colorbar\":{\"outlinewidth\":0,\"ticks\":\"\"},\"colorscale\":[[0.0,\"#0d0887\"],[0.1111111111111111,\"#46039f\"],[0.2222222222222222,\"#7201a8\"],[0.3333333333333333,\"#9c179e\"],[0.4444444444444444,\"#bd3786\"],[0.5555555555555556,\"#d8576b\"],[0.6666666666666666,\"#ed7953\"],[0.7777777777777778,\"#fb9f3a\"],[0.8888888888888888,\"#fdca26\"],[1.0,\"#f0f921\"]],\"type\":\"surface\"}],\"table\":[{\"cells\":{\"fill\":{\"color\":\"#EBF0F8\"},\"line\":{\"color\":\"white\"}},\"header\":{\"fill\":{\"color\":\"#C8D4E3\"},\"line\":{\"color\":\"white\"}},\"type\":\"table\"}]},\"layout\":{\"annotationdefaults\":{\"arrowcolor\":\"#2a3f5f\",\"arrowhead\":0,\"arrowwidth\":1},\"autotypenumbers\":\"strict\",\"coloraxis\":{\"colorbar\":{\"outlinewidth\":0,\"ticks\":\"\"}},\"colorscale\":{\"diverging\":[[0,\"#8e0152\"],[0.1,\"#c51b7d\"],[0.2,\"#de77ae\"],[0.3,\"#f1b6da\"],[0.4,\"#fde0ef\"],[0.5,\"#f7f7f7\"],[0.6,\"#e6f5d0\"],[0.7,\"#b8e186\"],[0.8,\"#7fbc41\"],[0.9,\"#4d9221\"],[1,\"#276419\"]],\"sequential\":[[0.0,\"#0d0887\"],[0.1111111111111111,\"#46039f\"],[0.2222222222222222,\"#7201a8\"],[0.3333333333333333,\"#9c179e\"],[0.4444444444444444,\"#bd3786\"],[0.5555555555555556,\"#d8576b\"],[0.6666666666666666,\"#ed7953\"],[0.7777777777777778,\"#fb9f3a\"],[0.8888888888888888,\"#fdca26\"],[1.0,\"#f0f921\"]],\"sequentialminus\":[[0.0,\"#0d0887\"],[0.1111111111111111,\"#46039f\"],[0.2222222222222222,\"#7201a8\"],[0.3333333333333333,\"#9c179e\"],[0.4444444444444444,\"#bd3786\"],[0.5555555555555556,\"#d8576b\"],[0.6666666666666666,\"#ed7953\"],[0.7777777777777778,\"#fb9f3a\"],[0.8888888888888888,\"#fdca26\"],[1.0,\"#f0f921\"]]},\"colorway\":[\"#636efa\",\"#EF553B\",\"#00cc96\",\"#ab63fa\",\"#FFA15A\",\"#19d3f3\",\"#FF6692\",\"#B6E880\",\"#FF97FF\",\"#FECB52\"],\"font\":{\"color\":\"#2a3f5f\"},\"geo\":{\"bgcolor\":\"white\",\"lakecolor\":\"white\",\"landcolor\":\"#E5ECF6\",\"showlakes\":true,\"showland\":true,\"subunitcolor\":\"white\"},\"hoverlabel\":{\"align\":\"left\"},\"hovermode\":\"closest\",\"mapbox\":{\"style\":\"light\"},\"paper_bgcolor\":\"white\",\"plot_bgcolor\":\"#E5ECF6\",\"polar\":{\"angularaxis\":{\"gridcolor\":\"white\",\"linecolor\":\"white\",\"ticks\":\"\"},\"bgcolor\":\"#E5ECF6\",\"radialaxis\":{\"gridcolor\":\"white\",\"linecolor\":\"white\",\"ticks\":\"\"}},\"scene\":{\"xaxis\":{\"backgroundcolor\":\"#E5ECF6\",\"gridcolor\":\"white\",\"gridwidth\":2,\"linecolor\":\"white\",\"showbackground\":true,\"ticks\":\"\",\"zerolinecolor\":\"white\"},\"yaxis\":{\"backgroundcolor\":\"#E5ECF6\",\"gridcolor\":\"white\",\"gridwidth\":2,\"linecolor\":\"white\",\"showbackground\":true,\"ticks\":\"\",\"zerolinecolor\":\"white\"},\"zaxis\":{\"backgroundcolor\":\"#E5ECF6\",\"gridcolor\":\"white\",\"gridwidth\":2,\"linecolor\":\"white\",\"showbackground\":true,\"ticks\":\"\",\"zerolinecolor\":\"white\"}},\"shapedefaults\":{\"line\":{\"color\":\"#2a3f5f\"}},\"ternary\":{\"aaxis\":{\"gridcolor\":\"white\",\"linecolor\":\"white\",\"ticks\":\"\"},\"baxis\":{\"gridcolor\":\"white\",\"linecolor\":\"white\",\"ticks\":\"\"},\"bgcolor\":\"#E5ECF6\",\"caxis\":{\"gridcolor\":\"white\",\"linecolor\":\"white\",\"ticks\":\"\"}},\"title\":{\"x\":0.05},\"xaxis\":{\"automargin\":true,\"gridcolor\":\"white\",\"linecolor\":\"white\",\"ticks\":\"\",\"title\":{\"standoff\":15},\"zerolinecolor\":\"white\",\"zerolinewidth\":2},\"yaxis\":{\"automargin\":true,\"gridcolor\":\"white\",\"linecolor\":\"white\",\"ticks\":\"\",\"title\":{\"standoff\":15},\"zerolinecolor\":\"white\",\"zerolinewidth\":2}}},\"title\":{\"text\":\"GPA por Nivel de educaci\\u00f3n de los padres\"},\"xaxis\":{\"anchor\":\"y\",\"domain\":[0.0,1.0],\"title\":{\"text\":\"GPA\"}},\"yaxis\":{\"anchor\":\"x\",\"domain\":[0.0,1.0],\"title\":{\"text\":\"parental level of education\"}}},                        {\"responsive\": true}                    ).then(function(){\n                            \nvar gd = document.getElementById('7862ef5a-5564-4a3c-b9ac-8894820298de');\nvar x = new MutationObserver(function (mutations, observer) {{\n        var display = window.getComputedStyle(gd).display;\n        if (!display || display === 'none') {{\n            console.log([gd, 'removed!']);\n            Plotly.purge(gd);\n            observer.disconnect();\n        }}\n}});\n\n// Listen for the removal of the full notebook cells\nvar notebookContainer = gd.closest('#notebook-container');\nif (notebookContainer) {{\n    x.observe(notebookContainer, {childList: true});\n}}\n\n// Listen for the clearing of the current output cell\nvar outputEl = gd.closest('.output');\nif (outputEl) {{\n    x.observe(outputEl, {childList: true});\n}}\n\n                        })                };                            </script>        </div>\n</body>\n</html>"
     },
     "metadata": {},
     "output_type": "display_data"
    }
   ]
  },
  {
   "cell_type": "markdown",
   "source": "```\nSe observa que hay mayor dispersión de puntos cuando los padres tienen menor nivel educacional, así como una mayor cantidad de puntos, lo cual es de esperarse debido a que son menos los profesionales que obtienen títulos de prosgrado, en comparación a la educación media. Por otra parte, a mayor nivel educacional de los padres, hay menor cantidad de alumnos en el quintil más bajo (de color rojo).\n```",
   "metadata": {
    "tags": [],
    "cell_id": "00062-ad093927-5bf2-4f2f-bc1d-55aee96cf311",
    "deepnote_cell_type": "markdown"
   }
  },
  {
   "cell_type": "markdown",
   "source": "# Conclusión\nEso ha sido todo para el lab de hoy, recuerden que el laboratorio tiene un plazo de entrega de una semana. Cualquier duda del laboratorio, no duden en contactarnos por mail o U-cursos.\n\n<p align=\"center\">\n  <img src=\"https://media1.tenor.com/images/2f7df460196625edc45b8380d158e5ee/tenor.gif?itemid=16669403\">\n</p>",
   "metadata": {
    "id": "Rg4ZMq8ezAH6",
    "cell_id": "00063-0d54c0f4-3d67-4c1d-92c0-dcc7882faae0",
    "deepnote_cell_type": "markdown"
   }
  },
  {
   "cell_type": "markdown",
   "source": "<br>\n<center>\n<img src=\"https://i.kym-cdn.com/photos/images/original/001/194/195/b18.png\" width=100 height=50 />\n</center>\n<br>",
   "metadata": {
    "id": "wCL1lACBzAH7",
    "cell_id": "00064-230f1ae7-660b-4bae-822a-fee59dada1d1",
    "deepnote_cell_type": "markdown"
   }
  },
  {
   "cell_type": "markdown",
   "source": "<a style='text-decoration:none;line-height:16px;display:flex;color:#5B5B62;padding:10px;justify-content:end;' href='https://deepnote.com?utm_source=created-in-deepnote-cell&projectId=364530e7-b18b-4d22-8339-717889bb418a' target=\"_blank\">\n<img alt='Created in deepnote.com' style='display:inline;max-height:16px;margin:0px;margin-right:7.5px;' src='data:image/svg+xml;base64,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' > </img>\nCreated in <span style='font-weight:600;margin-left:4px;'>Deepnote</span></a>",
   "metadata": {
    "tags": [],
    "created_in_deepnote_cell": true,
    "deepnote_cell_type": "markdown"
   }
  }
 ],
 "nbformat": 4,
 "nbformat_minor": 0,
 "metadata": {
  "kernelspec": {
   "display_name": "Python 3",
   "language": "python",
   "name": "python3"
  },
  "language_info": {
   "codemirror_mode": {
    "name": "ipython",
    "version": 3
   },
   "file_extension": ".py",
   "mimetype": "text/x-python",
   "name": "python",
   "nbconvert_exporter": "python",
   "pygments_lexer": "ipython3",
   "version": "3.8.3"
  },
  "toc": {
   "base_numbering": 1,
   "nav_menu": {},
   "number_sections": true,
   "sideBar": true,
   "skip_h1_title": true,
   "title_cell": "Tabla de Contenidos",
   "title_sidebar": "Contenidos",
   "toc_cell": false,
   "toc_position": {
    "height": "calc(100% - 180px)",
    "left": "10px",
    "top": "150px",
    "width": "241.867px"
   },
   "toc_section_display": true,
   "toc_window_display": true
  },
  "varInspector": {
   "cols": {
    "lenName": 16,
    "lenType": 16,
    "lenVar": 40
   },
   "kernels_config": {
    "python": {
     "delete_cmd_postfix": "",
     "delete_cmd_prefix": "del ",
     "library": "var_list.py",
     "varRefreshCmd": "print(var_dic_list())"
    },
    "r": {
     "delete_cmd_postfix": ") ",
     "delete_cmd_prefix": "rm(",
     "library": "var_list.r",
     "varRefreshCmd": "cat(var_dic_list()) "
    }
   },
   "types_to_exclude": [
    "module",
    "function",
    "builtin_function_or_method",
    "instance",
    "_Feature"
   ],
   "window_display": false
  },
  "colab": {
   "name": "Laboratorio2.ipynb",
   "provenance": [],
   "collapsed_sections": [],
   "toc_visible": true
  },
  "deepnote_notebook_id": "7ce98c1f-486d-455c-8cea-d01f96f5dab9",
  "deepnote": {},
  "deepnote_execution_queue": []
 }
}